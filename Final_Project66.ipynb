{
  "nbformat": 4,
  "nbformat_minor": 0,
  "metadata": {
    "colab": {
      "provenance": [],
      "include_colab_link": true
    },
    "kernelspec": {
      "name": "python3",
      "display_name": "Python 3"
    },
    "language_info": {
      "name": "python"
    }
  },
  "cells": [
    {
      "cell_type": "markdown",
      "metadata": {
        "id": "view-in-github",
        "colab_type": "text"
      },
      "source": [
        "<a href=\"https://colab.research.google.com/github/Praewphat/bsc_dpdm22/blob/main/Final_Project66.ipynb\" target=\"_parent\"><img src=\"https://colab.research.google.com/assets/colab-badge.svg\" alt=\"Open In Colab\"/></a>"
      ]
    },
    {
      "cell_type": "markdown",
      "source": [
        "##Import"
      ],
      "metadata": {
        "id": "1TYbsqgjXQnY"
      }
    },
    {
      "cell_type": "code",
      "execution_count": null,
      "metadata": {
        "id": "AuxAGiVdVlY1"
      },
      "outputs": [],
      "source": [
        "import pandas as pd\n",
        "from google.colab import drive"
      ]
    },
    {
      "cell_type": "code",
      "source": [
        "import os"
      ],
      "metadata": {
        "id": "JQYZFCroZBPS"
      },
      "execution_count": null,
      "outputs": []
    },
    {
      "cell_type": "code",
      "source": [
        "from google.colab import drive\n",
        "drive.mount('/content/drive')"
      ],
      "metadata": {
        "colab": {
          "base_uri": "https://localhost:8080/"
        },
        "id": "Z8thCCe1rfp8",
        "outputId": "84ddb2fa-b4f1-4620-d7f0-beae4f99493e"
      },
      "execution_count": null,
      "outputs": [
        {
          "output_type": "stream",
          "name": "stdout",
          "text": [
            "Mounted at /content/drive\n"
          ]
        }
      ]
    },
    {
      "cell_type": "code",
      "source": [
        "drive.mount('/content/drive')\n",
        "path =  '/content/drive/MyDrive/BPDV65'"
      ],
      "metadata": {
        "colab": {
          "base_uri": "https://localhost:8080/"
        },
        "id": "_C1CzDH0X_Ah",
        "outputId": "831bb5c6-dab4-45b8-f077-1d03c331f2ab"
      },
      "execution_count": null,
      "outputs": [
        {
          "output_type": "stream",
          "name": "stdout",
          "text": [
            "Drive already mounted at /content/drive; to attempt to forcibly remount, call drive.mount(\"/content/drive\", force_remount=True).\n"
          ]
        }
      ]
    },
    {
      "cell_type": "code",
      "source": [
        "data1_train = pd.read_csv(os.path.join(path,'churn-bigml-80.csv')) #Os.path.join = path แต่ละอันไม่เหมือนกัน = เชื่อมต่อกันแบบมีส่วนหน้า,หลัง ; Encoding = ภาษาให้เข้าใจง่าย\n",
        "data2_test = pd.read_csv(os.path.join(path,'churn-bigml-20.csv')) #Os.path.join = path แต่ละอันไม่เหมือนกัน = เชื่อมต่อกันแบบมีส่วนหน้า,หลัง ; Encoding = ภาษาให้เข้าใจง่าย"
      ],
      "metadata": {
        "id": "-osxG2VIYDkA"
      },
      "execution_count": null,
      "outputs": []
    },
    {
      "cell_type": "code",
      "source": [
        "data = pd.concat([data1_train, data2_test], axis=0)"
      ],
      "metadata": {
        "id": "U8D8rJ-3d9ut"
      },
      "execution_count": null,
      "outputs": []
    },
    {
      "cell_type": "markdown",
      "source": [
        "- รวมไฟล์ทั้ง 2 แบบไม่ทำอะไรเลย"
      ],
      "metadata": {
        "id": "iGdmrWm9MPeQ"
      }
    },
    {
      "cell_type": "code",
      "source": [
        "data = data.reset_index(drop=True)\n",
        "data.index = data.index + 1"
      ],
      "metadata": {
        "id": "B8Q2J_IucuEE"
      },
      "execution_count": null,
      "outputs": []
    },
    {
      "cell_type": "markdown",
      "source": [
        "##Data Prepare"
      ],
      "metadata": {
        "id": "099M5hMlXNyW"
      }
    },
    {
      "cell_type": "code",
      "source": [
        "import numpy as np # linear algebra\n",
        "from math import * # module math\n",
        "import matplotlib.pyplot as plt # visualization\n",
        "from PIL import Image\n",
        "import seaborn as sns # visualization\n",
        "import itertools\n",
        "import io\n",
        "import plotly.offline as py # visualization\n",
        "import plotly.graph_objs as go # visualization\n",
        "from plotly.subplots import make_subplots\n",
        "import plotly.figure_factory as ff # visualization\n",
        "import warnings\n",
        "warnings.filterwarnings(\"ignore\")\n",
        "%matplotlib inline"
      ],
      "metadata": {
        "id": "xgnBXZlxmIhT"
      },
      "execution_count": null,
      "outputs": []
    },
    {
      "cell_type": "markdown",
      "source": [
        "##Correlations Plot"
      ],
      "metadata": {
        "id": "vsIsxpSCXWVD"
      }
    },
    {
      "cell_type": "code",
      "source": [
        "#correlation\n",
        "correlation = data.corr()\n",
        "#tick labels\n",
        "matrix_cols = correlation.columns.tolist()\n",
        "#convert to array\n",
        "corr_array = np.array(correlation)\n",
        "\n",
        "#Plotting\n",
        "trace = go.Heatmap(z = corr_array,\n",
        "                   x = matrix_cols,\n",
        "                   y = matrix_cols,\n",
        "                   colorscale = \"Viridis\",\n",
        "                   colorbar = dict(title = \"Pearson Correlation coefficients\", titleside = \"right\"),\n",
        "                  )\n",
        "layout = go.Layout(dict(title = \"Correlation matrix\",\n",
        "                        autosize = False,\n",
        "                        height = 720,\n",
        "                        width = 800,\n",
        "                        margin = dict(r = 0, l = 210, t = 25, b = 210),\n",
        "                        yaxis = dict(tickfont = dict(size = 9)),\n",
        "                        xaxis = dict(tickfont = dict(size = 9))\n",
        "                       )\n",
        "                  )\n",
        "dataplot = [trace]\n",
        "fig = go.Figure(data=dataplot, layout=layout)\n",
        "py.iplot(fig)"
      ],
      "metadata": {
        "colab": {
          "base_uri": "https://localhost:8080/",
          "height": 737
        },
        "id": "-j89QAuiXV9q",
        "outputId": "74698424-793d-4d0d-843f-22f4994753c0"
      },
      "execution_count": null,
      "outputs": [
        {
          "output_type": "display_data",
          "data": {
            "text/html": [
              "<html>\n",
              "<head><meta charset=\"utf-8\" /></head>\n",
              "<body>\n",
              "    <div>            <script src=\"https://cdnjs.cloudflare.com/ajax/libs/mathjax/2.7.5/MathJax.js?config=TeX-AMS-MML_SVG\"></script><script type=\"text/javascript\">if (window.MathJax && window.MathJax.Hub && window.MathJax.Hub.Config) {window.MathJax.Hub.Config({SVG: {font: \"STIX-Web\"}});}</script>                <script type=\"text/javascript\">window.PlotlyConfig = {MathJaxConfig: 'local'};</script>\n",
              "        <script src=\"https://cdn.plot.ly/plotly-2.18.2.min.js\"></script>                <div id=\"6d7ffa8f-ff51-4e5f-aa00-28a2361e47b7\" class=\"plotly-graph-div\" style=\"height:720px; width:800px;\"></div>            <script type=\"text/javascript\">                                    window.PLOTLYENV=window.PLOTLYENV || {};                                    if (document.getElementById(\"6d7ffa8f-ff51-4e5f-aa00-28a2361e47b7\")) {                    Plotly.newPlot(                        \"6d7ffa8f-ff51-4e5f-aa00-28a2361e47b7\",                        [{\"colorbar\":{\"title\":{\"side\":\"right\",\"text\":\"Pearson Correlation coefficients\"}},\"colorscale\":[[0.0,\"#440154\"],[0.1111111111111111,\"#482878\"],[0.2222222222222222,\"#3e4989\"],[0.3333333333333333,\"#31688e\"],[0.4444444444444444,\"#26828e\"],[0.5555555555555556,\"#1f9e89\"],[0.6666666666666666,\"#35b779\"],[0.7777777777777778,\"#6ece58\"],[0.8888888888888888,\"#b5de2b\"],[1.0,\"#fde725\"]],\"x\":[\"Account length\",\"Area code\",\"Number vmail messages\",\"Total day minutes\",\"Total day calls\",\"Total day charge\",\"Total eve minutes\",\"Total eve calls\",\"Total eve charge\",\"Total night minutes\",\"Total night calls\",\"Total night charge\",\"Total intl minutes\",\"Total intl calls\",\"Total intl charge\",\"Customer service calls\",\"Churn\"],\"y\":[\"Account length\",\"Area code\",\"Number vmail messages\",\"Total day minutes\",\"Total day calls\",\"Total day charge\",\"Total eve minutes\",\"Total eve calls\",\"Total eve charge\",\"Total night minutes\",\"Total night calls\",\"Total night charge\",\"Total intl minutes\",\"Total intl calls\",\"Total intl charge\",\"Customer service calls\",\"Churn\"],\"z\":[[1.0,-0.012463496664028578,-0.004627824325108227,0.006216020532194281,0.03846988231670477,0.006214134694388888,-0.006757141994218947,0.01925996700956495,-0.006745301728173134,-0.008955191857065994,-0.013176275129294143,-0.008959534545385294,0.009513902342048394,0.020661428380667517,0.009545674800715975,-0.003795938927046041,0.016540742243674092],[-0.012463496664028578,1.0,-0.0019943700835123035,-0.008264366168389086,-0.009646043977812723,-0.00826444108261078,0.0035803948482152057,-0.01188627078801613,0.0036066902195477186,-0.005824659840635892,0.016522316925722407,-0.005845375742311549,-0.018288168218451577,-0.024178588723814093,-0.018394695992920478,0.02757222567226509,0.006174233160678172],[-0.004627824325108227,-0.0019943700835123035,1.0,0.000778274098700515,-0.009548067661971875,0.0007755234585549905,0.017562034258063738,-0.005864351294292006,0.017577780115722124,0.007681135938935332,0.007123062912801908,0.007663290430631254,0.002856195879589399,0.01395733867180488,0.002883657907770868,-0.013262583062485166,-0.08972796983506433],[0.006216020532194281,-0.008264366168389086,0.000778274098700515,1.0,0.006750413879729634,0.9999999521904008,0.0070425109937776505,0.015768993160328145,0.007029035251564238,0.004323366578518071,0.02297245550654227,0.004300357041792304,-0.010154585571599579,0.008033356952136956,-0.010091974161608279,-0.013423186351805895,0.20515082926139072],[0.03846988231670477,-0.009646043977812723,-0.009548067661971875,0.006750413879729634,1.0,0.006752961967446203,-0.021451407815682586,0.006462113654156914,-0.02144926263514335,0.02293784532486071,-0.019556965357458503,0.02292663775833335,0.021564794329714875,0.004574268228354762,0.02166609515687858,-0.018941930313584366,0.018459311608577007],[0.006214134694388888,-0.00826444108261078,0.0007755234585549905,0.9999999521904008,0.006752961967446203,1.0,0.007049607188445667,0.01576928215225523,0.00703613149512632,0.004323879377027686,0.022972419522033185,0.004300860788641267,-0.010156861586640876,0.008031571971861358,-0.010094257193007808,-0.013426969383537117,0.20515074317015466],[-0.006757141994218947,0.0035803948482152057,0.017562034258063738,0.0070425109937776505,-0.021451407815682586,0.007049607188445667,1.0,-0.011430108165517908,0.9999997760198508,-0.012583677929227339,0.007585643074590798,-0.012592805749304973,-0.011034714405092145,0.0025412917388004477,-0.0110666213132502,-0.012984552867109074,0.09279579031259189],[0.01925996700956495,-0.01188627078801613,-0.005864351294292006,0.015768993160328145,0.006462113654156914,0.01576928215225523,-0.011430108165517908,1.0,-0.011422894273234828,-0.002092768004868057,0.007709705543563772,-0.0020559843069095675,0.008702880654677156,0.01743369206986388,0.008673857642456814,0.0024225746998399983,0.009233131913078299],[-0.006745301728173134,0.0036066902195477186,0.017577780115722124,0.007029035251564238,-0.02144926263514335,0.00703613149512632,0.9999997760198508,-0.011422894273234828,1.0,-0.012592020408875342,0.007595842965837986,-0.012601142055022102,-0.011042581974576686,0.002541458019650715,-0.011074498925597311,-0.01298740692995945,0.09278603942871355],[-0.008955191857065994,-0.005824659840635892,0.007681135938935332,0.004323366578518071,0.02293784532486071,0.004323879377027686,-0.012583677929227339,-0.002092768004868057,-0.012592020408875342,1.0,0.011203856290700075,0.9999992148758784,-0.01520729728274182,-0.012353432385806608,-0.015179849098513623,-0.009287612696798193,0.035492853421274326],[-0.013176275129294143,0.016522316925722407,0.007123062912801908,0.02297245550654227,-0.019556965357458503,0.022972419522033185,0.007585643074590798,0.007709705543563772,0.007595842965837986,0.011203856290700075,1.0,0.011187819717052133,-0.01360499641934361,0.00030457953213115107,-0.013630169606337854,-0.01280192733103718,0.006141203007399601],[-0.008959534545385294,-0.005845375742311549,0.007663290430631254,0.004300357041792304,0.02292663775833335,0.004300860788641267,-0.012592805749304973,-0.0020559843069095675,-0.012601142055022102,0.9999992148758784,0.011187819717052133,1.0,-0.015213525825436832,-0.012329215024732719,-0.015186138565999112,-0.009276953579361704,0.03549555624050662],[0.009513902342048394,-0.018288168218451577,0.002856195879589399,-0.010154585571599579,0.021564794329714875,-0.010156861586640876,-0.011034714405092145,0.008702880654677156,-0.011042581974576686,-0.01520729728274182,-0.01360499641934361,-0.015213525825436832,1.0,0.03230388408942581,0.9999927417510344,-0.009639679589185957,0.06823877562717763],[0.020661428380667517,-0.024178588723814093,0.01395733867180488,0.008033356952136956,0.004574268228354762,0.008031571971861358,0.0025412917388004477,0.01743369206986388,0.002541458019650715,-0.012353432385806608,0.00030457953213115107,-0.012329215024732719,0.03230388408942581,1.0,0.03237214532243441,-0.01756059922428775,-0.052844335774137906],[0.009545674800715975,-0.018394695992920478,0.002883657907770868,-0.010091974161608279,0.02166609515687858,-0.010094257193007808,-0.0110666213132502,0.008673857642456814,-0.011074498925597311,-0.015179849098513623,-0.013630169606337854,-0.015186138565999112,0.9999927417510344,0.03237214532243441,1.0,-0.009674732350291395,0.06825863150391498],[-0.003795938927046041,0.02757222567226509,-0.013262583062485166,-0.013423186351805895,-0.018941930313584366,-0.013426969383537117,-0.012984552867109074,0.0024225746998399983,-0.01298740692995945,-0.009287612696798193,-0.01280192733103718,-0.009276953579361704,-0.009639679589185957,-0.01756059922428775,-0.009674732350291395,1.0,0.2087499987837941],[0.016540742243674092,0.006174233160678172,-0.08972796983506433,0.20515082926139072,0.018459311608577007,0.20515074317015466,0.09279579031259189,0.009233131913078299,0.09278603942871355,0.035492853421274326,0.006141203007399601,0.03549555624050662,0.06823877562717763,-0.052844335774137906,0.06825863150391498,0.2087499987837941,1.0]],\"type\":\"heatmap\"}],                        {\"autosize\":false,\"height\":720,\"margin\":{\"b\":210,\"l\":210,\"r\":0,\"t\":25},\"template\":{\"data\":{\"barpolar\":[{\"marker\":{\"line\":{\"color\":\"#E5ECF6\",\"width\":0.5},\"pattern\":{\"fillmode\":\"overlay\",\"size\":10,\"solidity\":0.2}},\"type\":\"barpolar\"}],\"bar\":[{\"error_x\":{\"color\":\"#2a3f5f\"},\"error_y\":{\"color\":\"#2a3f5f\"},\"marker\":{\"line\":{\"color\":\"#E5ECF6\",\"width\":0.5},\"pattern\":{\"fillmode\":\"overlay\",\"size\":10,\"solidity\":0.2}},\"type\":\"bar\"}],\"carpet\":[{\"aaxis\":{\"endlinecolor\":\"#2a3f5f\",\"gridcolor\":\"white\",\"linecolor\":\"white\",\"minorgridcolor\":\"white\",\"startlinecolor\":\"#2a3f5f\"},\"baxis\":{\"endlinecolor\":\"#2a3f5f\",\"gridcolor\":\"white\",\"linecolor\":\"white\",\"minorgridcolor\":\"white\",\"startlinecolor\":\"#2a3f5f\"},\"type\":\"carpet\"}],\"choropleth\":[{\"colorbar\":{\"outlinewidth\":0,\"ticks\":\"\"},\"type\":\"choropleth\"}],\"contourcarpet\":[{\"colorbar\":{\"outlinewidth\":0,\"ticks\":\"\"},\"type\":\"contourcarpet\"}],\"contour\":[{\"colorbar\":{\"outlinewidth\":0,\"ticks\":\"\"},\"colorscale\":[[0.0,\"#0d0887\"],[0.1111111111111111,\"#46039f\"],[0.2222222222222222,\"#7201a8\"],[0.3333333333333333,\"#9c179e\"],[0.4444444444444444,\"#bd3786\"],[0.5555555555555556,\"#d8576b\"],[0.6666666666666666,\"#ed7953\"],[0.7777777777777778,\"#fb9f3a\"],[0.8888888888888888,\"#fdca26\"],[1.0,\"#f0f921\"]],\"type\":\"contour\"}],\"heatmapgl\":[{\"colorbar\":{\"outlinewidth\":0,\"ticks\":\"\"},\"colorscale\":[[0.0,\"#0d0887\"],[0.1111111111111111,\"#46039f\"],[0.2222222222222222,\"#7201a8\"],[0.3333333333333333,\"#9c179e\"],[0.4444444444444444,\"#bd3786\"],[0.5555555555555556,\"#d8576b\"],[0.6666666666666666,\"#ed7953\"],[0.7777777777777778,\"#fb9f3a\"],[0.8888888888888888,\"#fdca26\"],[1.0,\"#f0f921\"]],\"type\":\"heatmapgl\"}],\"heatmap\":[{\"colorbar\":{\"outlinewidth\":0,\"ticks\":\"\"},\"colorscale\":[[0.0,\"#0d0887\"],[0.1111111111111111,\"#46039f\"],[0.2222222222222222,\"#7201a8\"],[0.3333333333333333,\"#9c179e\"],[0.4444444444444444,\"#bd3786\"],[0.5555555555555556,\"#d8576b\"],[0.6666666666666666,\"#ed7953\"],[0.7777777777777778,\"#fb9f3a\"],[0.8888888888888888,\"#fdca26\"],[1.0,\"#f0f921\"]],\"type\":\"heatmap\"}],\"histogram2dcontour\":[{\"colorbar\":{\"outlinewidth\":0,\"ticks\":\"\"},\"colorscale\":[[0.0,\"#0d0887\"],[0.1111111111111111,\"#46039f\"],[0.2222222222222222,\"#7201a8\"],[0.3333333333333333,\"#9c179e\"],[0.4444444444444444,\"#bd3786\"],[0.5555555555555556,\"#d8576b\"],[0.6666666666666666,\"#ed7953\"],[0.7777777777777778,\"#fb9f3a\"],[0.8888888888888888,\"#fdca26\"],[1.0,\"#f0f921\"]],\"type\":\"histogram2dcontour\"}],\"histogram2d\":[{\"colorbar\":{\"outlinewidth\":0,\"ticks\":\"\"},\"colorscale\":[[0.0,\"#0d0887\"],[0.1111111111111111,\"#46039f\"],[0.2222222222222222,\"#7201a8\"],[0.3333333333333333,\"#9c179e\"],[0.4444444444444444,\"#bd3786\"],[0.5555555555555556,\"#d8576b\"],[0.6666666666666666,\"#ed7953\"],[0.7777777777777778,\"#fb9f3a\"],[0.8888888888888888,\"#fdca26\"],[1.0,\"#f0f921\"]],\"type\":\"histogram2d\"}],\"histogram\":[{\"marker\":{\"pattern\":{\"fillmode\":\"overlay\",\"size\":10,\"solidity\":0.2}},\"type\":\"histogram\"}],\"mesh3d\":[{\"colorbar\":{\"outlinewidth\":0,\"ticks\":\"\"},\"type\":\"mesh3d\"}],\"parcoords\":[{\"line\":{\"colorbar\":{\"outlinewidth\":0,\"ticks\":\"\"}},\"type\":\"parcoords\"}],\"pie\":[{\"automargin\":true,\"type\":\"pie\"}],\"scatter3d\":[{\"line\":{\"colorbar\":{\"outlinewidth\":0,\"ticks\":\"\"}},\"marker\":{\"colorbar\":{\"outlinewidth\":0,\"ticks\":\"\"}},\"type\":\"scatter3d\"}],\"scattercarpet\":[{\"marker\":{\"colorbar\":{\"outlinewidth\":0,\"ticks\":\"\"}},\"type\":\"scattercarpet\"}],\"scattergeo\":[{\"marker\":{\"colorbar\":{\"outlinewidth\":0,\"ticks\":\"\"}},\"type\":\"scattergeo\"}],\"scattergl\":[{\"marker\":{\"colorbar\":{\"outlinewidth\":0,\"ticks\":\"\"}},\"type\":\"scattergl\"}],\"scattermapbox\":[{\"marker\":{\"colorbar\":{\"outlinewidth\":0,\"ticks\":\"\"}},\"type\":\"scattermapbox\"}],\"scatterpolargl\":[{\"marker\":{\"colorbar\":{\"outlinewidth\":0,\"ticks\":\"\"}},\"type\":\"scatterpolargl\"}],\"scatterpolar\":[{\"marker\":{\"colorbar\":{\"outlinewidth\":0,\"ticks\":\"\"}},\"type\":\"scatterpolar\"}],\"scatter\":[{\"fillpattern\":{\"fillmode\":\"overlay\",\"size\":10,\"solidity\":0.2},\"type\":\"scatter\"}],\"scatterternary\":[{\"marker\":{\"colorbar\":{\"outlinewidth\":0,\"ticks\":\"\"}},\"type\":\"scatterternary\"}],\"surface\":[{\"colorbar\":{\"outlinewidth\":0,\"ticks\":\"\"},\"colorscale\":[[0.0,\"#0d0887\"],[0.1111111111111111,\"#46039f\"],[0.2222222222222222,\"#7201a8\"],[0.3333333333333333,\"#9c179e\"],[0.4444444444444444,\"#bd3786\"],[0.5555555555555556,\"#d8576b\"],[0.6666666666666666,\"#ed7953\"],[0.7777777777777778,\"#fb9f3a\"],[0.8888888888888888,\"#fdca26\"],[1.0,\"#f0f921\"]],\"type\":\"surface\"}],\"table\":[{\"cells\":{\"fill\":{\"color\":\"#EBF0F8\"},\"line\":{\"color\":\"white\"}},\"header\":{\"fill\":{\"color\":\"#C8D4E3\"},\"line\":{\"color\":\"white\"}},\"type\":\"table\"}]},\"layout\":{\"annotationdefaults\":{\"arrowcolor\":\"#2a3f5f\",\"arrowhead\":0,\"arrowwidth\":1},\"autotypenumbers\":\"strict\",\"coloraxis\":{\"colorbar\":{\"outlinewidth\":0,\"ticks\":\"\"}},\"colorscale\":{\"diverging\":[[0,\"#8e0152\"],[0.1,\"#c51b7d\"],[0.2,\"#de77ae\"],[0.3,\"#f1b6da\"],[0.4,\"#fde0ef\"],[0.5,\"#f7f7f7\"],[0.6,\"#e6f5d0\"],[0.7,\"#b8e186\"],[0.8,\"#7fbc41\"],[0.9,\"#4d9221\"],[1,\"#276419\"]],\"sequential\":[[0.0,\"#0d0887\"],[0.1111111111111111,\"#46039f\"],[0.2222222222222222,\"#7201a8\"],[0.3333333333333333,\"#9c179e\"],[0.4444444444444444,\"#bd3786\"],[0.5555555555555556,\"#d8576b\"],[0.6666666666666666,\"#ed7953\"],[0.7777777777777778,\"#fb9f3a\"],[0.8888888888888888,\"#fdca26\"],[1.0,\"#f0f921\"]],\"sequentialminus\":[[0.0,\"#0d0887\"],[0.1111111111111111,\"#46039f\"],[0.2222222222222222,\"#7201a8\"],[0.3333333333333333,\"#9c179e\"],[0.4444444444444444,\"#bd3786\"],[0.5555555555555556,\"#d8576b\"],[0.6666666666666666,\"#ed7953\"],[0.7777777777777778,\"#fb9f3a\"],[0.8888888888888888,\"#fdca26\"],[1.0,\"#f0f921\"]]},\"colorway\":[\"#636efa\",\"#EF553B\",\"#00cc96\",\"#ab63fa\",\"#FFA15A\",\"#19d3f3\",\"#FF6692\",\"#B6E880\",\"#FF97FF\",\"#FECB52\"],\"font\":{\"color\":\"#2a3f5f\"},\"geo\":{\"bgcolor\":\"white\",\"lakecolor\":\"white\",\"landcolor\":\"#E5ECF6\",\"showlakes\":true,\"showland\":true,\"subunitcolor\":\"white\"},\"hoverlabel\":{\"align\":\"left\"},\"hovermode\":\"closest\",\"mapbox\":{\"style\":\"light\"},\"paper_bgcolor\":\"white\",\"plot_bgcolor\":\"#E5ECF6\",\"polar\":{\"angularaxis\":{\"gridcolor\":\"white\",\"linecolor\":\"white\",\"ticks\":\"\"},\"bgcolor\":\"#E5ECF6\",\"radialaxis\":{\"gridcolor\":\"white\",\"linecolor\":\"white\",\"ticks\":\"\"}},\"scene\":{\"xaxis\":{\"backgroundcolor\":\"#E5ECF6\",\"gridcolor\":\"white\",\"gridwidth\":2,\"linecolor\":\"white\",\"showbackground\":true,\"ticks\":\"\",\"zerolinecolor\":\"white\"},\"yaxis\":{\"backgroundcolor\":\"#E5ECF6\",\"gridcolor\":\"white\",\"gridwidth\":2,\"linecolor\":\"white\",\"showbackground\":true,\"ticks\":\"\",\"zerolinecolor\":\"white\"},\"zaxis\":{\"backgroundcolor\":\"#E5ECF6\",\"gridcolor\":\"white\",\"gridwidth\":2,\"linecolor\":\"white\",\"showbackground\":true,\"ticks\":\"\",\"zerolinecolor\":\"white\"}},\"shapedefaults\":{\"line\":{\"color\":\"#2a3f5f\"}},\"ternary\":{\"aaxis\":{\"gridcolor\":\"white\",\"linecolor\":\"white\",\"ticks\":\"\"},\"baxis\":{\"gridcolor\":\"white\",\"linecolor\":\"white\",\"ticks\":\"\"},\"bgcolor\":\"#E5ECF6\",\"caxis\":{\"gridcolor\":\"white\",\"linecolor\":\"white\",\"ticks\":\"\"}},\"title\":{\"x\":0.05},\"xaxis\":{\"automargin\":true,\"gridcolor\":\"white\",\"linecolor\":\"white\",\"ticks\":\"\",\"title\":{\"standoff\":15},\"zerolinecolor\":\"white\",\"zerolinewidth\":2},\"yaxis\":{\"automargin\":true,\"gridcolor\":\"white\",\"linecolor\":\"white\",\"ticks\":\"\",\"title\":{\"standoff\":15},\"zerolinecolor\":\"white\",\"zerolinewidth\":2}}},\"title\":{\"text\":\"Correlation matrix\"},\"width\":800,\"xaxis\":{\"tickfont\":{\"size\":9}},\"yaxis\":{\"tickfont\":{\"size\":9}}},                        {\"responsive\": true}                    ).then(function(){\n",
              "                            \n",
              "var gd = document.getElementById('6d7ffa8f-ff51-4e5f-aa00-28a2361e47b7');\n",
              "var x = new MutationObserver(function (mutations, observer) {{\n",
              "        var display = window.getComputedStyle(gd).display;\n",
              "        if (!display || display === 'none') {{\n",
              "            console.log([gd, 'removed!']);\n",
              "            Plotly.purge(gd);\n",
              "            observer.disconnect();\n",
              "        }}\n",
              "}});\n",
              "\n",
              "// Listen for the removal of the full notebook cells\n",
              "var notebookContainer = gd.closest('#notebook-container');\n",
              "if (notebookContainer) {{\n",
              "    x.observe(notebookContainer, {childList: true});\n",
              "}}\n",
              "\n",
              "// Listen for the clearing of the current output cell\n",
              "var outputEl = gd.closest('.output');\n",
              "if (outputEl) {{\n",
              "    x.observe(outputEl, {childList: true});\n",
              "}}\n",
              "\n",
              "                        })                };                            </script>        </div>\n",
              "</body>\n",
              "</html>"
            ]
          },
          "metadata": {}
        }
      ]
    },
    {
      "cell_type": "markdown",
      "source": [
        "###StandardScaler"
      ],
      "metadata": {
        "id": "LG_TjnbeUghZ"
      }
    },
    {
      "cell_type": "code",
      "source": [
        "from sklearn.preprocessing import StandardScaler\n",
        "\n",
        "# Copying original dataframe\n",
        "data1_en_train_SL = data1_train.copy()\n",
        "\n",
        "scaler = StandardScaler()\n",
        "num_cols = ['Total day minutes',\n",
        "       'Total day calls', 'Total day charge', 'Total eve minutes',\n",
        "       'Total eve calls', 'Total eve charge', 'Total night minutes',\n",
        "       'Total night calls', 'Total night charge', 'Total intl minutes',\n",
        "       'Total intl calls', 'Total intl charge',]\n",
        "data1_en_train_SL[num_cols] = scaler.fit_transform(data1_en_train_SL[num_cols])\n",
        "data1_en_train_SL.head()\n",
        "     "
      ],
      "metadata": {
        "colab": {
          "base_uri": "https://localhost:8080/",
          "height": 305
        },
        "id": "4khBLmqqVCwx",
        "outputId": "be0e7375-fd0b-42bf-a742-9fb210fe14e0"
      },
      "execution_count": null,
      "outputs": [
        {
          "output_type": "execute_result",
          "data": {
            "text/plain": [
              "  State  Account length  Area code International plan Voice mail plan  \\\n",
              "0    KS             128        415                 No             Yes   \n",
              "1    OH             107        415                 No             Yes   \n",
              "2    NJ             137        415                 No              No   \n",
              "3    OH              84        408                Yes              No   \n",
              "4    OK              75        415                Yes              No   \n",
              "\n",
              "   Number vmail messages  Total day minutes  Total day calls  \\\n",
              "0                     25           1.579670         0.484868   \n",
              "1                     26          -0.329918         1.135375   \n",
              "2                      0           1.179302         0.685024   \n",
              "3                      0           2.212509        -1.466653   \n",
              "4                      0          -0.235822         0.634985   \n",
              "\n",
              "   Total day charge  Total eve minutes  Total eve calls  Total eve charge  \\\n",
              "0          1.579942          -0.058619        -0.050781         -0.058445   \n",
              "1         -0.330194          -0.095916         0.147654         -0.095397   \n",
              "2          1.179465          -1.554439         0.494917         -1.554963   \n",
              "3          2.212675          -2.718509        -0.596479         -2.718922   \n",
              "4         -0.235772          -1.022461         1.090224         -1.021482   \n",
              "\n",
              "   Total night minutes  Total night calls  Total night charge  \\\n",
              "0             0.857403          -0.469031            0.856707   \n",
              "1             1.048458           0.149054            1.049293   \n",
              "2            -0.759668           0.200561           -0.758391   \n",
              "3            -0.084083          -0.572045           -0.084339   \n",
              "4            -0.281046           1.076181           -0.281303   \n",
              "\n",
              "   Total intl minutes  Total intl calls  Total intl charge  \\\n",
              "0           -0.085020         -0.597527          -0.085681   \n",
              "1            1.242179         -0.597527           1.242921   \n",
              "2            0.704125          0.216894           0.698194   \n",
              "3           -1.304609          1.031314          -1.307995   \n",
              "4           -0.049150         -0.597527          -0.045823   \n",
              "\n",
              "   Customer service calls  Churn  \n",
              "0                       1  False  \n",
              "1                       1  False  \n",
              "2                       0  False  \n",
              "3                       2  False  \n",
              "4                       3  False  "
            ],
            "text/html": [
              "\n",
              "  <div id=\"df-b94a076c-3ab2-4497-a9d1-b4ddf07397da\">\n",
              "    <div class=\"colab-df-container\">\n",
              "      <div>\n",
              "<style scoped>\n",
              "    .dataframe tbody tr th:only-of-type {\n",
              "        vertical-align: middle;\n",
              "    }\n",
              "\n",
              "    .dataframe tbody tr th {\n",
              "        vertical-align: top;\n",
              "    }\n",
              "\n",
              "    .dataframe thead th {\n",
              "        text-align: right;\n",
              "    }\n",
              "</style>\n",
              "<table border=\"1\" class=\"dataframe\">\n",
              "  <thead>\n",
              "    <tr style=\"text-align: right;\">\n",
              "      <th></th>\n",
              "      <th>State</th>\n",
              "      <th>Account length</th>\n",
              "      <th>Area code</th>\n",
              "      <th>International plan</th>\n",
              "      <th>Voice mail plan</th>\n",
              "      <th>Number vmail messages</th>\n",
              "      <th>Total day minutes</th>\n",
              "      <th>Total day calls</th>\n",
              "      <th>Total day charge</th>\n",
              "      <th>Total eve minutes</th>\n",
              "      <th>Total eve calls</th>\n",
              "      <th>Total eve charge</th>\n",
              "      <th>Total night minutes</th>\n",
              "      <th>Total night calls</th>\n",
              "      <th>Total night charge</th>\n",
              "      <th>Total intl minutes</th>\n",
              "      <th>Total intl calls</th>\n",
              "      <th>Total intl charge</th>\n",
              "      <th>Customer service calls</th>\n",
              "      <th>Churn</th>\n",
              "    </tr>\n",
              "  </thead>\n",
              "  <tbody>\n",
              "    <tr>\n",
              "      <th>0</th>\n",
              "      <td>KS</td>\n",
              "      <td>128</td>\n",
              "      <td>415</td>\n",
              "      <td>No</td>\n",
              "      <td>Yes</td>\n",
              "      <td>25</td>\n",
              "      <td>1.579670</td>\n",
              "      <td>0.484868</td>\n",
              "      <td>1.579942</td>\n",
              "      <td>-0.058619</td>\n",
              "      <td>-0.050781</td>\n",
              "      <td>-0.058445</td>\n",
              "      <td>0.857403</td>\n",
              "      <td>-0.469031</td>\n",
              "      <td>0.856707</td>\n",
              "      <td>-0.085020</td>\n",
              "      <td>-0.597527</td>\n",
              "      <td>-0.085681</td>\n",
              "      <td>1</td>\n",
              "      <td>False</td>\n",
              "    </tr>\n",
              "    <tr>\n",
              "      <th>1</th>\n",
              "      <td>OH</td>\n",
              "      <td>107</td>\n",
              "      <td>415</td>\n",
              "      <td>No</td>\n",
              "      <td>Yes</td>\n",
              "      <td>26</td>\n",
              "      <td>-0.329918</td>\n",
              "      <td>1.135375</td>\n",
              "      <td>-0.330194</td>\n",
              "      <td>-0.095916</td>\n",
              "      <td>0.147654</td>\n",
              "      <td>-0.095397</td>\n",
              "      <td>1.048458</td>\n",
              "      <td>0.149054</td>\n",
              "      <td>1.049293</td>\n",
              "      <td>1.242179</td>\n",
              "      <td>-0.597527</td>\n",
              "      <td>1.242921</td>\n",
              "      <td>1</td>\n",
              "      <td>False</td>\n",
              "    </tr>\n",
              "    <tr>\n",
              "      <th>2</th>\n",
              "      <td>NJ</td>\n",
              "      <td>137</td>\n",
              "      <td>415</td>\n",
              "      <td>No</td>\n",
              "      <td>No</td>\n",
              "      <td>0</td>\n",
              "      <td>1.179302</td>\n",
              "      <td>0.685024</td>\n",
              "      <td>1.179465</td>\n",
              "      <td>-1.554439</td>\n",
              "      <td>0.494917</td>\n",
              "      <td>-1.554963</td>\n",
              "      <td>-0.759668</td>\n",
              "      <td>0.200561</td>\n",
              "      <td>-0.758391</td>\n",
              "      <td>0.704125</td>\n",
              "      <td>0.216894</td>\n",
              "      <td>0.698194</td>\n",
              "      <td>0</td>\n",
              "      <td>False</td>\n",
              "    </tr>\n",
              "    <tr>\n",
              "      <th>3</th>\n",
              "      <td>OH</td>\n",
              "      <td>84</td>\n",
              "      <td>408</td>\n",
              "      <td>Yes</td>\n",
              "      <td>No</td>\n",
              "      <td>0</td>\n",
              "      <td>2.212509</td>\n",
              "      <td>-1.466653</td>\n",
              "      <td>2.212675</td>\n",
              "      <td>-2.718509</td>\n",
              "      <td>-0.596479</td>\n",
              "      <td>-2.718922</td>\n",
              "      <td>-0.084083</td>\n",
              "      <td>-0.572045</td>\n",
              "      <td>-0.084339</td>\n",
              "      <td>-1.304609</td>\n",
              "      <td>1.031314</td>\n",
              "      <td>-1.307995</td>\n",
              "      <td>2</td>\n",
              "      <td>False</td>\n",
              "    </tr>\n",
              "    <tr>\n",
              "      <th>4</th>\n",
              "      <td>OK</td>\n",
              "      <td>75</td>\n",
              "      <td>415</td>\n",
              "      <td>Yes</td>\n",
              "      <td>No</td>\n",
              "      <td>0</td>\n",
              "      <td>-0.235822</td>\n",
              "      <td>0.634985</td>\n",
              "      <td>-0.235772</td>\n",
              "      <td>-1.022461</td>\n",
              "      <td>1.090224</td>\n",
              "      <td>-1.021482</td>\n",
              "      <td>-0.281046</td>\n",
              "      <td>1.076181</td>\n",
              "      <td>-0.281303</td>\n",
              "      <td>-0.049150</td>\n",
              "      <td>-0.597527</td>\n",
              "      <td>-0.045823</td>\n",
              "      <td>3</td>\n",
              "      <td>False</td>\n",
              "    </tr>\n",
              "  </tbody>\n",
              "</table>\n",
              "</div>\n",
              "      <button class=\"colab-df-convert\" onclick=\"convertToInteractive('df-b94a076c-3ab2-4497-a9d1-b4ddf07397da')\"\n",
              "              title=\"Convert this dataframe to an interactive table.\"\n",
              "              style=\"display:none;\">\n",
              "        \n",
              "  <svg xmlns=\"http://www.w3.org/2000/svg\" height=\"24px\"viewBox=\"0 0 24 24\"\n",
              "       width=\"24px\">\n",
              "    <path d=\"M0 0h24v24H0V0z\" fill=\"none\"/>\n",
              "    <path d=\"M18.56 5.44l.94 2.06.94-2.06 2.06-.94-2.06-.94-.94-2.06-.94 2.06-2.06.94zm-11 1L8.5 8.5l.94-2.06 2.06-.94-2.06-.94L8.5 2.5l-.94 2.06-2.06.94zm10 10l.94 2.06.94-2.06 2.06-.94-2.06-.94-.94-2.06-.94 2.06-2.06.94z\"/><path d=\"M17.41 7.96l-1.37-1.37c-.4-.4-.92-.59-1.43-.59-.52 0-1.04.2-1.43.59L10.3 9.45l-7.72 7.72c-.78.78-.78 2.05 0 2.83L4 21.41c.39.39.9.59 1.41.59.51 0 1.02-.2 1.41-.59l7.78-7.78 2.81-2.81c.8-.78.8-2.07 0-2.86zM5.41 20L4 18.59l7.72-7.72 1.47 1.35L5.41 20z\"/>\n",
              "  </svg>\n",
              "      </button>\n",
              "      \n",
              "  <style>\n",
              "    .colab-df-container {\n",
              "      display:flex;\n",
              "      flex-wrap:wrap;\n",
              "      gap: 12px;\n",
              "    }\n",
              "\n",
              "    .colab-df-convert {\n",
              "      background-color: #E8F0FE;\n",
              "      border: none;\n",
              "      border-radius: 50%;\n",
              "      cursor: pointer;\n",
              "      display: none;\n",
              "      fill: #1967D2;\n",
              "      height: 32px;\n",
              "      padding: 0 0 0 0;\n",
              "      width: 32px;\n",
              "    }\n",
              "\n",
              "    .colab-df-convert:hover {\n",
              "      background-color: #E2EBFA;\n",
              "      box-shadow: 0px 1px 2px rgba(60, 64, 67, 0.3), 0px 1px 3px 1px rgba(60, 64, 67, 0.15);\n",
              "      fill: #174EA6;\n",
              "    }\n",
              "\n",
              "    [theme=dark] .colab-df-convert {\n",
              "      background-color: #3B4455;\n",
              "      fill: #D2E3FC;\n",
              "    }\n",
              "\n",
              "    [theme=dark] .colab-df-convert:hover {\n",
              "      background-color: #434B5C;\n",
              "      box-shadow: 0px 1px 3px 1px rgba(0, 0, 0, 0.15);\n",
              "      filter: drop-shadow(0px 1px 2px rgba(0, 0, 0, 0.3));\n",
              "      fill: #FFFFFF;\n",
              "    }\n",
              "  </style>\n",
              "\n",
              "      <script>\n",
              "        const buttonEl =\n",
              "          document.querySelector('#df-b94a076c-3ab2-4497-a9d1-b4ddf07397da button.colab-df-convert');\n",
              "        buttonEl.style.display =\n",
              "          google.colab.kernel.accessAllowed ? 'block' : 'none';\n",
              "\n",
              "        async function convertToInteractive(key) {\n",
              "          const element = document.querySelector('#df-b94a076c-3ab2-4497-a9d1-b4ddf07397da');\n",
              "          const dataTable =\n",
              "            await google.colab.kernel.invokeFunction('convertToInteractive',\n",
              "                                                     [key], {});\n",
              "          if (!dataTable) return;\n",
              "\n",
              "          const docLinkHtml = 'Like what you see? Visit the ' +\n",
              "            '<a target=\"_blank\" href=https://colab.research.google.com/notebooks/data_table.ipynb>data table notebook</a>'\n",
              "            + ' to learn more about interactive tables.';\n",
              "          element.innerHTML = '';\n",
              "          dataTable['output_type'] = 'display_data';\n",
              "          await google.colab.output.renderOutput(dataTable, element);\n",
              "          const docLink = document.createElement('div');\n",
              "          docLink.innerHTML = docLinkHtml;\n",
              "          element.appendChild(docLink);\n",
              "        }\n",
              "      </script>\n",
              "    </div>\n",
              "  </div>\n",
              "  "
            ]
          },
          "metadata": {},
          "execution_count": 18
        }
      ]
    },
    {
      "cell_type": "code",
      "source": [
        "from sklearn.preprocessing import StandardScaler\n",
        "\n",
        "# Copying original dataframe\n",
        "data2_en_test_SL = data2_test.copy()\n",
        "\n",
        "scaler = StandardScaler()\n",
        "num_cols = ['Total day minutes',\n",
        "       'Total day calls', 'Total day charge', 'Total eve minutes',\n",
        "       'Total eve calls', 'Total eve charge', 'Total night minutes',\n",
        "       'Total night calls', 'Total night charge', 'Total intl minutes',\n",
        "       'Total intl calls', 'Total intl charge',]\n",
        "data2_en_test_SL[num_cols] = scaler.fit_transform(data2_en_test_SL[num_cols])\n",
        "data2_en_test_SL.head()\n",
        "     "
      ],
      "metadata": {
        "colab": {
          "base_uri": "https://localhost:8080/",
          "height": 305
        },
        "id": "3a-3aL9YWhFy",
        "outputId": "551dc34e-b6b9-4af7-cae6-d159bfd3c599"
      },
      "execution_count": null,
      "outputs": [
        {
          "output_type": "execute_result",
          "data": {
            "text/plain": [
              "  State  Account length  Area code International plan Voice mail plan  \\\n",
              "0    LA             117        408                 No              No   \n",
              "1    IN              65        415                 No              No   \n",
              "2    NY             161        415                 No              No   \n",
              "3    SC             111        415                 No              No   \n",
              "4    HI              49        510                 No              No   \n",
              "\n",
              "   Number vmail messages  Total day minutes  Total day calls  \\\n",
              "0                      0           0.064036        -0.193167   \n",
              "1                      0          -0.934756         1.769398   \n",
              "2                      0           2.739500        -1.665090   \n",
              "3                      0          -1.271894         0.101218   \n",
              "4                      0          -1.111438         0.788115   \n",
              "\n",
              "   Total day charge  Total eve minutes  Total eve calls  Total eve charge  \\\n",
              "0          0.064504           2.983872        -1.081478          2.984789   \n",
              "1         -0.934501           0.506113        -0.923033          0.505504   \n",
              "2          2.739121           2.303545        -0.183625          2.302808   \n",
              "3         -1.271744          -1.329563         0.080450         -1.329688   \n",
              "4         -1.111607           0.236397         0.450154          0.235553   \n",
              "\n",
              "   Total night minutes  Total night calls  Total night charge  \\\n",
              "0             0.324092          -0.501749            0.323581   \n",
              "1             0.183311           0.540053            0.185049   \n",
              "2            -0.786067           1.383417           -0.784675   \n",
              "3            -0.202831           0.242395           -0.203735   \n",
              "4            -0.422048          -0.501749           -0.422705   \n",
              "\n",
              "   Total intl minutes  Total intl calls  Total intl charge  \\\n",
              "0           -0.548297         -0.212747          -0.547714   \n",
              "1            0.877350          0.593516           0.877843   \n",
              "2           -1.724455          1.802910          -1.722480   \n",
              "3           -0.904709          0.593516          -0.904104   \n",
              "4            0.307091         -1.422141           0.310260   \n",
              "\n",
              "   Customer service calls  Churn  \n",
              "0                       1  False  \n",
              "1                       4   True  \n",
              "2                       4   True  \n",
              "3                       2  False  \n",
              "4                       1  False  "
            ],
            "text/html": [
              "\n",
              "  <div id=\"df-788b34c1-335d-444d-a8c2-410f68e66c79\">\n",
              "    <div class=\"colab-df-container\">\n",
              "      <div>\n",
              "<style scoped>\n",
              "    .dataframe tbody tr th:only-of-type {\n",
              "        vertical-align: middle;\n",
              "    }\n",
              "\n",
              "    .dataframe tbody tr th {\n",
              "        vertical-align: top;\n",
              "    }\n",
              "\n",
              "    .dataframe thead th {\n",
              "        text-align: right;\n",
              "    }\n",
              "</style>\n",
              "<table border=\"1\" class=\"dataframe\">\n",
              "  <thead>\n",
              "    <tr style=\"text-align: right;\">\n",
              "      <th></th>\n",
              "      <th>State</th>\n",
              "      <th>Account length</th>\n",
              "      <th>Area code</th>\n",
              "      <th>International plan</th>\n",
              "      <th>Voice mail plan</th>\n",
              "      <th>Number vmail messages</th>\n",
              "      <th>Total day minutes</th>\n",
              "      <th>Total day calls</th>\n",
              "      <th>Total day charge</th>\n",
              "      <th>Total eve minutes</th>\n",
              "      <th>Total eve calls</th>\n",
              "      <th>Total eve charge</th>\n",
              "      <th>Total night minutes</th>\n",
              "      <th>Total night calls</th>\n",
              "      <th>Total night charge</th>\n",
              "      <th>Total intl minutes</th>\n",
              "      <th>Total intl calls</th>\n",
              "      <th>Total intl charge</th>\n",
              "      <th>Customer service calls</th>\n",
              "      <th>Churn</th>\n",
              "    </tr>\n",
              "  </thead>\n",
              "  <tbody>\n",
              "    <tr>\n",
              "      <th>0</th>\n",
              "      <td>LA</td>\n",
              "      <td>117</td>\n",
              "      <td>408</td>\n",
              "      <td>No</td>\n",
              "      <td>No</td>\n",
              "      <td>0</td>\n",
              "      <td>0.064036</td>\n",
              "      <td>-0.193167</td>\n",
              "      <td>0.064504</td>\n",
              "      <td>2.983872</td>\n",
              "      <td>-1.081478</td>\n",
              "      <td>2.984789</td>\n",
              "      <td>0.324092</td>\n",
              "      <td>-0.501749</td>\n",
              "      <td>0.323581</td>\n",
              "      <td>-0.548297</td>\n",
              "      <td>-0.212747</td>\n",
              "      <td>-0.547714</td>\n",
              "      <td>1</td>\n",
              "      <td>False</td>\n",
              "    </tr>\n",
              "    <tr>\n",
              "      <th>1</th>\n",
              "      <td>IN</td>\n",
              "      <td>65</td>\n",
              "      <td>415</td>\n",
              "      <td>No</td>\n",
              "      <td>No</td>\n",
              "      <td>0</td>\n",
              "      <td>-0.934756</td>\n",
              "      <td>1.769398</td>\n",
              "      <td>-0.934501</td>\n",
              "      <td>0.506113</td>\n",
              "      <td>-0.923033</td>\n",
              "      <td>0.505504</td>\n",
              "      <td>0.183311</td>\n",
              "      <td>0.540053</td>\n",
              "      <td>0.185049</td>\n",
              "      <td>0.877350</td>\n",
              "      <td>0.593516</td>\n",
              "      <td>0.877843</td>\n",
              "      <td>4</td>\n",
              "      <td>True</td>\n",
              "    </tr>\n",
              "    <tr>\n",
              "      <th>2</th>\n",
              "      <td>NY</td>\n",
              "      <td>161</td>\n",
              "      <td>415</td>\n",
              "      <td>No</td>\n",
              "      <td>No</td>\n",
              "      <td>0</td>\n",
              "      <td>2.739500</td>\n",
              "      <td>-1.665090</td>\n",
              "      <td>2.739121</td>\n",
              "      <td>2.303545</td>\n",
              "      <td>-0.183625</td>\n",
              "      <td>2.302808</td>\n",
              "      <td>-0.786067</td>\n",
              "      <td>1.383417</td>\n",
              "      <td>-0.784675</td>\n",
              "      <td>-1.724455</td>\n",
              "      <td>1.802910</td>\n",
              "      <td>-1.722480</td>\n",
              "      <td>4</td>\n",
              "      <td>True</td>\n",
              "    </tr>\n",
              "    <tr>\n",
              "      <th>3</th>\n",
              "      <td>SC</td>\n",
              "      <td>111</td>\n",
              "      <td>415</td>\n",
              "      <td>No</td>\n",
              "      <td>No</td>\n",
              "      <td>0</td>\n",
              "      <td>-1.271894</td>\n",
              "      <td>0.101218</td>\n",
              "      <td>-1.271744</td>\n",
              "      <td>-1.329563</td>\n",
              "      <td>0.080450</td>\n",
              "      <td>-1.329688</td>\n",
              "      <td>-0.202831</td>\n",
              "      <td>0.242395</td>\n",
              "      <td>-0.203735</td>\n",
              "      <td>-0.904709</td>\n",
              "      <td>0.593516</td>\n",
              "      <td>-0.904104</td>\n",
              "      <td>2</td>\n",
              "      <td>False</td>\n",
              "    </tr>\n",
              "    <tr>\n",
              "      <th>4</th>\n",
              "      <td>HI</td>\n",
              "      <td>49</td>\n",
              "      <td>510</td>\n",
              "      <td>No</td>\n",
              "      <td>No</td>\n",
              "      <td>0</td>\n",
              "      <td>-1.111438</td>\n",
              "      <td>0.788115</td>\n",
              "      <td>-1.111607</td>\n",
              "      <td>0.236397</td>\n",
              "      <td>0.450154</td>\n",
              "      <td>0.235553</td>\n",
              "      <td>-0.422048</td>\n",
              "      <td>-0.501749</td>\n",
              "      <td>-0.422705</td>\n",
              "      <td>0.307091</td>\n",
              "      <td>-1.422141</td>\n",
              "      <td>0.310260</td>\n",
              "      <td>1</td>\n",
              "      <td>False</td>\n",
              "    </tr>\n",
              "  </tbody>\n",
              "</table>\n",
              "</div>\n",
              "      <button class=\"colab-df-convert\" onclick=\"convertToInteractive('df-788b34c1-335d-444d-a8c2-410f68e66c79')\"\n",
              "              title=\"Convert this dataframe to an interactive table.\"\n",
              "              style=\"display:none;\">\n",
              "        \n",
              "  <svg xmlns=\"http://www.w3.org/2000/svg\" height=\"24px\"viewBox=\"0 0 24 24\"\n",
              "       width=\"24px\">\n",
              "    <path d=\"M0 0h24v24H0V0z\" fill=\"none\"/>\n",
              "    <path d=\"M18.56 5.44l.94 2.06.94-2.06 2.06-.94-2.06-.94-.94-2.06-.94 2.06-2.06.94zm-11 1L8.5 8.5l.94-2.06 2.06-.94-2.06-.94L8.5 2.5l-.94 2.06-2.06.94zm10 10l.94 2.06.94-2.06 2.06-.94-2.06-.94-.94-2.06-.94 2.06-2.06.94z\"/><path d=\"M17.41 7.96l-1.37-1.37c-.4-.4-.92-.59-1.43-.59-.52 0-1.04.2-1.43.59L10.3 9.45l-7.72 7.72c-.78.78-.78 2.05 0 2.83L4 21.41c.39.39.9.59 1.41.59.51 0 1.02-.2 1.41-.59l7.78-7.78 2.81-2.81c.8-.78.8-2.07 0-2.86zM5.41 20L4 18.59l7.72-7.72 1.47 1.35L5.41 20z\"/>\n",
              "  </svg>\n",
              "      </button>\n",
              "      \n",
              "  <style>\n",
              "    .colab-df-container {\n",
              "      display:flex;\n",
              "      flex-wrap:wrap;\n",
              "      gap: 12px;\n",
              "    }\n",
              "\n",
              "    .colab-df-convert {\n",
              "      background-color: #E8F0FE;\n",
              "      border: none;\n",
              "      border-radius: 50%;\n",
              "      cursor: pointer;\n",
              "      display: none;\n",
              "      fill: #1967D2;\n",
              "      height: 32px;\n",
              "      padding: 0 0 0 0;\n",
              "      width: 32px;\n",
              "    }\n",
              "\n",
              "    .colab-df-convert:hover {\n",
              "      background-color: #E2EBFA;\n",
              "      box-shadow: 0px 1px 2px rgba(60, 64, 67, 0.3), 0px 1px 3px 1px rgba(60, 64, 67, 0.15);\n",
              "      fill: #174EA6;\n",
              "    }\n",
              "\n",
              "    [theme=dark] .colab-df-convert {\n",
              "      background-color: #3B4455;\n",
              "      fill: #D2E3FC;\n",
              "    }\n",
              "\n",
              "    [theme=dark] .colab-df-convert:hover {\n",
              "      background-color: #434B5C;\n",
              "      box-shadow: 0px 1px 3px 1px rgba(0, 0, 0, 0.15);\n",
              "      filter: drop-shadow(0px 1px 2px rgba(0, 0, 0, 0.3));\n",
              "      fill: #FFFFFF;\n",
              "    }\n",
              "  </style>\n",
              "\n",
              "      <script>\n",
              "        const buttonEl =\n",
              "          document.querySelector('#df-788b34c1-335d-444d-a8c2-410f68e66c79 button.colab-df-convert');\n",
              "        buttonEl.style.display =\n",
              "          google.colab.kernel.accessAllowed ? 'block' : 'none';\n",
              "\n",
              "        async function convertToInteractive(key) {\n",
              "          const element = document.querySelector('#df-788b34c1-335d-444d-a8c2-410f68e66c79');\n",
              "          const dataTable =\n",
              "            await google.colab.kernel.invokeFunction('convertToInteractive',\n",
              "                                                     [key], {});\n",
              "          if (!dataTable) return;\n",
              "\n",
              "          const docLinkHtml = 'Like what you see? Visit the ' +\n",
              "            '<a target=\"_blank\" href=https://colab.research.google.com/notebooks/data_table.ipynb>data table notebook</a>'\n",
              "            + ' to learn more about interactive tables.';\n",
              "          element.innerHTML = '';\n",
              "          dataTable['output_type'] = 'display_data';\n",
              "          await google.colab.output.renderOutput(dataTable, element);\n",
              "          const docLink = document.createElement('div');\n",
              "          docLink.innerHTML = docLinkHtml;\n",
              "          element.appendChild(docLink);\n",
              "        }\n",
              "      </script>\n",
              "    </div>\n",
              "  </div>\n",
              "  "
            ]
          },
          "metadata": {},
          "execution_count": 19
        }
      ]
    },
    {
      "cell_type": "markdown",
      "source": [
        "- Data 1_en = data1_en_train_SL ที่ไว้เทรน 80% ทำ Dummie\n",
        "- Data 2_en = data2_en_test_SL ที่ไว้เทส  20% ทำ Dummie"
      ],
      "metadata": {
        "id": "72lxG1cpKMgu"
      }
    },
    {
      "cell_type": "code",
      "source": [
        "data1_en_train = pd.get_dummies(data1_en_train_SL, columns=['State','International plan','Voice mail plan'])\n",
        "# Convert 'True' values to 1 and 'False' values to 0\n",
        "data1_en_train['Churn'] = data1_en_train['Churn'].astype(int)"
      ],
      "metadata": {
        "id": "rzrQubEuByq0"
      },
      "execution_count": null,
      "outputs": []
    },
    {
      "cell_type": "code",
      "source": [
        "data1_en_train = data1_en_train[['Account length', 'Area code', 'Number vmail messages',\n",
        "       'Total day minutes', 'Total day calls', 'Total day charge',\n",
        "       'Total eve minutes', 'Total eve calls', 'Total eve charge',\n",
        "       'Total night minutes', 'Total night calls', 'Total night charge',\n",
        "       'Total intl minutes', 'Total intl calls', 'Total intl charge',\n",
        "       'Customer service calls', 'State_AK', 'State_AL', 'State_AR',\n",
        "       'State_AZ', 'State_CA', 'State_CO', 'State_CT', 'State_DC', 'State_DE',\n",
        "       'State_FL', 'State_GA', 'State_HI', 'State_IA', 'State_ID', 'State_IL',\n",
        "       'State_IN', 'State_KS', 'State_KY', 'State_LA', 'State_MA', 'State_MD',\n",
        "       'State_ME', 'State_MI', 'State_MN', 'State_MO', 'State_MS', 'State_MT',\n",
        "       'State_NC', 'State_ND', 'State_NE', 'State_NH', 'State_NJ', 'State_NM',\n",
        "       'State_NV', 'State_NY', 'State_OH', 'State_OK', 'State_OR', 'State_PA',\n",
        "       'State_RI', 'State_SC', 'State_SD', 'State_TN', 'State_TX', 'State_UT',\n",
        "       'State_VA', 'State_VT', 'State_WA', 'State_WI', 'State_WV', 'State_WY',\n",
        "       'International plan_No', 'International plan_Yes', 'Voice mail plan_No',\n",
        "       'Voice mail plan_Yes','Churn']]\n",
        "data1_en_train.head()"
      ],
      "metadata": {
        "id": "1ihrRfd0GCvn",
        "colab": {
          "base_uri": "https://localhost:8080/",
          "height": 334
        },
        "outputId": "95dcac91-2c7f-45d7-f59f-af9ac16a3674"
      },
      "execution_count": null,
      "outputs": [
        {
          "output_type": "execute_result",
          "data": {
            "text/plain": [
              "   Account length  Area code  Number vmail messages  Total day minutes  \\\n",
              "0             128        415                     25           1.579670   \n",
              "1             107        415                     26          -0.329918   \n",
              "2             137        415                      0           1.179302   \n",
              "3              84        408                      0           2.212509   \n",
              "4              75        415                      0          -0.235822   \n",
              "\n",
              "   Total day calls  Total day charge  Total eve minutes  Total eve calls  \\\n",
              "0         0.484868          1.579942          -0.058619        -0.050781   \n",
              "1         1.135375         -0.330194          -0.095916         0.147654   \n",
              "2         0.685024          1.179465          -1.554439         0.494917   \n",
              "3        -1.466653          2.212675          -2.718509        -0.596479   \n",
              "4         0.634985         -0.235772          -1.022461         1.090224   \n",
              "\n",
              "   Total eve charge  Total night minutes  ...  State_VT  State_WA  State_WI  \\\n",
              "0         -0.058445             0.857403  ...         0         0         0   \n",
              "1         -0.095397             1.048458  ...         0         0         0   \n",
              "2         -1.554963            -0.759668  ...         0         0         0   \n",
              "3         -2.718922            -0.084083  ...         0         0         0   \n",
              "4         -1.021482            -0.281046  ...         0         0         0   \n",
              "\n",
              "   State_WV  State_WY  International plan_No  International plan_Yes  \\\n",
              "0         0         0                      1                       0   \n",
              "1         0         0                      1                       0   \n",
              "2         0         0                      1                       0   \n",
              "3         0         0                      0                       1   \n",
              "4         0         0                      0                       1   \n",
              "\n",
              "   Voice mail plan_No  Voice mail plan_Yes  Churn  \n",
              "0                   0                    1      0  \n",
              "1                   0                    1      0  \n",
              "2                   1                    0      0  \n",
              "3                   1                    0      0  \n",
              "4                   1                    0      0  \n",
              "\n",
              "[5 rows x 72 columns]"
            ],
            "text/html": [
              "\n",
              "  <div id=\"df-b810c161-a201-4e13-a388-dd0ff9bb9b2c\">\n",
              "    <div class=\"colab-df-container\">\n",
              "      <div>\n",
              "<style scoped>\n",
              "    .dataframe tbody tr th:only-of-type {\n",
              "        vertical-align: middle;\n",
              "    }\n",
              "\n",
              "    .dataframe tbody tr th {\n",
              "        vertical-align: top;\n",
              "    }\n",
              "\n",
              "    .dataframe thead th {\n",
              "        text-align: right;\n",
              "    }\n",
              "</style>\n",
              "<table border=\"1\" class=\"dataframe\">\n",
              "  <thead>\n",
              "    <tr style=\"text-align: right;\">\n",
              "      <th></th>\n",
              "      <th>Account length</th>\n",
              "      <th>Area code</th>\n",
              "      <th>Number vmail messages</th>\n",
              "      <th>Total day minutes</th>\n",
              "      <th>Total day calls</th>\n",
              "      <th>Total day charge</th>\n",
              "      <th>Total eve minutes</th>\n",
              "      <th>Total eve calls</th>\n",
              "      <th>Total eve charge</th>\n",
              "      <th>Total night minutes</th>\n",
              "      <th>...</th>\n",
              "      <th>State_VT</th>\n",
              "      <th>State_WA</th>\n",
              "      <th>State_WI</th>\n",
              "      <th>State_WV</th>\n",
              "      <th>State_WY</th>\n",
              "      <th>International plan_No</th>\n",
              "      <th>International plan_Yes</th>\n",
              "      <th>Voice mail plan_No</th>\n",
              "      <th>Voice mail plan_Yes</th>\n",
              "      <th>Churn</th>\n",
              "    </tr>\n",
              "  </thead>\n",
              "  <tbody>\n",
              "    <tr>\n",
              "      <th>0</th>\n",
              "      <td>128</td>\n",
              "      <td>415</td>\n",
              "      <td>25</td>\n",
              "      <td>1.579670</td>\n",
              "      <td>0.484868</td>\n",
              "      <td>1.579942</td>\n",
              "      <td>-0.058619</td>\n",
              "      <td>-0.050781</td>\n",
              "      <td>-0.058445</td>\n",
              "      <td>0.857403</td>\n",
              "      <td>...</td>\n",
              "      <td>0</td>\n",
              "      <td>0</td>\n",
              "      <td>0</td>\n",
              "      <td>0</td>\n",
              "      <td>0</td>\n",
              "      <td>1</td>\n",
              "      <td>0</td>\n",
              "      <td>0</td>\n",
              "      <td>1</td>\n",
              "      <td>0</td>\n",
              "    </tr>\n",
              "    <tr>\n",
              "      <th>1</th>\n",
              "      <td>107</td>\n",
              "      <td>415</td>\n",
              "      <td>26</td>\n",
              "      <td>-0.329918</td>\n",
              "      <td>1.135375</td>\n",
              "      <td>-0.330194</td>\n",
              "      <td>-0.095916</td>\n",
              "      <td>0.147654</td>\n",
              "      <td>-0.095397</td>\n",
              "      <td>1.048458</td>\n",
              "      <td>...</td>\n",
              "      <td>0</td>\n",
              "      <td>0</td>\n",
              "      <td>0</td>\n",
              "      <td>0</td>\n",
              "      <td>0</td>\n",
              "      <td>1</td>\n",
              "      <td>0</td>\n",
              "      <td>0</td>\n",
              "      <td>1</td>\n",
              "      <td>0</td>\n",
              "    </tr>\n",
              "    <tr>\n",
              "      <th>2</th>\n",
              "      <td>137</td>\n",
              "      <td>415</td>\n",
              "      <td>0</td>\n",
              "      <td>1.179302</td>\n",
              "      <td>0.685024</td>\n",
              "      <td>1.179465</td>\n",
              "      <td>-1.554439</td>\n",
              "      <td>0.494917</td>\n",
              "      <td>-1.554963</td>\n",
              "      <td>-0.759668</td>\n",
              "      <td>...</td>\n",
              "      <td>0</td>\n",
              "      <td>0</td>\n",
              "      <td>0</td>\n",
              "      <td>0</td>\n",
              "      <td>0</td>\n",
              "      <td>1</td>\n",
              "      <td>0</td>\n",
              "      <td>1</td>\n",
              "      <td>0</td>\n",
              "      <td>0</td>\n",
              "    </tr>\n",
              "    <tr>\n",
              "      <th>3</th>\n",
              "      <td>84</td>\n",
              "      <td>408</td>\n",
              "      <td>0</td>\n",
              "      <td>2.212509</td>\n",
              "      <td>-1.466653</td>\n",
              "      <td>2.212675</td>\n",
              "      <td>-2.718509</td>\n",
              "      <td>-0.596479</td>\n",
              "      <td>-2.718922</td>\n",
              "      <td>-0.084083</td>\n",
              "      <td>...</td>\n",
              "      <td>0</td>\n",
              "      <td>0</td>\n",
              "      <td>0</td>\n",
              "      <td>0</td>\n",
              "      <td>0</td>\n",
              "      <td>0</td>\n",
              "      <td>1</td>\n",
              "      <td>1</td>\n",
              "      <td>0</td>\n",
              "      <td>0</td>\n",
              "    </tr>\n",
              "    <tr>\n",
              "      <th>4</th>\n",
              "      <td>75</td>\n",
              "      <td>415</td>\n",
              "      <td>0</td>\n",
              "      <td>-0.235822</td>\n",
              "      <td>0.634985</td>\n",
              "      <td>-0.235772</td>\n",
              "      <td>-1.022461</td>\n",
              "      <td>1.090224</td>\n",
              "      <td>-1.021482</td>\n",
              "      <td>-0.281046</td>\n",
              "      <td>...</td>\n",
              "      <td>0</td>\n",
              "      <td>0</td>\n",
              "      <td>0</td>\n",
              "      <td>0</td>\n",
              "      <td>0</td>\n",
              "      <td>0</td>\n",
              "      <td>1</td>\n",
              "      <td>1</td>\n",
              "      <td>0</td>\n",
              "      <td>0</td>\n",
              "    </tr>\n",
              "  </tbody>\n",
              "</table>\n",
              "<p>5 rows × 72 columns</p>\n",
              "</div>\n",
              "      <button class=\"colab-df-convert\" onclick=\"convertToInteractive('df-b810c161-a201-4e13-a388-dd0ff9bb9b2c')\"\n",
              "              title=\"Convert this dataframe to an interactive table.\"\n",
              "              style=\"display:none;\">\n",
              "        \n",
              "  <svg xmlns=\"http://www.w3.org/2000/svg\" height=\"24px\"viewBox=\"0 0 24 24\"\n",
              "       width=\"24px\">\n",
              "    <path d=\"M0 0h24v24H0V0z\" fill=\"none\"/>\n",
              "    <path d=\"M18.56 5.44l.94 2.06.94-2.06 2.06-.94-2.06-.94-.94-2.06-.94 2.06-2.06.94zm-11 1L8.5 8.5l.94-2.06 2.06-.94-2.06-.94L8.5 2.5l-.94 2.06-2.06.94zm10 10l.94 2.06.94-2.06 2.06-.94-2.06-.94-.94-2.06-.94 2.06-2.06.94z\"/><path d=\"M17.41 7.96l-1.37-1.37c-.4-.4-.92-.59-1.43-.59-.52 0-1.04.2-1.43.59L10.3 9.45l-7.72 7.72c-.78.78-.78 2.05 0 2.83L4 21.41c.39.39.9.59 1.41.59.51 0 1.02-.2 1.41-.59l7.78-7.78 2.81-2.81c.8-.78.8-2.07 0-2.86zM5.41 20L4 18.59l7.72-7.72 1.47 1.35L5.41 20z\"/>\n",
              "  </svg>\n",
              "      </button>\n",
              "      \n",
              "  <style>\n",
              "    .colab-df-container {\n",
              "      display:flex;\n",
              "      flex-wrap:wrap;\n",
              "      gap: 12px;\n",
              "    }\n",
              "\n",
              "    .colab-df-convert {\n",
              "      background-color: #E8F0FE;\n",
              "      border: none;\n",
              "      border-radius: 50%;\n",
              "      cursor: pointer;\n",
              "      display: none;\n",
              "      fill: #1967D2;\n",
              "      height: 32px;\n",
              "      padding: 0 0 0 0;\n",
              "      width: 32px;\n",
              "    }\n",
              "\n",
              "    .colab-df-convert:hover {\n",
              "      background-color: #E2EBFA;\n",
              "      box-shadow: 0px 1px 2px rgba(60, 64, 67, 0.3), 0px 1px 3px 1px rgba(60, 64, 67, 0.15);\n",
              "      fill: #174EA6;\n",
              "    }\n",
              "\n",
              "    [theme=dark] .colab-df-convert {\n",
              "      background-color: #3B4455;\n",
              "      fill: #D2E3FC;\n",
              "    }\n",
              "\n",
              "    [theme=dark] .colab-df-convert:hover {\n",
              "      background-color: #434B5C;\n",
              "      box-shadow: 0px 1px 3px 1px rgba(0, 0, 0, 0.15);\n",
              "      filter: drop-shadow(0px 1px 2px rgba(0, 0, 0, 0.3));\n",
              "      fill: #FFFFFF;\n",
              "    }\n",
              "  </style>\n",
              "\n",
              "      <script>\n",
              "        const buttonEl =\n",
              "          document.querySelector('#df-b810c161-a201-4e13-a388-dd0ff9bb9b2c button.colab-df-convert');\n",
              "        buttonEl.style.display =\n",
              "          google.colab.kernel.accessAllowed ? 'block' : 'none';\n",
              "\n",
              "        async function convertToInteractive(key) {\n",
              "          const element = document.querySelector('#df-b810c161-a201-4e13-a388-dd0ff9bb9b2c');\n",
              "          const dataTable =\n",
              "            await google.colab.kernel.invokeFunction('convertToInteractive',\n",
              "                                                     [key], {});\n",
              "          if (!dataTable) return;\n",
              "\n",
              "          const docLinkHtml = 'Like what you see? Visit the ' +\n",
              "            '<a target=\"_blank\" href=https://colab.research.google.com/notebooks/data_table.ipynb>data table notebook</a>'\n",
              "            + ' to learn more about interactive tables.';\n",
              "          element.innerHTML = '';\n",
              "          dataTable['output_type'] = 'display_data';\n",
              "          await google.colab.output.renderOutput(dataTable, element);\n",
              "          const docLink = document.createElement('div');\n",
              "          docLink.innerHTML = docLinkHtml;\n",
              "          element.appendChild(docLink);\n",
              "        }\n",
              "      </script>\n",
              "    </div>\n",
              "  </div>\n",
              "  "
            ]
          },
          "metadata": {},
          "execution_count": 21
        }
      ]
    },
    {
      "cell_type": "code",
      "source": [
        "data2_en_test = pd.get_dummies(data2_en_test_SL, columns=['State','International plan','Voice mail plan'])\n",
        "# Convert 'True' values to 1 and 'False' values to 0\n",
        "data2_en_test['Churn'] = data2_en_test['Churn'].astype(int)"
      ],
      "metadata": {
        "id": "leLLuF5bk-94"
      },
      "execution_count": null,
      "outputs": []
    },
    {
      "cell_type": "code",
      "source": [
        "data2_en_test = data2_en_test[['Account length', 'Area code', 'Number vmail messages',\n",
        "       'Total day minutes', 'Total day calls', 'Total day charge',\n",
        "       'Total eve minutes', 'Total eve calls', 'Total eve charge',\n",
        "       'Total night minutes', 'Total night calls', 'Total night charge',\n",
        "       'Total intl minutes', 'Total intl calls', 'Total intl charge',\n",
        "       'Customer service calls', 'State_AK', 'State_AL', 'State_AR',\n",
        "       'State_AZ', 'State_CA', 'State_CO', 'State_CT', 'State_DC', 'State_DE',\n",
        "       'State_FL', 'State_GA', 'State_HI', 'State_IA', 'State_ID', 'State_IL',\n",
        "       'State_IN', 'State_KS', 'State_KY', 'State_LA', 'State_MA', 'State_MD',\n",
        "       'State_ME', 'State_MI', 'State_MN', 'State_MO', 'State_MS', 'State_MT',\n",
        "       'State_NC', 'State_ND', 'State_NE', 'State_NH', 'State_NJ', 'State_NM',\n",
        "       'State_NV', 'State_NY', 'State_OH', 'State_OK', 'State_OR', 'State_PA',\n",
        "       'State_RI', 'State_SC', 'State_SD', 'State_TN', 'State_TX', 'State_UT',\n",
        "       'State_VA', 'State_VT', 'State_WA', 'State_WI', 'State_WV', 'State_WY',\n",
        "       'International plan_No', 'International plan_Yes', 'Voice mail plan_No',\n",
        "       'Voice mail plan_Yes','Churn']]\n",
        "data2_en_test.head()"
      ],
      "metadata": {
        "id": "Z9_M3trklDyq",
        "colab": {
          "base_uri": "https://localhost:8080/",
          "height": 334
        },
        "outputId": "25e97b75-b0ac-403c-95ba-c37ae0340af9"
      },
      "execution_count": null,
      "outputs": [
        {
          "output_type": "execute_result",
          "data": {
            "text/plain": [
              "   Account length  Area code  Number vmail messages  Total day minutes  \\\n",
              "0             117        408                      0           0.064036   \n",
              "1              65        415                      0          -0.934756   \n",
              "2             161        415                      0           2.739500   \n",
              "3             111        415                      0          -1.271894   \n",
              "4              49        510                      0          -1.111438   \n",
              "\n",
              "   Total day calls  Total day charge  Total eve minutes  Total eve calls  \\\n",
              "0        -0.193167          0.064504           2.983872        -1.081478   \n",
              "1         1.769398         -0.934501           0.506113        -0.923033   \n",
              "2        -1.665090          2.739121           2.303545        -0.183625   \n",
              "3         0.101218         -1.271744          -1.329563         0.080450   \n",
              "4         0.788115         -1.111607           0.236397         0.450154   \n",
              "\n",
              "   Total eve charge  Total night minutes  ...  State_VT  State_WA  State_WI  \\\n",
              "0          2.984789             0.324092  ...         0         0         0   \n",
              "1          0.505504             0.183311  ...         0         0         0   \n",
              "2          2.302808            -0.786067  ...         0         0         0   \n",
              "3         -1.329688            -0.202831  ...         0         0         0   \n",
              "4          0.235553            -0.422048  ...         0         0         0   \n",
              "\n",
              "   State_WV  State_WY  International plan_No  International plan_Yes  \\\n",
              "0         0         0                      1                       0   \n",
              "1         0         0                      1                       0   \n",
              "2         0         0                      1                       0   \n",
              "3         0         0                      1                       0   \n",
              "4         0         0                      1                       0   \n",
              "\n",
              "   Voice mail plan_No  Voice mail plan_Yes  Churn  \n",
              "0                   1                    0      0  \n",
              "1                   1                    0      1  \n",
              "2                   1                    0      1  \n",
              "3                   1                    0      0  \n",
              "4                   1                    0      0  \n",
              "\n",
              "[5 rows x 72 columns]"
            ],
            "text/html": [
              "\n",
              "  <div id=\"df-2cecb7f3-25f7-40e4-b447-21ff324bb5e7\">\n",
              "    <div class=\"colab-df-container\">\n",
              "      <div>\n",
              "<style scoped>\n",
              "    .dataframe tbody tr th:only-of-type {\n",
              "        vertical-align: middle;\n",
              "    }\n",
              "\n",
              "    .dataframe tbody tr th {\n",
              "        vertical-align: top;\n",
              "    }\n",
              "\n",
              "    .dataframe thead th {\n",
              "        text-align: right;\n",
              "    }\n",
              "</style>\n",
              "<table border=\"1\" class=\"dataframe\">\n",
              "  <thead>\n",
              "    <tr style=\"text-align: right;\">\n",
              "      <th></th>\n",
              "      <th>Account length</th>\n",
              "      <th>Area code</th>\n",
              "      <th>Number vmail messages</th>\n",
              "      <th>Total day minutes</th>\n",
              "      <th>Total day calls</th>\n",
              "      <th>Total day charge</th>\n",
              "      <th>Total eve minutes</th>\n",
              "      <th>Total eve calls</th>\n",
              "      <th>Total eve charge</th>\n",
              "      <th>Total night minutes</th>\n",
              "      <th>...</th>\n",
              "      <th>State_VT</th>\n",
              "      <th>State_WA</th>\n",
              "      <th>State_WI</th>\n",
              "      <th>State_WV</th>\n",
              "      <th>State_WY</th>\n",
              "      <th>International plan_No</th>\n",
              "      <th>International plan_Yes</th>\n",
              "      <th>Voice mail plan_No</th>\n",
              "      <th>Voice mail plan_Yes</th>\n",
              "      <th>Churn</th>\n",
              "    </tr>\n",
              "  </thead>\n",
              "  <tbody>\n",
              "    <tr>\n",
              "      <th>0</th>\n",
              "      <td>117</td>\n",
              "      <td>408</td>\n",
              "      <td>0</td>\n",
              "      <td>0.064036</td>\n",
              "      <td>-0.193167</td>\n",
              "      <td>0.064504</td>\n",
              "      <td>2.983872</td>\n",
              "      <td>-1.081478</td>\n",
              "      <td>2.984789</td>\n",
              "      <td>0.324092</td>\n",
              "      <td>...</td>\n",
              "      <td>0</td>\n",
              "      <td>0</td>\n",
              "      <td>0</td>\n",
              "      <td>0</td>\n",
              "      <td>0</td>\n",
              "      <td>1</td>\n",
              "      <td>0</td>\n",
              "      <td>1</td>\n",
              "      <td>0</td>\n",
              "      <td>0</td>\n",
              "    </tr>\n",
              "    <tr>\n",
              "      <th>1</th>\n",
              "      <td>65</td>\n",
              "      <td>415</td>\n",
              "      <td>0</td>\n",
              "      <td>-0.934756</td>\n",
              "      <td>1.769398</td>\n",
              "      <td>-0.934501</td>\n",
              "      <td>0.506113</td>\n",
              "      <td>-0.923033</td>\n",
              "      <td>0.505504</td>\n",
              "      <td>0.183311</td>\n",
              "      <td>...</td>\n",
              "      <td>0</td>\n",
              "      <td>0</td>\n",
              "      <td>0</td>\n",
              "      <td>0</td>\n",
              "      <td>0</td>\n",
              "      <td>1</td>\n",
              "      <td>0</td>\n",
              "      <td>1</td>\n",
              "      <td>0</td>\n",
              "      <td>1</td>\n",
              "    </tr>\n",
              "    <tr>\n",
              "      <th>2</th>\n",
              "      <td>161</td>\n",
              "      <td>415</td>\n",
              "      <td>0</td>\n",
              "      <td>2.739500</td>\n",
              "      <td>-1.665090</td>\n",
              "      <td>2.739121</td>\n",
              "      <td>2.303545</td>\n",
              "      <td>-0.183625</td>\n",
              "      <td>2.302808</td>\n",
              "      <td>-0.786067</td>\n",
              "      <td>...</td>\n",
              "      <td>0</td>\n",
              "      <td>0</td>\n",
              "      <td>0</td>\n",
              "      <td>0</td>\n",
              "      <td>0</td>\n",
              "      <td>1</td>\n",
              "      <td>0</td>\n",
              "      <td>1</td>\n",
              "      <td>0</td>\n",
              "      <td>1</td>\n",
              "    </tr>\n",
              "    <tr>\n",
              "      <th>3</th>\n",
              "      <td>111</td>\n",
              "      <td>415</td>\n",
              "      <td>0</td>\n",
              "      <td>-1.271894</td>\n",
              "      <td>0.101218</td>\n",
              "      <td>-1.271744</td>\n",
              "      <td>-1.329563</td>\n",
              "      <td>0.080450</td>\n",
              "      <td>-1.329688</td>\n",
              "      <td>-0.202831</td>\n",
              "      <td>...</td>\n",
              "      <td>0</td>\n",
              "      <td>0</td>\n",
              "      <td>0</td>\n",
              "      <td>0</td>\n",
              "      <td>0</td>\n",
              "      <td>1</td>\n",
              "      <td>0</td>\n",
              "      <td>1</td>\n",
              "      <td>0</td>\n",
              "      <td>0</td>\n",
              "    </tr>\n",
              "    <tr>\n",
              "      <th>4</th>\n",
              "      <td>49</td>\n",
              "      <td>510</td>\n",
              "      <td>0</td>\n",
              "      <td>-1.111438</td>\n",
              "      <td>0.788115</td>\n",
              "      <td>-1.111607</td>\n",
              "      <td>0.236397</td>\n",
              "      <td>0.450154</td>\n",
              "      <td>0.235553</td>\n",
              "      <td>-0.422048</td>\n",
              "      <td>...</td>\n",
              "      <td>0</td>\n",
              "      <td>0</td>\n",
              "      <td>0</td>\n",
              "      <td>0</td>\n",
              "      <td>0</td>\n",
              "      <td>1</td>\n",
              "      <td>0</td>\n",
              "      <td>1</td>\n",
              "      <td>0</td>\n",
              "      <td>0</td>\n",
              "    </tr>\n",
              "  </tbody>\n",
              "</table>\n",
              "<p>5 rows × 72 columns</p>\n",
              "</div>\n",
              "      <button class=\"colab-df-convert\" onclick=\"convertToInteractive('df-2cecb7f3-25f7-40e4-b447-21ff324bb5e7')\"\n",
              "              title=\"Convert this dataframe to an interactive table.\"\n",
              "              style=\"display:none;\">\n",
              "        \n",
              "  <svg xmlns=\"http://www.w3.org/2000/svg\" height=\"24px\"viewBox=\"0 0 24 24\"\n",
              "       width=\"24px\">\n",
              "    <path d=\"M0 0h24v24H0V0z\" fill=\"none\"/>\n",
              "    <path d=\"M18.56 5.44l.94 2.06.94-2.06 2.06-.94-2.06-.94-.94-2.06-.94 2.06-2.06.94zm-11 1L8.5 8.5l.94-2.06 2.06-.94-2.06-.94L8.5 2.5l-.94 2.06-2.06.94zm10 10l.94 2.06.94-2.06 2.06-.94-2.06-.94-.94-2.06-.94 2.06-2.06.94z\"/><path d=\"M17.41 7.96l-1.37-1.37c-.4-.4-.92-.59-1.43-.59-.52 0-1.04.2-1.43.59L10.3 9.45l-7.72 7.72c-.78.78-.78 2.05 0 2.83L4 21.41c.39.39.9.59 1.41.59.51 0 1.02-.2 1.41-.59l7.78-7.78 2.81-2.81c.8-.78.8-2.07 0-2.86zM5.41 20L4 18.59l7.72-7.72 1.47 1.35L5.41 20z\"/>\n",
              "  </svg>\n",
              "      </button>\n",
              "      \n",
              "  <style>\n",
              "    .colab-df-container {\n",
              "      display:flex;\n",
              "      flex-wrap:wrap;\n",
              "      gap: 12px;\n",
              "    }\n",
              "\n",
              "    .colab-df-convert {\n",
              "      background-color: #E8F0FE;\n",
              "      border: none;\n",
              "      border-radius: 50%;\n",
              "      cursor: pointer;\n",
              "      display: none;\n",
              "      fill: #1967D2;\n",
              "      height: 32px;\n",
              "      padding: 0 0 0 0;\n",
              "      width: 32px;\n",
              "    }\n",
              "\n",
              "    .colab-df-convert:hover {\n",
              "      background-color: #E2EBFA;\n",
              "      box-shadow: 0px 1px 2px rgba(60, 64, 67, 0.3), 0px 1px 3px 1px rgba(60, 64, 67, 0.15);\n",
              "      fill: #174EA6;\n",
              "    }\n",
              "\n",
              "    [theme=dark] .colab-df-convert {\n",
              "      background-color: #3B4455;\n",
              "      fill: #D2E3FC;\n",
              "    }\n",
              "\n",
              "    [theme=dark] .colab-df-convert:hover {\n",
              "      background-color: #434B5C;\n",
              "      box-shadow: 0px 1px 3px 1px rgba(0, 0, 0, 0.15);\n",
              "      filter: drop-shadow(0px 1px 2px rgba(0, 0, 0, 0.3));\n",
              "      fill: #FFFFFF;\n",
              "    }\n",
              "  </style>\n",
              "\n",
              "      <script>\n",
              "        const buttonEl =\n",
              "          document.querySelector('#df-2cecb7f3-25f7-40e4-b447-21ff324bb5e7 button.colab-df-convert');\n",
              "        buttonEl.style.display =\n",
              "          google.colab.kernel.accessAllowed ? 'block' : 'none';\n",
              "\n",
              "        async function convertToInteractive(key) {\n",
              "          const element = document.querySelector('#df-2cecb7f3-25f7-40e4-b447-21ff324bb5e7');\n",
              "          const dataTable =\n",
              "            await google.colab.kernel.invokeFunction('convertToInteractive',\n",
              "                                                     [key], {});\n",
              "          if (!dataTable) return;\n",
              "\n",
              "          const docLinkHtml = 'Like what you see? Visit the ' +\n",
              "            '<a target=\"_blank\" href=https://colab.research.google.com/notebooks/data_table.ipynb>data table notebook</a>'\n",
              "            + ' to learn more about interactive tables.';\n",
              "          element.innerHTML = '';\n",
              "          dataTable['output_type'] = 'display_data';\n",
              "          await google.colab.output.renderOutput(dataTable, element);\n",
              "          const docLink = document.createElement('div');\n",
              "          docLink.innerHTML = docLinkHtml;\n",
              "          element.appendChild(docLink);\n",
              "        }\n",
              "      </script>\n",
              "    </div>\n",
              "  </div>\n",
              "  "
            ]
          },
          "metadata": {},
          "execution_count": 23
        }
      ]
    },
    {
      "cell_type": "markdown",
      "source": [
        "###รวม Data 80 กับ 20 เข้าด้วยกัน ?"
      ],
      "metadata": {
        "id": "ufRQRQ7qKhgq"
      }
    },
    {
      "cell_type": "code",
      "source": [
        "# data_en = pd.concat([data1_en_test, data2_en_train], axis=0)\n",
        "# data_en.reset_index(drop=True)\n",
        "# data_en_X= data_en.drop('Churn',axis=1)\n",
        "# data_en_Y= data_en['Churn']"
      ],
      "metadata": {
        "id": "EZ52C_iUgLbT"
      },
      "execution_count": null,
      "outputs": []
    },
    {
      "cell_type": "markdown",
      "source": [
        "#Classifications"
      ],
      "metadata": {
        "id": "lLfxdCynUNgY"
      }
    },
    {
      "cell_type": "markdown",
      "source": [
        "##Decision Tree"
      ],
      "metadata": {
        "id": "zY4raJYQWNT9"
      }
    },
    {
      "cell_type": "markdown",
      "source": [
        "- 80% train = data1_en_train\n",
        "  - มี 72 columns\n",
        "    - เราใช้ 71 columns = X_train \n",
        "    - Columns 20 = y_train\n",
        "\n",
        "- 20% test = data2_en_test\n",
        "  - มี 72 columns\n",
        "    - เราใช้ 71 columns = X_test \n",
        "    - Columns 72 = y_test"
      ],
      "metadata": {
        "id": "stDMEXniU32-"
      }
    },
    {
      "cell_type": "code",
      "source": [
        "data1_en_train.head()"
      ],
      "metadata": {
        "colab": {
          "base_uri": "https://localhost:8080/",
          "height": 334
        },
        "id": "vOQRzcRlRiGz",
        "outputId": "7ba227c8-aee9-4140-d4f2-279dfda93588"
      },
      "execution_count": null,
      "outputs": [
        {
          "output_type": "execute_result",
          "data": {
            "text/plain": [
              "   Account length  Area code  Number vmail messages  Total day minutes  \\\n",
              "0             128        415                     25           1.579670   \n",
              "1             107        415                     26          -0.329918   \n",
              "2             137        415                      0           1.179302   \n",
              "3              84        408                      0           2.212509   \n",
              "4              75        415                      0          -0.235822   \n",
              "\n",
              "   Total day calls  Total day charge  Total eve minutes  Total eve calls  \\\n",
              "0         0.484868          1.579942          -0.058619        -0.050781   \n",
              "1         1.135375         -0.330194          -0.095916         0.147654   \n",
              "2         0.685024          1.179465          -1.554439         0.494917   \n",
              "3        -1.466653          2.212675          -2.718509        -0.596479   \n",
              "4         0.634985         -0.235772          -1.022461         1.090224   \n",
              "\n",
              "   Total eve charge  Total night minutes  ...  State_VT  State_WA  State_WI  \\\n",
              "0         -0.058445             0.857403  ...         0         0         0   \n",
              "1         -0.095397             1.048458  ...         0         0         0   \n",
              "2         -1.554963            -0.759668  ...         0         0         0   \n",
              "3         -2.718922            -0.084083  ...         0         0         0   \n",
              "4         -1.021482            -0.281046  ...         0         0         0   \n",
              "\n",
              "   State_WV  State_WY  International plan_No  International plan_Yes  \\\n",
              "0         0         0                      1                       0   \n",
              "1         0         0                      1                       0   \n",
              "2         0         0                      1                       0   \n",
              "3         0         0                      0                       1   \n",
              "4         0         0                      0                       1   \n",
              "\n",
              "   Voice mail plan_No  Voice mail plan_Yes  Churn  \n",
              "0                   0                    1      0  \n",
              "1                   0                    1      0  \n",
              "2                   1                    0      0  \n",
              "3                   1                    0      0  \n",
              "4                   1                    0      0  \n",
              "\n",
              "[5 rows x 72 columns]"
            ],
            "text/html": [
              "\n",
              "  <div id=\"df-fb7ea187-620c-4657-9eca-fc4639e074f2\">\n",
              "    <div class=\"colab-df-container\">\n",
              "      <div>\n",
              "<style scoped>\n",
              "    .dataframe tbody tr th:only-of-type {\n",
              "        vertical-align: middle;\n",
              "    }\n",
              "\n",
              "    .dataframe tbody tr th {\n",
              "        vertical-align: top;\n",
              "    }\n",
              "\n",
              "    .dataframe thead th {\n",
              "        text-align: right;\n",
              "    }\n",
              "</style>\n",
              "<table border=\"1\" class=\"dataframe\">\n",
              "  <thead>\n",
              "    <tr style=\"text-align: right;\">\n",
              "      <th></th>\n",
              "      <th>Account length</th>\n",
              "      <th>Area code</th>\n",
              "      <th>Number vmail messages</th>\n",
              "      <th>Total day minutes</th>\n",
              "      <th>Total day calls</th>\n",
              "      <th>Total day charge</th>\n",
              "      <th>Total eve minutes</th>\n",
              "      <th>Total eve calls</th>\n",
              "      <th>Total eve charge</th>\n",
              "      <th>Total night minutes</th>\n",
              "      <th>...</th>\n",
              "      <th>State_VT</th>\n",
              "      <th>State_WA</th>\n",
              "      <th>State_WI</th>\n",
              "      <th>State_WV</th>\n",
              "      <th>State_WY</th>\n",
              "      <th>International plan_No</th>\n",
              "      <th>International plan_Yes</th>\n",
              "      <th>Voice mail plan_No</th>\n",
              "      <th>Voice mail plan_Yes</th>\n",
              "      <th>Churn</th>\n",
              "    </tr>\n",
              "  </thead>\n",
              "  <tbody>\n",
              "    <tr>\n",
              "      <th>0</th>\n",
              "      <td>128</td>\n",
              "      <td>415</td>\n",
              "      <td>25</td>\n",
              "      <td>1.579670</td>\n",
              "      <td>0.484868</td>\n",
              "      <td>1.579942</td>\n",
              "      <td>-0.058619</td>\n",
              "      <td>-0.050781</td>\n",
              "      <td>-0.058445</td>\n",
              "      <td>0.857403</td>\n",
              "      <td>...</td>\n",
              "      <td>0</td>\n",
              "      <td>0</td>\n",
              "      <td>0</td>\n",
              "      <td>0</td>\n",
              "      <td>0</td>\n",
              "      <td>1</td>\n",
              "      <td>0</td>\n",
              "      <td>0</td>\n",
              "      <td>1</td>\n",
              "      <td>0</td>\n",
              "    </tr>\n",
              "    <tr>\n",
              "      <th>1</th>\n",
              "      <td>107</td>\n",
              "      <td>415</td>\n",
              "      <td>26</td>\n",
              "      <td>-0.329918</td>\n",
              "      <td>1.135375</td>\n",
              "      <td>-0.330194</td>\n",
              "      <td>-0.095916</td>\n",
              "      <td>0.147654</td>\n",
              "      <td>-0.095397</td>\n",
              "      <td>1.048458</td>\n",
              "      <td>...</td>\n",
              "      <td>0</td>\n",
              "      <td>0</td>\n",
              "      <td>0</td>\n",
              "      <td>0</td>\n",
              "      <td>0</td>\n",
              "      <td>1</td>\n",
              "      <td>0</td>\n",
              "      <td>0</td>\n",
              "      <td>1</td>\n",
              "      <td>0</td>\n",
              "    </tr>\n",
              "    <tr>\n",
              "      <th>2</th>\n",
              "      <td>137</td>\n",
              "      <td>415</td>\n",
              "      <td>0</td>\n",
              "      <td>1.179302</td>\n",
              "      <td>0.685024</td>\n",
              "      <td>1.179465</td>\n",
              "      <td>-1.554439</td>\n",
              "      <td>0.494917</td>\n",
              "      <td>-1.554963</td>\n",
              "      <td>-0.759668</td>\n",
              "      <td>...</td>\n",
              "      <td>0</td>\n",
              "      <td>0</td>\n",
              "      <td>0</td>\n",
              "      <td>0</td>\n",
              "      <td>0</td>\n",
              "      <td>1</td>\n",
              "      <td>0</td>\n",
              "      <td>1</td>\n",
              "      <td>0</td>\n",
              "      <td>0</td>\n",
              "    </tr>\n",
              "    <tr>\n",
              "      <th>3</th>\n",
              "      <td>84</td>\n",
              "      <td>408</td>\n",
              "      <td>0</td>\n",
              "      <td>2.212509</td>\n",
              "      <td>-1.466653</td>\n",
              "      <td>2.212675</td>\n",
              "      <td>-2.718509</td>\n",
              "      <td>-0.596479</td>\n",
              "      <td>-2.718922</td>\n",
              "      <td>-0.084083</td>\n",
              "      <td>...</td>\n",
              "      <td>0</td>\n",
              "      <td>0</td>\n",
              "      <td>0</td>\n",
              "      <td>0</td>\n",
              "      <td>0</td>\n",
              "      <td>0</td>\n",
              "      <td>1</td>\n",
              "      <td>1</td>\n",
              "      <td>0</td>\n",
              "      <td>0</td>\n",
              "    </tr>\n",
              "    <tr>\n",
              "      <th>4</th>\n",
              "      <td>75</td>\n",
              "      <td>415</td>\n",
              "      <td>0</td>\n",
              "      <td>-0.235822</td>\n",
              "      <td>0.634985</td>\n",
              "      <td>-0.235772</td>\n",
              "      <td>-1.022461</td>\n",
              "      <td>1.090224</td>\n",
              "      <td>-1.021482</td>\n",
              "      <td>-0.281046</td>\n",
              "      <td>...</td>\n",
              "      <td>0</td>\n",
              "      <td>0</td>\n",
              "      <td>0</td>\n",
              "      <td>0</td>\n",
              "      <td>0</td>\n",
              "      <td>0</td>\n",
              "      <td>1</td>\n",
              "      <td>1</td>\n",
              "      <td>0</td>\n",
              "      <td>0</td>\n",
              "    </tr>\n",
              "  </tbody>\n",
              "</table>\n",
              "<p>5 rows × 72 columns</p>\n",
              "</div>\n",
              "      <button class=\"colab-df-convert\" onclick=\"convertToInteractive('df-fb7ea187-620c-4657-9eca-fc4639e074f2')\"\n",
              "              title=\"Convert this dataframe to an interactive table.\"\n",
              "              style=\"display:none;\">\n",
              "        \n",
              "  <svg xmlns=\"http://www.w3.org/2000/svg\" height=\"24px\"viewBox=\"0 0 24 24\"\n",
              "       width=\"24px\">\n",
              "    <path d=\"M0 0h24v24H0V0z\" fill=\"none\"/>\n",
              "    <path d=\"M18.56 5.44l.94 2.06.94-2.06 2.06-.94-2.06-.94-.94-2.06-.94 2.06-2.06.94zm-11 1L8.5 8.5l.94-2.06 2.06-.94-2.06-.94L8.5 2.5l-.94 2.06-2.06.94zm10 10l.94 2.06.94-2.06 2.06-.94-2.06-.94-.94-2.06-.94 2.06-2.06.94z\"/><path d=\"M17.41 7.96l-1.37-1.37c-.4-.4-.92-.59-1.43-.59-.52 0-1.04.2-1.43.59L10.3 9.45l-7.72 7.72c-.78.78-.78 2.05 0 2.83L4 21.41c.39.39.9.59 1.41.59.51 0 1.02-.2 1.41-.59l7.78-7.78 2.81-2.81c.8-.78.8-2.07 0-2.86zM5.41 20L4 18.59l7.72-7.72 1.47 1.35L5.41 20z\"/>\n",
              "  </svg>\n",
              "      </button>\n",
              "      \n",
              "  <style>\n",
              "    .colab-df-container {\n",
              "      display:flex;\n",
              "      flex-wrap:wrap;\n",
              "      gap: 12px;\n",
              "    }\n",
              "\n",
              "    .colab-df-convert {\n",
              "      background-color: #E8F0FE;\n",
              "      border: none;\n",
              "      border-radius: 50%;\n",
              "      cursor: pointer;\n",
              "      display: none;\n",
              "      fill: #1967D2;\n",
              "      height: 32px;\n",
              "      padding: 0 0 0 0;\n",
              "      width: 32px;\n",
              "    }\n",
              "\n",
              "    .colab-df-convert:hover {\n",
              "      background-color: #E2EBFA;\n",
              "      box-shadow: 0px 1px 2px rgba(60, 64, 67, 0.3), 0px 1px 3px 1px rgba(60, 64, 67, 0.15);\n",
              "      fill: #174EA6;\n",
              "    }\n",
              "\n",
              "    [theme=dark] .colab-df-convert {\n",
              "      background-color: #3B4455;\n",
              "      fill: #D2E3FC;\n",
              "    }\n",
              "\n",
              "    [theme=dark] .colab-df-convert:hover {\n",
              "      background-color: #434B5C;\n",
              "      box-shadow: 0px 1px 3px 1px rgba(0, 0, 0, 0.15);\n",
              "      filter: drop-shadow(0px 1px 2px rgba(0, 0, 0, 0.3));\n",
              "      fill: #FFFFFF;\n",
              "    }\n",
              "  </style>\n",
              "\n",
              "      <script>\n",
              "        const buttonEl =\n",
              "          document.querySelector('#df-fb7ea187-620c-4657-9eca-fc4639e074f2 button.colab-df-convert');\n",
              "        buttonEl.style.display =\n",
              "          google.colab.kernel.accessAllowed ? 'block' : 'none';\n",
              "\n",
              "        async function convertToInteractive(key) {\n",
              "          const element = document.querySelector('#df-fb7ea187-620c-4657-9eca-fc4639e074f2');\n",
              "          const dataTable =\n",
              "            await google.colab.kernel.invokeFunction('convertToInteractive',\n",
              "                                                     [key], {});\n",
              "          if (!dataTable) return;\n",
              "\n",
              "          const docLinkHtml = 'Like what you see? Visit the ' +\n",
              "            '<a target=\"_blank\" href=https://colab.research.google.com/notebooks/data_table.ipynb>data table notebook</a>'\n",
              "            + ' to learn more about interactive tables.';\n",
              "          element.innerHTML = '';\n",
              "          dataTable['output_type'] = 'display_data';\n",
              "          await google.colab.output.renderOutput(dataTable, element);\n",
              "          const docLink = document.createElement('div');\n",
              "          docLink.innerHTML = docLinkHtml;\n",
              "          element.appendChild(docLink);\n",
              "        }\n",
              "      </script>\n",
              "    </div>\n",
              "  </div>\n",
              "  "
            ]
          },
          "metadata": {},
          "execution_count": 25
        }
      ]
    },
    {
      "cell_type": "code",
      "source": [
        "X_train = data1_en_train.iloc[:,:71] #ดึงข้อมูล 19 คอลัมแรกออกมา \n",
        "y_train = data1_en_train.iloc[:,71:] #ใช้คอลัมน์สุดท้ายเป็น y"
      ],
      "metadata": {
        "id": "KIHq0MOdcZff"
      },
      "execution_count": null,
      "outputs": []
    },
    {
      "cell_type": "code",
      "source": [
        "X_test = data2_en_test.iloc[:,:71] #ดึงข้อมูล 19 คอลัมแรกออกมา \n",
        "y_test = data2_en_test.iloc[:,71:] #ใช้คอลัมน์สุดท้ายเป็น y"
      ],
      "metadata": {
        "id": "W6gc8gDZWXI8"
      },
      "execution_count": null,
      "outputs": []
    },
    {
      "cell_type": "markdown",
      "source": [
        "###Import"
      ],
      "metadata": {
        "id": "TYEaj0BqXXZk"
      }
    },
    {
      "cell_type": "code",
      "source": [
        "from sklearn.tree import DecisionTreeClassifier\n",
        "from sklearn.model_selection import cross_val_score, KFold\n",
        "from sklearn.metrics import classification_report\n",
        "from sklearn.metrics import accuracy_score"
      ],
      "metadata": {
        "id": "JYq7hUb9XZAe"
      },
      "execution_count": null,
      "outputs": []
    },
    {
      "cell_type": "code",
      "source": [
        "from sklearn.model_selection import GridSearchCV\n",
        "\n",
        "# Create the parameter grid based on the results of random search \n",
        "param_grid = {'max_depth': [2, 3, 4, 5, 6, 7, 8, 9, 10]}\n",
        "\n",
        "\n",
        "# Create a base model\n",
        "rf_grids = DecisionTreeClassifier(random_state=7)\n",
        "\n",
        "# Initiate the grid search model\n",
        "grid_search = GridSearchCV(rf_grids, param_grid, cv=5, scoring='accuracy')\n",
        "\n",
        "# Fit the grid search to the data\n",
        "grid_search.fit(X_train, y_train)\n",
        "\n",
        "grid_search.best_params_"
      ],
      "metadata": {
        "colab": {
          "base_uri": "https://localhost:8080/"
        },
        "id": "ctv8eCP1N_OR",
        "outputId": "e9fe48e3-635f-458e-c36f-c5181d50c120"
      },
      "execution_count": null,
      "outputs": [
        {
          "output_type": "execute_result",
          "data": {
            "text/plain": [
              "{'max_depth': 7}"
            ]
          },
          "metadata": {},
          "execution_count": 29
        }
      ]
    },
    {
      "cell_type": "markdown",
      "source": [
        "### Define\n"
      ],
      "metadata": {
        "id": "rUPtAH4PZo97"
      }
    },
    {
      "cell_type": "markdown",
      "source": [
        "- ทดลองใช้ random_state ที่หลายเลขเผื่อเช็คค่าที่ดีที่สุด"
      ],
      "metadata": {
        "id": "C3YRyKIQaSdd"
      }
    },
    {
      "cell_type": "code",
      "source": [
        "# Create Decision Tree classifer object\n",
        "clf0 = DecisionTreeClassifier(random_state=2,max_depth=7)"
      ],
      "metadata": {
        "id": "oQfnY-Q8Zl-J"
      },
      "execution_count": null,
      "outputs": []
    },
    {
      "cell_type": "code",
      "source": [
        "clf1= DecisionTreeClassifier(random_state=1,max_depth=7)\n",
        "clf2= DecisionTreeClassifier(random_state=2,max_depth=7)\n",
        "clf3= DecisionTreeClassifier(random_state=3,max_depth=7)\n",
        "clf4= DecisionTreeClassifier(random_state=4,max_depth=7)\n",
        "clf5= DecisionTreeClassifier(random_state=5,max_depth=7)\n",
        "clf6= DecisionTreeClassifier(random_state=6,max_depth=7)\n",
        "clf7 = DecisionTreeClassifier(random_state=7,max_depth=7)\n",
        "clf8= DecisionTreeClassifier(random_state=8,max_depth=7)\n",
        "clf9 = DecisionTreeClassifier(random_state=9,max_depth=7)\n",
        "clf10 = DecisionTreeClassifier(random_state=10,max_depth=7)\n"
      ],
      "metadata": {
        "id": "-ivNfTvzZrLG"
      },
      "execution_count": null,
      "outputs": []
    },
    {
      "cell_type": "markdown",
      "source": [
        "### Train\n"
      ],
      "metadata": {
        "id": "OHqSf3tegGpp"
      }
    },
    {
      "cell_type": "code",
      "source": [
        "clf1.fit(X_train, y_train)\n",
        "clf2.fit(X_train, y_train)\n",
        "clf3.fit(X_train, y_train)\n",
        "clf4.fit(X_train, y_train)\n",
        "clf5.fit(X_train, y_train)\n",
        "clf6.fit(X_train, y_train)\n",
        "clf7.fit(X_train, y_train)\n",
        "clf8.fit(X_train, y_train)\n",
        "clf9.fit(X_train, y_train)\n",
        "clf10.fit(X_train, y_train)"
      ],
      "metadata": {
        "colab": {
          "base_uri": "https://localhost:8080/",
          "height": 74
        },
        "id": "gDJ6Zu4wgH1b",
        "outputId": "8c2b63e4-4e73-4646-ed7c-0e71ba0b2680"
      },
      "execution_count": null,
      "outputs": [
        {
          "output_type": "execute_result",
          "data": {
            "text/plain": [
              "DecisionTreeClassifier(max_depth=7, random_state=10)"
            ],
            "text/html": [
              "<style>#sk-container-id-1 {color: black;background-color: white;}#sk-container-id-1 pre{padding: 0;}#sk-container-id-1 div.sk-toggleable {background-color: white;}#sk-container-id-1 label.sk-toggleable__label {cursor: pointer;display: block;width: 100%;margin-bottom: 0;padding: 0.3em;box-sizing: border-box;text-align: center;}#sk-container-id-1 label.sk-toggleable__label-arrow:before {content: \"▸\";float: left;margin-right: 0.25em;color: #696969;}#sk-container-id-1 label.sk-toggleable__label-arrow:hover:before {color: black;}#sk-container-id-1 div.sk-estimator:hover label.sk-toggleable__label-arrow:before {color: black;}#sk-container-id-1 div.sk-toggleable__content {max-height: 0;max-width: 0;overflow: hidden;text-align: left;background-color: #f0f8ff;}#sk-container-id-1 div.sk-toggleable__content pre {margin: 0.2em;color: black;border-radius: 0.25em;background-color: #f0f8ff;}#sk-container-id-1 input.sk-toggleable__control:checked~div.sk-toggleable__content {max-height: 200px;max-width: 100%;overflow: auto;}#sk-container-id-1 input.sk-toggleable__control:checked~label.sk-toggleable__label-arrow:before {content: \"▾\";}#sk-container-id-1 div.sk-estimator input.sk-toggleable__control:checked~label.sk-toggleable__label {background-color: #d4ebff;}#sk-container-id-1 div.sk-label input.sk-toggleable__control:checked~label.sk-toggleable__label {background-color: #d4ebff;}#sk-container-id-1 input.sk-hidden--visually {border: 0;clip: rect(1px 1px 1px 1px);clip: rect(1px, 1px, 1px, 1px);height: 1px;margin: -1px;overflow: hidden;padding: 0;position: absolute;width: 1px;}#sk-container-id-1 div.sk-estimator {font-family: monospace;background-color: #f0f8ff;border: 1px dotted black;border-radius: 0.25em;box-sizing: border-box;margin-bottom: 0.5em;}#sk-container-id-1 div.sk-estimator:hover {background-color: #d4ebff;}#sk-container-id-1 div.sk-parallel-item::after {content: \"\";width: 100%;border-bottom: 1px solid gray;flex-grow: 1;}#sk-container-id-1 div.sk-label:hover label.sk-toggleable__label {background-color: #d4ebff;}#sk-container-id-1 div.sk-serial::before {content: \"\";position: absolute;border-left: 1px solid gray;box-sizing: border-box;top: 0;bottom: 0;left: 50%;z-index: 0;}#sk-container-id-1 div.sk-serial {display: flex;flex-direction: column;align-items: center;background-color: white;padding-right: 0.2em;padding-left: 0.2em;position: relative;}#sk-container-id-1 div.sk-item {position: relative;z-index: 1;}#sk-container-id-1 div.sk-parallel {display: flex;align-items: stretch;justify-content: center;background-color: white;position: relative;}#sk-container-id-1 div.sk-item::before, #sk-container-id-1 div.sk-parallel-item::before {content: \"\";position: absolute;border-left: 1px solid gray;box-sizing: border-box;top: 0;bottom: 0;left: 50%;z-index: -1;}#sk-container-id-1 div.sk-parallel-item {display: flex;flex-direction: column;z-index: 1;position: relative;background-color: white;}#sk-container-id-1 div.sk-parallel-item:first-child::after {align-self: flex-end;width: 50%;}#sk-container-id-1 div.sk-parallel-item:last-child::after {align-self: flex-start;width: 50%;}#sk-container-id-1 div.sk-parallel-item:only-child::after {width: 0;}#sk-container-id-1 div.sk-dashed-wrapped {border: 1px dashed gray;margin: 0 0.4em 0.5em 0.4em;box-sizing: border-box;padding-bottom: 0.4em;background-color: white;}#sk-container-id-1 div.sk-label label {font-family: monospace;font-weight: bold;display: inline-block;line-height: 1.2em;}#sk-container-id-1 div.sk-label-container {text-align: center;}#sk-container-id-1 div.sk-container {/* jupyter's `normalize.less` sets `[hidden] { display: none; }` but bootstrap.min.css set `[hidden] { display: none !important; }` so we also need the `!important` here to be able to override the default hidden behavior on the sphinx rendered scikit-learn.org. See: https://github.com/scikit-learn/scikit-learn/issues/21755 */display: inline-block !important;position: relative;}#sk-container-id-1 div.sk-text-repr-fallback {display: none;}</style><div id=\"sk-container-id-1\" class=\"sk-top-container\"><div class=\"sk-text-repr-fallback\"><pre>DecisionTreeClassifier(max_depth=7, random_state=10)</pre><b>In a Jupyter environment, please rerun this cell to show the HTML representation or trust the notebook. <br />On GitHub, the HTML representation is unable to render, please try loading this page with nbviewer.org.</b></div><div class=\"sk-container\" hidden><div class=\"sk-item\"><div class=\"sk-estimator sk-toggleable\"><input class=\"sk-toggleable__control sk-hidden--visually\" id=\"sk-estimator-id-1\" type=\"checkbox\" checked><label for=\"sk-estimator-id-1\" class=\"sk-toggleable__label sk-toggleable__label-arrow\">DecisionTreeClassifier</label><div class=\"sk-toggleable__content\"><pre>DecisionTreeClassifier(max_depth=7, random_state=10)</pre></div></div></div></div></div>"
            ]
          },
          "metadata": {},
          "execution_count": 32
        }
      ]
    },
    {
      "cell_type": "markdown",
      "source": [
        "###Predict - Evaluate"
      ],
      "metadata": {
        "id": "Bq0C1ZsObSs8"
      }
    },
    {
      "cell_type": "markdown",
      "source": [
        "####Predict"
      ],
      "metadata": {
        "id": "HMSN95y6bVkI"
      }
    },
    {
      "cell_type": "code",
      "source": [
        "y_pred_1 = clf1.predict(X_test)\n",
        "y_pred_2 = clf2.predict(X_test)\n",
        "y_pred_3 = clf3.predict(X_test)\n",
        "y_pred_4 = clf4.predict(X_test)\n",
        "y_pred_5 = clf5.predict(X_test)\n",
        "y_pred_6 = clf6.predict(X_test)\n",
        "y_pred_7 = clf7.predict(X_test)\n",
        "y_pred_8 = clf8.predict(X_test)\n",
        "y_pred_9 = clf9.predict(X_test)\n",
        "y_pred_10 = clf10.predict(X_test)"
      ],
      "metadata": {
        "id": "cUBtdStobRsw"
      },
      "execution_count": null,
      "outputs": []
    },
    {
      "cell_type": "markdown",
      "source": [
        "###Evaluate"
      ],
      "metadata": {
        "id": "59H2J7-tcGOv"
      }
    },
    {
      "cell_type": "code",
      "source": [
        "print(f\"Accuracy of clf1: {accuracy_score(y_test, y_pred_1)}\") #This model is da best Accuracy of clf1: 0.9460269865067467\n",
        "print(f\"Accuracy of clf2: {accuracy_score(y_test, y_pred_2)}\") \n",
        "print(f\"Accuracy of clf3: {accuracy_score(y_test, y_pred_3)}\")\n",
        "print(f\"Accuracy of clf4: {accuracy_score(y_test, y_pred_4)}\")\n",
        "print(f\"Accuracy of clf5: {accuracy_score(y_test, y_pred_5)}\")\n",
        "print(f\"Accuracy of clf6: {accuracy_score(y_test, y_pred_6)}\")\n",
        "print(f\"Accuracy of clf7: {accuracy_score(y_test, y_pred_7)}\")\n",
        "print(f\"Accuracy of clf8: {accuracy_score(y_test, y_pred_8)}\")\n",
        "print(f\"Accuracy of clf9: {accuracy_score(y_test, y_pred_9)}\")\n",
        "print(f\"Accuracy of clf10: {accuracy_score(y_test, y_pred_10)}\")"
      ],
      "metadata": {
        "colab": {
          "base_uri": "https://localhost:8080/"
        },
        "id": "8YoV9tJ9r64T",
        "outputId": "2d77fd1a-f4a5-498f-e1aa-c53f34df9e9d"
      },
      "execution_count": null,
      "outputs": [
        {
          "output_type": "stream",
          "name": "stdout",
          "text": [
            "Accuracy of clf1: 0.9460269865067467\n",
            "Accuracy of clf2: 0.9415292353823088\n",
            "Accuracy of clf3: 0.9415292353823088\n",
            "Accuracy of clf4: 0.9430284857571214\n",
            "Accuracy of clf5: 0.9445277361319341\n",
            "Accuracy of clf6: 0.9430284857571214\n",
            "Accuracy of clf7: 0.9430284857571214\n",
            "Accuracy of clf8: 0.9445277361319341\n",
            "Accuracy of clf9: 0.9430284857571214\n",
            "Accuracy of clf10: 0.9430284857571214\n"
          ]
        }
      ]
    },
    {
      "cell_type": "code",
      "source": [
        "DT_score = accuracy_score(y_test, y_pred_1)"
      ],
      "metadata": {
        "id": "5JqhRVuUs4V_"
      },
      "execution_count": null,
      "outputs": []
    },
    {
      "cell_type": "code",
      "source": [
        "print(f'Accuracy DecisionTree', DT_score)"
      ],
      "metadata": {
        "colab": {
          "base_uri": "https://localhost:8080/"
        },
        "id": "ieQeA6crsuax",
        "outputId": "021a7e4a-8793-43c0-be8a-9aa8a2ddd55b"
      },
      "execution_count": null,
      "outputs": [
        {
          "output_type": "stream",
          "name": "stdout",
          "text": [
            "Accuracy DecisionTree 0.9460269865067467\n"
          ]
        }
      ]
    },
    {
      "cell_type": "markdown",
      "source": [
        "###หน้าตาต้นไม้ Model Clf1"
      ],
      "metadata": {
        "id": "_Beg3MypHDKQ"
      }
    },
    {
      "cell_type": "code",
      "source": [
        "from sklearn.tree import plot_tree\n",
        "from sklearn.tree import export_graphviz\n",
        "from graphviz import Source\n",
        "from IPython.display import display\n"
      ],
      "metadata": {
        "id": "1Z_4PAwIG9Th"
      },
      "execution_count": null,
      "outputs": []
    },
    {
      "cell_type": "code",
      "source": [
        "yy = y_test\n",
        "XX = X_test"
      ],
      "metadata": {
        "id": "zX5t4VYRoQD2"
      },
      "execution_count": null,
      "outputs": []
    },
    {
      "cell_type": "code",
      "source": [
        "dot_data = export_graphviz(clf1, out_file=None, feature_names=XX.columns, class_names=['no churn', 'churn'], filled=True) #Model 2"
      ],
      "metadata": {
        "id": "01OeN1JelNzU"
      },
      "execution_count": null,
      "outputs": []
    },
    {
      "cell_type": "code",
      "source": [
        "# Create a source object from the DOT data\n",
        "source = Source(dot_data)"
      ],
      "metadata": {
        "id": "JfOYegiMoosF"
      },
      "execution_count": null,
      "outputs": []
    },
    {
      "cell_type": "code",
      "source": [
        "# Save Picture\n",
        "source.render(\"my_tree\")"
      ],
      "metadata": {
        "id": "txRIjYMcqCet",
        "colab": {
          "base_uri": "https://localhost:8080/",
          "height": 34
        },
        "outputId": "a7194ce2-7146-499a-ec01-a351671a0b19"
      },
      "execution_count": null,
      "outputs": [
        {
          "output_type": "execute_result",
          "data": {
            "text/plain": [
              "'my_tree.pdf'"
            ],
            "application/vnd.google.colaboratory.intrinsic+json": {
              "type": "string"
            }
          },
          "metadata": {},
          "execution_count": 39
        }
      ]
    },
    {
      "cell_type": "markdown",
      "source": [
        "## KNN Classifications\n"
      ],
      "metadata": {
        "id": "N1cBAGU9169d"
      }
    },
    {
      "cell_type": "code",
      "source": [
        "from sklearn.neighbors import KNeighborsClassifier\n",
        "from sklearn.metrics import accuracy_score\n",
        "from sklearn.model_selection import cross_val_score\n",
        "import numpy as np"
      ],
      "metadata": {
        "id": "CKu56zhD1-gm"
      },
      "execution_count": null,
      "outputs": []
    },
    {
      "cell_type": "markdown",
      "source": [
        "###Evaluate with test set\n"
      ],
      "metadata": {
        "id": "AR_JyGuva5xT"
      }
    },
    {
      "cell_type": "code",
      "source": [
        "knn1 = KNeighborsClassifier(n_neighbors=9, weights='distance') \n",
        "knn1.fit(X_train,y_train)\n",
        "yknn_pred1 = knn1.predict(X_test)\n"
      ],
      "metadata": {
        "id": "WFtfJ-MwRiQT"
      },
      "execution_count": null,
      "outputs": []
    },
    {
      "cell_type": "code",
      "source": [
        "from sklearn.metrics import accuracy_score\n",
        "# Assume y_true and y_pred are the true and predicted labels, respectively\n",
        "knn_score = accuracy_score(y_test, yknn_pred1)\n",
        "# Print the accuracy score\n",
        "print(\" Model KNN n_neighborsne = 9 มีความแม่นยำที่โมเดลทำนาย Churn ของ X_test =\", accuracykkn1 )"
      ],
      "metadata": {
        "colab": {
          "base_uri": "https://localhost:8080/"
        },
        "id": "DeLWSZ1dRs99",
        "outputId": "69cdf13f-0e8d-4ab4-9a75-e23f85c02e90"
      },
      "execution_count": null,
      "outputs": [
        {
          "output_type": "stream",
          "name": "stdout",
          "text": [
            " Model KNN n_neighborsne = 9 มีความแม่นยำที่โมเดลทำนาย Churn ของ X_test = 0.8590704647676162\n"
          ]
        }
      ]
    },
    {
      "cell_type": "markdown",
      "source": [
        "- โค้ดนี้เป็นการฝึกและใช้งานโมเดล KNN ด้วยการกำหนด hyperparameters =13 \n",
        "- ใช้ X_train และ y_train เพื่อฝึกโมเดล \n",
        "- ทดสอบโมเดลด้วยชุดข้อมูล X_test และ y_test\n",
        "- แสดงผลลัพธ์เป็น yknn_pred1 ซึ่งเป็นค่าที่โมเดลทำนาย Churn ของ X_test ออกมาได้"
      ],
      "metadata": {
        "id": "GOfeyptW-1fh"
      }
    },
    {
      "cell_type": "markdown",
      "source": [
        "## Navie Bays\n",
        "- Naive Bayes Classification เป็น Model ใช้ในการแบ่งกลุ่มหรือหาเหตุการณ์ที่จะเกิดขึ้น ซึ่ง Target ของโมเดลจะเพิ่มโอกาสในการเกิดเหตุการณ์เข้าไป\n",
        "\n",
        "- การปรับปรุงประสิทธิภาพการจัดประเภท คุณสามารถลองใช้ตัวแยกประเภท GaussianNB แทน ซึ่งเหมาะสำหรับข้อมูลที่ต่อเนื่องมากกว่า"
      ],
      "metadata": {
        "id": "ORcUYcQOQ8Js"
      }
    },
    {
      "cell_type": "code",
      "source": [
        "from sklearn.naive_bayes import MultinomialNB, GaussianNB\n",
        "from sklearn.preprocessing import StandardScaler\n",
        "from sklearn.metrics import f1_score, recall_score"
      ],
      "metadata": {
        "id": "PhUPFI8XRAcs"
      },
      "execution_count": null,
      "outputs": []
    },
    {
      "cell_type": "code",
      "source": [
        "gnb = GaussianNB()\n",
        "gnb.fit(X_train, y_train)\n",
        "y_pred0 = gnb.predict(X_test)\n",
        "gnb_score0 = gnb.score(X_test, y_test)\n",
        "gnb_score0\n",
        "f1 = f1_score(y_test, y_pred0)\n",
        "recall = recall_score(y_test, y_pred0)\n",
        "\n",
        "print(\"โมเดล GaussianNB ได้ค่าทำนาย =\", gnb_score0)\n",
        "print(\"F1 ได้ค่าเฉลี่ยของความแม่นยำของการทำนาย =\", f1) #(มีค่าระหว่าง 0 ถึง 1 ค่าที่มากกว่าแสดงว่าโมเดลสามารถทำนายได้ดีมากขึ้น)\n",
        "print(\"Recall ได้ค่าสัมประสิทธิ์การทำนายความถูกต้องของโมเดล =\", recall) #(มีค่าระหว่าง 0 ถึง 1 ค่าที่มากกว่าแสดงว่าโมเดลสามารถทำนายได้ดีมากขึ้น)"
      ],
      "metadata": {
        "id": "MLJyqlvre3qH",
        "colab": {
          "base_uri": "https://localhost:8080/"
        },
        "outputId": "22372766-e043-445f-fdc4-9bd51df075f5"
      },
      "execution_count": null,
      "outputs": [
        {
          "output_type": "stream",
          "name": "stdout",
          "text": [
            "โมเดล GaussianNB ได้ค่าทำนาย = 0.5922038980509745\n",
            "F1 ได้ค่าเฉลี่ยของความแม่นยำของการทำนาย = 0.26881720430107525\n",
            "Recall ได้ค่าสัมประสิทธิ์การทำนายความถูกต้องของโมเดล = 0.5263157894736842\n"
          ]
        }
      ]
    },
    {
      "cell_type": "markdown",
      "source": [
        "- เนื่องจากOutput gnb_score1 มีค่าน้อยมาก = 0.636, 63%\n",
        "- ทำให้ต้องมีการรวิเคราะห์สหสัมพันธ์ : แต่ละรายการกับตัวแปรเป้าหมาย = corr\n",
        "- มองหา freatures ที่มี corr. กับ target สูงๆ ใช้ทำนายในโมเดลนี้ =\n",
        "- [\"Total day minute\"], [\"Total Day Charge\"], [\"Customer Service Call\"]"
      ],
      "metadata": {
        "id": "tTD8yrSZkW8v"
      }
    },
    {
      "cell_type": "markdown",
      "source": [
        "####ปรับปรุงโมเดล Naviy Bay "
      ],
      "metadata": {
        "id": "C9vlVJOGgHG_"
      }
    },
    {
      "cell_type": "code",
      "source": [
        "X_train_Corr  = data1_en_train[['Total day minutes','Total day charge','Customer service calls']] # เลือกคอลัมน์ 3 คอลัมน์มาทำ Model เพราะ มีค่า Corr ดีสุด\n",
        "y_train_Corr  = data1_en_train[['Churn']]\n",
        "X_test_Corr   = data2_en_test[['Total day minutes','Total day charge','Customer service calls']]\n",
        "y_test_Corr   = data2_en_test[['Churn']]"
      ],
      "metadata": {
        "id": "jri6j88pPwIK"
      },
      "execution_count": null,
      "outputs": []
    },
    {
      "cell_type": "code",
      "source": [
        "gnb = GaussianNB()\n",
        "gnb.fit(X_train_Corr, y_train_Corr)\n",
        "y_pred = gnb.predict(X_test_Corr)\n",
        "\n",
        "gnb_score = gnb.score(X_test_Corr, y_test_Corr)\n",
        "f1 = f1_score(y_test_Corr, y_pred)\n",
        "recall = recall_score(y_test_Corr, y_pred)\n",
        "\n",
        "print(\"โมเดล GaussianNB ได้ค่าทำนาย =\", gnb_score)\n",
        "print(\"F1 ได้ค่าเฉลี่ยของความแม่นยำของการทำนาย =\", f1) #(มีค่าระหว่าง 0 ถึง 1 ค่าที่มากกว่าแสดงว่าโมเดลสามารถทำนายได้ดีมากขึ้น)\n",
        "print(\"Recall ได้ค่าสัมประสิทธิ์การทำนายความถูกต้องของโมเดล =\", recall) #(มีค่าระหว่าง 0 ถึง 1 ค่าที่มากกว่าแสดงว่าโมเดลสามารถทำนายได้ดีมากขึ้น)"
      ],
      "metadata": {
        "colab": {
          "base_uri": "https://localhost:8080/"
        },
        "id": "e3AnhY6_QHM2",
        "outputId": "1f8b7f24-e7c4-4b38-aa05-cdb9c37ac5b1"
      },
      "execution_count": null,
      "outputs": [
        {
          "output_type": "stream",
          "name": "stdout",
          "text": [
            "โมเดล GaussianNB ได้ค่าทำนาย = 0.8740629685157422\n",
            "F1 ได้ค่าเฉลี่ยของความแม่นยำของการทำนาย = 0.46835443037974683\n",
            "Recall ได้ค่าสัมประสิทธิ์การทำนายความถูกต้องของโมเดล = 0.3894736842105263\n"
          ]
        }
      ]
    },
    {
      "cell_type": "markdown",
      "source": [
        "## สรุปจากการคำนวณความแม่นยำของโมเดล\n",
        "- Model DecisionTree\n",
        "ได้ค่า Accuracy เท่ากับ 0.9460269865067467\n",
        "\n",
        "- KNeighbors\n",
        "Model ที่ดีที่สุดคือ K=9, weighted='distance' \n",
        "ได้ค่า Accuracy เท่ากับ 0.8590704647676162\n",
        "\n",
        "- NaiveBayes\n",
        "ได่ค่า Accuracy เท่ากับ 0.8740629685157422\n",
        "\n",
        "จึงสรุปว่า\n",
        "เลือกใช้โมเดลที่ดีที่สุดคือ DecisionTree Accuracy ค่า Accuracy เท่ากับ 0.95 หรือ 95%"
      ],
      "metadata": {
        "id": "hE_5fi04cYJz"
      }
    },
    {
      "cell_type": "code",
      "source": [
        "print(DT_score, knn_score, gnb_score0)\n"
      ],
      "metadata": {
        "colab": {
          "base_uri": "https://localhost:8080/"
        },
        "id": "RP62EUxFtBte",
        "outputId": "591a528e-1931-48e8-daf5-a0c72f70ed76"
      },
      "execution_count": null,
      "outputs": [
        {
          "output_type": "stream",
          "name": "stdout",
          "text": [
            "0.9460269865067467 0.8590704647676162 0.5922038980509745\n"
          ]
        }
      ]
    },
    {
      "cell_type": "markdown",
      "source": [
        "#Association rules"
      ],
      "metadata": {
        "id": "_fcGF5nVbZO6"
      }
    },
    {
      "cell_type": "code",
      "source": [
        "!pip install apyori\n",
        "from mlxtend.frequent_patterns import apriori\n",
        "from mlxtend.frequent_patterns import association_rules\n"
      ],
      "metadata": {
        "id": "O5vQQ4uZtCfQ",
        "colab": {
          "base_uri": "https://localhost:8080/"
        },
        "outputId": "066efb8a-e434-4499-d039-f16d3444f55c"
      },
      "execution_count": null,
      "outputs": [
        {
          "output_type": "stream",
          "name": "stdout",
          "text": [
            "Looking in indexes: https://pypi.org/simple, https://us-python.pkg.dev/colab-wheels/public/simple/\n",
            "Collecting apyori\n",
            "  Downloading apyori-1.1.2.tar.gz (8.6 kB)\n",
            "  Preparing metadata (setup.py) ... \u001b[?25l\u001b[?25hdone\n",
            "Building wheels for collected packages: apyori\n",
            "  Building wheel for apyori (setup.py) ... \u001b[?25l\u001b[?25hdone\n",
            "  Created wheel for apyori: filename=apyori-1.1.2-py3-none-any.whl size=5976 sha256=93a05d1bfe9ae0d4f07aed3b27933a781177a50507162d704c8fdcaa18619115\n",
            "  Stored in directory: /root/.cache/pip/wheels/32/2a/54/10c595515f385f3726642b10c60bf788029e8f3a1323e3913a\n",
            "Successfully built apyori\n",
            "Installing collected packages: apyori\n",
            "Successfully installed apyori-1.1.2\n"
          ]
        }
      ]
    },
    {
      "cell_type": "code",
      "source": [
        "data.head()"
      ],
      "metadata": {
        "colab": {
          "base_uri": "https://localhost:8080/",
          "height": 305
        },
        "id": "ftpht4J4g4Ds",
        "outputId": "d66496d1-e6e4-48bf-d630-13c7b934f980"
      },
      "execution_count": null,
      "outputs": [
        {
          "output_type": "execute_result",
          "data": {
            "text/plain": [
              "  State  Account length  Area code International plan Voice mail plan  \\\n",
              "1    KS             128        415                 No             Yes   \n",
              "2    OH             107        415                 No             Yes   \n",
              "3    NJ             137        415                 No              No   \n",
              "4    OH              84        408                Yes              No   \n",
              "5    OK              75        415                Yes              No   \n",
              "\n",
              "   Number vmail messages  Total day minutes  Total day calls  \\\n",
              "1                     25              265.1              110   \n",
              "2                     26              161.6              123   \n",
              "3                      0              243.4              114   \n",
              "4                      0              299.4               71   \n",
              "5                      0              166.7              113   \n",
              "\n",
              "   Total day charge  Total eve minutes  Total eve calls  Total eve charge  \\\n",
              "1             45.07              197.4               99             16.78   \n",
              "2             27.47              195.5              103             16.62   \n",
              "3             41.38              121.2              110             10.30   \n",
              "4             50.90               61.9               88              5.26   \n",
              "5             28.34              148.3              122             12.61   \n",
              "\n",
              "   Total night minutes  Total night calls  Total night charge  \\\n",
              "1                244.7                 91               11.01   \n",
              "2                254.4                103               11.45   \n",
              "3                162.6                104                7.32   \n",
              "4                196.9                 89                8.86   \n",
              "5                186.9                121                8.41   \n",
              "\n",
              "   Total intl minutes  Total intl calls  Total intl charge  \\\n",
              "1                10.0                 3               2.70   \n",
              "2                13.7                 3               3.70   \n",
              "3                12.2                 5               3.29   \n",
              "4                 6.6                 7               1.78   \n",
              "5                10.1                 3               2.73   \n",
              "\n",
              "   Customer service calls  Churn  \n",
              "1                       1  False  \n",
              "2                       1  False  \n",
              "3                       0  False  \n",
              "4                       2  False  \n",
              "5                       3  False  "
            ],
            "text/html": [
              "\n",
              "  <div id=\"df-4f07d6c2-6d00-4e96-ba9d-ca0bf4d61f6a\">\n",
              "    <div class=\"colab-df-container\">\n",
              "      <div>\n",
              "<style scoped>\n",
              "    .dataframe tbody tr th:only-of-type {\n",
              "        vertical-align: middle;\n",
              "    }\n",
              "\n",
              "    .dataframe tbody tr th {\n",
              "        vertical-align: top;\n",
              "    }\n",
              "\n",
              "    .dataframe thead th {\n",
              "        text-align: right;\n",
              "    }\n",
              "</style>\n",
              "<table border=\"1\" class=\"dataframe\">\n",
              "  <thead>\n",
              "    <tr style=\"text-align: right;\">\n",
              "      <th></th>\n",
              "      <th>State</th>\n",
              "      <th>Account length</th>\n",
              "      <th>Area code</th>\n",
              "      <th>International plan</th>\n",
              "      <th>Voice mail plan</th>\n",
              "      <th>Number vmail messages</th>\n",
              "      <th>Total day minutes</th>\n",
              "      <th>Total day calls</th>\n",
              "      <th>Total day charge</th>\n",
              "      <th>Total eve minutes</th>\n",
              "      <th>Total eve calls</th>\n",
              "      <th>Total eve charge</th>\n",
              "      <th>Total night minutes</th>\n",
              "      <th>Total night calls</th>\n",
              "      <th>Total night charge</th>\n",
              "      <th>Total intl minutes</th>\n",
              "      <th>Total intl calls</th>\n",
              "      <th>Total intl charge</th>\n",
              "      <th>Customer service calls</th>\n",
              "      <th>Churn</th>\n",
              "    </tr>\n",
              "  </thead>\n",
              "  <tbody>\n",
              "    <tr>\n",
              "      <th>1</th>\n",
              "      <td>KS</td>\n",
              "      <td>128</td>\n",
              "      <td>415</td>\n",
              "      <td>No</td>\n",
              "      <td>Yes</td>\n",
              "      <td>25</td>\n",
              "      <td>265.1</td>\n",
              "      <td>110</td>\n",
              "      <td>45.07</td>\n",
              "      <td>197.4</td>\n",
              "      <td>99</td>\n",
              "      <td>16.78</td>\n",
              "      <td>244.7</td>\n",
              "      <td>91</td>\n",
              "      <td>11.01</td>\n",
              "      <td>10.0</td>\n",
              "      <td>3</td>\n",
              "      <td>2.70</td>\n",
              "      <td>1</td>\n",
              "      <td>False</td>\n",
              "    </tr>\n",
              "    <tr>\n",
              "      <th>2</th>\n",
              "      <td>OH</td>\n",
              "      <td>107</td>\n",
              "      <td>415</td>\n",
              "      <td>No</td>\n",
              "      <td>Yes</td>\n",
              "      <td>26</td>\n",
              "      <td>161.6</td>\n",
              "      <td>123</td>\n",
              "      <td>27.47</td>\n",
              "      <td>195.5</td>\n",
              "      <td>103</td>\n",
              "      <td>16.62</td>\n",
              "      <td>254.4</td>\n",
              "      <td>103</td>\n",
              "      <td>11.45</td>\n",
              "      <td>13.7</td>\n",
              "      <td>3</td>\n",
              "      <td>3.70</td>\n",
              "      <td>1</td>\n",
              "      <td>False</td>\n",
              "    </tr>\n",
              "    <tr>\n",
              "      <th>3</th>\n",
              "      <td>NJ</td>\n",
              "      <td>137</td>\n",
              "      <td>415</td>\n",
              "      <td>No</td>\n",
              "      <td>No</td>\n",
              "      <td>0</td>\n",
              "      <td>243.4</td>\n",
              "      <td>114</td>\n",
              "      <td>41.38</td>\n",
              "      <td>121.2</td>\n",
              "      <td>110</td>\n",
              "      <td>10.30</td>\n",
              "      <td>162.6</td>\n",
              "      <td>104</td>\n",
              "      <td>7.32</td>\n",
              "      <td>12.2</td>\n",
              "      <td>5</td>\n",
              "      <td>3.29</td>\n",
              "      <td>0</td>\n",
              "      <td>False</td>\n",
              "    </tr>\n",
              "    <tr>\n",
              "      <th>4</th>\n",
              "      <td>OH</td>\n",
              "      <td>84</td>\n",
              "      <td>408</td>\n",
              "      <td>Yes</td>\n",
              "      <td>No</td>\n",
              "      <td>0</td>\n",
              "      <td>299.4</td>\n",
              "      <td>71</td>\n",
              "      <td>50.90</td>\n",
              "      <td>61.9</td>\n",
              "      <td>88</td>\n",
              "      <td>5.26</td>\n",
              "      <td>196.9</td>\n",
              "      <td>89</td>\n",
              "      <td>8.86</td>\n",
              "      <td>6.6</td>\n",
              "      <td>7</td>\n",
              "      <td>1.78</td>\n",
              "      <td>2</td>\n",
              "      <td>False</td>\n",
              "    </tr>\n",
              "    <tr>\n",
              "      <th>5</th>\n",
              "      <td>OK</td>\n",
              "      <td>75</td>\n",
              "      <td>415</td>\n",
              "      <td>Yes</td>\n",
              "      <td>No</td>\n",
              "      <td>0</td>\n",
              "      <td>166.7</td>\n",
              "      <td>113</td>\n",
              "      <td>28.34</td>\n",
              "      <td>148.3</td>\n",
              "      <td>122</td>\n",
              "      <td>12.61</td>\n",
              "      <td>186.9</td>\n",
              "      <td>121</td>\n",
              "      <td>8.41</td>\n",
              "      <td>10.1</td>\n",
              "      <td>3</td>\n",
              "      <td>2.73</td>\n",
              "      <td>3</td>\n",
              "      <td>False</td>\n",
              "    </tr>\n",
              "  </tbody>\n",
              "</table>\n",
              "</div>\n",
              "      <button class=\"colab-df-convert\" onclick=\"convertToInteractive('df-4f07d6c2-6d00-4e96-ba9d-ca0bf4d61f6a')\"\n",
              "              title=\"Convert this dataframe to an interactive table.\"\n",
              "              style=\"display:none;\">\n",
              "        \n",
              "  <svg xmlns=\"http://www.w3.org/2000/svg\" height=\"24px\"viewBox=\"0 0 24 24\"\n",
              "       width=\"24px\">\n",
              "    <path d=\"M0 0h24v24H0V0z\" fill=\"none\"/>\n",
              "    <path d=\"M18.56 5.44l.94 2.06.94-2.06 2.06-.94-2.06-.94-.94-2.06-.94 2.06-2.06.94zm-11 1L8.5 8.5l.94-2.06 2.06-.94-2.06-.94L8.5 2.5l-.94 2.06-2.06.94zm10 10l.94 2.06.94-2.06 2.06-.94-2.06-.94-.94-2.06-.94 2.06-2.06.94z\"/><path d=\"M17.41 7.96l-1.37-1.37c-.4-.4-.92-.59-1.43-.59-.52 0-1.04.2-1.43.59L10.3 9.45l-7.72 7.72c-.78.78-.78 2.05 0 2.83L4 21.41c.39.39.9.59 1.41.59.51 0 1.02-.2 1.41-.59l7.78-7.78 2.81-2.81c.8-.78.8-2.07 0-2.86zM5.41 20L4 18.59l7.72-7.72 1.47 1.35L5.41 20z\"/>\n",
              "  </svg>\n",
              "      </button>\n",
              "      \n",
              "  <style>\n",
              "    .colab-df-container {\n",
              "      display:flex;\n",
              "      flex-wrap:wrap;\n",
              "      gap: 12px;\n",
              "    }\n",
              "\n",
              "    .colab-df-convert {\n",
              "      background-color: #E8F0FE;\n",
              "      border: none;\n",
              "      border-radius: 50%;\n",
              "      cursor: pointer;\n",
              "      display: none;\n",
              "      fill: #1967D2;\n",
              "      height: 32px;\n",
              "      padding: 0 0 0 0;\n",
              "      width: 32px;\n",
              "    }\n",
              "\n",
              "    .colab-df-convert:hover {\n",
              "      background-color: #E2EBFA;\n",
              "      box-shadow: 0px 1px 2px rgba(60, 64, 67, 0.3), 0px 1px 3px 1px rgba(60, 64, 67, 0.15);\n",
              "      fill: #174EA6;\n",
              "    }\n",
              "\n",
              "    [theme=dark] .colab-df-convert {\n",
              "      background-color: #3B4455;\n",
              "      fill: #D2E3FC;\n",
              "    }\n",
              "\n",
              "    [theme=dark] .colab-df-convert:hover {\n",
              "      background-color: #434B5C;\n",
              "      box-shadow: 0px 1px 3px 1px rgba(0, 0, 0, 0.15);\n",
              "      filter: drop-shadow(0px 1px 2px rgba(0, 0, 0, 0.3));\n",
              "      fill: #FFFFFF;\n",
              "    }\n",
              "  </style>\n",
              "\n",
              "      <script>\n",
              "        const buttonEl =\n",
              "          document.querySelector('#df-4f07d6c2-6d00-4e96-ba9d-ca0bf4d61f6a button.colab-df-convert');\n",
              "        buttonEl.style.display =\n",
              "          google.colab.kernel.accessAllowed ? 'block' : 'none';\n",
              "\n",
              "        async function convertToInteractive(key) {\n",
              "          const element = document.querySelector('#df-4f07d6c2-6d00-4e96-ba9d-ca0bf4d61f6a');\n",
              "          const dataTable =\n",
              "            await google.colab.kernel.invokeFunction('convertToInteractive',\n",
              "                                                     [key], {});\n",
              "          if (!dataTable) return;\n",
              "\n",
              "          const docLinkHtml = 'Like what you see? Visit the ' +\n",
              "            '<a target=\"_blank\" href=https://colab.research.google.com/notebooks/data_table.ipynb>data table notebook</a>'\n",
              "            + ' to learn more about interactive tables.';\n",
              "          element.innerHTML = '';\n",
              "          dataTable['output_type'] = 'display_data';\n",
              "          await google.colab.output.renderOutput(dataTable, element);\n",
              "          const docLink = document.createElement('div');\n",
              "          docLink.innerHTML = docLinkHtml;\n",
              "          element.appendChild(docLink);\n",
              "        }\n",
              "      </script>\n",
              "    </div>\n",
              "  </div>\n",
              "  "
            ]
          },
          "metadata": {},
          "execution_count": 48
        }
      ]
    },
    {
      "cell_type": "code",
      "source": [
        "data[\"Churn\"] = data[\"Churn\"].replace({True: 1, False: 0})\n",
        "dataAZ1 = data.copy()\n",
        "dataAZ1['total_call_all_day'] = dataAZ1['Total day minutes'] + dataAZ1['Total eve minutes'] + dataAZ1['Total night minutes']\n",
        "dataAZ1 = dataAZ1[['total_call_all_day','Churn']]\n",
        "dataAZ1.head()"
      ],
      "metadata": {
        "id": "zlwrtXlG3RaF",
        "colab": {
          "base_uri": "https://localhost:8080/",
          "height": 206
        },
        "outputId": "6ace5013-e019-4bbf-c5c1-3f852ff8c8fc"
      },
      "execution_count": null,
      "outputs": [
        {
          "output_type": "execute_result",
          "data": {
            "text/plain": [
              "   total_call_all_day  Churn\n",
              "1               707.2      0\n",
              "2               611.5      0\n",
              "3               527.2      0\n",
              "4               558.2      0\n",
              "5               501.9      0"
            ],
            "text/html": [
              "\n",
              "  <div id=\"df-7cdd0f6c-c611-4ebb-9f56-3046899f0429\">\n",
              "    <div class=\"colab-df-container\">\n",
              "      <div>\n",
              "<style scoped>\n",
              "    .dataframe tbody tr th:only-of-type {\n",
              "        vertical-align: middle;\n",
              "    }\n",
              "\n",
              "    .dataframe tbody tr th {\n",
              "        vertical-align: top;\n",
              "    }\n",
              "\n",
              "    .dataframe thead th {\n",
              "        text-align: right;\n",
              "    }\n",
              "</style>\n",
              "<table border=\"1\" class=\"dataframe\">\n",
              "  <thead>\n",
              "    <tr style=\"text-align: right;\">\n",
              "      <th></th>\n",
              "      <th>total_call_all_day</th>\n",
              "      <th>Churn</th>\n",
              "    </tr>\n",
              "  </thead>\n",
              "  <tbody>\n",
              "    <tr>\n",
              "      <th>1</th>\n",
              "      <td>707.2</td>\n",
              "      <td>0</td>\n",
              "    </tr>\n",
              "    <tr>\n",
              "      <th>2</th>\n",
              "      <td>611.5</td>\n",
              "      <td>0</td>\n",
              "    </tr>\n",
              "    <tr>\n",
              "      <th>3</th>\n",
              "      <td>527.2</td>\n",
              "      <td>0</td>\n",
              "    </tr>\n",
              "    <tr>\n",
              "      <th>4</th>\n",
              "      <td>558.2</td>\n",
              "      <td>0</td>\n",
              "    </tr>\n",
              "    <tr>\n",
              "      <th>5</th>\n",
              "      <td>501.9</td>\n",
              "      <td>0</td>\n",
              "    </tr>\n",
              "  </tbody>\n",
              "</table>\n",
              "</div>\n",
              "      <button class=\"colab-df-convert\" onclick=\"convertToInteractive('df-7cdd0f6c-c611-4ebb-9f56-3046899f0429')\"\n",
              "              title=\"Convert this dataframe to an interactive table.\"\n",
              "              style=\"display:none;\">\n",
              "        \n",
              "  <svg xmlns=\"http://www.w3.org/2000/svg\" height=\"24px\"viewBox=\"0 0 24 24\"\n",
              "       width=\"24px\">\n",
              "    <path d=\"M0 0h24v24H0V0z\" fill=\"none\"/>\n",
              "    <path d=\"M18.56 5.44l.94 2.06.94-2.06 2.06-.94-2.06-.94-.94-2.06-.94 2.06-2.06.94zm-11 1L8.5 8.5l.94-2.06 2.06-.94-2.06-.94L8.5 2.5l-.94 2.06-2.06.94zm10 10l.94 2.06.94-2.06 2.06-.94-2.06-.94-.94-2.06-.94 2.06-2.06.94z\"/><path d=\"M17.41 7.96l-1.37-1.37c-.4-.4-.92-.59-1.43-.59-.52 0-1.04.2-1.43.59L10.3 9.45l-7.72 7.72c-.78.78-.78 2.05 0 2.83L4 21.41c.39.39.9.59 1.41.59.51 0 1.02-.2 1.41-.59l7.78-7.78 2.81-2.81c.8-.78.8-2.07 0-2.86zM5.41 20L4 18.59l7.72-7.72 1.47 1.35L5.41 20z\"/>\n",
              "  </svg>\n",
              "      </button>\n",
              "      \n",
              "  <style>\n",
              "    .colab-df-container {\n",
              "      display:flex;\n",
              "      flex-wrap:wrap;\n",
              "      gap: 12px;\n",
              "    }\n",
              "\n",
              "    .colab-df-convert {\n",
              "      background-color: #E8F0FE;\n",
              "      border: none;\n",
              "      border-radius: 50%;\n",
              "      cursor: pointer;\n",
              "      display: none;\n",
              "      fill: #1967D2;\n",
              "      height: 32px;\n",
              "      padding: 0 0 0 0;\n",
              "      width: 32px;\n",
              "    }\n",
              "\n",
              "    .colab-df-convert:hover {\n",
              "      background-color: #E2EBFA;\n",
              "      box-shadow: 0px 1px 2px rgba(60, 64, 67, 0.3), 0px 1px 3px 1px rgba(60, 64, 67, 0.15);\n",
              "      fill: #174EA6;\n",
              "    }\n",
              "\n",
              "    [theme=dark] .colab-df-convert {\n",
              "      background-color: #3B4455;\n",
              "      fill: #D2E3FC;\n",
              "    }\n",
              "\n",
              "    [theme=dark] .colab-df-convert:hover {\n",
              "      background-color: #434B5C;\n",
              "      box-shadow: 0px 1px 3px 1px rgba(0, 0, 0, 0.15);\n",
              "      filter: drop-shadow(0px 1px 2px rgba(0, 0, 0, 0.3));\n",
              "      fill: #FFFFFF;\n",
              "    }\n",
              "  </style>\n",
              "\n",
              "      <script>\n",
              "        const buttonEl =\n",
              "          document.querySelector('#df-7cdd0f6c-c611-4ebb-9f56-3046899f0429 button.colab-df-convert');\n",
              "        buttonEl.style.display =\n",
              "          google.colab.kernel.accessAllowed ? 'block' : 'none';\n",
              "\n",
              "        async function convertToInteractive(key) {\n",
              "          const element = document.querySelector('#df-7cdd0f6c-c611-4ebb-9f56-3046899f0429');\n",
              "          const dataTable =\n",
              "            await google.colab.kernel.invokeFunction('convertToInteractive',\n",
              "                                                     [key], {});\n",
              "          if (!dataTable) return;\n",
              "\n",
              "          const docLinkHtml = 'Like what you see? Visit the ' +\n",
              "            '<a target=\"_blank\" href=https://colab.research.google.com/notebooks/data_table.ipynb>data table notebook</a>'\n",
              "            + ' to learn more about interactive tables.';\n",
              "          element.innerHTML = '';\n",
              "          dataTable['output_type'] = 'display_data';\n",
              "          await google.colab.output.renderOutput(dataTable, element);\n",
              "          const docLink = document.createElement('div');\n",
              "          docLink.innerHTML = docLinkHtml;\n",
              "          element.appendChild(docLink);\n",
              "        }\n",
              "      </script>\n",
              "    </div>\n",
              "  </div>\n",
              "  "
            ]
          },
          "metadata": {},
          "execution_count": 49
        }
      ]
    },
    {
      "cell_type": "markdown",
      "source": [
        "### แก้ตาราง ทำช่วง นาที"
      ],
      "metadata": {
        "id": "qGEGmu-IgXdq"
      }
    },
    {
      "cell_type": "code",
      "source": [
        "# create a new column 'total_call_all_day_range'\n",
        "dataAZ1['total_call_all_day_range'] = pd.cut(dataAZ1['total_call_all_day'], [200, 500, 900], labels=['total_call_all_day 201-500', 'total_call_all_day 501-900'])\n",
        "# create dummies\n",
        "dummies = pd.get_dummies(dataAZ1['total_call_all_day_range'])\n",
        "# concatenate dummies with original dataframe\n",
        "dataAZ1 = pd.concat([dataAZ1, dummies], axis=1)\n",
        "dataAZ1 = dataAZ1.drop(['total_call_all_day', 'total_call_all_day_range'], axis=1)\n",
        "dataAZ1 = dataAZ1[['total_call_all_day 201-500', 'total_call_all_day 501-900','Churn']]"
      ],
      "metadata": {
        "id": "nA8trYhmiGJU"
      },
      "execution_count": null,
      "outputs": []
    },
    {
      "cell_type": "code",
      "source": [
        "# ทำ one-hot encoding กับคอลัมน์ 'total_call_all_day'\n",
        "onehot_data = pd.get_dummies(dataAZ1)\n",
        "\n",
        "# สร้างกฎโดยใช้ apriori algorithm\n",
        "frequent_itemsets = apriori(onehot_data, min_support=0.1, use_colnames=True)\n",
        "\n",
        "# สร้างกฎด้วย association rule\n",
        "rules = association_rules(frequent_itemsets, metric=\"lift\", min_threshold=0)\n",
        "\n",
        "# แสดงผลลัพธ์\n",
        "rules"
      ],
      "metadata": {
        "colab": {
          "base_uri": "https://localhost:8080/",
          "height": 112
        },
        "id": "UmUbjR-slDPZ",
        "outputId": "c115a94d-77a7-454c-832f-92a3c0f84262"
      },
      "execution_count": null,
      "outputs": [
        {
          "output_type": "execute_result",
          "data": {
            "text/plain": [
              "                    antecedents                   consequents  \\\n",
              "0  (total_call_all_day 501-900)                       (Churn)   \n",
              "1                       (Churn)  (total_call_all_day 501-900)   \n",
              "\n",
              "   antecedent support  consequent support   support  confidence     lift  \\\n",
              "0            0.816082            0.144914  0.122712    0.150368  1.03763   \n",
              "1            0.144914            0.816082  0.122712    0.846791  1.03763   \n",
              "\n",
              "   leverage  conviction  \n",
              "0   0.00445    1.006418  \n",
              "1   0.00445    1.200440  "
            ],
            "text/html": [
              "\n",
              "  <div id=\"df-a448b86b-1428-4ea1-82d8-0c611e9df522\">\n",
              "    <div class=\"colab-df-container\">\n",
              "      <div>\n",
              "<style scoped>\n",
              "    .dataframe tbody tr th:only-of-type {\n",
              "        vertical-align: middle;\n",
              "    }\n",
              "\n",
              "    .dataframe tbody tr th {\n",
              "        vertical-align: top;\n",
              "    }\n",
              "\n",
              "    .dataframe thead th {\n",
              "        text-align: right;\n",
              "    }\n",
              "</style>\n",
              "<table border=\"1\" class=\"dataframe\">\n",
              "  <thead>\n",
              "    <tr style=\"text-align: right;\">\n",
              "      <th></th>\n",
              "      <th>antecedents</th>\n",
              "      <th>consequents</th>\n",
              "      <th>antecedent support</th>\n",
              "      <th>consequent support</th>\n",
              "      <th>support</th>\n",
              "      <th>confidence</th>\n",
              "      <th>lift</th>\n",
              "      <th>leverage</th>\n",
              "      <th>conviction</th>\n",
              "    </tr>\n",
              "  </thead>\n",
              "  <tbody>\n",
              "    <tr>\n",
              "      <th>0</th>\n",
              "      <td>(total_call_all_day 501-900)</td>\n",
              "      <td>(Churn)</td>\n",
              "      <td>0.816082</td>\n",
              "      <td>0.144914</td>\n",
              "      <td>0.122712</td>\n",
              "      <td>0.150368</td>\n",
              "      <td>1.03763</td>\n",
              "      <td>0.00445</td>\n",
              "      <td>1.006418</td>\n",
              "    </tr>\n",
              "    <tr>\n",
              "      <th>1</th>\n",
              "      <td>(Churn)</td>\n",
              "      <td>(total_call_all_day 501-900)</td>\n",
              "      <td>0.144914</td>\n",
              "      <td>0.816082</td>\n",
              "      <td>0.122712</td>\n",
              "      <td>0.846791</td>\n",
              "      <td>1.03763</td>\n",
              "      <td>0.00445</td>\n",
              "      <td>1.200440</td>\n",
              "    </tr>\n",
              "  </tbody>\n",
              "</table>\n",
              "</div>\n",
              "      <button class=\"colab-df-convert\" onclick=\"convertToInteractive('df-a448b86b-1428-4ea1-82d8-0c611e9df522')\"\n",
              "              title=\"Convert this dataframe to an interactive table.\"\n",
              "              style=\"display:none;\">\n",
              "        \n",
              "  <svg xmlns=\"http://www.w3.org/2000/svg\" height=\"24px\"viewBox=\"0 0 24 24\"\n",
              "       width=\"24px\">\n",
              "    <path d=\"M0 0h24v24H0V0z\" fill=\"none\"/>\n",
              "    <path d=\"M18.56 5.44l.94 2.06.94-2.06 2.06-.94-2.06-.94-.94-2.06-.94 2.06-2.06.94zm-11 1L8.5 8.5l.94-2.06 2.06-.94-2.06-.94L8.5 2.5l-.94 2.06-2.06.94zm10 10l.94 2.06.94-2.06 2.06-.94-2.06-.94-.94-2.06-.94 2.06-2.06.94z\"/><path d=\"M17.41 7.96l-1.37-1.37c-.4-.4-.92-.59-1.43-.59-.52 0-1.04.2-1.43.59L10.3 9.45l-7.72 7.72c-.78.78-.78 2.05 0 2.83L4 21.41c.39.39.9.59 1.41.59.51 0 1.02-.2 1.41-.59l7.78-7.78 2.81-2.81c.8-.78.8-2.07 0-2.86zM5.41 20L4 18.59l7.72-7.72 1.47 1.35L5.41 20z\"/>\n",
              "  </svg>\n",
              "      </button>\n",
              "      \n",
              "  <style>\n",
              "    .colab-df-container {\n",
              "      display:flex;\n",
              "      flex-wrap:wrap;\n",
              "      gap: 12px;\n",
              "    }\n",
              "\n",
              "    .colab-df-convert {\n",
              "      background-color: #E8F0FE;\n",
              "      border: none;\n",
              "      border-radius: 50%;\n",
              "      cursor: pointer;\n",
              "      display: none;\n",
              "      fill: #1967D2;\n",
              "      height: 32px;\n",
              "      padding: 0 0 0 0;\n",
              "      width: 32px;\n",
              "    }\n",
              "\n",
              "    .colab-df-convert:hover {\n",
              "      background-color: #E2EBFA;\n",
              "      box-shadow: 0px 1px 2px rgba(60, 64, 67, 0.3), 0px 1px 3px 1px rgba(60, 64, 67, 0.15);\n",
              "      fill: #174EA6;\n",
              "    }\n",
              "\n",
              "    [theme=dark] .colab-df-convert {\n",
              "      background-color: #3B4455;\n",
              "      fill: #D2E3FC;\n",
              "    }\n",
              "\n",
              "    [theme=dark] .colab-df-convert:hover {\n",
              "      background-color: #434B5C;\n",
              "      box-shadow: 0px 1px 3px 1px rgba(0, 0, 0, 0.15);\n",
              "      filter: drop-shadow(0px 1px 2px rgba(0, 0, 0, 0.3));\n",
              "      fill: #FFFFFF;\n",
              "    }\n",
              "  </style>\n",
              "\n",
              "      <script>\n",
              "        const buttonEl =\n",
              "          document.querySelector('#df-a448b86b-1428-4ea1-82d8-0c611e9df522 button.colab-df-convert');\n",
              "        buttonEl.style.display =\n",
              "          google.colab.kernel.accessAllowed ? 'block' : 'none';\n",
              "\n",
              "        async function convertToInteractive(key) {\n",
              "          const element = document.querySelector('#df-a448b86b-1428-4ea1-82d8-0c611e9df522');\n",
              "          const dataTable =\n",
              "            await google.colab.kernel.invokeFunction('convertToInteractive',\n",
              "                                                     [key], {});\n",
              "          if (!dataTable) return;\n",
              "\n",
              "          const docLinkHtml = 'Like what you see? Visit the ' +\n",
              "            '<a target=\"_blank\" href=https://colab.research.google.com/notebooks/data_table.ipynb>data table notebook</a>'\n",
              "            + ' to learn more about interactive tables.';\n",
              "          element.innerHTML = '';\n",
              "          dataTable['output_type'] = 'display_data';\n",
              "          await google.colab.output.renderOutput(dataTable, element);\n",
              "          const docLink = document.createElement('div');\n",
              "          docLink.innerHTML = docLinkHtml;\n",
              "          element.appendChild(docLink);\n",
              "        }\n",
              "      </script>\n",
              "    </div>\n",
              "  </div>\n",
              "  "
            ]
          },
          "metadata": {},
          "execution_count": 51
        }
      ]
    },
    {
      "cell_type": "markdown",
      "source": [
        "- antecedents คือ สิ่งที่เป็นก่อนหน้า (antecedent) ใน association rule นั้นๆ ซึ่งอาจเป็นสินค้าหรือคุณลักษณะที่ต้องการตรวจสอบว่าเมื่อมีการเลือกหนึ่งสิ่งนั้น สิ่งอื่นๆ จะเกิดขึ้นตามมา\n",
        "- consequents คือ สิ่งที่ตามมา (consequent) ใน association rule นั้นๆ ซึ่งอาจเป็นสินค้าหรือคุณลักษณะที่เกิดขึ้นตามจากสิ่งที่เป็นก่อนหน้านั้น\n",
        "- antecedent support คือ ความน่าจะเป็นของข้อมูลในชุดข้อมูลทั้งหมดที่มีคุณลักษณะตรงกับ antecedents\n",
        "- consequent support คือ ความน่าจะเป็นของข้อมูลในชุดข้อมูลทั้งหมดที่มีคุณลักษณะตรงกับ consequents\n",
        "- support คือ ความน่าจะเป็นของข้อมูลในชุดข้อมูลทั้งหมดที่มีคุณลักษณะตรงกับ antecedents และ consequents พร้อมกัน\n",
        "- confidence คือ ความน่าจะเป็นที่ consequents จะเกิดขึ้น โดยที่ antecedents เป็นจริง คือค่าเฉพาะกัน (support) ของ antecedents และ consequents ที่เกิดขึ้นพร้อมกัน (support) หารด้วยค่า support ของ antecedents\n",
        "\n",
        "- จะเห็นได้ว่าโอกาสที่ลูกค้าที่มี total_call_all_day อยู่ในช่วง 501-900 จะเป็นลูกค้าที่ยกเลิกบริการ (Churn_1) คือประมาณ 18.40%\n",
        "- จะเห็นได้ว่าโอกาสที่ลูกค้าที่มี total_call_all_day อยู่ในช่วง 501-900 จะเป็นลูกค้าที่ใช้บริการต่อ (Churn_0) Churn_0 คือประมาณ 81.60% "
      ],
      "metadata": {
        "id": "t2aRwV8Yl-GA"
      }
    },
    {
      "cell_type": "markdown",
      "source": [
        "##Clustering K-mean"
      ],
      "metadata": {
        "id": "OSdDz-u_DEd_"
      }
    },
    {
      "cell_type": "code",
      "source": [
        "from sklearn.cluster import KMeans\n",
        "import numpy as np\n",
        "import matplotlib.pyplot as plt\n"
      ],
      "metadata": {
        "id": "V6NdpI6yFHsQ"
      },
      "execution_count": null,
      "outputs": []
    },
    {
      "cell_type": "markdown",
      "source": [
        "###Prep\n"
      ],
      "metadata": {
        "id": "_1fKcdyyy5Q5"
      }
    },
    {
      "cell_type": "code",
      "source": [
        "from sklearn.preprocessing import LabelEncoder\n",
        "from sklearn.preprocessing import StandardScaler"
      ],
      "metadata": {
        "id": "yLqa_RGDzTiD"
      },
      "execution_count": null,
      "outputs": []
    },
    {
      "cell_type": "code",
      "source": [
        "col_to_drop = ['State', 'Area code', 'Total day charge', 'Total eve charge', \n",
        "               'Total night charge', 'Total intl charge']"
      ],
      "metadata": {
        "id": "MY8uGXZ0y6QB"
      },
      "execution_count": null,
      "outputs": []
    },
    {
      "cell_type": "code",
      "source": [
        "data_telcom = data1_train.drop(columns = col_to_drop, axis = 1)\n",
        "data_telcom_test = data2_test.drop(columns = col_to_drop, axis = 1)\n"
      ],
      "metadata": {
        "id": "pRUZG0nsy9EI"
      },
      "execution_count": null,
      "outputs": []
    },
    {
      "cell_type": "code",
      "source": [
        "target_col = [\"Churn\"]"
      ],
      "metadata": {
        "id": "qVT5cwAXzIW0"
      },
      "execution_count": null,
      "outputs": []
    },
    {
      "cell_type": "code",
      "source": [
        "#number of levels in feature to be a categorical feature\n",
        "nlevels = 6\n",
        "\n",
        "#Separating categorical and numerical columns\n",
        "#categorical columns\n",
        "cat_cols = list(set(data_telcom.nunique()[data_telcom.nunique()<nlevels].keys().tolist() \n",
        "                    + data_telcom.select_dtypes(include='object').columns.tolist()))\n",
        "cat_cols = [x for x in cat_cols if x not in target_col]\n",
        "#numerical columns\n",
        "num_cols = [x for x in data_telcom.columns if x not in cat_cols + target_col]\n",
        "#Binary columns with 2 values\n",
        "bin_cols = data_telcom.nunique()[data_telcom.nunique() == 2].keys().tolist()\n",
        "#Columns more than 2 values\n",
        "multi_cols = [i for i in cat_cols if i not in bin_cols]\n",
        "\n",
        "#Label encoding Binary columns\n",
        "le = LabelEncoder()\n",
        "for i in bin_cols:\n",
        "    data_telcom[i] = le.fit_transform(data_telcom[i])\n",
        "    data_telcom_test[i] = le.transform(data_telcom_test[i])\n",
        "\n",
        "#combining the train and test datasets\n",
        "trainsize = data_telcom.shape[0]\n",
        "comb = pd.concat((data_telcom, data_telcom_test), sort=False)\n",
        "\n",
        "#Duplicating columns for multi value columns\n",
        "comb = pd.get_dummies(data = comb, columns = multi_cols)\n",
        "\n",
        "#Separating the train and test datasets\n",
        "data_telcom = comb[:trainsize]\n",
        "data_telcom_test = comb[trainsize:]\n",
        "\n",
        "#Scaling Numerical columns\n",
        "std = StandardScaler()\n",
        "scaled = std.fit_transform(data_telcom[num_cols])\n",
        "scaled = pd.DataFrame(scaled, columns=num_cols)\n",
        "\n",
        "scaled_test = std.transform(data_telcom_test[num_cols])\n",
        "scaled_test = pd.DataFrame(scaled_test, columns=num_cols)\n",
        "\n",
        "#dropping original values merging scaled values for numerical columns\n",
        "df_telcom_og = data_telcom.copy()\n",
        "data_telcom = data_telcom.drop(columns = num_cols, axis = 1)\n",
        "data_telcom = data_telcom.merge(scaled, left_index=True, right_index=True, how = \"left\")\n",
        "\n",
        "df_telcom_test_og = data_telcom_test.copy()\n",
        "data_telcom_test = data_telcom_test.drop(columns = num_cols, axis = 1)\n",
        "data_telcom_test = data_telcom_test.merge(scaled_test, left_index=True, right_index=True, how = \"left\")"
      ],
      "metadata": {
        "id": "aZvlz20lzNsi"
      },
      "execution_count": null,
      "outputs": []
    },
    {
      "cell_type": "code",
      "source": [
        "def pca_scatter(pcadf, targetfeature, targetlabel, color):\n",
        "    tracer = go.Scatter(x = pcadf[pcadf[targetfeature]==targetlabel][\"PC1\"],\n",
        "                        y = pcadf[pcadf[targetfeature]==targetlabel][\"PC2\"],\n",
        "                        name = targetlabel, mode = \"markers\",\n",
        "                        marker = dict(color = color, line = dict(width = .5), symbol = \"diamond-open\"),\n",
        "                       )\n",
        "    return tracer"
      ],
      "metadata": {
        "id": "23mJTRapxnpF"
      },
      "execution_count": null,
      "outputs": []
    },
    {
      "cell_type": "code",
      "source": [
        "from sklearn.decomposition import PCA\n",
        "pca = PCA(n_components = 2)\n",
        "\n",
        "X = data_telcom[[i for i in data_telcom.columns if i not in target_col]]\n",
        "Y = data_telcom[target_col]\n",
        "\n",
        "principal_components = pca.fit_transform(X)\n",
        "pca_data = pd.DataFrame(principal_components, columns = [\"PC1\", \"PC2\"])\n",
        "pca_data = pca_data.merge(Y, left_index=True, right_index=True, how=\"left\")\n",
        "pca_data[\"Churn\"] = pca_data[\"Churn\"].replace({1: \"Churn\", 0: \"Not churn\"})\n",
        "\n",
        "layout = go.Layout(dict(title = \"Visualizing data with PCA\",\n",
        "                        plot_bgcolor = \"rgb(243,243,243)\",\n",
        "                        paper_bgcolor = \"rgb(243,243,243)\",\n",
        "                        xaxis = dict(gridcolor = 'rgb(255, 255, 255)',\n",
        "                                     title = \"first principal component (PC1)\",\n",
        "                                     zerolinewidth=1, ticklen=5, gridwidth=2),\n",
        "                        yaxis = dict(gridcolor = 'rgb(255, 255, 255)',\n",
        "                                     title = \"second principal component (PC2)\",\n",
        "                                     zerolinewidth=1, ticklen=5, gridwidth=2),\n",
        "                        height = 400\n",
        "                       )\n",
        "                  )\n",
        "trace1 = pca_scatter(pca_data, 'Churn', 'Churn', 'red')\n",
        "trace2 = pca_scatter(pca_data, 'Churn', 'Not churn', 'royalblue')\n",
        "data = [trace2, trace1]\n",
        "fig = go.Figure(data=data, layout=layout)\n",
        "py.iplot(fig)"
      ],
      "metadata": {
        "id": "d8POOymxxxUh",
        "colab": {
          "base_uri": "https://localhost:8080/",
          "height": 417
        },
        "outputId": "5aac8fb0-560f-4ff9-d3f2-8c8bb1bfe054"
      },
      "execution_count": null,
      "outputs": [
        {
          "output_type": "display_data",
          "data": {
            "text/html": [
              "<html>\n",
              "<head><meta charset=\"utf-8\" /></head>\n",
              "<body>\n",
              "    <div>            <script src=\"https://cdnjs.cloudflare.com/ajax/libs/mathjax/2.7.5/MathJax.js?config=TeX-AMS-MML_SVG\"></script><script type=\"text/javascript\">if (window.MathJax && window.MathJax.Hub && window.MathJax.Hub.Config) {window.MathJax.Hub.Config({SVG: {font: \"STIX-Web\"}});}</script>                <script type=\"text/javascript\">window.PlotlyConfig = {MathJaxConfig: 'local'};</script>\n",
              "        <script src=\"https://cdn.plot.ly/plotly-2.18.2.min.js\"></script>                <div id=\"0ff03698-6e85-4d1e-b523-7f31795dae5b\" class=\"plotly-graph-div\" style=\"height:400px; width:100%;\"></div>            <script type=\"text/javascript\">                                    window.PLOTLYENV=window.PLOTLYENV || {};                                    if (document.getElementById(\"0ff03698-6e85-4d1e-b523-7f31795dae5b\")) {                    Plotly.newPlot(                        \"0ff03698-6e85-4d1e-b523-7f31795dae5b\",                        [{\"marker\":{\"color\":\"royalblue\",\"line\":{\"width\":0.5},\"symbol\":\"diamond-open\"},\"mode\":\"markers\",\"name\":\"Not churn\",\"x\":[1.4506972658300334,1.2764409257201406,-0.47483948992796354,-0.4263442646815393,-0.8792815015200801,-0.09532162854820753,1.8174881155289708,-0.5533913498896306,2.5908212251085563,-0.48583872598558353,-0.9592363604978488,-0.6553726043662907,-0.6855963353809131,1.4516545425701262,-0.7119611805817339,2.1330254650584437,-0.8109722791655584,-0.40045786042406734,0.07084791814900702,-0.698437230806676,-0.6796373937738891,2.49504130647566,-1.0948431173303377,-0.17195905116563884,-0.7791222154132457,-0.4160161555852968,-0.877175528407083,1.6066110103856162,2.1028513941534692,-0.42657953754233635,1.8540577439544588,-0.23719090370113174,-0.9631332566920486,-0.6800662424633928,-1.0807402714059253,-0.5246664417922458,1.5590948997432061,-0.7278221186446115,0.9434211432072472,-0.6162675932760564,-0.20372528171132442,-0.7811284284156355,-0.49542944192727506,-0.7908107427069822,-0.30627501356890485,-0.8996259031157865,2.080123511472069,1.0044124012835716,-0.6654801905638495,2.4119400671077202,-0.41145451562292035,-0.11061620876004259,-0.8031401069984523,-0.5486642748100503,2.573931823778895,-0.6810363933897242,-0.5334636921118872,-0.6065132050965999,-0.9550894096352648,-0.4738895641976841,-0.6706747359084829,0.8211252396784631,1.4794394254859233,-0.7350085755514525,1.8313780780400064,-0.7296792345121779,-0.5894639170080288,-0.40731904611723296,-0.6283570503018517,-0.34681924239906836,-0.8360929628496595,1.0907237415182591,-0.5471962823634112,-0.9003384248298396,-0.6533492944164179,0.7552329009644673,-0.537847687836332,-0.24707883488797258,-0.8892266440919268,-0.9572839669251934,-0.5289010906567622,-0.6476502549782455,1.7273417703218459,-0.20996331597637244,1.3802529517222162,-0.7923126197258586,-1.0029233990554243,-0.8408324098167974,-0.39358963511725903,-0.9109613618519368,1.8922648147305765,-0.833137720897692,-0.3509124592671324,-1.1822301501515284,-0.28843904156039973,-0.9380683940612031,0.9882952494966993,-0.6712923602875615,2.002039292207837,0.9438389597867383,-0.6179719710300379,2.6471980578521594,1.5953686490331602,-0.3603502022205449,-0.7287393031967856,-0.2641610626503137,2.4737957505448187,-0.5336815084967926,0.28794914412309386,-1.1071330990543902,-0.3347345283035413,1.2102498605890197,1.2547805603791335,-0.514772181423498,-0.23925144727258624,2.0762573731024245,-1.143776552416779,-0.8699866195928058,1.8802739765210323,1.7567289204557213,-0.5768641407567981,2.008712902551983,-0.6647552815095832,-0.36046431555180386,-0.3604430510855657,-0.5322751743047052,-0.48335215321257907,-0.6260220328256982,1.097260950433767,2.4289554126627784,-0.3078709011339248,-0.4143312983364085,0.07220886579853249,-0.7627680901935439,-0.7372187607848073,-0.5072697100847798,-0.519405153727482,-1.100322519309973,-0.47832431811794746,-0.6489764041014006,1.5424022784383908,1.405659405913831,-0.223471233514608,-0.7625763804228111,1.0537865994011426,-0.49025328735373014,-0.3764505319410434,-1.0218978607187286,-0.6485623319263424,1.9604239315724141,-0.7357146494074521,-0.6833069704908971,-0.6003269771392217,0.02703301687994698,1.077579449689668,1.7380386012949218,-0.565505835091068,-0.5467075307781285,-0.5368110225655253,-0.050736584045493804,-0.8171553160865048,1.0566227639501424,-0.501410792262403,-1.1940273141462685,-0.5889209026883984,1.565379585284541,1.026340527745383,2.4231663362443947,-0.7339037440803085,-0.5226649311659143,-0.46553016871620306,2.5068415138583355,-0.9062263120889714,-0.47912752875524406,-0.6280733236985314,-0.37546585854673165,-0.7735136855263475,-0.6318702596003732,1.7586168313188115,-0.5931787239527682,-0.5216208315466236,-0.36802129937015543,-0.6544428034428809,-0.8750901037349826,-0.6132696529788971,-0.5536736801792446,1.5532458683188348,-1.2117591227039133,-0.7601699983635846,1.9731269648749048,1.7309075071931668,-0.8804098042864716,-0.9270166083367027,-0.4751764332952223,-0.8377585886244672,2.2387296752225008,-0.8399405756619488,1.5388741047773753,-0.40575334514283584,1.3277431911242947,-0.6549531655855093,1.8491128981090115,1.851347766861503,-0.8943977537709522,-0.8502287198308501,-0.7453125140981283,-0.586073501640208,-0.8203743580089518,-0.5434908526624562,0.6732990100963351,-0.47945832623659496,-0.8169475556621592,-0.8257894765573128,-0.5552359408894302,-0.7958208675126617,-0.5469884376257104,-0.4666954086741971,-0.6233928527260914,-0.6061977593984358,-0.8563226234515683,2.4139883733516796,-0.5908053142773277,-0.691042012052641,-0.7667616705324803,-1.1086766511779624,1.380379916560088,1.3545630701099813,1.1910099906005387,-0.4415275247939048,1.603895063657089,-0.6615853378045544,-0.9044475881635027,-0.70644472834552,1.6426049503045894,2.067464356899089,-0.598110056827708,0.0748154895182634,-0.6658316122310176,-0.5033657407138252,-0.5997313960374081,0.5665971194668623,-0.43617180588558885,-0.32580269848305804,-0.408428282411924,0.12889586669843453,2.0941533685781972,0.5039334185695401,1.855659665638896,-0.3783478110217099,1.7438109981201522,-0.2614305520057979,2.112990700068678,-0.6481422391811779,1.9903443117417923,-0.7565748835383318,-0.5184582716661561,-0.9809570387954233,1.0479709840416847,2.17633426625605,1.7305797475452809,2.2797408359103786,-0.7300149490236246,-0.7170866401379236,-0.8935355857004158,-0.6051966682613633,-0.6158488083360536,-0.5332998063380013,-0.769437829525404,-0.6729117354584625,-0.6135780687477425,0.3943394602218862,-0.6595549974230872,-1.1669818410366568,-0.7475048446853427,-0.5970659355436512,1.7216214212677814,-0.7825015986481284,-0.6096088693266637,-0.8246663830971741,-0.6181984825850378,-0.7917280165827822,-0.7036255897209118,-0.803147206173873,-0.644393219333456,1.2182795336994339,-0.6656865113198173,1.5217525913896333,-0.6150214440606453,-0.4547850047602041,-0.7716486440830017,-0.36539425500175055,-0.3804507715749082,-0.8032760048160386,-0.6293815991400866,-0.6908390383047621,-0.49216459141495367,-0.6836367201000066,1.8961105188024097,-0.31065664076776867,2.165275312346388,-0.6542846365004004,-0.5316217428902962,2.331718914095764,-0.8453260885610899,2.7905971631051667,-0.1797927169975205,-0.480392386232819,-0.6041153008374887,-0.6402903196337303,1.8958397692032414,1.6874468203169253,-0.36079247595460506,-0.37904068665048957,1.694205132179385,-0.5900042145171551,1.545608071747926,-0.457855446334215,-0.46062140282499103,-0.771459172577181,-0.31758677940746505,-0.9766500888525654,1.3625057259857458,-0.5939280686768051,1.4549642119451942,-0.7979275954535622,-0.40686699651601266,-0.6693471110735736,1.6132847019758592,-0.6749017819353649,2.4718403898650125,-0.7220244296550016,-0.9522369321118781,-1.2877414602889445,-1.006399721862975,-0.36250028856866984,0.8616005717232569,-0.8286589623992883,-0.791216619128455,-0.5340529420061522,-0.6481254957627263,-0.15916310732783487,-0.9743057222288232,0.6091490694107503,-0.295895123332126,-0.6010491604590574,-0.8117420842072776,-0.32169195855379573,-0.5347079832311985,1.8159758058403122,-0.5794478406332517,-0.61061892659865,1.963817384703682,1.3126722928938408,-0.09416826625088154,-0.7328593080246206,1.7813923363248905,1.701407583915669,0.7294054896149513,-0.4461275833621309,-0.4717942001050027,2.041934077194618,0.2265804762424906,-0.7673439674408895,-0.6400272595689563,-0.879225155695797,-0.70531334917599,1.3372296276902675,-1.0292367938957936,-0.9153776139222485,-0.2544289412482197,-1.0209260722132143,-0.20467905540532444,2.1062394555245403,-0.9177724633406894,2.3542255459760195,1.7884393065201156,-1.0936266224967217,2.331397371662772,1.1660562221843094,-0.9074469122763449,1.3310579420951303,1.4795040793814904,2.0996524639567657,1.7123378203393533,-0.7379475803166189,-0.4640804123254112,0.9737889964114086,-0.22574940574303964,0.9758523270105147,-0.6864586180993417,1.5376995729433598,1.8990903900840193,-0.8894614111818804,1.6972961803412878,-0.626273045211558,-0.2862492041550404,-0.4211382714547358,-0.6347167606200315,0.8743598295604463,-0.71690256725134,1.7850798471027716,2.277457952417985,-0.6130735114369824,-0.7811391535599527,1.9310578043224518,1.4149865246159608,1.1843539168941895,-0.42621888580782885,-0.8076009114429614,-0.8259882764432712,-0.1502846174390496,-0.47035971354375067,-0.42656597616339065,-0.9738544920737923,1.776421951957778,-0.7008389049942888,1.367365289347072,-0.9492228665916579,-0.5575147890690632,3.3431754909913596,-0.5923963846552242,-0.7323737241267534,-0.6391835469791317,-0.2771504133593285,-0.15797894157362252,-0.8889639626574071,-0.5933881097741516,2.125373565910854,2.5802938219860097,-0.6057935926352436,-0.5270052994095652,-0.8490004926692084,-0.6754450385618188,-0.9413639966259831,-0.998462583545017,-0.76814123632274,-0.6199465306094597,-0.8680773265453888,1.081633560276683,1.481192714766605,-0.5745314622731947,1.193854804961483,1.0432664464322796,1.8306733386517002,-0.740059067246811,-0.7051046307094437,0.09406483126471327,0.060780490215596616,1.3273370383943457,1.3579450368217012,-0.426011932778167,1.9217145082363236,-0.37165359417302724,-0.4697862484438424,1.1323937058838942,1.7580148262583075,-0.9095707496197044,-0.515629106612324,-1.0714127020381448,-0.6154204316481401,-1.0063424465173474,-0.6260614216114013,1.3631412732916972,-0.8860128150643659,-0.7602092748462198,1.9582537326226184,-0.6769244835283869,-1.030698382231927,-0.5828652662504678,-0.3674024590297995,-0.4404355823433572,1.9474805200726948,1.7061549808600722,-0.29239156503522673,-0.5620117215302111,-0.7442660656372976,-0.28162265199960435,-0.603405580094308,0.0009787314271616097,-0.1582320602766487,-0.8617954466218333,-0.5488364314518502,-0.6889623813232979,1.3870530919617952,-0.6708799808520568,-0.6187357252633698,-0.47691062515361243,2.4251906424304974,-0.8792473596118343,-0.5585444232976375,-0.703960706268911,-1.3321256990196992,1.1591844299900544,1.6753470923893725,-0.4498299211022285,-0.6891943016589258,-0.5583201800190732,2.0958592212638107,-0.5178537828782306,-0.33831082946233443,2.140584923882872,-0.8012306479624888,-0.6918938231970294,-0.6580800773673777,-0.42517898420283684,2.143273360011102,1.1273453236088449,-0.967928008307946,-0.8004289039623173,-0.15688856373477428,1.2629301026069464,-0.7749016144270225,0.48040633750248096,-0.6863470810627181,-0.5397624708422073,1.7721228951015942,-0.7206681536465604,-0.664474841481376,-0.2975430226792903,1.6206627413099013,1.5766227942152724,0.9985790374113458,-0.6059044372444736,-0.5793457332515443,0.03783675289085724,-0.748710231333868,1.119034058871247,-0.5139936998340827,-0.7162011257178058,-0.00848731083566304,1.7782433196194927,-0.502165185459226,1.1506131898214007,-0.753848023350867,-0.6408419108165976,-0.5460231646456709,-0.3173495118251344,-0.5706484481687027,1.1804069604668395,1.225200299638916,0.7797261892456435,-0.4179504286141455,-0.566350293874468,-1.3224350067877595,-0.6371459070116205,-0.5198157862120603,-0.9836396227053783,-1.1155424753628496,-0.7980968720103315,-0.6834875734842181,-0.3555835840732726,1.7852844927737495,1.368125002489518,1.3340980441362362,1.623876512977501,-0.3580934375983517,-0.23278554862799533,-0.5732792236010322,-0.2640098278691604,-0.42740149755180834,-0.5001509621386934,1.6034592867808417,0.8690162832828858,0.8064215821798439,-0.20418652460689518,-1.0660730040442672,-0.35940777841597843,-0.33549279245851366,-0.825750457840501,-0.8670406428420108,0.44000868073207094,-1.0009450268448672,-0.7632092851718547,1.2291587120956484,-0.7908389725420262,-0.45295126916056294,-0.28760319766978437,-0.8372400066706496,-0.6822431431984619,-0.7225456516341128,-1.3569679136718915,-0.8926288768475886,2.1244011698978675,2.5205900555262937,2.3182180551004414,1.0421281273461667,-0.7468800869132681,-1.1971579890305513,-0.0860165898272673,-0.44706249399095166,0.9723892821927115,0.04226881858155768,-0.6395958143246314,-0.4487211789144346,-0.6818053602383995,-0.608158015496125,-0.22947913832672973,-0.6109367500387682,2.3181873327418443,-0.6925230252211978,-0.8274394691867337,0.14889552464319245,-0.8791296222425456,-0.5226893090085515,1.6425394902012167,-0.6454517053819756,-0.003714389576089094,-0.7392560816337038,2.473070592650224,-0.877753101229156,-1.1345900417091066,0.6566680420556406,-0.5321044818468904,-0.09768436318211716,-0.5798511770290077,-0.5266839308734805,-0.4661721888922882,-0.35269883084607445,0.1219454304273959,-0.4530972584811469,1.6221840358201056,1.5936853676025282,-0.37416282183286836,-0.6046671754907338,-0.6257836893983028,-0.5245652013488168,-0.8432883264188337,-0.7159513055391314,2.394725507852601,-0.9426282582280833,1.6582535419243076,-0.8556926557858242,-0.045880077216089984,0.7126683804739993,-1.2513318376285498,1.4271073492165702,2.1185127488172784,-0.9500687928554407,1.6314587336811734,-1.0165220111218127,-0.5343534156870897,-0.7066716124677109,-0.2684738592461639,-0.6626159357660166,-1.0670230688535063,0.05139426105480542,-0.5513057864306381,-1.3118890204117777,-0.6786666154441177,1.4002729584475873,0.8808222238820662,-0.3714126790126989,-0.44944732437593576,-0.3254508329715718,-0.8854530118707229,-0.838950978550281,2.3023340613816083,-1.0268699688157836,-0.6815190510839412,-0.5618495032699994,-0.4926145598460525,-0.7596858866924955,-0.6016041401592627,-0.6218287295317994,-0.6519079810614982,-0.8626282469808383,-0.6913842950414062,0.423569837816713,1.2051203357569449,-0.7549154044401795,-1.0097052449656057,-0.13843286638044996,1.6217247693917605,1.6594421134259418,-0.5599392856634364,-0.5125431640818131,-0.3278672634743591,-1.0110595462586567,-0.6423514716540741,-0.7828070902413978,1.4873619821666637,-0.7212487369845798,-0.34980873798533607,1.246031580437034,2.6590589131277653,-0.42001533845860106,-0.7554249822016611,0.9881843842475102,-1.0152327493965134,-0.603396328484838,1.9543904996507797,1.3180459176069266,-0.8193489288195122,1.9604811356183363,-0.6057922232506379,-0.6232225546726948,-0.43337141770686005,-0.6499697836340675,-0.7406192779684853,1.6359722526453586,1.5291557606782455,-0.3436749894322778,-0.5562098360656794,2.257255658875862,-0.9080160676537291,-0.5714764285605923,-0.8868552795273913,-0.8955446643117815,-0.5165612464486865,-0.7582816697243114,-0.6509395397114979,1.9389794467014643,-0.5934485363654558,-0.4228982344027559,-0.4620534485234919,1.4109998518073423,-0.5025188983878474,-0.5327465531616274,-0.4994417594237251,-0.47914832299146626,1.5183743085511023,-0.5568991217046136,-0.9268245496191482,-0.661624427249273,2.546293607438216,1.3319873419202406,-0.6217821132109708,-0.43326689118798345,-0.35098022838346354,-0.32562009220742605,-0.27328838791327964,1.2409348364948127,-0.48606810491527896,-0.511635923000994,-0.8569529093562264,-0.8584064655932875,1.8480818876323453,-0.3939641226724891,-0.3984248840154509,-0.87097725357925,1.1824474095996813,-1.0009698139679566,1.2696890106026613,1.9737233140214199,1.5288353035105473,-0.5405637521977767,-0.34011032111818584,-0.5410222129291928,-0.2975943575984542,1.2777189974246923,-0.638052373012129,-0.1526636750933549,-0.649366122070081,-0.563589074805667,0.9889201630880157,-0.6240982047325669,-0.46079822405905035,-0.48229280923650936,-0.4344522993961437,2.264485835201242,-0.5460992921276842,-0.7016482704424659,-0.6601900338392951,-0.051262166044124216,-0.9943323923931197,-0.6573444104779818,1.7413083581624191,-0.4789861744481728,-0.6672968304543654,2.2191304694398037,-0.6166998498076917,-0.21198183750931204,-0.7981415131600177,-0.953313442262639,-0.3588693247860886,-0.8955717099558324,-0.32532739440887226,0.9372774651742906,-1.0569594123481114,-0.5746513443700189,1.1388096601061692,-0.6024690625253704,0.8021371715105893,1.997937981864484,-1.1264431300232087,1.5572671517341548,1.946708853848565,-0.43927946610784746,1.9075930729794972,2.0076988574151637,-0.5607647693881999,-0.6548143209353815,2.407960663005145,-0.4444879879928847,-0.7155742999950574,1.8639293294967214,1.279622765620827,-0.48987654297724814,-0.5979795242514858,1.6157476817653824,-0.45348588430591175,-0.6705675041676378,-0.369770108909343,1.48265116216918,-0.40465083543808084,-0.9209503521721671,1.9637720559588288,1.5810413521165698,2.0642123124320455,-1.0153989155344432,-0.9704952952926321,-0.387369905922653,-0.6459221224543424,-0.5019989537535432,2.43226907322313,1.7296994684833389,-0.918800237932488,-0.9604832256034009,1.8905219022434359,2.006866659220185,-0.2933441711878449,2.4892467615827454,1.4724731218738252,-0.8006531820904922,-0.4829470224213429,0.7242453103245308,1.9515751356250521,1.6185265657746566,-0.4204437033403102,-0.7022759266126849,-0.8076594039880273,-0.4340788821958606,-0.5913439362750873,-0.8585588831248394,1.2185232029340263,2.210647748636528,1.8667881358047091,2.174261793214517,2.4729863869508812,-0.5583703150679958,-0.7248046797630865,-0.33193379855372546,-0.6591279888530893,-0.3077183478548291,-0.5753695282676823,-0.7327485702495267,1.5861734705680157,-0.3341415696299925,-0.7438032799750814,-0.6966512330522032,-0.360499674436104,-0.6369716298287832,1.9637433064959962,2.0342397323856494,-0.8600151353106407,-0.42457615702747187,-0.7315930118059667,-0.533221183853335,1.26483120726465,-0.8354201923698076,-0.2634990650989008,2.2860611471941272,-0.5870997396860455,-1.026049491844056,-0.5786319938659286,-0.3525728241492693,-0.7915228225113665,-0.480178621737357,-0.6840719359719378,-0.6578643236980216,-0.4038531762301704,-0.49274268757155676,-0.7588544018195739,2.506530089125371,-0.6277739213032354,-0.3432421894543407,-0.2930532677583214,2.6051619757140436,-1.196021041871873,-0.3247442085249187,1.078897401655914,1.4682330972592958,-0.8474750044959606,-0.6331633097791256,-0.6950734423784006,-1.1327968544870624,2.446732261899847,0.5949945358530988,-0.9364184443607491,-0.16993719114815695,-0.5512553754952728,-0.3291816669070736,1.6720957118978141,-0.20108567285833026,-0.4067274880249831,-0.31926476875147375,1.7715996144718715,1.5338340757587612,-1.0211651138672504,-1.3481787625520778,-0.684263566330758,-0.9399329341728485,-1.0811094152791385,-0.5010973919149303,-0.9254144282457549,-0.7641620976616824,-0.7930122384934588,-0.825180089583437,-1.086879964072685,-0.628680159101766,2.086781699820279,-0.6659427896683422,-0.7935464106608444,1.7102730201336978,-0.18104303903944838,0.038201237385008566,-0.7757343866469351,-0.3573184823842709,-0.7907608678000463,1.238804843508953,-0.8787835306343756,1.581120916902705,-0.6158085315889771,-0.5495464547934222,-0.8813005790684967,1.5373868089881484,-0.4166061903395488,-0.49121744885891294,-0.6329246300775623,0.9363163430287231,-0.6867223426665094,0.7437759888815428,-0.6256368061610996,-0.8510620002817053,2.6124398936363744,-0.8034371624436359,-0.6965948401386952,-0.5879005335108276,-1.2635408926104001,1.6284154320228852,-0.7952215111506328,-1.0795482145174753,-0.5561460807098634,-0.9512050088084933,-0.604925777481775,2.0868421453620227,3.107163451127978,2.017885655943187,2.697323442826029,-1.0083048487967565,2.5170824767831044,0.9946946402755328,-1.2277382941907236,-0.6806747432788616,2.2302882083476248,-0.924373290169699,-0.9060800209576327,-0.4413147678569122,-0.7453915033937316,1.5211811236667732,-0.5471216425786408,1.1288636454056697,-0.7248941827352243,0.8600774061476983,-1.1037608889865687,-1.0121114902512431,-0.42129459201620034,-1.0118848070928286,1.607158067892506,-0.3799077512600937,1.9384603599299899,-0.6740906976998896,-0.38668671886651595,1.4692862284559833,-0.6474670843095809,-0.6578735249475728,-0.705419065804299,2.4524469834448603,-0.3824396810509783,1.714302561228476,1.8017319190384102,1.3960242078143692,-0.40722731221055536,-0.6027379141863642,-0.47749759978777795,2.389472663420596,2.1950975497551237,2.046547385390531,1.6938246487783712,2.0998938207069062,-0.3800316637964857,-0.45102454483591975,-0.25456301888482713,2.993132284028195,-0.3134093525106642,-0.8791586178774512,0.3227912196332443,-0.5507719248678928,-0.9270803377902923,-0.7677843833648295,-0.34646362811916875,1.719491338353854,-1.140506415424393,2.257318446779988,-0.3149643081180754,1.747505688831891,-0.7145038352841924,-0.6075259455315909,-0.2588002883967765,-1.1745155693329663,-0.5748675859818221,-0.4813573196182393,-0.583471657887006,-0.6196101528057937,-1.0703237742513003,-0.8297520045518103,1.5485551891780867,1.515911530283258,2.3173648651290417,-0.2665336858449838,-0.46078094187869395,-0.7649375437990483,-1.0289429548495181,-0.3956934260484548,0.8071739899136381,-0.5957682579808188,2.2097862751106674,-0.6824870159915261,-0.5579831989840497,-0.6687768594278392,-0.817649497810995,2.6660893704450035,-0.5361226538233091,-1.0733561913279268,-0.4854421573373238,-0.6748626854188062,-0.45762122068223704,-0.12943892563049345,2.036929682521704,-0.5451457548073839,-0.41967045304061185,-1.1550328039803168,-0.26306911398602284,0.8868128115720832,-0.5333864535188587,-0.584419266758801,-0.2385760628746051,-0.47395345649815457,2.1960331343570996,-0.4519475164755616,-0.15341453796988735,0.6578036375047543,-0.6827043978851001,-0.5361853602497197,-0.8248978094277584,-0.5974418240286469,-0.6314405847187142,1.991459576579964,-1.0169244254964844,-0.570388741977517,-0.934896720943949,-0.770353720089533,1.6449910960233614,-0.5579290200281565,-0.5022077786075895,-0.5990376308978709,-0.42906838367359385,-0.8266540271186508,2.0114388237387555,-0.3391592198244205,-0.8988431407786098,1.9339197919184814,-0.9066592831979354,-0.37531624128397745,-0.25761117552601165,-1.12627708954556,-0.31352132472532185,-0.25800531652608333,1.1761045223154571,1.7845303029198512,1.7240338680432081,-0.5274496648853483,-0.5823128429919984,2.385719728895236,-0.6383382077926653,2.7128657534942358,0.04969406421463334,1.2590441621437691,1.850839549303505,-0.9279036606501897,-0.7727486892390908,-0.28637910920202353,0.21961946756717543,2.5516423322558275,2.022633090406978,-0.8380503963707084,-0.17378808909003018,-0.7728531486129991,1.9141558211335779,2.048263207752529,2.50043660154884,-0.9076746936349667,1.5484960355740878,-0.8565608331350018,-0.9438246549192538,-0.770703486175941,-0.8432130612019989,-0.42943519855778184,2.5796392781300588,1.346647341095071,-0.7138708878735232,1.643767838807492,2.6364704731027455,1.650162076746593,-0.4115678245346289,1.5266621548691142,-0.4763164564086495,-0.7086616946924328,0.7310768491994496,-0.7232305717225538,-0.835906084680739,-0.9134140703298597,-0.613094020938458,-0.6205522057240174,2.0830267453630644,0.5184817113699021,-0.14272138808562443,-0.5624125586991475,-0.6277055302201641,2.5598049632489106,-0.6952826374427805,-0.461872086356794,-0.5497583095283374,-1.02470696343574,-0.5415905113902864,-0.3923390830610856,-0.6189462158006894,-0.5482541025451438,1.9474986639793994,-0.6402121463447509,-1.0135569375117681,-0.7638631196258608,-0.528547958896238,-1.1052498321468416,-0.7968456741498953,-0.19858869818276037,2.040708314918302,1.4566620422819763,0.1915265022829317,-0.9887694028786012,1.5667498213212088,-0.4548939955827268,-0.7328930571532393,2.1445286916829374,-0.8428487980412559,2.2500598719842424,1.6940216364782041,1.3974688419691927,-0.5458778696134462,-0.3774887814950972,2.72418821972289,1.1185995407279468,-0.7524275854655023,-0.8121206282311416,-0.7140067935852837,-0.6727785863338259,-0.3902843347649245,-0.4010073787140598,-0.4934073822104853,1.897728992186029,-1.0662407061026562,-0.9857569076780549,-1.0775438161500979,-1.0482494833307663,2.0580774449120125,1.062186159777238,-0.5309744186507184,-0.461155706378017,-0.8486936967113269,-0.49835008870746705,-1.074128900246682,1.5944898668515364,1.5424375444774465,-0.45226238717610245,1.089804785935453,-0.8635575731757604,-0.6767901608090356,-1.0521688259991593,1.1570638678555327,-0.7721291639853769,-0.9427157862158253,-0.6427842461592765,-0.9998118344374392,-0.4800180174049826,-1.0529493796620903,0.84634359370041,1.5946357255092714,-0.8603651388738808,2.420568908418332,-0.30722854581976916,-0.5618550322571332,-0.8113780910067853,1.5390605452309434,1.9078450667015499,-1.1070663323814385,-0.22159871480113444,-0.4692391630815425,1.8930371472008916,-0.9753862163058363,-0.8335910411083111,-0.7208223316495409,0.6293133864150282,2.2440489152349166,-0.6091841685093787,-0.22556868961438464,2.487133417476595,-0.4372744262230317,1.7616051365874001,-0.5933739628210603,2.4179213733853175,0.4583297716680983,-0.8335556979994309,-0.5347169181278429,-0.31647583424019404,2.4707163630583358,-0.583345936073307,1.7051933686931426,2.440705595990048,-0.7087234215839003,1.6487329850974382,1.6362292271919252,1.7144703833372554,1.9901792017900863,-0.7857590311453588,-0.4459104532342689,-0.3212398570121549,1.74872847898301,-0.6532903631814544,3.328050543200997,-0.34579966033438125,-0.3091424175685874,-0.5474098228764336,2.206968748643063,-0.48607936945743874,-0.260572671982335,-0.39547983019785915,-0.7426243293579661,-0.0829694168015448,-0.8989367220654731,-0.440410246310566,-0.3265487229449851,-0.4098742983874839,-0.6655875348347947,-0.7040990887570492,-0.9463810251992784,-0.8314967312925037,2.7901254167290452,1.2444712172753978,-0.7953557731976139,-0.6140341614537556,-0.9118199823969994,1.7917075295206926,-0.20771397988328685,2.154537490545631,-0.011983372864270399,-0.42225495723654843,2.104103234346426,1.0524716542633545,2.088323197342864,-0.7272369988264276,0.8357249068679005,-1.0870707420429042,2.488057506209636,2.5637908607481448,-1.171621985353041,1.0800296205741786,-0.21405931584864013,-0.6807635687404334,-1.0849204724844987,-0.39657862422542034,-0.06806440554379886,-0.4182015836441872,-0.047799910992262266,-0.6091339585569878,-0.34160459573319174,1.1777802468226906,-1.0654256952291536,-0.15852009441455253,-0.25998354261684825,-0.9305860371218528,-0.7072118225683913,-0.5275789401173528,-0.6499328791374932,-0.48082296152336146,-0.41288684169555456,1.7900393336156752,0.6990929583855456,-0.36547347329538904,-1.017591084598352,-0.5070281370344009,-1.1262951021056642,-0.872057142067061,2.106835317050267,-0.7378061869330501,-0.28077824717265365,-0.8337404898675003,2.002220030979801,1.4831561647929639,2.20497192505405,-0.7413274838351761,-0.5996025509241774,-0.6866239653846868,1.1156772769565393,-0.03960231864881426,-0.7865247496399204,-0.8897053737794368,-0.3458486751420441,-0.7999261619368533,-0.7185150760457029,-0.4210660875583683,-0.48272050242713477,-0.7402911217500031,-1.3345206836943735,-0.5061023671343999,-0.6230950288571264,-0.8775404412023795,-0.5230809209868298,-1.0894460407127948,2.0263604119553653,1.6714722110138611,-0.6773176208186759,-0.6573331573320219,-0.7372384245640903,-0.41637771274281665,1.5609975373609624,-0.4123543224309181,-0.435994631202199,-0.3975842727980401,-0.6283192933319345,-0.23041536804503887,-0.23464292749047103,-0.25254339005644627,1.4480198186728785,-0.5593686995169418,-1.4607238870030588,1.704790912358406,-0.43617572499029583,-0.982669080262376,-0.8694256739317194,-0.6462427954507421,-0.5824132532357079,-0.31376889580057965,0.9836263678085475,-1.2726534107824206,0.7784678429950714,-1.1861328146973857,1.4625408292672069,-0.6694582051060581,-0.9507816441195507,-0.4629291897732408,-0.33540054328287844,0.7258321721726798,-1.2602506785171204,-0.5018006921745956,-0.5918474610942873,-0.640558693220935,-0.7556040044858436,-0.6770482725006076,-0.24144341569362499,-0.539091718312853,2.202300027335625,-0.4270944910943132,-0.8875962678423415,-1.0056048373066584,-0.7238556728808979,-0.8352173662303451,-0.7705653060465113,-0.31710097720704916,-1.025435888693709,-0.5518635510208075,1.096245489394154,-0.3184783720039623,1.8316479939066719,-0.614032905442793,-0.7501909691428735,-0.4707391772088098,-0.7763911831776995,-0.9019086333728651,-0.567838790712382,-0.5899405362998899,2.001125003811883,1.7577568043665373,-0.6535845452248884,1.4224392217791322,-0.5340571504822579,-0.9136872432030314,-0.7578021289832866,-0.5064157788787652,2.3380501911169875,-0.5599891137079361,-0.689152430324501,-0.8317158481222501,-0.7654341735841632,1.081193111649749,0.12908596842865636,2.0468154343044977,2.045497979376874,-0.9361004202296853,2.172647077114427,-0.8151553655138737,-0.5500872525069659,-0.876825906853698,1.6337690035061523,1.1855445443869363,-0.5583713386809841,-0.6496262593283951,-0.028591493775889678,-0.6144815577652947,-0.7812604617774705,0.47875732932930803,0.09897327550247192,1.6795469711427844,2.2409503178655044,-0.4644231417477828,-0.8595990084671299,-0.7853640502876765,-0.3709463296693021,1.7707818792152619,-0.993973086038693,-0.9758922572108932,-0.5053111608781259,-0.2652109748116649,-0.9629723546819282,-0.5313232917254337,-0.4676407532956969,1.4624109113014376,-0.5669854286643572,-0.8284460621217136,-0.3334935771536446,-0.2638608658952127,-0.6656159805447773,1.3600596628366317,-0.7003188584481449,1.2712916781576014,-0.6077431014344691,-0.8258371788079403,-0.629625024931313,-0.7059222105719062,-0.2519290560425363,2.230039603164726,-0.6857533872213285,-0.3760196325505975,-0.5780874237152895,1.5039414016700854,-0.6387152358661861,-0.5892529274445459,1.595909778410946,-0.3765338102244824,-0.6513178633014104,-0.9406866022295739,-0.07233360766405103,-0.61203530930915,0.6665199096412792,1.2262528242757074,-1.1674032368744724,-0.7046447054497239,-0.6040831742332018,-0.757850017218369,-0.7730997988316892,-1.0148366544238152,-1.3225646420271637,-0.35920544277636574,-0.6019463671095607,1.2053018818088557,1.3837092440259102,0.14658610664920324,1.7210946868590513,-1.1536913338114423,1.9350247808601708,-0.6625510535421124,-0.6451402446192833,-0.20280220931760973,-0.5043640108942644,-0.8426931793268805,-0.8818480690418133,1.4369156661301645,-0.963348754647763,-1.0355266392772295,-0.6304083699070754,-0.5164434945305575,2.2379623520615852,-0.7218602988085508,1.2455869675878148,-0.807127357853112,-0.3888787873539877,-0.9185814881438358,-0.7402520136716677,-0.6643048497196883,2.383213286985234,0.17117290866878113,-0.7910576019695891,-0.7713242065700389,-0.34713893020969483,-0.7361519710780281,-0.617890680152165,-0.6210688246246251,-0.5292074802297949,-0.4843787465857585,-0.9440754161684605,-1.0147171907007053,-0.5948039680888085,-0.824138086544318,-0.6158825039912933,1.0861568757842643,-0.6633075596512618,1.8264263299362389,2.1806004805352464,-0.6294805379501313,1.8491229777608444,-0.6630422739741254,-1.0123619056127842,1.2375867806615612,-0.624257080243208,1.3360936882169399,2.4532269688854695,0.8418255051976251,-0.6044490279335311,-0.0776986569472574,-0.9679129014039041,-1.1131440151980672,-0.6987593758109777,-0.677553863297509,-0.5077170367957132,-0.5281536891109243,-0.7158892153771921,-0.8820640621578134,1.1984651508066468,3.0018660329546614,-0.189729960499964,-0.7478569518835989,1.4362349111018269,0.9582560280476444,-0.49042156421677174,-0.729418342936262,1.5866740617200243,-1.2980728419736989,-0.9386476129689676,-0.6436569142647364,-0.8137084950699068,-0.3166120042550694,-0.6577165270278597,1.4087002310894963,-0.730912869666793,1.7115464658421806,-0.5526838840777023,0.5826489805528409,-0.43299557239600456,-0.6799177128547607,-0.31633599637490717,1.2349637456577989,-0.7217668622041848,-0.7908630719570555,-0.517856815490755,-0.5017342803572622,-0.559797008329092,-1.2049904593378968,-0.4025035629835941,-0.42694682342425444,-1.0581600250368601,1.207888661351651,-0.6923087908321043,-0.3470135707549388,1.9243628717963497,1.930876088789117,1.7221955132024747,1.4213477808914077,2.194170252345995,-0.7116231635259601,2.280234434924543,2.300684969048438,1.0029026501925031,2.5859808770789097,-0.7730099804397633,-0.8450945408904712,-0.7544601156155953,1.4562908908121055,-0.05618193239183853,-0.9835087108932973,-0.8293200213286722,-0.4836107447280862,-0.4393219983559511,1.6241333841436543,2.450876543683134,-0.982800514833484,-0.5741526029280074,-0.7487329846614672,2.673106506411983,-0.6490957783595016,-0.16452540819540437,-0.6898233761077158,1.7985016071989683,-0.4480241167489696,-0.5513446150599804,-0.35252405232401,-1.016713399555742,-0.7070907288601553,1.7476397289759484,-0.5682530241843775,-0.6788313250238471,-1.3987260199688307,2.1819035460990874,-0.4758259994031304,-0.8636955907708765,-0.3550759628900657,1.1397412174275146,-0.6810332906302644,-0.4261521231154585,1.9475747653736386,-0.405694015214007,-0.8707565691788542,-0.9858851301751647,-0.41605117531761615,2.050669341679114,-0.6446106169260046,1.827121905233104,-0.6062591655358576,-0.8002998021647093,-0.6964454476732538,-0.7918690152372617,-1.1081503193046094,2.3149816485785992,-0.7433871529253158,-0.7985781288773789,-0.6075636445843556,1.2101202243725484,-0.2085149362832602,-0.8265343099499358,-0.10609582280939155,-0.559032038588485,-0.6863788171609827,-0.379790596797549,-0.8732942896978457,-0.5850982212108417,-0.5481952640222333,-0.6692394761747441,-0.2659265328180895,-0.2874606063030321,1.677854858544706,-0.6208096192782373,-1.2427983848969122,-0.685994321452661,-0.8630288995465021,2.0203969684925687,1.6363395315387026,2.6152040075913163,-0.5930135455601544,-0.2668127720176864,-0.994933429105781,-0.8115165593635947,-0.8515400023131099,-0.5339710477487841,-0.5644341210655781,-0.8345431388128214,-0.7216245602145491,-0.7987007303653355,1.1244088593391448,-0.20177083775464727,1.6714520824866048,-0.2674351077210792,-0.4911260714047392,1.0717656773011752,-0.5641617733835458,1.3420900050394702,-0.8568610324314393,-1.1017542837491816,-0.8962130196447825,-0.531418693020963,2.4822214510557483,-0.5885126476932815,-0.7538172046915708,-0.346910287866049,-0.5609272564287229,0.07874580271495751,-0.49868530939617145,-0.009933413690014893,-0.5906014455620014,-0.6492532357637896,-0.9530055499634741,-0.6246307248582161,-0.700436317455935,0.6865711267745225,1.5020554952264953,-0.5513346296491858,-0.9248941694131358,1.246295661652826,2.3946425328996677,1.593238203257962,-0.5538491365386603,-0.4167504658068316,1.9128025362940346,-0.4366418213071058,-0.7735066659788712,-0.2338960949332736,1.6737778731386792,-0.5895260260074505,-0.6081418157795506,-1.0876145208188202,-0.4963212419038279,-0.6670348372170989,2.4399536524968406,-0.6598305687840075,1.3547772129749642,-0.8029184471907982,-0.8952376254865559,-0.2850478485192892,1.3332442703671676,-0.8245349553340273,1.8841215055740397,-0.33078497486523756,-1.0865229296155157,2.618626742721396,0.9514850717855045,-1.0345265860270074,-0.309533401700552,2.3159112321371214,-0.6645373598661984,-0.5105730467776726,-0.6027493895914174,1.711863910929336,1.128278254816727,-0.6117200694872045,-0.6689257653377005,-0.3994777381693027,-0.4390954385980598,-0.3838023450357274,-0.7433840741434325,1.7138843251156868,-0.47683188079597233,-0.5965847624936764,2.566980693014702,-0.39651004853308836,-0.6503567288193819,-0.8182283830695635,-0.7086483715449208,-0.4157285728481364,-0.7546370903811837,1.093701310113294,-1.1296086557762468,-0.8242696274816207,2.3125674644887577,-1.0832925771958029,-0.4553031362846457,0.41192981137205426,-0.25793615725489843,-0.430083999934138,-0.7104396729046213,-0.6824601199197862,-0.5591140464089,-0.5944320312658337,-0.6443306083809947,-0.4439403949444228,-0.3278676818713415,-0.8770375699349001,-0.6770766133211726,-0.44315478602188396,0.9516700567183259,-1.0896287120485926,1.60205805693381,-1.1897636617574452,-0.5271339594174979,-0.8356779517717869,1.2644167729626599,-0.5779237397783736,-0.6367209508693691,-0.3917565761741049,-0.35687260680985655,-0.9686774155465334,-0.7264331660144642,-0.8532293288284918,-0.4942621635756623,-0.7343366471892933,1.5969894316026618,-0.09788099084695515,-0.055919891762453725,-0.7696099851572182,-0.24973463008866673,-0.5653566804007175,-0.5151320597738754,2.4544397516347303,-0.6358925015117936,-0.733333457213542,2.2747590212539923,-0.6884074523976642,-0.43822142379940415,-0.7418537906566608,-0.7023009830745158,-0.3113773100847984,-0.4747386573869589,-1.1110570445450307,-0.4203564225991294,2.419598557286443,1.7639079688907713,-0.3196188859873811,-0.5398538820698966,-0.6386310216072152,1.8572407773492938,0.9928243058921736,-0.9239567229822123,-0.8156013140044048,1.4271345307660064,2.1712171160745513,-0.9279205509134405,-0.4221193900619291,0.03967195759922646,-0.6108895733492189,-0.8979275493058131,1.5939931022153129,2.5303258346320097,0.3879593863697152,-0.4040513456244919,-0.772370662232255,-0.6357869661925046,-0.8818311593776608,0.9503708776231534,1.8119391572205685,-0.6681025524503241,-0.8313297142404552,-0.7939915825474173,1.8910285565724474,1.3354726653117328,2.130487659898149,1.0740283588193973,-0.7205882749826062,0.9669929256595126,-0.5690915795189977,-0.7755985065093831,-0.7048369916108023,-0.19107182209609672,1.5476676862250383,-0.5600236503269941,-0.3563233470855511,-0.7440193949151988,-0.08452693269880159,-1.1607149213233203,-0.37833979894748454,-0.8283733444462092,-0.8298531141113096,1.4998140032027787,1.3463947825514897,-0.8632490419438927,0.4933959928249421,-0.8120687138512941,-0.31893437964246335,-0.10917743000034523,-0.3877443717069581,-0.5131950426900305,1.4813357169585417,-0.8334602977643714,-0.632520770641359,-0.4016095979833085,-0.9422943344838907,2.498565553247757,-0.4822891545702328,-0.11146889220996695,-0.35792692903140727,-0.4187771155561449,-0.7035684175549585,2.8317160751143677,-0.6094418881885271,-0.5426367154229907,-0.7369737757742129,1.1923330790986502,-0.5226621219555738,-1.0670692600586502,-0.5102704128389479,-0.5761802143139935,-1.2370560899268488,1.5260519191128992,-0.5521784510352438,-0.7775099882562622,2.0230574825893823,2.8695361360600504,2.4925355454638587,1.2353016718848382,-0.9529177766605045,-0.34642593954626955,-0.8284922889814325,1.2402966888227276,-0.7980486513501013,-0.8460266961655118,-0.5319875548812264,-0.30087055158809795,-0.6653893383455297,1.7066232072886887,-0.8466995933502559,1.4684698981869526,1.3028480302733856,-0.7178634563783588,-0.6952325364829995,0.5679817498223334,-0.5990448083308014,1.6833100135714205,-0.4752036574783953,-1.0451638422463219,-0.39445899562621056,-0.40187505203315493,-1.3807202749664063,1.4313383535156419,-0.45307172938257384,-1.18763698553975,-0.23582797552381107,-0.4576488522685353,0.6935783079555948,1.3915584500952942,-0.6046097377224438,0.12992224248839432,2.2956974461035196,-0.9702719634905203,1.9454713136262405,2.220506827137209,2.150368727355924,-0.43068802721964045,-0.5248255231566636,-0.8396659379633845,-0.6968112703431163,-0.8480683442775949,0.8631786341019471,-0.40226042619156765,-0.1933012020105586,1.3536354417352867,1.1604999626037185,-0.4228392413672045,-0.7174356526011102,1.7287690724273295,-1.1324241657849896,-0.5282453828551632,-0.8708807339197584,-0.5360450020246564,-0.8142844313739215,-0.9129639453884321,-0.994671556079293,-0.5902867592454025,-0.6575251134780226,-0.27843210794583184,-0.678804574666384,1.612101586521153,-0.8422811433378341,-0.8101759455323484,-1.0113139885380071,-0.6956458117022125,1.4739736066147775,-0.65159971994958,-0.7617833736675313,0.9477599334678469,-0.7210182565555878,-0.2504880707072883,-0.17056697501047202,1.7393923613579292,-0.7309545582799001,-0.5228614670832373,-0.8070934965237855,-0.3059756341756655,-0.5684509690253801,2.2708016547300125,-0.8355976952124149,2.5448018008335067,1.1941642266747932,-0.8206967939837457,-0.817417030065201,-0.21424486692401096,1.886949879320805,-0.5998307577695049,-0.33194436530571086,-0.8307686295831993,-0.9400314182557156,-0.9295331606903446,0.7790301606982272,-0.5916094034261254,-0.5247570495495998,-0.5088955784548634,1.9060102971643305,0.789349730710469,1.2409391782268324,-0.5457435641156726,-1.0545079090639602,1.0671891746701925,-0.5830158421597068,-0.8145111234640424,-1.1058165020610131,1.6754257353372572,-0.40722023512536787,-0.813522374118859,1.3915867409691935,-0.3096402983653897,1.1382200661030346,0.12029770690673304,-0.6029566831100885,2.7794861896482073,-0.7073348957108722,-0.5969800071276632,1.907025611585727,1.7497309524262172,-0.8438987846391983,-0.4992058694044267,-0.6336171975869398,-0.7680702346709563,0.8880061150501386,1.349925719123888,-0.39392719012650873,-0.731612711731302,0.6531004765636895,-0.8546524227315458,-0.8513870472791744,-0.34005296101216037,-0.5608870515839935,-0.7167857132408555,-1.0128732027142633,-0.9877570253312316,-0.6080627639959605,-0.49874860567775114,-1.0956500045593096,-0.8251109977557336,1.1167196982962793,-0.6781635623730399,-0.7714984171970853,-0.26416132310552015,-0.288355558031839,-1.024925996627081,-0.35439220314504816,-0.37085971387325317,2.472032849118788,-0.6394681928355771,1.4649230498984431,1.1763374321146716,-0.5236869509342452,-0.6536853450053474,-0.679160035771521,-0.7186634895869399,1.1072557207926332,-0.3268150565063123,-0.27165282197726204,-0.44012361688882184,1.7295218830918344,-0.5269305704086247,-0.6604121780593872,-0.5766733523627087,-0.34405334191647413,-0.5873265053621928,-0.3741625206805746,-0.7235686199077982,-0.5771894529843999,0.4763695559227605,-0.9231145488631383,1.659056764054875,-0.7873062282029784,1.7917354574803592,1.90378546048566,-0.2526387208705354,-0.37893650084235986,-0.9911205019665394,-0.7986938756600889,-0.9438842458550615,-0.5812655749729377,-0.5129703640176361,1.949577842066761,-0.9303998473936327,-0.9036819632658529,-0.363027518316395,-0.5737475194489325,1.4307851324337455,-0.8351134970743697,-0.9209067775723092,1.244189781011793,2.024964807633824,-0.8542869545032854,1.2303181425886678,1.288562059851159,1.690653842477049,-0.39945025228562586,2.1459036554193514,-0.7607549167697899,-0.7401971035280874,-0.8666163160622754,2.8440472406142074,-0.6883733695206443,-0.5235451814347036,1.1147992836053655,-0.6029534450717005,-0.5243658837560699,-0.9175505086716037,-0.623379408090784,-1.0402679418426828,-0.44505291910459593,-1.0868055366116263,-0.815597088926653,-0.8601761568190279,0.042904170619367916,-0.28735188560031405,-0.7699659660727997,-0.8364707604740097,-0.3693753500607835,1.5995027282801912,-0.6876819623520523,-0.37547331508059917,1.9380115535145659,1.0697832355726469,1.7512047413940524,-0.586481381969851,0.8447470005331633,1.2591706491881443,2.4023446519113345,2.1188997881445117,-0.7382016147136881,2.3434227944083315,-0.8267983457558429,1.994374016313604,-1.1393153467588448,-0.6093646050238269,-1.1120841188542936,-0.2871716494824623,-0.7257559590748884,-0.7220677656587018,-0.43936990759991895,0.03927339645233637,1.554894787159725,1.3121193005136509,-0.710387826658597,-0.9569116756674808,-0.834256041089324,1.558739569352239,1.9848116473100925,-0.3942635080084089,-0.4165565077146083,-0.03694172041370725,-0.8687978252342663,2.0832720572569587,-0.7902038507910694,0.616359417993463,1.4096528873589338,-0.5719456478455404,1.700324637806992,-0.042460701831689616,1.7791538687473762,1.8503373717081442,-1.1008722786328216,-0.8485938526757987,2.0980420533417186,-0.10087074928582161,1.3590390102431755,-0.3739516359960276,-0.8982875910658851,1.153117394617777,1.0911186018618362,-0.3622621903443488,0.6668232432674219,0.8691629884401358,-1.1428261057660396,-0.4733391386211492,-0.9843647008462066,-0.8844082536477985,-1.0790715300544806,-0.5672731577319856,1.9268543406217804,-0.673502934356533,-1.0528946013264395,-0.7395477023521521,-0.567799911947972,-0.580697736301148,-0.8065990593775473,2.650935853446551,-0.6873333989306525,-0.37824074217151477,-0.5711301424784476,1.7328174600168798,-0.18870207059665012,2.5976624382657945,-0.6845587926039183,-0.27217829807721444,-0.5410040089929935,-0.21853888318170403,-0.695531158352763,2.160137385314417,1.8145112279783318,-0.8996912460352487,-0.7052442908653324,-0.9327702248273053,-0.8851855720611479,-0.46050801395594515,-0.3736340216831615,-0.8294186607587513,-0.6912606756845742,2.304927322224401,2.0545952413895225,-0.8690750432372033,-0.5529261568888968,1.7204985471060792,-0.8464494647425431,2.0081065083419394,-0.8073471197567722,-0.19333712363822278,-0.7942468519798805,-0.7410054491862464,2.246143433721998,-0.4993740630123375,-0.4351654840592643,1.9295806619630722,1.4778534226378566,1.9599451913682426,1.237545168054252,2.138394695329613,0.8587251182293155,1.417408947018778,-0.557022577515733,2.0132789618340077,2.6234102273424917,-0.6154492679946442,1.9061968500607511,-0.28456470076128826,1.8919794045567928,-1.331622077236486,-0.6516956828901409,-0.1652705101608696,-0.5688132182092152,-0.4126539074233396,-0.49361561872892634,1.782584943714822,-1.151833912782413,-0.6788255268274164,-0.6945575311943016,-0.3990253616349033,-0.46129463278884003,-0.5393111287050233,-0.8927298710198193,1.2889210507390538,-0.5093136682089833,-0.3867423569620615,-0.5060839301123874,-1.0840247286396303,-0.5246412213163666,-0.34328395398848055,1.040277107939506,-0.5012005527397044,2.715684212145936,-0.41180164627621935,1.8601657851423816,2.159891636576763,-0.17537100602784758,-0.754708553737633,-0.6407563519121368,-0.9761064626221448,-0.6779719405111694,-0.5072498295606421,1.822757327844657,-0.6124336833280579,-0.6368159555378933,1.1114400987573072,-0.5936873221364906,1.3199912795061144,-1.0855324975682379,-0.5512487497789312,-0.8368944330182311,-0.023075444514616128,-0.4327497323498666,-0.8175842032274038,-0.9220084592626817,-0.4038819056966926,0.8169034948496959,2.0621790246075133,-0.3198006507698192,-0.6563806991815107,-0.7800765391989006,-0.7628387689643445,-0.5939111962566365,-0.6613775640302736,2.06832223259417,-0.5769537456182525,-0.5201241158287997,1.5769241673408505],\"y\":[0.6694240592917876,1.1024466686486318,1.8575555203345586,-0.4020183696782028,-0.09393394569479545,-0.482716750918727,-1.1856492530439795,0.2584859643200778,0.5519440085485068,1.169553405868397,0.36130346780461337,-0.878077850131315,-1.7061460591850983,1.3603418180116484,-0.5953730566899531,-1.5774553584893185,0.08798525433722997,0.3265698059316867,3.345968083039833,-1.0645587834742387,0.4539676615093662,-0.21420162780502136,-0.046284689089017915,-1.5773485318509695,0.2305698226149816,0.03443748144701237,3.6296070382945356,-1.3724769796398062,0.41180571526417614,-1.3079531685634347,0.8171847597715688,0.5145645923669024,-1.0904890736282542,-1.7199035195875294,0.055935871382260575,-2.3686123552884246,-1.2173456785249683,0.5577164289835782,0.6829400006234628,-1.0905249554661687,-2.60682296491932,-0.06916638443597013,-1.7024181520510961,-0.9232538322481774,1.6392057068024302,1.743052273531319,0.43864041143709254,0.8032535924761476,-0.9767982603177445,-2.013830953629993,-0.10215958659257454,-0.20699900936242735,-0.9266848877239253,0.6035049909977531,1.3418344005150697,-0.35718667039391505,0.5966548876118487,-2.411699799651701,0.6364289209225432,-0.36869381717751265,0.21324348318602715,0.21687597795325012,-0.19924055684218844,0.3872078943356541,1.2450805612247544,-1.1853776184126867,0.5698936491551855,-0.19973885431416924,-0.6459790455753202,0.6001952468975247,-1.4557044882205514,-0.7016557481242857,0.7292375113178468,0.5432912362294395,-1.088364554839368,0.999768135889325,0.8982593622198275,-0.19717057878976568,0.4315993088859601,0.3963853014044536,0.8825869695838082,-0.27804778879389097,0.10125296476527783,-0.6646637167138246,-1.2659700774298284,0.2845412056701448,2.31618382319909,0.8381566200456944,-1.5086549763664958,-0.26131516472212457,0.8831637189568081,-0.9302176316529224,-0.14022499419095225,-0.873006198809465,2.0711806694518757,-0.5185460112028911,-2.0284300874589465,-0.2760240823954412,1.93038530506557,0.6843997195737364,-0.07270826483146756,-0.788458352984541,-0.42492228139421734,-1.1574398446304803,1.5026655304387717,-0.03758435132447453,0.9629339258435756,1.0476740306707761,-0.5211605252406418,0.10499468655569295,0.8752597346895336,1.1242690346768447,0.9064855642116236,-0.37887958005128525,1.189290244077896,0.39415836450692987,0.2377777344677364,1.3831053919838912,-0.43666244349095606,1.3308952002431185,0.785888849605911,1.6626374544894449,0.31756518161556,0.7328022222735955,0.8644784902972455,-0.5781282969119568,1.0714835839916337,-2.58224162547132,0.5977681948635323,0.38134759321187156,-1.2271536819633326,-0.7337902231043847,2.1080664257823862,0.4104482858045823,0.9920662557847161,-0.749114810933702,-0.6517323319949361,1.2148928575481939,-1.7349948108280575,0.1107324954649346,-0.47220002373699155,-0.34365078045022956,0.4604655782376994,-0.8314941499847647,1.3290695830007895,-1.964079458863262,-0.8579053828065064,-0.7498375736195587,0.192812377158157,-1.5491816414176358,-0.7464478451480796,-0.24005561887068577,1.1727855647076448,1.5852464313556438,0.8740303508246223,1.738282148344646,-0.39512057690946156,-0.8301342400314152,-1.2672665308590463,1.505039037027342,0.7701831116970954,1.5029064877301141,-0.6093902869744294,-0.57314720671156,-1.9226548554976415,-1.1137432000117404,1.0877521722806673,0.013131348767617646,-0.08712957046822181,-1.1484590183783967,0.4028014609194365,1.3229630427510846,0.47600648476343843,-0.053392736142203676,1.9657978114523806,-1.3086878462011469,-1.9884334594281672,-0.6614461397941778,0.2989720000080269,-0.33398748353744495,0.2636667927564114,-0.8080179817138655,0.10657699253986999,0.8042245398064015,1.3041698231522785,-0.9951410775250236,-0.02408458888742248,1.646502355332597,0.37803376860788396,-0.12106694537755604,0.3491003888044659,0.3488052638591278,0.6147430257542563,0.8237884989909617,-0.014657425696720261,-0.8634693103048651,0.47999639086319146,-0.947471095566481,0.31580525368675366,0.7446427061303884,1.16280746262748,0.16728601140852858,-1.759599018162256,-0.027684808915914728,1.4405395546057447,0.6964245421291945,1.2556636614651326,0.24823505676652471,-0.421519391279405,0.26227188165468385,1.7100034785571965,-1.2574534863117537,-0.799754536754548,0.8819526019899184,-0.6770432147015849,0.40253673100778453,1.047801686965439,1.613748983283148,-0.051032759699754834,1.6752321976112612,0.8622181539990238,-1.1907512847080706,0.6110097045357558,1.3063944650598316,1.288319954901811,-0.3706051351289328,-1.1755495578452606,0.021300216158318452,-1.548421778009858,0.20758117546569968,0.2472584857932327,1.238670063059501,0.8402424454467121,-0.8036328134260898,0.799466397964851,0.623158355892881,1.8321181606963397,-0.7327079342234485,-0.2244864720647615,-1.1647270242568486,1.3436976194112444,-1.6003573135552818,-0.6252040344260905,-0.2698869453298534,0.3188112433377416,1.1418541088702516,-2.2581827454295604,0.4280296931751874,1.286711064574135,0.8978984440648619,2.6997978215601117,1.0680703376818632,-0.1305862205969019,-0.07724752390809181,-0.21383232120692963,1.3633003966723398,-0.03505009598196856,-0.4424991146793028,-0.461421776185597,-0.858140632782359,-0.2684350330324137,1.1137932277314784,-0.7712236524767244,0.7753183556161902,0.2532302809227683,1.2990080942443367,-0.06843067914262174,-0.803260753208129,-0.3069801502137862,0.9523236466696771,1.3255054579023848,0.07642231580312737,1.937065972199966,0.7820919867431403,-0.27914448593911395,-2.289190283485852,-0.277341541384941,0.5018620402449979,-2.2211349855188764,-0.467551974564871,-0.01681539071161315,-0.5806887102650345,0.35876015150044455,-0.6990340784307373,1.8459963179207943,0.4855455274025862,-0.2812610295758026,0.5401918205772056,1.3345286129587866,-1.746647157965034,0.5380627364307111,-1.6426328203705138,0.14497386117831063,-0.07676626890272785,-1.461697659426722,-0.2942725894163915,-0.668348910632954,0.8410564417502774,-1.2419612425605597,1.4639507700503542,0.2729988018565743,0.4378375733364061,0.3252735322517231,2.719041637336684,-1.4270744980977739,-2.140862229628023,0.3967970131465722,-0.13393304757218805,-0.0735199653306996,0.1395509986685438,-0.6472003277642258,-0.3027474250315402,-0.6149668660329844,2.232583360584307,0.27244960871734236,-1.134959018132786,1.9208041836895189,0.17594177114650877,0.011910194564090518,-0.6921610696532118,0.02920467823637104,-0.09056756193659171,-0.7062355430471517,-1.9380142681192711,1.5294039604844207,0.791769403952545,-1.7390408042901795,-0.79679723680213,0.03142673516110656,-0.3349556301672189,0.2575177675340725,-0.2083587778147172,1.1024724225551545,-0.2711958656568697,0.06849536745272487,0.12813241440597908,0.4630878350439244,0.44028353462528774,0.7937992074089795,-0.5031442849126752,1.3979041183621261,0.567383322274298,-0.5276748199572436,-0.5737556431116773,-1.4498432119423594,1.291170009833642,-1.1311611779091943,1.1962523594350452,0.8394591684180459,-0.5879675166858522,-0.995161937575957,-0.39386296049828146,1.6718042943594384,1.4684968114324066,-1.0044732959892204,-0.5322210692784186,-0.41508689024554735,0.6979540469889879,0.36940706414238006,-0.22482790383561582,-2.3709732043056233,2.722224293106913,-2.012772280767792,-0.20092511062333573,-0.8295280001891268,0.8470839515108685,-0.936103709187747,-0.3040764369983884,1.7845922447068094,-1.1942342339315721,0.8287639634848218,0.5252479270924857,-1.5234805149600557,-0.5689788860370015,-0.6897521015383852,0.49385609948437664,2.0571126587185162,1.4001940159876096,0.6206283968604468,-0.2605225466179046,-0.9090483482887461,-0.412435180943606,-3.5861119360129297,-0.3774917878039491,0.20046512394944563,-0.9042244347455695,0.27389262018445054,-0.9460214972147931,-0.680685103427112,-0.15005306621361528,-1.6300726430585233,-0.5018755733025594,1.094414225633548,-1.7756610870240292,-1.638662818469858,-1.3595046523849674,0.44121909977684703,-1.0360089378737392,1.9717557457090062,-1.7470780393066438,-1.836536093051396,0.3468361000258536,0.1846194352366474,0.3136061100796918,-1.7415094687891568,-0.20454413257357926,0.5132471744064436,0.6755744175655332,-0.18998888963818858,0.4186426054161519,-0.8955392654851754,-0.0038416504285611265,-0.4333376369155119,-0.35092154126109326,0.30796948606827756,1.28532518480278,-2.37594296902376,-0.6607582165293524,0.15168191892151772,-1.3132923777639192,-1.696480615856708,0.497538290647377,-1.0288237041976664,1.4560002942410142,-1.55133990189061,0.1923974570161188,-0.21368356666353888,-1.1860309330884515,-0.8975768132734743,1.535911514449449,0.41159815851237697,0.3340607330826215,-0.039709105808445486,0.7560216658283972,-0.44322028635139404,0.22142209753988673,1.5395034572714466,0.3139545429741922,-2.330975339302686,1.8770997318216451,-0.19475713699510339,-0.3748917173029472,-0.7426267483974458,-1.0552878061664221,-0.1377466971767159,-0.006163010129855629,0.7197091347500342,-0.6944487547038686,1.1080212808251877,-1.1429408098028195,-0.3808627175840595,1.8170521561913078,0.08835885253542859,-0.2571699299776694,-0.9757654704881149,1.0303357545085141,0.8102704291554728,0.12815586247423927,0.6570801411182379,-0.5171128537697905,0.8537726111858945,0.7080684290401267,-0.3422631207244751,0.6867598760553227,1.2064546296839092,1.6547345985909452,1.5249654421681582,-1.1271894923162318,1.1027127163044923,-1.108132139642816,-0.18167440720892036,1.7968521986784571,0.002181068645434896,1.1207178535043587,-0.11219679061190804,0.7425337949260443,-2.6184498982587523,1.1684739340377286,-0.38661239627836896,0.9172812937401137,0.4275962125762723,-0.9743468656441293,0.7090222858614175,0.6313336430998518,-0.48601578086490244,-1.6841072272121282,-0.7027670475625631,-0.04187871238017735,0.25430750944603214,-1.2840402515778597,0.7044504012889007,-1.2342492859536078,-0.10391644938934225,0.7122462657367867,-0.24198619932212603,0.6941605110293034,-0.5920848286589443,-0.2414981224801507,0.6536818359947069,-0.1135230177453915,1.2802382584540388,-0.46117235501214693,-0.018971259852880184,-0.8799891256827976,-0.6668502073104555,1.3715492049233253,0.2390282802963533,-0.2672257242442153,0.2539993916180571,-0.6731130377781454,-2.8411190804388933,-0.6751288698344436,0.39348263622171037,1.89354311278226,0.060387796211197574,0.039638354221985646,-0.7066520695572326,-0.18958201861756177,-0.07352783285298747,-0.5325769849523453,1.0730235925817544,-1.0832117910459031,-0.32848027268603625,-1.226325426147582,0.3524382057896449,1.028791137987108,-0.3658529180532545,0.010048701569073018,-0.6457053700123622,-1.7372294157712298,0.24064895791780921,0.12285085881078305,3.6523650900206497,-1.303883012786376,0.38068044393257366,0.2299773220170959,0.29656852572316406,-0.7214992036548815,0.8586040413389452,-1.4301480433664322,0.6836095874021282,1.1421556719509782,0.8723985337095159,0.21753896431599676,-1.051095626462383,-0.3453250834023145,0.7074335318359071,0.0626936306277731,-0.9790392429056516,0.2558223868561426,-0.7879223809619126,-0.3092070165107379,0.7377551370331078,2.1766234777348097,-0.1277077411762134,0.6156041482985576,-1.207991817574769,0.03961381679019376,-1.1743077038916387,-0.5978385551816896,1.0695571616282746,-0.5000170206191492,-1.5644732571693678,0.5926561221977324,0.02295663414178782,1.473253927730641,1.091877288095721,-0.22333843476684218,0.4300849202470169,1.5902416148938412,1.1639153791677097,1.415959365407499,0.6162069340283745,-0.42461536526352484,0.4664392442630731,0.0915490291183221,1.1577583182339233,-0.5750164725622435,-1.298875490756132,-0.7659269926703115,0.09592321095503191,-1.2399054960013487,-0.5852435541719857,0.24113977925003635,-0.38287337478093647,0.34739844749673987,0.2676000805329624,0.2845068936684414,-1.3198411422708234,1.0778309803666504,1.0358407635048037,0.523405463265274,-0.6073164788712445,2.00575741944905,-0.6884126559361206,-1.4418180214213558,-0.14367065255313388,0.4610273529527749,1.4774448724868277,1.728001075984261,1.1711786299596392,-0.1962626597871797,0.527455262027898,-0.21034263210861542,1.4641640698709522,-0.8987016675960549,-1.5787155290034325,2.0777831425448134,0.7562383872606138,0.6395984883492973,0.05892126035588536,0.9069696051289442,-1.4088527809181237,-1.6122398428699907,-2.647484594016506,-0.3967414159355833,-1.1402892358913495,-0.8217424575656417,-0.8947350355623354,0.4623687432658787,-0.8352333850813766,0.483643888235605,-0.6135291426747913,-0.9479689547643277,1.2668104384899133,-1.1189399235763213,0.06569740096683457,1.8767480891775785,1.611059600346275,0.9535650507530677,-0.05806405280723084,-1.5222270526776658,-1.096051756980446,1.0737673153698815,-0.25625521074275226,-0.23245528576044736,-1.0640092255610611,-0.723123411884897,-1.1893750617341219,0.24375199695969024,-0.5915833719798919,0.00448017893126847,-3.0166323388573115,0.836273009641043,0.1477473533842212,-1.7141356360665367,-0.13445838544076227,0.8341004885294684,2.5713936797293013,-0.12549970657359877,2.676510022134911,-0.9189088776314048,-0.5835058040464034,-1.6752885835901223,0.7818763679728666,-0.3505256215295044,0.02851084580247676,0.7527246526652807,0.06671818973463141,1.8203509618323608,-0.4425288370942061,1.064327324064271,0.0028941047910579624,-0.7145751490772005,0.5291074189722993,0.20410080186997734,-1.6712545298028263,-0.1222388516364679,-0.4935134811744089,-0.06927231256156488,-1.4901225189477127,-2.8050078620266845,0.40337329630729357,-0.067379637676758,0.8760972498640889,0.696175890910376,-1.6494452331261447,1.002841600892809,0.09188938039605146,0.526852732631642,-1.7813926943680571,1.1276867453682164,-0.5909547622522311,-0.9262407625382878,2.2304876853095434,-0.1861505821845358,-0.6426749065692172,1.7991793243822027,2.3011462425066878,2.0752672786476754,-2.1232246576711478,-0.42170780448345463,-0.3739037312139778,1.0880693368120824,0.05663812196195968,1.2333766859260573,-0.6055554722310985,0.9487802532553349,0.09791960349989866,-1.4643336974339545,-0.3115660515474331,-2.170598443912404,-0.05227859599693632,-0.8245154353564487,0.5989007223220084,-1.3236023408357547,1.128431864325302,1.723989799251499,0.6070645128897034,-0.5473807559188689,0.19781969000918911,-0.021545864822238046,0.6414821884865806,-0.7207343496271486,-1.210625402804825,-1.924967678745697,-2.3885707121036326,0.4266020384759698,-0.21768951452231705,0.15976765914819938,-0.2558350425005021,-0.6346411913461064,-0.8791149898962708,-0.6361127406646677,2.2876312604502407,-0.06861354737644777,0.2813915037387295,1.2394869207802515,0.05017413524595882,-0.7626656365800744,-0.7020349256815727,1.7838002169474627,0.013754081455148184,-1.1558883896441112,-0.2793501543652032,0.11287563363791792,2.3674325850706444,0.47487322580916136,0.01578205936542084,1.415118851017371,0.23641393726020976,0.4506355559458552,2.013969823395182,-0.006610725571481677,0.9683430521618399,0.676174391550596,1.087963317747131,-0.8679850042897134,0.7480087958614428,2.343770071832936,2.165706999152153,-0.4194137721710313,0.34702758314145393,-2.6002634525170114,0.8937080370376549,0.9396741229317613,-0.05949813362241168,-1.666334693926621,0.46090254157841737,-0.1063319040314401,-0.22908760720474336,-0.00838856212590031,-1.3267202031254228,1.2337997248067616,1.8996155024883683,0.23773122177356665,0.418008864067833,-0.6903050181003312,-0.11053822188129418,-0.45368052198120606,-1.1026893936656617,-1.07344525835002,0.6698589855789898,-0.07982345881859475,-0.33668362925991485,0.09633972844920656,-0.23059061240467058,-0.8608911291052591,0.11529857082046344,1.15167467830627,-1.3249876299990104,0.8493869883083446,-1.0257568613501984,1.2513816373876798,-0.7864481470979399,0.8330408081723362,0.14595616874006392,-0.37547002144726005,0.6891638986992517,-1.924090433257597,-0.09863602362190982,0.7406430599195009,-0.8477789814939215,0.00760690224940392,-0.678004059809074,1.5304257876487828,0.4459108680372226,-1.516058169019679,-0.8829567973751242,-1.2288456501474965,1.658761881970613,0.6568347285887217,-0.25691266176781474,-1.321182278783866,-1.5510436770018177,1.005302433317561,0.11241469665694617,0.2860735751556297,-1.7788015886497175,0.20200410769599192,0.5976529588285175,1.2067360648282772,-0.44008291881074,0.15193693507575404,-0.755564707888768,0.38955145946230874,-2.0602693008876347,-0.3120131260993083,-1.20038073503091,0.9241046805855242,-0.20391104907641752,-1.034914692643199,0.5162010156752013,-0.2707701440573301,0.05642200745695154,-0.08620980663088437,0.14897419931427655,1.1809522404216957,0.6086023727097698,-0.6965844322037597,-0.9195795301082288,-0.005240901246578092,-0.28705301560286367,-0.5657331376619723,-0.21924533625540515,-0.6229797545285155,-1.1450542324960293,0.11325551900679037,0.48178055164454475,0.1116733106694734,0.038415232790545116,-1.9472244181270226,-1.2284334977153843,1.3184427014958593,0.7747969774485375,-0.872329615527848,-0.1971741077491024,-1.336868547747291,0.9429176056801392,-0.5517505282269063,1.0227318931603053,-0.32560482252181805,2.2806628498647483,0.24329738875826146,0.037401000998121124,-1.1808906616774044,0.7095125951556299,0.7516036932556935,0.47533561199143576,1.5598508484297444,0.7863213470927765,-1.478847361152978,0.659220999877573,-0.6804840077689133,-0.6607083024899438,-1.161428799319373,-0.14835253152292574,0.47081984752941003,-0.05054505599510227,-1.778780525259285,-0.2973463203284292,-2.7863185855789334,-0.38997028184178434,1.0664402071783101,-1.087498562719757,-0.8187547987377326,-0.3884223122672565,-1.6137276304971944,0.23663493639913152,-1.141807489187883,-1.4329021606191312,1.3698641915864844,-0.3105747486354017,1.3962392406317459,0.2762087267200266,1.7725308874900467,-0.04807527288764104,1.1344600124414417,0.6700728243230244,-1.745026223146196,-0.6834796273617401,-0.12161163920384249,0.4620701914503609,0.6654763204813565,-1.099607075582065,-1.2017855405792761,0.24762338237043824,0.4908179814032289,-0.6307184251561115,1.1346019868033534,0.8301614813328286,-1.8622397693665576,1.4930343215920123,0.8177634092389493,1.345176593794176,-0.6903169848211231,-0.5274492030307715,-0.6566124875524498,1.7580381070526352,-1.0982531020894206,-1.8377462894431509,-0.7625353950445366,-0.5975978078856253,1.012951258163128,-2.7082011709755154,1.4491325065285,0.9725370391747817,1.0494429977032353,0.6207373690143686,1.6290195700244534,-0.5996356876245883,0.5856785187536668,0.4854506416906797,-1.816964656565553,1.3716120505088614,-2.8175166412336634,0.755324042313096,0.9196675038263267,-0.2290406152277876,-0.9075233463801499,-1.212233340633546,0.8633612974503266,0.10673647998785606,-0.08689159293155052,0.927347855096002,0.9444486092832651,0.6130372874788188,-1.1716961602200084,-0.4214926959024307,0.1754928494603729,1.3744681314504121,-1.4479814265973305,0.7291630940627054,1.4433549082802377,-0.15756260632712304,0.8049394050196308,0.9869359834737255,2.7857822951926083,-1.2447169389713753,0.4867807422312828,-0.090672983634119,-1.391768950907801,-0.01643767013321855,0.09954454257077285,-1.322620385178353,0.5674358085272009,0.7707654632101881,-1.1097313867775151,0.07418553737454346,0.22462463605263974,0.8910097093449715,1.4640656690411384,-3.0074930899742918,-0.30010595585905464,0.26760644605543576,-2.9146663263549097,-1.793489205667733,0.8818544495814684,-0.8601158319048038,0.38504893858178785,-1.9822471908250685,0.6756956647842198,-0.8590192064341727,-1.5490505315993468,-1.1223410827099864,-1.7617659076368062,0.5112357445236595,-1.350679087049274,-0.16808555251885668,-0.6895946821933829,-3.0500391343448503,0.744361948934776,-0.47860663797556624,1.6258836808840618,0.47847684599761636,-0.2659780674148389,-1.532317230129084,0.8440182518859662,0.8538319931695955,0.26323082205748105,0.38527855633783903,0.4230049298446766,0.00635018380729519,0.5563367323812779,0.18349665397284015,-0.36737453658635844,-0.9697086594658296,0.11378000886996255,0.5003965975121243,0.8204118471147135,0.7162626774096064,0.4588733590016453,1.4633416672363537,0.24138200304838875,-1.5264171243513225,-0.040362650557528267,-0.37164269227370506,-0.6746425258582355,0.7487903496379673,1.2987228191369555,-0.08289126645463318,-1.1962425950348803,-0.7259904147783512,-1.1795428636811374,0.3542059439420124,0.09144525921688056,-1.0228620215217437,0.05232629687349372,-0.604872110443858,-1.2934240653320763,0.39674459831029757,1.3923236230083829,1.4430218143464706,0.6734094852109169,-1.2381300113087108,-0.6944970841090222,1.3887406591799443,-1.0615367778064602,-0.08297644659158838,0.4821752731340483,-0.21797007738687116,0.3639455139865064,-0.40604689796273985,0.9982299112483907,-2.3811009205122318,0.6397633850359801,0.2668877883848109,-0.185123529940844,0.9928706462375898,0.12196442804791305,-0.884195872238579,-0.20490758548046736,-0.6559647395500571,-0.6112255069205307,-1.1221076899341302,-0.5303440937043495,-0.07254512266812098,-2.308241547648265,0.21962540367076508,-1.3640967555203023,-1.7603042026003197,-2.1140942266917695,-0.37284516946817864,-1.394420840981462,0.963714162355893,-0.14262853921067573,-0.5563991793637946,1.2859540824798517,-1.0910322795159477,-1.3189473358059234,0.48711626827154797,0.6435573020872281,2.41823378754967,-1.5358585281597594,0.9228791402077517,-0.7015818520155586,1.309055242073223,1.9786615246481252,-0.7888213561082227,0.09359203395049055,0.3883437289685758,-0.3311722940525286,1.1056261470987487,1.0694007738344342,0.16253432232082202,0.06791220746442252,0.5324326821657437,1.717258706859123,0.37418190057132555,-1.2500786097762682,-0.1464640711409313,-0.7817467381403278,-1.1750547522454895,-0.1688355741185367,1.0533993590637527,-0.7868787740875833,2.0410708225479515,-0.0786085528100773,-0.21353426080590307,1.0037691108480307,1.718127318035578,-0.741257177435794,0.48556599612751655,-0.08396517501305918,-2.070497590807162,-0.8257215069308543,1.4100212133871197,-0.0340594784944205,1.9992855707517017,1.2800781708572508,0.1942516799714197,-0.5302140960170703,-0.5833266041678339,1.9282507415817127,-1.0108281565553783,1.7778932955482534,1.575436733906076,-1.7626817098537448,0.8444210974569997,-0.7292982070884595,0.6020888143553551,-0.2589918471384899,0.4987673079042935,-0.40768255404076026,0.4149736258694525,1.8535986982487695,-0.3157315684625428,-0.8432933282198928,-0.21237731586394482,-1.0944452213928726,-1.1364731677695494,-1.6435400787125884,0.37221993124065894,0.6448224748844062,0.6060529396506524,1.1591991038811784,-0.2769998207777157,1.3908449125686277,0.15599627265931515,1.2330660115313303,0.8247903537802068,-0.3506102297678897,1.204655565652696,1.1973230596704347,1.4714258843069816,0.28014016454665186,-0.22199092250011498,-0.21968658854485046,-1.0889354442027928,-0.8053336128246495,-0.528247801605201,-0.7529990798863183,-1.201235488488291,-0.38650510224412754,1.2719682654268298,-0.6431234970285504,-1.097687189256654,1.465298174556751,-0.960194689810623,-0.5622238048022059,0.5454112751263873,0.5887614829277013,-1.1137545120393852,1.1589827870205769,-0.00015061255895527654,-0.07419797522578367,-0.6280278094833007,1.5066509660528922,-0.9785297739587772,-0.6857778216358084,-1.0554831608354074,-0.8418079916924108,0.04522651406493017,-0.12745953062181742,-0.06931052103482577,-1.1477615760900828,0.7753331901209125,0.18518442317307846,-1.0488999746305454,-0.4704675595011558,1.0584870290537065,-0.33559683387293054,-0.11333668712004434,-0.15813792340577845,0.14277240740762526,2.9774574619305185,0.38605359222368474,1.150795221533053,0.9542209364073106,-0.05859510295417028,1.5028718008411768,0.5780606168256343,-1.3994513849961305,0.7144461896259792,-0.8104300005541908,-1.434976044549114,-0.9594102399770442,-0.37311124538142515,-1.1268859732599763,0.513530334620993,2.7776288754143055,0.30953371317302736,-0.6431105110193162,-0.6745478673235799,-0.3136231463342383,-0.21310329404468242,1.5481047044084966,-0.014374316746860035,-0.44152947734415354,-1.470305771358596,-0.19165351589397664,-0.2854820369321176,-1.4995634206883783,2.052508873475582,0.9536769157389272,-2.8373848978792564,-0.5577849707217927,-0.5471794012888721,0.16684337826718054,1.4002910207371657,-1.8308963083255405,1.0567486597739628,1.0097698416510381,0.3042489648347152,0.8777683389812466,-0.76651581166868,-0.42841773871130123,-0.05590786816845113,0.21565416015740932,-0.7827118698470853,-0.15822206079675996,-0.373995446619524,0.020398481488735732,0.3540230077691094,-0.9121519050862613,-1.8827289378176917,-0.3075160132402447,-0.6822711942890338,-1.700550492437538,-0.5995341262489396,-0.829921357924891,-0.02599615527641007,0.22808253870740644,-0.07141956703051225,-0.01415289154924099,-1.540812358058225,1.4717875336777202,-0.334942777074756,1.053185507606471,-1.0540509420465276,0.14209423311859684,0.1581876086545148,0.37799362898489863,-0.5726043962059595,-0.11809418964365459,1.4156206698049922,0.5890720968826114,0.010913076095202099,2.2094246996618714,0.8307843340287328,-1.7636194800492901,1.2620167559557334,0.47133808593466886,0.23825950937872023,0.4246430067784796,-1.1366036572747804,1.371104469333957,0.21966128315978703,-0.498575503139304,0.23148206178010988,-0.831719091205089,1.2069731008468882,-0.06968405446015165,-1.314691930205133,1.1374056121853497,-1.883539169142785,0.7958066630846836,0.0005043750103473609,-0.8879366290235015,0.785876343807136,-0.5069069997119956,1.3778725553965423,0.5411621483753033,-0.5481214343938906,2.0297282076447725,1.8019886753921484,-0.7431413833782363,0.06509256704150955,0.8109885098415301,-1.241112825304906,0.6627547680924036,-0.4894604469388417,-1.0301724931833147,-0.09209841507389355,-0.8945815315966001,1.7041706963877776,0.23234630152222144,-1.182430994271009,-1.5736597582264853,-1.964377320869354,-0.9773535902645687,0.40645746075506534,-0.6985908972600359,-0.34034348267257303,0.0023257724152441032,-0.3230452760246576,-0.675954757768558,0.023658615170332457,1.2025695934685428,-0.8773960235531204,0.43124177570077515,-0.5411217406114833,1.0242439127874479,-0.2556015627352143,0.4415030821778168,-0.46154331681087996,1.1962165932630335,-0.878251776913616,0.9029371956029794,0.6081948952674071,-1.568347608702625,-1.4222489925774935,-1.001762248893783,0.29511273286735934,0.42031486631930154,0.23972546219979196,-0.4752795439554411,0.1186990442132141,1.46186762304419,1.7264129331655875,0.30937090338029144,-0.6384608430100193,2.6380519515503646,-0.5381274539416366,1.2198301732719916,-0.028424273721211618,-1.0695803766961647,0.9541180659583643,1.0427004288760362,0.08516146359035992,-0.34769220094034353,0.28130171350885314,-1.2342387389982847,1.0487236626858683,0.07128725402469885,-1.483410618373558,-1.499256789693018,-0.7932684022430408,-0.8006013724163253,-0.05051753382389584,-0.8207644248772198,0.7341089613174298,0.24653866975182537,-0.48927119831879395,1.6325102436149332,-0.3053266698204715,1.1310758683335713,-0.23860600189248918,-0.5821533692382106,1.4335868164714338,1.11356128133268,-0.3218409962301931,-1.1167368936189965,1.0867837973977443,-0.8978326772736342,0.1160749522941724,0.6272912976985954,-1.214506961038023,-1.8384303026309743,0.1296129147482791,-0.5178451327364535,-0.362669790124613,-0.26287433659709114,-0.2126760193103882,-1.6411703029115206,-0.5971979180873928,1.0580433824008022,-1.3086653206024015,-1.9828482352902352,0.7921694180216808,-0.09693333364546743,-0.8693644917380619,1.773159971461565,-0.5264056957058506,2.409576173329485,-1.622437627857246,1.1500140095006541,-0.4020284621963807,-0.12496894650086979,0.29731777573068396,-0.6425196565842514,-1.4106405162513276,0.3684261244474962,-0.4051954670216609,2.8891841011675434,-0.5448171454658189,-0.8398421607477439,-0.1607760718996006,1.2851183041915837,-0.8248145689277779,0.7815113981411537,0.5495877543079143,-1.526902814967078,0.5618229297358633,-0.2577617402439124,1.5029721161731826,0.49702451254860847,0.49430567708450224,-1.4544972539647478,-0.41035555718998823,2.101118963094904,0.36136669658518994,-1.4635537156597176,-0.8225680757313799,0.8149964884529751,-1.2705650079202213,-1.1037683605787376,-0.3970659683937899,1.452690089877265,0.2736590615261216,-0.03162798328618277,1.1333103370721775,1.0482833549209853,0.1850230581085885,-0.20949324386146623,0.6257553121342154,0.09256182040564857,-1.3942505155962508,0.3894732861681407,-1.3160605245156158,-0.5969505346886694,-0.43158495058979685,0.7459143139946353,-0.005409907049564096,1.1396261140151753,-1.4903020608109878,-0.35464600538151425,0.3068189084899933,-0.8321775529075047,1.8287116414412405,-0.29874852309524225,0.1622107053529279,1.865389749821199,0.45817183038585935,-1.1531325508626056,-0.7430029973997994,1.9244965673397756,-0.5945624700973422,1.648904152906468,-0.04861349991028756,0.9292772450978339,0.20460351758307668,-1.502998089613877,0.020727544310099103,0.39464287418952043,-0.3355473709576791,0.013406373140592263,-0.17293975484947105,-1.0651487215243303,0.36773834803385236,-2.4435468363286015,-0.9167097652529568,1.5513305585702104,1.6826459278391344,-1.2683848457949456,-0.07362674758265751,1.4965538806944332,-0.3917758860939345,0.40745256058572854,0.09442793357451894,-0.7994032844307396,-0.33786681592725354,-0.2442989938210291,0.1857686624969299,1.2359313173897373,-0.6758066937016706,0.4661349817882075,-0.22799430584223757,-1.2007626852544007,0.37624357980503176,-0.5207542491513462,0.31652239513838865,-1.4482523746109628,0.22689557868646906,-0.6119045370468906,-0.43948743224289727,-0.9344344183850202,0.719645332107131,0.6385041157964225,-0.9548113896451775,0.47921095806125863,-0.6777163453116287,0.4195916344420582,-0.37054240382800235,-0.38456616393282167,-0.9679469855153063,0.2646570169866385,0.5801568971642194,1.3926969509174596,-0.08305342531086922,0.6352569058433049,-0.19272794706481527,2.069614068161066,-1.3532356972970754,1.5123578839284957,0.8965016347938749,0.8388609786661738,0.9721144284688372,-0.7623015150057293,-0.605429435565891,1.1324296750800291,0.46584746348456085,-0.2225758259814209,1.7710931342595813,-0.019452956723939575,0.6912866514551241,-2.3119735223826017,0.20139117883184762,1.3535352592116847,1.597849689634781,-1.738117516959397,-0.6798496849923805,0.07679434583714659,-1.1179253357998244,0.2766147756926851,1.5487636137322616,2.0829295204795133,1.1516143455235999,0.3955003180900195,-0.6610372012564475,-0.20868144255808088,-0.7240404262453952,-0.751015421644818,-0.5015478839162236,-0.7919034397017382,-1.539341879785835,-1.7273588207214228,-0.5998326485081367,2.1853220052603883,1.7688746449624748,-0.9377845033604324,1.0791594737631307,0.33709746662440304,0.8231192737352454,0.40111287914642685,-1.3335899196682997,0.43454805728867446,-2.4829215730556324,0.3683722436312023,-0.06709774488976046,-0.6433750156520821,0.21226980898305844,-1.0212500375352862,0.6781160320654734,1.2264598821908894,0.9266367553477013,0.06821275888345732,-0.08224422754053448,0.3522118113218465,-0.13845737634230768,-0.46003346154021146,1.2217858786817388,0.3872516036844801,-0.1365914735685033,-0.8464151415119988,-0.8364313143076404,1.4949667003451343,-0.5478475315478807,0.07358937955668622,-0.8982051978184185,0.5271345584829732,-0.1903396473134133,-0.03270181930304547,-0.6437447945978356,0.4052598880111552,0.5802793342216621,-0.16308323936752347,-0.9529366416955792,1.8993194127605975,0.2201142208897906,1.330772176635501,-1.1636370920621526,-0.03312862217048119,1.7228600327336838,0.39444788152462107,0.6547066673715453,-0.13982234416238212,-1.6378803753214966,-0.8760672187154488,0.1862672976835649,0.6909983980008099,1.979582479708764,-0.007339346187653324,-0.789322051501281,-0.8252331521462206,-1.637390620224196,-0.10766662071367816,-1.6278471588125103,2.9335616400542164,-1.8924612523514928,-1.3503450262728727,-0.6299475282990149,-1.0832938538694479,0.20479229912562444,-0.58676844269949,-0.3711644548230002,0.9348484726138264,-0.8989527509430866,-2.3903352893107805,-0.936990745221512,-1.1765689390157874,-0.3354733719526733,0.28587381996815936,-0.5311017907178539,1.2057567869218344,-0.7494051594191841,-0.5841489650780082,-0.14887783237438493,0.5541544790823483,2.0838019887665893,0.8736986278759415,0.15250908765157728,0.792138937182926,-2.027727227947335,0.9024924505081611,0.10949966530791123,-2.1747248696122243,-0.756752265262337,-3.1053719320047044,1.565172992052139,-0.3975094578698583,1.3039396562521401,-0.8704613859908693,0.21378390378419734,0.9743236423147278,1.4858406678194347,0.4889520827954015,-0.5871641995690718,-0.9754310628976522,-0.32879290157604446,0.6373955844484087,0.6397467986279841,-0.938604899457727,-1.5334423996102642,-0.008693716612753179,-1.3382239852507973,-0.37647989422937667,-0.5975806090799536,-1.5463164041005653,-1.1747311807631426,-0.3659948710128667,2.420700706099328,-1.17776014690514,-0.3384980349730282,-0.9015944261977755,0.7987539253138333,0.5948917972746799,-0.5795693615950634,-0.5765663903708905,-0.4678910639018454,-2.052677379760342,0.545999555550359,-1.0651651313109227,1.4187037817156456,0.685880331676233,-0.3962945677426851,-0.48357556025300863,-0.04937753251217406,1.3354296898797076,0.31477903262119944,0.36102501048789065,1.3183118854156273,-1.0564517817529375,1.4325801552384012,-1.1318325947081855,-0.5991176307586187,0.8852483777185802,-1.9190232767106938,-1.5679201248149868,0.1052442849478096,-0.03169138748735957,1.140616241168459,1.2364354786962495,0.5908973718339547,0.36697686046104383,1.2054057393949453,-0.1954706347772641,-0.5646926328164841,-0.35774593062990534,0.5288352548872793,-2.0313747100722863,-1.0158740184460575,-0.12314235354407871,-0.12941905542233892,-0.5383672872906666,-1.1707092772804184,0.5531925035281042,-0.16079853838747293,1.3409582948556313,-2.270495046015239,-0.7819625897672479,-0.9411943686992598,0.6497943402711823,-0.1646676103102211,-0.3919038363132958,0.2578515826447523,1.0932196356101036,-0.5659437250379694,-1.45365886595148,-0.5873003672929418,-0.7281847464483598,2.0286064582022525,0.6796181125697608,-0.07561702735996995,-0.34197981668739585,0.9146187746943648,2.045221181143802,0.06816467109312307,0.9514391895164347,0.5516775692224855,-0.6055047684702134,0.8628381913790637,0.6582352659271887,-0.069682799892788,0.23120382739135636,0.7490245118934675,-0.6148203636862153,-0.11783200339184174,-1.9679638680062765,-0.057922759036792795,-0.6427206590306257,0.4831090175961962,0.6705304491780373,0.08219938642832114,1.3276558425829967,0.5687508010874702,0.34496426641151456,0.5969154289356805,-0.5525898649194075,-0.9727412776296919,-1.2407316107083817,0.21826598613133985,1.1279422415489344,0.8348523570346948,-1.1666285598951258,-0.7117608389872054,-2.832541484537241,-0.5575367689119952,1.1791010021266526,-0.3720604339522214,-1.055054559763872,1.1777259040977572,1.3219081789127334,1.3266616037428747,1.0513759594743592,0.16154438137366978,-0.4732724960778727,0.4555445350543892,0.05650139290481732,-0.21190626428530582,-1.9094432444040872,0.1845483420506717,1.4696726524433381,-0.1458047506461341,0.21189592489456976,2.0856396673235738,0.40900917772975376,0.7513071631509686,1.3013523812489516,0.3040169426076002,0.16914169275033655,0.2615505763661927,0.7619626851274353,-0.22630459512514325,-0.6266140585383602,-0.6454268053898716,0.14762354822390197,-0.13330046786232952,1.0406675206955802,1.0602909898054234,0.2307934388764523,1.161455635088119,-0.7433384522401632,-0.37710872100964604,-1.702450098304392,-1.0423558341531436,-1.0558416906473165,-0.5404720404246363,-0.5140725897250096,3.0838308203458515,1.1202421094593353,0.07165541834702863,-1.8169160805253244,-0.13814085453931405,0.22437208983746668,-1.5971384980216183,1.5715428804076783,0.3332448335407301,0.037714099490793546,-2.190064705101224,0.8698766877994791,0.2816599495927216,0.18612501197962406,1.983903455340594,-1.0453479051503527,-0.13856717205642155,-0.6496460605244263,-0.9634563873746639,0.07916856414823846,0.3475391170854787,0.05510706576224212,0.11190417812803023,1.4350396749139078,-1.1896538943643429,1.2236159578317714,0.08808042642902814,-1.2256725614559354,0.5475133329754649,-0.3680021057735247,0.664654725444969,-0.9578453876036186,1.8241052886107365,0.34559577111851325,-0.802853916335309,0.02596261063682708,-0.4750461765616575,-0.08921631863378439,1.7024530454248092,-0.5318941597074528,0.899912520090948,0.6955048200428972,-1.3454867273570665,1.0160726853725346,0.8751300359065622,0.6827466593739038,0.38582875267663547,1.157887477532671,0.03813455796927949,0.08272778221088659,0.01603561721738191,0.9425326299061348,-0.577533539723845,0.5629787875393796,1.2618053142437886,0.004304225560233528,-1.475412453176729,-0.19994939918501384,0.8699636528529415,0.9594973037435487,-1.1432089600137512,-1.5000231010361553,-0.42025645547363905,0.7989582373978538,1.3010638993501698,0.8495924048480933,2.364038418236653,-0.9501927444221233,0.1586384227347621,-0.0367753742090841,-1.438328185951163,1.1493905691038242,0.40873355505174364,0.2475699165968632,-0.07027522657711104,-0.47118122519645983,-0.9541152341329362,-1.3802710404318403,-0.2885829300610436,0.6310849135146122,-1.017999713319308,0.4188487454463074,-1.6227752781168223,0.27773779425220335,0.006483249302074539,-1.2828891030996437,0.6251039384414432,0.8687050366456188,-0.5882069514023837,0.8009215281141326,0.5223373645475068,-1.5559401534854795,0.3633282396550031,3.182109219281301,0.7008772690252538,0.0002573878357394792,0.9811283145104963,-1.108533051996493,0.5009853922097891,0.6711552687764873,0.9594305955974323,0.02462799386123527,0.7682615875184032,0.06898736227446074,0.2872817578037851,1.3515740881990816,0.6627606734257242,0.11727683951261533,0.9836142605446289,0.046347886470952476,0.42543099686715524,1.233917061252996,-3.148049560642112,-0.7729855958314383,2.8605197185372107,-1.9119723428973483,1.3910766960965375,-0.8190488122325894,0.6366665221643771,-0.8556075728201424,1.8676429115841846,0.16172531642801566,0.07869628679527034,-0.1566390597937406,0.5859482944997054,1.3025222948838946,-0.43421508009297544,0.3431593341782653,0.12120947156989692,-0.09753758125271014,0.8162149515114829,-2.587653969882671,0.9439802355048397,-0.3999848797969018,0.19968416203584824,0.9934737761227096,-0.8136052617390889,0.3693841021679406,0.02770378240509092,-0.7750942053923278,-0.17240425014652316,1.0003350797481905,-1.7339168556958688,1.2602809693996064,-0.310392647514587,-1.0326666970852287,-0.1622300541514751,-0.8302832016941581,-1.9683388167771965,-0.8100893276554438,-0.8305615052528484,0.3987980848467935,-0.26749940314682724,0.38653242409523436,2.2263147903122094,0.26548404229430966,1.0069191021951083,0.6197916435900354,-1.3984066974316127,-0.6742460055568712,-2.3850280652508107,-0.11677901347673852,0.9124324993876256,-1.4626281906285226,-0.6073617922434352,-0.31761085887791746,-0.6121920597958799,0.10580878754251084,0.5842515032533128,-0.6151397943734084,0.45837638564900335,-0.511383778244314,0.5198739626001672,1.3987112992699584,0.9613824280996518,0.30631840815555716,0.09566904989309205,1.0004053767872643,0.9349766022046331,-0.06032100599526058,-0.9569026505167475,-0.9663409564006644,2.557774969577542,2.125715730460515,1.644263801813892,-0.0422172563834483,0.9943126162737077,0.2886610778613485,0.37281140394279244,1.018279224050387,-1.56737585966836,0.6749540133901387,-0.06761046528512397,0.16237644023992295,1.03546659179822,-0.06917558061992597,0.4840917019362961,-0.6610229680032332,0.7450127310248231,-1.2511035001078588,0.42409280407126615,0.7562506194153407,-0.8113061705050016,1.2062148825791315,1.3935019589800148,1.0340880468693294,-0.5526448035677863,0.5847351326704598,0.4735525637430009,0.5950582883888165,-1.5314378720344775,-0.669152949719635,-0.4560298534906089,-2.7066060364967344,0.39204585329686503,-1.27800814353554,-0.3035343579556174,-1.318720370146867,1.704925336750652,0.8298364383708708,0.9517847426058055,0.83909053730137,0.6325952985563236,-0.7236858889696705,-1.1667985807713086,-0.09174698957373843,-0.9066376139143871,-1.3005838660125777,-0.32062937873239405,1.1583625665371502,0.15947743328452024,-1.5062119219858627,-0.39258520761498045,-0.662449253656656,0.0026511149919159847,-0.7832390420442398,1.0498858589198214,0.3890333516449348,-2.530206594802997,1.2665807094520105,-0.2558328353521273,0.14042406660449835,-0.6276949548535304,0.2757002300352264,-0.13554581194042953,0.1968831403240751,2.79379045580199,-0.9755268889242033,1.3839001865385305,-2.941148068750427,-1.1470643168812278,0.6074096871468604,-0.8941516079510684,-0.40446996386160833,-0.05020787225704195,-0.276529394425236,0.4218972314206444,0.0817731325350675,0.09588152635948556,-1.5737383711668123,-1.0270826873800438,-0.8644724682853083,0.28294635211324165,-0.40828790416067606,-0.6177584529057345,0.800896349822212,-0.4090092764305673,-0.7103466212810342,-1.6895942835262152,-0.9828016343968691,0.9164206239426883,-1.6476733260042125,-0.27799222026761533,1.235345358009715,-0.3363203546948919,0.4908646362185128,-1.559045740831834,0.23986014166347522,-0.9457670564946171,-0.933548033442964,1.0155541060137065,-0.09192245745917009,0.13719572029829763,-1.727891117411031,1.6835685688396504,-0.5727415659379722,0.1355040077383097,0.08568962263376396,-1.1451183292079667,1.7138234505265755,-0.1370098164372897,-1.3153092599144218,0.5479568214304349,-0.20504053859543211,-0.8188948335593853,0.5540439109822479,2.9635672731641187,-0.15503336327071116,-1.0615153024719424,0.2989433798192414,-0.1804209196407173,0.1681099235978512,1.3643087919252126,0.792023606913009,0.7259684307790002,0.3407598444590115,0.4096282162780888,-0.5836812997514788,0.583719603371849,-1.763742505003111,0.8127421571181482,-1.6446390931846777,0.3295140589502762,0.9608258037498123,1.440254535126535,0.9406697775664987,-0.4009496911057219,0.31616480597246444,1.1469595763858307,-0.09019212677796211,-0.3464400528537544,-0.9442557004175404,0.3780129404244516,-0.5732894363320291,-0.08285399453110726,0.9141489182534035,0.7037733966745957,-0.6844840116844302,-0.8354676638180701,-1.4040050864457074,0.8280747055713199,1.3895176299643293,0.0519787645032267,-1.1229018367642138,-1.8027064669522632,-0.7613588221261179,-0.45497138854607877,0.6512450204045432,1.2274673656341089,-0.6673221924090956,1.9477665546041953,-0.07975759812988914,0.3365280069502151,0.3433096969223681,-0.9005417580131425,0.3646208873555728,-0.8315415494853466,-0.042749764028080166,-0.6425737014649662,-1.1267795399016756,1.1808909839521786,1.320226546920945,1.784511815306758,0.8391377788694006,0.25278156525906487,1.0906228486541092,-0.20236870923644518,0.17240442643921475,-1.1330800679343598,0.7869936151721398,-1.126675792746315,0.04285677691179977,2.7859317839693305,0.3210458256716173,0.854349461189536,0.25263251938615905,-0.4337032204925137,-0.7936942860919785,0.0700472489582218,0.843101698458942,0.28738080355478673,0.125961540309349,-0.24194384013513673,-0.22144092562164455,0.18023151132168003,-0.40764717479888946,-0.3221338463752599,-1.3848520366806478,-1.47395926232126,0.6588471508274062,0.11965803955885322,0.9651547676885823,-1.2765527933240872,-0.17170608595726408,0.07203344753918306,1.2729759243031487,-1.1406071898959853,1.0198515766447902,0.21069518254838476,0.21537072968580037,-0.42558157580371314,-0.6971326128586602,-0.09342147386561828,0.28838508057721846,-0.6577392951919975,-0.7425020147254974,-0.11741001718606993,0.3293062067231631,-1.1118204215647085,1.0823422793894033,-2.5897442739351004,-0.25533975455516533,-0.02297234934700556,-0.14350447708475542,0.9976969753168086,0.6718349081248687,1.4354506293491545,-0.7518493739422142,-0.16114703473210865,-1.039587934191403,0.8045028225165074,1.7411962976837752,-2.8418922214567397,-0.27219412166241197,0.8790247444327933,-0.666485068335382,-1.3821999202670017,0.3582536787074266,0.4239053255129588,0.09239948700597785,1.9482199201682864,0.9361780973330703,0.7767120198426786,-0.5199956654161266,1.3408298328286485,-0.0690880920666844,-1.2529646425022292,-0.4674132772993393,2.3842293334055893,-0.3609591191168511,-0.6855310479935043,0.519672848283978,0.03755048743450361,-1.5965536043988604,-1.9044918243052762,-0.38561971304907106,2.1924325061685037,-0.27556653833489614,-3.2848239331603835,-1.037154014834412,0.3119523069790295,-0.30311497467808357,0.22667981489192585,0.15928363685419744,-0.07623418874999566,-0.7922825714491634,0.16906975317149378,1.9945105308357252,1.1647357010151524,0.0692110111288368,-0.9716369616807683,-0.15903249918430964,-0.39693790350072305,-1.2917673088292674,-1.8995146650411063,-0.487925898967157,0.5077450490756584,-1.2039575554855377,-1.0505763592029,1.509487601710044,-0.4482735281371739,0.8196052383701452,1.1724007048700338,-0.4113796073775811,0.23843151587742017,-1.9336237939884828,1.375235806393324,-1.3143370366799563,1.0112154515148477,0.7165409974666781,0.8344060110167776,0.9511684909495097,-1.362902098036894,0.6514461836113714,-0.9905359627076413,0.10135816249733186,-0.7629691127502461,-1.4870037574056805,0.5934426172373873,2.672530671499113,0.2167756066587013,0.29081322458990705,2.173644096845989,-1.3492281565725266,2.3714007328377646,1.2825648759224535,-1.5449608044762493,0.7465137870940486,1.0717506599147966,0.850230697865784,-0.15234545142595463,0.5946411964330544,-0.4081886138327515,1.2022362145319538,-0.8189929477903661,1.0202530966677736,-2.314370523490095,-0.6845110502462725,0.511660108471513],\"type\":\"scatter\"},{\"marker\":{\"color\":\"red\",\"line\":{\"width\":0.5},\"symbol\":\"diamond-open\"},\"mode\":\"markers\",\"name\":\"Churn\",\"x\":[-1.2744448279436507,-0.42282578112825264,3.0989727040567447,-0.9048160619690817,1.081517576517817,-1.0978803341561054,-0.3935012872242718,-1.302827583465017,-0.815727225911537,-1.0456900749487223,-0.653833352438759,-0.49936599051501973,2.9973738741035456,-0.32462458922455695,-1.4593711098282307,1.4013652150695477,-0.4517682524220282,0.09785027550157245,-1.6428690260810128,1.669184272789601,-0.6082398006276306,-0.45433737305309524,-0.5737265332700674,-1.160638772495141,-0.5305851459333872,1.4653861281705876,0.14653989092115363,-0.6291449111679822,1.7230397714006271,-0.3093579128656303,-1.128818605759265,-0.5350274866969214,-1.4047160918986268,-0.029090419149147985,0.17251596176874842,-0.7102165658779123,-0.5898637212102262,-0.41133449005872014,-0.41482411429354,-1.1863826231630783,-0.3637106053341214,-0.814082478582443,-0.5394272202271331,-0.12433657855765876,-0.5340523267923213,-0.45773608751243433,-0.9324263166913062,2.0492086523697757,1.8676764458344988,-0.8201654569693011,-0.3181815711670582,1.0584682768312554,2.35510140037141,-1.3583426713206328,0.17384644725755316,-0.8669651255619844,-0.5024769249380674,-0.40241145365395886,1.8310534912075342,-0.39825270367840193,-0.24756953306497206,-0.3920161783876167,0.12682140666194142,-0.2841618210710773,2.1913095888348604,-0.09499469673086859,-0.7345222122414191,0.18077248289697137,-0.9005622122461001,-0.8612100014462002,-0.6659342186122185,-0.7212171670502274,-0.6156086657467026,-0.25726571766797807,2.0885774072920693,-0.4596321490969671,-1.1416162902443048,-0.4416525961341486,-0.7418913580832281,-0.5602814420878258,1.5321836018960622,-1.3461128848434436,-0.029189793244494062,-0.5806751718866123,-1.2126640175874739,-0.3595698554927092,-0.11345369254329578,-0.5279527973390428,1.2750879842778526,-0.23204007754831935,1.960531710445306,0.4876408675105854,-0.4713112530080145,0.3018664601155206,1.735783405083022,-0.5427325315825134,-0.44124426686796214,-0.5854684927457657,2.4888886669633368,-1.4743036563740788,-1.436518884762701,1.7414123625432851,-0.5490274542879013,-0.3890637902894703,-1.0865961412732117,1.969848331628921,-1.0543296061811136,-1.0916459535242558,-1.1309796066675324,-0.8171261376609701,-0.8981434619296156,-0.6581682680325533,-0.32692079661132656,-0.20947563075107214,1.4683786124227396,1.8924028177557395,1.9793639406313766,2.3803003560422478,-1.1921076596077542,-0.06515332635013198,-0.8976401452430042,-0.6929963059726872,-0.16011466004299962,-0.7482804206540378,-0.6735552055467308,-0.7957943798716128,0.9617486760094629,-0.2968238272571622,-0.43297098056207267,-1.106414531029386,-1.3061478568207392,-0.7458670930493071,0.11952040009039906,-0.35179630167285664,-0.04930482529717494,-1.0562642758865834,-0.5385834790817924,0.2157916895220008,-0.9813694084290525,1.0346549021061322,-0.768925197368448,2.664140577634938,2.30754915335396,-0.03142239394411535,-1.013213707139082,1.2191251588521435,-0.46853600434309695,-0.4531963692631454,-0.33670934681525017,-1.2780780820145206,1.1871158892700358,-0.5403516944427755,-0.42813613805643624,0.5900038209752098,-1.5758725533354934,-0.5487924535012458,-0.44998592574045565,-0.168951377737312,-0.3255932896473534,-0.9042572372119371,-1.4392041525705899,-0.3565336080006236,-0.34788543038284375,-1.0852587437759762,-0.768068981849731,0.11876109955644558,-0.2503896032708296,-1.1000741182281601,-1.2011664447830668,-0.3221198496116165,-0.9542077202592155,-0.3232089807521934,0.0554084046491593,-0.09131811232500098,-0.60556854303181,-0.6513674222520294,-0.7972617438088816,-0.6108657394668272,-0.2174104728767659,-1.24724744145305,-0.8437217023882616,-0.7217912807116483,-0.5638537568058771,-0.10851518256565182,-0.6424320636133427,-0.9017759957188654,1.0324130395190394,-0.70453504356411,-0.8706882188562226,-0.9970513254820011,-0.2652461647406314,0.7577071426714189,-0.2910793645605874,-1.2551833461445263,-0.27773902068387735,-0.3037093607193927,-1.2013771738435088,-0.2584987698652488,1.3947683703944633,-0.4339734741619765,-0.33304214399968335,-0.4742806325299616,2.4603951758472595,1.6508094375071554,-1.2347078793031467,-0.5295371032148705,2.1111776594702882,-0.6401609129722221,-1.1270111931623579,-0.6050186560768542,-0.465074626760739,-0.8979578983767832,-0.643386011449729,0.43215804071532843,-0.3372196909049595,-0.08759345935723709,-0.6723100285217645,-0.08766104796159575,-0.28260281137586063,-0.8423324837803684,-0.27295208612504857,-0.4896196223836817,0.9634759749797168,-0.5381044505516838,-1.3351458935461074,-0.4277961572687797,-0.80263772881583,-0.733569551524585,-0.6283877164482362,-0.748368445837283,-0.5367349258620727,-0.44058432068164144,-0.3655340845716917,-0.7901571618707122,-0.7878585232782205,-0.6023192556058433,-0.6803039573909158,-1.2773582720444099,-0.8633922039698633,-0.2235251334242984,-0.5812223726707443,-0.47183168722391056,-1.0539576888801765,-0.5112550491967643,-0.5775074023801089,-1.033686081504814,-0.584033144142721,-1.1375313908536788,-0.24808247243936868,-1.4221700585375439,-0.9757154226924323,-0.7962229822598071,-0.19367621247597241,-0.9899114625240982,-0.41444744886704526,2.0242754904701945,-1.453119452474337,-0.9214229990538838,1.5033153162813662,-0.34573629917527465,-0.3899333952390257,-0.3274909037121504,1.4828143895946193,1.8843459379492513,1.991643938176039,-0.5065348922201254,-1.2297317814583761,-0.8983224239664294,-1.5899996843277708,-0.899135139906586,1.4319885971117312,-0.5515025974755304,-0.6043150007871263,1.5558877633802273,-1.4343068433626627,-1.3202983132440889,-0.9171873634711069,-0.29358496472596185,-0.5764897034682717,-0.1729712564443515,-0.2835143791456216,-0.4184233498762457,-0.7131015539014037,-1.0580359656083451,0.11655928426185239,-0.2632554667085741,-0.1415348244796206,-0.9213258263703229,-0.27746357364143,-0.20975284381336798,1.4318397450385458,-0.5618310692738194,2.3692859626749145,-0.7144539754314553,-0.244791033436952,-0.7252933414691398,-0.7586467244609724,1.2993731102395112,-0.6007717081348318,-0.10851722650035536,-0.7030383704630212,-0.9749948653009457,-0.48019714581888856,1.9777261012392031,-0.2576941420655774,-0.3759535486318322,-0.13817362973645805,-0.08398753525287801,-0.7712426237198705,1.3304009131346186,2.089401596751729,-0.4609718492774995,-0.5687772871544649,-1.1072248503250386,2.291260186392202,-1.0075711779605132,1.3776634476936969,-0.32034273185669465,-0.717724741612761,-0.6164004733852472,-1.0643280346054753,-0.8929141829943108,1.910206531552705,-0.5856638649892747,-1.168375271196642,-0.2447936253666456,-0.11670360575913868,-0.5446201464432111,0.7023695613212708,-0.6246261297582738,-0.7324873895367647,-0.9877397090222365,-0.30722715869760103,-0.43696590543889946,0.2829319732837474,-0.568184291237585,-0.7442083772780395,-1.2597795804854133,1.5606359581222398,-0.7250980100440321,-0.5858194871879078,-0.5314595075427179,1.7078445546212346,-1.4049814851402782,-0.5729738050222565,-1.1896729161549753,-0.5478054275426899,-0.7973086641013026,1.2791925134179924,-1.3464601870196544,-0.40700725826474426,-0.8568576689386072,-1.0883341800247046,-0.04142519991156319,-1.3149671128745646,-0.3310591024019673,-1.5022696273570382,-0.09226482419419287,-1.0071863814248438,-0.2031199586041406,-1.250990962907794,-0.16903270779699997,-0.19136924297703362,-0.723755216277421,-0.4037866800468507,-0.510517825847563,-1.372094165552824,-0.22828162564604138,-1.5057697635415197,-0.5977465261715479,-0.13228486535012648,1.3093529632599095,-0.7245169765285145,-0.4624097655229468,-0.4702046554118845,-0.8079922541912605,-0.9836369778058386,2.451791732212706,-0.8594379128078269,-0.3859572888378914,-0.40981113299481103,-1.0400989773878875,1.687363840622688,2.145158098692079,-0.9344050918719596,-0.8937637087262319,-0.7003857238117358,-1.4593782440556737],\"y\":[-0.6949671890889132,-0.40152898854321084,2.60681944473952,-1.5185623087124749,0.7991024112480422,1.111636882395562,0.870703245804994,1.0741779436861278,-0.364057091419732,-0.023736682771301948,1.734303854663507,0.4395053181738147,0.5650512565143732,-0.8587234122745702,0.5989827446298762,-0.5578219268326641,0.18469576596929377,1.6770497967703233,0.24061946453556432,0.8182278319365396,0.9321627240708776,0.926972047299416,0.8900357799328819,0.861711263609746,-0.6692487923072774,0.7893095099317552,0.7061775073691352,0.41501084090266704,-0.7106743891134244,-1.9701816615360768,-0.5286258744530534,-2.2401670854036064,-0.5778202294642366,-0.46008119461772845,0.557498758978079,-0.07204655693219512,-0.7195639567326952,-1.4259468743663197,-1.2781816158841124,1.569090732930104,-1.8164821680509693,0.5533737196716819,-0.9057744907413848,-1.3170243114092075,0.0384766072845858,0.7593555898254546,0.17737743291352648,0.8670412970289153,-3.2013502736899793,-0.38513205452663984,0.2356142730829311,0.6109127520886208,1.8135465856961073,-1.0652025552634279,1.0109144626278,-1.6018109236420963,-0.6839178377203902,-1.4412805221069644,1.78111785947217,-0.09949280854593345,0.7860395858814598,-0.23160104159120273,0.029315170747226317,0.48779639547842546,-0.5522167639435177,0.3988674843380438,-1.6634222868722466,-1.1122797718433906,0.7677871129314503,-0.15471834104430038,-0.20834405704051956,1.4814464885088996,-0.45020265964250794,-1.0060618455515724,-0.8484324407951053,-1.1165767892293652,0.5872309590948183,-0.5083038240485251,-0.0682861192112724,0.43296424407449774,-0.08845982509792964,0.3427087597579276,-1.519630085791193,0.5005402199732575,1.747055995810553,2.37992515830799,1.2522955747302835,-0.4035490356888701,0.8961652823641865,-1.4241487957613768,0.39493175081948473,0.4244796833514148,-0.5574797737487442,-0.9081326380898848,-0.8833040601984397,1.8586791458294598,0.839050193187447,0.3099161852718631,0.37496171249231897,1.2416875209278913,0.6180851106170748,0.37262851194365837,1.6234079402117338,1.1177789793916753,-1.6174189874278193,0.8474527501269894,-2.586605062018838,0.482554783369848,1.0890400060043248,1.896641799908145,-1.3553099544992533,0.5124474263116128,0.5979694741058847,-0.26145098810160217,-0.16462983057106811,-0.6060636079677667,-1.6320060562818575,-0.4419993880573626,-3.1352722470662844,0.5454835286409451,-0.14421649425379462,-1.5160622504634473,0.009227721402182964,-0.26334283469681075,-0.9905673702411205,-3.4838671194748563,-1.8332650901003897,0.07328581008413508,-0.4820857102381451,-0.9597667099675345,-3.3193763588672613,-1.3009712115571634,0.666054128432989,-0.3500748154820881,0.25516554008188197,-0.9058181083497341,-0.8509882617389949,-0.3984564375076005,-0.014620440801924187,0.00932332439361824,0.1753361372222946,1.0958775404751744,-0.2519114130412235,-0.29946663502228166,-0.20054499876624143,0.5231669778169397,-0.7881640302468714,0.357485140881237,0.7141987396295634,0.3376036953526298,0.06004286538746739,0.7226415197049918,1.4355901841111351,1.0846333366130678,0.6042584534334544,1.132113436521288,0.5116212564450019,-0.4143768208126828,0.7785917817600364,0.4784986776892831,-0.74304267084746,1.956565867826036,2.1392119539419796,1.0507885850831296,0.10482312004620818,-0.2989241143350583,0.21182111469334514,-0.6985561301101895,-0.22790538221057716,0.7035167938541074,-0.13787198149778632,0.8519911023340814,-0.11479533020313773,-0.26317648931410365,1.2868171340223735,-2.817223947350652,1.2655018772430944,-1.108080439340433,-1.3075832388731876,0.17016591770739506,-0.3163792896113608,-0.1316756624298405,0.024620707694392386,-0.9788358003724638,0.5992000511792513,-0.9503716990815113,0.1303625732453017,0.22137742284937442,1.2559538121364515,-0.3671366845884375,-0.17703067186160998,-0.39190574435808745,-0.37406588669298835,-0.4007075219045422,2.2307455127953664,-0.3004311544785983,-0.7090224994502282,-1.2006817447806173,1.1998220076494275,0.004686545429664172,0.18650281579772657,0.6720076629368532,1.7526613705452703,0.6121710181503873,0.9106052473279628,-0.46819328065997223,1.0713463709468758,-1.1740909038836218,-0.5327595116173558,0.6103285948028866,0.6207070159062309,-0.39162178632643063,1.582428225837887,0.2698507673882011,-0.29293413410770025,1.57482430041847,0.09367312255689372,0.8502621020627847,-0.6026793058730595,-0.5410736907685031,-0.8913413090199971,0.08614456090656665,0.775375274798931,1.1401081989643078,0.7415069905856146,-0.026093067370289602,1.5685096866552841,-0.7385974346920512,0.8274542196744201,-0.001167858602266031,-0.0025279813540586282,1.214260998518883,1.1123344454167092,0.3879951000067608,-1.4121225294945154,-1.563189440862303,1.0630020224061312,2.2077937658601807,-1.266186387604473,0.5404657520247292,0.300551677841408,0.3450479151525801,0.2335629655308685,-2.1538354581163253,-0.09572998992406674,-0.3362237031094875,-0.007343249718996287,-0.07611467651537014,0.0777088115700245,-1.6087086769196635,-0.54818039242031,0.11967147085039759,-1.6761312394134669,1.202051009570702,-1.5640228856208727,0.17521515688550918,-0.7752581018012612,0.07271523473145977,-0.5208922688399985,1.7611581358554318,0.9627898700035151,0.05063582323986668,-0.016388767484879902,0.3682591240049018,0.34573088544107833,-0.11897726718557684,0.1194883405739938,-0.2546208188598186,-0.11632555510811425,-0.955754183986287,-0.4926582851459659,1.669409841838876,1.0924188945001367,-1.252489039398058,-1.3925376877769393,-0.6345995925636195,-1.7622070514000723,-1.6084875263328726,-0.31332924278847457,-1.413848695881355,0.9238564001904358,1.4518635409930958,0.6393083362068163,0.9050058010267362,0.5281188528002682,-2.1489255298999876,-0.6186484810881363,0.44506537180716915,0.4556054439975279,0.39531181793090714,0.5842479962716038,0.040077574943437534,-0.7022011546714706,0.20531041285519663,0.9933707818445365,0.125104095120748,0.20547578928595256,1.6356241270964849,0.6130149088825031,1.6146423526568845,0.616249049952124,0.2848865274962037,2.0755618073166797,1.3149341238959904,-0.7271344286231438,0.61465399987968,-0.15833132188926466,0.4445346536806392,-0.21939427643164564,0.8933542063899872,-1.4984627236095278,-0.672911835281187,1.459072994822254,-0.38571584666690767,-0.4585212697530372,-1.3521531420687587,-1.3384913214956389,0.8611394867318147,0.3784184749197874,-0.30328662253863625,-1.7403937592781331,-0.42996978137663017,-0.9013674688800717,-0.34732460181505215,1.4330305512228656,-0.11827633569227726,0.1153441156773573,-0.4747017651786153,-1.2873198325065482,-0.12211866561247234,0.5650774816813201,-1.6108814051750244,-1.335132058851645,0.36810132363351944,1.0787673435984995,0.3745247225309309,-1.2656680343432805,-0.7766491317742292,-1.289561179208063,-2.004216980078937,2.0228648663381046,-0.28793118520575095,1.843930924103015,-0.713790206199328,-0.6155583072746778,0.5752014439569335,1.073197385343328,1.1992579731912176,0.2884102598780656,-0.2159600450247081,-1.6127022061886722,-0.09754234286145082,0.5958685528215644,-0.13867236194751878,-0.5289618407333766,-2.114689317098773,-0.5824771732188978,0.9428164961687142,-0.4065693052867301,0.6560443098616606,-1.287839847777968,-1.3597767269570011,-0.539648642777662,-1.2279818422433586,-1.9186714932077438,1.2198591492800355,0.44041713730280024,-0.06332585510412593,1.3786525773897573,-0.23321269048466262,-1.1859275062763863,-0.4551145563672678,-0.19469719311987171,-0.06781189426280525,-1.0197239508214953,1.4309921594737334,0.8696572049907167,-0.10159067549512486,0.8312346726949059,-0.935016902772102,-0.8557280543178559,0.09907854073321724,2.129764850418021,3.586295078486052,1.1601281433606943,-0.7570830999725151,-0.16380770888348847,1.1747754880539958],\"type\":\"scatter\"}],                        {\"height\":400,\"paper_bgcolor\":\"rgb(243,243,243)\",\"plot_bgcolor\":\"rgb(243,243,243)\",\"template\":{\"data\":{\"barpolar\":[{\"marker\":{\"line\":{\"color\":\"#E5ECF6\",\"width\":0.5},\"pattern\":{\"fillmode\":\"overlay\",\"size\":10,\"solidity\":0.2}},\"type\":\"barpolar\"}],\"bar\":[{\"error_x\":{\"color\":\"#2a3f5f\"},\"error_y\":{\"color\":\"#2a3f5f\"},\"marker\":{\"line\":{\"color\":\"#E5ECF6\",\"width\":0.5},\"pattern\":{\"fillmode\":\"overlay\",\"size\":10,\"solidity\":0.2}},\"type\":\"bar\"}],\"carpet\":[{\"aaxis\":{\"endlinecolor\":\"#2a3f5f\",\"gridcolor\":\"white\",\"linecolor\":\"white\",\"minorgridcolor\":\"white\",\"startlinecolor\":\"#2a3f5f\"},\"baxis\":{\"endlinecolor\":\"#2a3f5f\",\"gridcolor\":\"white\",\"linecolor\":\"white\",\"minorgridcolor\":\"white\",\"startlinecolor\":\"#2a3f5f\"},\"type\":\"carpet\"}],\"choropleth\":[{\"colorbar\":{\"outlinewidth\":0,\"ticks\":\"\"},\"type\":\"choropleth\"}],\"contourcarpet\":[{\"colorbar\":{\"outlinewidth\":0,\"ticks\":\"\"},\"type\":\"contourcarpet\"}],\"contour\":[{\"colorbar\":{\"outlinewidth\":0,\"ticks\":\"\"},\"colorscale\":[[0.0,\"#0d0887\"],[0.1111111111111111,\"#46039f\"],[0.2222222222222222,\"#7201a8\"],[0.3333333333333333,\"#9c179e\"],[0.4444444444444444,\"#bd3786\"],[0.5555555555555556,\"#d8576b\"],[0.6666666666666666,\"#ed7953\"],[0.7777777777777778,\"#fb9f3a\"],[0.8888888888888888,\"#fdca26\"],[1.0,\"#f0f921\"]],\"type\":\"contour\"}],\"heatmapgl\":[{\"colorbar\":{\"outlinewidth\":0,\"ticks\":\"\"},\"colorscale\":[[0.0,\"#0d0887\"],[0.1111111111111111,\"#46039f\"],[0.2222222222222222,\"#7201a8\"],[0.3333333333333333,\"#9c179e\"],[0.4444444444444444,\"#bd3786\"],[0.5555555555555556,\"#d8576b\"],[0.6666666666666666,\"#ed7953\"],[0.7777777777777778,\"#fb9f3a\"],[0.8888888888888888,\"#fdca26\"],[1.0,\"#f0f921\"]],\"type\":\"heatmapgl\"}],\"heatmap\":[{\"colorbar\":{\"outlinewidth\":0,\"ticks\":\"\"},\"colorscale\":[[0.0,\"#0d0887\"],[0.1111111111111111,\"#46039f\"],[0.2222222222222222,\"#7201a8\"],[0.3333333333333333,\"#9c179e\"],[0.4444444444444444,\"#bd3786\"],[0.5555555555555556,\"#d8576b\"],[0.6666666666666666,\"#ed7953\"],[0.7777777777777778,\"#fb9f3a\"],[0.8888888888888888,\"#fdca26\"],[1.0,\"#f0f921\"]],\"type\":\"heatmap\"}],\"histogram2dcontour\":[{\"colorbar\":{\"outlinewidth\":0,\"ticks\":\"\"},\"colorscale\":[[0.0,\"#0d0887\"],[0.1111111111111111,\"#46039f\"],[0.2222222222222222,\"#7201a8\"],[0.3333333333333333,\"#9c179e\"],[0.4444444444444444,\"#bd3786\"],[0.5555555555555556,\"#d8576b\"],[0.6666666666666666,\"#ed7953\"],[0.7777777777777778,\"#fb9f3a\"],[0.8888888888888888,\"#fdca26\"],[1.0,\"#f0f921\"]],\"type\":\"histogram2dcontour\"}],\"histogram2d\":[{\"colorbar\":{\"outlinewidth\":0,\"ticks\":\"\"},\"colorscale\":[[0.0,\"#0d0887\"],[0.1111111111111111,\"#46039f\"],[0.2222222222222222,\"#7201a8\"],[0.3333333333333333,\"#9c179e\"],[0.4444444444444444,\"#bd3786\"],[0.5555555555555556,\"#d8576b\"],[0.6666666666666666,\"#ed7953\"],[0.7777777777777778,\"#fb9f3a\"],[0.8888888888888888,\"#fdca26\"],[1.0,\"#f0f921\"]],\"type\":\"histogram2d\"}],\"histogram\":[{\"marker\":{\"pattern\":{\"fillmode\":\"overlay\",\"size\":10,\"solidity\":0.2}},\"type\":\"histogram\"}],\"mesh3d\":[{\"colorbar\":{\"outlinewidth\":0,\"ticks\":\"\"},\"type\":\"mesh3d\"}],\"parcoords\":[{\"line\":{\"colorbar\":{\"outlinewidth\":0,\"ticks\":\"\"}},\"type\":\"parcoords\"}],\"pie\":[{\"automargin\":true,\"type\":\"pie\"}],\"scatter3d\":[{\"line\":{\"colorbar\":{\"outlinewidth\":0,\"ticks\":\"\"}},\"marker\":{\"colorbar\":{\"outlinewidth\":0,\"ticks\":\"\"}},\"type\":\"scatter3d\"}],\"scattercarpet\":[{\"marker\":{\"colorbar\":{\"outlinewidth\":0,\"ticks\":\"\"}},\"type\":\"scattercarpet\"}],\"scattergeo\":[{\"marker\":{\"colorbar\":{\"outlinewidth\":0,\"ticks\":\"\"}},\"type\":\"scattergeo\"}],\"scattergl\":[{\"marker\":{\"colorbar\":{\"outlinewidth\":0,\"ticks\":\"\"}},\"type\":\"scattergl\"}],\"scattermapbox\":[{\"marker\":{\"colorbar\":{\"outlinewidth\":0,\"ticks\":\"\"}},\"type\":\"scattermapbox\"}],\"scatterpolargl\":[{\"marker\":{\"colorbar\":{\"outlinewidth\":0,\"ticks\":\"\"}},\"type\":\"scatterpolargl\"}],\"scatterpolar\":[{\"marker\":{\"colorbar\":{\"outlinewidth\":0,\"ticks\":\"\"}},\"type\":\"scatterpolar\"}],\"scatter\":[{\"fillpattern\":{\"fillmode\":\"overlay\",\"size\":10,\"solidity\":0.2},\"type\":\"scatter\"}],\"scatterternary\":[{\"marker\":{\"colorbar\":{\"outlinewidth\":0,\"ticks\":\"\"}},\"type\":\"scatterternary\"}],\"surface\":[{\"colorbar\":{\"outlinewidth\":0,\"ticks\":\"\"},\"colorscale\":[[0.0,\"#0d0887\"],[0.1111111111111111,\"#46039f\"],[0.2222222222222222,\"#7201a8\"],[0.3333333333333333,\"#9c179e\"],[0.4444444444444444,\"#bd3786\"],[0.5555555555555556,\"#d8576b\"],[0.6666666666666666,\"#ed7953\"],[0.7777777777777778,\"#fb9f3a\"],[0.8888888888888888,\"#fdca26\"],[1.0,\"#f0f921\"]],\"type\":\"surface\"}],\"table\":[{\"cells\":{\"fill\":{\"color\":\"#EBF0F8\"},\"line\":{\"color\":\"white\"}},\"header\":{\"fill\":{\"color\":\"#C8D4E3\"},\"line\":{\"color\":\"white\"}},\"type\":\"table\"}]},\"layout\":{\"annotationdefaults\":{\"arrowcolor\":\"#2a3f5f\",\"arrowhead\":0,\"arrowwidth\":1},\"autotypenumbers\":\"strict\",\"coloraxis\":{\"colorbar\":{\"outlinewidth\":0,\"ticks\":\"\"}},\"colorscale\":{\"diverging\":[[0,\"#8e0152\"],[0.1,\"#c51b7d\"],[0.2,\"#de77ae\"],[0.3,\"#f1b6da\"],[0.4,\"#fde0ef\"],[0.5,\"#f7f7f7\"],[0.6,\"#e6f5d0\"],[0.7,\"#b8e186\"],[0.8,\"#7fbc41\"],[0.9,\"#4d9221\"],[1,\"#276419\"]],\"sequential\":[[0.0,\"#0d0887\"],[0.1111111111111111,\"#46039f\"],[0.2222222222222222,\"#7201a8\"],[0.3333333333333333,\"#9c179e\"],[0.4444444444444444,\"#bd3786\"],[0.5555555555555556,\"#d8576b\"],[0.6666666666666666,\"#ed7953\"],[0.7777777777777778,\"#fb9f3a\"],[0.8888888888888888,\"#fdca26\"],[1.0,\"#f0f921\"]],\"sequentialminus\":[[0.0,\"#0d0887\"],[0.1111111111111111,\"#46039f\"],[0.2222222222222222,\"#7201a8\"],[0.3333333333333333,\"#9c179e\"],[0.4444444444444444,\"#bd3786\"],[0.5555555555555556,\"#d8576b\"],[0.6666666666666666,\"#ed7953\"],[0.7777777777777778,\"#fb9f3a\"],[0.8888888888888888,\"#fdca26\"],[1.0,\"#f0f921\"]]},\"colorway\":[\"#636efa\",\"#EF553B\",\"#00cc96\",\"#ab63fa\",\"#FFA15A\",\"#19d3f3\",\"#FF6692\",\"#B6E880\",\"#FF97FF\",\"#FECB52\"],\"font\":{\"color\":\"#2a3f5f\"},\"geo\":{\"bgcolor\":\"white\",\"lakecolor\":\"white\",\"landcolor\":\"#E5ECF6\",\"showlakes\":true,\"showland\":true,\"subunitcolor\":\"white\"},\"hoverlabel\":{\"align\":\"left\"},\"hovermode\":\"closest\",\"mapbox\":{\"style\":\"light\"},\"paper_bgcolor\":\"white\",\"plot_bgcolor\":\"#E5ECF6\",\"polar\":{\"angularaxis\":{\"gridcolor\":\"white\",\"linecolor\":\"white\",\"ticks\":\"\"},\"bgcolor\":\"#E5ECF6\",\"radialaxis\":{\"gridcolor\":\"white\",\"linecolor\":\"white\",\"ticks\":\"\"}},\"scene\":{\"xaxis\":{\"backgroundcolor\":\"#E5ECF6\",\"gridcolor\":\"white\",\"gridwidth\":2,\"linecolor\":\"white\",\"showbackground\":true,\"ticks\":\"\",\"zerolinecolor\":\"white\"},\"yaxis\":{\"backgroundcolor\":\"#E5ECF6\",\"gridcolor\":\"white\",\"gridwidth\":2,\"linecolor\":\"white\",\"showbackground\":true,\"ticks\":\"\",\"zerolinecolor\":\"white\"},\"zaxis\":{\"backgroundcolor\":\"#E5ECF6\",\"gridcolor\":\"white\",\"gridwidth\":2,\"linecolor\":\"white\",\"showbackground\":true,\"ticks\":\"\",\"zerolinecolor\":\"white\"}},\"shapedefaults\":{\"line\":{\"color\":\"#2a3f5f\"}},\"ternary\":{\"aaxis\":{\"gridcolor\":\"white\",\"linecolor\":\"white\",\"ticks\":\"\"},\"baxis\":{\"gridcolor\":\"white\",\"linecolor\":\"white\",\"ticks\":\"\"},\"bgcolor\":\"#E5ECF6\",\"caxis\":{\"gridcolor\":\"white\",\"linecolor\":\"white\",\"ticks\":\"\"}},\"title\":{\"x\":0.05},\"xaxis\":{\"automargin\":true,\"gridcolor\":\"white\",\"linecolor\":\"white\",\"ticks\":\"\",\"title\":{\"standoff\":15},\"zerolinecolor\":\"white\",\"zerolinewidth\":2},\"yaxis\":{\"automargin\":true,\"gridcolor\":\"white\",\"linecolor\":\"white\",\"ticks\":\"\",\"title\":{\"standoff\":15},\"zerolinecolor\":\"white\",\"zerolinewidth\":2}}},\"title\":{\"text\":\"Visualizing data with PCA\"},\"xaxis\":{\"gridcolor\":\"rgb(255, 255, 255)\",\"gridwidth\":2,\"ticklen\":5,\"title\":{\"text\":\"first principal component (PC1)\"},\"zerolinewidth\":1},\"yaxis\":{\"gridcolor\":\"rgb(255, 255, 255)\",\"gridwidth\":2,\"ticklen\":5,\"title\":{\"text\":\"second principal component (PC2)\"},\"zerolinewidth\":1}},                        {\"responsive\": true}                    ).then(function(){\n",
              "                            \n",
              "var gd = document.getElementById('0ff03698-6e85-4d1e-b523-7f31795dae5b');\n",
              "var x = new MutationObserver(function (mutations, observer) {{\n",
              "        var display = window.getComputedStyle(gd).display;\n",
              "        if (!display || display === 'none') {{\n",
              "            console.log([gd, 'removed!']);\n",
              "            Plotly.purge(gd);\n",
              "            observer.disconnect();\n",
              "        }}\n",
              "}});\n",
              "\n",
              "// Listen for the removal of the full notebook cells\n",
              "var notebookContainer = gd.closest('#notebook-container');\n",
              "if (notebookContainer) {{\n",
              "    x.observe(notebookContainer, {childList: true});\n",
              "}}\n",
              "\n",
              "// Listen for the clearing of the current output cell\n",
              "var outputEl = gd.closest('.output');\n",
              "if (outputEl) {{\n",
              "    x.observe(outputEl, {childList: true});\n",
              "}}\n",
              "\n",
              "                        })                };                            </script>        </div>\n",
              "</body>\n",
              "</html>"
            ]
          },
          "metadata": {}
        }
      ]
    },
    {
      "cell_type": "code",
      "source": [
        "# # Select features\n",
        "# # features = data[['Total day minutes','Total day calls','Total eve minutes','Total eve calls','Total night minutes','Total night calls','Total intl minutes','Total intl calls','Customer service calls']] #9 columns\n",
        "# features = data[['Total day minutes','Total eve minutes','Total night minutes']] #9 columns"
      ],
      "metadata": {
        "id": "zLrv8eScN-Ho"
      },
      "execution_count": null,
      "outputs": []
    },
    {
      "cell_type": "code",
      "source": [
        "df_telecom = pd.concat([data_telcom, data_telcom_test], ignore_index=True)\n",
        "df_telecom"
      ],
      "metadata": {
        "id": "HRmSiO701o4w",
        "colab": {
          "base_uri": "https://localhost:8080/",
          "height": 502
        },
        "outputId": "6cda4010-a856-4c42-c9e7-259df4b28f9f"
      },
      "execution_count": null,
      "outputs": [
        {
          "output_type": "execute_result",
          "data": {
            "text/plain": [
              "      International plan  Voice mail plan  Churn  Account length  \\\n",
              "0                      0                1      0        0.692163   \n",
              "1                      0                1      0        0.161278   \n",
              "2                      0                0      0        0.919686   \n",
              "3                      1                0      0       -0.420168   \n",
              "4                      1                0      0       -0.647691   \n",
              "...                  ...              ...    ...             ...   \n",
              "3328                   0                1      0        0.338240   \n",
              "3329                   0                1      0        0.135998   \n",
              "3330                   0                0      0       -1.026894   \n",
              "3331                   0                0      0        1.475851   \n",
              "3332                   1                0      0        2.107858   \n",
              "\n",
              "      Number vmail messages  Total day minutes  Total day calls  \\\n",
              "0                  1.247508           1.579670         0.484868   \n",
              "1                  1.320985          -0.329918         1.135375   \n",
              "2                 -0.589414           1.179302         0.685024   \n",
              "3                 -0.589414           2.212509        -1.466653   \n",
              "4                 -0.589414          -0.235822         0.634985   \n",
              "...                     ...                ...              ...   \n",
              "3328               1.320985          -0.781946        -0.615990   \n",
              "3329               1.541416          -1.769028         1.535687   \n",
              "3330              -0.589414           0.266021         0.885180   \n",
              "3331              -0.589414          -0.178627         0.685024   \n",
              "3332              -0.589414           0.633178         0.234673   \n",
              "\n",
              "      Total eve minutes  Total eve calls  Total night minutes  \\\n",
              "0             -0.058619        -0.050781             0.857403   \n",
              "1             -0.095916         0.147654             1.048458   \n",
              "2             -1.554439         0.494917            -0.759668   \n",
              "3             -2.718509        -0.596479            -0.084083   \n",
              "4             -1.022461         1.090224            -0.281046   \n",
              "...                 ...              ...                  ...   \n",
              "3328          -0.877198         1.239051             0.914523   \n",
              "3329           0.068977         1.536704             0.558019   \n",
              "3330          -2.265051         0.494917             0.175909   \n",
              "3331          -0.052730         0.246872            -0.147111   \n",
              "3332          -0.800640        -0.794915            -1.220563   \n",
              "\n",
              "      Total night calls  Total intl minutes  Total intl calls  \\\n",
              "0             -0.469031           -0.085020         -0.597527   \n",
              "1              0.149054            1.242179         -0.597527   \n",
              "2              0.200561            0.704125          0.216894   \n",
              "3             -0.572045           -1.304609          1.031314   \n",
              "4              1.076181           -0.049150         -0.597527   \n",
              "...                 ...                 ...               ...   \n",
              "3328          -0.314510            0.453033          1.031314   \n",
              "3329          -1.396158           -0.766555         -0.597527   \n",
              "3330           1.745772            1.062828          1.438524   \n",
              "3331          -0.932595            0.488904         -0.190317   \n",
              "3332           1.900293           -1.878533          2.252945   \n",
              "\n",
              "      Customer service calls  \n",
              "0                  -0.429172  \n",
              "1                  -0.429172  \n",
              "2                  -1.191955  \n",
              "3                   0.333610  \n",
              "4                   1.096392  \n",
              "...                      ...  \n",
              "3328                0.333610  \n",
              "3329               -0.429172  \n",
              "3330                1.096392  \n",
              "3331               -0.429172  \n",
              "3332                0.333610  \n",
              "\n",
              "[3333 rows x 14 columns]"
            ],
            "text/html": [
              "\n",
              "  <div id=\"df-c751fe73-dd34-4d16-b266-7f47be049e77\">\n",
              "    <div class=\"colab-df-container\">\n",
              "      <div>\n",
              "<style scoped>\n",
              "    .dataframe tbody tr th:only-of-type {\n",
              "        vertical-align: middle;\n",
              "    }\n",
              "\n",
              "    .dataframe tbody tr th {\n",
              "        vertical-align: top;\n",
              "    }\n",
              "\n",
              "    .dataframe thead th {\n",
              "        text-align: right;\n",
              "    }\n",
              "</style>\n",
              "<table border=\"1\" class=\"dataframe\">\n",
              "  <thead>\n",
              "    <tr style=\"text-align: right;\">\n",
              "      <th></th>\n",
              "      <th>International plan</th>\n",
              "      <th>Voice mail plan</th>\n",
              "      <th>Churn</th>\n",
              "      <th>Account length</th>\n",
              "      <th>Number vmail messages</th>\n",
              "      <th>Total day minutes</th>\n",
              "      <th>Total day calls</th>\n",
              "      <th>Total eve minutes</th>\n",
              "      <th>Total eve calls</th>\n",
              "      <th>Total night minutes</th>\n",
              "      <th>Total night calls</th>\n",
              "      <th>Total intl minutes</th>\n",
              "      <th>Total intl calls</th>\n",
              "      <th>Customer service calls</th>\n",
              "    </tr>\n",
              "  </thead>\n",
              "  <tbody>\n",
              "    <tr>\n",
              "      <th>0</th>\n",
              "      <td>0</td>\n",
              "      <td>1</td>\n",
              "      <td>0</td>\n",
              "      <td>0.692163</td>\n",
              "      <td>1.247508</td>\n",
              "      <td>1.579670</td>\n",
              "      <td>0.484868</td>\n",
              "      <td>-0.058619</td>\n",
              "      <td>-0.050781</td>\n",
              "      <td>0.857403</td>\n",
              "      <td>-0.469031</td>\n",
              "      <td>-0.085020</td>\n",
              "      <td>-0.597527</td>\n",
              "      <td>-0.429172</td>\n",
              "    </tr>\n",
              "    <tr>\n",
              "      <th>1</th>\n",
              "      <td>0</td>\n",
              "      <td>1</td>\n",
              "      <td>0</td>\n",
              "      <td>0.161278</td>\n",
              "      <td>1.320985</td>\n",
              "      <td>-0.329918</td>\n",
              "      <td>1.135375</td>\n",
              "      <td>-0.095916</td>\n",
              "      <td>0.147654</td>\n",
              "      <td>1.048458</td>\n",
              "      <td>0.149054</td>\n",
              "      <td>1.242179</td>\n",
              "      <td>-0.597527</td>\n",
              "      <td>-0.429172</td>\n",
              "    </tr>\n",
              "    <tr>\n",
              "      <th>2</th>\n",
              "      <td>0</td>\n",
              "      <td>0</td>\n",
              "      <td>0</td>\n",
              "      <td>0.919686</td>\n",
              "      <td>-0.589414</td>\n",
              "      <td>1.179302</td>\n",
              "      <td>0.685024</td>\n",
              "      <td>-1.554439</td>\n",
              "      <td>0.494917</td>\n",
              "      <td>-0.759668</td>\n",
              "      <td>0.200561</td>\n",
              "      <td>0.704125</td>\n",
              "      <td>0.216894</td>\n",
              "      <td>-1.191955</td>\n",
              "    </tr>\n",
              "    <tr>\n",
              "      <th>3</th>\n",
              "      <td>1</td>\n",
              "      <td>0</td>\n",
              "      <td>0</td>\n",
              "      <td>-0.420168</td>\n",
              "      <td>-0.589414</td>\n",
              "      <td>2.212509</td>\n",
              "      <td>-1.466653</td>\n",
              "      <td>-2.718509</td>\n",
              "      <td>-0.596479</td>\n",
              "      <td>-0.084083</td>\n",
              "      <td>-0.572045</td>\n",
              "      <td>-1.304609</td>\n",
              "      <td>1.031314</td>\n",
              "      <td>0.333610</td>\n",
              "    </tr>\n",
              "    <tr>\n",
              "      <th>4</th>\n",
              "      <td>1</td>\n",
              "      <td>0</td>\n",
              "      <td>0</td>\n",
              "      <td>-0.647691</td>\n",
              "      <td>-0.589414</td>\n",
              "      <td>-0.235822</td>\n",
              "      <td>0.634985</td>\n",
              "      <td>-1.022461</td>\n",
              "      <td>1.090224</td>\n",
              "      <td>-0.281046</td>\n",
              "      <td>1.076181</td>\n",
              "      <td>-0.049150</td>\n",
              "      <td>-0.597527</td>\n",
              "      <td>1.096392</td>\n",
              "    </tr>\n",
              "    <tr>\n",
              "      <th>...</th>\n",
              "      <td>...</td>\n",
              "      <td>...</td>\n",
              "      <td>...</td>\n",
              "      <td>...</td>\n",
              "      <td>...</td>\n",
              "      <td>...</td>\n",
              "      <td>...</td>\n",
              "      <td>...</td>\n",
              "      <td>...</td>\n",
              "      <td>...</td>\n",
              "      <td>...</td>\n",
              "      <td>...</td>\n",
              "      <td>...</td>\n",
              "      <td>...</td>\n",
              "    </tr>\n",
              "    <tr>\n",
              "      <th>3328</th>\n",
              "      <td>0</td>\n",
              "      <td>1</td>\n",
              "      <td>0</td>\n",
              "      <td>0.338240</td>\n",
              "      <td>1.320985</td>\n",
              "      <td>-0.781946</td>\n",
              "      <td>-0.615990</td>\n",
              "      <td>-0.877198</td>\n",
              "      <td>1.239051</td>\n",
              "      <td>0.914523</td>\n",
              "      <td>-0.314510</td>\n",
              "      <td>0.453033</td>\n",
              "      <td>1.031314</td>\n",
              "      <td>0.333610</td>\n",
              "    </tr>\n",
              "    <tr>\n",
              "      <th>3329</th>\n",
              "      <td>0</td>\n",
              "      <td>1</td>\n",
              "      <td>0</td>\n",
              "      <td>0.135998</td>\n",
              "      <td>1.541416</td>\n",
              "      <td>-1.769028</td>\n",
              "      <td>1.535687</td>\n",
              "      <td>0.068977</td>\n",
              "      <td>1.536704</td>\n",
              "      <td>0.558019</td>\n",
              "      <td>-1.396158</td>\n",
              "      <td>-0.766555</td>\n",
              "      <td>-0.597527</td>\n",
              "      <td>-0.429172</td>\n",
              "    </tr>\n",
              "    <tr>\n",
              "      <th>3330</th>\n",
              "      <td>0</td>\n",
              "      <td>0</td>\n",
              "      <td>0</td>\n",
              "      <td>-1.026894</td>\n",
              "      <td>-0.589414</td>\n",
              "      <td>0.266021</td>\n",
              "      <td>0.885180</td>\n",
              "      <td>-2.265051</td>\n",
              "      <td>0.494917</td>\n",
              "      <td>0.175909</td>\n",
              "      <td>1.745772</td>\n",
              "      <td>1.062828</td>\n",
              "      <td>1.438524</td>\n",
              "      <td>1.096392</td>\n",
              "    </tr>\n",
              "    <tr>\n",
              "      <th>3331</th>\n",
              "      <td>0</td>\n",
              "      <td>0</td>\n",
              "      <td>0</td>\n",
              "      <td>1.475851</td>\n",
              "      <td>-0.589414</td>\n",
              "      <td>-0.178627</td>\n",
              "      <td>0.685024</td>\n",
              "      <td>-0.052730</td>\n",
              "      <td>0.246872</td>\n",
              "      <td>-0.147111</td>\n",
              "      <td>-0.932595</td>\n",
              "      <td>0.488904</td>\n",
              "      <td>-0.190317</td>\n",
              "      <td>-0.429172</td>\n",
              "    </tr>\n",
              "    <tr>\n",
              "      <th>3332</th>\n",
              "      <td>1</td>\n",
              "      <td>0</td>\n",
              "      <td>0</td>\n",
              "      <td>2.107858</td>\n",
              "      <td>-0.589414</td>\n",
              "      <td>0.633178</td>\n",
              "      <td>0.234673</td>\n",
              "      <td>-0.800640</td>\n",
              "      <td>-0.794915</td>\n",
              "      <td>-1.220563</td>\n",
              "      <td>1.900293</td>\n",
              "      <td>-1.878533</td>\n",
              "      <td>2.252945</td>\n",
              "      <td>0.333610</td>\n",
              "    </tr>\n",
              "  </tbody>\n",
              "</table>\n",
              "<p>3333 rows × 14 columns</p>\n",
              "</div>\n",
              "      <button class=\"colab-df-convert\" onclick=\"convertToInteractive('df-c751fe73-dd34-4d16-b266-7f47be049e77')\"\n",
              "              title=\"Convert this dataframe to an interactive table.\"\n",
              "              style=\"display:none;\">\n",
              "        \n",
              "  <svg xmlns=\"http://www.w3.org/2000/svg\" height=\"24px\"viewBox=\"0 0 24 24\"\n",
              "       width=\"24px\">\n",
              "    <path d=\"M0 0h24v24H0V0z\" fill=\"none\"/>\n",
              "    <path d=\"M18.56 5.44l.94 2.06.94-2.06 2.06-.94-2.06-.94-.94-2.06-.94 2.06-2.06.94zm-11 1L8.5 8.5l.94-2.06 2.06-.94-2.06-.94L8.5 2.5l-.94 2.06-2.06.94zm10 10l.94 2.06.94-2.06 2.06-.94-2.06-.94-.94-2.06-.94 2.06-2.06.94z\"/><path d=\"M17.41 7.96l-1.37-1.37c-.4-.4-.92-.59-1.43-.59-.52 0-1.04.2-1.43.59L10.3 9.45l-7.72 7.72c-.78.78-.78 2.05 0 2.83L4 21.41c.39.39.9.59 1.41.59.51 0 1.02-.2 1.41-.59l7.78-7.78 2.81-2.81c.8-.78.8-2.07 0-2.86zM5.41 20L4 18.59l7.72-7.72 1.47 1.35L5.41 20z\"/>\n",
              "  </svg>\n",
              "      </button>\n",
              "      \n",
              "  <style>\n",
              "    .colab-df-container {\n",
              "      display:flex;\n",
              "      flex-wrap:wrap;\n",
              "      gap: 12px;\n",
              "    }\n",
              "\n",
              "    .colab-df-convert {\n",
              "      background-color: #E8F0FE;\n",
              "      border: none;\n",
              "      border-radius: 50%;\n",
              "      cursor: pointer;\n",
              "      display: none;\n",
              "      fill: #1967D2;\n",
              "      height: 32px;\n",
              "      padding: 0 0 0 0;\n",
              "      width: 32px;\n",
              "    }\n",
              "\n",
              "    .colab-df-convert:hover {\n",
              "      background-color: #E2EBFA;\n",
              "      box-shadow: 0px 1px 2px rgba(60, 64, 67, 0.3), 0px 1px 3px 1px rgba(60, 64, 67, 0.15);\n",
              "      fill: #174EA6;\n",
              "    }\n",
              "\n",
              "    [theme=dark] .colab-df-convert {\n",
              "      background-color: #3B4455;\n",
              "      fill: #D2E3FC;\n",
              "    }\n",
              "\n",
              "    [theme=dark] .colab-df-convert:hover {\n",
              "      background-color: #434B5C;\n",
              "      box-shadow: 0px 1px 3px 1px rgba(0, 0, 0, 0.15);\n",
              "      filter: drop-shadow(0px 1px 2px rgba(0, 0, 0, 0.3));\n",
              "      fill: #FFFFFF;\n",
              "    }\n",
              "  </style>\n",
              "\n",
              "      <script>\n",
              "        const buttonEl =\n",
              "          document.querySelector('#df-c751fe73-dd34-4d16-b266-7f47be049e77 button.colab-df-convert');\n",
              "        buttonEl.style.display =\n",
              "          google.colab.kernel.accessAllowed ? 'block' : 'none';\n",
              "\n",
              "        async function convertToInteractive(key) {\n",
              "          const element = document.querySelector('#df-c751fe73-dd34-4d16-b266-7f47be049e77');\n",
              "          const dataTable =\n",
              "            await google.colab.kernel.invokeFunction('convertToInteractive',\n",
              "                                                     [key], {});\n",
              "          if (!dataTable) return;\n",
              "\n",
              "          const docLinkHtml = 'Like what you see? Visit the ' +\n",
              "            '<a target=\"_blank\" href=https://colab.research.google.com/notebooks/data_table.ipynb>data table notebook</a>'\n",
              "            + ' to learn more about interactive tables.';\n",
              "          element.innerHTML = '';\n",
              "          dataTable['output_type'] = 'display_data';\n",
              "          await google.colab.output.renderOutput(dataTable, element);\n",
              "          const docLink = document.createElement('div');\n",
              "          docLink.innerHTML = docLinkHtml;\n",
              "          element.appendChild(docLink);\n",
              "        }\n",
              "      </script>\n",
              "    </div>\n",
              "  </div>\n",
              "  "
            ]
          },
          "metadata": {},
          "execution_count": 61
        }
      ]
    },
    {
      "cell_type": "code",
      "source": [
        "# create an empty list to store WCSS values for each k\n",
        "wcss = []\n",
        "\n",
        "# fit k-means models for a range of k values\n",
        "for i in range(1, 11):\n",
        "    kmeans = KMeans(n_clusters=i, init='k-means++', max_iter=300, n_init=10, random_state=0)\n",
        "    kmeans.fit(df_telecom)\n",
        "    wcss.append(kmeans.inertia_)\n",
        "\n",
        "# plot the WCSS values against k\n",
        "plt.plot(range(1, 11), wcss)\n",
        "plt.title('Elbow Method')\n",
        "plt.xlabel('Number of clusters')\n",
        "plt.ylabel('WCSS')\n",
        "plt.show()\n"
      ],
      "metadata": {
        "id": "ddbT40wJ1kNW",
        "colab": {
          "base_uri": "https://localhost:8080/",
          "height": 295
        },
        "outputId": "37bcf298-6be1-4d9f-daab-a76fb6c74029"
      },
      "execution_count": null,
      "outputs": [
        {
          "output_type": "display_data",
          "data": {
            "text/plain": [
              "<Figure size 432x288 with 1 Axes>"
            ],
            "image/png": "[encoded data removed]"
          },
          "metadata": {
            "needs_background": "light"
          }
        }
      ]
    },
    {
      "cell_type": "code",
      "source": [
        "# Initialize KMeans object with desired number of clusters\n",
        "kmeans = KMeans(n_clusters=2)\n",
        "\n",
        "# Fit the model to your data\n",
        "kmeans.fit(df_telecom)\n",
        "# kmeans1.fit(features)\n",
        "# Predict the cluster labels for each data point\n",
        "labels = kmeans.predict(df_telecom)\n",
        "# labels1 = kmeans.predict(features)\n",
        "\n",
        "# Get the coordinates of the cluster centroids\n",
        "centroids = kmeans.cluster_centers_\n",
        "# centroids1 = kmeans.cluster_centers_"
      ],
      "metadata": {
        "id": "1USQIKV3FKHu"
      },
      "execution_count": null,
      "outputs": []
    },
    {
      "cell_type": "code",
      "source": [
        "# Select the features for clustering\n",
        "X = df_telecom[[i for i in df_telecom.columns if i not in target_col]]\n",
        "\n",
        "# Perform k-means clustering with 2 clusters\n",
        "kmeans = KMeans(n_clusters=2, random_state=0)\n",
        "clusters = kmeans.fit_predict(X)\n",
        "\n",
        "# Add the cluster labels to the data\n",
        "df_telecom['Cluster'] = clusters\n"
      ],
      "metadata": {
        "id": "lUYvoeGz2IZ4"
      },
      "execution_count": null,
      "outputs": []
    },
    {
      "cell_type": "code",
      "source": [
        "kmeans.cluster_centers_"
      ],
      "metadata": {
        "id": "e88QXZsx3qBP",
        "colab": {
          "base_uri": "https://localhost:8080/"
        },
        "outputId": "1053ae5e-ba03-4638-e4d5-2d1878970516"
      },
      "execution_count": null,
      "outputs": [
        {
          "output_type": "execute_result",
          "data": {
            "text/plain": [
              "array([[ 9.54545455e-02,  3.71900826e-03,  1.14243764e-02,\n",
              "        -5.86923823e-01,  5.83526002e-03,  1.32191830e-02,\n",
              "         1.00255991e-03,  7.84750047e-03, -9.50992588e-03,\n",
              "        -1.02989999e-02,  5.49519159e-04, -6.77745322e-04,\n",
              "         1.11610837e-02],\n",
              "       [ 1.00766703e-01,  1.00000000e+00,  1.07315165e-02,\n",
              "         1.57642404e+00,  4.29992067e-03, -1.21241767e-02,\n",
              "         3.99233815e-02, -4.37813799e-03,  3.85849646e-03,\n",
              "         2.75917392e-02, -1.10041232e-03,  1.97557483e-02,\n",
              "        -2.89831614e-02]])"
            ]
          },
          "metadata": {},
          "execution_count": 65
        }
      ]
    },
    {
      "cell_type": "code",
      "source": [
        "kmeans.labels_"
      ],
      "metadata": {
        "id": "v3K6dNkX3vOu",
        "colab": {
          "base_uri": "https://localhost:8080/"
        },
        "outputId": "edb51403-37e2-4de0-f09a-6de35b2404b5"
      },
      "execution_count": null,
      "outputs": [
        {
          "output_type": "execute_result",
          "data": {
            "text/plain": [
              "array([1, 1, 0, ..., 0, 0, 0], dtype=int32)"
            ]
          },
          "metadata": {},
          "execution_count": 66
        }
      ]
    },
    {
      "cell_type": "code",
      "source": [
        "pd.crosstab(df_telecom['Churn'], kmeans.labels_) #ทำนาย ว่า 0 ตรง 833 แต่ผิดพลาดไป 2017, ทำนายว่า 1 ตรง 403 ผิดไป 80"
      ],
      "metadata": {
        "id": "NuBBrhwr303d",
        "colab": {
          "base_uri": "https://localhost:8080/",
          "height": 143
        },
        "outputId": "9112acd3-7150-4b23-9074-b1cc7efc4f90"
      },
      "execution_count": null,
      "outputs": [
        {
          "output_type": "execute_result",
          "data": {
            "text/plain": [
              "col_0     0    1\n",
              "Churn           \n",
              "0      2017  833\n",
              "1       403   80"
            ],
            "text/html": [
              "\n",
              "  <div id=\"df-4f3926aa-eded-4e20-9545-fd7fd941d180\">\n",
              "    <div class=\"colab-df-container\">\n",
              "      <div>\n",
              "<style scoped>\n",
              "    .dataframe tbody tr th:only-of-type {\n",
              "        vertical-align: middle;\n",
              "    }\n",
              "\n",
              "    .dataframe tbody tr th {\n",
              "        vertical-align: top;\n",
              "    }\n",
              "\n",
              "    .dataframe thead th {\n",
              "        text-align: right;\n",
              "    }\n",
              "</style>\n",
              "<table border=\"1\" class=\"dataframe\">\n",
              "  <thead>\n",
              "    <tr style=\"text-align: right;\">\n",
              "      <th>col_0</th>\n",
              "      <th>0</th>\n",
              "      <th>1</th>\n",
              "    </tr>\n",
              "    <tr>\n",
              "      <th>Churn</th>\n",
              "      <th></th>\n",
              "      <th></th>\n",
              "    </tr>\n",
              "  </thead>\n",
              "  <tbody>\n",
              "    <tr>\n",
              "      <th>0</th>\n",
              "      <td>2017</td>\n",
              "      <td>833</td>\n",
              "    </tr>\n",
              "    <tr>\n",
              "      <th>1</th>\n",
              "      <td>403</td>\n",
              "      <td>80</td>\n",
              "    </tr>\n",
              "  </tbody>\n",
              "</table>\n",
              "</div>\n",
              "      <button class=\"colab-df-convert\" onclick=\"convertToInteractive('df-4f3926aa-eded-4e20-9545-fd7fd941d180')\"\n",
              "              title=\"Convert this dataframe to an interactive table.\"\n",
              "              style=\"display:none;\">\n",
              "        \n",
              "  <svg xmlns=\"http://www.w3.org/2000/svg\" height=\"24px\"viewBox=\"0 0 24 24\"\n",
              "       width=\"24px\">\n",
              "    <path d=\"M0 0h24v24H0V0z\" fill=\"none\"/>\n",
              "    <path d=\"M18.56 5.44l.94 2.06.94-2.06 2.06-.94-2.06-.94-.94-2.06-.94 2.06-2.06.94zm-11 1L8.5 8.5l.94-2.06 2.06-.94-2.06-.94L8.5 2.5l-.94 2.06-2.06.94zm10 10l.94 2.06.94-2.06 2.06-.94-2.06-.94-.94-2.06-.94 2.06-2.06.94z\"/><path d=\"M17.41 7.96l-1.37-1.37c-.4-.4-.92-.59-1.43-.59-.52 0-1.04.2-1.43.59L10.3 9.45l-7.72 7.72c-.78.78-.78 2.05 0 2.83L4 21.41c.39.39.9.59 1.41.59.51 0 1.02-.2 1.41-.59l7.78-7.78 2.81-2.81c.8-.78.8-2.07 0-2.86zM5.41 20L4 18.59l7.72-7.72 1.47 1.35L5.41 20z\"/>\n",
              "  </svg>\n",
              "      </button>\n",
              "      \n",
              "  <style>\n",
              "    .colab-df-container {\n",
              "      display:flex;\n",
              "      flex-wrap:wrap;\n",
              "      gap: 12px;\n",
              "    }\n",
              "\n",
              "    .colab-df-convert {\n",
              "      background-color: #E8F0FE;\n",
              "      border: none;\n",
              "      border-radius: 50%;\n",
              "      cursor: pointer;\n",
              "      display: none;\n",
              "      fill: #1967D2;\n",
              "      height: 32px;\n",
              "      padding: 0 0 0 0;\n",
              "      width: 32px;\n",
              "    }\n",
              "\n",
              "    .colab-df-convert:hover {\n",
              "      background-color: #E2EBFA;\n",
              "      box-shadow: 0px 1px 2px rgba(60, 64, 67, 0.3), 0px 1px 3px 1px rgba(60, 64, 67, 0.15);\n",
              "      fill: #174EA6;\n",
              "    }\n",
              "\n",
              "    [theme=dark] .colab-df-convert {\n",
              "      background-color: #3B4455;\n",
              "      fill: #D2E3FC;\n",
              "    }\n",
              "\n",
              "    [theme=dark] .colab-df-convert:hover {\n",
              "      background-color: #434B5C;\n",
              "      box-shadow: 0px 1px 3px 1px rgba(0, 0, 0, 0.15);\n",
              "      filter: drop-shadow(0px 1px 2px rgba(0, 0, 0, 0.3));\n",
              "      fill: #FFFFFF;\n",
              "    }\n",
              "  </style>\n",
              "\n",
              "      <script>\n",
              "        const buttonEl =\n",
              "          document.querySelector('#df-4f3926aa-eded-4e20-9545-fd7fd941d180 button.colab-df-convert');\n",
              "        buttonEl.style.display =\n",
              "          google.colab.kernel.accessAllowed ? 'block' : 'none';\n",
              "\n",
              "        async function convertToInteractive(key) {\n",
              "          const element = document.querySelector('#df-4f3926aa-eded-4e20-9545-fd7fd941d180');\n",
              "          const dataTable =\n",
              "            await google.colab.kernel.invokeFunction('convertToInteractive',\n",
              "                                                     [key], {});\n",
              "          if (!dataTable) return;\n",
              "\n",
              "          const docLinkHtml = 'Like what you see? Visit the ' +\n",
              "            '<a target=\"_blank\" href=https://colab.research.google.com/notebooks/data_table.ipynb>data table notebook</a>'\n",
              "            + ' to learn more about interactive tables.';\n",
              "          element.innerHTML = '';\n",
              "          dataTable['output_type'] = 'display_data';\n",
              "          await google.colab.output.renderOutput(dataTable, element);\n",
              "          const docLink = document.createElement('div');\n",
              "          docLink.innerHTML = docLinkHtml;\n",
              "          element.appendChild(docLink);\n",
              "        }\n",
              "      </script>\n",
              "    </div>\n",
              "  </div>\n",
              "  "
            ]
          },
          "metadata": {},
          "execution_count": 67
        }
      ]
    },
    {
      "cell_type": "code",
      "source": [
        "df_telecom.columns"
      ],
      "metadata": {
        "id": "e4ClomPU3EsB",
        "colab": {
          "base_uri": "https://localhost:8080/"
        },
        "outputId": "8adb7898-de14-4309-850d-474802006963"
      },
      "execution_count": null,
      "outputs": [
        {
          "output_type": "execute_result",
          "data": {
            "text/plain": [
              "Index(['International plan', 'Voice mail plan', 'Churn', 'Account length',\n",
              "       'Number vmail messages', 'Total day minutes', 'Total day calls',\n",
              "       'Total eve minutes', 'Total eve calls', 'Total night minutes',\n",
              "       'Total night calls', 'Total intl minutes', 'Total intl calls',\n",
              "       'Customer service calls', 'Cluster'],\n",
              "      dtype='object')"
            ]
          },
          "metadata": {},
          "execution_count": 68
        }
      ]
    },
    {
      "cell_type": "code",
      "source": [
        "import seaborn as sns\n",
        "\n",
        "# Select the features to plot\n",
        "x_feature = df_telecom['Total day minutes']\n",
        "y_feature = df_telecom['Total night minutes']\n",
        "\n",
        "# Plot the clusters using the selected features\n",
        "sns.scatterplot(x=x_feature, y=y_feature, hue='Cluster', data=df_telecom)\n"
      ],
      "metadata": {
        "id": "sF3gk2ko3K6L",
        "colab": {
          "base_uri": "https://localhost:8080/",
          "height": 296
        },
        "outputId": "5761605d-a8a8-4f25-db8f-f3076e40cb8d"
      },
      "execution_count": null,
      "outputs": [
        {
          "output_type": "execute_result",
          "data": {
            "text/plain": [
              "<Axes: xlabel='Total day minutes', ylabel='Total night minutes'>"
            ]
          },
          "metadata": {},
          "execution_count": 69
        },
        {
          "output_type": "display_data",
          "data": {
            "text/plain": [
              "<Figure size 432x288 with 1 Axes>"
            ],
            "image/png": "[encoded data removed]"
          },
          "metadata": {
            "needs_background": "light"
          }
        }
      ]
    },
    {
      "cell_type": "code",
      "source": [
        "import plotly.express as px\n",
        "\n",
        "fig = px.scatter_3d(df_telecom, x='Total day minutes', y='Total eve minutes', z='Total night minutes',color='Cluster', symbol='Churn', opacity=0.7)\n",
        "\n",
        "fig.update_layout(scene=dict(xaxis_title='Total day minutes',\n",
        "                             yaxis_title='Total eve minutes',\n",
        "                             zaxis_title='Total night minutes'))\n",
        "\n",
        "fig.show()\n"
      ],
      "metadata": {
        "id": "CvMbe2dzevoq",
        "colab": {
          "base_uri": "https://localhost:8080/",
          "height": 542
        },
        "outputId": "844c68d4-660f-470a-c846-a0fbcfe78883"
      },
      "execution_count": null,
      "outputs": [
        {
          "output_type": "display_data",
          "data": {
            "text/html": [
              "<html>\n",
              "<head><meta charset=\"utf-8\" /></head>\n",
              "<body>\n",
              "    <div>            <script src=\"https://cdnjs.cloudflare.com/ajax/libs/mathjax/2.7.5/MathJax.js?config=TeX-AMS-MML_SVG\"></script><script type=\"text/javascript\">if (window.MathJax && window.MathJax.Hub && window.MathJax.Hub.Config) {window.MathJax.Hub.Config({SVG: {font: \"STIX-Web\"}});}</script>                <script type=\"text/javascript\">window.PlotlyConfig = {MathJaxConfig: 'local'};</script>\n",
              "        <script src=\"https://cdn.plot.ly/plotly-2.18.2.min.js\"></script>                <div id=\"bd9505eb-a783-4934-bcc0-99426e08d949\" class=\"plotly-graph-div\" style=\"height:525px; width:100%;\"></div>            <script type=\"text/javascript\">                                    window.PLOTLYENV=window.PLOTLYENV || {};                                    if (document.getElementById(\"bd9505eb-a783-4934-bcc0-99426e08d949\")) {                    Plotly.newPlot(                        \"bd9505eb-a783-4934-bcc0-99426e08d949\",                        [{\"hovertemplate\":\"Churn=0<br>Total day minutes=%{x}<br>Total eve minutes=%{y}<br>Total night minutes=%{z}<br>Cluster=%{marker.color}<extra></extra>\",\"legendgroup\":\"0\",\"marker\":{\"color\":[1,1,0,0,0,0,1,0,1,0,0,0,0,1,0,1,0,0,0,0,0,1,0,0,0,0,0,1,1,0,1,0,0,0,0,0,1,0,1,0,0,0,0,0,0,0,1,1,0,1,0,0,0,0,1,0,0,0,0,0,0,1,1,0,1,0,0,0,0,0,0,1,0,0,0,1,0,0,0,0,0,0,1,0,1,0,0,0,0,0,1,0,0,0,0,0,1,0,1,1,0,1,1,0,0,0,1,0,0,0,0,1,1,0,0,1,0,0,1,1,0,1,0,0,0,0,0,0,1,1,0,0,0,0,0,0,0,0,0,0,1,1,0,0,1,0,0,0,0,1,0,0,0,0,1,1,0,0,0,0,0,1,0,0,0,1,1,1,0,0,0,1,0,0,0,0,0,0,1,0,0,0,0,0,0,0,1,0,0,1,1,0,0,0,0,1,0,1,0,1,0,1,1,0,0,0,0,0,0,1,0,0,0,0,0,0,0,0,0,0,1,0,0,0,0,1,1,1,0,1,0,0,0,1,1,0,0,0,0,0,1,0,0,0,0,1,1,1,0,1,0,1,0,1,0,0,0,1,1,1,1,0,0,0,0,0,0,0,0,0,0,0,0,0,0,1,0,0,0,0,0,0,0,0,1,0,1,0,0,0,0,0,0,0,0,0,0,1,0,1,0,0,1,0,1,0,0,0,0,1,1,0,0,1,0,1,0,0,0,0,0,1,0,1,0,0,0,1,0,1,0,0,0,0,0,1,0,0,0,0,0,0,1,0,0,0,0,0,1,0,0,1,1,0,0,1,1,1,0,0,1,1,0,0,0,0,1,0,0,0,0,0,1,0,1,1,0,1,1,0,1,1,1,1,0,0,1,0,1,0,1,1,0,1,0,0,0,0,1,0,1,1,0,0,1,1,1,0,0,0,0,0,0,0,1,0,1,0,0,1,0,0,0,0,0,0,0,1,1,0,0,0,0,0,0,0,0,0,1,1,0,1,1,1,0,0,0,0,1,1,0,1,0,0,1,1,0,0,0,0,0,0,1,0,0,1,0,0,0,0,0,1,1,0,0,0,0,0,0,0,0,0,0,1,0,0,0,1,0,0,0,0,1,1,0,0,0,1,0,0,1,0,0,0,0,1,1,0,0,0,1,0,1,0,0,1,0,0,0,1,1,1,0,0,0,0,1,0,0,0,1,0,1,0,0,0,0,0,1,1,1,0,0,0,0,0,0,0,0,0,0,1,1,1,1,0,0,0,0,0,0,1,1,1,0,0,0,0,0,0,1,0,0,1,0,0,0,0,0,0,0,0,1,1,1,1,0,0,0,0,1,0,0,0,0,0,0,0,1,0,0,0,0,0,1,0,0,0,1,0,0,1,0,0,0,0,0,0,0,0,1,1,0,0,0,0,0,0,1,0,1,0,0,1,0,1,1,0,1,0,0,0,0,0,0,0,0,0,0,1,1,0,0,0,0,0,1,0,0,0,0,0,0,0,0,0,0,0,1,0,0,0,1,1,0,0,0,0,0,0,1,0,0,1,1,0,0,1,0,0,1,1,0,1,0,0,0,0,0,1,1,0,0,1,0,0,0,0,0,0,0,1,0,0,0,1,0,0,0,0,1,0,0,0,1,1,0,0,0,0,0,1,0,0,0,0,1,0,0,0,1,0,1,1,1,0,0,0,0,1,0,0,0,0,1,0,0,0,0,1,0,0,0,0,0,0,1,0,0,1,0,0,0,0,0,0,0,1,0,0,1,0,1,1,0,1,1,0,1,1,0,0,1,0,0,1,1,0,0,1,0,0,0,1,0,0,1,1,1,0,0,0,0,0,1,1,0,0,1,1,0,1,1,0,0,1,1,1,0,0,0,0,0,0,1,1,1,1,1,0,0,0,0,0,0,0,1,0,0,0,0,0,1,1,0,0,0,0,1,0,0,1,0,0,0,0,0,0,0,0,0,0,0,1,0,0,0,1,0,0,1,1,0,0,0,0,1,1,0,0,0,0,1,0,0,0,1,1,0,0,0,0,0,0,0,0,0,0,0,0,1,0,0,1,0,0,0,0,0,1,0,1,0,0,0,1,0,0,0,1,0,1,0,0,1,0,0,0,0,1,0,0,0,0,0,1,1,1,1,0,1,1,0,0,1,0,0,0,0,1,0,1,0,1,0,0,0,0,1,0,1,0,0,1,0,0,0,1,0,1,1,1,0,0,0,1,1,1,1,1,0,0,0,1,0,0,0,0,0,0,0,1,0,1,0,1,0,0,0,0,0,0,0,0,0,0,1,1,1,0,0,0,0,0,1,0,1,0,0,0,0,1,0,0,0,0,0,0,1,0,0,0,0,1,0,0,0,0,1,0,0,1,0,0,0,0,0,1,0,0,0,0,1,0,0,0,0,0,1,0,0,1,0,0,0,0,0,0,1,1,1,0,0,1,0,1,0,1,1,0,0,0,1,1,1,0,0,0,1,1,1,0,1,0,0,0,0,0,1,1,0,1,1,1,0,1,0,0,1,0,0,0,0,0,1,1,0,0,0,1,0,0,0,0,0,0,0,0,1,0,0,0,0,0,0,0,1,1,1,0,1,0,0,1,0,1,1,1,0,0,1,1,0,0,0,0,0,0,0,1,0,0,0,0,1,1,0,0,0,0,0,1,1,0,1,0,0,0,1,0,0,0,0,0,0,1,1,0,1,0,0,0,1,1,0,0,0,1,0,0,0,1,1,0,0,1,0,1,0,1,1,0,0,0,1,0,1,1,0,1,1,1,1,0,0,0,1,0,1,0,0,0,1,0,0,0,0,0,0,0,0,0,0,0,0,0,1,1,0,0,0,1,0,1,0,0,1,1,1,0,1,0,1,1,0,1,0,0,0,0,0,0,0,0,0,1,0,0,0,0,0,0,0,0,0,1,1,0,0,0,0,0,1,0,0,0,1,1,1,0,0,0,1,0,0,0,0,0,0,0,0,0,0,0,0,0,0,0,1,1,0,0,0,0,1,0,0,0,0,0,0,0,1,0,0,1,0,0,0,0,0,0,1,0,1,0,1,0,0,0,0,1,0,0,0,0,0,0,0,0,1,0,0,0,0,0,0,0,0,0,1,0,1,0,0,0,0,0,0,0,1,1,0,1,0,0,0,0,1,0,0,0,0,1,1,1,1,0,1,0,0,0,1,1,0,0,0,0,0,1,0,1,1,0,0,0,0,1,0,0,0,0,0,0,0,1,0,0,0,0,0,1,0,1,0,0,0,0,0,1,0,0,0,1,0,0,1,0,0,0,0,0,1,1,0,0,0,0,0,0,0,0,0,1,1,0,1,0,1,0,0,0,0,0,0,1,0,0,0,0,1,0,1,0,0,0,0,0,1,0,0,0,0,0,0,0,0,0,0,0,0,0,0,1,0,1,1,0,1,0,0,1,0,1,1,0,0,0,0,0,0,0,0,0,0,0,1,1,0,0,1,1,0,0,1,0,0,0,0,0,0,1,0,1,0,1,0,0,0,1,0,0,0,0,0,0,0,0,0,1,0,0,1,1,1,1,1,0,1,1,1,1,0,0,0,1,0,0,0,0,0,1,1,0,0,0,1,0,0,0,1,0,0,0,0,0,1,0,0,0,1,0,0,0,1,0,0,1,0,0,0,0,1,0,1,0,0,0,0,0,1,0,0,0,1,0,0,0,0,0,0,0,0,0,0,0,0,1,0,0,0,0,1,1,1,0,0,0,0,0,0,0,0,0,0,1,0,1,0,0,1,0,1,0,0,0,0,1,0,0,0,0,0,0,0,0,0,0,0,0,1,1,0,0,1,1,1,0,0,1,0,0,0,1,0,0,0,0,0,1,0,1,0,0,0,1,0,1,0,0,1,1,0,0,1,0,0,0,1,1,0,0,0,0,0,0,1,0,0,1,0,0,0,0,0,0,1,0,0,1,0,0,1,0,0,0,0,0,0,0,0,0,0,0,0,1,0,1,0,0,0,1,0,0,0,0,0,0,0,0,0,1,0,0,0,0,0,0,1,0,0,1,0,0,0,0,0,0,0,0,1,1,0,0,0,1,1,0,0,1,1,0,0,0,0,0,1,1,1,0,0,0,0,1,1,0,0,0,1,1,1,1,0,1,0,0,0,0,1,0,0,0,0,0,0,0,0,1,1,0,0,0,0,0,0,0,1,0,0,0,0,1,0,0,0,0,0,1,0,0,0,1,0,0,0,0,0,1,0,0,1,1,1,1,0,0,0,1,0,0,0,0,0,1,0,1,1,0,0,0,0,1,0,0,0,0,0,1,0,0,0,0,1,1,0,0,1,0,1,1,1,0,0,0,0,0,1,0,0,1,1,0,0,1,0,0,0,0,0,0,0,0,0,0,0,1,0,0,0,0,1,0,0,1,0,0,0,1,0,0,0,0,0,1,0,1,1,0,0,0,1,0,0,0,0,0,1,0,0,0,1,1,1,0,0,1,0,0,0,1,0,0,1,0,1,0,0,1,0,0,1,1,0,0,0,0,1,1,0,0,1,0,0,0,0,0,0,0,0,0,0,0,1,0,0,0,0,0,0,0,1,0,1,1,0,0,0,0,1,0,0,0,1,0,0,0,0,0,0,0,0,1,0,1,0,1,1,0,0,0,0,0,0,0,1,0,0,0,0,1,0,0,1,1,0,1,1,1,0,1,0,0,0,1,0,0,1,0,0,0,0,0,0,0,0,0,0,0,0,0,0,1,0,0,1,1,1,0,1,1,1,1,0,1,0,1,0,0,0,0,0,0,0,0,1,1,0,0,0,1,1,0,0,0,0,1,0,1,1,0,1,0,1,1,0,0,1,0,1,0,0,1,1,0,1,1,0,0,0,0,0,0,1,0,0,0,0,0,0,1,0,0,0,1,0,1,0,0,0,0,0,1,1,0,0,0,0,0,0,0,0,1,1,0,0,1,0,1,0,0,0,0,1,0,0,1,1,1,1,1,1,1,0,1,1,0,1,0,1,0,0,0,0,0,0,1,0,0,0,0,0,0,0,1,0,0,0,0,0,0,1,0,1,0,1,1,0,0,0,0,0,0,1,0,0,1,0,1,0,0,0,0,0,0,0,0,1,1,0,0,0,0,0,0,1,0,0,1,0,0,0,1,0,0,0,1,0,0,1,0,0,0,1,1,0,0,0,0,0,0,0,0,0,1,0,0,0,0,0,0,0,0,1,0,0,1,1,1,0,0,1,0,0,0,1,1,0,1,0,0,0,0,0,1,0,0,0,1,0,0,0,1,0,0,0,0,1,0,0,1,0,0,1,1,1,0,0,0,1,1,0,0,1,0,0,1,0,1,0,0,1,1,0,0,0,1,0,0,1,0,1,0,0,0,1,1,0,1,0,1,1,0,0,0,0,0,0,0,1,0,1,0,0,0,1,0,0,1,1,0,0,1,1,0,0,1,1,1,0,0,1,0,0,0,1,1,1,0,1,0,1,0,0,1,0,0,0,0,0,0,1,0,1,0,1,1,0,0,0,1,0,1,0,0,0,0,0,0,0,0,0,0,0,0,0,1,0,0,1,0,0,0,0,0,1,0,0,0,0,0,0,1,0,1,0,0,0,0,0,0,0,0,0,0,1,1,1,0,0,1,0,1,0,0,0,0,0,1,0,0,0,0,1,1,0,0,0,0,0,0,0,1,0,1,0,0,0,0,0,0,0,0,0,0,0,1,0,0,1,0,0,0,1,1,0,1,0,1,0,0,1,0,0,0,0,0,0,0,0,1,0,1,0,1,0,0,0,1,1,0,0,0,1,0,0,0,0,0,1,1,1,1,0,1,1,0,0,0,0,0,0,1,0,0,1,0,0,0,1,0,0,0,0,0,0,1,1,0,1,0,1,1,1,1,0,1,0,1,0,1,0,0,0,1,0,0,0,1,0,0,1,0,1,1,1,0,0,0,0,0,0,0,1,1,0,0,0,0,0,0,1,0,0,1,1,0,0,0,1,0,0,0,1,0,0,0,0,1,0,1,0,0,0,1,0,1,1,0,0,0,0,0,1,0,0,0,1,0,1,0,1,1,0,0,0,0,1,0,0,0,0,0,1,0,0,0,0,0,0,0,0,1,1,1,0,1,0,0,0,0,0,0,0,0,0,0,1,1,0,0,0,0,0,1,0,0,0,0,1,0,1,1,1,0,0,0,1,0,0,0,0,0,0,0,0,1,0,1,1,1,0,1,0,0,0,0,0,0,1,0,0,0,0,1,0,1,0,0,0,0,0,1,1,0,0,1,1,0,0,0,0,0,0,0,0,0,0,1,0,0,0,0,0,1,0,0,1,0,0,0,0,0,1,0,0,0,1,0,1,0,1,0,1,0,0,0,0,0,0,0,1,0,0,1,0,1,0,1,1,0,0,1,0,0,0,1,1,0,0,0],\"coloraxis\":\"coloraxis\",\"opacity\":0.7,\"symbol\":\"circle\"},\"mode\":\"markers\",\"name\":\"0\",\"scene\":\"scene\",\"showlegend\":true,\"x\":[1.5796695875462738,-0.32991808608894013,1.1793019303686492,2.212508787601228,-0.2358224615909732,0.8102994813570136,0.7143588446139881,-0.4147886493616162,1.4597437916174922,0.15163010987124403,-0.9350821024680219,-0.422168698341849,-1.0845280943177344,0.3121461751913058,0.20698047722298935,0.18853035477240757,0.8287496038075954,-0.44984388201772163,0.0649145343535099,-1.8151529433607727,-1.0181076534956401,0.6184182078709631,-0.8336064289898222,0.1940653915075823,-1.7468874902936202,0.8601148119735842,0.5999680854203813,-0.04947622484009687,0.7475690650250355,-0.8981818575668584,0.4505220935706691,-0.7210606820412735,-0.9812074085944766,-1.0088825922703493,-1.7284373678430385,-0.4701390167133615,-1.080838069827618,0.138715024155837,-0.8539015636854626,0.22912062416368778,0.7586391384953844,-0.3557482575197547,-0.0734613840258534,-0.9701373351241275,0.9191552038154461,0.23281064865380394,1.64424501612331,0.02247925271717162,-0.8908018085866262,-0.578994739171794,1.3287479222183614,-1.0015025432901166,0.5925880364401485,1.1497817344477184,0.8379746650328863,1.275242567111674,0.44129703234537815,-0.4129436371165581,-0.17124703301393698,0.3988617507090399,0.6626985017523594,-0.256117596286613,1.2918476773171979,0.6424033670567196,-0.46829400446830344,-0.6564852534642373,-1.0181076534956401,1.3545780936491758,-0.007040943203759113,1.8250562161390105,0.34535639560235265,-0.33729813506917294,-0.5125742983496998,-0.16571199627876226,1.0815162813805654,-1.1361884371793634,0.9283802650407371,-0.267187669756962,0.10181477925467344,-0.3409881595592891,-0.9738273596142438,-0.3114679636383584,-1.213678951471807,0.5667578650093339,0.6331783058314288,0.20698047722298935,-0.15833194729852942,-0.4664489922232454,0.40439678744421464,-1.619581645384606,0.640558354811661,-0.6269650575433066,0.950520411981435,0.3841016527485748,0.3232162486616547,-0.9147869677723821,-0.06792634729067865,0.4357619956102034,0.06860455884362605,0.4708172282663089,-0.5716146901915612,0.3841016527485748,0.2420357098790948,1.2364973099654524,0.9671255221869587,1.6977503712299968,1.443138681411968,0.2641758568197933,0.8582697997285261,1.4929540120285387,-0.014420992183991926,-0.4037185758912672,-0.6896954738752847,-0.7967061840886587,0.6940637099183482,0.14794008538112788,-1.486740763740417,0.4948023874520654,1.1737668936334744,0.19037536701746616,0.4154668609145636,-0.17309204525899508,1.0630661589299837,0.7328089670645699,1.349043056914001,-0.5974448616223759,-0.11036162892701694,0.9708155466770748,0.3250612609067128,-1.1786237188157016,0.1221099139503133,1.4837289508032478,0.6424033670567196,-0.3834234411956274,-0.3483682085395219,0.9763505834122496,-0.842831490215113,-0.0476312125950388,0.5612228282741597,-0.7745660371479608,2.0298525753404686,0.3435113833572946,-0.5494745432508633,-1.7800977107046674,-0.6232750330531904,0.05199944863810287,0.7106688201238719,-0.7173706575511574,-0.494124175899118,-1.3428298086258792,0.2752459302901422,0.6350233180764868,0.6959087221634063,0.4431420445904362,-0.44799886977266357,-0.21921735138544948,-0.0033509187136424434,-0.518109335084874,0.009564167001764587,0.8029194323767808,0.07598460782385887,-0.24873754730638023,-0.5568545922310956,-2.1048198658349064,0.5058724609224143,0.12395492619537136,1.858266436550058,0.3601164935628183,0.4357619956102034,-0.19707720444475105,-0.11774167790724975,0.4265369343849125,-1.9369237515346125,0.234655660898862,0.7512590895151516,1.3638031548744667,0.8398196772779444,-1.276409367803785,-2.204450527068048,0.6516284282820105,0.5243225833729962,0.5077174731674724,-0.6601752779543539,-0.7542709024523209,-1.7487325025386782,-0.44799886977266357,-0.2690326820020201,-0.829916404499706,-0.6675553269345863,0.49295737520700683,0.85457977523841,-0.7598059391874951,-0.3594382820098709,0.5003374241872396,-0.8262263800095899,0.6442483793017777,0.2457257343692115,-0.5236443718200487,0.7272739303293957,0.24388072212415288,0.45974715479595996,0.5944330486852065,0.7770892609459662,0.3398213588671784,0.49664739969712346,0.4874223384718326,0.5187875466378215,-1.475670690270068,-0.04394118810492266,-0.12512172688748255,0.4560571303058433,-1.7302823800880964,-0.4037185758912672,0.6645435139974175,-0.14357184933806433,-0.3963385269110344,-1.6140466086494314,1.0058707793331803,0.2752459302901422,0.880409946669224,1.0483060609695185,0.48188730173665784,-1.5753013515032097,-1.0015025432901166,-2.197070478087815,-1.07899305758256,-1.1380334494244218,0.9763505834122496,-0.05870128606538776,-1.0015025432901166,-0.7524258902072628,-1.7192123066177476,0.5077174731674724,-2.2265906740087464,1.1018114160762054,0.3472014078474112,0.474507252756425,0.23281064865380394,-0.18231710648428595,0.4025517751991565,0.6497834160369519,-0.18969715546451876,0.26971089355496747,0.8416646895230024,0.0815196445590336,0.7807792854360829,-2.119579963795372,-0.45906894324301256,1.4892639875384226,-0.32991808608894013,0.7586391384953844,-0.435083784057256,0.05568947312821902,0.7494140772700936,-0.5033492371244089,0.03723935067763725,-0.24689253506132217,-0.8354514412348808,-0.5494745432508633,-0.5420944942706305,-0.6970755228555175,-0.3170030003735326,0.25495079559450234,-1.8686582984674598,-1.7727176617244345,0.29738607723084015,0.3232162486616547,-0.27087769424707814,-0.00519593095870104,-0.16571199627876226,0.48373231398171596,0.7660191874756173,1.1553167711828924,-0.5144193105947579,-0.060546298310446355,0.30476612621107296,-0.36866334323516176,0.9357603140209694,-0.6048249106026087,-1.4295453841436137,-0.9867424453296512,-0.20445725342498386,0.4984924119421816,0.6940637099183482,1.823211203893953,0.03723935067763725,-1.07899305758256,0.7678641997206753,0.7992294078866646,0.07229458333374272,1.5649094895858082,-0.6177399963180157,-0.9627572861438949,0.1553201343613607,-0.01257597993893333,1.4209985344712701,-0.18416211872934402,-0.686005449385168,0.08520966904914976,0.5058724609224143,1.4837289508032478,0.44867708132561096,1.2789325916017908,-1.0531628861517455,-1.3760400290369263,-1.1085132535034907,-0.021801041164224214,1.1793019303686492,-0.45168889426277975,2.015092477380003,1.1239515630169037,0.19960042824275706,-0.45168889426277975,1.7328056038861017,-0.446153857527605,-0.8557465759305206,1.2420323467006271,-0.2598076207767292,-0.7598059391874951,1.9781922324788395,-1.1472585106497126,0.8490447385032353,-0.363128306499987,0.20513546497793128,0.08336465680409168,1.5187841834593538,-0.8446765024601717,0.25864082008461853,-0.16755700852382033,0.2752459302901422,1.1221065507718457,-1.9276986903093216,-2.036554412767754,-0.5716146901915612,1.4505187303922014,-0.5494745432508633,-0.5476295310058047,0.20144544048781513,0.03539433843257917,-0.4387738085473727,-0.5457845187607466,0.7900043466613738,-0.5550095799860375,0.4560571303058433,1.1700768691433583,-0.5365594575354558,1.736495628376219,-0.4313937595671399,-0.014420992183991926,-0.03656113912468984,-0.07899642076102813,1.3269029099733032,0.6959087221634063,0.4948023874520654,-0.3723533677252779,-0.6712453514247029,0.1313349751756042,-1.0236426902308147,0.3472014078474112,-0.12327671464242397,0.699598746653523,-1.5845264127285006,-1.4996558494558243,-0.20814727791510054,0.4320719711200873,1.5114041344791205,1.369338191609641,-2.4812023638267746,-2.4369220699453784,0.8840999711593407,-1.0088825922703493,-2.047624486238103,-0.29486285343283464,-0.30408791465812557,0.6313332935863701,0.4025517751991565,-2.4184719474947967,-0.15279691056335523,-0.23951248608108935,-1.3225346739302395,-0.7044555718357498,-0.9221670167526149,-1.4646006167997192,1.0630661589299837,-1.8686582984674598,-0.5679246657014451,0.27893595478025834,-0.36866334323516176,0.2770909425352003,-0.8797317351162767,-0.6029798983575501,0.3914817017288071,-0.6251200452982485,0.9210002160605042,0.5815179629697995,0.6737685752227084,2.0944280039175047,0.03723935067763725,-1.9406137760247288,-2.16201524543171,0.9062401181000386,2.4062350733323363,0.4136218486695055,-0.5476295310058047,0.07967463231397554,0.13317998742066225,0.806609456866897,-0.28194776771742763,-0.5347144452903977,-2.2911661025857826,0.7807792854360829,-0.18231710648428595,0.7272739303293957,-0.05870128606538776,0.5114074976575886,0.48373231398171596,-0.518109335084874,-0.4055635881363253,-0.37788840446045263,0.638713342566603,-1.4184753106732646,0.4302269588750292,-2.2505758331945027,-0.7376657922467972,0.15347512211630263,0.26233084457473466,-0.42585872283196513,1.1128814895465549,-0.13803681260288958,0.29369605274072397,0.2180505506933388,-1.0531628861517455,-0.33360811057905626,-0.6509502167290631,1.4154634977360954,-1.2321290739223887,0.282625979270375,-1.4516855310843118,-1.7893227719299583,-0.6103599473377829,-0.02918109014445703,-0.4793640779386524,0.01140917924682266,1.58335961203639,-0.9387721269581386,-0.26165263302178726,0.28631600376049116,0.6331783058314288,0.48004228949159977,1.3545780936491758,0.23096563640874584,-2.036554412767754,1.0335459630090529,0.6257982568511959,1.5556844283605173,0.07229458333374272,1.1626968201631254,-0.5254893840651068,-0.7634959636776117,0.5852079874599156,0.3250612609067128,0.47635226500148364,0.04277438741281199,1.3379729834436522,0.9542104364715511,0.3804116282584581,-0.07715140851596954,-1.0033475555351747,1.1387116609773689,0.6940637099183482,0.29369605274072397,1.4246885589613862,-2.7413490903799778,0.14609507313606981,1.8084511059334873,-0.5955998493773178,0.11657487721513908,-1.5107259229261736,0.48926735071689065,0.688528673183174,-1.4055602249578574,-0.7395108044918552,0.21620553844828022,-0.3594382820098709,0.7789342731910243,-2.150945171961361,0.6663885262424756,-0.26165263302178726,0.4376070078552615,0.2918510404956659,-0.6601752779543539,-1.2007638657563995,-0.06608133504562057,1.0150958405584711,0.5759829262346248,0.05199944863810287,0.19960042824275706,-0.04394118810492266,0.6663885262424756,-0.7764110493930189,0.2457257343692115,-0.5568545922310956,-0.6601752779543539,0.5114074976575886,2.2309589100518097,0.9246902405506204,0.14794008538112788,-2.2579558821747354,-0.36866334323516176,0.20698047722298935,0.9431403630012022,-2.6841537107831743,0.25679580783956046,0.4154668609145636,0.22543059967357112,-0.3354531228241143,-0.5328694330453396,0.09443473027444063,0.7604841507404425,-0.4701390167133615,-1.077148045337502,0.0483094241479862,0.5612228282741597,-0.22106236363050757,0.6350233180764868,-1.1749336943255853,-0.0015059064685843712,0.14425006089101172,0.40070676295409796,0.1866853425273495,-0.4793640779386524,0.14978509762618594,1.2069771140445218,0.9486753997363769,0.14056003640089507,-0.1620219717886461,0.18484033028229144,-0.339143147314231,1.3822532773250487,-0.9553772371636621,-0.16571199627876226,1.7346506161311603,-0.3243830493537654,-2.152790184206419,0.8988600691198058,0.5593778160291016,0.6534734405270686,-1.2727193433136685,-1.2302840616773305,0.14425006089101172,0.3232162486616547,0.016944215981997402,0.3250612609067128,-0.47567405344853625,1.509559122234063,1.2309622732302776,0.2125155139581641,0.531702632353229,1.356423105894234,0.42100189764973833,-0.09375651872149324,-0.9664473106340112,-0.6638653024444701,0.1368700119107789,1.0206308772936459,-1.0291777269659892,-0.10298157994678411,0.8933250323846316,-1.5494711800723953,-0.6122049595828409,0.08336465680409168,-1.359434918831403,-0.02733607789939896,-0.5550095799860375,0.5519977670488688,-0.13619180035783152,-0.18785214321946017,0.27155590580002553,0.35642646907270215,0.4191568854046797,-1.901868518878507,-1.9701339719456596,0.5704478894994506,-0.964602298388953,0.41177683642444746,0.7383440037997446,-1.4793607147601846,1.1018114160762054,-1.080838069827618,0.8342846405427696,-0.05316624933021354,1.0722912201552746,0.3490464200924693,1.749410714091626,0.7051337833886971,-0.8262263800095899,1.417308509981154,-0.060546298310446355,0.4708172282663089,-0.00519593095870104,-0.5550095799860375,0.5187875466378215,-0.2598076207767292,0.5593778160291016,0.7494140772700936,-0.7044555718357498,0.31399118743636384,-1.3741950167918684,0.5021824364322977,-0.2339774493459146,0.46897221602125083,-0.45906894324301256,-0.9682923228790693,1.622104869182611,1.8730265345105237,-0.15279691056335523,-1.0217976779857565,-0.3077779391482417,-0.6122049595828409,1.3896333263052814,1.3914783385503395,-1.3243796861752974,-0.38157842895056876,0.06306952210845183,0.3508914323375274,-1.2653392943334358,-0.26165263302178726,-0.9738273596142438,0.6719235629776503,-0.7265957187764482,-0.7321307555116224,-0.23766747383603126,0.640558354811661,-1.1324984126892472,0.19775541599769847,-1.7948578086651328,-0.2893278166976599,-0.363128306499987,0.6424033670567196,-1.444305482104079,-1.4147852861831482,-1.2985495147444832,0.6719235629776503,0.44129703234537815,-1.2800993922939015,-1.2634942820883777,1.1147265017916128,-1.757957563763969,0.5464627303136941,-0.911096943282266,-0.06792634729067865,1.1516267466927763,-0.7893261351084264,0.38594666499363284,-0.9461521759383714,0.8638048364637009,-0.3170030003735326,-1.0882181188078508,-1.6306517188549552,-0.19707720444475105,0.8619598242186423,0.22912062416368778,0.009564167001764587,-0.3649733187450456,1.0649111711750419,-1.411095261693032,0.47266224051136696,-0.5439395065156886,0.9763505834122496,-0.2598076207767292,0.3638065180529344,0.7032887711436391,-0.4701390167133615,0.2641758568197933,-0.07530639627091146,0.9357603140209694,0.19775541599769847,-0.056856273820329685,0.9080851303450967,-0.6546402412191792,-0.8040862330688915,-0.9037168943020332,-1.3668149678116355,-1.2487341841279123,-0.37604339221539457,0.6073481344006141,-0.686005449385168,-1.2099889269816904,-0.14910688607323855,1.7697058487872652,0.32690627315177084,-1.619581645384606,-0.9812074085944766,1.3287479222183614,0.20513546497793128,-1.1693986575904107,-0.0015059064685843712,0.5206325588828795,-0.9996575310450584,-0.7634959636776117,0.4025517751991565,0.20144544048781513,-0.6675553269345863,-1.5144159474162897,0.03539433843257917,-0.6657103146895281,-1.3760400290369263,-1.193383816776167,0.9781955956573076,-0.662020290199412,-0.05132123708515547,-0.6361901187685974,-0.23213243710085651,-0.6823154248950519,-0.8575915881755787,-1.5586962412976861,0.7992294078866646,-0.6122049595828409,1.0206308772936459,0.35273644458258546,-0.6804704126499939,-0.8354514412348808,-1.0457828371715128,0.18115030579217528,1.1239515630169037,-1.5863714249735588,-0.38526845344068544,0.7641741752305592,-0.6472601922389464,0.605503122155556,-0.5992898738674339,-1.5365560943569878,1.548304379380284,-3.0808313434706824,-0.3170030003735326,0.07598460782385887,-1.0420928126813964,0.5261675956180543,1.1018114160762054,0.24941575885932762,-1.1583285841200615,-1.5808363882383842,-0.46829400446830344,1.10734645281138,0.6737685752227084,0.14609507313606981,-0.22290737587556564,-0.35205823302963807,-0.6694003391796448,0.7309639548195118,0.9837306323924824,-0.3225380371087073,0.5612228282741597,0.22174057518345497,2.0593727712614,1.4099284610009213,1.3508880691590592,-0.8741966983811024,0.6922186976732901,-1.4313903963886718,0.5907430241950904,-0.48120909018371044,-0.24320251057120548,0.1055048037447896,-1.381575065772101,1.7512557263366835,1.8527313998148833,0.14240504864595313,1.7844659467477308,0.38594666499363284,-0.3170030003735326,-0.25796260853167113,0.2032904527328732,1.0409260119892858,-0.6435701677488302,-1.4479955065941954,0.4948023874520654,-0.26534265751190395,-0.446153857527605,0.531702632353229,-0.8852667718514514,-0.686005449385168,-1.693382135186933,-0.09191150647643516,-1.4055602249578574,1.2383423222105105,-1.8631232617322853,0.49295737520700683,1.3305929344634193,-0.422168698341849,-0.7395108044918552,0.7512590895151516,0.638713342566603,0.30476612621107296,-0.04025116361480599,1.526164232439586,0.6959087221634063,0.5538427792939269,-1.5513161923174532,0.6479384037918938,-0.20445725342498386,-0.6103599473377829,0.0649145343535099,-1.2413541351476796,-0.1620219717886461,-0.1288117513775987,0.27340091804508415,0.15347512211630263,2.3545747304707083,-1.1306534004441888,-0.4701390167133615,-0.4424638330374888,-0.3981835391560925,0.44129703234537815,-1.599286510688966,0.688528673183174,0.2531057833494438,-1.2229040126970978,-0.24504752281626407,1.526164232439586,0.522477571127938,1.2162021752698127,0.2365006731439206,0.27155590580002553,0.5815179629697995,-0.6933854983654009,0.7567941262503264,-0.6638653024444701,-0.43323877181219794,-0.3575932697648128,0.1645451955866516,0.282625979270375,1.2604824691512089,0.7697092119657334,-1.1251183637090145,0.9652805099419006,0.6719235629776503,0.6940637099183482,0.07044957108868465,0.2641758568197933,0.2198955629383969,1.766015824297149,-0.10113656770172605,-0.267187669756962,0.9080851303450967,-1.320689661685181,1.2936926895622558,-0.016266004429049997,-0.7468908534720881,-0.8336064289898222,-0.019956028919166143,-0.1620219717886461,0.09258971802938257,-0.33729813506917294,-1.7450424780485618,0.7088238078788138,-0.9812074085944766,-0.37788840446045263,0.7457240527799774,0.35642646907270215,1.4265335712064449,0.3195262241715386,-0.7265957187764482,0.27340091804508415,-1.141723473914538,1.1737668936334744,-0.6288100697883646,-0.19154216770957683,0.9191552038154461,-0.3077779391482417,0.2752459302901422,-0.6361901187685974,-0.5992898738674339,1.500334061008772,-0.4443088452825469,-0.24504752281626407,-0.30962295139330026,1.0630661589299837,-0.24504752281626407,-0.056856273820329685,-2.067919620933743,-0.0642363228005625,-1.1823137433058177,-0.3114679636383584,0.9210002160605042,-0.7358207800017391,0.701443758898581,-1.2026088780014579,0.3103011629462477,1.36011313038435,-1.5033458739459407,1.2900026650721397,-0.9203220045075569,0.771554224210792,0.44498705683549433,0.6294882813413121,0.03908436292269532,0.6626985017523594,0.3638065180529344,-1.1896937922860507,0.7881593344163151,-2.1693952944119426,0.30476612621107296,-0.1454168615831224,-0.10113656770172605,-0.7044555718357498,1.0390809997442276,0.10365979149973152,1.3804082650799905,0.0649145343535099,-0.29486285343283464,0.5243225833729962,1.275242567111674,0.10919482823490627,0.33797634662212034,0.3250612609067128,-0.45906894324301256,0.5852079874599156,-0.7081455963258665,-0.5236443718200487,0.555687791538985,1.2457223711907432,1.3287479222183614,-0.3649733187450456,-0.5273343963101649,-0.15833194729852942,1.3877883140602227,0.8379746650328863,-0.5107292861046412,-0.7026105595906917,-2.2339707229889787,-1.6435668045703622,-1.2007638657563995,-0.5863747881520269,2.2733941916881477,-0.8003962085787754,-1.0199526657406983,0.49295737520700683,-0.8594366004206367,-1.3760400290369263,0.09258971802938257,-1.6601719147758858,1.035390975254111,0.12026490170525522,0.0003391057764737013,-0.20445725342498386,0.6424033670567196,-0.422168698341849,-0.6767803881598772,-1.1564835718750035,1.044616036479402,-0.7634959636776117,-2.3538965189177605,-1.8114629188706564,-0.14726187382818048,-0.9867424453296512,0.32690627315177084,0.26971089355496747,-1.1767787065706434,-0.4110986248715,0.8840999711593407,0.17377025681194247,-3.3114578741029543,-1.2727193433136685,-0.21921735138544948,-0.8760417106261605,0.6257982568511959,-0.07530639627091146,-1.7874777596849,-0.995967506554942,0.06675954659856798,-0.32069302486364926,-0.23766747383603126,-0.8040862330688915,-0.686005449385168,-0.03471612687963177,-1.776407686214551,1.024320901783762,-1.361279931076461,1.5722895385660405,-0.35390324527469613,-1.5420911310921623,-0.7155256453060993,1.3176778487480123,0.389636689483749,0.5593778160291016,0.34166637111223647,-1.2302840616773305,0.8656498487087589,1.2069771140445218,0.4376070078552615,-0.7893261351084264,-0.49596918814417607,1.7604807875619743,0.4579021425509019,0.7900043466613738,0.7936943711514899,-0.0956015309665513,1.1626968201631254,0.7770892609459662,-1.2026088780014579,0.7420340282898608,-0.6380351310136555,1.0519960854596346,-1.2911694657642503,-1.8059278821354818,-0.8502115391953459,-0.7819460861281936,0.3232162486616547,0.3435113833572946,-2.5826780373049743,0.36934155478810915,-0.4184786738517323,0.07229458333374272,-0.8686616616459277,-2.1454101352261863,-1.1435684861595963,0.723583905839279,0.5132525099026471,-0.5328694330453396,1.5981197099968556,-1.2302840616773305,-1.379730053527043,1.36011313038435,-0.08822148198631902,-1.7062972209023402,0.461592167041018,0.867494860953817,1.0077157915782384,-0.840986477970055,-0.3557482575197547,0.9431403630012022,0.8840999711593407,-1.9682889597006015,0.306611138456131,0.3250612609067128,0.7401890160448027,0.6737685752227084,0.8010744201317227,0.19037536701746616,-0.45722393099795444,-0.7948611718436006,-0.16571199627876226,1.0519960854596346,-0.47198402895841957,1.345353032423885,0.3398213588671784,-0.49965921263429225,1.0686011956651584,1.5888946487715647,0.32875128539682946,0.36196150580787634,1.0003357425980055,0.06675954659856798,-0.7395108044918552,0.5095624854125305,-0.04209617585986458,-0.17862708199416927,-0.11036162892701694,-0.36128329425492894,-1.1878487800409925,-1.610356584159315,1.18852699159394,-1.150948535139829,0.7918493589064318,-2.0310193760325794,1.2125121507796959,-1.4240103474084391,0.9486753997363769,0.8840999711593407,-0.3114679636383584,0.7364989915546866,-0.7801010738831354,-1.693382135186933,1.6903703222497646,-2.348361482182586,0.7069787956337558,1.037235987499169,0.461592167041018,-0.911096943282266,-1.3981801759776247,1.1147265017916128,0.21436052620322216,0.7198938813491629,-0.9369271147130805,1.0538410977046928,-1.72659235559798,-0.7063005840808084,0.2752459302901422,-0.21921735138544948,1.0150958405584711,-0.4664489922232454,-0.6694003391796448,0.6811486242029412,-0.3243830493537654,-1.121428339218898,-0.007040943203759113,-0.5826847636619102,0.5483077425587521,1.1959070405741727,-0.07715140851596954,-0.5347144452903977,0.3305962976418875,-0.29486285343283464,-1.7930127964200746,0.6737685752227084,0.009564167001764587,-0.6601752779543539,0.34535639560235265,-0.2893278166976599,0.18484033028229144,-0.44799886977266357,1.376718240589874,-1.245044159637796,0.3490464200924693,0.7401890160448027,-0.18231710648428595,-0.35205823302963807,-1.5586962412976861,-0.3575932697648128,0.27893595478025834,-0.4129436371165581,0.005874142511648443,-0.5771497269267359,0.8213695548273626,-2.9516804863166097,0.0981247547645573,-0.05870128606538776,1.1479367222026597,0.8342846405427696,0.5132525099026471,0.3195262241715386,-1.2653392943334358,-1.0513178739066873,0.8748749099340498,0.138715024155837,0.46712720377619277,-0.2505825595514383,-0.3944935146659763,0.8435097017680605,-0.12512172688748255,0.7992294078866646,0.638713342566603,-0.8391414657249969,0.797384395641606,-0.09191150647643516,1.7254255549058695,1.9136168039018033,-1.6564818902857694,-0.9664473106340112,-1.3575899065863446,-0.686005449385168,0.2180505506933388,0.4136218486695055,1.251257407925918,1.1571617834279506,-0.007040943203759113,0.3305962976418875,0.2512607711043857,-0.14357184933806433,0.3508914323375274,-1.0660779718671527,-0.9092519310372079,0.44129703234537815,-0.6970755228555175,-0.8243813677645313,-0.30224290241306745,-0.6269650575433066,-0.8778867228712186,0.3158361996814219,-1.4719806657799517,-0.662020290199412,-2.6140432454709637,-1.9682889597006015,-1.5623862657878025,0.7807792854360829,0.41731187315962165,0.6663885262424756,-0.1767820697491112,0.40993182417938884,0.7678641997206753,0.723583905839279,1.0483060609695185,1.740185652866335,-0.22290737587556564,0.3361313343770618,-0.09191150647643516,0.3785666160134,-0.49227916365405944,-0.9147869677723821,0.16639020783170966,-0.5476295310058047,-1.1730886820805269,-0.8815767473613352,-1.4406154576139627,-0.5623896289662703,-1.525486020886639,-1.328069710665414,-1.077148045337502,-1.0181076534956401,-0.40187356364620913,-1.0181076534956401,-0.11958669015230781,0.7198938813491629,-2.538397743423578,1.500334061008772,0.8711848854439331,-0.06977135953573724,-0.4074086003813834,0.059379497618335164,-0.6823154248950519,-0.3723533677252779,-0.47382904120347763,0.02247925271717162,0.4283819466299706,0.20882548946804794,0.47266224051136696,1.035390975254111,0.18115030579217528,-0.23213243710085651,0.2365006731439206,0.24941575885932762,-0.38526845344068544,-0.4775190656935943,0.7770892609459662,1.203287089554405,1.1128814895465549,-1.141723473914538,0.7143588446139881,-0.6435701677488302,-0.8059312453139496,0.42469192213985446,-0.5033492371244089,-0.7487358657171461,-0.9682923228790693,-0.20076722893486773,-0.2745677187371948,-0.6546402412191792,-0.6989205351005756,0.4579021425509019,-0.3003978901680094,-0.06239131055550443,1.3785632528349319,-0.08453145749620235,0.5962780609302651,1.1516267466927763,-0.32991808608894013,0.2678658813099094,-1.287479441274134,1.7992260447081965,0.23281064865380394,0.3490464200924693,0.0981247547645573,-0.21552732689533283,-0.7432008289819719,-1.067922984112211,1.6774552365343565,1.356423105894234,0.389636689483749,-0.21921735138544948,-0.42401371058690707,0.6571634650171847,2.254944069237566,-0.5015042248793503,0.29369605274072397,0.5390826813334613,0.19591040375264038,0.06860455884362605,0.5261675956180543,0.937605326266028,0.2992310894758982,-0.24689253506132217,-0.02918109014445703,-0.6564852534642373,-0.5771497269267359,-0.6527952289741211,-0.1288117513775987,0.3748765915232839,-1.2985495147444832,-0.14172683709300574,1.2235822242500454,-0.2745677187371948,0.5944330486852065,-0.17309204525899508,0.2881610160055492,0.21436052620322216,0.5058724609224143,-0.0033509187136424434,0.10734981598984819,-0.7026105595906917,-0.49781420038923413,-0.6251200452982485,-0.28194776771742763,0.7660191874756173,-0.7321307555116224,0.3841016527485748,-0.8059312453139496,1.055686109949751,-1.256114233108145,0.21436052620322216,0.4781972772465417,-0.8834217596063934,-0.6749353759148191,0.5114074976575886,0.49295737520700683,0.3361313343770618,-0.17862708199416927,0.20513546497793128,-1.829913041321238,-2.036554412767754,0.1719252445668844,0.23096563640874584,-0.2911728289427185,0.5944330486852065,-0.0734613840258534,-0.5420944942706305,0.6645435139974175,-1.4350804208787882,1.4560537671273752,1.1608518079180672,0.19775541599769847,-0.46829400446830344,0.15716514660641875,-1.4092502494479737,-0.07530639627091146,-0.6288100697883646,-0.3317630983339982,-1.4295453841436137,0.723583905839279,-0.9406171392031967,-0.13434678811277345,0.3638065180529344,0.09258971802938257,-0.20076722893486773,-0.10113656770172605,0.9394503385110861,0.34535639560235265,0.1221099139503133,-0.5716146901915612,-0.4129436371165581,0.16639020783170966,0.5409276935785199,0.3582714813177602,0.6147281833808469,-0.7764110493930189,0.22727561191862972,-0.5623896289662703,-1.150948535139829,-1.318844649440123,-1.2302840616773305,-0.06608133504562057,-0.9203220045075569,-0.8520565514404039,-0.21552732689533283,1.9136168039018033,-0.7063005840808084,0.9357603140209694,0.7678641997206753,-0.04209617585986458,-0.2893278166976599,-0.7044555718357498,-1.1177383147287816,-3.1657019067433585,-0.36866334323516176,-0.5402494820255724,-0.7155256453060993,-0.18969715546451876,0.7623291629855011,0.6793036119578831,-0.18416211872934402,1.417308509981154,0.004029130266589846,1.596274697751797,-1.527331033131697,-1.785632747439842,-0.20814727791510054,-0.0956015309665513,0.20513546497793128,-0.0734613840258534,-0.8502115391953459,0.4634371792860761,1.1571617834279506,1.3582681181392922,-0.912941955527324,-1.3575899065863446,0.27155590580002553,0.31399118743636384,0.09258971802938257,1.5206291957044114,0.4228469098947964,-0.22290737587556564,-0.21737233914039142,1.1202615385267871,0.17746028130205863,-0.9553772371636621,0.474507252756425,-0.4609139554880706,-0.47567405344853625,0.40070676295409796,-0.74504584122703,-1.1177383147287816,-0.6361901187685974,0.4431420445904362,-0.9812074085944766,-1.6860020862067004,0.7198938813491629,1.0575311221948094,-1.0217976779857565,0.08705468129420782,0.797384395641606,-0.5586996044761542,0.4984924119421816,-0.3649733187450456,0.46528219153113415,0.6221082323610793,-1.1583285841200615,1.548304379380284,-0.7247507065313902,0.3361313343770618,-1.6786220372264675,0.6608534895073014,0.44867708132561096,1.640554991633193,-0.37604339221539457,-1.2007638657563995,-0.7487358657171461,0.12026490170525522,-0.16755700852382033,-0.2764127309822529,-0.20076722893486773,0.2032904527328732,0.02985930169740443,-0.04394118810492266,-0.35021322078457995,-0.8262263800095899,0.34535639560235265,1.1479367222026597,-0.8926468208316842,1.0077157915782384,0.3804116282584581,-0.4701390167133615,0.8250595793174788,-0.5753047146816774,-0.0900664942313771,-0.7561159146973789,-1.3003945269895412,-0.3170030003735326,0.5778279384796834,-0.68416043714011,0.8121444936020716,0.05568947312821902,0.2604858323296766,0.23834568538897868,0.9911106813727146,-0.38157842895056876,-0.9848974330845931,-2.1933804535976993,-0.5734597024366194,1.2364973099654524,-1.1103582657485491,1.1626968201631254,-0.6509502167290631,-0.45906894324301256,-0.7764110493930189,-1.3981801759776247,0.29738607723084015,0.7881593344163151,-0.4609139554880706,-1.6435668045703622,-1.3538998820962285,-2.8133045679372466,1.2088221262895797,0.31768121192647997,-0.8908018085866262,-0.5513195554959214,1.1128814895465549,-0.6896954738752847,-1.1823137433058177,0.24941575885932762,0.49111236296194877,-0.35390324527469613,0.37672160376834196,0.6202632201160212,-0.021801041164224214,0.3361313343770618,-1.2616492698433197,-0.41663366160667425,-1.036557775946222,0.5058724609224143,-0.6546402412191792,2.2143537998462866,-0.7727210249029026,0.5944330486852065,-1.6564818902857694,0.33428632213200365,0.27340091804508415,0.19591040375264038,0.05753448537327709,0.48004228949159977,0.9597454732067259,-0.15279691056335523,0.3398213588671784,-0.8243813677645313,0.2198955629383969,-0.09191150647643516,-0.03840615136974792,0.0483094241479862,0.7918493589064318,-1.0642329596220945,-0.6638653024444701,-0.2690326820020201,0.2604858323296766,-1.4461504943491374,-1.6085115719142569,-0.19523219219969298,0.7328089670645699,-0.025491065654340884,-0.6085149350927248,-0.13250177586771486,-1.027332714720931,-1.5402461188471044,-1.5882164372186167,1.4468287059020843,-1.7395074413133873,-0.3594382820098709,0.06306952210845183,0.6774585997128245,1.5169391712142952,-0.04209617585986458,-1.6601719147758858,-0.36866334323516176,-0.5107292861046412,-0.060546298310446355,-0.505194249369467,-0.3354531228241143,-0.14357184933806433,0.6184182078709631,1.1700768691433583,-0.06608133504562057,1.096276379341031,0.1866853425273495,-1.6011315229340242,-0.04209617585986458,0.09258971802938257,-0.06239131055550443,0.46528219153113415,-0.662020290199412,-0.0033509187136424434,-0.7782560616380769,1.0759812446453914,0.4468320690805524,0.2180505506933388,0.5464627303136941,-1.6730870004912932,-0.7671859881677279,0.5187875466378215,1.635019954898019,0.04277438741281199,-0.5974448616223759,-2.6158882577160214,0.10181477925467344,-0.42585872283196513,1.103656428321264,-0.8225363555194732,0.282625979270375,-1.6029765351790823,0.5519977670488688,0.33428632213200365,-2.9867357189727155,0.42100189764973833,-0.8003962085787754,0.5077174731674724,0.5243225833729962,2.478190550889606,2.011402452889887,-2.1140449270601973,1.1811469426137071,0.3232162486616547,1.8176761671587782,0.7457240527799774,-0.6232750330531904,-1.9129385923488562,0.3029211139660149,-1.0236426902308147,-0.13988182484794767,1.2900026650721397,0.9025500936099224,-0.20076722893486773,-1.0291777269659892,-0.014420992183991926,-1.2229040126970978,-0.68416043714011,0.4560571303058433,-0.5494745432508633,-0.446153857527605,-0.42585872283196513,-0.5679246657014451,1.701440395720113,0.26233084457473466,0.306611138456131,0.8398196772779444,0.18853035477240757,-0.6749353759148191,-0.07161637178079532,-1.6066665596691985,-1.599286510688966,0.7789342731910243,-0.3668183309901037,-0.37604339221539457,-2.390796763818924,-1.154638559629945,1.3822532773250487,0.5077174731674724,-0.6306550820334227,0.9449853752462603,-0.5162643228398159,-0.6158949840729576,0.38225664050351615,-0.5310244208002816,0.12026490170525522,0.616573195625905,0.282625979270375,1.7162004936805786,-0.8188463310293571,0.9412953507561441,1.3656481671195249,-1.379730053527043,-0.8133112942941824,-0.6398801432587136,-1.4885857759854755,-0.30408791465812557,0.03908436292269532,-0.9313920779779058,-1.7247473433529221,0.26602086906485134,-1.2930144780093085,0.17377025681194247,0.07229458333374272,2.0040224039096546,-0.18969715546451876,0.5206325588828795,-0.18416211872934402,-0.7007655473456337,-0.4553789187528959,-0.8483665269502878,0.8324396282977116,-1.3926451392424501,-1.1823137433058177,0.7863143221712571,-1.163863620855236,0.7051337833886971,-0.924012028997673,-0.32622806159882345,0.35642646907270215,-0.5845297759069683,1.5280092446846447,1.2346522977203944,0.07229458333374272,0.22912062416368778,0.15347512211630263,1.4800389263131317,0.016944215981997402,-2.3557415311628187,0.49295737520700683,-0.280102755472369,0.38594666499363284,-0.46460397997818675,-1.0439378249264546,0.7623291629855011,0.6479384037918938,-0.4904341514090013,-0.9978125188000001,-0.7598059391874951,0.18115030579217528,0.365651530297993,-0.07530639627091146,-0.0015059064685843712,-0.9719823473691858,-1.6158916208944896,0.5704478894994506,-0.6251200452982485,0.9763505834122496,-1.715522282127631,-0.43323877181219794,0.28631600376049116,-1.2819444045389594,-0.43323877181219794,-1.4996558494558243,0.5741379139895667,-1.027332714720931,-1.141723473914538,-1.3686599800566939,-1.2505791963729704,-0.3723533677252779,1.0796712691355075,-0.9479971881834295,-0.15279691056335523,0.7475690650250355,-2.285631065850608,1.976347220233782,0.5187875466378215,-0.06977135953573724,0.474507252756425,0.9800406079023657,-1.4166302984282064,-0.18785214321946017,1.3195228609930705,0.9394503385110861,-1.285634429029076,0.6442483793017777,-1.5384011066020462,0.8213695548273626,0.5833629752148576,-1.2967045024994248,0.7475690650250355,-1.5310210576218135,0.07413959557880079,-1.320689661685181,-0.3409881595592891,-0.5586996044761542,-0.6970755228555175,0.3121461751913058,-0.6029798983575501,-0.10298157994678411,2.319519497814602,-0.5439395065156886,0.3324413098869456,1.1202615385267871,0.12395492619537136,1.055686109949751,-0.11589666566219167,0.0335493261875211,-0.07530639627091146,-1.6952271474319913,0.4394520201003201,-0.34467818404940526,-2.377881678103517,-0.8225363555194732,1.3398179956887102,0.6645435139974175,-1.0088825922703493,-0.014420992183991926,0.06860455884362605,-0.5974448616223759,0.9339153017759113,-0.8059312453139496,0.48373231398171596,-1.9498388372500197,0.18115030579217528,-0.7782560616380769,-2.007034216846823,0.4634371792860761,-0.9184769922624988,0.3545814568276435,0.6719235629776503,-1.112203277993607,-0.6491052044840044,1.0280109262738781,-0.5125742983496998,-0.4867441269188852,0.7217388935942209,0.19960042824275706,-1.1841587555508761,0.6663885262424756,-0.9350821024680219,-1.9978091556215323,-1.560541253542744,0.6700785507325923,-1.5125709351712315,-0.6085149350927248,-0.7302857432665644,-0.4848991146738271,-1.401870200467741,0.11657487721513908,-0.9221670167526149,1.0538410977046928,1.4929540120285387,-0.2247523881206237,-1.2265940371872142,0.11472986497008048,-0.7985511963337173,0.795539383396548,0.32875128539682946,0.5261675956180543,-1.1251183637090145,-0.4848991146738271,-0.20076722893486773,0.8250595793174788,-1.1269633759540725,0.210670501713106,-0.6177399963180157,0.25679580783956046,0.10365979149973152,0.25495079559450234,-0.6103599473377829,0.4708172282663089,-0.9369271147130805,0.6903736854282321,-0.5439395065156886,0.5999680854203813,-0.2247523881206237,-0.04025116361480599,-0.5513195554959214,-1.0605429351319782,0.5335476445982871,-0.11774167790724975,1.8767165590006398,0.531702632353229,0.18115030579217528,0.9855756446375404,-0.45168889426277975,-0.4627589677331287,1.0187858650485873,1.116571514036671,-0.24873754730638023,-0.09191150647643516,-0.0734613840258534,0.5169425343927633,-0.6398801432587136,1.4634338161076084,-0.4904341514090013,-0.5291794085552229,-0.4775190656935943,0.6571634650171847,-0.09375651872149324,0.018789228227055473,-1.0402478004363385,0.38225664050351615,0.08705468129420782,1.7567907630718582,-0.6915404861203428,-0.5162643228398159,0.9818856201474238,-0.16017695954358752,0.6756135874677665,-0.7524258902072628,0.5759829262346248,0.04277438741281199,-2.1749303311471175,0.5206325588828795,0.7328089670645699,0.8767199221791079,1.4357586324317357,-1.077148045337502,1.0040257670881223,-0.17862708199416927,-1.1675536453453523,0.15163010987124403,0.3029211139660149,-0.924012028997673,0.7660191874756173,-0.7192156697962154,-1.2985495147444832,0.522477571127938,1.1645418324081835,0.9246902405506204,-0.24873754730638023,-1.3538998820962285,0.7807792854360829,0.4634371792860761,0.627643269096254,-0.5070392616145251,-0.24135749832614742,-0.02918109014445703,1.0261659140288202,1.640554991633193,0.007719154756706515,-0.3225380371087073,-0.06792634729067865,-1.2930144780093085,0.5390826813334613,0.6479384037918938,-2.403711849534331,-0.7044555718357498,1.36011313038435,0.48926735071689065,-2.5660729270994507,-1.9978091556215323,0.2180505506933388,-0.8520565514404039,1.9117717916567458,0.1294899629305461,-0.2985528779229508,-0.025491065654340884,0.3029211139660149,2.136863285553843,-0.8003962085787754,-1.2062989024915742,-0.18785214321946017,0.6442483793017777,1.408083448755863,-0.5771497269267359,-1.1103582657485491,0.2365006731439206,-0.13065676362265677,-0.07715140851596954,-3.263487555731442,0.08520966904914976,0.04461939965787006,-0.3575932697648128,0.806609456866897,0.6737685752227084,-0.36866334323516176,0.461592167041018,0.9302252772857952,-0.0015059064685843712,-3.1675469189884162,0.06675954659856798,0.5058724609224143,-0.7284407310215063,-0.00519593095870104,0.03723935067763725,-0.4387738085473727,1.2088221262895797,-1.2616492698433197,-1.6786220372264675,-1.171243669835469,-0.4424638330374888,-0.07899642076102813,0.8859449834043988,0.10181477925467344,0.13502499966572085,0.5390826813334613,0.11841988946019714,0.7936943711514899,0.3988617507090399,-0.21368231465027476,-1.693382135186933,1.1922170160840562,-0.267187669756962,-0.9609122738988365,0.282625979270375,-2.3022361760561316,1.9173068283919195,-1.641721792325304,1.035390975254111,-0.6823154248950519,-2.315151261771539,0.6516284282820105,-0.7468908534720881,-1.1472585106497126,1.5593744528506335,-1.7874777596849,0.7549491140052683,0.6922186976732901,-0.9313920779779058,-0.5347144452903977,0.18484033028229144,-0.925857041242731,-1.1786237188157016,0.782624297681141,-2.180465367882292,0.07967463231397554,-0.46829400446830344,0.3472014078474112,-0.9443071636933128,0.1553201343613607,1.4339136201866771,-1.0125726167604656,-0.0808414330060862,-1.0181076534956401,1.6995953834750555,0.7457240527799774,0.07044957108868465,-1.4461504943491374,-0.1454168615831224,0.5981230731753232,-2.1361850740008954,-0.112206641172075,1.0741362324003327,-0.11958669015230781,0.8379746650328863,1.0741362324003327,-0.7837910983732517,-0.6823154248950519,-0.68416043714011,-0.5992898738674339,0.7531041017602103,-0.5586996044761542,0.45974715479595996,2.3711798406762314,0.5686028772543925,-2.224745661763688,0.9117751548352133,-0.6048249106026087,0.1368700119107789,-1.722902331107864,0.605503122155556,-0.5254893840651068,0.605503122155556,1.0132508283134132,-0.04947622484009687,-0.6066699228476667,1.4947990242735973,-0.6158949840729576,0.5519977670488688,0.210670501713106,0.5409276935785199,1.1313316119971366,-1.193383816776167,-0.7505808779622042,0.5593778160291016,-0.8225363555194732,-0.28563779220754376,1.2180471875148706,-1.6380317678351877,1.345353032423885,0.07229458333374272,0.07229458333374272,-0.44799886977266357,-0.2524275717964964,-0.09929155545666797,-0.06977135953573724,1.4209985344712701,-0.17124703301393698,-0.7358207800017391,0.5649128527642758,-0.09375651872149324,0.5741379139895667,-1.069767996357269,-0.953532224918604,-1.4775157025151262,-1.0882181188078508,0.08520966904914976,0.10181477925467344,-0.34283317180434714,0.5187875466378215,0.5483077425587521,-0.38895847793080157,0.461592167041018,-1.307774575969774,-0.4295487473220818,0.8435097017680605,-0.07715140851596954,-0.3981835391560925,-0.0328711146345737,-1.1029782167683162,-0.9369271147130805,0.5206325588828795,0.9929556936177732,1.3305929344634193,0.8914800201395735,-1.0144176290055238,-0.5162643228398159,-0.6122049595828409,0.2881610160055492,0.542772705823578,-1.0568529106418618,-0.4830541024287685,0.282625979270375,0.5021824364322977,0.15716514660641875,1.4726588773328992,-0.12143170239736589,0.3158361996814219,0.2844709915154331,1.5372343059099356,0.5852079874599156,0.45236710581572714,0.806609456866897,-1.1158933024837234,-0.8317614167447641,-0.16571199627876226,-0.018111016674108072,1.1147265017916128,-2.285631065850608,-1.285634429029076,0.306611138456131,-0.2339774493459146,-1.2229040126970978,1.1682318568983001,-0.42401371058690707,0.04646441190292813,-0.6066699228476667,-1.1232733514639563,0.33428632213200365,0.5686028772543925,0.7531041017602103,-0.5439395065156886,-0.32807307384388207,0.2198955629383969,-1.2930144780093085,-0.6527952289741211,1.2807776038468488,0.6516284282820105,-0.3797334167055107,-1.2819444045389594,-0.6251200452982485,-1.5900614494636751,0.4136218486695055,-0.6103599473377829,-2.962750559786959,0.19775541599769847,-0.9018718820569751,-0.23951248608108935,-0.925857041242731,0.365651530297993,0.10365979149973152,-0.07530639627091146,-1.5734563392581515,0.18299531803723335,-1.1343434249343054,0.6018130976654393,0.784469309926199,0.7992294078866646,0.1940653915075823,0.29369605274072397,-1.4664456290447772,-0.3483682085395219,-0.3834234411956274,0.2365006731439206,0.24941575885932762,-1.973823996435776,-1.370504992301752,0.018789228227055473,0.6497834160369519,-1.7099872453924567,-0.8133112942941824,-0.0956015309665513,1.0335459630090529,-0.4147886493616162,-1.246889171882854,1.0483060609695185,-0.2930178411877766,0.6294882813413121,-0.6657103146895281,-1.5199509841514645,-1.5753013515032097,-0.842831490215113,0.19960042824275706,2.1294832365736096,0.10919482823490627,0.0003391057764737013,-0.3963385269110344,-0.11958669015230781,-0.8354514412348808,0.3029211139660149,0.640558354811661,-0.8760417106261605,-0.4037185758912672,-1.276409367803785,-0.3317630983339982,-0.14172683709300574,0.5815179629697995,1.0206308772936459,0.14978509762618594,-0.04394118810492266,-1.1361884371793634,1.2567924446610923,-0.1767820697491112,0.10181477925467344,0.46897221602125083,0.8490447385032353,-0.3243830493537654,-0.8520565514404039,-0.1620219717886461,0.18853035477240757,-1.0162626412505817,-0.601134886112492,-0.8778867228712186,-0.5955998493773178,-0.6712453514247029,1.0649111711750419,0.08705468129420782,-1.2985495147444832,0.13502499966572085,-0.4443088452825469,0.5114074976575886,0.7623291629855011,-0.10667160443690078,0.09074470578432449,0.6774585997128245,-0.9147869677723821,0.9339153017759113,0.45974715479595996,0.6848386486930573,0.8970150568747477,-1.1804687310607598,0.7254289180843375,0.8176795303372464,-0.6583302657092953,-2.7597992128305595,1.7936910079730217,-0.7026105595906917,0.2420357098790948,-0.5107292861046412,0.6663885262424756,0.009564167001764587,0.31399118743636384,0.25495079559450234,0.723583905839279,0.0317043139424625,0.5833629752148576,-0.18785214321946017,1.2531024201709762,-0.8908018085866262,-1.3336047474005883,0.5981230731753232,-0.35205823302963807,-0.8502115391953459,-0.20445725342498386,-2.003344192356707,-1.3741950167918684,-0.505194249369467,0.02616927720728829,-0.422168698341849,0.018789228227055473,1.094431367095973,0.0483094241479862,-0.7358207800017391,0.3841016527485748,-0.9461521759383714,1.336127971198594,0.389636689483749,1.2088221262895797,-0.7136806330610407,-1.005192567780233,0.020634240472113548,-0.025491065654340884,-1.2598042575982613,-0.6122049595828409,0.4948023874520654,-0.8760417106261605,1.7549457508268007,0.10734981598984819,-0.00519593095870104,1.6331749426529605,-0.7745660371479608,-0.8225363555194732,1.0095608038232964,-0.0808414330060862,-0.6878504616302267,-0.8686616616459277,-1.5070358984360572,0.38225664050351615,0.3490464200924693,0.01509920373693933,-1.7192123066177476,1.1331766242421946,0.5206325588828795,0.8287496038075954,-0.2690326820020201,0.950520411981435,0.10181477925467344,1.1922170160840562,0.7494140772700936,-1.2911694657642503,0.14240504864595313,-0.3594382820098709,-2.368656616878226,0.8896350078945149,0.44867708132561096,1.1479367222026597,-1.8705033107125182,0.15347512211630263,-0.9664473106340112,-0.4848991146738271,0.8232145670724207,0.4505220935706691,0.5870529997049743,0.7364989915546866,0.20144544048781513,-0.5863747881520269,0.9302252772857952,-1.4147852861831482,-0.014420992183991926,-0.5716146901915612,-0.2837927799624857,0.32690627315177084,-1.0070375800252909,-1.1823137433058177,0.25679580783956046,-1.3446748208709376,-0.8262263800095899,-0.4295487473220818,0.9523654242264931,0.024324264962230214,1.0132508283134132,0.09258971802938257,-1.2745643555587267,-1.1103582657485491,-0.6122049595828409,0.5870529997049743,0.1221099139503133,-0.5660796534563866,0.26233084457473466,1.0390809997442276,0.638713342566603,-0.0033509187136424434,-0.3575932697648128,-0.021801041164224214,-0.8206913432744152,1.880406583490756,-0.5697696779465031,-2.224745661763688,1.1128814895465549,-0.24320251057120548,-0.6048249106026087,0.03723935067763725,-1.4147852861831482,0.1553201343613607,0.07598460782385887,0.9486753997363769,0.0483094241479862,-1.1103582657485491,-1.1564835718750035,0.41731187315962165,1.6995953834750555,1.1866819793488819,1.1368666487323107,-0.8003962085787754,0.6257982568511959,0.3158361996814219,-1.7690276372343183,0.04277438741281199,-0.4701390167133615,-1.1158933024837234,-0.2505825595514383,-0.20630226567004195,1.5298542569297022,-1.569766314768035,0.7733992364558501,-0.13250177586771486,0.3490464200924693,-0.590064812642143,0.9431403630012022,0.03723935067763725,-2.0439344617479867,1.0021807548430641,1.201442077309347,-1.0162626412505817,0.9320702895308532,0.41177683642444746,0.6368683303215449,0.5722929017445086,-1.3631249433215193,-0.7542709024523209,-0.6214300208081318,-1.518105971906406,1.4818839385581903,1.1147265017916128,0.7770892609459662,0.24757074661426956,-0.11589666566219167,-0.4793640779386524,-2.2136755882933388,1.5649094895858082,-0.9516872126735456,-0.5623896289662703,0.3582714813177602,-1.4996558494558243,-0.5826847636619102,-1.3483648453610537,-2.003344192356707,0.6479384037918938,-0.5236443718200487,1.0021807548430641,0.542772705823578,-1.1048232290133746,-1.2026088780014579,0.6497834160369519,0.9560554487166097,-2.55684786587416,2.415460134557627,0.6848386486930573,0.5612228282741597,1.0150958405584711,-1.4092502494479737,0.8305946160526535,-0.3483682085395219,-1.069767996357269,-1.8317580535662963,-0.9922774820648256,-0.35205823302963807,-0.1767820697491112,-0.686005449385168,-0.6140499718278996,0.9652805099419006,-0.9461521759383714,-0.9092519310372079,0.555687791538985,0.6682335384875336,-0.5310244208002816,-0.3317630983339982,1.035390975254111,0.5058724609224143,-0.07161637178079532,1.8970116936962802,0.2641758568197933,1.609189783467204,-1.1324984126892472,-0.04947622484009687,1.1516267466927763,0.18484033028229144,-1.0402478004363385,-0.37604339221539457,-1.4646006167997192,0.806609456866897,2.511400771300653,0.19037536701746616,-0.4443088452825469,-0.4664489922232454,-0.01257597993893333,-0.5568545922310956,-1.5642312780328604,0.7992294078866646,0.8361296527878282,1.5077141099890043,0.31399118743636384,-0.2247523881206237,-1.2893244535191923,1.7918459957279642,0.13502499966572085,-0.1860071309744021,0.7309639548195118,1.1479367222026597,1.874871546755582,1.874871546755582,-0.769031000412786,0.2678658813099094,-0.8963368453218004,0.10734981598984819,-1.1140482902386655,0.6774585997128245,1.9265318896172103,-0.9885874575747092,0.6128831711357884,0.07598460782385887,-0.2930178411877766,0.02616927720728829,1.6848352855145898,-0.019956028919166143,1.2051321017994636,0.5612228282741597,0.6184182078709631,-0.6398801432587136,-0.8133112942941824,-2.0623845841985684,0.8287496038075954,-0.4793640779386524,-0.09375651872149324,-0.47382904120347763,-0.06977135953573724,-0.435083784057256,-0.4627589677331287,0.557532803784043,0.6018130976654393,-0.34283317180434714,0.17377025681194247,0.2420357098790948,0.6977537344084649,-0.18785214321946017,0.6866836609381154,1.2346522977203944,-0.4295487473220818,-0.6103599473377829,-0.21552732689533283,1.3545780936491758,0.41177683642444746,-1.569766314768035,0.20144544048781513,1.1756119058785324,-0.056856273820329685,-0.025491065654340884,0.40439678744421464,-0.09191150647643516,0.47635226500148364,-0.6694003391796448,-2.8335997026328865,0.6663885262424756,0.5409276935785199,1.2125121507796959,-1.495965824965708,0.7069787956337558,0.007719154756706515,-0.7210606820412735,0.17561526905700053,-0.435083784057256,0.3638065180529344,-0.4129436371165581,-0.24135749832614742,0.08520966904914976,-2.6638585760875344,-0.0015059064685843712,0.6866836609381154,-0.5144193105947579,-0.10851661668195886,-1.3446748208709376,-1.4055602249578574,-0.994122494309884,0.365651530297993,0.7881593344163151,-0.4074086003813834,-1.7708726494793765,-0.8391414657249969,-0.05316624933021354,-0.08637646974126043,0.771554224210792,-0.7081455963258665,-0.24135749832614742,0.6719235629776503,0.03908436292269532,-1.3483648453610537,-0.9461521759383714,-0.014420992183991926,-0.5273343963101649,-0.21183730240521667,0.06122450986339376,0.26233084457473466,0.32690627315177084,-1.9074035556136817,0.05199944863810287,0.18115030579217528,-0.3575932697648128,0.7604841507404425,0.5962780609302651,0.7604841507404425,-1.6952271474319913,-0.7081455963258665,0.3951717262189237,-0.13803681260288958,0.7733992364558501,1.1848369671038232,0.5722929017445086,-0.1804720942392279,0.880409946669224,0.8195245425823044,-0.1860071309744021,-1.1324984126892472,0.4228469098947964,-0.4387738085473727,1.2346522977203944,0.19037536701746616,-0.21552732689533283,-0.256117596286613,-0.25427258404155495,-0.06239131055550443,-1.1029782167683162,-1.4682906412898353,1.1128814895465549,-0.2764127309822529,0.7641741752305592,-0.9350821024680219,0.2641758568197933,-0.20076722893486773,-1.1730886820805269,1.71435548143552,0.5630678405192178,0.8029194323767808,-0.733975767756681,-0.7874811228633678,-0.4553789187528959,0.2457257343692115,-1.403715212712799,-0.590064812642143,-0.019956028919166143,-0.5734597024366194,-0.5697696779465031,-1.5125709351712315,0.11288485272502241,-0.7727210249029026,-0.9996575310450584,-0.01257597993893333,0.6534734405270686,-0.30408791465812557,-1.1804687310607598,-0.7819460861281936,-0.8631266249107534,0.06860455884362605,-0.16571199627876226,-2.3003911638110734,0.0981247547645573,1.9117717916567458,-2.049469498483161,-0.3225380371087073,-0.5771497269267359,-0.08822148198631902,0.2770909425352003,-0.5439395065156886,0.9671255221869587,0.3545814568276435,-0.06792634729067865,-0.18416211872934402,0.8435097017680605,-1.5420911310921623,-0.16386698403370417,0.2198955629383969,-1.922163653574147,-0.9350821024680219,-0.6970755228555175,1.3988583875305722,1.105501440566322,-0.3963385269110344,0.05199944863810287,-1.6232716698747223,-0.13065676362265677,-0.09191150647643516,-0.40925361262644144,0.23096563640874584,-0.3465231962944638,0.8840999711593407,0.22358558742851303,0.8398196772779444,0.306611138456131,0.9560554487166097,0.5483077425587521,0.771554224210792,-0.7358207800017391,0.0815196445590336,0.4394520201003201,0.10919482823490627,1.1313316119971366,1.275242567111674,-0.4129436371165581,0.7254289180843375,0.3398213588671784,-0.23951248608108935,0.8471997262581772,0.5686028772543925,0.963435497696842,0.18484033028229144,-0.8797317351162767,1.3121428120128376,-0.925857041242731,0.5833629752148576,-0.1860071309744021,-0.04394118810492266,-0.0900664942313771,-0.5384044697805138,-1.1343434249343054,-0.6454151799938883,0.07967463231397554,0.22543059967357112,-0.4775190656935943,-0.15279691056335523,1.118416526281729,-1.765337612744202,1.6626951385738917,-0.7985511963337173,0.7401890160448027,1.0464610487244599,1.5021790732538296,1.647935040613426,-0.7265957187764482,0.26233084457473466,0.8342846405427696,0.210670501713106,-1.639876780080246,-0.4904341514090013,1.1387116609773689,0.3841016527485748,-1.518105971906406,0.8269045915625373,0.6645435139974175,1.0999664038311472,-2.150945171961361,0.5796729507247415,-0.8760417106261605,1.2180471875148706,-0.8372964534799389,-0.6454151799938883,-0.5439395065156886,1.6829902732695312,1.4117734732459792,-0.45906894324301256,-0.2598076207767292,-0.20630226567004195,0.2198955629383969,-0.3834234411956274,1.5667545018308657,-0.6251200452982485,1.2549474324160341,-1.2837894167840176,-1.1823137433058177,0.32690627315177084,0.2512607711043857,1.5427693426451103,0.3232162486616547,0.4062417996892727,-0.112206641172075,-1.4406154576139627,0.9781955956573076,-0.09191150647643516,0.03539433843257917,0.02247925271717162,0.8914800201395735,-0.35390324527469613,-0.07899642076102813,-1.154638559629945,-0.5033492371244089,1.539079318154993,-0.6952305106104589,-0.22106236363050757,-0.5955998493773178,-0.6343451065235394,-0.817001318784299,-1.0107276045154074,-0.10113656770172605,1.5815145997913314,-0.6675553269345863,-0.3981835391560925,0.050154436393044274,-0.7026105595906917,-1.3133096127049486,-0.23213243710085651,-1.9978091556215323,-0.2837927799624857,-0.4627589677331287,0.4320719711200873,-0.04209617585986458,-0.8557465759305206,1.1793019303686492,-0.20630226567004195,-1.2524242086180288,0.49295737520700683,-0.42032368609679094,0.7660191874756173,-0.25427258404155495,-0.4553789187528959,-0.9978125188000001,-1.0088825922703493,-0.00519593095870104,1.2254272364951035,0.4874223384718326,0.13502499966572085,0.23281064865380394,0.07598460782385887,-0.44799886977266357,0.44129703234537815,0.19037536701746616,0.3508914323375274,-0.3834234411956274,-0.769031000412786,-0.7413558167369133,-0.03840615136974792,-1.1786237188157016,-2.3612765678979932,-0.8815767473613352,-1.3465198331159958,-0.38157842895056876,-0.06792634729067865,0.25495079559450234,-0.769031000412786,1.3379729834436522,-0.30224290241306745,0.4394520201003201,-0.07530639627091146,-1.859433237242169,0.8564247874834681,0.688528673183174,-2.241350771969212,-0.11589666566219167,1.0575311221948094,1.0667561834201003,-0.38526845344068544,-0.40925361262644144,-0.6472601922389464,-1.879728371937809,-1.829913041321238,0.19960042824275706,0.5519977670488688,0.5409276935785199,-1.215523963716865,0.4265369343849125,-0.817001318784299,-1.5125709351712315,-0.23951248608108935,-1.4277003718985557,-0.6085149350927248,1.3158328365029544,-0.29670786567789276,-0.3409881595592891,-1.8059278821354818,0.07967463231397554,0.013254191491880733,-0.5845297759069683,-1.2653392943334358,-2.237660747479095,0.6128831711357884,0.6368683303215449,-0.42585872283196513,-0.9479971881834295,-2.483047376071833,-0.1546419228084133,0.474507252756425,0.9837306323924824,-0.4793640779386524,0.43391698336514534,-1.72659235559798,-0.6048249106026087,-0.49227916365405944,0.688528673183174,-0.12327671464242397,1.548304379380284,0.3711865670331672,0.4505220935706691,-1.8668132862224016,-1.0015025432901166,0.7678641997206753,-0.7468908534720881,-0.363128306499987,1.103656428321264,0.2420357098790948,-1.5347110821119299,1.8619564610401742,1.2143571630247545,-0.5162643228398159,0.1940653915075823,-1.193383816776167,-1.2118339392267488,0.8840999711593407,0.8213695548273626,-0.47198402895841957,0.2032904527328732,-0.40925361262644144,1.1221065507718457,0.5981230731753232,-1.213678951471807,-0.08822148198631902,-0.33360811057905626,0.9449853752462603,0.9800406079023657,2.337969620265184,1.0575311221948094,-0.4793640779386524,-0.36866334323516176,-0.47567405344853625,0.9708155466770748,0.4136218486695055,0.1368700119107789,0.3158361996814219,0.9708155466770748,-0.24873754730638023,-0.7099906085709246,0.9560554487166097,-0.4553789187528959,1.1719218813884162,-0.44799886977266357,-0.9406171392031967,1.0796712691355075,1.0870513181157402,-0.7081455963258665,-0.3944935146659763,-1.320689661685181,0.44867708132561096,-0.7819460861281936,-1.7690276372343183,0.26602086906485134,-0.17862708199416927,0.6331783058314288],\"y\":[-0.058618850397207885,-0.09591619935677599,-1.5544388455125142,-2.7185087367242944,-1.0224608682470966,0.3968014105827801,2.9075019010715946,-1.9097451698115568,0.424283667710883,-0.7260450949368458,-1.8744108392182817,0.9268163694819044,2.0967753157925637,1.5805014854574906,0.34968896979174674,0.24368597801192235,-0.802602811222275,0.771737918544753,-2.5025767164320585,0.879703928690871,1.5059067875383554,-0.18228900747367044,-0.8811235458739971,1.1348963163089678,-1.2501709987370913,0.021864902620807165,-3.3211553751762617,-0.10573129118824126,0.3320218044951097,0.45765497993786464,-0.25099465029392726,1.4018668141248234,-0.6593024704828819,1.6060207242193005,-0.6887477459772777,0.4988783656300192,0.24761201474450822,-1.2913943844292453,0.33005878612881623,1.3626064467989625,0.21031466578494012,1.3174570243742219,0.9601876817088866,-0.40018404613219916,-0.45122252365581844,-0.5984489011277974,-0.43551837672547433,-0.24706861356134083,-0.7358601867683111,-0.6063009745929697,0.24368597801192235,0.11805280256916686,0.3241697310299374,-0.5866707909300392,-0.23921654009616908,-1.0106827580493385,0.5165455309266562,0.4498029064726929,-0.8870126009728765,2.024143636239721,0.08664450870847813,-1.2619491089348494,1.1643415918033637,0.15927618826132087,-1.511252441454067,-0.1076943095545342,-0.5375953317727129,-0.4315923399928879,-0.1921040993051357,-2.3435722287623215,0.13571996786580445,1.0171152143313846,-1.5976252495709613,-0.5238542032086617,-0.2588467237590996,-0.7044518929076223,-1.030312941712269,2.2930771524218687,0.4498029064726929,-0.1862150442062563,0.11020072910399453,-0.9439401335953745,-0.8418631785481361,0.528323641124415,-1.150057062056145,-0.33147840331194234,-1.336543806853985,-1.77037086580475,0.569547026816569,-0.13125052995005118,-0.7594164071638281,0.33987387796028146,0.5891772104794996,0.015975847521927784,0.04345810465003063,-0.5317062766738335,0.3359478412276956,0.19068448212200959,-1.4445098170001032,-0.9498291886942539,1.4921656589743033,0.3928753738501942,-0.09591619935677599,-0.09591619935677599,-0.7908247010245167,0.3123916208321792,-0.7515643336986557,0.4125055575131248,0.944483534778542,-1.067610290671837,1.8003595424823133,0.9150382592841462,-0.33344142167823526,-0.5532994787030575,0.8070722491380282,0.8051092307717354,-1.2756902374989005,-1.0165718131482178,0.2633161616748529,-0.7280081133031387,0.84044356136501,-0.13910260341522293,0.4537289432052788,-1.0008676662178733,-0.616116066424435,-0.19603013603772157,-0.12339845648487885,1.8042855792148993,0.277057290238904,0.732477551218892,1.0583386000235393,0.8757778919582851,1.3370872080371525,-2.671396295933261,-0.7299711316694323,-0.25492068702651316,-0.39036895430073393,-2.153159447231895,-0.10376827282194832,0.05523621484778884,-0.6632285072154683,-0.45907459712099075,-0.35699764207375223,-0.45907459712099075,0.3948383922164872,2.5090091727141046,-0.32166331148047705,-0.427666303260302,1.1211551877449166,0.18479542702313076,-0.26866181559056485,-0.9517922070605469,0.9091492041852668,0.9268163694819044,0.8659628001268198,-1.7154063515485445,-0.427666303260302,-0.27455087068944367,0.4674700717693299,-1.7723338841710432,-0.9380510784964957,-0.5081500562783171,0.8208133777020794,-0.6318202133547796,0.8698888368594058,-0.2117342829680662,0.3948383922164872,1.7846553955519686,0.3261327493962303,0.3909123554839013,0.7835160287425118,-1.6015512863035475,0.008123774056756019,-0.6239681398896073,-2.2002718880229284,-0.3530716053411658,-0.46103761548728367,-0.6651915255817613,-1.9274123351081942,-0.9949786111189943,-0.5572255154356434,0.6382526696368258,1.4254230345203398,-0.551336460336764,0.9719657919066448,0.6853651104278592,0.1749803351916655,-1.1245378232943357,0.21424070251752655,1.170230646902243,-0.1449916585141023,-0.5866707909300392,-0.49048289098167946,0.4812112003333816,-0.40018404613219916,0.6834020920615657,0.6676979451312216,-0.10965732792082715,0.14946109642985558,0.5008413839963122,0.36735613508838433,-0.7947507377571027,1.7277278629294694,-0.37073877063780336,-1.4209535966045865,0.1749803351916655,-1.3345807884876921,-1.3993603945753632,-0.1253614748511718,-1.3149506048247617,-0.40214706449849213,0.9287793878481972,-0.3157742563815977,0.359504061623212,-1.7664448290721637,1.808211615947485,1.0445974714594874,0.9641137184414724,-0.19799315440401452,1.1388223530415538,-0.08806412589160367,-0.6063009745929697,1.568723375259733,0.09842261890623633,2.0771451321296333,1.3743845569967201,1.1074140591808654,0.22601881271528476,1.1545264999718983,-0.4433704501906461,1.1093770775471579,0.9071861858189738,-0.8929016560717553,0.37520820855355663,0.689291147160445,0.32809576776252325,0.7894050838413906,2.2086673626712674,1.2507143999202586,-0.9341250417639093,-1.214836668143816,1.3959777590259441,-0.46692667058616305,-0.02328451980393327,1.0897468938842279,-0.7594164071638281,-0.47674176241762833,-2.296459787971288,-0.4158881930625438,-1.5191045149192393,-0.8870126009728765,-0.7476382969660693,0.08468149034218463,0.6657349267649286,-0.45514856038840484,0.09253356380735694,-2.3769435409893034,0.528323641124415,0.21031466578494012,1.2624925101180162,0.6264745594390676,0.26135314330855935,1.2507143999202586,1.0406714347269017,0.6245115410727742,1.3233460794731013,0.4399878146412276,0.5793621186480342,0.2024625923197678,-1.6133293965013058,0.277057290238904,-0.7790465908267585,-0.18425202583996336,-0.88308656424029,-1.0872404743347677,2.4010431625679867,0.917001277650439,0.3928753738501942,1.4450532181832705,1.3704585202641342,0.7481816981492366,0.8522216715627687,-0.4747787440513354,0.0944965821736499,-2.100157951341983,-1.3679521007146744,0.3634300983557984,-1.7585927556069918,-0.7299711316694323,0.8168873409694936,-0.7751205540941721,-1.7801859576362151,0.9994480490347476,-0.06647092386238021,-1.1618351722539038,-0.01739546470505389,-1.4994743312563086,-0.10965732792082715,2.4854529523185884,1.256603455019137,-0.4747787440513354,1.6236878895159386,-1.179502337550541,-1.7075542780833721,0.3123916208321792,1.4313120896192193,1.6138727976844733,-0.35896066044004515,-0.49244590934797244,0.06701432504554761,-1.5995882679372542,1.980957232181274,2.556121613505139,-0.9105688213683929,1.2821226937809467,0.40857952078053833,-0.24706861356134083,-0.08610110752531074,0.6991062389919104,-1.295320421161831,0.014012829155634843,0.901297130720095,1.248751381553965,0.38698631875131484,-1.5701429924428585,0.3968014105827801,-0.09984223608936188,0.3889493371176078,-0.0036543361410027436,1.0701167102212974,-0.7024888745413294,0.9484095715111278,-1.258023072202263,-1.0577951988403718,-0.7653054622627069,-0.7437122602334834,-0.7064149112739153,-0.8300850683503779,1.0485235081920738,-0.5238542032086617,1.0936729306168145,0.610770412508723,-1.3463588986854504,1.8101746343137786,0.18479542702313076,0.5911402288457924,-1.6839980576878557,-0.3942949910333198,-0.427666303260302,1.708097679266539,0.8639997817605269,0.4851372370659675,-1.0774253825033024,-0.8929016560717553,-1.4621769822967405,0.7108843491896686,0.424283667710883,0.04934715974891001,1.5490931915968025,0.08664450870847813,0.2633161616748529,-0.12928751158375767,2.0967753157925637,0.47728516360079515,-0.9144948581009787,-0.9007537295369276,0.5656209900839826,-0.9635703172583051,-0.6396722868199514,-0.35110858697487285,-0.8457892152807219,2.683717807314187,0.053273196481495894,0.36735613508838433,1.0328193612617294,-3.1052233548840262,1.5844275221900777,-1.0734993457707165,-0.34129349514340757,0.318280675931058,-0.6357462500873655,0.9523356082437142,0.901297130720095,0.10234865563882221,-0.08806412589160367,1.1506004632393125,-1.5799580842743237,2.0300326913386004,0.26135314330855935,-1.2501709987370913,2.1517398300487693,1.252677418286551,-2.0039700513936234,1.119192169378623,-0.2235123931658244,-0.23921654009616908,-0.7810096091930515,-0.06843394222867315,-0.45318554202211137,1.464683401846201,0.944483534778542,-0.0016913177747092446,0.5185085492929498,-0.40018404613219916,0.5754360819154478,2.6424944216220325,-0.3373674584108217,-0.88308656424029,-0.1430286401478094,-0.7005258561750365,0.06701432504554761,-2.7773992877130858,1.9534749750531706,-2.100157951341983,1.0544125632909527,-0.7554903704312416,-0.9419771152290816,-1.3679521007146744,-0.6377092684536584,0.01008679242304896,0.8954080756212156,-0.6789326541458124,1.278196657048361,1.7453950282261077,0.9464465531448348,-0.9066427846358069,0.648067761468291,0.42232064934459,-0.0036543361410027436,-0.8987907111706347,-0.12732449321746472,-1.110796694730284,0.3968014105827801,0.5165455309266562,-0.7790465908267585,0.33987387796028146,-0.5788187174648669,0.5813251370143272,1.7571731384238654,-2.1727896308948256,0.4753221452345022,-0.1253614748511718,-1.4307686884360518,-1.0362019968111484,-1.3031724946270034,-0.037025648367984415,0.19853655558718192,1.2703445835831892,0.3712821718209708,-0.44140743182435316,-1.428805670069759,-1.9450795004048318,1.1152661326460374,0.08860752707477107,-1.9038561147126773,-0.09591619935677599,-1.915634224910436,-1.3542109721506226,-0.7044518929076223,0.732477551218892,-1.3797302109124325,-0.6612654888491754,0.544027788054759,-0.9851635192875291,-0.2294014482647038,-0.22547541153211736,-1.1009816028988189,0.9503725898774213,-1.6467007087282877,0.6991062389919104,-0.37662782573668274,-0.9792744641886497,-0.26277276049168546,-0.009543391239881568,-1.3463588986854504,-0.1489176952466882,1.4941286773405966,-1.8626327290205233,-0.28240294415461603,-0.18817806257254927,-1.3993603945753632,-0.8104548846874473,-0.7162300031053805,-0.2156603197006521,-0.1449916585141023,0.6009553206772578,-0.09984223608936188,0.4537289432052788,-0.9400140968627887,0.32024369429735094,1.9122515893610172,-2.396573724652234,0.22209277598269833,-0.10180525445565539,0.36931915345467725,-0.5984489011277974,-0.11554638301970653,-0.7201560398379669,-0.13713958504893,0.730514532852599,-0.45907459712099075,-0.0036543361410027436,-0.5827447541974533,1.808211615947485,-1.318876641557348,-1.336543806853985,-0.6004119194940903,-0.013469427972468008,0.7933311205739771,0.1612392066276138,-0.2215493747995315,1.5353520630327513,0.7894050838413906,-0.7240820765705529,0.8051092307717354,0.9798178653718171,-1.5976252495709613,-0.08610110752531074,1.3704585202641342,-0.29221803598608126,-0.27455087068944367,-0.7024888745413294,-1.5406977169484626,0.8188503593357864,0.7737009369110466,0.8424065797313034,-0.3785908441029757,1.382236630461893,0.5263606227581215,1.3154940060079285,0.36735613508838433,0.15338713316244149,-1.6172554332338918,0.4439138513738135,0.9778548470055236,-0.18228900747367044,0.12983091276692507,-0.031136593269105034,-0.7594164071638281,0.2868723820703693,0.33005878612881623,-0.32558934821306296,0.01008679242304896,-0.5886338092963321,1.2428623264550858,-0.11554638301970653,-1.621181469966478,0.44783988810639935,0.3614670799895055,0.771737918544753,1.352791354967497,-1.3934713394764837,1.1584525367044842,-1.2285777967078673,0.4026904656816595,0.03953206791744475,2.324485446282558,1.0445974714594874,0.3712821718209708,0.021864902620807165,-0.8654193989436524,-0.5552624970693505,0.8286654511672518,0.7776269736436324,-1.8371134902587138,-1.9117081881778497,1.4921656589743033,0.13964600459839033,-0.7201560398379669,0.045421123016323575,-2.433871073611802,-3.071852042657044,-0.9144948581009787,-1.5014373496226017,-1.3326177701213993,0.22209277598269833,0.3437999146928679,-0.5297432583075405,0.5832881553806202,0.3222067126636445,-1.6643678740249253,0.1612392066276138,0.4929893105311398,-0.7358601867683111,2.0516258933678233,0.4262466860771759,1.3763475753630134,-0.989089556020115,0.6794760553289798,-1.3934713394764837,-0.7397862235008975,-0.15676976871186052,1.2624925101180162,-2.895180389690669,1.435238126351805,0.6971432206256174,-0.3962580093996133,-0.08610110752531074,-0.6867847276109847,-0.4944089277142659,-0.07628601569384547,-0.9360880601302027,-0.32755236657935644,-0.5709666439996945,1.331198152938273,-0.9046797662695135,0.8031462124054424,1.0053371041336265,-0.5061870379120241,0.6991062389919104,-1.279616274231487,0.8875560021560434,2.410858254399452,0.07486639851071937,-0.7810096091930515,-0.29025501761978834,0.04345810465003063,1.7650252118890382,1.0897468938842279,-1.1186487681954564,0.84044356136501,-0.22547541153211736,1.2644555284843098,0.7697749001784602,-3.0993342997851467,-0.8222329948852055,0.18872146375571663,-0.8811235458739971,0.004197737324169579,0.18086939029054433,-1.2207257232426953,0.3614670799895055,-0.07039696059496608,-1.7821489760025084,-0.6671545439480542,-0.7280081133031387,-0.4433704501906461,-1.5701429924428585,1.755210120057573,-1.1539830987887316,1.5962056323878353,-1.662404855658632,0.3261327493962303,-1.4072124680405353,-0.616116066424435,0.381097263652436,-1.1402419702246798,-2.3474982654949077,-1.8508546188227653,-0.08610110752531074,-0.8909386377054623,-1.0833144376021817,0.5538428798862244,2.1360356831184246,-1.318876641557348,0.4439138513738135,0.6578828532997564,-0.20977126460177328,-0.41392517469625034,0.8051092307717354,-1.179502337550541,0.12786789440063212,-1.0872404743347677,-0.88308656424029,0.4360617779086412,0.8227763960683729,-0.7829726275593445,1.6786524037721433,-0.28240294415461603,-1.662404855658632,-0.2568837053928061,2.35785675850954,-0.6789326541458124,0.04345810465003063,0.9366314613133696,-0.26866181559056485,1.2134170509606899,0.4812112003333816,-0.7338971684020181,-0.36877575227151044,1.386162667194479,-1.3581370088832092,0.2829463453377834,0.7697749001784602,-0.9930155927527009,0.4753221452345022,2.0791081504959266,-1.0813514192358882,-1.6722199474900972,-0.25295766866022024,0.9719657919066448,-0.9773114458223567,-1.1539830987887316,0.6618088900323422,-0.9439401335953745,0.027753957719686546,0.6304005961716536,-0.698562837808743,-0.6435983235525378,-0.6494873786514166,-1.110796694730284,2.298966207520748,-0.09591619935677599,0.06308828831296116,-0.6416353051862449,1.7473580465924001,-0.037025648367984415,-2.325905063465684,0.10038563727252928,-0.9419771152290816,0.8581107266616476,-0.11554638301970653,-0.8929016560717553,-0.09199016262419012,1.2251951611584486,1.7826923771856753,0.3045395473670069,-0.5611515521682293,-1.1677242273527826,0.2652791800411458,0.15338713316244149,-0.6946368010761571,0.21424070251752655,0.4026904656816595,0.027753957719686546,-0.33344142167823526,0.21227768415123305,0.8208133777020794,1.2978268407112914,0.5499168431536384,-0.6808956725121059,-0.42177724816142265,-0.41785121142883674,1.1034880224482797,-0.15676976871186052,-2.7832883428119652,-1.3051355129932964,-0.029173574902812093,-0.2333274849972897,-2.1708266125285327,-1.06957330903813,-0.989089556020115,-1.6035143046698404,0.06701432504554761,0.46550705340303694,-0.4433704501906461,0.6441417247357046,0.3477259514254538,0.17105429845907905,-0.9596442805257192,-0.4944089277142659,0.9248533511156114,0.4105425391468318,-0.4944089277142659,0.5165455309266562,0.07290338014442642,0.4066165024142454,0.9248533511156114,0.12983091276692507,0.44587686974010643,-0.30988520128271885,-0.037025648367984415,0.7638858450795813,-0.5886338092963321,-0.9989046478515803,-0.03506263000169148,0.44587686974010643,-0.09395318099048305,-0.6789326541458124,1.421496997787754,0.8561477082953546,0.10038563727252928,-0.4080361195973715,-2.351424302227494,1.1466744265067266,-0.8791605275077041,1.8141006710463645,1.3076419325427566,-0.23921654009616908,0.7128473675559615,0.585251173746913,-1.5230305516518254,0.4439138513738135,0.4674700717693299,-1.214836668143816,-1.1579091355213174,0.19853655558718192,1.0995619857156926,-0.054692813664622,0.4674700717693299,0.45765497993786464,-0.23529050336358262,-0.6121900296918491,0.25546408820968053,-0.9341250417639093,-0.6907107643435711,-1.2109106314112301,-0.5415213685052988,0.13375694949951095,0.0944965821736499,0.32809576776252325,-0.46692667058616305,0.12394185766804568,-0.8948646744380482,-0.41785121142883674,-1.134352915125801,0.84044356136501,-1.3856192660113114,1.7473580465924001,-0.6514503970177101,0.1082377107377016,0.25546408820968053,-0.38447989920185455,-0.6416353051862449,1.3900887039270646,-1.9274123351081942,-0.11750940138599947,-0.21762333806694503,0.754070753248116,-0.8516782703796013,-0.09199016262419012,-1.0244238866133901,-0.6887477459772777,0.8188503593357864,0.3261327493962303,0.5597319349851038,0.7678118818121672,0.4537289432052788,-2.8343268203355847,0.15731316989502792,-0.6769696357795195,0.6853651104278592,-1.3816932292787256,0.25939012494226643,0.2652791800411458,0.6382526696368258,1.1290072612100885,0.4007274473153666,0.09253356380735694,-0.09984223608936188,0.09842261890623633,-0.3962580093996133,0.799220175672856,0.9680397551740584,-0.6220051215233143,0.6951802022593244,0.5263606227581215,0.24957503311080118,0.4812112003333816,0.03756904955115181,-0.6298571949884861,0.7815530103762184,-0.3373674584108217,0.07486639851071937,1.1211551877449166,0.5832881553806202,-0.6200421031570208,1.0740427469538834,0.15927618826132087,-0.09591619935677599,0.5832881553806202,1.0563755816572458,0.60880739414243,-0.20584522786918683,0.26724219840743874,0.60880739414243,-1.3954343578427766,-0.5984489011277974,-0.31184821964901177,-0.30203312781754654,0.9307424062144908,0.7913681022076836,-0.7476382969660693,0.25546408820968053,-0.7123039663727947,1.0779687836864698,1.7983965241160198,1.252677418286551,0.33791085959398853,0.012049810789341902,0.8561477082953546,1.521610934468699,1.2212691244258629,-0.9105688213683929,0.2692052167737317,-1.4955482945237226,0.6539568165671699,-0.011506409606174509,-1.2482079803707977,-0.24314257682875495,0.7913681022076836,0.21816673925011243,0.6402156880031188,1.3194200427405154,-0.7594164071638281,0.6775130369626868,0.39876442894907305,2.51882426454557,-0.49637194608055885,-1.2285777967078673,-0.9282359866650305,1.2212691244258629,-0.28240294415461603,0.09057054544106401,-0.7672684806289998,1.0445974714594874,-0.47870478078392126,-0.6926737827098641,-2.3847956144544753,0.2829463453377834,1.460757365113615,0.19853655558718192,-0.5002979828131447,-0.054692813664622,0.4046534840479524,0.5381387329558802,-0.31773727474789115,0.6029183390435506,-1.0440540702763206,0.8698888368594058,0.5577689166188108,-1.46806603739562,0.27116823514002464,0.32024369429735094,1.339050226403446,0.019901884254514224,-2.1629745390633603,-0.16658486054332577,0.1867584453894237,-0.7338971684020181,1.2134170509606899,0.017938865888221283,0.318280675931058,0.4380247962749341,0.7874420654750978,0.07486639851071937,-1.5014373496226017,0.6284375778053606,-2.618394800043349,0.730514532852599,0.463544035036744,-0.41392517469625034,-0.10965732792082715,1.2153800693269834,-0.7476382969660693,0.5008413839963122,-0.23921654009616908,-2.5398740653916265,1.4116819059562886,-1.5171414965529462,1.7434320098598142,1.1721936652685365,-0.7535273520649487,0.3968014105827801,-0.9282359866650305,-1.1009816028988189,-0.8713084540425318,0.5263606227581215,-1.4248796333371727,-0.08021205242643135,1.3370872080371525,-0.7751205540941721,-0.1626588238107399,0.5381387329558802,0.36931915345467725,-0.05665583203091494,0.08468149034218463,-2.0039700513936234,0.4713961085019163,1.3626064467989625,0.6323636145379464,0.22994484944787064,-0.15676976871186052,0.6441417247357046,0.08075545360959875,1.8926214056980866,-0.1921040993051357,-0.3354044400445282,-1.150057062056145,0.3163176575647651,0.4144685758794177,-0.802602811222275,-0.10180525445565539,-0.5690036256334016,1.7493210649586937,-0.07432299732755253,1.439164163084391,0.8541846899290616,0.6735870002301004,0.3771712269198496,0.6951802022593244,0.838480542998717,0.16712826172649317,-0.2706248339568578,-0.22743842989841032,-1.0636842539392513,-0.5670406072671087,-0.5709666439996945,-0.7476382969660693,1.6649112752080921,0.4066165024142454,-0.26669879722427137,-0.9635703172583051,-1.6368856168968224,2.5855668889995345,0.691254165526738,-1.5583648822451002,0.18479542702313076,-0.19603013603772157,-0.8575673254784807,1.2546404366528445,0.13964600459839033,0.3025765290007139,0.730514532852599,-1.546586772047342,0.3889493371176078,0.12590487603433917,-0.7260450949368458,-1.2383928885393325,1.9848832689138598,-0.36092367880633813,-0.8575673254784807,-2.320016008366805,0.012049810789341902,0.6225485227064812,-0.1332135483163441,-1.3267287150225198,-0.9478661703279609,-0.7319341500357252,-0.6671545439480542,-1.2069845946786437,0.46550705340303694,-0.47870478078392126,1.3096049509090502,1.8867323505992073,-0.6769696357795195,2.020217599507135,-0.26473577885797844,1.2094910142281041,-1.0342389784448554,1.916177626093603,0.041495086283737694,1.5137588610035273,-0.7319341500357252,0.38698631875131484,-0.6377092684536584,-0.6337832317210725,1.4568313283810292,-0.48066779915021424,-0.386442917568148,2.0692930586644613,0.4203576309782971,0.14749807806356266,-0.7908247010245167,-1.1186487681954564,-0.005617354507295684,0.5558058982525172,-0.5238542032086617,0.862036763394234,-0.5532994787030575,-0.07039696059496608,0.21227768415123305,-1.322802678289934,0.6873281287941522,-0.2863289808872019,-0.18817806257254927,-1.9411534636722456,-1.279616274231487,-0.6435983235525378,0.21816673925011243,0.11412676583658042,-0.39036895430073393,-0.6769696357795195,1.5274999895675783,-0.5572255154356434,0.38698631875131484,0.2809833269714899,-1.2462449620045049,-1.1932434661145925,0.918964296016732,0.7049952940907898,-0.4571115787546978,-1.3973973762090701,-1.7212954066474235,-1.6251075066990641,-0.05665583203091494,0.5165455309266562,-0.6416353051862449,-0.47870478078392126,-0.9007537295369276,-0.7103409480065017,-0.07235997896125959,-0.5984489011277974,0.9680397551740584,-0.9655333356245985,0.09253356380735694,-0.07432299732755253,0.1749803351916655,-1.6447376903619948,2.393191089102815,1.2153800693269834,-1.5721060108091518,1.8710282036688626,-1.1127597130965776,-0.6514503970177101,-0.9164578764672723,-0.031136593269105034,-0.5356323134064199,1.5706863936260254,-1.2855053293303658,0.08860752707477107,0.5989923023109648,-0.3962580093996133,0.14946109642985558,0.6971432206256174,0.19657353722088897,0.6735870002301004,1.8356938730755874,-0.6377092684536584,1.1054510408145721,0.6362896512705329,0.24957503311080118,-0.533669295040127,-0.7574533887975345,-0.16462184217703285,-1.1677242273527826,0.9464465531448348,0.012049810789341902,-0.6259311582559002,1.837656891441881,-0.03898866673427736,-0.6357462500873655,-1.6643678740249253,1.4313120896192193,0.023827920987100105,-1.1579091355213174,-0.7731575357278792,0.6971432206256174,2.3912280707365214,0.2888354004366622,-1.2030585579460578,-0.48263081751650716,0.7874420654750978,-0.5081500562783171,-1.8567436739216443,0.714810385922255,0.29668747390183453,-0.7417492418671905,-1.2128736497775232,0.9287793878481972,0.6146964492413088,-0.8320480867166707,-1.214836668143816,-0.8654193989436524,-0.34718255024228695,-0.7986767744896891,0.7442556614166508,-1.511252441454067,-0.5552624970693505,-0.5022610011794377,1.378310593729307,-0.32166331148047705,1.5235739528349925,-0.6239681398896073,0.4046534840479524,-0.6514503970177101,0.9621507000751796,0.5499168431536384,1.4195339794214605,0.8051092307717354,-1.0852774559684746,-1.150057062056145,-0.885049582606583,-0.27455087068944367,0.36735613508838433,0.20049957395347484,-0.09199016262419012,0.004197737324169579,0.17694335355795843,-0.6082639929592627,-0.7888616826582239,-1.6761459842226833,-0.18817806257254927,-1.5858471393732032,1.1427483897741406,0.983743902104403,0.26135314330855935,-1.81552028822949,0.8325914878998382,0.16320222499390674,-1.0224608682470966,1.4902026406080109,-1.7487776637755263,0.3163176575647651,-0.8104548846874473,0.6951802022593244,-0.5847077725637463,1.0995619857156926,1.174156683634829,1.3802736120955994,1.9279557362913617,0.131793931133218,0.8914820388886298,-1.2992464578944176,0.20835164741864717,1.1329332979426754,-0.6278941766221932,1.148637444873019,-0.6396722868199514,0.9052231674526808,0.15535015152873496,-0.5847077725637463,-1.5132154598203602,-0.5061870379120241,0.4812112003333816,1.195749885664053,0.6343266329042394,0.714810385922255,-0.8732714724088247,1.4293490712529258,-2.192419814557756,0.9739288102729378,0.3850233003850219,0.10038563727252928,-0.8497152520133083,-0.6357462500873655,1.6786524037721433,-0.8084918663211543,-0.6102270113255556,-1.1853913926494202,0.4340987595423482,0.8051092307717354,0.5243976043918286,0.22012975761640538,0.12786789440063212,1.1545264999718983,1.2251951611584486,-1.2678381640337282,0.14749807806356266,0.9209273143830256,-0.6435983235525378,-0.013469427972468008,0.544027788054759,1.2094910142281041,0.5989923023109648,-1.44254679863381,-0.08021205242643135,0.797257157306563,0.45961799830415817,0.7442556614166508,-0.7221190582042599,0.3241697310299374,0.3143546391984721,-1.1461310253235593,-0.17639995237479106,-0.6887477459772777,0.877740910324578,-1.2069845946786437,-0.9400140968627887,-0.47870478078392126,0.07682941687701286,-0.058618850397207885,-0.6534134153840031,1.3174570243742219,0.22994484944787064,1.4744984936776662,0.44783988810639935,1.0288933245291434,-0.30203312781754654,-2.4044257981174058,-1.848891600456472,-0.48066779915021424,-0.49637194608055885,0.19461051885459602,-0.8006397928559821,-0.6435983235525378,1.0347823796280222,-0.6534134153840031,-1.1402419702246798,1.9888093056464458,1.2624925101180162,1.378310593729307,1.3999037957585299,1.4018668141248234,1.199675922396639,-0.9969416294852873,0.4713961085019163,1.0269303061628499,0.36735613508838433,-1.5014373496226017,1.021041251063971,0.5989923023109648,-0.08217507079272485,-0.6867847276109847,-0.5002979828131447,0.5145825125603632,0.004197737324169579,0.6186224859738954,-0.4983349644468518,1.6177988344170593,-1.2855053293303658,-1.2442819436382118,-2.1943828329240493,1.091709912250521,0.21227768415123305,-0.9459031519616681,-2.653729130636624,0.7246254777537202,-0.924309949932444,0.5872141921132066,0.33398482286140263,-1.1952064844808856,-1.7114803148159583,-0.03309961163539853,-1.336543806853985,-0.005617354507295684,-0.19014108093884274,0.047384141382617075,-1.4445098170001032,-0.9321620233976163,-0.05272979529832906,0.07486639851071937,-2.1570854839644813,1.464683401846201,-0.802602811222275,0.17105429845907905,0.27116823514002464,-1.7095172964496654,-0.8909386377054623,-0.23529050336358262,-0.7417492418671905,-1.4602139639304477,0.0022347189578766375,-0.4865568542490936,0.09645960053994339,1.119192169378623,0.047384141382617075,0.22012975761640538,0.836517524632424,1.3429762631360318,-0.36092367880633813,0.4890632737985539,0.12983091276692507,0.07290338014442642,-1.5779950659080308,1.3233460794731013,-2.967812069243512,0.9660767368077654,0.8149243226032006,-0.01935848307134683,-0.23725352172987557,0.8993341123538015,-0.31970029311418413,0.24564899637821527,0.771737918544753,-1.0067567213167525,-0.0841380891590178,-0.427666303260302,-1.134352915125801,1.0838578387853486,0.5891772104794996,0.5479538247873456,-1.25606005383597,-0.6514503970177101,-0.2882919992534954,0.20638862905235422,0.3222067126636445,-1.0185348315145109,1.2939008039787054,-0.8399001601818431,1.1329332979426754,1.9515119566868782,-1.3797302109124325,-0.12928751158375767,-0.11358336465341358,-0.7594164071638281,-0.2706248339568578,-0.7594164071638281,0.09253356380735694,0.08271847197589169,-1.2639121273011424,0.6441417247357046,0.19068448212200959,-0.29614407271866716,-0.2117342829680662,-0.12928751158375767,-0.2038822095028939,-0.5572255154356434,-1.026386904979683,1.174156683634829,-0.5434843868715923,0.9111122225515602,0.5872141921132066,-0.43551837672547433,-0.34325651350970054,-1.9804138309981065,-0.1332135483163441,-0.1253614748511718,1.564797338527147,0.8954080756212156,1.5294630079338718,0.17105429845907905,1.751284083324987,0.18086939029054433,-0.48066779915021424,-0.07235997896125959,1.2369732713562063,-0.1489176952466882,-0.6455613419188307,1.503943769172062,-0.1332135483163441,-0.3962580093996133,-0.6200421031570208,0.17694335355795843,-1.5642539373439794,0.2633161616748529,0.689291147160445,0.2652791800411458,-1.428805670069759,-0.42374026652771557,0.8247394144346658,1.3096049509090502,0.42820970444346884,1.3626064467989625,-1.4268426517034656,0.16712826172649317,0.7265884961200132,1.062264636756125,0.5989923023109648,-0.6239681398896073,-0.4315923399928879,2.238112638165663,-1.6820350393215626,0.7874420654750978,1.8631761302036909,-1.2030585579460578,-1.2678381640337282,-0.4747787440513354,-0.0036543361410027436,1.973105158716101,-2.0805277676790523,-0.2117342829680662,-0.36877575227151044,-0.46692667058616305,-0.9262729682987375,1.2840857121472402,0.23779692291304297,-0.2117342829680662,2.322522427916265,0.6814390736952728,0.6225485227064812,0.7422926430503572,-0.8536412887458943,-1.7095172964496654,-0.2333274849972897,1.4587943467473214,-0.6769696357795195,-0.12928751158375767,0.3123916208321792,-0.3000701094512536,0.6382526696368258,0.2319078678141636,0.8090352675043212,-0.4649636522198701,-1.4405837802675172,-1.4523618904652753,-0.7437122602334834,0.3104286024658857,1.4882396222417174,-0.8399001601818431,-0.7751205540941721,-0.39233197266702685,0.1082377107377016,-1.843002545357593,0.7737009369110466,1.009263140866213,-0.1449916585141023,-0.4257032848940091,0.4792481819670887,0.4753221452345022,0.4105425391468318,1.7277278629294694,0.11412676583658042,0.6794760553289798,-1.2501709987370913,0.3437999146928679,-1.5348086618495835,-0.5964858827615045,-0.6416353051862449,0.47728516360079515,-0.7260450949368458,-1.1166857498291634,-1.201095539579765,-0.40411008286478506,0.9052231674526808,-1.507326404721481,-0.35699764207375223,-0.9007537295369276,1.9259927179250682,1.305678914176463,0.8463326164638894,0.9935589939358682,0.07290338014442642,-0.6259311582559002,-0.058618850397207885,0.506730439095191,0.21816673925011243,-0.6867847276109847,-2.180641704359998,-0.21762333806694503,0.19657353722088897,-1.014608794781925,1.2330472346236205,-0.1430286401478094,-1.5014373496226017,0.11020072910399453,0.8325914878998382,1.651170146644041,1.2919377856124121,2.328411483015144,-0.45907459712099075,1.013189177598799,0.22012975761640538,0.5891772104794996,-0.31184821964901177,1.8062485975811917,0.42820970444346884,-0.364849715538924,-1.509289423087774,-0.38447989920185455,-1.58388412100691,-1.2246517599752813,0.6991062389919104,-1.5583648822451002,0.3968014105827801,-1.097055566166233,0.506730439095191,-0.5788187174648669,1.6649112752080921,-0.2588467237590996,-0.4198142297951297,-1.4248796333371727,0.9523356082437142,0.16909128009278612,-0.8045658295885679,-1.1245378232943357,-1.297283439528124,-0.22743842989841032,0.2319078678141636,0.4537289432052788,0.3143546391984721,0.9876699388369888,0.09057054544106401,-1.7821489760025084,-0.15284373197927464,-0.9360880601302027,-1.5681799740765656,-0.03506263000169148,-0.013469427972468008,-1.1049076396314053,0.4812112003333816,-0.5768556990985739,-0.09199016262419012,0.21816673925011243,0.1867584453894237,-0.44729648692323254,0.21816673925011243,-0.7044518929076223,-0.7594164071638281,-2.5752083959849017,-0.37270178900409634,-0.6475243602851237,0.650030779834584,-1.0342389784448554,0.059162251580375275,-0.31970029311418413,0.714810385922255,0.0650513066792541,1.036745397994315,0.4262466860771759,-0.18425202583996336,-0.5258172215749547,0.5538428798862244,1.2114540325943977,-0.8124179030537403,0.17890637192425138,-1.0852774559684746,0.09253356380735694,0.944483534778542,1.0190782326976782,-0.29221803598608126,2.224371509601612,0.1082377107377016,0.23779692291304297,-0.5984489011277974,-0.29221803598608126,-0.6494873786514166,-0.8889756193391694,-1.44254679863381,0.714810385922255,-0.17836297074108398,-1.6584788189260458,-0.44140743182435316,0.7383666063177714,0.3653931167220914,-0.8006397928559821,0.7010692573582032,1.5000177324394761,0.041495086283737694,-0.9753484274560639,0.6284375778053606,-0.8065288479548609,-0.5218911848423682,2.0300326913386004,0.6559198349334634,0.8208133777020794,-0.08217507079272485,0.8639997817605269,0.9091492041852668,-2.6380249837062792,-0.26277276049168546,0.25546408820968053,1.0328193612617294,0.0944965821736499,1.2840857121472402,-1.6192184516001848,0.9700027735403518,0.7403296246840644,-0.69659981944245,-1.0499431253751994,2.206704344304975,2.6562355501860835,-0.24314257682875495,1.1839717754662942,-0.20780824623547978,0.8698888368594058,-0.9184208948335651,1.5883535589226634,-1.2266147783415742,-0.9910525743864079,0.20049957395347484,-1.7173693699148374,1.2291211978910346,0.8561477082953546,0.3771712269198496,0.5008413839963122,-0.06647092386238021,0.33398482286140263,-0.01935848307134683,-2.0569715472835357,0.6146964492413088,-0.8457892152807219,1.4254230345203398,0.7501447165155296,-1.0401280335437342,-0.029173574902812093,-0.7868986642919303,-0.6200421031570208,0.01008679242304896,-0.8987907111706347,-0.9360880601302027,-0.1253614748511718,0.585251173746913,-0.7044518929076223,0.6539568165671699,-1.360100027249502,-0.34129349514340757,0.650030779834584,1.2821226937809467,1.0073001224999194,0.2515380514770941,1.3488653182349113,-2.351424302227494,-0.5002979828131447,-0.10965732792082715,-0.885049582606583,-1.1265008416606286,1.8298048179767092,-0.03898866673427736,-0.46692667058616305,1.7179127710980042,-0.924309949932444,1.6649112752080921,1.486276603875425,-0.037025648367984415,-1.0420910519100273,1.1074140591808654,-0.26866181559056485,-0.9282359866650305,0.7030322757244962,-0.08021205242643135,-0.058618850397207885,0.7246254777537202,0.03756904955115181,0.18086939029054433,0.9287793878481972,-0.1332135483163441,0.1435720413309762,0.8306284695335446,2.2557798034623016,0.5616949533513966,-0.6239681398896073,-0.3059591645501324,-0.9262729682987375,-1.0028306845841661,-0.8713084540425318,-2.14334435540043,0.48317421869967453,0.5911402288457924,0.22209277598269833,0.9111122225515602,0.650030779834584,-0.4649636522198701,-0.9282359866650305,-0.40214706449849213,-1.071536327404423,-0.5866707909300392,-1.177539319184248,0.8738148735919922,-0.7554903704312416,1.3331611713045666,-0.9832005009212356,-0.5631145705345227,1.708097679266539,-0.8614933622110665,1.833730854709295,0.12786789440063212,-0.9301990050313234,1.6943565507024878,1.2389362897224998,-1.3581370088832092,-0.3530716053411658,0.9876699388369888,1.305678914176463,-1.1480940436898521,-0.8752344907751177,0.019901884254514224,-0.8713084540425318,0.504767420728898,0.8129613042369076,1.1152661326460374,1.386162667194479,-0.4158881930625438,-0.007580372873588626,0.2279818310815777,-0.7299711316694323,-1.2619491089348494,-1.1186487681954564,0.650030779834584,-0.31773727474789115,0.20835164741864717,0.0944965821736499,-0.7770835724604651,0.17890637192425138,-1.0793884008695953,0.5499168431536384,-0.8634563805773595,0.3968014105827801,-0.42962932162659495,0.6618088900323422,-0.9910525743864079,1.0269303061628499,0.47728516360079515,-0.6396722868199514,0.16320222499390674,-0.36877575227151044,1.036745397994315,1.6649112752080921,1.3292351345719806,-0.5984489011277974,0.4556919615715717,1.235010252989914,2.3343005381140234,-0.15873278707815347,3.0193939479502983,0.4026904656816595,0.15338713316244149,-0.7162300031053805,-0.9871265376538221,0.6814390736952728,-0.6926737827098641,-0.19799315440401452,1.2585664733854305,-2.066786639115001,-0.4433704501906461,0.5754360819154478,-0.24903163192763433,0.8424065797313034,-1.1049076396314053,0.5145825125603632,0.051310178115202956,0.612733430875016,0.24761201474450822,-0.616116066424435,-0.07628601569384547,-1.1677242273527826,0.7933311205739771,0.20835164741864717,0.3555780248906261,0.5145825125603632,-0.11162034628712064,0.2240557943489918,0.00616075569046252,-1.218762704876402,-0.51011307464461,0.918964296016732,-0.43551837672547433,-0.6082639929592627,0.7638858450795813,-0.9478661703279609,-1.138278951858387,0.06701432504554761,-0.09199016262419012,-1.1657612089864897,0.7010692573582032,-0.3962580093996133,0.20049957395347484,0.012049810789341902,0.11412676583658042,-1.3915083211101908,-0.5729296623659881,1.8749542404014485,1.2114540325943977,-1.2069845946786437,-0.07235997896125959,0.5813251370143272,-0.36092367880633813,-1.6035143046698404,2.2027783075723892,-0.13517656668263706,0.8090352675043212,-1.0322759600785618,-0.27455087068944367,0.7128473675559615,-0.05665583203091494,0.2947244555355416,0.7521077348818226,-0.8300850683503779,1.0740427469538834,-0.07235997896125959,-0.655376433750296,1.144711408140433,-0.3059591645501324,0.3065025657332998,0.3634300983557984,-0.33933047677711464,0.5754360819154478,0.4046534840479524,0.2652791800411458,-0.29418105435237424,-0.9694593723571845,-0.26669879722427137,0.33398482286140263,-1.509289423087774,0.16909128009278612,-1.2226887416089884,0.6578828532997564,-1.509289423087774,-0.6750066174132265,0.23779692291304297,-0.6632285072154683,1.4627203834799074,2.289151115689283,-0.6494873786514166,-0.07039696059496608,-0.51011307464461,-0.9930155927527009,2.440303529893848,1.4509422732821498,0.13964600459839033,-0.5317062766738335,-2.0373413636206053,-1.108833676363991,-1.2855053293303658,0.7364035879514784,-0.04487772183315674,-0.5493734419704711,-1.4857332026922572,1.199675922396639,1.0818948204190557,-0.29418105435237424,-0.43944441345806023,-1.2639121273011424,0.24368597801192235,-2.184567741092584,-1.4327317068023449,-0.8654193989436524,-0.7633424438964139,-1.1952064844808856,-1.2246517599752813,-1.132389896759508,1.6629482568417997,0.4615810166704511,-0.009543391239881568,1.1034880224482797,-0.924309949932444,1.0524495449246598,0.22209277598269833,-0.9596442805257192,0.18872146375571663,0.3163176575647651,0.4851372370659675,-0.09787921772306894,-0.7456752785997763,0.03953206791744475,1.3743845569967201,-0.5690036256334016,-1.0401280335437342,1.2173430876932758,-0.9164578764672723,1.6276139262485245,-0.26277276049168546,-0.29418105435237424,1.2683815652168957,2.2184824545027326,2.4422665482601413,-0.9871265376538221,-1.320839659923641,-0.02328451980393327,0.6775130369626868,0.9641137184414724,1.0406714347269017,0.24368597801192235,0.2279818310815777,-0.6023749378603839,-0.5827447541974533,0.8502586531964752,0.2829463453377834,0.9130752409178532,-1.434694725168638,-1.9058191330789707,1.812137652680071,1.0936729306168145,0.46550705340303694,0.22209277598269833,-1.6584788189260458,0.60880739414243,-0.41392517469625034,-1.362063045615795,0.9876699388369888,0.16320222499390674,-1.3385068252202785,0.07094036177813348,0.21227768415123305,-0.9439401335953745,1.759136156790159,-0.9321620233976163,-1.8960040412475054,-1.132389896759508,0.25939012494226643,1.066190673488711,-0.11750940138599947,-0.7005258561750365,-0.09984223608936188,-0.26277276049168546,0.2927614371692487,0.0022347189578766375,0.4694330901356234,-1.0597582172066649,0.3241697310299374,-0.5297432583075405,-0.8713084540425318,-1.1206117865617493,0.019901884254514224,0.2750942718726111,-1.2619491089348494,0.2888354004366622,-0.09002714425789661,0.26135314330855935,0.131793931133218,0.17694335355795843,-1.110796694730284,-0.37073877063780336,0.3261327493962303,-0.47674176241762833,-1.4562879271978615,-0.06058186876350083,-0.23136446663099675,1.1839717754662942,-1.2344668518067465,0.9307424062144908,0.8129613042369076,2.063404003565582,-0.7790465908267585,-1.848891600456472,1.0975989673494002,1.166304610169657,0.2947244555355416,-1.5662169557102725,1.0033740857673334,-0.41392517469625034,-0.25295766866022024,-0.5415213685052988,-1.923486298375608,1.5117958426372338,0.7265884961200132,-0.7653054622627069,-1.324765696656227,-1.097055566166233,-0.15284373197927464,-1.1461310253235593,-0.8909386377054623,0.942520516412249,-0.9282359866650305,-0.1508807136129817,0.13964600459839033,-0.24706861356134083,1.3488653182349113,-1.1480940436898521,-1.2658751456674353,-0.26473577885797844,-1.9882659044632789,-0.30988520128271885,0.4262466860771759,-0.25295766866022024,0.9778548470055236,0.9523356082437142,1.2840857121472402,-0.7103409480065017,1.0328193612617294,-0.36877575227151044,1.464683401846201,0.5381387329558802,0.08860752707477107,0.6304005961716536,-1.1029446212651122,1.0053371041336265,-3.9336171054596942,2.084997205594806,0.16516524336020025,0.11805280256916686,-2.1669005757959465,1.1074140591808654,0.8031462124054424,1.1623785734370713,0.2986504922681275,-0.20977126460177328,-0.6063009745929697,-0.013469427972468008,0.18479542702313076,-0.49637194608055885,-0.7574533887975345,0.6146964492413088,-1.3483219170517438,0.359504061623212,-1.0126457764156314,0.2829463453377834,-0.6514503970177101,0.4733591268682093,-0.6514503970177101,1.5844275221900777,-0.9635703172583051,-0.4944089277142659,-1.2325038334404537,-0.5925598460289185,-0.17247391564220516,0.3025765290007139,1.0269303061628499,0.4851372370659675,-1.4307686884360518,-0.25295766866022024,-0.9419771152290816,1.0583386000235393,-1.0499431253751994,1.0485235081920738,1.733616918028349,-0.2117342829680662,-0.29221803598608126,-1.1166857498291634,1.3645694651652547,0.6618088900323422,-1.1814653559168344,0.30846558409959274,-1.6800720209552695,-0.015432446338760949,-2.363202412425252,-0.16069580544444695,1.6766893854058509,0.6284375778053606,0.14160902296468328,-0.6475243602851237,-1.9450795004048318,0.9700027735403518,-0.5807817358311598,0.18283240865683725,0.8325914878998382,-1.1559461171550245,-0.06450790549608727,-0.015432446338760949,-0.8968276928043417,0.4851372370659675,1.1388223530415538,-0.8497152520133083,0.15142411479614853,0.7030322757244962,0.047384141382617075,-0.13713958504893,0.6402156880031188,-0.058618850397207885,1.2507143999202586,0.3653931167220914,-0.6514503970177101,-0.2156603197006521,-0.26277276049168546,-0.39036895430073393,-1.6447376903619948,1.331198152938273,-0.5277802399412476,0.44587686974010643,-0.7829726275593445,-1.3954343578427766,-0.9184208948335651,0.07094036177813348,2.766164578698495,-1.2894313660629522,2.2361496197993707,-1.8115942514969041,0.7206994410211338,1.0544125632909527,-1.1402419702246798,1.1093770775471579,0.4439138513738135,-0.9341250417639093,1.629576944614817,-0.48066779915021424,-0.5964858827615045,0.5420647696884662,-1.0362019968111484,-0.8163439397863261,0.9542986266100072,-0.6808956725121059,-0.17639995237479106,-0.16658486054332577,0.14749807806356266,-0.19603013603772157,0.22601881271528476,0.5224345860255356,-0.37662782573668274,-0.5317062766738335,-0.0409516851005703,-0.3530716053411658,-0.14695467688039526,0.7913681022076836,-0.8889756193391694,-0.02328451980393327,0.019901884254514224,-0.1253614748511718,-0.7849356459256374,1.0975989673494002,-1.218762704876402,0.0650513066792541,0.012049810789341902,-0.36092367880633813,0.5832881553806202,-0.2882919992534954,-1.776259920903629,-0.8693454356762389,2.3657088319747115,-1.6898871127867348,-0.6435983235525378,-0.4944089277142659,0.7697749001784602,0.24957503311080118,-0.36877575227151044,-0.26080974212539254,0.14160902296468328,1.7768033220867958,0.2692052167737317,-0.8673824173099459,0.07094036177813348,0.06701432504554761,-0.2882919992534954,0.5832881553806202,1.712023715999126,1.4293490712529258,-0.5356323134064199,-1.25606005383597,1.0171152143313846,-1.0224608682470966,0.8718518552256992,-0.32166331148047705,-1.3993603945753632,0.0650513066792541,-1.0597582172066649,-0.42177724816142265,-1.8999300779800916,-0.14695467688039526,0.5616949533513966,-0.8202699765189125,-0.8968276928043417,-0.8791605275077041,-0.44729648692323254,0.4537289432052788,-0.427666303260302,-0.48066779915021424,0.530286659490708,-2.2297171635173245,0.04934715974891001,1.6786524037721433,0.4615810166704511,1.4843135855091314,-1.2933574027955381,-1.542660735314756,0.29668747390183453,-0.1076943095545342,-0.7633424438964139,0.46550705340303694,0.5813251370143272,0.25939012494226643,2.5993080175635854,1.0445974714594874,-0.5631145705345227,-0.11358336465341358,-0.7123039663727947,0.3241697310299374,0.5538428798862244,0.6853651104278592,1.5706863936260254,0.7128473675559615,-1.5367716802158768,0.318280675931058,0.799220175672856,1.5549822466956817,-0.7711945173615863,0.4890632737985539,1.625650907882231,-0.9184208948335651,-0.04487772183315674,0.4144685758794177,0.32024369429735094,-0.5591885338019363,1.2173430876932758,-0.0016913177747092446,0.13375694949951095,0.8738148735919922,0.9641137184414724,0.14946109642985558,0.7521077348818226,-0.6475243602851237,0.3359478412276956,-1.067610290671837,-1.4503988720989824,0.4301727228097624,-0.35110858697487285,0.059162251580375275,0.42820970444346884,1.6825784405047302,-1.6820350393215626,0.2927614371692487,0.1612392066276138,-0.5964858827615045,0.09253356380735694,-0.6789326541458124,0.7638858450795813,-1.0047937029504597,0.5479538247873456,0.2044256106860613,0.754070753248116,0.6598458716660492,-0.6808956725121059,0.4969153472637257,-2.1276402084700856,1.6276139262485245,-1.0990185845325258,-1.1127597130965776,0.6539568165671699,-1.6859610760541488,0.36735613508838433,-0.2333274849972897,1.9652530852509293,0.1867584453894237,-1.6388486352631153,1.6570592017429202,-0.20977126460177328,0.29668747390183453,-0.9223469315661511,1.7355799363946425,1.2860487305135326,2.9683554704266797,-1.2383928885393325,0.2888354004366622,-0.7437122602334834,-0.7417492418671905,-0.19995617277030803,0.9052231674526808,0.8973710939875086,-0.8477522336470155,-0.7064149112739153,0.5008413839963122,0.2535010698433876,-0.2235123931658244,-0.32951538494564936,0.03560603118485831,-1.360100027249502,-0.6043379562266767,0.2829463453377834,-0.8281220499840849,0.06112526994666822,0.3536150065243332,0.12394185766804568,-0.8399001601818431,1.1054510408145721,-0.25492068702651316,-0.6023749378603839,0.21816673925011243,-0.42177724816142265,0.569547026816569,0.569547026816569,-2.2866446961398226,-0.8791605275077041,1.4234600161540463,0.6696609634975146,2.214556417770147,-1.5603279006113933,0.03953206791744475,1.5235739528349925,0.5813251370143272,0.3163176575647651,0.40857952078053833,-0.11358336465341358,-1.2599860905685565,0.6166594676076024,-0.5179651481097823,0.20638862905235422,-0.48459383588280064,0.3732451901872637,-0.009543391239881568,0.173017316825372,1.2978268407112914,-0.22743842989841032,-0.40607310123107854,-1.9077821514452635,0.48317421869967453,-0.40018404613219916,0.08075545360959875,1.1348963163089678,-0.027210556536519152,-0.16069580544444695,-0.27847690742203013,0.8227763960683729,-0.5022610011794377,-1.3777671925461397,-0.29221803598608126,-0.07039696059496608,-0.054692813664622,1.1152661326460374,0.047384141382617075,1.3900887039270646,0.8816669470571645,1.4450532181832705,-0.39036895430073393,0.5499168431536384,-1.8115942514969041,-0.6612654888491754,0.6814390736952728,-0.25492068702651316,0.41643159424571063,1.021041251063971,1.5373150813990437,-0.19799315440401452,-0.8202699765189125,-0.5631145705345227,-1.3149506048247617,-2.628209891874814,-0.18817806257254927,-0.8320480867166707,0.3163176575647651,0.836517524632424,0.00616075569046252,0.7187364226548408,1.3940147406596506,0.3653931167220914,0.14160902296468328,-1.919560261643022,0.48710025543226043,-1.6035143046698404,1.199675922396639,-0.9773114458223567,1.4548683100147357,1.7768033220867958,-1.0499431253751994,-1.0617212355729577,-0.06058186876350083,-0.5277802399412476,0.5401017513221732,-1.4248796333371727,-0.7574533887975345,-0.9498291886942539,-1.5995882679372542,0.6264745594390676,0.4144685758794177,0.47728516360079515,-1.3934713394764837,-0.20780824623547978,-0.8241960132514985,0.8090352675043212,0.6461047431019982,0.2750942718726111,0.16712826172649317,-0.06058186876350083,-0.2333274849972897,1.339050226403446,-0.4315923399928879,1.4372011447180986,-0.9027167479032205,0.051310178115202956,-0.2038822095028939,0.27116823514002464,-0.48263081751650716,-0.037025648367984415,-1.2325038334404537,0.38698631875131484,1.1898608305651734,-0.06254488712979432,0.8345545062661311,-1.1461310253235593,-1.1127597130965776,-0.04684074019944968,1.6865044772373161,0.8168873409694936,0.059162251580375275,0.14946109642985558,1.7139867343654185,0.2986504922681275,-0.16462184217703285,-0.07824903406013842,1.1211551877449166,-1.5642539373439794,-1.053869162107786,0.17890637192425138,0.3928753738501942,0.651993798200877,-2.7401019387535177,0.9700027735403518,-0.22743842989841032,-1.7252214433800097,0.1082377107377016,-0.09199016262419012,-1.030312941712269,1.7061346609002466,-0.5984489011277974,0.6598458716660492,-0.2588467237590996,0.4674700717693299,0.4125055575131248,-0.32951538494564936,-0.9871265376538221,0.9974850306684542,0.06897734341184054,-1.279616274231487,0.30846558409959274,0.5008413839963122,-1.6467007087282877,1.0956359489831067,-0.1449916585141023,-1.0185348315145109,-0.6416353051862449,1.647244109911455,0.610770412508723,0.2888354004366622,0.2986504922681275,-1.0479801070089065,-0.8163439397863261,-1.0577951988403718,-2.017711179957675,0.8875560021560434,0.7874420654750978,-0.6004119194940903,0.1200158209354598,0.3104286024658857,0.26135314330855935,-0.8124179030537403,0.9660767368077654,-0.20977126460177328,-0.21958635643323854,-0.26080974212539254,-1.6074403414024265,1.0936729306168145,0.2809833269714899,-0.7417492418671905,0.84044356136501,-0.11554638301970653,-0.38447989920185455,1.4725354753113726,-1.1009816028988189,0.3732451901872637,-2.1335292635689647,-1.0401280335437342,0.8934450572549227,0.24761201474450822,0.4674700717693299,0.3555780248906261,-1.0872404743347677,0.4066165024142454,0.11020072910399453,-0.5434843868715923,0.3771712269198496,-0.8359741234492567,0.2162037208838195,0.7442556614166508,0.7795899920099254,0.2515380514770941,-1.1814653559168344,-2.989405271272736,0.30061351063442043,-0.7574533887975345,-0.15676976871186052,0.24172295964562884,-0.2706248339568578,0.22209277598269833,1.7650252118890382,-0.02328451980393327,-1.6054773230361337,-0.6220051215233143,-1.5917361944720823,1.1800457387337082,-0.4433704501906461,1.2094910142281041,0.9562616449763002,-0.7083779296402082,1.4921656589743033,-0.6789326541458124,-2.7558060856838624,0.983743902104403,-0.6769696357795195,-0.11750940138599947,-0.8771975091414111,1.0426344530931946,-1.1009816028988189,0.5950662655783784,1.1761197020011225,0.544027788054759,-1.6663308923912181,0.9327054245807838,-0.08806412589160367,0.2986504922681275,-0.5002979828131447,0.6166594676076024,1.2389362897224998,-1.403286431307949,-1.030312941712269,-0.16069580544444695,-0.8457892152807219,-0.054692813664622,1.916177626093603,0.7108843491896686,-1.81552028822949,0.6343266329042394,0.5224345860255356,0.04345810465003063,-0.40999913796366444,-0.5670406072671087,-0.8320480867166707,-0.21762333806694503,-0.17051089727591223,0.9150382592841462,1.3096049509090502,0.2044256106860613,-0.09002714425789661,0.37913424528614253,-0.7535273520649487,-1.1618351722539038,-0.6377092684536584,-0.042914703466863796,0.06897734341184054,1.3135309876416361,0.2044256106860613,0.08271847197589169,0.17694335355795843,-0.14106562178151644,-0.5375953317727129,-0.49637194608055885,1.6845414588710226,-0.13910260341522293,0.8011831940391488,2.1262205912869594,1.5785384670911982,-0.27651388905573665,-0.8045658295885679,0.2240557943489918,0.9542986266100072,0.12197883930175274,0.5989923023109648,-0.5297432583075405,1.2016389407629322,-0.7515643336986557,0.00616075569046252,-0.40214706449849213,0.06897734341184054,0.10234865563882221,-0.11358336465341358,1.1584525367044842,-0.06647092386238021,-1.1893174293820061,0.383060282018729,0.5911402288457924,1.1564895183381918,0.4026904656816595,0.7599598083469948,-1.0519061437414925,-2.4966876613331794,0.10234865563882221,0.8600737450279404,-0.013469427972468008,0.19657353722088897,-0.7986767744896891,-0.6435983235525378,0.79529413894027,0.7913681022076836,1.1682676285359495,-0.42962932162659495,-2.443686165443267,-1.5917361944720823,-0.5493734419704711,0.8325914878998382,-0.6828586908783989,0.19264750048830254,-0.26080974212539254,-0.09002714425789661,0.4851372370659675,-0.4728157256850419,1.647244109911455,-0.2451055951950479,-0.46888968895245603,0.12786789440063212,-0.30399614618383947,-0.3079221829164259,2.1635179402465283,1.0897468938842279,0.9366314613133696,1.2153800693269834,-1.509289423087774,-0.1449916585141023,0.3241697310299374,-0.2863289808872019,-0.39233197266702685,0.7815530103762184,-0.5631145705345227,0.4026904656816595,-1.1637981906201968,-0.2156603197006521,-0.6259311582559002,0.9071861858189738,0.4517659248389858,-0.3373674584108217,-0.16462184217703285,-0.9949786111189943,-0.5847077725637463,1.1034880224482797,-0.512076093010903,-0.05076677693203556,-0.8791605275077041,-0.2882919992534954,-0.7554903704312416,0.17105429845907905,0.04934715974891001,2.530602374743329,0.6048813574098436,1.812137652680071,-0.10376827282194832,-0.39036895430073393,-2.1708266125285327,0.00616075569046252,-0.25492068702651316,1.2291211978910346,0.0650513066792541,-2.21401301658698,3.168583343788571,-0.03898866673427736,0.3771712269198496,1.655096183376627,-1.8037421780317318,0.4007274473153666,-0.6710805806806407,0.8227763960683729,-1.7428886086766473,1.5490931915968025,0.012049810789341902,-1.3973973762090701,0.424283667710883,0.9562616449763002,-0.364849715538924,0.3359478412276956,-0.7044518929076223,-0.5238542032086617,-0.6063009745929697,0.03953206791744475,-0.9557182437931333,1.4941286773405966,-1.240355906905626,-0.9989046478515803,-0.6494873786514166,-1.2030585579460578,-0.7554903704312416,0.6539568165671699,-0.9400140968627887,0.98178088373811,1.5844275221900777,-0.4257032848940091,-0.39036895430073393,0.6598458716660492,0.2338708861804571,-0.27455087068944367,-0.32951538494564936,0.4203576309782971,2.041810801536358,0.11020072910399453,0.33005878612881623,-0.427666303260302,1.3743845569967201,0.1200158209354598,1.4411271814506845,1.3841996488281854,0.2535010698433876,-0.47085270731874895,0.7089213308233756,0.08075545360959875,1.119192169378623,1.7139867343654185,1.199675922396639,-1.322802678289934,0.4419508330075206,0.7795899920099254,1.113303114279745,-0.5238542032086617,0.9700027735403518,0.06701432504554761,-0.09591619935677599,-0.34325651350970054,-0.5238542032086617,1.299789859077585,-0.3668127339052175,-0.24903163192763433,-0.43355535835918085,0.7835160287425118,-0.6396722868199514,-0.7142669847390876,-0.7319341500357252,0.4969153472637257,0.2240557943489918,1.0445974714594874,1.235010252989914,0.689291147160445,-0.5925598460289185,1.7925074690171405,0.5597319349851038,-0.2038822095028939,0.49495232889743274,-0.737823205134604,0.13571996786580445,-2.6085797082118836,0.7030322757244962,-0.6534134153840031,-0.9105688213683929,-1.3738411558135533,1.1250812244775026,1.2605294917517238,0.12983091276692507,-0.009543391239881568,1.1034880224482797,1.4411271814506845,-1.1441680069572662,-0.8202699765189125,-0.7338971684020181,0.8168873409694936,1.1780827203674147,1.1898608305651734,0.37520820855355663,0.903260149086388,-0.9400140968627887,0.9601876817088866,0.14946109642985558,1.3292351345719806,-0.33344142167823526,-2.0157481615913815,1.5000177324394761,0.25546408820968053,0.03364301281856537,0.48710025543226043,-0.15676976871186052,-1.3738411558135533,-1.1186487681954564,-1.2992464578944176,1.1152661326460374,-0.8948646744380482,-0.33147840331194234,0.8149243226032006,-0.9714223907234774,-0.12732449321746472,-1.0224608682470966,-0.32951538494564936,-0.24706861356134083,-0.13713958504893,-0.9517922070605469,0.2731312535063181,-0.16854787890961873,-0.042914703466863796,0.5989923023109648,0.7128473675559615,-1.324765696656227,0.19068448212200959,0.4517659248389858,0.11805280256916686,-0.4080361195973715,-0.41196215632995736,-1.5210675332855321,0.9484095715111278,0.9071861858189738,-0.989089556020115,-0.15873278707815347,0.9346684429470766,0.2024625923197678,-1.1716502640853692,0.10038563727252928,-0.05665583203091494,-0.7437122602334834,1.4529052916484422,-0.6926737827098641,-0.7810096091930515,-0.7221190582042599,1.1074140591808654,1.0406714347269017,-0.20977126460177328,-0.27455087068944367,1.0073001224999194,0.03756904955115181,-0.23136446663099675,0.2044256106860613,0.2338708861804571,-0.3491455686085799,-0.38840593593444095,-0.6318202133547796,-2.469205404205077,0.2279818310815777,0.47728516360079515,-0.45514856038840484,-0.16854787890961873,1.3331611713045666,-0.7201560398379669,-0.7044518929076223,0.9052231674526808,0.47728516360079515,-1.6722199474900972,-0.26277276049168546,-2.2100869798543936,-0.8771975091414111,0.06897734341184054,-2.2650514941105993,-0.05272979529832906,-0.8006397928559821],\"z\":[0.8574034446394462,1.048458149949096,-0.759667824012329,-0.0840826289483106,-0.2810462426695987,0.05379190065659106,0.22515024459411148,0.20939315549640877,2.46659616874237,-0.10180935418322665,-1.1831395935130984,-0.17468589126010303,0.036065175421675026,-2.2034111125893707,-1.4096477492925799,-0.6986091037587299,-0.16483771057403862,0.15030407138002236,-0.3814976856674555,0.7057414620740545,0.975581612872219,-0.36377096043254004,-1.951297687026122,-0.3874065940790944,0.9716423405977935,0.8869479866976394,1.8146466073249068,0.24287696982902754,-0.952692165459191,0.5245349374504698,-1.9591762315749734,-0.25347133674861827,-0.2633195174346827,2.173120384297651,-0.4464956781954808,1.2631484889053002,-0.7498196433262646,0.8081625412091241,-2.5717330702481798,0.701802189799629,0.9420977985396003,0.5383223904109596,1.3596606596287308,-1.1890485019247368,-0.23377497537648945,-0.6808823785238137,-0.6867912869354521,1.2670877611797255,-0.8305747249519926,0.2546947866523047,-0.854210358598547,-1.415556657704218,-0.9389047124987011,1.8540393300691644,1.0523974222235215,-0.5646738464282537,-0.9605707100080426,-0.3893762302163072,0.5402920265481724,0.44968876423638005,1.5231404590174003,-0.5016454900374417,0.42408349445261234,-0.36967986884417836,0.018338450186758982,-1.8035749767351559,1.024822516302541,1.235573582984319,-1.4470708358996243,-0.7478500071890518,-0.20226079718108347,-0.8069390913054383,-0.4169511361372876,0.9342192539907487,-0.2199875224159995,0.31181423463147834,0.7924054521114214,-1.6144899075627193,0.4260531305898257,0.5225653013132564,0.9184621648930459,-2.829755404223067,-0.4642224034303969,-0.021054272557498636,-1.1614735960037568,0.38666040784556804,-1.7385769842071306,0.5166563929016181,1.011035063342051,-0.5154329429979316,1.2513306720820223,-1.068900697554751,1.186332679553997,0.09712389567527423,0.1030328040869131,0.9066443480697682,0.7155896427601189,-0.10968789873207828,1.2237557661610425,-0.8384532695008443,-0.1490806214763359,1.0366403331258187,-1.8016053405979429,-0.013175728008647003,-1.7878178876374526,-1.5770668209556746,1.6885898945432818,-0.5686131187026793,-1.1949574103363756,1.3458732066682408,1.2749663057285767,1.143000684535314,-0.7163358289936453,-1.254046494452762,1.03073142471418,0.5580187517830885,0.6978629175252029,-0.6690645617005366,0.5422616626853852,1.2533003082192358,1.1843630434167849,-1.8764515138120323,-2.043870585475127,0.8574034446394462,-0.5961880246236597,-0.11756644328092992,0.13454698228231907,0.0006117249518429412,1.5960169960942765,-0.6158843859957884,0.2527251505150919,-1.3151052147063613,0.7884661798369953,-0.05256845075290462,-0.2771069703951732,0.5915025661157073,-1.7523644371676208,0.7254378234461833,0.1384862545567446,-1.007841977301152,-1.6164595436999323,-0.4071029554512232,1.1883023156912105,0.877099806011575,0.9598245237745163,0.863312353051085,0.7746787268765054,0.31181423463147834,-0.060446995301756255,-0.21210897786714789,0.4359013112758901,1.1607274097702305,0.49105112311785043,-0.1352931685158454,-1.551461551171907,0.9007354396581299,0.4733243978829344,-0.5646738464282537,1.2651181250425123,-0.24559279219976718,0.21727170004525986,0.8613427169138723,-0.5292203959584216,0.6860451007019257,0.400447860806058,-2.4555245381526194,-1.2658643112760393,-0.07029517598782066,-0.39922441090237154,-0.9231476234009978,0.6308952888599648,0.6643791031925842,-0.17665552739731635,-1.2087448632968656,-0.11559680714371659,1.4699602833126526,-0.1352931685158454,0.02227772246118508,1.1942112241028493,1.619652629740831,-0.18453407194616742,-0.5666434825654665,-0.45043495046990634,0.5993811106645589,-0.15301989375076144,-0.6257325666818528,0.5915025661157073,0.44771912809916725,-0.31453005700221803,1.781162792992288,0.6151381997622621,1.235573582984319,-0.3224086015510691,0.9598245237745163,-0.005297183459795366,0.09909353181248699,0.040004447696100565,0.7490734570927378,0.04197408383331389,1.0445188776746699,0.42408349445261234,-1.124050509396712,0.7707394546020798,1.5802599069965733,-0.13135389624141985,1.7476789786596683,1.0642152390467987,-1.4982813754671593,-1.0728399698291773,1.1489095929469528,0.3078749623570528,-1.1575343237293307,0.7727090907392926,0.11682025704740304,-0.11362717100650382,0.7864965436997826,0.2546947866523047,-0.5528560296049765,-0.34998350747204954,-0.3480138713348368,-0.3480138713348368,0.37287295488507755,0.07545789816593264,1.048458149949096,-1.5219170091137137,-0.8010301828937995,-1.0551132445942613,1.4148104714706917,1.6984380752293462,0.6151381997622621,0.6643791031925842,0.993308338107135,0.8652819891882978,-0.9625403461452554,-0.8837549006567402,-0.2515017006114055,-2.3924961817618073,-1.3978299324693026,0.10106316794970031,0.6308952888599648,-0.6316414750934918,-0.6099754775841502,2.0017620403601306,-0.5055847623118672,1.4542031942149494,0.5225653013132564,0.8593730807766595,-0.6946698314843037,-1.3032873978830841,1.1843630434167849,-0.2849855149440248,-1.4490404720368373,0.5658972963319401,0.7116503704856935,-2.063566946847256,0.055761536793803836,0.24681624210345307,-1.551461551171907,-1.7110020782861506,-0.4484653143326936,0.4122656776293352,-0.17862516353452912,-1.4293441106647085,1.0602759667723731,-1.0728399698291773,-0.7143661928564325,0.4752940340201477,-0.6670949255633233,1.4916262808219936,-0.2613498812974699,0.49105112311785043,0.6289256527227521,0.34332841282688437,0.764830546190441,0.9519459792256647,0.481202942431786,-0.2613498812974699,0.06954898975429377,2.3661447257445136,-1.043295427770984,1.6531364440734508,0.26651260347558187,0.6230167443111138,-0.3046818763161536,-1.8429676994794135,-0.28892478721845033,0.5028689399411276,0.7668001823276538,-0.7990605467565867,0.004550997226269039,-0.05059881461569185,0.9105836203441943,-1.3032873978830841,-0.6730038339749621,0.036065175421675026,-0.25347133674861827,0.3590855019245876,0.751043093229951,0.22318060845689872,-0.5784612993887436,-2.441737085192129,-0.07620408439945897,1.2296646745726814,-0.4130118638628621,0.31969277918033,0.2606036950639436,-0.3972547747651588,1.143000684535314,-0.8975423536172307,0.040004447696100565,-0.728153645816923,0.26454296733836913,-0.23180533923927668,0.8790694421487883,-1.092536331201306,-1.3702550265483222,-0.9192083511265723,2.9156732080269068,-0.43467786137220366,-0.16286807443682585,-1.8370587910677747,0.877099806011575,-1.6834271723651701,-0.41104222772564875,-0.9349654402242755,-1.271773219687678,1.562533181761658,1.402992654647414,1.1252739593003984,-0.8069390913054383,0.7786179991509309,-0.49573658162580286,-0.38346732180466886,1.7338915256991783,0.4713547617457216,0.3768122271595037,1.8422215132458868,1.3852659294124985,-1.750394801030408,1.107547234065482,0.22711988073132425,0.43984058355031563,-1.3485890290389806,0.8495249000905951,0.536352754273747,-0.29286405949287586,0.9736119767350063,-0.42482968068613924,-1.4647975611345403,-0.4071029554512232,-2.4693119911131096,0.999217246518774,1.5664724540360833,1.2296646745726814,1.1961808602400614,0.5245349374504698,0.6643791031925842,0.07742753430314542,-1.0826881505152417,0.7805876352881442,0.512717120627192,-1.1082934202990087,-0.36771023270696557,-0.6237629305446402,-1.7267591673838534,-1.384042479508812,-0.2101393417299351,-0.9507225293219782,-0.7498196433262646,-0.18650370808338076,-0.03681136165520135,0.07939717044035818,0.6072596552134105,0.634834561134391,0.12863807387068021,-1.486463558643882,0.3413587766896716,-0.08605226508552337,-1.5790364570928874,0.32166241531754275,-1.7267591673838534,1.3163286646100476,1.0602759667723731,-0.0880219012227367,-1.835089154930562,-1.0176901579872164,-0.5055847623118672,0.5068082122155537,0.6978629175252029,2.1081223917696255,-0.4425564059210553,-0.5607345741538281,0.5836240215668562,0.5974114745273461,-1.5396437343486298,-1.0649614252803257,-1.1279897816711375,-0.2751373342579604,1.8737356914412933,-1.2304108608062077,-0.6710341978377494,-0.3480138713348368,0.32166241531754275,-1.20480559102244,-1.124050509396712,-0.2751373342579604,-0.9920848882034486,-0.6355807473679173,2.1750900204348644,-0.009236455734221464,0.28817860098492404,-0.43073858909777757,-0.8384532695008443,0.1187898931846158,-0.6277022028190656,1.3498124789426664,0.9637637960489419,-0.15301989375076144,-0.661186017151685,0.8987658035209172,-0.6040665691725113,-1.1279897816711375,0.8495249000905951,-1.4135870215670052,0.15030407138002236,1.9269158671460407,-0.10771826259486551,-0.23771424765091556,0.6289256527227521,-1.1496557791804791,1.3242072091588988,-0.8699674476962502,0.9460370708140258,-1.1142023287106475,0.9499763430884519,-0.9664796184196816,0.4713547617457216,-0.1490806214763359,-0.4169511361372876,0.3709033187478648,2.0706993051625813,1.0898205088305664,0.7136200066229063,1.1449703206725272,0.18575752184985386,0.14439516296838348,-0.4051333193140104,0.7608912739160154,0.2901482371221368,-0.8423925417752698,-0.8975423536172307,-1.8981175113213742,-1.9316013256539932,-0.42286004454892645,0.13651661841953183,-0.41498150000007483,-1.1575343237293307,-0.2869551510812376,-1.305257034020297,1.143000684535314,-2.4240103599572134,0.7766483630137182,1.2119379493377647,-0.9723885268313198,0.11288098477297749,0.07742753430314542,-0.8069390913054383,0.19954497481034436,-0.9645099822824688,-1.6322166327976353,-0.4464956781954808,-1.5396437343486298,0.5836240215668562,0.2940875093965623,-1.4628279249973273,-0.5607345741538281,-0.17862516353452912,0.37484259102229034,2.0864563942602845,-0.2692284258463215,-0.6710341978377494,-1.4372226552135603,0.8357374471301046,0.5658972963319401,-0.1392324407902715,-0.6355807473679173,-0.13332353237863262,1.1745148627307205,-0.06635590371339456,1.1567881374958038,0.22515024459411148,0.6210471081739004,-0.525281123683996,1.3320857537077508,-0.42286004454892645,-0.3381656906487724,1.0898205088305664,0.8180107218951885,-1.8862996944980968,0.10894171249855139,0.301966053945414,0.6013507468017717,1.704346983640985,0.4949903953922765,-0.0742344482622462,0.21136279163362154,-0.5095240345862928,1.4482942858033105,0.17984861343821557,0.0518222645193783,-0.7675463685611806,-1.4096477492925799,0.9243710733046843,-0.11362717100650382,0.04591335610773943,-1.1575343237293307,0.6249863804483266,0.49892966766670205,-1.5672186402696102,-1.043295427770984,0.7983143605230597,-1.4254048383902824,1.0346706969886055,-1.9690244122610379,-1.0334472470849196,-0.3263478738254952,2.3543269089212355,0.1030328040869131,-1.0905666950640927,-0.328317509962708,0.7136200066229063,-0.8325443610892054,0.6860451007019257,-0.854210358598547,-1.1082934202990087,0.26454296733836913,0.2546947866523047,0.536352754273747,0.9893690658327096,0.652561286369307,0.4831725785689988,-0.9329958040870622,-1.322983759255213,1.5566242733500188,-1.1535950514549052,-0.01514536414585977,-1.3288926676668518,-0.6237629305446402,0.7687698184648666,-0.6631556532888977,-0.8325443610892054,-0.6749734701121749,-1.309196306294723,0.24287696982902754,-0.4287689529605648,-0.41498150000007483,0.9086139842069816,1.7693449761690103,0.18969679412427998,-1.9591762315749734,-1.2737428558248909,-0.1293842601042071,-1.0531436084570485,-0.005297183459795366,-0.4464956781954808,-0.23180533923927668,-0.20423043331829624,0.20742351935919545,1.241482491395958,0.660439830918158,-0.31649969313943077,-0.22786606696485115,0.6978629175252029,-0.5292203959584216,-1.019659794124429,-0.37361914111860445,-0.33422641837434686,1.3301161175705376,-1.602672090739442,0.7530127293671638,0.4949903953922765,-2.6662756048343974,-0.6395200196423434,0.9105836203441943,0.481202942431786,-0.25347133674861827,0.4752940340201477,-0.7951212744821605,-2.089172216631024,-0.661186017151685,0.28226969257328516,0.1227291654590419,-1.7681215262653238,0.8849783505604266,0.5068082122155537,1.1626970459074428,-0.2731676981207471,1.235573582984319,-0.31846932927664356,0.5402920265481724,0.1640915243405123,0.32757132372918163,-2.3826480010757427,-0.9172387149893595,-1.0767792421036027,0.18575752184985386,-1.141777234631628,1.1193650508887596,0.7943750882486342,2.096304574946349,0.1384862545567446,-1.0354168832221324,-1.1279897816711375,-1.7622126178536852,-2.427949632231639,0.04197408383331389,1.7417700702480303,-1.699184261462873,-3.075959921374677,-0.9310261679498495,-0.20423043331829624,-0.09787008190880112,1.3557213873543053,0.5639276601947274,-0.43270822523499086,0.12469880159625467,-0.2751373342579604,0.09909353181248699,-0.11362717100650382,1.2395128552587458,0.39059968011999363,0.14045589069395795,-0.8522407224613342,0.8731605337371494,0.3669640464734393,1.255269944356448,-0.21210897786714789,-0.7517892794634774,2.19281674566978,-0.05256845075290462,0.530443845862108,1.8638875107552288,2.789616495245283,-0.2101393417299351,-0.678912742386601,0.016368814049546213,3.213088264746052,-0.09983971804601388,-0.42482968068613924,-1.21859304398293,-0.4031636831767977,0.26257333120115633,1.2631484889053002,-0.9664796184196816,-0.4642224034303969,1.0720937835956503,1.501474461508058,1.3576910234915187,1.9603996814786595,0.0715186258915071,0.15227370751723512,1.395114110098563,0.6407434695460292,1.0740634197328631,-0.5489167573305505,-0.6099754775841502,-1.0176901579872164,-0.20816970559272233,-0.2101393417299351,-0.1451413492019098,0.2527251505150919,-0.994054524340662,1.3557213873543053,-0.19635188876944515,-1.551461551171907,-1.433283382939134,-1.401769204743728,0.36302477419901313,-0.9270868956754239,-1.4391922913507729,-0.43467786137220366,1.2513306720820223,0.44181021968752837,1.3222375730216867,0.24090733369181477,0.39650858853163246,-0.09196117349716225,-0.11756644328092992,0.45953694492244446,-1.0649614252803257,1.9249462310088274,-2.7155165082647197,1.0780026920072892,0.24090733369181477,-1.112232692573435,-0.3795280495302428,-0.4996758539002284,-2.888844488339453,1.170575590456295,0.7431645486810994,-1.0039027050267264,-1.3348015760784901,0.4359013112758901,-0.5370989405072732,-0.6434592919167689,-0.14120207692748427,1.1233043231631852,2.0313065824183236,0.24681624210345307,-0.13332353237863262,-0.489827673214164,0.8101321773463375,-0.23180533923927668,-1.5573704595835458,0.2586340589267308,-0.8187569081287155,0.43984058355031563,-0.6631556532888977,0.0616704452054427,-0.5902791162120213,-0.5942183884864469,-0.5528560296049765,1.186332679553997,0.7392252764066733,0.09712389567527423,0.7786179991509309,-0.43073858909777757,0.6328649249971782,0.32363205145475554,-0.7458803710518385,0.8278589025812529,-0.37558877725581724,0.26651260347558187,-0.6257325666818528,0.7766483630137182,0.028186630872823387,-1.240259041492272,-2.4574941742898324,-1.8823604222236712,-0.5587649380166149,-0.5134633068607188,0.7864965436997826,1.1272435954376105,-0.6572467448772589,1.3143590284728344,0.634834561134391,-1.8035749767351559,-0.16286807443682585,-0.5548256657421893,-2.97550847837682,0.21727170004525986,-0.8995119897544435,0.17393970502657669,0.3768122271595037,0.3531765935129488,-0.588309480074808,-1.797666068323517,0.8869479866976394,1.3163286646100476,0.796344724385847,-0.7261840096797098,-0.724214373542497,-1.535704462074204,-0.710426920582007,1.062245602909586,-0.7951212744821605,0.9952779742443478,-0.3814976856674555,-0.976327799105746,0.26257333120115633,-0.41498150000007483,0.2448466059662403,1.129213231574824,0.2290895168685376,1.024822516302541,2.0332762185555358,-3.1015651911584445,0.975581612872219,0.9027050757953426,-0.43467786137220366,1.6255615381524697,0.5580187517830885,-0.3716495049813911,-1.671609355541893,-0.7163358289936453,-0.22392679469042504,-0.42286004454892645,-1.65585226644419,0.15818261592887342,1.1764844988679326,-0.5528560296049765,-0.5607345741538281,-0.22589643082763838,-0.08605226508552337,-0.7537589156006902,-0.1352931685158454,-1.21859304398293,-2.1088685780031526,-1.2835910365109553,-1.3111659424319357,-2.3550730951547627,0.22515024459411148,0.0518222645193783,-0.678912742386601,1.5901080876826377,-1.9532673231633348,2.383871450979429,-1.3564675735878315,-0.5174025791351444,0.25666442278951745,0.6407434695460292,0.7234681873089706,-1.3525283013134062,-1.3623764819994706,-0.6710341978377494,-0.5351293043700605,-0.28892478721845033,1.3911748378241373,-1.819332065832859,-1.419495929978644,-0.3224086015510691,1.4345068328428205,0.07545789816593264,0.28817860098492404,0.2684822396127952,-0.11953607941814269,1.0464885138118831,-0.50755439844908,-0.7458803710518385,-0.4642224034303969,0.08924535112642258,-0.5272507598212088,-1.317074850843574,1.7851020652667136,-1.3505586651761934,0.11288098477297749,-0.4130118638628621,0.9519459792256647,1.2316343107098935,-0.36377096043254004,0.08924535112642258,-0.8305747249519926,0.13060771000789353,-0.6080058414469368,0.43984058355031563,0.5402920265481724,0.7628609100532282,-0.06241663143896903,-0.5981576607608724,-0.10377899032043941,-1.5888846377789518,-1.618429179837145,-1.4529797443112629,0.5974114745273461,0.1837878857126411,0.6092292913506233,-0.9172387149893595,-2.3393160060570595,2.9806712005549323,0.23893769755460198,-1.1338986900827763,1.1942112241028493,-0.25741060902304436,0.6111989274878361,0.7549823655043766,-0.39922441090237154,-0.2908944233556631,0.8613427169138723,-0.6493682003284078,0.3610551380618004,0.8711908975999367,-0.08014335667388507,-0.7537589156006902,-0.10968789873207828,-0.8561799947357603,0.530443845862108,-0.35195314360926233,1.381326657138073,0.37484259102229034,-0.9999634327523003,1.5743509985849355,-0.5213418514095706,0.877099806011575,0.16803079661493783,1.7417700702480303,-2.079324035944959,-0.7340625542285614,-0.12741462396699432,-0.9152690788521467,-1.1654128682781824,1.0563366944979475,-0.6336111112307046,1.8875231444017833,-1.766151890128111,-0.4977062177630156,0.5599883879203013,0.6919540091135646,-0.8010301828937995,0.18575752184985386,0.44968876423638005,0.5166563929016181,0.22318060845689872,-0.9487528931847655,-0.6020969330352985,1.1725452265935072,0.28817860098492404,-2.709607599853081,-1.7641822539908982,-0.9448136209103399,0.1030328040869131,3.559744224895519,-1.8035749767351559,0.1187898931846158,-1.0649614252803257,-0.6414896557795562,0.2527251505150919,0.31969277918033,0.38863004398278084,1.0543670583607343,-0.9211779872637851,-0.5666434825654665,0.49892966766670205,-0.296803331767302,0.10894171249855139,-0.41892077227450036,-0.8305747249519926,-0.9408743486359138,0.5658972963319401,1.2946626671007055,0.3709033187478648,-0.8305747249519926,0.5107474844899792,0.9736119767350063,-0.741941098777413,-0.14317171306469703,0.5324134819993208,-1.2894999449225941,0.993308338107135,-0.8029998190310121,1.2257254022982547,-0.4071029554512232,0.4713547617457216,-0.6020969330352985,-2.014326043416934,1.247391399807597,-0.18453407194616742,2.6064403344844846,1.1922415879656358,-0.15301989375076144,0.32166241531754275,-0.50755439844908,-1.2954088533342325,0.43984058355031563,0.6801361922902869,-0.7005787398959425,2.0017620403601306,0.0577311729310166,-0.21210897786714789,-1.8449373356166263,0.5028689399411276,-1.1398075984944147,-0.0683255398506079,-0.63755038350513,0.8357374471301046,0.2901482371221368,-0.4996758539002284,1.0917901449677796,0.014399177912333444,-0.7399714626402002,0.6821058284275002,0.9283103455791103,1.1666363181818682,-0.6552771087400461,0.18575752184985386,0.03803481155888779,-0.16286807443682585,-0.9979937966150875,-1.2087448632968656,-0.4071029554512232,0.18772715798706663,1.1902719518284237,-0.952692165459191,1.0189136078909027,-1.0354168832221324,-2.0261438602402113,0.6269560165855393,0.3295409598663944,-0.4425564059210553,-1.3308623038040646,0.18969679412427998,0.4674154894712961,-0.2416535199253411,-1.6164595436999323,0.863312353051085,-1.2166234078457172,1.466021011038227,3.4730802348581524,0.38666040784556804,-0.3361960545115596,-0.6651252894261105,-1.4746457418206047,-0.328317509962708,1.0090654272048383,0.39256931625720637,1.1311828677120372,-0.9901152520662359,1.0543670583607343,0.733316367995035,0.21136279163362154,-0.37558877725581724,-0.3027122401789403,-2.309771463998866,0.4359013112758901,0.5284742097248952,-0.0683255398506079,-0.3381656906487724,-0.13332353237863262,-0.539068576644486,-1.6834271723651701,-0.8364836333636315,0.10500244022412586,0.9539156153628775,-0.6257325666818528,-0.11559680714371659,2.0529725799276646,0.09121498726363592,-0.21801788627878674,-0.724214373542497,1.6019259045059153,-0.15105025761354868,2.19281674566978,0.8436159916789563,0.09712389567527423,0.4201442221781868,0.20348424708476992,0.5146867567644053,-0.9192083511265723,0.18772715798706663,-0.19241261649501906,-0.5607345741538281,0.17787897730100224,0.5816543854296429,-0.7616374601495418,0.6998325536624157,1.562533181761658,0.9283103455791103,0.7608912739160154,1.0051261549304122,0.17984861343821557,0.19560570253591827,-0.5942183884864469,-2.668245240971611,0.22711988073132425,2.1790292927092896,0.4733243978829344,-0.13726280465305873,-0.1352931685158454,0.26454296733836913,0.4024174969432708,1.221786130023829,0.22121097231968595,-1.419495929978644,0.24681624210345307,0.39650858853163246,0.7195289150345445,0.368933682610652,-0.9625403461452554,-0.028932817106350275,1.3557213873543053,1.1233043231631852,-1.173291412827034,-1.9119049642818644,-0.3716495049813911,-0.6020969330352985,-0.629671838956279,-1.750394801030408,0.5422616626853852,0.38863004398278084,0.07545789816593264,1.7378307979736038,1.0917901449677796,0.3157535069059039,0.12469880159625467,0.07742753430314542,-0.05453808689011739,0.1640915243405123,1.5448064565267423,1.4423853773916717,0.5698365686063657,1.5802599069965733,-0.19241261649501906,1.03073142471418,0.4024174969432708,-0.30074260404172753,-0.2002911610438707,-0.5705827548398925,-0.2849855149440248,-0.7695160046983934,-1.8035749767351559,-0.6769431062493877,-1.1279897816711375,1.3793570210008597,0.20742351935919545,1.028761788576967,-0.12741462396699432,0.5087778483527665,0.31378387076869113,0.747103820955525,-1.4096477492925799,-2.400374726310659,0.4043871330804836,1.1902719518284237,-0.09787008190880112,-1.001933068889513,2.4508390796446675,0.8180107218951885,1.6590453524850886,2.0766082135742203,-0.011206091871434233,1.3557213873543053,-0.5469471211933377,1.5605635456244444,1.4108711991962661,1.1449703206725272,-0.7498196433262646,-0.42286004454892645,-1.340710484490129,-0.7734552769728189,-0.6178540221330012,1.7496486147968815,-1.7149413505605764,-1.3505586651761934,-0.2101393417299351,-0.06635590371339456,-1.3978299324693026,0.7293770957206089,1.6649542608967274,0.17590934116378945,0.17393970502657669,0.8002839966602731,-0.5292203959584216,0.016368814049546213,-0.2416535199253411,2.1652418397488,0.2684822396127952,1.3635999319031564,-1.900087147458587,-0.4622527672931841,-0.6966394676215165,0.12863807387068021,1.5782902708593611,-0.46619203956760963,0.8830087144232138,-1.3761639349599604,-1.141777234631628,0.17393970502657669,-0.6986091037587299,-1.6853968085023832,-1.4096477492925799,-0.22786606696485115,0.17197006888936392,1.2887537586890678,2.0529725799276646,-0.5548256657421893,0.5107474844899792,-0.7813338215216706,-0.6493682003284078,1.422689016019543,-0.16483771057403862,0.48908148698063764,-1.019659794124429,-0.14120207692748427,-0.5154329429979316,-0.5095240345862928,-0.0742344482622462,0.40635676921769687,1.7851020652667136,-0.9329958040870622,0.09712389567527423,1.676772077720005,-0.7754249131100317,-0.16680734671125194,-1.4214655661158568,1.3084501200611967,-1.66963971940468,-0.39331550249073327,-0.7183054651308586,0.6407434695460292,-1.0590525168686866,0.5954418383901333,-0.42089040841171316,0.7924054521114214,-0.6099754775841502,-0.09983971804601388,1.143000684535314,0.012429541775120675,-0.6927001953470909,0.9066443480697682,0.4181745860409741,0.7549823655043766,0.3098445984942656,-0.8620889031473986,1.9466122285181695,-1.6203988159743579,0.7234681873089706,-1.3761639349599604,-0.24559279219976718,1.3242072091588988,-0.24362315606255386,0.33151059600360716,0.5462009349598114,-1.1811699573758856,-1.6420648134836997,-0.7064876483075809,1.0386099692630315,0.1640915243405123,1.1567881374958038,0.7884661798369953,-0.29877296790451474,-0.5942183884864469,0.5560491156458757,-1.3367712122157027,1.0189136078909027,-1.7070628060117248,0.4181745860409741,1.5822295431337867,1.093759781104992,0.6939236452507774,-1.1831395935130984,-0.7045180121703681,0.6781665561530741,-0.6217932944074274,-0.10771826259486551,-0.42679931682335204,0.6013507468017717,1.548745728801168,-1.5238866452509268,0.22121097231968595,0.0478829922449522,0.26651260347558187,-2.2388645630592023,1.235573582984319,-2.03205276865185,0.17393970502657669,0.31378387076869113,-0.30665151245336636,1.8441911493831,0.5186260290388308,0.7707394546020798,-2.1029596695915136,-0.6198236582702146,-1.7405466203443436,-1.1831395935130984,-0.20620006945550956,1.6807113499944306,0.8416463555417435,-1.8173624296956459,1.5093530060569103,-0.03484172551798858,0.9795208851466451,-1.1673825044153952,-0.7695160046983934,-2.5402188920527737,1.2946626671007055,-1.236319769217846,-0.36771023270696557,1.0839116004189275,-0.875876356107889,-0.4622527672931841,0.9046747119325554,-0.8620889031473986,0.8337678109928919,-0.7852730937960961,-1.4175262938414315,-0.0742344482622462,0.764830546190441,0.4024174969432708,1.3911748378241373,-2.165988025982326,-1.2166234078457172,-1.7622126178536852,0.5757454770180045,0.04197408383331389,-1.781908979225814,0.0518222645193783,0.5245349374504698,-0.0742344482622462,0.5186260290388308,0.8357374471301046,2.409476720763197,-0.31059078472779195,-0.3874065940790944,0.6880147368391385,0.6742272838786486,0.008490269500694578,-0.04665954234126576,-0.17271625512289024,-0.7183054651308586,0.3157535069059039,-2.29204473876395,2.153424022925522,1.0858812365561408,1.7496486147968815,0.1936360663987055,-0.09787008190880112,0.39059968011999363,-1.118141600985073,0.20545388322198269,2.1278187531417543,1.093759781104992,0.37287295488507755,-0.2711980619835343,-1.3210141231180001,1.9800960428507883,0.8219499941696147,1.29072339482628,0.26257333120115633,-1.2796517642365297,-0.36967986884417836,2.307055641628127,0.9125532564814071,-0.09787008190880112,-1.001933068889513,-1.1831395935130984,1.170575590456295,0.2527251505150919,2.2420576491001016,-0.24756242833697994,-2.012356407279721,1.048458149949096,0.9677030683233679,1.7338915256991783,1.53692791197789,0.8298285387184663,0.3354498682780327,-1.8488766078910521,-1.0787488782408154,0.5796847492924301,1.0642152390467987,-0.3874065940790944,0.3354498682780327,0.4024174969432708,-0.8148176358542893,-0.8857245367939535,-1.3958602963320892,-0.013175728008647003,-0.7458803710518385,-0.7675463685611806,1.0031565187931994,-1.1516254153176924,-0.25347133674861827,-0.5725523909771053,1.4128408353334785,0.1384862545567446,-1.0176901579872164,-0.5863398439375953,0.28030005643607236,0.030156267010036156,2.2243309238651863,-0.16286807443682585,0.44377985582474117,-0.41498150000007483,-0.8778459922451018,-1.2323804969434204,0.22318060845689872,0.5658972963319401,-0.4287689529605648,-0.3401353267859851,0.2527251505150919,-2.0281134963774243,0.28226969257328516,-0.3125604208650047,-0.6966394676215165,-0.5804309355259569,-0.8305747249519926,-0.17271625512289024,1.1233043231631852,-0.22195715855321227,0.8672516253255106,-0.0840826289483106,0.1837878857126411,-0.2495320644741927,-2.0911418527682364,-0.4425564059210553,-0.5961880246236597,-0.18059479967174188,-0.7478500071890518,-0.34998350747204954,-1.1023845118873705,-0.4681616757048224,-0.1687769828484647,0.05379190065659106,0.31181423463147834,-0.03681136165520135,-0.5567953018794021,-0.22983570310206392,-0.39922441090237154,1.0819419642817152,-0.9251172595382111,0.1187898931846158,-0.125444987829781,2.5079585276238405,0.23105915300575036,-0.17074661898567747,1.353751751217092,-0.9861759797918104,-0.395285138627946,-0.7537589156006902,0.2290895168685376,-1.9572065954377607,0.9401281624023875,0.38272113557114196,0.845585627816169,0.23105915300575036,0.8514945362278079,0.2586340589267308,-1.9532673231633348,-1.5987328184650162,-1.1634432321409696,0.5422616626853852,1.548745728801168,0.4713547617457216,-1.6460040857581255,0.3787818632967164,1.0228528801653283,0.6151381997622621,-1.0452650639081968,0.36302477419901313,-1.0098116134383648,-2.085232944356598,-0.7636070962867546,0.8967961673837038,-0.9369350763614883,0.6368041972716038,-0.11165753486929106,-0.040750633929627446,1.5054137337824847,-2.195532568040519,0.7136200066229063,0.6860451007019257,1.702377347503773,0.4260531305898257,-0.8975423536172307,0.2606036950639436,0.2842393287104979,0.5343831181365342,0.26651260347558187,-0.858149630872973,0.4516584003735928,-1.2028359548852272,-1.0235990663988552,-0.4878580370769512,-0.4996758539002284,-1.638125541209274,-0.23377497537648945,-0.3302871460999207,-1.3466193929017671,0.09515425953806145,-0.42482968068613924,-0.8699674476962502,-0.9290565318126367,-0.6277022028190656,-0.8108783635798638,-0.25544097288583156,2.5237156167215438,-1.0354168832221324,-0.3204389654138563,0.5639276601947274,-1.0767792421036027,-0.17074661898567747,1.542836820389529,1.2158772216121903,0.3039356900826267,0.4043871330804836,1.8185858795993324,-0.6414896557795562,1.028761788576967,-0.3046818763161536,-0.07029517598782066,1.093759781104992,-0.9999634327523003,-0.4051333193140104,-0.7439107349146258,0.7589216377788022,0.8514945362278079,0.9243710733046843,-0.23771424765091556,-0.6946698314843037,-0.8955727174800179,0.5225653013132564,-1.0728399698291773,1.4285979244311817,-1.0728399698291773,-1.092536331201306,1.6570757163478764,0.5580187517830885,1.548745728801168,-0.10180935418322665,0.25666442278951745,0.1936360663987055,-0.4524045866071197,-1.2382894053550588,0.733316367995035,-1.8094838851467945,0.7352860041322478,1.042549241537457,0.1227291654590419,0.1424255268311707,-0.994054524340662,-0.5174025791351444,0.5560491156458757,1.6019259045059153,-1.2501072221783365,-2.0064474988680825,1.282844850277429,-0.17271625512289024,0.8239196303068275,-0.49573658162580286,0.5324134819993208,0.7175592788973317,-0.7675463685611806,-0.23968388378812833,-0.23377497537648945,0.8357374471301046,0.14045589069395795,-1.1595039598665435,-0.18059479967174188,-1.9749333206726765,0.23696806141738866,-0.1589288021624003,-0.5370989405072732,0.6368041972716038,-0.9586010738708299,-0.06241663143896903,0.46347621719687,-0.8522407224613342,-0.22392679469042504,-0.47013131184203516,-0.9920848882034486,-0.395285138627946,-0.42482968068613924,0.481202942431786,-0.007266819597008135,-0.6198236582702146,1.3379946621193899,-0.6966394676215165,0.2842393287104979,1.024822516302541,-0.9546618015964043,0.31969277918033,-0.9251172595382111,0.9499763430884519,-1.6105506352882935,-0.5607345741538281,1.0740634197328631,0.6230167443111138,0.38666040784556804,0.10697207636133862,-0.7970909106193739,0.5008993038039148,0.22121097231968595,-0.09983971804601388,0.6190774720366877,-0.2495320644741927,-0.1392324407902715,-0.8148176358542893,1.773284248443436,-2.110838214140365,0.03803481155888779,1.1114865063399084,-1.3741942988227476,0.7293770957206089,0.39650858853163246,-0.16680734671125194,0.536352754273747,-0.976327799105746,-0.5489167573305505,0.016368814049546213,0.43393167513867675,-1.6282773605232095,0.28226969257328516,-0.759667824012329,2.0155494933206204,1.3202679368844732,-1.2146537717085044,-0.4051333193140104,0.8692212614627239,-0.4996758539002284,1.3478428428054543,1.0740634197328631,0.7116503704856935,-1.468736833408966,1.6807113499944306,0.8810390782860011,0.11485062091019026,0.5028689399411276,1.3675392041775831,-0.032872089380775814,0.39453895239441916,-0.3716495049813911,0.5028689399411276,0.38272113557114196,-1.7306984396582792,-0.05453808689011739,0.22515024459411148,-1.0334472470849196,-0.16680734671125194,0.43984058355031563,0.6289256527227521,-0.25544097288583156,-1.4470708358996243,1.2454217636703835,-0.4484653143326936,0.09712389567527423,0.28817860098492404,2.02933694628111,2.145545478376671,0.1187898931846158,-1.917813872693503,0.2349984252801759,-1.4391922913507729,-0.20423043331829624,-0.40119404703958433,-0.6867912869354521,1.3498124789426664,0.9322496178535359,-0.17468589126010303,-0.10968789873207828,0.5974114745273461,-0.20620006945550956,-0.023023908694711406,-1.0117812495755774,0.666348739329797,-2.0202349518285727,-0.09590044577158778,1.4916262808219936,0.23893769755460198,-1.8902389667725226,0.10500244022412586,-0.0840826289483106,0.7293770957206089,-2.847482129457983,0.11682025704740304,-0.8187569081287155,0.17393970502657669,1.3360250259821764,-1.7937267960490915,0.7628609100532282,-0.7636070962867546,-0.3874065940790944,-0.3125604208650047,0.28226969257328516,-0.9310261679498495,1.739800434110817,0.04591335610773943,-0.6946698314843037,-0.5961880246236597,-0.028932817106350275,1.3931444739613497,0.2507555143778792,0.46347621719687,0.5146867567644053,0.5186260290388308,-1.1988966826108012,-0.2731676981207471,0.5816543854296429,-2.8986926690255177,-0.032872089380775814,0.2290895168685376,0.7805876352881442,0.0813668065775715,0.7372556402694606,-0.7380018265029874,0.40832640535490966,1.9111587780483374,-0.4287689529605648,-1.671609355541893,-0.5331596682328477,-0.5804309355259569,-1.0137508857127908,-0.38346732180466886,0.26454296733836913,-0.40907259158843595,-0.4977062177630156,2.0313065824183236,-0.2101393417299351,-0.5095240345862928,-1.0728399698291773,1.2020897686517003,-2.5205225306806445,-0.8620889031473986,-0.2692284258463215,1.03073142471418,0.548170571097024,0.6269560165855393,-0.028932817106350275,-0.09196117349716225,-0.6454289280539817,-0.489827673214164,-0.14317171306469703,-0.759667824012329,-0.044689906204052984,-0.49376694548859007,1.6846506222688562,-0.25741060902304436,0.18969679412427998,-1.1614735960037568,-0.05256845075290462,1.0760330558700764,-0.7123965567192198,0.561958024057514,1.8264644241481833,0.400447860806058,0.764830546190441,-0.25544097288583156,-0.5272507598212088,-0.1451413492019098,1.0327010608513927,-0.40119404703958433,-0.0643862675761818,0.7904358159742086,-0.49179730935137733,0.6565005586437326,0.0715186258915071,1.5526850010755935,0.975581612872219,-0.7399714626402002,0.9420977985396003,-0.7261840096797098,1.150879229084166,-0.5961880246236597,-0.4051333193140104,1.7358611618363915,0.26454296733836913,-0.009236455734221464,1.0464885138118831,-1.0708703336919638,-0.07226481212503343,-0.8975423536172307,-1.0669310614175382,-0.15695916602518753,0.8810390782860011,1.8047984266388424,0.6643791031925842,-0.5174025791351444,0.5639276601947274,-0.822696180403141,-0.6099754775841502,1.3734481125892208,0.5954418383901333,-0.5233114875467832,-0.7202751012680714,1.2572395804936614,1.5901080876826377,-0.2810462426695987,-0.0643862675761818,0.26651260347558187,0.6919540091135646,0.5501402072342368,2.5217459805843307,0.067579353617081,0.38272113557114196,-0.9586010738708299,0.11485062091019026,0.018338450186758982,-0.2810462426695987,-0.5134633068607188,-0.17862516353452912,1.066184875184012,0.7411949125438867,0.7805876352881442,-1.3032873978830841,0.7628609100532282,-0.023023908694711406,-1.0964756034757315,-1.0708703336919638,0.1325773461451063,-0.30074260404172753,0.0616704452054427,1.0878508726933531,-1.2461679499039104,0.0006117249518429412,0.1837878857126411,-0.4464956781954808,1.0740634197328631,-1.043295427770984,0.301966053945414,-1.051173972319835,-0.8483014501869086,0.5698365686063657,-0.9723885268313198,0.49302075925506317,-0.09983971804601388,0.4733243978829344,0.5698365686063657,1.4069319269218405,0.7195289150345445,-0.42089040841171316,0.22121097231968595,-0.1490806214763359,0.6998325536624157,0.7687698184648666,-0.39331550249073327,0.4536280365108056,2.1573632951999477,-0.8364836333636315,0.8475552639533818,-1.9532673231633348,-2.195532568040519,2.819161037303476,-1.1319290539455635,-0.8364836333636315,1.028761788576967,-1.4234352022530696,-1.317074850843574,-0.4366474975094164,1.8441911493831,-0.7222447374052842,1.0681545113212247,-0.1490806214763359,1.0996686895166308,0.9066443480697682,0.4792333062945732,-1.0826881505152417,-1.4529797443112629,0.6171078358994749,0.8554338085022334,0.6978629175252029,1.2375432191215325,1.9387336839693186,1.9860049512624272,0.18181824957542833,-0.9428439847731266,1.8382822409714612,0.32757132372918163,-0.7261840096797098,1.0327010608513927,1.2808752141402155,0.4871118508434249,1.1922415879656358,-0.7833034576588833,-0.6198236582702146,-1.8173624296956459,0.6683183754670097,-0.35983168815811395,3.8177665588704066,0.059700809068229374,-1.092536331201306,-2.225077110098712,0.06954898975429377,-0.4366474975094164,0.5087778483527665,-0.2515017006114055,1.781162792992288,0.3649944103362259,0.9775512490094324,-0.611945113721363,-2.063566946847256,0.17787897730100224,-0.37558877725581724,-1.5593400957207586,-0.7636070962867546,-0.8029998190310121,0.44377985582474117,1.1528488652213784,-0.15105025761354868,-0.6493682003284078,-0.8089087274426511,0.5008993038039148,-1.3032873978830841,1.2513306720820223,-0.6001272968980857,0.036065175421675026,0.5186260290388308,-0.9231476234009978,-1.285560672648168,-1.104354148024583,-0.8995119897544435,-0.3716495049813911,0.5402920265481724,2.1987256540814184,0.2842393287104979,0.9440674346768131,0.4949903953922765,1.9899442235368527,-0.6769431062493877,-0.8345139972264182,-0.489827673214164,-0.08211299281109784,-1.0334472470849196,-0.39331550249073327,-0.6848216507982393,0.21136279163362154,0.8475552639533818,0.6722576477414358,0.6387738334088165,0.8180107218951885,0.8239196303068275,-1.1457165069060535,-1.222532316257356,0.26651260347558187,0.660439830918158,-1.9453887786144832,-0.9093601704405079,-0.5863398439375953,-0.2002911610438707,-0.28892478721845033,2.9353695693990356,-1.0216294302616418,-2.97550847837682,1.6590453524850886,0.3768122271595037,-0.16680734671125194,0.7589216377788022,0.2862089648477107,-2.3885569094873813,0.8987658035209172,1.0228528801653283,0.3669640464734393,-0.6848216507982393,-0.854210358598547,1.416780107607905,-0.4543742227443325,1.59798663223149,1.2434521275331714,0.7136200066229063,0.21136279163362154,0.00258136108905627,-0.023023908694711406,1.6393489911129597,-0.728153645816923,0.4615065810596572,-0.48391876480252566,0.7904358159742086,-0.12347535169256822,-0.31059078472779195,-1.3781335710971738,0.9066443480697682,0.3098445984942656,1.6748024415827918,0.04394371997052666,-0.4622527672931841,0.4536280365108056,1.1449703206725272,-1.317074850843574,-0.47407058411646125,0.2901482371221368,-0.4051333193140104,1.1252739593003984,0.33938914055245883,0.9716423405977935,-1.1437468707688407,-1.7760000708141754,1.4876870085475682,-1.3328319399412774,-1.1319290539455635,0.028186630872823387,0.055761536793803836,-0.6257325666818528,0.8377070832673174,1.0858812365561408,-1.2776821280993165,-1.389951387920451,-0.4681616757048224,-0.42679931682335204,-0.34998350747204954,0.7352860041322478,0.17590934116378945,-1.1752610489642468,-0.37361914111860445,0.5895329299784945,-0.044689906204052984,-0.3046818763161536,-0.37558877725581724,-0.22786606696485115,1.4384461051172461,1.30451084778677,1.5211708228801868,-0.003327547322582597,0.48908148698063764,-0.9507225293219782,0.2862089648477107,-0.8325443610892054,0.03803481155888779,-0.0683255398506079,2.630075968131039,-1.0472347000454096,-0.28301587880681145,-0.952692165459191,0.148334435242809,1.6610149886223018,-0.08605226508552337,-0.539068576644486,-1.407678113155367,-1.2501072221783365,0.7490734570927378,0.6052900190761977,-1.2698035835504653,-1.486463558643882,1.1390614122608884,-0.3421049629231979,0.9913387019699224,0.6899843729763513,-1.5238866452509268,-1.1713217766898212,-0.6257325666818528,1.150879229084166,0.04591335610773943,-0.01514536414585977,-0.3263478738254952,0.9558852515000902,0.20545388322198269,-0.871937083833463,-0.875876356107889,-1.6085809991510807,-0.8483014501869086,-0.8384532695008443,-0.36967986884417836,0.004550997226269039,-0.10771826259486551,-0.07620408439945897,0.21530206390804707,-0.840422905638057,0.4555976726480189,-0.19832152490665794,-1.5908542739161646,-0.18847334422059353,-0.50755439844908,-1.1220808732594991,0.44968876423638005,-1.4746457418206047,0.07742753430314542,0.9558852515000902,0.20151461094755713,0.5678669324691529,0.6998325536624157,1.0839116004189275,-0.1490806214763359,0.301966053945414,0.18575752184985386,-0.3302871460999207,0.31181423463147834,0.41423531376654793,0.6722576477414358,0.6860451007019257,0.45953694492244446,0.9204318010302587,-0.125444987829781,1.422689016019543,-1.986751137495954,-0.840422905638057,0.014399177912333444,0.4181745860409741,0.0518222645193783,-0.1352931685158454,-0.9487528931847655,-0.9132994427149334,0.4851422147062121,0.7707394546020798,1.7358611618363915,-0.23377497537648945,0.6958932813879901,-0.07620408439945897,0.31378387076869113,-1.4273744745274959,-1.7720607985397496,0.10894171249855139,0.9617941599117291,0.18772715798706663,0.5501402072342368,0.20348424708476992,0.5166563929016181,-0.871937083833463,0.3787818632967164,-2.9124801219860075,-1.5829757293673132,0.8849783505604266,0.036065175421675026,1.1823934072795717,0.08924535112642258,0.301966053945414,-0.6670949255633233,0.20151461094755713,-1.9040264197330128,-0.724214373542497,0.9184621648930459,0.7116503704856935,1.8382822409714612,0.09909353181248699,-0.724214373542497,0.5698365686063657,-1.8035749767351559,-0.3874065940790944,0.067579353617081,0.08727571498920982,0.6269560165855393,1.048458149949096,-0.9645099822824688,-0.25544097288583156,0.04985262838216497,-0.6533074726028333,0.08924535112642258,2.9747622921432932,1.59798663223149,-0.9822367075173842,-1.1752610489642468,-0.6533074726028333,0.33151059600360716,-1.519947372976501,0.33741950441524604,-1.2776821280993165,1.1666363181818682,-1.6400951773464867,-0.6986091037587299,-0.6001272968980857,1.5566242733500188,0.0616704452054427,-1.6322166327976353,-0.4878580370769512,2.2755414634327207,-0.30862114859057915,0.8278589025812529,-0.8049694551682249,1.2001201325144881,0.1187898931846158,-1.4431315636251985,0.764830546190441,0.24287696982902754,-0.22786606696485115,0.2862089648477107,-0.23574461151370277,-1.1260201455339247,-0.7025483760331553,-0.21210897786714789,1.7496486147968815,-0.661186017151685,2.2066041986302696,-0.5351293043700605,0.04591335610773943,3.224906081569329,-0.3421049629231979,-0.6473985641911945,0.8731605337371494,0.6624094670553714,-0.7478500071890518,1.241482491395958,1.028761788576967,0.6722576477414358,-0.8384532695008443,-1.1535950514549052,-0.6040665691725113,0.3649944103362259,1.3734481125892208,-1.0314776109477062,-0.7813338215216706,-0.6986091037587299,0.8436159916789563,-0.8660281754218248,-1.7070628060117248,0.09318462340084868,-1.2776821280993165,0.4043871330804836,-0.16680734671125194,-1.137837962357202,0.3039356900826267,-0.12150571555535546,0.536352754273747,-0.1608984382996131,-0.2613498812974699,-0.5233114875467832,0.7136200066229063,1.9466122285181695,-1.1949574103363756,-0.47407058411646125,-0.42482968068613924,0.8061929050719114,-0.07620408439945897,0.15227370751723512,1.5093530060569103,0.4457494919619545,1.4640513749010138,2.4567479880563052,0.8869479866976394,-1.5396437343486298,0.26454296733836913,-0.8837549006567402,-1.1260201455339247,-1.2166234078457172,1.3419339343938153,-0.5193722152723572,1.501474461508058,0.5284742097248952,-1.0393561554965578,0.8101321773463375,1.6984380752293462,-0.4386171336466292,-0.8857245367939535,0.24287696982902754,-0.36771023270696557,-0.40907259158843595,-0.09787008190880112,-0.63755038350513,0.400447860806058,1.2060290409261258,-0.06635590371339456,1.8402518771086744,0.08924535112642258,0.10106316794970031,-0.1608984382996131,0.2487858782406664,-1.0216294302616418,0.9795208851466451,0.19757533867313104,-0.6217932944074274,-1.748425164893195,-0.9507225293219782,0.2783304202988596,1.79691988208999,1.2375432191215325,-0.40119404703958433,0.6269560165855393,0.5245349374504698,-0.4169511361372876,-0.13332353237863262,-0.1352931685158454,0.530443845862108,0.6131685636250493,1.8028287905016291,-1.720850258972215,-1.389951387920451,-1.3801032072343866,-1.2205626801201432,0.026216994735610618,0.26257333120115633,-0.20226079718108347,-0.7557285517379029,-0.39331550249073327,0.733316367995035,2.383871450979429,-1.488433194781095,0.7924054521114214,0.7352860041322478,-1.0472347000454096,1.4522335580777361,0.6466523779576682,-0.8423925417752698,0.9145228926186199,-1.900087147458587,-0.2416535199253411,-0.06241663143896903,-1.4273744745274959,-0.9113298065777207,-0.7990605467565867,-1.118141600985073,0.004550997226269039,-0.678912742386601,-0.9389047124987011,-0.531190032095635,-0.7970909106193739,1.2749663057285767,1.066184875184012,0.4654458533340833,-0.25347133674861827,1.2060290409261258,-0.19241261649501906,-1.3643461181366832,-0.45043495046990634,0.3768122271595037,0.19560570253591827,-0.17074661898567747,1.5704117263105088,0.8298285387184663,-0.4386171336466292,0.39847822466884525,1.534958275840678,-0.19438225263223183,-0.18256443580895465,0.7924054521114214,0.28817860098492404,-0.22786606696485115,-0.4425564059210553,-1.415556657704218,-1.309196306294723,1.6078348129175544,-1.4057084770181536,-1.2441983137666976,-0.25544097288583156,-0.46619203956760963,2.399628540077132,-0.5331596682328477,-1.419495929978644,0.8692212614627239,-0.2751373342579604,0.3590855019245876,0.20151461094755713,-1.1398075984944147,1.093759781104992,0.04394371997052666,-0.7793641853844578,1.9269158671460407,0.5146867567644053,-0.44452604205826807,-0.9290565318126367,-0.7183054651308586,1.3340553898449632,-0.36967986884417836,-0.11756644328092992,-2.4397674490549166,-0.42089040841171316,-0.25544097288583156,0.37484259102229034,0.9637637960489419,-0.7458803710518385,0.5008993038039148,0.8810390782860011,0.536352754273747,0.7037718259368418,-0.5528560296049765,0.7845269075625698,-1.0767792421036027,-1.0590525168686866,-1.5494919150346942,-0.25544097288583156,-0.1549895298879742,1.0031565187931994,1.9328247755576797,1.704346983640985,-0.0742344482622462,0.22711988073132425,0.09515425953806145,1.0208832440281155,2.135697297690607,0.06364008134265547,-1.3131355785691485,-1.4451011997624115,0.2349984252801759,0.0577311729310166,-0.710426920582007,-0.23968388378812833,-0.63755038350513,0.1640915243405123,-0.023023908694711406,0.07939717044035818,0.16015225206608674,-0.05256845075290462,0.14045589069395795,-0.5469471211933377,0.02030808632397175,1.1587577736330172,-0.20620006945550956,0.44181021968752837,1.9407033201065307,0.1424255268311707,0.8613427169138723,-0.7557285517379029,1.0681545113212247,-1.068900697554751,1.5566242733500188,1.2257254022982547,0.7727090907392926,-1.5317651897997782,-2.628852518227353,1.241482491395958,0.8928568951092782,0.46347621719687,-1.1673825044153952,-0.18847334422059353,-2.4574941742898324,-1.6657004471302543,0.8652819891882978,0.9361888901279615,-1.5475222788974814,-0.3558924158836884,0.6722576477414358,-0.6198236582702146,0.7668001823276538,-0.7478500071890518,1.339964298256602,1.9249462310088274,-0.125444987829781,-1.5790364570928874,1.2493610359448102,-0.6336111112307046,0.09909353181248699,-0.6080058414469368,-0.03878099779241468,1.739800434110817,0.4792333062945732,-1.285560672648168,0.2290895168685376,-1.91584423655629,0.067579353617081,1.2533003082192358,0.09121498726363592,1.0819419642817152,0.02424735859839785,0.06364008134265547,-0.9211779872637851,1.1607274097702305,0.6565005586437326,1.0583063306351603,-0.24362315606255386,-0.629671838956279,0.10697207636133862,-0.01514536414585977,0.18575752184985386,0.39847822466884525,-0.9113298065777207,0.40635676921769687,-1.340710484490129,-0.8167872719915027,-0.458313495018758,2.2972074609420625,0.02030808632397175,-0.6355807473679173,1.7279826172875394,0.7530127293671638,-2.1049293057287266,-0.6730038339749621,-1.0807185143780282,-0.5804309355259569,0.09712389567527423,0.4299924028642512,-1.236319769217846,-0.09590044577158778,1.0149743356164767,0.5245349374504698,0.27439114802443354,2.848705579361669,0.9598245237745163,-0.6158843859957884,-0.4287689529605648,-0.4819491286653129,0.4536280365108056,-1.2796517642365297,0.3452980489640971,0.055761536793803836,0.6958932813879901,-0.3421049629231979,0.5718062047435785,0.008490269500694578,-0.09590044577158778,0.4792333062945732,0.39059968011999363,0.14439516296838348,0.08530607885199705,0.3669640464734393,1.422689016019543,-0.9723885268313198,0.2960571455337751,-1.0452650639081968,-0.5745220271143181,0.3709033187478648,-0.6336111112307046,0.42408349445261234,0.3059053262198395,-1.7897875237746657,1.2139075854749781,0.49105112311785043,-0.42286004454892645,-0.7872427299333095,-2.0931114889054494,2.0766082135742203,-1.2520768583155493,0.026216994735610618,-0.5587649380166149,-0.43467786137220366,0.28817860098492404,0.530443845862108,-0.588309480074808,-0.5134633068607188,0.5658972963319401,0.9263407094418971,-0.36574059656975283,-0.7261840096797098,0.1325773461451063,0.9243710733046843,1.2158772216121903,-0.9901152520662359,-1.007841977301152,0.5521098433714496,0.481202942431786,0.993308338107135,0.8849783505604266,-1.2973784894714453,0.46347621719687,0.20742351935919545,0.6821058284275002,-0.7892123660705223,-0.38346732180466886,-1.2028359548852272,1.27693594186579,1.5881384515454255,2.9255213887129714,-0.4051333193140104,-1.9040264197330128,1.0760330558700764,-0.17074661898567747,-1.9197835088307158,-0.994054524340662,-0.875876356107889,0.13060771000789353,-2.1718969343939647,-1.671609355541893,-0.9546618015964043,-0.6592163810144722,-0.6828520146610265,-0.1451413492019098,0.4299924028642512,0.17590934116378945,0.7037718259368418,-1.5947935461905904,0.9657334321861546,-3.505340599287085,-0.710426920582007,-1.1220808732594991,0.09712389567527423,-0.3263478738254952,-1.2835910365109553,0.9420977985396003,-0.14711098533912315,0.9027050757953426,-0.23968388378812833,0.796344724385847,-0.18256443580895465,0.8317981748556791,-1.0039027050267264,-0.08014335667388507,0.4713547617457216,0.016368814049546213,-0.17665552739731635,-0.6848216507982393,-0.19438225263223183,-0.9073905343032951,-1.6322166327976353,0.8298285387184663,0.660439830918158,0.4162049499037613,1.0543670583607343,0.9598245237745163,1.0149743356164767,-0.791182002207735,-1.0590525168686866,0.34726768510131045,-0.12741462396699432,1.0602759667723731,-0.30862114859057915,-0.63755038350513,-0.25347133674861827,0.0478829922449522,-2.561884889562115,0.5146867567644053,0.6761969200158614,0.512717120627192,-1.3032873978830841,1.1567881374958038,-0.9782974352429586,0.04985262838216497,1.726012981150327,-0.9664796184196816,-0.265289153571896,-0.6493682003284078,-0.4386171336466292,-0.5981576607608724,-0.8305747249519926,-1.7129717144233632,-0.19241261649501906,-0.9152690788521467,-0.5666434825654665,-0.25938024516025715,-0.11953607941814269,-0.8463318140496959,1.1922415879656358,-0.5843702078003825,0.18181824957542833,0.6742272838786486,-0.5804309355259569,-0.45043495046990634,0.530443845862108,1.326176845296112,-0.5508863934677637,-0.4563438588815452,1.3517821150798797,-1.0905666950640927,0.5402920265481724,0.18772715798706663,0.5698365686063657,-0.1451413492019098,1.6038955406431288,0.3413587766896716,1.4857173724103558,0.7254378234461833,-0.9113298065777207,-0.5824005716631697,0.548170571097024,0.5324134819993208,-0.6040665691725113,0.3492373212385232,-1.6755486278163187,1.7063166197781983,-1.7110020782861506,0.17787897730100224,0.39453895239441916,-1.285560672648168,0.31969277918033,-0.3854369579418816,1.2119379493377647,-1.4588886527229017,-0.3046818763161536,-1.6794879000907441,0.33741950441524604,0.4615065810596572,-0.1352931685158454,-0.328317509962708,-2.2723483773918214,0.13454698228231907,1.1036079617910564,1.5743509985849355,0.4024174969432708,0.010459905637907347,0.4871118508434249,2.054942216064878,-1.5928239100533776,-0.9192083511265723,-0.14317171306469703,0.652561286369307,-0.5331596682328477,0.660439830918158,-1.2698035835504653,0.2606036950639436,0.49892966766670205,-0.7970909106193739,-1.019659794124429,-0.7852730937960961,0.5205956651760436,-1.3348015760784901,-0.8384532695008443,0.351206957375736,-0.0840826289483106,0.08924535112642258,-0.9369350763614883,-0.45043495046990634,1.3931444739613497,1.1173954147515464,1.822525151873758,0.21727170004525986,-0.19241261649501906,-1.2560161305899749,-0.5430078489189121,0.8692212614627239,-0.9861759797918104,1.1902719518284237,-0.822696180403141,-1.4352530190763468,1.3202679368844732,1.1390614122608884,-1.4588886527229017,2.210543470904695,-0.3381656906487724,-0.8187569081287155,0.48908148698063764,2.4587176241935187,0.010459905637907347,-1.6164595436999323,3.28005589341129,0.010459905637907347,0.9066443480697682,-1.0570828807314738,-0.395285138627946,-0.01514536414585977,0.5324134819993208,0.6072596552134105,-1.9138746004190772,-0.32437823768828244,-0.18059479967174188,0.5166563929016181,-1.4588886527229017,-0.9842063436545976,0.38272113557114196,-2.697789783029804,-0.858149630872973,0.03803481155888779,0.3768122271595037,-0.5942183884864469,0.5974114745273461,-0.0013579111853698278,-0.19832152490665794,0.5777151131552173,1.7476789786596683,-0.30074260404172753,-1.1949574103363756,-0.4543742227443325,-1.236319769217846,-1.1634432321409696,0.148334435242809,0.4654458533340833,0.2999964178082012,-0.0781737205366723,-0.5213418514095706,-0.33422641837434686,0.17393970502657669,0.6269560165855393,0.17393970502657669,-0.48391876480252566,0.8416463555417435,-0.35195314360926233,-0.12741462396699432,-0.31059078472779195,0.0518222645193783,0.5974114745273461,0.4024174969432708,1.6098044490547665,0.4201442221781868,1.3084501200611967,1.8894927805389965,-1.535704462074204,-1.638125541209274,-0.5981576607608724,0.1424255268311707,0.796344724385847,-0.8049694551682249,-0.25544097288583156,-0.8364836333636315,0.1542433436544479,0.9795208851466451,-1.3505586651761934,-0.6749734701121749,-0.611945113721363,0.24681624210345307,1.101638325653844,0.8298285387184663,-0.47013131184203516,-1.0787488782408154,0.8928568951092782,0.7116503704856935,-1.169352140552608,-0.6257325666818528,-0.0013579111853698278,-0.24756242833697994,-0.060446995301756255,-1.4313137468019212,0.2606036950639436,1.318298300747261,0.15818261592887342,-2.063566946847256,0.41423531376654793,-1.2304108608062077,-0.9999634327523003,1.3970837462357764,0.5402920265481724,-0.30074260404172753,0.7687698184648666,1.5566242733500188,0.7057414620740545,0.5639276601947274,-0.21210897786714789,-0.31059078472779195,1.0740634197328631,-0.5981576607608724,0.27045187575000795,-1.0039027050267264,0.26454296733836913,-0.265289153571896,1.318298300747261,0.9007354396581299,-2.215228929412648,1.2119379493377647,-2.5106743499945803,-0.04272027006684022,-1.0452650639081968,0.9558852515000902,0.13651661841953183,-1.1890485019247368,0.666348739329797,-0.38346732180466886,-1.0098116134383648,-0.2948336956300892,0.1837878857126411,-0.11953607941814269,0.8160410857579757,0.12075952932182914,-0.2002911610438707,-0.6454289280539817,-2.1581094814334745,-0.19241261649501906,0.11091134863576473,0.8574034446394462,0.8731605337371494,0.5974114745273461,0.7372556402694606,-0.9723885268313198,-1.2422286776294849,-2.197502204177732,0.3413587766896716,-0.08605226508552337,-1.3525283013134062,0.9322496178535359,-0.18059479967174188,1.0070957910676255,1.395114110098563,-0.5134633068607188,0.9893690658327096,1.6157133574664053,-0.6867912869354521,-0.9960241604778748,0.536352754273747,-0.026963180969136944,2.02933694628111,1.3281464814333255,0.27045187575000795,-2.7529395948717643,0.6052900190761977,0.3256016875919683,-1.3879817517832382,-1.4372226552135603,0.6052900190761977,0.1837878857126411,-1.1752610489642468,-0.9034512620288689,-0.9448136209103399,1.235573582984319,-0.9290565318126367,0.7707394546020798,-1.4628279249973273,-0.37361914111860445,1.079972328144502,-0.007266819597008135,-0.7045180121703681,-0.47800985639088683,-1.1437468707688407,0.863312353051085,-0.07620408439945897,0.9204318010302587,-0.5114936707235062,0.26454296733836913,0.12666843773346745,-1.6420648134836997,-0.2908944233556631,0.8219499941696147,1.6019259045059153,-0.05453808689011739,-0.5292203959584216,-0.36967986884417836,0.3413587766896716,-0.6887609230726655,0.9145228926186199,0.5580187517830885,0.17590934116378945,-0.14711098533912315,-1.2205626801201432],\"type\":\"scatter3d\"},{\"hovertemplate\":\"Churn=1<br>Total day minutes=%{x}<br>Total eve minutes=%{y}<br>Total night minutes=%{z}<br>Cluster=%{marker.color}<extra></extra>\",\"legendgroup\":\"1\",\"marker\":{\"color\":[0,0,1,0,1,0,0,0,0,0,0,0,1,0,0,1,0,0,0,1,0,0,0,0,0,1,0,0,1,0,0,0,0,0,0,0,0,0,0,0,0,0,0,0,0,0,0,1,1,0,0,1,1,0,1,0,0,0,1,0,0,0,0,0,1,0,0,0,0,0,0,0,0,0,1,0,0,0,0,0,1,0,0,0,0,0,0,0,1,0,1,1,0,0,1,0,0,0,1,0,0,1,0,0,0,1,0,0,0,0,0,0,0,0,1,1,1,1,0,0,0,0,0,0,0,0,1,0,0,0,0,0,0,0,0,0,0,0,0,1,0,1,1,0,0,1,0,0,0,0,1,0,0,1,0,0,0,0,0,0,0,0,0,0,0,0,0,0,0,0,0,0,0,0,0,0,0,0,0,0,0,0,0,0,0,0,1,0,0,0,0,1,0,0,0,0,0,0,1,0,0,0,1,1,0,0,1,0,0,0,0,0,0,0,0,0,0,0,0,0,0,0,1,0,0,0,0,0,0,0,0,0,0,0,0,0,0,0,0,0,0,0,0,0,0,0,0,0,0,0,0,0,0,0,0,1,0,0,1,0,0,0,1,1,1,0,0,0,0,0,1,0,0,1,0,0,0,0,0,0,0,0,0,0,0,0,0,0,0,0,1,0,1,0,0,0,0,1,0,0,0,0,0,1,0,0,0,0,0,1,1,0,0,0,1,0,1,0,0,0,0,0,1,0,0,0,0,0,1,0,0,0,0,0,0,0,0,0,1,0,0,0,1,0,0,0,0,0,1,0,0,0,0,0,0,0,0,0,0,0,0,0,0,0,0,0,0,0,0,0,0,1,0,0,0,0,0,1,0,0,0,0,1,1,0,0,0,0,0,0,0,0,0,0,0,0,1,0,1,0,0,0,0,0,0,0,0,0,1,0,0,1,0,0,0,1,1,0,0,0,1,0,0,0,0,1,0,0,0,0,0,1,0,0,0,0,0,0,0,0,1,0,0,0,0,0,1,0,0,0,0,0,1,0,0,0,0,0,1,0,0,1,0,0,0,0,0,1,0,0,0,0,0,0,0,0,0,0,0,0,0,0,0],\"coloraxis\":\"coloraxis\",\"opacity\":0.7,\"symbol\":\"diamond\"},\"mode\":\"markers\",\"name\":\"1\",\"scene\":\"scene\",\"showlegend\":true,\"x\":[-2.1601702331866517,1.2936926895622558,-0.11774167790724975,-0.5254893840651068,0.3490464200924693,-0.010730967693875257,2.229113897806752,-2.1749303311471175,0.5741379139895667,-0.3981835391560925,1.0778262568904493,0.6018130976654393,0.3195262241715386,1.9007017181863963,-2.007034216846823,0.14794008538112788,-0.2284424126107404,2.913613440723335,-2.237660747479095,2.092582991672446,0.8711848854439331,1.3047627630326049,2.4449803304785585,-0.8188463310293571,0.3508914323375274,-0.4074086003813834,1.7088204447003463,1.2770875793567322,0.8121444936020716,1.7180455059256372,-0.9443071636933128,0.6184182078709631,-1.337294771890705,1.4320686079416196,3.1608450815611313,0.7106688201238719,-0.25796260853167113,0.9246902405506204,-0.2247523881206237,-0.4129436371165581,1.1110364773014962,-0.14726187382818048,1.3066077752776635,1.8176761671587782,1.4191535222262115,1.574134550811099,-0.023646053409282813,0.8619598242186423,-1.5291760453767553,-0.900026869811917,0.6903736854282321,-0.16017695954358752,1.5944296855067384,-1.9590638984753106,1.0704462079102166,-0.12327671464242397,2.0040224039096546,-0.09929155545666797,0.7678641997206753,0.5519977670488688,1.0095608038232964,-0.3649733187450456,2.87855820806723,2.0999630406526797,0.7512590895151516,2.2143537998462866,1.5169391712142952,0.7918493589064318,1.692215334494822,-0.32069302486364926,-0.6361901187685974,0.9486753997363769,-0.0476312125950388,1.5888946487715647,1.6977503712299968,2.4929506488500714,-0.21737233914039142,0.020634240472113548,1.6313299304079019,1.6959053589849382,-0.23213243710085651,-1.0826830820726765,2.622101506004144,1.4855739630483065,0.22912062416368778,1.6294849181628444,1.989262305949189,-0.9904324698197675,-0.21368231465027476,1.4376036446767932,-0.08453145749620235,-0.8354514412348808,1.8176761671587782,3.0870445917588043,1.6313299304079019,1.8047610814433712,1.548304379380284,0.27155590580002553,0.6737685752227084,-1.246889171882854,-0.0476312125950388,0.40439678744421464,-0.267187669756962,0.17746028130205863,-0.578994739171794,1.675610224289299,-1.3483648453610537,0.25495079559450234,-0.8834217596063934,1.9855722814590728,1.0261659140288202,1.0575311221948094,1.6866802977596473,1.1719218813884162,-0.32069302486364926,0.12764495068548803,0.8342846405427696,-0.9037168943020332,-1.0660779718671527,1.2586374569061505,-1.2413541351476796,1.5556844283605173,1.679300248779415,0.1793052935471167,-1.8612782494872273,-0.8741966983811024,-0.4867441269188852,2.616566469268969,1.0593761344398676,-0.5771497269267359,-3.3114578741029543,-0.8446765024601717,1.9597421100282577,0.7069787956337558,1.2088221262895797,-1.245044159637796,1.2217372120049868,1.6645401508189495,-0.5550095799860375,-1.233974086167447,0.2992310894758982,-0.10113656770172605,0.02985930169740443,1.7309605916410442,-0.8520565514404039,-0.48120909018371044,0.6350233180764868,0.8084544691119555,1.5114041344791205,-2.453527180150902,-0.5457845187607466,1.1571617834279506,1.474503889577957,-0.42401371058690707,-2.18231038012735,-0.2598076207767292,1.0593761344398676,1.1590067956730092,1.0501510732145767,-1.112203277993607,-0.3705083554802198,2.072287856976807,0.8453547140131191,-0.9627572861438949,1.1350216364872527,2.7733925100989145,1.6387099793881352,-1.1804687310607598,-1.0919081432979674,1.826901228384069,-0.8926468208316842,1.640554991633193,0.9837306323924824,1.9726571957436647,-0.0033509187136424434,-1.224749024942156,-0.3354531228241143,0.2032904527328732,1.2125121507796959,-0.8649716371558115,-1.0605429351319782,1.1626968201631254,-0.4775190656935943,1.976347220233782,0.14425006089101172,-2.3114612372814225,-0.8040862330688915,0.17746028130205863,1.9855722814590728,-0.2524275717964964,0.7900043466613738,-0.5955998493773178,1.3877883140602227,-0.5568545922310956,1.0981213915860892,2.138708297798901,-0.3170030003735326,1.7198905181706947,-0.4313937595671399,0.8435097017680605,1.2992277262974306,1.7770858977674986,0.8527347629933514,-0.21552732689533283,-0.5328694330453396,1.487418975293365,-0.911096943282266,-0.9369271147130805,-0.45168889426277975,1.0538410977046928,1.0759812446453914,0.45236710581572714,1.7162004936805786,1.9726571957436647,2.7420273019329255,-0.6195850085630737,0.7032887711436391,1.6663851630640079,1.5077141099890043,0.9117751548352133,2.0464576855459917,2.1885236284154725,0.7863143221712571,1.0464610487244599,-0.7911711473534845,2.0353876120756436,0.3084561507011891,-0.12143170239736589,1.343508020178827,-1.5310210576218135,1.2973827140523726,0.8582697997285261,1.6700751875541242,-2.4313870332102034,-1.6601719147758858,1.3250578977282452,-2.429542020965146,-0.18969715546451876,-0.6361901187685974,1.8342812773643014,0.6959087221634063,2.2826192529134386,-0.8520565514404039,-0.2358224615909732,1.7900009834829056,0.8785649344241659,1.2143571630247545,-0.6675553269345863,1.6903703222497646,-0.2284424126107404,-0.40002855140115057,0.007719154756706515,1.740185652866335,-0.0956015309665513,2.295534338628846,-1.0291777269659892,0.9062401181000386,0.4154668609145636,0.5538427792939269,2.1848336039253553,0.6147281833808469,2.1294832365736096,-0.6730903636697609,0.4025517751991565,0.4431420445904362,2.708817081521878,-0.5974448616223759,-0.36128329425492894,-1.8040828698904237,-1.3003945269895412,-1.2893244535191923,1.8453513508346508,-0.769031000412786,-0.3170030003735326,-1.6029765351790823,-1.0402478004363385,-1.1896937922860507,0.09627974251949871,2.116568150858203,1.474503889577957,2.551991040691933,2.4449803304785585,-0.8834217596063934,-1.03840278819128,3.0593694080829317,1.5759795630561566,0.8416646895230024,-0.3151579881284745,0.8250595793174788,2.194058665150646,-0.4055635881363253,0.8748749099340498,2.6368616039646087,1.2346522977203944,2.002177391664596,2.25125404474745,-1.47382567802501,0.35642646907270215,1.4099284610009213,1.8158311549137196,0.8379746650328863,2.382249914146581,-0.6398801432587136,1.500334061008772,2.4837255876247806,2.0612177835064576,1.5187841834593538,1.2125121507796959,0.6774585997128245,-0.19338717995463492,-1.3741950167918684,1.7438756773564512,1.0667561834201003,-0.45722393099795444,0.7180488691041047,-0.06977135953573724,-1.2598042575982613,1.4486737181471427,1.3269029099733032,-0.22290737587556564,-0.9277020534877897,-0.995967506554942,-1.650946853550595,-0.3077779391482417,-1.0144176290055238,1.9597421100282577,1.6903703222497646,-1.307774575969774,-1.6546368780407112,1.8416613263445347,-0.29670786567789276,-0.5623896289662703,2.016937489625062,1.9911073181942465,1.2235822242500454,-1.1380334494244218,1.1571617834279506,0.0483094241479862,-0.21183730240521667,1.4191535222262115,1.022475889538704,0.9966457181078894,0.32875128539682946,-0.8077762575590082,0.8564247874834681,-1.0550078983968036,1.5981197099968556,1.609189783467204,-1.2727193433136685,-1.7302823800880964,1.7198905181706947,-0.38895847793080157,-0.4609139554880706,2.317674485569545,-0.8852667718514514,0.8638048364637009,-0.7413558167369133,2.0685978324866907,-0.1804720942392279,2.635016591719551,-0.7634959636776117,0.4874223384718326,0.782624297681141,-0.6694003391796448,1.2549474324160341,0.8564247874834681,-1.401870200467741,1.2420323467006271,-0.08822148198631902,1.116571514036671,2.1257932120834937,-0.9922774820648256,0.8656498487087589,1.5685995140759244,1.3951683630404557,1.2770875793567322,-1.0568529106418618,-1.4074052372029155,-0.757960926942437,1.9689671712535486,1.61287980795732,-1.3317597351555304,0.36934155478810915,-0.13619180035783152,0.1221099139503133,-0.7284407310215063,2.6128764447788533,-1.1269633759540725,-0.9295470657328477,2.830587889695717,-0.37604339221539457,0.44129703234537815,1.334282958953536,2.7125071060119943,-0.8317614167447641,-2.156480208696536,0.19037536701746616,2.295534338628846,-0.12512172688748255,1.6073447712221465,-0.16755700852382033,2.1571584202494827,1.0464610487244599,1.0132508283134132,0.22912062416368778,0.5870529997049743,-0.4701390167133615,1.8508863875698256,-0.7874811228633678,0.8970150568747477,-1.6564818902857694,0.7604841507404425,-0.4037185758912672,1.5722895385660405,1.2992277262974306,-1.7026071964122238,-0.9701373351241275,-0.5716146901915612,2.6387066162096673,0.3711865670331672,-0.5070392616145251,2.8564180611265324,-0.4664489922232454,2.635016591719551,-0.4627589677331287,-0.3594382820098709,0.9265352527956785,1.6018097344869717,-1.525486020886639,1.9357569508425012,-0.6694003391796448,-1.7930127964200746,1.7420306651113926,-0.4701390167133615,-0.8871117840965095,1.6516250651035422,2.107343089632912,-0.9184769922624988,1.6460900283683675,1.7826209345026733,0.004029130266589846,-1.800392845400307,-0.48858913916394325,-2.005189204601765,1.8785615712456984,1.0796712691355075,-0.40002855140115057,1.6553150895936586,1.2973827140523726,0.9708155466770748,1.6165698324474373,2.4671204774192566,0.2955410649857821,1.7291155793959856,-0.36866334323516176,1.1110364773014962,1.1147265017916128,0.33797634662212034,-0.6029798983575501,-0.21552732689533283,-1.2265940371872142,0.5852079874599156,1.2494123956808594,0.9542104364715511,1.129486599752078,1.3951683630404557,1.8379713018544186,1.2494123956808594,1.0999664038311472,1.5538394161154587,2.6792968856009467,1.596274697751797,2.14977837126925,1.7973810324631379,1.9911073181942465,-0.9387721269581386,-1.1878487800409925,0.8933250323846316,1.7032854079651716,-1.2210590004520396,2.0224725263602363,2.1313282488186682,1.8545764120599417],\"y\":[-0.5984489011277974,1.021041251063971,0.06897734341184054,0.37913424528614253,-2.455464275641025,-0.6141530480581421,-0.38055386246926864,-2.4201299450477505,0.958224663342593,-0.8909386377054623,0.9268163694819044,0.17694335355795843,1.0701167102212974,0.383060282018729,-0.8418631785481361,-1.055832180474079,-0.44925950528952546,0.530286659490708,-1.2109106314112301,-0.013469427972468008,0.544027788054759,1.3096049509090502,-1.3934713394764837,-1.3012094762607105,1.3233460794731013,-1.6192184516001848,1.3370872080371525,0.3850233003850219,-0.22743842989841032,0.9484095715111278,-0.06450790549608727,-0.46692667058616305,-1.8587066922879374,2.1949262341072164,0.3163176575647651,-1.6879240944204417,1.6845414588710226,0.10431167400511515,0.5813251370143272,-0.30399614618383947,1.6197618527833517,-0.7927877193908097,1.1820087571000018,-0.4649636522198701,1.443090199816977,0.8836299654234574,-0.6396722868199514,-0.36877575227151044,2.257742821828594,1.1820087571000018,0.13768298623209738,-0.01739546470505389,0.3025765290007139,-0.7653054622627069,1.0406714347269017,-0.33933047677711464,1.1309702795763819,0.9955220123021612,1.2664185468506022,2.8839456806760784,1.8199897261452438,-0.05665583203091494,0.23779692291304297,-0.2333274849972897,-0.29614407271866716,0.5165455309266562,0.20049957395347484,2.4854529523185884,0.04345810465003063,-0.8909386377054623,-0.48263081751650716,0.84044356136501,-0.6377092684536584,0.16516524336020025,1.0406714347269017,-0.6004119194940903,-2.0942688962431038,-0.1862150442062563,0.4439138513738135,-0.19603013603772157,0.40857952078053833,-0.6004119194940903,1.0053371041336265,0.19853655558718192,-2.5418370837579194,2.2773730054915244,1.7198757894642978,0.1435720413309762,-0.19014108093884274,1.191823848931467,0.9385944796796626,-0.7437122602334834,1.2958638223449979,0.9641137184414724,1.235010252989914,0.5499168431536384,0.5872141921132066,0.9621507000751796,0.6264745594390676,-1.695776167885614,-1.915634224910436,0.9052231674526808,0.04345810465003063,0.8973710939875086,-0.69659981944245,0.29079841880295515,0.7795899920099254,-1.4150645415057073,0.21424070251752655,-0.4315923399928879,1.009263140866213,1.274270620315775,0.506730439095191,-0.32362632984677,-0.5611515521682293,0.012049810789341902,-1.2933574027955381,0.15731316989502792,-1.4641400006630338,1.356717391700083,0.18086939029054433,0.9994480490347476,0.5813251370143272,-0.31381123801530475,-0.2568837053928061,-1.2069845946786437,-0.28436596252090895,-0.6377092684536584,-0.8399001601818431,0.3928753738501942,-0.8006397928559821,-0.24706861356134083,0.5989923023109648,0.3968014105827801,0.9876699388369888,-0.13125052995005118,0.8149243226032006,0.14160902296468328,-0.5591885338019363,1.2036019591292246,0.17105429845907905,0.17694335355795843,0.3045395473670069,1.2408993080887933,-0.34325651350970054,-0.9616072988920121,1.1800457387337082,-0.6534134153840031,0.30061351063442043,-0.28240294415461603,-0.5788187174648669,0.504767420728898,-0.5434843868715923,0.173017316825372,-2.1217511533712066,1.439164163084391,-0.05272979529832906,2.9546143418626274,1.7061346609002466,-0.6298571949884861,-0.40999913796366444,0.2731312535063181,-1.809631233130611,0.4301727228097624,0.6166594676076024,0.15535015152873496,-0.29221803598608126,0.3477259514254538,0.7854790471088048,0.7913681022076836,-0.7829726275593445,-0.9773114458223567,2.0221806178734276,0.10431167400511515,0.16712826172649317,-0.6200421031570208,-1.4916222577911364,1.1643415918033637,1.0544125632909527,0.4066165024142454,0.3889493371176078,0.8836299654234574,0.6382526696368258,0.44783988810639935,-0.7790465908267585,2.0182545811408414,0.8659628001268198,0.44783988810639935,-0.8065288479548609,-0.2038822095028939,1.6806154221384366,-0.7908247010245167,1.0171152143313846,-0.26080974212539254,1.4254230345203398,0.6225485227064812,-1.0067567213167525,0.7069583124570826,-1.8312244351598348,-0.30399614618383947,1.062264636756125,-0.21369730133435916,-1.5858471393732032,0.09645960053994339,-0.6141530480581421,1.1015250040819862,-0.655376433750296,0.5243976043918286,-1.3149506048247617,-0.5984489011277974,0.16712826172649317,-0.6259311582559002,0.504767420728898,-0.43551837672547433,-0.9557182437931333,0.15338713316244149,1.543204136497923,0.5577689166188108,0.9896329572032824,1.0858208571516414,1.050486526558367,0.017938865888221283,-0.7810096091930515,1.443090199816977,0.17694335355795843,1.0838578387853486,-0.46888968895245603,-0.34129349514340757,0.12983091276692507,0.19264750048830254,1.2075279958618106,2.045736838268945,1.1034880224482797,1.256603455019137,2.7386823215703915,1.0230042694302641,-0.42177724816142265,-0.5317062766738335,1.8435459465407602,-0.19995617277030803,2.0221806178734276,-0.5866707909300392,0.9307424062144908,-0.41392517469625034,-0.09395318099048305,-1.5681799740765656,1.1682676285359495,0.5950662655783784,0.7187364226548408,-1.3463588986854504,0.05523621484778884,-0.5964858827615045,1.7532471016912794,-1.1814653559168344,0.6245115410727742,-0.5454474052378852,-1.3267287150225198,-0.3157742563815977,-1.7821489760025084,0.7403296246840644,-0.20780824623547978,-0.1489176952466882,0.2319078678141636,0.0650513066792541,-0.0016913177747092446,-0.6926737827098641,-0.7731575357278792,-0.40214706449849213,0.19264750048830254,1.1564895183381918,0.9601876817088866,0.05523621484778884,0.4988783656300192,1.5490931915968025,-0.7554903704312416,0.2652791800411458,-1.5328456434832907,1.2094910142281041,0.6304005961716536,1.360643428432669,-0.9321620233976163,-0.40018404613219916,-0.41392517469625034,-0.2038822095028939,0.059162251580375275,1.5863905405563699,1.5530192283293882,-0.655376433750296,2.2479277299971283,1.3763475753630134,-0.2117342829680662,-0.35699764207375223,1.625650907882231,-0.36092367880633813,1.087783875517935,1.1250812244775026,2.1262205912869594,-0.6632285072154683,-1.1677242273527826,-0.8752344907751177,0.9739288102729378,-0.9733854090897703,0.004197737324169579,-0.7201560398379669,0.4321357411760553,0.6637719083986352,0.8757778919582851,0.33005878612881623,3.2058806927481385,-0.22743842989841032,-0.38840593593444095,0.6166594676076024,-0.4649636522198701,-0.4433704501906461,0.7128473675559615,0.2240557943489918,1.2389362897224998,0.9052231674526808,-0.07432299732755253,-1.110796694730284,0.2692052167737317,-1.403286431307949,1.4902026406080109,0.5734730635491548,-1.1618351722539038,-0.6455613419188307,0.7265884961200132,0.1867584453894237,0.6441417247357046,0.023827920987100105,0.7795899920099254,-1.362063045615795,-0.48066779915021424,1.1623785734370713,1.6943565507024878,-0.02328451980393327,0.504767420728898,-1.2855053293303658,-0.7299711316694323,0.277057290238904,1.382236630461893,-0.24903163192763433,-1.1637981906201968,0.15731316989502792,1.4764615120439597,-1.6015512863035475,0.48710025543226043,-0.8281220499840849,0.15535015152873496,0.41643159424571063,0.4812112003333816,-0.24314257682875495,0.27116823514002464,-0.24314257682875495,-0.5022610011794377,1.4509422732821498,-0.15873278707815347,0.4066165024142454,-1.1579091355213174,0.5891772104794996,-0.8281220499840849,1.5117958426372338,1.5274999895675783,-0.40999913796366444,0.4910262921648469,1.937770828122827,-1.6192184516001848,0.11608978420287391,-1.028349923345976,-1.3012094762607105,1.8494350016396397,1.4823505671428379,1.5000177324394761,-0.1253614748511718,1.305678914176463,-0.551336460336764,-1.3483219170517438,0.7049952940907898,-0.8143809214200332,-0.2588467237590996,0.5754360819154478,0.7422926430503572,-1.283542310964073,0.4556919615715717,-0.03506263000169148,-0.07824903406013842,1.278196657048361,0.9601876817088866,0.5518798615199314,2.3048552626196277,0.6068443757761371,-0.1862150442062563,0.10431167400511515,-0.4728157256850419,0.21424070251752655,-0.38840593593444095,-1.511252441454067,1.1878978121988801,-1.5760320475417378,1.2644555284843098,2.946762268397456,0.2829463453377834,0.35754104325691904,1.5490931915968025,1.0936729306168145,-1.8606697106542305,2.540417466574794,0.9484095715111278,0.008123774056756019,1.4941286773405966,1.1721936652685365,0.33987387796028146,-0.12339845648487885,2.0535889117341166,0.8267024328009588,-0.6102270113255556,-0.657339452116589,0.3732451901872637,0.08271847197589169,0.2162037208838195,1.1466744265067266,-0.1626588238107399,-1.729147480112596,0.424283667710883,-0.6298571949884861,0.17890637192425138,2.662124605284963,0.1455350596972697,-1.134352915125801,-0.8516782703796013,-2.2041979247555146,1.0936729306168145,1.5353520630327513,-0.029173574902812093,0.37913424528614253,0.6539568165671699,1.4156079426888746,-0.44925950528952546,1.9750681770823946,0.014012829155634843,0.3477259514254538,1.0485235081920738,-1.1637981906201968,0.2986504922681275,1.9848832689138598,1.5333890446664578,-0.7633424438964139,-0.12928751158375767,0.8247394144346658,2.4874159706848817,-0.39233197266702685,0.3123916208321792,-0.5650775889008157,0.21031466578494012,1.4744984936776662,1.5962056323878353,1.2016389407629322,-1.3051355129932964,1.672763348673265,0.20835164741864717,-0.6121900296918491,2.2008152892060955,2.0280696729723067,1.3233460794731013,1.3547543733337895,0.5931032472120854,-0.39036895430073393,0.4929893105311398,0.8463326164638894,-0.27258785232315075,0.7069583124570826,0.27902030860519694,0.5106564758277774,0.9130752409178532,0.6853651104278592,0.3104286024658857,0.21424070251752655,2.006476470943084,0.7226624593874268,-0.04880375856574262,0.6559198349334634,0.4556919615715717,0.03560603118485831],\"z\":[0.16606116047772507,1.5566242733500188,-1.5554008234463328,0.05379190065659106,-0.39331550249073327,-1.0354168832221324,1.3576910234915187,-0.5548256657421893,-0.19241261649501906,-0.22786606696485115,0.15227370751723512,-0.6690645617005366,-1.2382894053550588,-0.6139147498585757,-0.9132994427149334,0.4831725785689988,0.9499763430884519,-0.9310261679498495,-1.267833947413252,1.066184875184012,-2.5205225306806445,-0.9881456159290231,0.32363205145475554,0.431962039001464,3.0279424678480407,1.53692791197789,0.2487858782406664,1.2710270334541511,-0.9113298065777207,-0.0742344482622462,-1.236319769217846,1.2099683132005525,0.8258892664440401,-0.35786205202090116,1.0386099692630315,1.339964298256602,-0.044689906204052984,-0.6887609230726655,-0.18650370808338076,-0.0781737205366723,0.733316367995035,0.22121097231968595,-0.12150571555535546,0.3610551380618004,0.42408349445261234,-0.8010301828937995,-0.37558877725581724,1.1351221399864628,-0.7458803710518385,0.8475552639533818,0.4043871330804836,-0.6198236582702146,-1.8331195187933491,0.7569520016415894,1.2611788527680867,-0.8345139972264182,-0.17271625512289024,1.1114865063399084,-0.6355807473679173,0.8830087144232138,-0.3401353267859851,-1.5672186402696102,1.2572395804936614,1.2946626671007055,0.07742753430314542,0.18772715798706663,1.093759781104992,0.13454698228231907,0.4024174969432708,-0.22589643082763838,0.44377985582474117,-0.36967986884417836,-0.37361914111860445,-0.36771023270696557,-0.7045180121703681,1.6531364440734508,0.7904358159742086,1.8599482384808033,1.2119379493377647,1.6452578995245986,-0.07620408439945897,-0.1392324407902715,-1.1831395935130984,0.660439830918158,0.0715186258915071,0.14636479910559624,1.27693594186579,0.1227291654590419,-0.1608984382996131,0.06364008134265547,-0.7202751012680714,-0.2869551510812376,0.4516584003735928,1.4620817387638003,-0.4543742227443325,-1.6519129941697641,-0.6020969330352985,1.0583063306351603,0.28226969257328516,-1.0708703336919638,0.24681624210345307,-0.9132994427149334,-0.5686131187026793,0.8042232689346986,0.29211787325934957,1.0405796054002443,-1.0531436084570485,-0.7695160046983934,-0.6473985641911945,-0.9448136209103399,1.668893533171153,-0.9605707100080426,-0.440586769783842,-0.3322567822371335,1.1548185013585917,1.6846506222688562,-1.5928239100533776,-1.173291412827034,1.1902719518284237,-0.6670949255633233,1.1764844988679326,-0.021054272557498636,-1.2835910365109553,1.0760330558700764,-0.33422641837434686,-0.1687769828484647,0.4555976726480189,-0.1490806214763359,0.7845269075625698,-1.3190444869807874,-0.6710341978377494,-0.3795280495302428,0.5816543854296429,1.4995048253708458,1.3596606596287308,0.15227370751723512,1.6570757163478764,0.25666442278951745,0.26257333120115633,-1.5297955536625654,-0.0013579111853698278,0.4516584003735928,0.2980267816709884,-0.7084572844447942,0.7864965436997826,-0.9329958040870622,0.6427131056832426,0.036065175421675026,1.3911748378241373,-0.6631556532888977,-0.5843702078003825,1.0011868826559867,1.822525151873758,-0.8364836333636315,-0.0742344482622462,0.17393970502657669,2.125849117004542,-0.7498196433262646,-0.18059479967174188,0.06954898975429377,-0.6572467448772589,-0.9842063436545976,-1.2126841355712916,-0.5370989405072732,0.37484259102229034,1.2986019393751322,1.2493610359448102,1.0583063306351603,0.2999964178082012,-1.5987328184650162,0.11288098477297749,1.9052498696366986,1.0720937835956503,-0.19241261649501906,0.9263407094418971,1.2158772216121903,1.1981504963772749,-1.1752610489642468,0.7530127293671638,-1.4431315636251985,-0.42286004454892645,0.36302477419901313,0.25666442278951745,0.04985262838216497,1.233603946847107,-0.5784612993887436,0.12469880159625467,1.3360250259821764,0.3078749623570528,-1.1260201455339247,0.9499763430884519,-0.3381656906487724,-0.4543742227443325,-1.0117812495755774,1.5172315506057614,0.06364008134265547,1.0701241474584375,0.6761969200158614,-0.6592163810144722,-1.141777234631628,1.4187497437451173,0.44771912809916725,-0.15695916602518753,-1.401769204743728,0.39453895239441916,0.5501402072342368,0.8574034446394462,-0.4543742227443325,-0.49376694548859007,0.21924133618247318,-0.6572467448772589,-0.7320929180913486,-0.8286050888147799,0.25666442278951745,2.0155494933206204,-0.39922441090237154,0.975581612872219,1.1095168702026952,-0.49573658162580286,0.13454698228231907,1.2237557661610425,0.26651260347558187,0.34726768510131045,0.5087778483527665,-0.7892123660705223,0.8199803580324019,0.6151381997622621,0.4969600315294893,1.6432882633873864,-1.0787488782408154,-0.6769431062493877,-0.39331550249073327,-0.6434592919167689,0.6702880116042225,-0.5567953018794021,-1.6322166327976353,-0.9566314377336171,0.301966053945414,0.7608912739160154,1.0642152390467987,-0.08014335667388507,0.5205956651760436,0.351206957375736,0.8180107218951885,0.17984861343821557,-1.6578219025814027,0.0616704452054427,0.2586340589267308,0.7628609100532282,-0.2711980619835343,-0.6395200196423434,-0.20816970559272233,1.3379946621193899,0.28030005643607236,-1.0649614252803257,1.562533181761658,0.512717120627192,-0.49573658162580286,-0.22589643082763838,0.7746787268765054,-0.611945113721363,-1.0452650639081968,-1.8961478751841612,-1.4037388408809408,0.2527251505150919,-0.7537589156006902,1.4719299194498647,-0.9211779872637851,0.2133324277708343,-0.37558877725581724,2.3641750896073,-0.531190032095635,-1.1023845118873705,-0.16680734671125194,1.6511668079362374,-0.3204389654138563,0.863312353051085,0.7549823655043766,-0.12150571555535546,-0.5095240345862928,-1.5317651897997782,-0.6414896557795562,0.9854297935582834,-0.6080058414469368,0.32166241531754275,-0.6907305592098781,0.6427131056832426,-1.4234352022530696,-0.35983168815811395,-1.8488766078910521,0.5087778483527665,0.05379190065659106,0.1640915243405123,-0.858149630872973,0.634834561134391,-1.3446497567645546,-0.7872427299333095,-0.05256845075290462,2.1219098447301157,1.0976990533794175,0.2940875093965623,-0.048629178478479085,0.15030407138002236,1.389205201686924,1.1390614122608884,-0.18650370808338076,0.018338450186758982,0.8258892664440401,-1.466767197271753,0.23893769755460198,-0.5331596682328477,1.6235919020152576,1.2257254022982547,-0.5567953018794021,-0.17665552739731635,-1.2461679499039104,0.46347621719687,-0.5508863934677637,-0.18059479967174188,-1.2028359548852272,0.27045187575000795,0.999217246518774,-0.31453005700221803,2.5906832453867814,1.3202679368844732,1.1587577736330172,-1.0984452396129443,0.4221138583153996,-0.6986091037587299,1.5684420901732967,-0.7320929180913486,0.7372556402694606,0.28030005643607236,-0.9448136209103399,0.7786179991509309,0.845585627816169,1.3281464814333255,-0.9625403461452554,-0.5607345741538281,0.6407434695460292,0.35711586578737486,-1.55343118730912,0.21530206390804707,0.1542433436544479,0.004550997226269039,-1.0492043361826222,0.46347621719687,1.704346983640985,-2.2408341991964154,-0.20816970559272233,-0.4524045866071197,0.3649944103362259,-0.4563438588815452,0.6742272838786486,-0.33422641837434686,0.8180107218951885,-0.9881456159290231,0.5521098433714496,1.0208832440281155,0.7943750882486342,0.2862089648477107,0.016368814049546213,1.7122255281898373,-0.5784612993887436,0.8495249000905951,0.9873994296954968,-0.003327547322582597,0.1424255268311707,-0.6493682003284078,-0.23771424765091556,1.1607274097702305,0.26257333120115633,0.24090733369181477,1.2119379493377647,-0.0683255398506079,-0.18256443580895465,-0.6237629305446402,0.04591335610773943,-3.028688654081568,-1.0826881505152417,0.9952779742443478,1.3911748378241373,-0.3263478738254952,-1.007841977301152,0.10500244022412586,-1.5967631823278035,-0.4071029554512232,0.5087778483527665,0.15030407138002236,-0.7990605467565867,-1.141777234631628,-0.10180935418322665,1.458142466489375,-0.38346732180466886,-0.1490806214763359,0.4043871330804836,0.25666442278951745,2.1849382011209286,0.2940875093965623,0.1187898931846158,1.8875231444017833,-1.3249533953924257,-0.1392324407902715,0.6505916502320936,0.04985262838216497,-0.4977062177630156,1.7102558920526238,-0.5942183884864469,-1.3288926676668518,1.548745728801168,-0.611945113721363,-0.2101393417299351,0.5974114745273461,-0.0742344482622462,-0.9743581629685332,-0.678912742386601,-1.1023845118873705,-0.05256845075290462,-0.2948336956300892,-2.5362796197783473,1.221786130023829,-0.2002911610438707,0.8908872589720654,-0.7557285517379029,0.7628609100532282,-2.3412856421942725,-0.16483771057403862,0.07545789816593264,0.17590934116378945,0.8199803580324019,0.6308952888599648,0.5599883879203013,1.066184875184012,-0.970418890694107,-0.8955727174800179,-0.43073858909777757,-0.4524045866071197,0.5462009349598114,-0.6730038339749621,0.5934722022529205,0.21924133618247318,0.2349984252801759,-0.5843702078003825,0.5836240215668562,0.03212590314724949,-0.1589288021624003,1.3852659294124985,1.1114865063399084,0.6033203829389849,0.49892966766670205,0.5796847492924301,0.33938914055245883,0.055761536793803836,0.04985262838216497,-0.4819491286653129,-0.3480138713348368,0.11682025704740304,-0.47013131184203516,0.2448466059662403,-0.9389047124987011,-0.8778459922451018,-0.4563438588815452,-1.8862996944980968,0.7707394546020798,-0.2771069703951732,0.33151059600360716,0.32166241531754275,-0.29286405949287586,0.5855936577040689,-0.11559680714371659,-0.26725878970910877,2.068729669025368,0.8987658035209172,1.048458149949096,1.7910109736783524,1.066184875184012,-1.2816214003737425,-0.1904429803578063,0.17590934116378945,1.641318627250173,0.43984058355031563,0.5560491156458757,-0.8739067199706758],\"type\":\"scatter3d\"}],                        {\"template\":{\"data\":{\"histogram2dcontour\":[{\"type\":\"histogram2dcontour\",\"colorbar\":{\"outlinewidth\":0,\"ticks\":\"\"},\"colorscale\":[[0.0,\"#0d0887\"],[0.1111111111111111,\"#46039f\"],[0.2222222222222222,\"#7201a8\"],[0.3333333333333333,\"#9c179e\"],[0.4444444444444444,\"#bd3786\"],[0.5555555555555556,\"#d8576b\"],[0.6666666666666666,\"#ed7953\"],[0.7777777777777778,\"#fb9f3a\"],[0.8888888888888888,\"#fdca26\"],[1.0,\"#f0f921\"]]}],\"choropleth\":[{\"type\":\"choropleth\",\"colorbar\":{\"outlinewidth\":0,\"ticks\":\"\"}}],\"histogram2d\":[{\"type\":\"histogram2d\",\"colorbar\":{\"outlinewidth\":0,\"ticks\":\"\"},\"colorscale\":[[0.0,\"#0d0887\"],[0.1111111111111111,\"#46039f\"],[0.2222222222222222,\"#7201a8\"],[0.3333333333333333,\"#9c179e\"],[0.4444444444444444,\"#bd3786\"],[0.5555555555555556,\"#d8576b\"],[0.6666666666666666,\"#ed7953\"],[0.7777777777777778,\"#fb9f3a\"],[0.8888888888888888,\"#fdca26\"],[1.0,\"#f0f921\"]]}],\"heatmap\":[{\"type\":\"heatmap\",\"colorbar\":{\"outlinewidth\":0,\"ticks\":\"\"},\"colorscale\":[[0.0,\"#0d0887\"],[0.1111111111111111,\"#46039f\"],[0.2222222222222222,\"#7201a8\"],[0.3333333333333333,\"#9c179e\"],[0.4444444444444444,\"#bd3786\"],[0.5555555555555556,\"#d8576b\"],[0.6666666666666666,\"#ed7953\"],[0.7777777777777778,\"#fb9f3a\"],[0.8888888888888888,\"#fdca26\"],[1.0,\"#f0f921\"]]}],\"heatmapgl\":[{\"type\":\"heatmapgl\",\"colorbar\":{\"outlinewidth\":0,\"ticks\":\"\"},\"colorscale\":[[0.0,\"#0d0887\"],[0.1111111111111111,\"#46039f\"],[0.2222222222222222,\"#7201a8\"],[0.3333333333333333,\"#9c179e\"],[0.4444444444444444,\"#bd3786\"],[0.5555555555555556,\"#d8576b\"],[0.6666666666666666,\"#ed7953\"],[0.7777777777777778,\"#fb9f3a\"],[0.8888888888888888,\"#fdca26\"],[1.0,\"#f0f921\"]]}],\"contourcarpet\":[{\"type\":\"contourcarpet\",\"colorbar\":{\"outlinewidth\":0,\"ticks\":\"\"}}],\"contour\":[{\"type\":\"contour\",\"colorbar\":{\"outlinewidth\":0,\"ticks\":\"\"},\"colorscale\":[[0.0,\"#0d0887\"],[0.1111111111111111,\"#46039f\"],[0.2222222222222222,\"#7201a8\"],[0.3333333333333333,\"#9c179e\"],[0.4444444444444444,\"#bd3786\"],[0.5555555555555556,\"#d8576b\"],[0.6666666666666666,\"#ed7953\"],[0.7777777777777778,\"#fb9f3a\"],[0.8888888888888888,\"#fdca26\"],[1.0,\"#f0f921\"]]}],\"surface\":[{\"type\":\"surface\",\"colorbar\":{\"outlinewidth\":0,\"ticks\":\"\"},\"colorscale\":[[0.0,\"#0d0887\"],[0.1111111111111111,\"#46039f\"],[0.2222222222222222,\"#7201a8\"],[0.3333333333333333,\"#9c179e\"],[0.4444444444444444,\"#bd3786\"],[0.5555555555555556,\"#d8576b\"],[0.6666666666666666,\"#ed7953\"],[0.7777777777777778,\"#fb9f3a\"],[0.8888888888888888,\"#fdca26\"],[1.0,\"#f0f921\"]]}],\"mesh3d\":[{\"type\":\"mesh3d\",\"colorbar\":{\"outlinewidth\":0,\"ticks\":\"\"}}],\"scatter\":[{\"fillpattern\":{\"fillmode\":\"overlay\",\"size\":10,\"solidity\":0.2},\"type\":\"scatter\"}],\"parcoords\":[{\"type\":\"parcoords\",\"line\":{\"colorbar\":{\"outlinewidth\":0,\"ticks\":\"\"}}}],\"scatterpolargl\":[{\"type\":\"scatterpolargl\",\"marker\":{\"colorbar\":{\"outlinewidth\":0,\"ticks\":\"\"}}}],\"bar\":[{\"error_x\":{\"color\":\"#2a3f5f\"},\"error_y\":{\"color\":\"#2a3f5f\"},\"marker\":{\"line\":{\"color\":\"#E5ECF6\",\"width\":0.5},\"pattern\":{\"fillmode\":\"overlay\",\"size\":10,\"solidity\":0.2}},\"type\":\"bar\"}],\"scattergeo\":[{\"type\":\"scattergeo\",\"marker\":{\"colorbar\":{\"outlinewidth\":0,\"ticks\":\"\"}}}],\"scatterpolar\":[{\"type\":\"scatterpolar\",\"marker\":{\"colorbar\":{\"outlinewidth\":0,\"ticks\":\"\"}}}],\"histogram\":[{\"marker\":{\"pattern\":{\"fillmode\":\"overlay\",\"size\":10,\"solidity\":0.2}},\"type\":\"histogram\"}],\"scattergl\":[{\"type\":\"scattergl\",\"marker\":{\"colorbar\":{\"outlinewidth\":0,\"ticks\":\"\"}}}],\"scatter3d\":[{\"type\":\"scatter3d\",\"line\":{\"colorbar\":{\"outlinewidth\":0,\"ticks\":\"\"}},\"marker\":{\"colorbar\":{\"outlinewidth\":0,\"ticks\":\"\"}}}],\"scattermapbox\":[{\"type\":\"scattermapbox\",\"marker\":{\"colorbar\":{\"outlinewidth\":0,\"ticks\":\"\"}}}],\"scatterternary\":[{\"type\":\"scatterternary\",\"marker\":{\"colorbar\":{\"outlinewidth\":0,\"ticks\":\"\"}}}],\"scattercarpet\":[{\"type\":\"scattercarpet\",\"marker\":{\"colorbar\":{\"outlinewidth\":0,\"ticks\":\"\"}}}],\"carpet\":[{\"aaxis\":{\"endlinecolor\":\"#2a3f5f\",\"gridcolor\":\"white\",\"linecolor\":\"white\",\"minorgridcolor\":\"white\",\"startlinecolor\":\"#2a3f5f\"},\"baxis\":{\"endlinecolor\":\"#2a3f5f\",\"gridcolor\":\"white\",\"linecolor\":\"white\",\"minorgridcolor\":\"white\",\"startlinecolor\":\"#2a3f5f\"},\"type\":\"carpet\"}],\"table\":[{\"cells\":{\"fill\":{\"color\":\"#EBF0F8\"},\"line\":{\"color\":\"white\"}},\"header\":{\"fill\":{\"color\":\"#C8D4E3\"},\"line\":{\"color\":\"white\"}},\"type\":\"table\"}],\"barpolar\":[{\"marker\":{\"line\":{\"color\":\"#E5ECF6\",\"width\":0.5},\"pattern\":{\"fillmode\":\"overlay\",\"size\":10,\"solidity\":0.2}},\"type\":\"barpolar\"}],\"pie\":[{\"automargin\":true,\"type\":\"pie\"}]},\"layout\":{\"autotypenumbers\":\"strict\",\"colorway\":[\"#636efa\",\"#EF553B\",\"#00cc96\",\"#ab63fa\",\"#FFA15A\",\"#19d3f3\",\"#FF6692\",\"#B6E880\",\"#FF97FF\",\"#FECB52\"],\"font\":{\"color\":\"#2a3f5f\"},\"hovermode\":\"closest\",\"hoverlabel\":{\"align\":\"left\"},\"paper_bgcolor\":\"white\",\"plot_bgcolor\":\"#E5ECF6\",\"polar\":{\"bgcolor\":\"#E5ECF6\",\"angularaxis\":{\"gridcolor\":\"white\",\"linecolor\":\"white\",\"ticks\":\"\"},\"radialaxis\":{\"gridcolor\":\"white\",\"linecolor\":\"white\",\"ticks\":\"\"}},\"ternary\":{\"bgcolor\":\"#E5ECF6\",\"aaxis\":{\"gridcolor\":\"white\",\"linecolor\":\"white\",\"ticks\":\"\"},\"baxis\":{\"gridcolor\":\"white\",\"linecolor\":\"white\",\"ticks\":\"\"},\"caxis\":{\"gridcolor\":\"white\",\"linecolor\":\"white\",\"ticks\":\"\"}},\"coloraxis\":{\"colorbar\":{\"outlinewidth\":0,\"ticks\":\"\"}},\"colorscale\":{\"sequential\":[[0.0,\"#0d0887\"],[0.1111111111111111,\"#46039f\"],[0.2222222222222222,\"#7201a8\"],[0.3333333333333333,\"#9c179e\"],[0.4444444444444444,\"#bd3786\"],[0.5555555555555556,\"#d8576b\"],[0.6666666666666666,\"#ed7953\"],[0.7777777777777778,\"#fb9f3a\"],[0.8888888888888888,\"#fdca26\"],[1.0,\"#f0f921\"]],\"sequentialminus\":[[0.0,\"#0d0887\"],[0.1111111111111111,\"#46039f\"],[0.2222222222222222,\"#7201a8\"],[0.3333333333333333,\"#9c179e\"],[0.4444444444444444,\"#bd3786\"],[0.5555555555555556,\"#d8576b\"],[0.6666666666666666,\"#ed7953\"],[0.7777777777777778,\"#fb9f3a\"],[0.8888888888888888,\"#fdca26\"],[1.0,\"#f0f921\"]],\"diverging\":[[0,\"#8e0152\"],[0.1,\"#c51b7d\"],[0.2,\"#de77ae\"],[0.3,\"#f1b6da\"],[0.4,\"#fde0ef\"],[0.5,\"#f7f7f7\"],[0.6,\"#e6f5d0\"],[0.7,\"#b8e186\"],[0.8,\"#7fbc41\"],[0.9,\"#4d9221\"],[1,\"#276419\"]]},\"xaxis\":{\"gridcolor\":\"white\",\"linecolor\":\"white\",\"ticks\":\"\",\"title\":{\"standoff\":15},\"zerolinecolor\":\"white\",\"automargin\":true,\"zerolinewidth\":2},\"yaxis\":{\"gridcolor\":\"white\",\"linecolor\":\"white\",\"ticks\":\"\",\"title\":{\"standoff\":15},\"zerolinecolor\":\"white\",\"automargin\":true,\"zerolinewidth\":2},\"scene\":{\"xaxis\":{\"backgroundcolor\":\"#E5ECF6\",\"gridcolor\":\"white\",\"linecolor\":\"white\",\"showbackground\":true,\"ticks\":\"\",\"zerolinecolor\":\"white\",\"gridwidth\":2},\"yaxis\":{\"backgroundcolor\":\"#E5ECF6\",\"gridcolor\":\"white\",\"linecolor\":\"white\",\"showbackground\":true,\"ticks\":\"\",\"zerolinecolor\":\"white\",\"gridwidth\":2},\"zaxis\":{\"backgroundcolor\":\"#E5ECF6\",\"gridcolor\":\"white\",\"linecolor\":\"white\",\"showbackground\":true,\"ticks\":\"\",\"zerolinecolor\":\"white\",\"gridwidth\":2}},\"shapedefaults\":{\"line\":{\"color\":\"#2a3f5f\"}},\"annotationdefaults\":{\"arrowcolor\":\"#2a3f5f\",\"arrowhead\":0,\"arrowwidth\":1},\"geo\":{\"bgcolor\":\"white\",\"landcolor\":\"#E5ECF6\",\"subunitcolor\":\"white\",\"showland\":true,\"showlakes\":true,\"lakecolor\":\"white\"},\"title\":{\"x\":0.05},\"mapbox\":{\"style\":\"light\"}}},\"scene\":{\"domain\":{\"x\":[0.0,1.0],\"y\":[0.0,1.0]},\"xaxis\":{\"title\":{\"text\":\"Total day minutes\"}},\"yaxis\":{\"title\":{\"text\":\"Total eve minutes\"}},\"zaxis\":{\"title\":{\"text\":\"Total night minutes\"}}},\"coloraxis\":{\"colorbar\":{\"title\":{\"text\":\"Cluster\"}},\"colorscale\":[[0.0,\"#0d0887\"],[0.1111111111111111,\"#46039f\"],[0.2222222222222222,\"#7201a8\"],[0.3333333333333333,\"#9c179e\"],[0.4444444444444444,\"#bd3786\"],[0.5555555555555556,\"#d8576b\"],[0.6666666666666666,\"#ed7953\"],[0.7777777777777778,\"#fb9f3a\"],[0.8888888888888888,\"#fdca26\"],[1.0,\"#f0f921\"]]},\"legend\":{\"title\":{\"text\":\"Churn\"},\"tracegroupgap\":0},\"margin\":{\"t\":60}},                        {\"responsive\": true}                    ).then(function(){\n",
              "                            \n",
              "var gd = document.getElementById('bd9505eb-a783-4934-bcc0-99426e08d949');\n",
              "var x = new MutationObserver(function (mutations, observer) {{\n",
              "        var display = window.getComputedStyle(gd).display;\n",
              "        if (!display || display === 'none') {{\n",
              "            console.log([gd, 'removed!']);\n",
              "            Plotly.purge(gd);\n",
              "            observer.disconnect();\n",
              "        }}\n",
              "}});\n",
              "\n",
              "// Listen for the removal of the full notebook cells\n",
              "var notebookContainer = gd.closest('#notebook-container');\n",
              "if (notebookContainer) {{\n",
              "    x.observe(notebookContainer, {childList: true});\n",
              "}}\n",
              "\n",
              "// Listen for the clearing of the current output cell\n",
              "var outputEl = gd.closest('.output');\n",
              "if (outputEl) {{\n",
              "    x.observe(outputEl, {childList: true});\n",
              "}}\n",
              "\n",
              "                        })                };                            </script>        </div>\n",
              "</body>\n",
              "</html>"
            ]
          },
          "metadata": {}
        }
      ]
    },
    {
      "cell_type": "code",
      "source": [
        "import plotly.express as px\n",
        "\n",
        "fig = px.scatter_3d(df_telecom, x='Total day minutes', y='Total eve minutes', z='Total night minutes', color='Cluster')\n",
        "fig.show()\n"
      ],
      "metadata": {
        "id": "kCAKwRDW8Dmo",
        "colab": {
          "base_uri": "https://localhost:8080/"
        },
        "outputId": "560d3050-6030-4fab-b5a1-8ac491e93801"
      },
      "execution_count": null,
      "outputs": [
        {
          "output_type": "display_data",
          "data": {
            "text/html": [
              "<html>\n",
              "<head><meta charset=\"utf-8\" /></head>\n",
              "<body>\n",
              "    <div>            <script src=\"https://cdnjs.cloudflare.com/ajax/libs/mathjax/2.7.5/MathJax.js?config=TeX-AMS-MML_SVG\"></script><script type=\"text/javascript\">if (window.MathJax && window.MathJax.Hub && window.MathJax.Hub.Config) {window.MathJax.Hub.Config({SVG: {font: \"STIX-Web\"}});}</script>                <script type=\"text/javascript\">window.PlotlyConfig = {MathJaxConfig: 'local'};</script>\n",
              "        <script src=\"https://cdn.plot.ly/plotly-2.18.2.min.js\"></script>                <div id=\"386fe949-25b7-4e32-abbb-10572818d5be\" class=\"plotly-graph-div\" style=\"height:525px; width:100%;\"></div>            <script type=\"text/javascript\">                                    window.PLOTLYENV=window.PLOTLYENV || {};                                    if (document.getElementById(\"386fe949-25b7-4e32-abbb-10572818d5be\")) {                    Plotly.newPlot(                        \"386fe949-25b7-4e32-abbb-10572818d5be\",                        [{\"hovertemplate\":\"Total day minutes=%{x}<br>Total eve minutes=%{y}<br>Total night minutes=%{z}<br>Cluster=%{marker.color}<extra></extra>\",\"legendgroup\":\"\",\"marker\":{\"color\":[1,1,0,0,0,0,1,0,1,0,0,0,0,1,0,1,0,0,0,0,0,0,1,0,0,0,0,0,0,1,1,0,1,0,0,1,0,0,0,1,0,1,0,0,0,0,0,0,1,0,0,1,1,0,1,0,0,0,0,0,1,0,0,0,0,0,0,0,0,1,1,0,0,0,1,0,0,0,0,0,0,0,0,1,0,0,0,1,0,0,0,0,0,1,0,0,1,0,1,0,0,0,0,0,1,0,1,0,0,0,0,0,1,0,1,1,0,1,1,0,0,0,0,1,0,0,0,0,0,1,1,0,0,1,0,0,1,1,0,1,0,0,0,0,0,0,1,0,1,0,0,0,0,0,0,0,0,0,0,1,1,0,1,0,1,0,0,0,0,1,0,0,0,0,1,1,0,0,0,0,0,0,0,1,0,0,0,1,1,0,1,0,0,0,1,0,0,0,0,0,0,0,0,1,0,1,0,0,0,0,0,0,1,0,0,1,1,0,0,0,0,1,0,1,0,1,0,1,1,0,0,0,0,0,0,1,0,0,0,0,0,0,0,0,0,0,0,0,1,0,0,0,0,1,1,1,1,0,1,0,0,0,1,1,0,0,0,0,0,0,0,1,0,0,0,0,0,1,1,1,0,1,0,1,0,0,1,0,0,0,1,1,1,0,1,0,0,0,0,0,0,0,0,0,0,0,0,0,0,0,0,0,1,0,0,0,0,0,0,0,0,0,1,0,0,1,0,0,0,0,0,0,0,0,0,0,0,0,0,1,0,1,0,0,1,0,1,0,0,0,0,0,1,1,0,0,0,1,0,1,0,0,0,0,0,1,0,0,0,1,0,0,0,1,0,1,0,1,0,0,0,1,0,0,1,0,0,0,0,0,0,1,0,0,0,0,0,0,1,0,0,1,0,1,0,0,1,1,1,1,0,0,1,1,1,0,0,0,0,0,1,0,0,0,0,0,1,0,1,1,0,1,1,0,1,1,1,1,1,0,0,0,0,1,0,1,0,0,1,1,0,1,0,0,0,1,0,1,0,1,1,0,0,1,1,0,1,0,0,0,0,0,0,0,0,1,0,1,0,0,1,0,0,0,0,0,0,0,0,0,1,1,0,0,0,0,0,0,1,0,0,0,0,0,1,1,0,1,1,1,0,0,0,0,1,1,0,1,0,0,0,1,1,0,0,0,0,0,0,1,0,0,1,0,0,0,0,0,0,1,1,0,0,0,0,0,0,0,0,0,0,1,0,0,0,1,0,0,0,0,1,1,0,0,0,1,0,0,1,0,0,0,0,0,1,1,0,0,0,0,0,1,0,1,0,0,1,0,0,0,1,1,1,0,0,0,0,1,0,0,0,1,0,0,1,0,0,0,0,0,0,1,1,1,0,0,0,0,0,0,0,0,1,0,0,0,1,1,1,1,0,0,0,0,0,0,1,1,1,0,0,0,0,0,0,0,1,0,0,1,0,0,0,0,0,0,0,0,0,1,1,1,1,0,0,0,0,1,0,0,0,0,0,0,0,0,1,0,0,0,0,0,0,1,0,0,0,0,1,0,0,1,0,0,0,0,0,0,0,0,1,1,0,0,0,0,1,0,0,0,1,0,1,0,0,0,0,0,1,0,1,1,0,0,1,0,0,0,0,0,0,0,0,0,0,0,1,1,0,0,0,0,0,0,1,0,0,0,0,0,1,0,0,0,0,0,0,0,1,0,0,0,1,1,0,0,1,0,0,0,0,1,0,1,0,0,1,1,0,0,0,1,1,0,0,1,1,0,1,0,0,0,0,0,0,1,1,0,0,1,0,0,0,0,0,0,0,0,1,0,0,0,1,0,0,1,0,0,0,1,0,0,0,0,1,1,0,0,0,0,0,1,0,0,0,0,1,0,0,0,1,0,1,1,1,0,0,0,0,1,0,0,0,0,1,0,0,0,0,1,0,0,0,0,0,0,1,0,0,1,0,0,0,1,0,0,0,0,0,1,0,0,0,0,1,0,1,1,0,1,1,0,0,1,1,1,0,0,1,0,0,0,1,0,1,0,0,1,0,0,0,0,1,0,0,1,1,1,0,0,0,0,0,1,1,0,0,1,1,0,1,0,1,0,0,1,1,1,0,0,0,0,0,0,0,1,1,1,1,1,0,0,0,0,0,0,0,0,1,0,0,0,0,0,1,1,0,0,0,0,0,0,1,1,0,0,1,0,0,0,0,0,0,0,1,0,0,0,1,0,1,0,0,1,0,1,0,0,0,1,1,0,0,0,0,0,0,0,1,1,0,0,0,0,1,0,0,0,1,1,0,0,0,0,0,0,0,0,0,0,0,0,0,0,0,1,0,0,1,0,0,0,0,1,0,0,1,0,1,0,0,0,0,0,0,1,0,0,0,0,0,1,0,0,1,0,0,1,0,0,0,0,0,1,0,0,0,0,0,0,0,1,1,0,1,1,0,1,1,0,0,1,0,0,0,0,1,0,0,1,0,1,0,0,0,0,1,0,1,0,0,1,0,0,0,1,0,0,1,1,1,0,0,0,1,1,1,1,1,1,0,0,0,1,0,0,0,0,0,0,0,0,1,0,1,1,0,1,0,0,0,0,0,0,0,0,0,0,1,1,1,1,0,0,0,0,0,0,1,0,1,0,0,0,0,0,1,0,0,0,0,0,1,0,1,0,0,0,0,1,0,0,0,0,1,0,0,1,0,0,0,0,0,0,1,0,0,0,0,1,0,0,0,0,1,0,0,0,0,1,0,0,0,1,0,0,1,0,0,0,0,0,0,0,1,1,1,0,0,1,0,1,0,1,1,0,0,0,1,1,1,0,0,0,1,1,1,0,1,0,0,0,0,0,0,1,1,0,1,0,1,1,0,1,0,0,1,0,0,0,0,0,0,0,1,1,0,0,0,1,0,0,0,0,0,0,0,0,1,0,0,0,0,0,0,0,0,0,1,0,1,1,0,1,0,0,1,0,1,0,1,1,0,0,1,1,0,0,0,0,0,0,0,0,0,1,0,0,0,0,1,1,0,0,0,0,0,0,0,1,0,0,1,0,0,1,0,0,0,1,0,0,0,0,0,0,0,1,1,0,0,1,0,0,0,0,1,1,0,0,0,0,1,0,0,0,0,0,0,1,1,0,0,1,0,1,0,1,0,0,1,0,0,0,0,1,0,1,0,1,0,1,0,1,1,1,0,0,0,0,1,0,1,0,0,0,1,0,0,0,0,0,0,0,0,0,0,0,0,0,0,1,1,0,0,0,1,0,1,0,0,1,1,0,1,0,1,0,1,0,1,1,0,0,0,1,0,0,0,0,0,0,0,0,1,0,0,0,0,1,0,0,0,0,0,0,0,0,0,0,0,0,0,1,1,0,0,1,0,0,0,0,0,0,1,0,0,1,1,0,1,1,1,0,0,0,0,1,0,0,0,0,0,0,0,0,0,0,0,0,0,0,0,1,0,1,1,0,0,0,0,0,1,0,0,0,0,0,0,0,0,1,0,0,1,0,0,0,0,0,0,0,1,0,1,0,1,0,0,0,0,0,0,0,1,0,0,0,0,0,0,0,0,1,0,0,0,0,0,0,0,0,0,0,1,0,1,0,0,0,0,0,0,0,1,1,0,1,0,0,0,0,0,0,1,0,0,0,0,0,0,1,1,1,1,0,1,0,0,0,1,1,0,0,0,0,0,1,0,1,1,0,0,0,0,1,0,0,0,0,0,0,0,0,1,0,0,0,0,0,0,1,0,1,0,0,0,0,0,1,0,0,0,1,0,0,0,1,0,0,0,0,0,1,0,0,1,1,0,0,0,0,0,0,0,0,0,0,0,0,0,1,1,0,1,0,1,0,0,0,0,0,0,0,1,0,0,0,0,0,0,1,0,0,1,0,0,0,0,0,0,0,0,1,0,0,0,0,0,0,0,0,0,0,0,0,0,0,0,0,1,0,1,1,0,1,0,0,0,1,0,1,1,0,0,0,0,0,0,0,0,0,0,0,0,0,1,1,0,0,0,0,1,0,1,0,0,1,0,0,0,0,0,0,1,0,1,0,1,0,0,0,0,1,0,0,0,0,0,0,0,0,0,1,0,0,1,0,1,1,1,1,0,1,1,1,1,0,0,0,1,0,0,0,0,0,1,1,0,0,0,0,1,0,0,0,0,1,0,0,0,0,0,1,0,0,0,1,0,0,0,1,0,0,1,0,0,0,0,1,0,1,0,0,0,0,0,0,0,0,0,1,0,0,0,1,0,0,0,0,0,0,0,0,0,0,0,0,0,0,1,0,0,0,0,1,1,1,0,0,0,0,0,0,0,0,0,0,1,0,0,0,1,0,1,0,0,0,1,0,0,1,0,1,0,0,0,0,0,1,1,0,0,1,0,1,0,0,0,0,0,0,0,0,0,0,0,0,1,1,0,0,0,1,1,1,0,0,0,1,0,1,0,0,1,0,0,0,0,0,0,1,0,1,0,0,0,1,0,1,0,0,0,1,1,0,0,1,1,0,0,0,1,1,0,0,0,0,0,0,0,1,0,0,1,0,0,0,0,0,0,1,0,0,1,0,0,0,1,0,0,0,0,0,0,0,0,0,0,0,0,0,0,0,1,0,0,1,0,0,0,1,0,0,0,0,0,0,0,0,0,1,0,0,0,0,0,0,1,0,0,0,0,0,1,0,0,0,0,0,0,0,0,0,1,1,0,0,0,0,0,0,1,0,1,0,0,0,1,1,0,0,0,0,0,0,1,1,1,1,0,0,0,0,1,0,1,1,0,0,0,1,1,1,1,0,0,0,1,0,0,0,0,1,0,0,0,0,0,0,0,0,0,1,0,0,1,1,0,0,0,0,0,0,0,0,0,0,1,0,0,0,0,0,1,1,0,0,0,0,0,0,1,0,0,0,1,0,0,0,0,0,0,1,0,0,0,1,1,1,1,0,0,0,1,0,0,0,0,0,1,0,0,0,1,1,1,0,0,0,0,1,0,1,0,0,0,0,0,1,0,0,0,0,0,1,1,0,0,1,0,1,0,1,1,1,0,0,0,0,0,1,0,1,0,0,1,1,0,0,1,0,0,0,0,0,0,0,0,0,0,0,0,0,1,0,0,0,0,1,0,0,0,1,0,0,0,0,0,1,0,0,0,0,0,1,0,1,1,0,0,0,1,0,0,0,0,0,1,0,0,0,1,1,1,0,1,0,0,1,0,0,0,1,0,0,1,0,1,0,0,0,0,1,0,0,0,1,1,0,0,0,0,0,1,1,1,0,0,1,0,0,0,0,0,0,0,0,0,0,0,0,0,1,0,0,0,0,0,0,0,0,0,1,0,1,0,1,0,0,0,0,0,0,0,1,0,0,1,0,0,0,0,1,0,1,0,0,0,0,0,0,0,0,0,0,1,0,0,1,0,1,1,0,0,0,0,0,0,0,0,1,0,0,0,0,1,0,0,0,1,1,1,0,1,1,1,0,1,0,0,0,1,0,0,0,1,0,0,0,0,0,0,0,0,0,0,0,0,0,0,0,0,1,0,0,1,1,1,0,1,1,0,1,0,1,0,1,0,1,0,0,0,0,0,0,0,0,0,1,1,0,0,0,0,1,1,0,0,0,0,1,0,1,1,0,1,0,1,1,0,0,0,0,1,0,1,0,0,1,1,0,0,1,1,0,0,0,0,0,0,0,1,0,0,0,0,0,0,0,0,0,1,0,0,0,0,1,0,1,0,0,0,0,0,0,0,0,1,1,0,0,0,0,0,0,0,0,0,0,0,1,1,0,0,1,0,1,0,0,0,1,0,0,1,0,0,1,1,1,1,1,1,1,0,0,0,1,1,0,0,1,0,0,1,0,0,1,0,0,0,0,0,0,1,0,0,0,0,0,0,0,0,1,0,0,0,0,0,0,0,1,0,1,0,0,1,1,1,0,0,1,0,0,0,0,1,0,0,1,0,0,1,0,0,0,0,0,0,0,0,1,1,0,0,0,0,0,0,0,0,0,1,0,0,1,0,0,0,0,0,1,0,0,0,0,1,0,0,1,0,0,0,0,0,1,1,0,0,0,0,0,0,0,0,0,1,0,0,0,0,0,0,0,0,0,1,0,0,0,1,1,1,0,0,0,1,0,1,0,0,1,0,1,1,0,0,0,0,1,0,0,0,0,0,0,1,0,0,0,0,1,0,0,0,1,0,0,0,0,1,0,0,1,0,0,1,1,1,0,0,0,0,1,0,1,0,0,0,1,0,0,1,0,1,0,1,0,0,1,0,0,1,0,0,0,1,0,0,1,1,0,1,0,0,0,1,1,0,0,0,1,0,1,1,0,0,0,0,0,0,0,1,0,1,0,0,0,1,0,0,1,0,1,1,0,0,1,1,1,0,0,1,1,1,0,0,0,1,0,0,0,0,1,1,0,1,0,1,0,1,0,0,1,0,0,0,0,0,0,1,0,1,0,1,1,0,1,0,0,0,1,0,1,0,0,0,0,0,0,0,0,0,0,0,0,0,1,0,0,1,0,0,0,0,0,0,0,1,0,0,0,0,0,0,0,1,0,1,0,0,0,0,0,0,0,0,0,1,0,1,1,1,0,0,1,0,1,0,0,0,0,0,1,0,0,0,0,1,1,0,0,0,0,0,0,0,0,0,0,1,0,1,0,0,0,0,0,0,0,0,0,0,0,0,1,0,1,0,0,1,0,0,0,1,1,0,1,0,1,0,0,1,0,0,0,0,0,0,0,0,1,0,0,1,0,1,0,0,0,1,1,0,0,0,0,1,0,0,0,0,0,0,1,1,0,1,0,1,0,1,0,1,0,0,0,0,0,0,0,1,0,0,1,0,0,0,1,0,0,0,0,0,0,1,1,0,1,0,1,1,0,1,0,1,1,0,0,1,0,1,0,1,0,0,0,0,0,1,0,0,0,0,1,0,1,0,1,0,1,1,1,0,0,0,0,0,0,0,0,0,1,1,0,0,0,0,0,0,0,1,0,0,0,1,1,0,0,0,0,1,0,0,0,1,0,0,0,0,1,0,1,1,0,0,0,0,0,0,0,0,1,0,1,1,0,0,0,0,0,1,0,0,1,0,1,0,1,0,0,1,1,0,0,0,0,1,0,0,0,0,1,0,0,1,0,0,0,0,0,0,0,0,0,0,1,1,1,0,1,0,0,0,0,0,0,0,0,0,0,0,0,1,1,0,0,0,0,0,0,1,0,0,0,0,1,1,0,0,1,1,1,0,0,0,0,0,1,0,0,0,0,0,0,0,0,0,0,1,0,1,1,1,0,1,0,0,0,0,0,0,0,0,1,0,0,0,0,0,1,0,1,0,0,0,0,0,0,1,0,1,0,0,1,1,0,0,0,0,0,0,0,0,0,0,0,1,0,0,0,0,0,0,1,0,0,1,0,0,0,0,0,1,0,0,0,1,0,1,0,1,0,1,0,0,0,0,0,0,0,1,0,0,1,0,1,0,1,0,0,1,0,0,1,0,0,0,0,1,1,0,0,0],\"coloraxis\":\"coloraxis\",\"symbol\":\"circle\"},\"mode\":\"markers\",\"name\":\"\",\"scene\":\"scene\",\"showlegend\":false,\"x\":[1.5796695875462738,-0.32991808608894013,1.1793019303686492,2.212508787601228,-0.2358224615909732,0.8102994813570136,0.7143588446139881,-0.4147886493616162,1.4597437916174922,0.15163010987124403,-0.9350821024680219,-0.422168698341849,-1.0845280943177344,0.3121461751913058,0.20698047722298935,0.18853035477240757,0.8287496038075954,-0.44984388201772163,-2.1601702331866517,0.0649145343535099,-1.8151529433607727,-1.0181076534956401,0.6184182078709631,-0.8336064289898222,0.1940653915075823,-1.7468874902936202,0.8601148119735842,0.5999680854203813,1.2936926895622558,-0.04947622484009687,0.7475690650250355,-0.8981818575668584,0.4505220935706691,-0.7210606820412735,-0.9812074085944766,-0.11774167790724975,-1.0088825922703493,-1.7284373678430385,-0.4701390167133615,-1.080838069827618,0.138715024155837,-0.8539015636854626,0.22912062416368778,0.7586391384953844,-0.3557482575197547,-0.5254893840651068,-0.0734613840258534,-0.9701373351241275,0.3490464200924693,0.9191552038154461,0.23281064865380394,1.64424501612331,0.02247925271717162,-0.8908018085866262,-0.578994739171794,1.3287479222183614,-1.0015025432901166,0.5925880364401485,-0.010730967693875257,1.1497817344477184,0.8379746650328863,1.275242567111674,0.44129703234537815,-0.4129436371165581,2.229113897806752,-2.1749303311471175,-0.17124703301393698,0.3988617507090399,0.6626985017523594,-0.256117596286613,1.2918476773171979,0.5741379139895667,-0.3981835391560925,0.6424033670567196,-0.46829400446830344,1.0778262568904493,-0.6564852534642373,-1.0181076534956401,1.3545780936491758,-0.007040943203759113,1.8250562161390105,0.34535639560235265,0.6018130976654393,-0.33729813506917294,-0.5125742983496998,-0.16571199627876226,1.0815162813805654,-1.1361884371793634,0.9283802650407371,-0.267187669756962,0.10181477925467344,-0.3409881595592891,-0.9738273596142438,0.3195262241715386,-0.3114679636383584,1.9007017181863963,-1.213678951471807,0.5667578650093339,0.6331783058314288,0.20698047722298935,-0.15833194729852942,-0.4664489922232454,0.40439678744421464,-2.007034216846823,0.14794008538112788,-1.619581645384606,0.640558354811661,-0.6269650575433066,0.950520411981435,0.3841016527485748,0.3232162486616547,-0.9147869677723821,-0.06792634729067865,0.4357619956102034,0.06860455884362605,0.4708172282663089,-0.5716146901915612,0.3841016527485748,0.2420357098790948,1.2364973099654524,-0.2284424126107404,0.9671255221869587,1.6977503712299968,1.443138681411968,0.2641758568197933,0.8582697997285261,1.4929540120285387,-0.014420992183991926,2.913613440723335,-0.4037185758912672,-0.6896954738752847,-0.7967061840886587,0.6940637099183482,0.14794008538112788,-1.486740763740417,0.4948023874520654,1.1737668936334744,0.19037536701746616,0.4154668609145636,-0.17309204525899508,1.0630661589299837,0.7328089670645699,1.349043056914001,-0.5974448616223759,-0.11036162892701694,0.9708155466770748,0.3250612609067128,-2.237660747479095,-1.1786237188157016,0.1221099139503133,1.4837289508032478,0.6424033670567196,-0.3834234411956274,-0.3483682085395219,0.9763505834122496,-0.842831490215113,-0.0476312125950388,0.5612228282741597,-0.7745660371479608,2.0298525753404686,0.3435113833572946,-0.5494745432508633,2.092582991672446,-1.7800977107046674,-0.6232750330531904,0.05199944863810287,0.7106688201238719,-0.7173706575511574,-0.494124175899118,-1.3428298086258792,0.2752459302901422,0.6350233180764868,0.6959087221634063,0.4431420445904362,-0.44799886977266357,-0.21921735138544948,0.8711848854439331,-0.0033509187136424434,-0.518109335084874,0.009564167001764587,1.3047627630326049,0.8029194323767808,0.07598460782385887,-0.24873754730638023,-0.5568545922310956,-2.1048198658349064,0.5058724609224143,0.12395492619537136,1.858266436550058,2.4449803304785585,0.3601164935628183,0.4357619956102034,-0.19707720444475105,-0.11774167790724975,0.4265369343849125,-1.9369237515346125,0.234655660898862,0.7512590895151516,-0.8188463310293571,1.3638031548744667,0.8398196772779444,0.3508914323375274,-1.276409367803785,-2.204450527068048,0.6516284282820105,-0.4074086003813834,0.5243225833729962,0.5077174731674724,-0.6601752779543539,-0.7542709024523209,-1.7487325025386782,-0.44799886977266357,-0.2690326820020201,-0.829916404499706,-0.6675553269345863,0.49295737520700683,0.85457977523841,-0.7598059391874951,-0.3594382820098709,0.5003374241872396,-0.8262263800095899,0.6442483793017777,0.2457257343692115,-0.5236443718200487,0.7272739303293957,0.24388072212415288,0.45974715479595996,0.5944330486852065,0.7770892609459662,0.3398213588671784,0.49664739969712346,0.4874223384718326,0.5187875466378215,-1.475670690270068,-0.04394118810492266,-0.12512172688748255,0.4560571303058433,-1.7302823800880964,-0.4037185758912672,0.6645435139974175,-0.14357184933806433,-0.3963385269110344,-1.6140466086494314,1.0058707793331803,1.7088204447003463,0.2752459302901422,0.880409946669224,1.2770875793567322,1.0483060609695185,0.48188730173665784,-1.5753013515032097,-1.0015025432901166,-2.197070478087815,-1.07899305758256,-1.1380334494244218,0.9763505834122496,0.8121444936020716,-0.05870128606538776,-1.0015025432901166,-0.7524258902072628,-1.7192123066177476,0.5077174731674724,-2.2265906740087464,1.1018114160762054,0.3472014078474112,0.474507252756425,0.23281064865380394,1.7180455059256372,-0.9443071636933128,-0.18231710648428595,0.4025517751991565,0.6497834160369519,-0.18969715546451876,0.26971089355496747,0.8416646895230024,0.6184182078709631,0.0815196445590336,0.7807792854360829,-2.119579963795372,-0.45906894324301256,1.4892639875384226,-0.32991808608894013,0.7586391384953844,-0.435083784057256,-1.337294771890705,0.05568947312821902,0.7494140772700936,-0.5033492371244089,0.03723935067763725,-0.24689253506132217,-0.8354514412348808,-0.5494745432508633,-0.5420944942706305,1.4320686079416196,-0.6970755228555175,-0.3170030003735326,3.1608450815611313,0.25495079559450234,-1.8686582984674598,-1.7727176617244345,0.29738607723084015,0.3232162486616547,0.7106688201238719,-0.27087769424707814,-0.00519593095870104,-0.16571199627876226,0.48373231398171596,-0.25796260853167113,0.7660191874756173,1.1553167711828924,-0.5144193105947579,-0.060546298310446355,0.30476612621107296,-0.36866334323516176,0.9357603140209694,-0.6048249106026087,-1.4295453841436137,-0.9867424453296512,-0.20445725342498386,0.4984924119421816,0.6940637099183482,0.9246902405506204,1.823211203893953,0.03723935067763725,-0.2247523881206237,-1.07899305758256,0.7678641997206753,0.7992294078866646,0.07229458333374272,1.5649094895858082,-0.6177399963180157,-0.4129436371165581,-0.9627572861438949,0.1553201343613607,-0.01257597993893333,1.4209985344712701,-0.18416211872934402,1.1110364773014962,-0.14726187382818048,-0.686005449385168,0.08520966904914976,0.5058724609224143,1.4837289508032478,0.44867708132561096,1.2789325916017908,-1.0531628861517455,-1.3760400290369263,-1.1085132535034907,1.3066077752776635,-0.021801041164224214,1.1793019303686492,-0.45168889426277975,2.015092477380003,1.1239515630169037,0.19960042824275706,1.8176761671587782,-0.45168889426277975,1.7328056038861017,-0.446153857527605,-0.8557465759305206,1.2420323467006271,-0.2598076207767292,-0.7598059391874951,1.9781922324788395,-1.1472585106497126,0.8490447385032353,1.4191535222262115,1.574134550811099,-0.363128306499987,0.20513546497793128,0.08336465680409168,1.5187841834593538,-0.8446765024601717,0.25864082008461853,-0.023646053409282813,0.8619598242186423,-0.16755700852382033,0.2752459302901422,1.1221065507718457,-1.9276986903093216,-2.036554412767754,-1.5291760453767553,-0.5716146901915612,1.4505187303922014,-0.5494745432508633,-0.5476295310058047,0.20144544048781513,0.03539433843257917,-0.4387738085473727,-0.5457845187607466,0.7900043466613738,-0.5550095799860375,0.4560571303058433,1.1700768691433583,-0.5365594575354558,-0.900026869811917,1.736495628376219,-0.4313937595671399,-0.014420992183991926,-0.03656113912468984,-0.07899642076102813,1.3269029099733032,0.6903736854282321,0.6959087221634063,0.4948023874520654,-0.3723533677252779,-0.6712453514247029,0.1313349751756042,-0.16017695954358752,-1.0236426902308147,0.3472014078474112,-0.12327671464242397,0.699598746653523,1.5944296855067384,-1.5845264127285006,-1.4996558494558243,-0.20814727791510054,0.4320719711200873,1.5114041344791205,-1.9590638984753106,1.369338191609641,-2.4812023638267746,-2.4369220699453784,0.8840999711593407,-1.0088825922703493,-2.047624486238103,-0.29486285343283464,-0.30408791465812557,0.6313332935863701,0.4025517751991565,-2.4184719474947967,-0.15279691056335523,-0.23951248608108935,-1.3225346739302395,-0.7044555718357498,1.0704462079102166,-0.9221670167526149,-1.4646006167997192,1.0630661589299837,-0.12327671464242397,2.0040224039096546,-1.8686582984674598,-0.5679246657014451,0.27893595478025834,-0.36866334323516176,0.2770909425352003,-0.09929155545666797,-0.8797317351162767,-0.6029798983575501,0.3914817017288071,-0.6251200452982485,0.9210002160605042,0.5815179629697995,0.6737685752227084,2.0944280039175047,0.7678641997206753,0.03723935067763725,-1.9406137760247288,-2.16201524543171,0.9062401181000386,2.4062350733323363,0.4136218486695055,-0.5476295310058047,0.07967463231397554,0.13317998742066225,0.5519977670488688,0.806609456866897,-0.28194776771742763,-0.5347144452903977,1.0095608038232964,-2.2911661025857826,0.7807792854360829,-0.18231710648428595,0.7272739303293957,-0.05870128606538776,0.5114074976575886,0.48373231398171596,-0.518109335084874,-0.4055635881363253,-0.37788840446045263,0.638713342566603,-1.4184753106732646,-0.3649733187450456,0.4302269588750292,-2.2505758331945027,2.87855820806723,-0.7376657922467972,0.15347512211630263,0.26233084457473466,-0.42585872283196513,1.1128814895465549,-0.13803681260288958,0.29369605274072397,2.0999630406526797,0.2180505506933388,-1.0531628861517455,-0.33360811057905626,-0.6509502167290631,0.7512590895151516,1.4154634977360954,-1.2321290739223887,2.2143537998462866,0.282625979270375,-1.4516855310843118,-1.7893227719299583,-0.6103599473377829,-0.02918109014445703,-0.4793640779386524,0.01140917924682266,1.58335961203639,-0.9387721269581386,-0.26165263302178726,0.28631600376049116,0.6331783058314288,0.48004228949159977,1.3545780936491758,0.23096563640874584,-2.036554412767754,1.5169391712142952,1.0335459630090529,0.6257982568511959,1.5556844283605173,0.07229458333374272,1.1626968201631254,-0.5254893840651068,-0.7634959636776117,0.5852079874599156,0.3250612609067128,0.47635226500148364,0.04277438741281199,1.3379729834436522,0.9542104364715511,0.3804116282584581,-0.07715140851596954,-1.0033475555351747,1.1387116609773689,0.6940637099183482,0.29369605274072397,0.7918493589064318,1.4246885589613862,-2.7413490903799778,0.14609507313606981,1.8084511059334873,-0.5955998493773178,0.11657487721513908,-1.5107259229261736,0.48926735071689065,0.688528673183174,-1.4055602249578574,-0.7395108044918552,0.21620553844828022,-0.3594382820098709,0.7789342731910243,-2.150945171961361,0.6663885262424756,-0.26165263302178726,0.4376070078552615,0.2918510404956659,-0.6601752779543539,-1.2007638657563995,-0.06608133504562057,1.0150958405584711,0.5759829262346248,0.05199944863810287,0.19960042824275706,-0.04394118810492266,0.6663885262424756,-0.7764110493930189,0.2457257343692115,-0.5568545922310956,-0.6601752779543539,1.692215334494822,0.5114074976575886,2.2309589100518097,0.9246902405506204,0.14794008538112788,-2.2579558821747354,-0.32069302486364926,-0.6361901187685974,-0.36866334323516176,0.20698047722298935,0.9431403630012022,-2.6841537107831743,0.25679580783956046,0.4154668609145636,0.22543059967357112,-0.3354531228241143,-0.5328694330453396,0.09443473027444063,0.7604841507404425,-0.4701390167133615,-1.077148045337502,0.0483094241479862,0.5612228282741597,-0.22106236363050757,0.6350233180764868,-1.1749336943255853,-0.0015059064685843712,0.14425006089101172,0.40070676295409796,0.1866853425273495,-0.4793640779386524,0.14978509762618594,0.9486753997363769,1.2069771140445218,0.9486753997363769,0.14056003640089507,-0.1620219717886461,0.18484033028229144,-0.0476312125950388,-0.339143147314231,1.3822532773250487,-0.9553772371636621,-0.16571199627876226,1.7346506161311603,-0.3243830493537654,-2.152790184206419,0.8988600691198058,0.5593778160291016,1.5888946487715647,0.6534734405270686,-1.2727193433136685,1.6977503712299968,-1.2302840616773305,0.14425006089101172,0.3232162486616547,0.016944215981997402,0.3250612609067128,-0.47567405344853625,1.509559122234063,1.2309622732302776,0.2125155139581641,0.531702632353229,1.356423105894234,0.42100189764973833,-0.09375651872149324,-0.9664473106340112,-0.6638653024444701,0.1368700119107789,1.0206308772936459,-1.0291777269659892,-0.10298157994678411,2.4929506488500714,0.8933250323846316,-1.5494711800723953,-0.6122049595828409,0.08336465680409168,-1.359434918831403,-0.02733607789939896,-0.5550095799860375,0.5519977670488688,-0.13619180035783152,-0.18785214321946017,0.27155590580002553,0.35642646907270215,-0.21737233914039142,0.4191568854046797,-1.901868518878507,-1.9701339719456596,0.5704478894994506,-0.964602298388953,0.41177683642444746,0.7383440037997446,-1.4793607147601846,1.1018114160762054,-1.080838069827618,0.8342846405427696,-0.05316624933021354,0.020634240472113548,1.0722912201552746,0.3490464200924693,1.749410714091626,0.7051337833886971,-0.8262263800095899,1.417308509981154,-0.060546298310446355,0.4708172282663089,1.6313299304079019,-0.00519593095870104,-0.5550095799860375,0.5187875466378215,-0.2598076207767292,0.5593778160291016,0.7494140772700936,-0.7044555718357498,0.31399118743636384,-1.3741950167918684,1.6959053589849382,0.5021824364322977,-0.2339774493459146,0.46897221602125083,-0.45906894324301256,-0.9682923228790693,1.622104869182611,1.8730265345105237,-0.15279691056335523,-1.0217976779857565,-0.3077779391482417,-0.6122049595828409,1.3896333263052814,1.3914783385503395,-1.3243796861752974,-0.38157842895056876,0.06306952210845183,0.3508914323375274,-1.2653392943334358,-0.23213243710085651,-1.0826830820726765,-0.26165263302178726,-0.9738273596142438,0.6719235629776503,-0.7265957187764482,-0.7321307555116224,2.622101506004144,-0.23766747383603126,0.640558354811661,1.4855739630483065,0.22912062416368778,-1.1324984126892472,0.19775541599769847,-1.7948578086651328,-0.2893278166976599,1.6294849181628444,-0.363128306499987,0.6424033670567196,1.989262305949189,-1.444305482104079,-1.4147852861831482,-1.2985495147444832,0.6719235629776503,0.44129703234537815,-1.2800993922939015,-1.2634942820883777,1.1147265017916128,-1.757957563763969,0.5464627303136941,-0.911096943282266,-0.06792634729067865,1.1516267466927763,-0.7893261351084264,0.38594666499363284,-0.9904324698197675,-0.9461521759383714,0.8638048364637009,-0.3170030003735326,-1.0882181188078508,-1.6306517188549552,-0.19707720444475105,0.8619598242186423,0.22912062416368778,-0.21368231465027476,0.009564167001764587,1.4376036446767932,-0.3649733187450456,1.0649111711750419,-1.411095261693032,0.47266224051136696,-0.5439395065156886,0.9763505834122496,-0.2598076207767292,0.3638065180529344,0.7032887711436391,-0.4701390167133615,0.2641758568197933,-0.07530639627091146,0.9357603140209694,-0.08453145749620235,0.19775541599769847,-0.056856273820329685,0.9080851303450967,-0.6546402412191792,-0.8040862330688915,-0.9037168943020332,-0.8354514412348808,1.8176761671587782,-1.3668149678116355,-1.2487341841279123,-0.37604339221539457,0.6073481344006141,-0.686005449385168,3.0870445917588043,-1.2099889269816904,1.6313299304079019,-0.14910688607323855,1.7697058487872652,0.32690627315177084,-1.619581645384606,-0.9812074085944766,1.3287479222183614,0.20513546497793128,-1.1693986575904107,-0.0015059064685843712,0.5206325588828795,1.8047610814433712,-0.9996575310450584,-0.7634959636776117,0.4025517751991565,0.20144544048781513,-0.6675553269345863,-1.5144159474162897,0.03539433843257917,-0.6657103146895281,-1.3760400290369263,-1.193383816776167,0.9781955956573076,-0.662020290199412,-0.05132123708515547,1.548304379380284,-0.6361901187685974,-0.23213243710085651,-0.6823154248950519,-0.8575915881755787,-1.5586962412976861,0.27155590580002553,0.7992294078866646,0.6737685752227084,-0.6122049595828409,1.0206308772936459,0.35273644458258546,-0.6804704126499939,-0.8354514412348808,-1.246889171882854,-1.0457828371715128,0.18115030579217528,1.1239515630169037,-1.5863714249735588,-0.38526845344068544,0.7641741752305592,-0.6472601922389464,0.605503122155556,-0.5992898738674339,-1.5365560943569878,1.548304379380284,-3.0808313434706824,-0.3170030003735326,0.07598460782385887,-1.0420928126813964,0.5261675956180543,1.1018114160762054,0.24941575885932762,-1.1583285841200615,-1.5808363882383842,-0.46829400446830344,1.10734645281138,0.6737685752227084,0.14609507313606981,-0.22290737587556564,-0.35205823302963807,-0.6694003391796448,0.7309639548195118,0.9837306323924824,-0.3225380371087073,0.5612228282741597,0.22174057518345497,2.0593727712614,1.4099284610009213,1.3508880691590592,-0.8741966983811024,0.6922186976732901,-1.4313903963886718,0.5907430241950904,-0.48120909018371044,-0.24320251057120548,0.1055048037447896,-1.381575065772101,1.7512557263366835,1.8527313998148833,0.14240504864595313,1.7844659467477308,0.38594666499363284,-0.3170030003735326,-0.0476312125950388,-0.25796260853167113,0.40439678744421464,0.2032904527328732,1.0409260119892858,-0.6435701677488302,-1.4479955065941954,0.4948023874520654,-0.26534265751190395,-0.267187669756962,-0.446153857527605,0.531702632353229,0.17746028130205863,-0.8852667718514514,-0.686005449385168,-1.693382135186933,-0.09191150647643516,-1.4055602249578574,1.2383423222105105,-1.8631232617322853,-0.578994739171794,0.49295737520700683,1.3305929344634193,1.675610224289299,-0.422168698341849,-0.7395108044918552,0.7512590895151516,0.638713342566603,0.30476612621107296,-1.3483648453610537,-0.04025116361480599,1.526164232439586,0.25495079559450234,0.6959087221634063,0.5538427792939269,-1.5513161923174532,0.6479384037918938,-0.8834217596063934,-0.20445725342498386,-0.6103599473377829,0.0649145343535099,-1.2413541351476796,-0.1620219717886461,-0.1288117513775987,0.27340091804508415,0.15347512211630263,2.3545747304707083,-1.1306534004441888,-0.4701390167133615,-0.4424638330374888,-0.3981835391560925,0.44129703234537815,-1.599286510688966,0.688528673183174,0.2531057833494438,-1.2229040126970978,-0.24504752281626407,1.526164232439586,0.522477571127938,1.2162021752698127,1.9855722814590728,0.2365006731439206,0.27155590580002553,0.5815179629697995,-0.6933854983654009,0.7567941262503264,-0.6638653024444701,-0.43323877181219794,-0.3575932697648128,1.0261659140288202,0.1645451955866516,0.282625979270375,1.2604824691512089,0.7697092119657334,-1.1251183637090145,0.9652805099419006,0.6719235629776503,0.6940637099183482,0.07044957108868465,1.0575311221948094,0.2641758568197933,0.2198955629383969,1.766015824297149,-0.10113656770172605,-0.267187669756962,0.9080851303450967,-1.320689661685181,1.2936926895622558,-0.016266004429049997,-0.7468908534720881,-0.8336064289898222,-0.019956028919166143,-0.1620219717886461,0.09258971802938257,-0.33729813506917294,-1.7450424780485618,0.7088238078788138,1.6866802977596473,1.1719218813884162,-0.9812074085944766,-0.37788840446045263,0.7457240527799774,-0.32069302486364926,0.35642646907270215,1.4265335712064449,0.3195262241715386,-0.7265957187764482,0.27340091804508415,-1.141723473914538,1.1737668936334744,-0.6288100697883646,-0.19154216770957683,0.9191552038154461,0.12764495068548803,-0.3077779391482417,0.2752459302901422,-0.6361901187685974,0.8342846405427696,-0.5992898738674339,1.500334061008772,-0.4443088452825469,-0.24504752281626407,-0.9037168943020332,-0.30962295139330026,1.0630661589299837,-0.24504752281626407,-1.0660779718671527,-0.056856273820329685,-2.067919620933743,-0.0642363228005625,1.2586374569061505,-1.1823137433058177,-1.2413541351476796,-0.3114679636383584,0.9210002160605042,-0.7358207800017391,1.5556844283605173,0.701443758898581,-1.2026088780014579,0.3103011629462477,1.36011313038435,-1.5033458739459407,1.2900026650721397,-0.9203220045075569,0.771554224210792,0.44498705683549433,0.6294882813413121,0.03908436292269532,0.6626985017523594,0.3638065180529344,-1.1896937922860507,1.679300248779415,0.7881593344163151,-2.1693952944119426,0.1793052935471167,0.30476612621107296,-0.1454168615831224,-0.10113656770172605,-1.8612782494872273,-0.7044555718357498,1.0390809997442276,0.10365979149973152,1.3804082650799905,0.0649145343535099,-0.29486285343283464,0.5243225833729962,1.275242567111674,0.10919482823490627,0.33797634662212034,-0.8741966983811024,0.3250612609067128,-0.45906894324301256,-0.4867441269188852,0.5852079874599156,-0.7081455963258665,-0.5236443718200487,0.555687791538985,1.2457223711907432,2.616566469268969,1.3287479222183614,1.0593761344398676,-0.3649733187450456,-0.5771497269267359,-0.5273343963101649,-0.15833194729852942,1.3877883140602227,-3.3114578741029543,-0.8446765024601717,0.8379746650328863,-0.5107292861046412,-0.7026105595906917,1.9597421100282577,-2.2339707229889787,-1.6435668045703622,-1.2007638657563995,-0.5863747881520269,2.2733941916881477,-0.8003962085787754,0.7069787956337558,-1.0199526657406983,0.49295737520700683,-0.8594366004206367,-1.3760400290369263,1.2088221262895797,0.09258971802938257,-1.6601719147758858,1.035390975254111,0.12026490170525522,0.0003391057764737013,-1.245044159637796,-0.20445725342498386,0.6424033670567196,1.2217372120049868,-0.422168698341849,-0.6767803881598772,-1.1564835718750035,1.044616036479402,-0.7634959636776117,-2.3538965189177605,-1.8114629188706564,-0.14726187382818048,-0.9867424453296512,0.32690627315177084,0.26971089355496747,-1.1767787065706434,-0.4110986248715,1.6645401508189495,0.8840999711593407,0.17377025681194247,-3.3114578741029543,-1.2727193433136685,-0.21921735138544948,-0.8760417106261605,0.6257982568511959,-0.07530639627091146,-1.7874777596849,-0.995967506554942,0.06675954659856798,-0.32069302486364926,-0.23766747383603126,-0.8040862330688915,-0.686005449385168,-0.03471612687963177,-1.776407686214551,1.024320901783762,-1.361279931076461,-0.5550095799860375,1.5722895385660405,-0.35390324527469613,-1.5420911310921623,-0.7155256453060993,1.3176778487480123,0.389636689483749,0.5593778160291016,0.34166637111223647,-1.2302840616773305,-1.233974086167447,0.8656498487087589,1.2069771140445218,0.4376070078552615,-0.7893261351084264,-0.49596918814417607,1.7604807875619743,0.2992310894758982,0.4579021425509019,0.7900043466613738,0.7936943711514899,-0.0956015309665513,1.1626968201631254,0.7770892609459662,-1.2026088780014579,0.7420340282898608,-0.6380351310136555,1.0519960854596346,-0.10113656770172605,-1.2911694657642503,-1.8059278821354818,-0.8502115391953459,-0.7819460861281936,0.3232162486616547,0.3435113833572946,-2.5826780373049743,0.36934155478810915,-0.4184786738517323,0.07229458333374272,-0.8686616616459277,-2.1454101352261863,0.02985930169740443,-1.1435684861595963,0.723583905839279,0.5132525099026471,-0.5328694330453396,1.7309605916410442,1.5981197099968556,-1.2302840616773305,-1.379730053527043,1.36011313038435,-0.08822148198631902,-1.7062972209023402,0.461592167041018,0.867494860953817,1.0077157915782384,-0.8520565514404039,-0.840986477970055,-0.3557482575197547,0.9431403630012022,0.8840999711593407,-1.9682889597006015,0.306611138456131,0.3250612609067128,0.7401890160448027,-0.48120909018371044,0.6737685752227084,0.8010744201317227,0.19037536701746616,-0.45722393099795444,-0.7948611718436006,-0.16571199627876226,1.0519960854596346,-0.47198402895841957,1.345353032423885,0.3398213588671784,-0.49965921263429225,1.0686011956651584,1.5888946487715647,0.32875128539682946,0.36196150580787634,1.0003357425980055,0.06675954659856798,-0.7395108044918552,0.6350233180764868,0.5095624854125305,-0.04209617585986458,-0.17862708199416927,-0.11036162892701694,-0.36128329425492894,-1.1878487800409925,-1.610356584159315,1.18852699159394,-1.150948535139829,0.8084544691119555,1.5114041344791205,-2.453527180150902,-0.5457845187607466,1.1571617834279506,1.474503889577957,0.7918493589064318,-2.0310193760325794,-0.42401371058690707,-2.18231038012735,1.2125121507796959,-1.4240103474084391,0.9486753997363769,0.8840999711593407,-0.3114679636383584,0.7364989915546866,-0.7801010738831354,-1.693382135186933,1.6903703222497646,-2.348361482182586,-0.2598076207767292,0.7069787956337558,1.037235987499169,0.461592167041018,-0.911096943282266,-1.3981801759776247,1.1147265017916128,0.21436052620322216,0.7198938813491629,-0.9369271147130805,1.0538410977046928,-1.72659235559798,-0.7063005840808084,0.2752459302901422,-0.21921735138544948,1.0150958405584711,-0.4664489922232454,-0.6694003391796448,0.6811486242029412,-0.3243830493537654,-1.121428339218898,-0.007040943203759113,-0.5826847636619102,0.5483077425587521,1.1959070405741727,-0.07715140851596954,-0.5347144452903977,0.3305962976418875,-0.29486285343283464,1.0593761344398676,-1.7930127964200746,0.6737685752227084,0.009564167001764587,-0.6601752779543539,0.34535639560235265,-0.2893278166976599,0.18484033028229144,-0.44799886977266357,1.1590067956730092,1.376718240589874,-1.245044159637796,0.3490464200924693,0.7401890160448027,-0.18231710648428595,-0.35205823302963807,-1.5586962412976861,-0.3575932697648128,0.27893595478025834,1.0501510732145767,-0.4129436371165581,0.005874142511648443,-0.5771497269267359,-1.112203277993607,0.8213695548273626,-2.9516804863166097,0.0981247547645573,-0.05870128606538776,1.1479367222026597,0.8342846405427696,0.5132525099026471,0.3195262241715386,-1.2653392943334358,-1.0513178739066873,0.8748749099340498,0.138715024155837,0.46712720377619277,-0.2505825595514383,-0.3944935146659763,0.8435097017680605,-0.3705083554802198,-0.12512172688748255,0.7992294078866646,0.638713342566603,-0.8391414657249969,2.072287856976807,0.797384395641606,-0.09191150647643516,1.7254255549058695,0.8453547140131191,1.9136168039018033,-1.6564818902857694,-0.9664473106340112,-1.3575899065863446,-0.686005449385168,0.2180505506933388,0.4136218486695055,1.251257407925918,1.1571617834279506,-0.9627572861438949,-0.007040943203759113,0.3305962976418875,0.2512607711043857,-0.14357184933806433,0.3508914323375274,-1.0660779718671527,-0.9092519310372079,0.44129703234537815,1.1350216364872527,-0.6970755228555175,-0.8243813677645313,-0.30224290241306745,-0.6269650575433066,2.7733925100989145,-0.8778867228712186,0.3158361996814219,-1.4719806657799517,-0.662020290199412,-2.6140432454709637,-1.9682889597006015,-1.5623862657878025,0.7807792854360829,1.6387099793881352,-1.1804687310607598,0.41731187315962165,0.6663885262424756,-0.1767820697491112,0.40993182417938884,0.7678641997206753,0.723583905839279,-1.0919081432979674,1.826901228384069,1.0483060609695185,1.740185652866335,-0.8926468208316842,-0.22290737587556564,0.3361313343770618,-0.09191150647643516,0.3785666160134,-0.49227916365405944,-0.9147869677723821,1.640554991633193,0.16639020783170966,-0.5476295310058047,-1.1730886820805269,-0.8815767473613352,-1.4406154576139627,-0.5623896289662703,-1.525486020886639,-1.328069710665414,0.9837306323924824,-1.077148045337502,-1.0181076534956401,-0.40187356364620913,-1.0181076534956401,1.9726571957436647,-0.11958669015230781,0.7198938813491629,-2.538397743423578,1.500334061008772,0.8711848854439331,-0.0033509187136424434,-0.06977135953573724,-0.4074086003813834,-1.224749024942156,0.059379497618335164,-0.3354531228241143,-0.6823154248950519,0.2032904527328732,-0.3723533677252779,-0.47382904120347763,0.02247925271717162,0.4283819466299706,0.20882548946804794,0.47266224051136696,1.035390975254111,0.18115030579217528,-0.23213243710085651,1.2125121507796959,-0.8649716371558115,0.2365006731439206,-1.0605429351319782,0.24941575885932762,-0.38526845344068544,-0.4775190656935943,0.7770892609459662,1.203287089554405,1.1128814895465549,1.1626968201631254,-1.141723473914538,0.7143588446139881,-0.6435701677488302,-0.4775190656935943,-0.8059312453139496,0.42469192213985446,-0.5033492371244089,-0.7487358657171461,-0.9682923228790693,-0.20076722893486773,1.976347220233782,-0.2745677187371948,-0.6546402412191792,-0.6989205351005756,0.4579021425509019,-0.3003978901680094,-0.06239131055550443,1.3785632528349319,-0.08453145749620235,0.14425006089101172,0.5962780609302651,1.1516267466927763,-0.32991808608894013,0.2678658813099094,-1.287479441274134,1.7992260447081965,0.23281064865380394,0.3490464200924693,0.0981247547645573,-0.21552732689533283,-0.7432008289819719,-1.067922984112211,1.6774552365343565,1.356423105894234,0.389636689483749,-0.21921735138544948,-0.42401371058690707,0.6571634650171847,2.254944069237566,-0.5015042248793503,0.29369605274072397,0.5390826813334613,0.19591040375264038,0.06860455884362605,-2.3114612372814225,0.5261675956180543,0.937605326266028,0.2992310894758982,-0.24689253506132217,-0.8040862330688915,0.17746028130205863,-0.02918109014445703,-0.6564852534642373,-0.5771497269267359,1.9855722814590728,-0.2524275717964964,-0.6527952289741211,-0.1288117513775987,0.3748765915232839,-1.2985495147444832,-0.14172683709300574,0.7900043466613738,1.2235822242500454,-0.2745677187371948,0.5944330486852065,-0.5955998493773178,1.3877883140602227,-0.17309204525899508,0.2881610160055492,-0.5568545922310956,0.21436052620322216,0.5058724609224143,1.0981213915860892,-0.0033509187136424434,0.10734981598984819,-0.7026105595906917,-0.49781420038923413,-0.6251200452982485,-0.28194776771742763,0.7660191874756173,2.138708297798901,-0.7321307555116224,-0.3170030003735326,1.7198905181706947,0.3841016527485748,-0.8059312453139496,1.055686109949751,-1.256114233108145,-0.4313937595671399,0.21436052620322216,0.4781972772465417,0.8435097017680605,1.2992277262974306,-0.8834217596063934,1.7770858977674986,-0.6749353759148191,0.5114074976575886,0.49295737520700683,0.8527347629933514,-0.21552732689533283,0.3361313343770618,-0.17862708199416927,0.20513546497793128,-1.829913041321238,-2.036554412767754,0.1719252445668844,-0.5328694330453396,0.23096563640874584,-0.2911728289427185,0.5944330486852065,-0.0734613840258534,-0.5420944942706305,0.6645435139974175,-1.4350804208787882,1.4560537671273752,1.1608518079180672,0.19775541599769847,-0.46829400446830344,0.15716514660641875,-1.4092502494479737,-0.07530639627091146,-0.6288100697883646,-0.3317630983339982,1.487418975293365,-0.911096943282266,-1.4295453841436137,0.723583905839279,-0.9406171392031967,-0.9369271147130805,-0.13434678811277345,0.3638065180529344,0.09258971802938257,-0.20076722893486773,-0.10113656770172605,0.9394503385110861,0.34535639560235265,0.1221099139503133,-0.5716146901915612,-0.4129436371165581,-0.45168889426277975,0.16639020783170966,0.5409276935785199,0.3582714813177602,0.6147281833808469,-0.7764110493930189,0.22727561191862972,-0.5623896289662703,-1.150948535139829,-1.318844649440123,-1.2302840616773305,-0.06608133504562057,1.0538410977046928,-0.9203220045075569,-0.8520565514404039,-0.21552732689533283,1.9136168039018033,-0.7063005840808084,0.9357603140209694,1.0759812446453914,0.45236710581572714,0.7678641997206753,-0.04209617585986458,-0.2893278166976599,-0.7044555718357498,1.7162004936805786,-1.1177383147287816,-3.1657019067433585,-0.36866334323516176,-0.5402494820255724,-0.7155256453060993,-0.18969715546451876,0.7623291629855011,0.6793036119578831,-0.18416211872934402,1.417308509981154,0.004029130266589846,1.596274697751797,-1.527331033131697,-1.785632747439842,-0.20814727791510054,1.9726571957436647,-0.0956015309665513,0.20513546497793128,-0.0734613840258534,-0.8502115391953459,0.4634371792860761,1.1571617834279506,1.3582681181392922,-0.912941955527324,-1.3575899065863446,0.27155590580002553,0.31399118743636384,0.09258971802938257,1.5206291957044114,0.4228469098947964,-0.22290737587556564,-0.21737233914039142,1.1202615385267871,0.17746028130205863,-0.9553772371636621,0.474507252756425,-0.4609139554880706,-0.47567405344853625,2.7420273019329255,-0.6195850085630737,0.40070676295409796,-0.74504584122703,-1.1177383147287816,0.7032887711436391,-0.6361901187685974,0.4431420445904362,1.6663851630640079,-0.9812074085944766,-1.6860020862067004,0.7198938813491629,1.0575311221948094,-1.0217976779857565,0.08705468129420782,0.797384395641606,-0.5586996044761542,0.4984924119421816,-0.3649733187450456,0.46528219153113415,0.6221082323610793,-1.1583285841200615,1.548304379380284,-0.7247507065313902,0.3361313343770618,-1.6786220372264675,0.6608534895073014,0.44867708132561096,1.640554991633193,-0.37604339221539457,-1.2007638657563995,-0.7487358657171461,0.12026490170525522,-0.16755700852382033,-0.2764127309822529,-0.20076722893486773,1.5077141099890043,0.2032904527328732,0.02985930169740443,-0.04394118810492266,-0.35021322078457995,-0.8262263800095899,0.34535639560235265,0.9117751548352133,1.1479367222026597,-0.8926468208316842,1.0077157915782384,0.3804116282584581,-0.4701390167133615,0.8250595793174788,-0.5753047146816774,-0.0900664942313771,-0.7561159146973789,-1.3003945269895412,-0.3170030003735326,0.5778279384796834,-0.68416043714011,0.8121444936020716,0.05568947312821902,0.2604858323296766,0.23834568538897868,0.9911106813727146,-0.38157842895056876,-0.9848974330845931,2.0464576855459917,-2.1933804535976993,-0.5734597024366194,1.2364973099654524,2.1885236284154725,-1.1103582657485491,1.1626968201631254,0.7863143221712571,1.0464610487244599,-0.6509502167290631,-0.45906894324301256,-0.7764110493930189,-1.3981801759776247,-0.7911711473534845,2.0353876120756436,0.3084561507011891,0.29738607723084015,0.7881593344163151,-0.12143170239736589,-0.4609139554880706,-1.6435668045703622,-1.3538998820962285,-2.8133045679372466,1.2088221262895797,0.31768121192647997,-0.8908018085866262,-0.5513195554959214,1.1128814895465549,-0.6896954738752847,-1.1823137433058177,0.24941575885932762,0.49111236296194877,-0.35390324527469613,0.37672160376834196,0.6202632201160212,-0.021801041164224214,1.343508020178827,0.3361313343770618,-1.2616492698433197,-1.5310210576218135,-0.41663366160667425,-1.036557775946222,0.5058724609224143,1.2973827140523726,-0.6546402412191792,2.2143537998462866,0.8582697997285261,-0.7727210249029026,0.5944330486852065,-1.6564818902857694,0.33428632213200365,1.6700751875541242,0.27340091804508415,-2.4313870332102034,0.19591040375264038,-1.6601719147758858,0.05753448537327709,0.48004228949159977,0.9597454732067259,1.3250578977282452,-0.15279691056335523,0.3398213588671784,-0.8243813677645313,0.2198955629383969,-0.09191150647643516,-0.03840615136974792,0.0483094241479862,0.7918493589064318,-2.429542020965146,-1.0642329596220945,-0.6638653024444701,-0.2690326820020201,0.2604858323296766,-1.4461504943491374,-1.6085115719142569,-0.19523219219969298,0.7328089670645699,-0.025491065654340884,-0.6085149350927248,-0.13250177586771486,-0.18969715546451876,-1.027332714720931,-1.5402461188471044,-1.5882164372186167,1.4468287059020843,-1.7395074413133873,-0.3594382820098709,0.06306952210845183,0.6774585997128245,1.5169391712142952,-0.04209617585986458,-1.6601719147758858,-0.6361901187685974,-0.36866334323516176,-0.5107292861046412,-0.060546298310446355,-0.505194249369467,-0.3354531228241143,-0.14357184933806433,1.8342812773643014,0.6184182078709631,1.1700768691433583,0.6959087221634063,-0.06608133504562057,2.2826192529134386,1.096276379341031,0.1866853425273495,-0.8520565514404039,-1.6011315229340242,-0.04209617585986458,0.09258971802938257,-0.06239131055550443,0.46528219153113415,-0.662020290199412,-0.0033509187136424434,-0.7782560616380769,1.0759812446453914,0.4468320690805524,0.2180505506933388,0.5464627303136941,-1.6730870004912932,-0.7671859881677279,0.5187875466378215,1.635019954898019,-0.2358224615909732,0.04277438741281199,-0.5974448616223759,-2.6158882577160214,0.10181477925467344,-0.42585872283196513,1.103656428321264,-0.8225363555194732,0.282625979270375,-1.6029765351790823,0.5519977670488688,0.33428632213200365,-2.9867357189727155,0.42100189764973833,-0.8003962085787754,0.5077174731674724,0.5243225833729962,1.7900009834829056,2.478190550889606,2.011402452889887,-2.1140449270601973,1.1811469426137071,0.3232162486616547,1.8176761671587782,0.7457240527799774,-0.6232750330531904,-1.9129385923488562,0.3029211139660149,-1.0236426902308147,-0.13988182484794767,1.2900026650721397,0.9025500936099224,-0.20076722893486773,-1.0291777269659892,-0.014420992183991926,-1.2229040126970978,-0.68416043714011,0.4560571303058433,-0.5494745432508633,0.8785649344241659,-0.446153857527605,-0.42585872283196513,-0.5679246657014451,1.701440395720113,0.26233084457473466,1.2143571630247545,0.306611138456131,0.8398196772779444,0.18853035477240757,-0.6749353759148191,-0.07161637178079532,-1.6066665596691985,-1.599286510688966,0.7789342731910243,-0.3668183309901037,-0.37604339221539457,-2.390796763818924,-1.154638559629945,1.3822532773250487,0.5077174731674724,-0.6306550820334227,0.9449853752462603,-0.5162643228398159,-0.6158949840729576,0.38225664050351615,-0.5310244208002816,0.12026490170525522,0.616573195625905,0.282625979270375,1.7162004936805786,-0.8188463310293571,0.9412953507561441,-0.6675553269345863,1.6903703222497646,1.3656481671195249,-0.2284424126107404,-1.379730053527043,-0.8133112942941824,-0.6398801432587136,-1.4885857759854755,-0.40002855140115057,-0.30408791465812557,0.03908436292269532,-0.9313920779779058,-1.7247473433529221,0.26602086906485134,-1.2930144780093085,0.17377025681194247,0.007719154756706515,0.07229458333374272,2.0040224039096546,-0.18969715546451876,0.5206325588828795,-0.18416211872934402,-0.7007655473456337,-0.4553789187528959,-0.8483665269502878,0.8324396282977116,1.740185652866335,-1.3926451392424501,-1.1823137433058177,0.7863143221712571,-1.163863620855236,0.7051337833886971,-0.924012028997673,-0.32622806159882345,0.35642646907270215,-0.5845297759069683,1.5280092446846447,1.2346522977203944,-0.0956015309665513,0.07229458333374272,0.22912062416368778,0.15347512211630263,1.4800389263131317,0.016944215981997402,-2.3557415311628187,2.295534338628846,-1.0291777269659892,0.49295737520700683,-0.280102755472369,0.9062401181000386,0.38594666499363284,-0.46460397997818675,-1.0439378249264546,0.7623291629855011,0.6479384037918938,0.4154668609145636,0.5538427792939269,2.1848336039253553,0.6147281833808469,-0.4904341514090013,-0.9978125188000001,-0.7598059391874951,0.18115030579217528,0.365651530297993,2.1294832365736096,-0.07530639627091146,-0.0015059064685843712,-0.9719823473691858,-0.6730903636697609,-1.6158916208944896,0.5704478894994506,0.4025517751991565,-0.6251200452982485,0.4431420445904362,0.9763505834122496,-1.715522282127631,-0.43323877181219794,2.708817081521878,0.28631600376049116,-1.2819444045389594,-0.5974448616223759,-0.43323877181219794,-1.4996558494558243,0.5741379139895667,-0.36128329425492894,-1.027332714720931,-1.141723473914538,-1.3686599800566939,-1.2505791963729704,-0.3723533677252779,-1.8040828698904237,1.0796712691355075,-0.9479971881834295,-0.15279691056335523,-1.3003945269895412,0.7475690650250355,-2.285631065850608,1.976347220233782,0.5187875466378215,-1.2893244535191923,-0.06977135953573724,0.474507252756425,0.9800406079023657,-1.4166302984282064,-0.18785214321946017,1.3195228609930705,0.9394503385110861,-1.285634429029076,1.8453513508346508,0.6442483793017777,-1.5384011066020462,0.8213695548273626,0.5833629752148576,-1.2967045024994248,0.7475690650250355,-1.5310210576218135,0.07413959557880079,-1.320689661685181,-0.3409881595592891,-0.5586996044761542,-0.769031000412786,-0.6970755228555175,0.3121461751913058,-0.6029798983575501,-0.10298157994678411,2.319519497814602,-0.3170030003735326,-0.5439395065156886,0.3324413098869456,1.1202615385267871,0.12395492619537136,1.055686109949751,-0.11589666566219167,0.0335493261875211,-0.07530639627091146,-1.6952271474319913,0.4394520201003201,-1.6029765351790823,-0.34467818404940526,-2.377881678103517,-0.8225363555194732,1.3398179956887102,0.6645435139974175,-1.0088825922703493,-0.014420992183991926,0.06860455884362605,-0.5974448616223759,0.9339153017759113,-0.8059312453139496,0.48373231398171596,-1.9498388372500197,0.18115030579217528,-0.7782560616380769,-2.007034216846823,0.4634371792860761,-1.0402478004363385,-0.9184769922624988,0.3545814568276435,0.6719235629776503,-1.112203277993607,-0.6491052044840044,1.0280109262738781,-1.1896937922860507,-0.5125742983496998,-0.4867441269188852,0.7217388935942209,0.19960042824275706,0.09627974251949871,-1.1841587555508761,2.116568150858203,0.6663885262424756,-0.9350821024680219,-1.9978091556215323,-1.560541253542744,1.474503889577957,0.6700785507325923,-1.5125709351712315,-0.6085149350927248,-0.7302857432665644,-0.4848991146738271,-1.401870200467741,0.11657487721513908,-0.9221670167526149,1.0538410977046928,1.4929540120285387,-0.2247523881206237,-1.2265940371872142,0.11472986497008048,-0.7985511963337173,0.795539383396548,0.32875128539682946,0.5261675956180543,-1.1251183637090145,-0.4848991146738271,-0.20076722893486773,0.8250595793174788,-1.1269633759540725,0.210670501713106,2.551991040691933,2.4449803304785585,-0.6177399963180157,-0.8834217596063934,0.25679580783956046,0.10365979149973152,0.25495079559450234,-0.6103599473377829,-1.03840278819128,0.4708172282663089,-0.9369271147130805,0.6903736854282321,-0.5439395065156886,0.5999680854203813,-0.2247523881206237,-0.04025116361480599,-0.5513195554959214,3.0593694080829317,1.5759795630561566,-1.0605429351319782,0.8416646895230024,0.5335476445982871,-0.11774167790724975,-0.3151579881284745,1.8767165590006398,0.531702632353229,0.8250595793174788,0.18115030579217528,0.9855756446375404,-0.45168889426277975,-0.4627589677331287,1.0187858650485873,1.116571514036671,2.194058665150646,-0.24873754730638023,-0.09191150647643516,-0.0734613840258534,-0.4055635881363253,0.5169425343927633,-0.6398801432587136,1.4634338161076084,0.8748749099340498,-0.4904341514090013,-0.5291794085552229,2.6368616039646087,-0.4775190656935943,0.6571634650171847,-0.09375651872149324,0.018789228227055473,-1.0402478004363385,0.38225664050351615,0.08705468129420782,1.7567907630718582,-0.6915404861203428,-0.5162643228398159,1.2346522977203944,0.9818856201474238,2.002177391664596,-0.16017695954358752,0.6756135874677665,-0.7524258902072628,0.5759829262346248,0.04277438741281199,-2.1749303311471175,0.5206325588828795,0.7328089670645699,0.8767199221791079,1.4357586324317357,-1.077148045337502,2.25125404474745,1.0040257670881223,-1.47382567802501,-0.17862708199416927,0.35642646907270215,-1.1675536453453523,1.4099284610009213,0.15163010987124403,0.3029211139660149,-0.924012028997673,0.7660191874756173,-0.7192156697962154,1.8158311549137196,0.8379746650328863,-1.2985495147444832,0.522477571127938,2.382249914146581,1.1645418324081835,0.9246902405506204,-0.24873754730638023,-0.6398801432587136,-1.3538998820962285,0.7807792854360829,0.4634371792860761,0.627643269096254,-0.5070392616145251,1.500334061008772,-0.24135749832614742,-0.02918109014445703,1.0261659140288202,1.640554991633193,0.007719154756706515,2.4837255876247806,-0.3225380371087073,-0.06792634729067865,-1.2930144780093085,0.5390826813334613,0.6479384037918938,-2.403711849534331,-0.7044555718357498,1.36011313038435,0.48926735071689065,-2.5660729270994507,2.0612177835064576,-1.9978091556215323,1.5187841834593538,0.2180505506933388,-0.8520565514404039,1.9117717916567458,0.1294899629305461,-0.2985528779229508,-0.025491065654340884,0.3029211139660149,2.136863285553843,-0.8003962085787754,-1.2062989024915742,-0.18785214321946017,0.6442483793017777,1.408083448755863,-0.5771497269267359,-1.1103582657485491,0.2365006731439206,1.2125121507796959,0.6774585997128245,-0.13065676362265677,-0.07715140851596954,-0.19338717995463492,-3.263487555731442,0.08520966904914976,0.04461939965787006,-0.3575932697648128,0.806609456866897,0.6737685752227084,-0.36866334323516176,-1.3741950167918684,0.461592167041018,1.7438756773564512,0.9302252772857952,-0.0015059064685843712,-3.1675469189884162,0.06675954659856798,0.5058724609224143,-0.7284407310215063,-0.00519593095870104,1.0667561834201003,0.03723935067763725,-0.4387738085473727,1.2088221262895797,-1.2616492698433197,-1.6786220372264675,-1.171243669835469,-0.4424638330374888,-0.07899642076102813,-0.45722393099795444,0.7180488691041047,0.8859449834043988,0.10181477925467344,0.13502499966572085,0.5390826813334613,0.11841988946019714,0.7936943711514899,0.3988617507090399,-0.21368231465027476,-0.06977135953573724,-1.2598042575982613,-1.693382135186933,1.1922170160840562,-0.267187669756962,-0.9609122738988365,0.282625979270375,-2.3022361760561316,1.9173068283919195,1.4486737181471427,-1.641721792325304,1.035390975254111,-0.6823154248950519,-2.315151261771539,0.6516284282820105,1.3269029099733032,-0.7468908534720881,-1.1472585106497126,1.5593744528506335,-1.7874777596849,0.7549491140052683,0.6922186976732901,-0.9313920779779058,-0.5347144452903977,0.18484033028229144,-0.925857041242731,-1.1786237188157016,0.782624297681141,-2.180465367882292,0.07967463231397554,-0.22290737587556564,-0.46829400446830344,0.3472014078474112,-0.9443071636933128,0.1553201343613607,-0.9277020534877897,-0.995967506554942,1.4339136201866771,-1.0125726167604656,-0.0808414330060862,-1.0181076534956401,1.6995953834750555,0.7457240527799774,0.07044957108868465,-1.4461504943491374,-0.1454168615831224,0.5981230731753232,-2.1361850740008954,-0.112206641172075,1.0741362324003327,-0.11958669015230781,0.8379746650328863,1.0741362324003327,-0.7837910983732517,-0.6823154248950519,-0.68416043714011,-0.5992898738674339,0.7531041017602103,-0.5586996044761542,0.45974715479595996,2.3711798406762314,0.5686028772543925,-2.224745661763688,0.9117751548352133,-1.650946853550595,-0.6048249106026087,-0.3077779391482417,0.1368700119107789,-1.722902331107864,0.605503122155556,-0.5254893840651068,0.605503122155556,1.0132508283134132,-0.04947622484009687,-0.6066699228476667,1.4947990242735973,-0.6158949840729576,-1.0144176290055238,0.5519977670488688,1.9597421100282577,0.210670501713106,0.5409276935785199,1.6903703222497646,1.1313316119971366,-1.193383816776167,-0.7505808779622042,0.5593778160291016,-0.8225363555194732,-0.28563779220754376,1.2180471875148706,-1.6380317678351877,-1.307774575969774,-1.6546368780407112,1.345353032423885,0.07229458333374272,0.07229458333374272,-0.44799886977266357,-0.2524275717964964,1.8416613263445347,-0.09929155545666797,-0.06977135953573724,1.4209985344712701,-0.17124703301393698,-0.7358207800017391,0.5649128527642758,-0.09375651872149324,0.5741379139895667,-1.069767996357269,-0.953532224918604,-1.4775157025151262,-0.29670786567789276,-1.0882181188078508,0.08520966904914976,0.10181477925467344,-0.34283317180434714,0.5187875466378215,0.5483077425587521,-0.38895847793080157,-0.5623896289662703,0.461592167041018,2.016937489625062,-1.307774575969774,-0.4295487473220818,0.8435097017680605,1.9911073181942465,-0.07715140851596954,-0.3981835391560925,1.2235822242500454,-0.0328711146345737,-1.1380334494244218,-1.1029782167683162,1.1571617834279506,-0.9369271147130805,0.5206325588828795,0.9929556936177732,0.0483094241479862,-0.21183730240521667,1.3305929344634193,1.4191535222262115,0.8914800201395735,1.022475889538704,-1.0144176290055238,0.9966457181078894,0.32875128539682946,-0.5162643228398159,-0.6122049595828409,0.2881610160055492,0.542772705823578,-0.8077762575590082,0.8564247874834681,-1.0568529106418618,-0.4830541024287685,0.282625979270375,0.5021824364322977,0.15716514660641875,-1.0550078983968036,1.4726588773328992,-0.12143170239736589,0.3158361996814219,0.2844709915154331,1.5372343059099356,0.5852079874599156,0.45236710581572714,0.806609456866897,-1.1158933024837234,1.5981197099968556,-0.8317614167447641,-0.16571199627876226,-0.018111016674108072,1.1147265017916128,-2.285631065850608,-1.285634429029076,0.306611138456131,-0.2339774493459146,-1.2229040126970978,1.1682318568983001,-0.42401371058690707,1.609189783467204,0.04646441190292813,-0.6066699228476667,-1.2727193433136685,-1.1232733514639563,0.33428632213200365,0.5686028772543925,0.7531041017602103,-0.5439395065156886,-0.32807307384388207,0.2198955629383969,-1.2930144780093085,-0.6527952289741211,1.2807776038468488,-1.7302823800880964,0.6516284282820105,-0.3797334167055107,-1.2819444045389594,-0.6251200452982485,-1.5900614494636751,0.4136218486695055,-0.6103599473377829,1.7198905181706947,-2.962750559786959,0.19775541599769847,-0.9018718820569751,-0.38895847793080157,-0.23951248608108935,-0.925857041242731,0.365651530297993,0.10365979149973152,-0.07530639627091146,-1.5734563392581515,0.18299531803723335,-1.1343434249343054,0.6018130976654393,0.784469309926199,0.7992294078866646,0.1940653915075823,0.29369605274072397,-1.4664456290447772,-0.3483682085395219,-0.3834234411956274,-0.4609139554880706,0.2365006731439206,2.317674485569545,0.24941575885932762,-1.973823996435776,-1.370504992301752,0.018789228227055473,0.6497834160369519,-1.7099872453924567,-0.8852667718514514,-0.8133112942941824,-0.0956015309665513,1.0335459630090529,-0.4147886493616162,-1.246889171882854,1.0483060609695185,-0.2930178411877766,0.6294882813413121,-0.6657103146895281,-1.5199509841514645,-1.5753013515032097,0.8638048364637009,-0.842831490215113,0.19960042824275706,2.1294832365736096,0.10919482823490627,0.0003391057764737013,-0.3963385269110344,-0.11958669015230781,-0.8354514412348808,0.3029211139660149,0.640558354811661,-0.8760417106261605,-0.4037185758912672,-1.276409367803785,-0.3317630983339982,-0.14172683709300574,0.5815179629697995,-0.7413558167369133,2.0685978324866907,1.0206308772936459,0.14978509762618594,-0.04394118810492266,-1.1361884371793634,1.2567924446610923,-0.1767820697491112,0.10181477925467344,0.46897221602125083,0.8490447385032353,-0.1804720942392279,-0.3243830493537654,-0.8520565514404039,-0.1620219717886461,0.18853035477240757,2.635016591719551,-1.0162626412505817,-0.601134886112492,-0.8778867228712186,-0.5955998493773178,-0.6712453514247029,1.0649111711750419,0.08705468129420782,-1.2985495147444832,-0.7634959636776117,0.13502499966572085,-0.4443088452825469,0.4874223384718326,0.5114074976575886,0.782624297681141,0.7623291629855011,-0.10667160443690078,-0.6694003391796448,0.09074470578432449,0.6774585997128245,-0.9147869677723821,0.9339153017759113,0.45974715479595996,0.6848386486930573,1.2549474324160341,0.8970150568747477,0.8564247874834681,-1.401870200467741,-1.1804687310607598,0.7254289180843375,0.8176795303372464,-0.6583302657092953,-2.7597992128305595,1.7936910079730217,-0.7026105595906917,0.2420357098790948,-0.5107292861046412,0.6663885262424756,0.009564167001764587,0.31399118743636384,0.25495079559450234,0.723583905839279,1.2420323467006271,-0.08822148198631902,1.116571514036671,0.0317043139424625,0.5833629752148576,-0.18785214321946017,1.2531024201709762,-0.8908018085866262,-1.3336047474005883,0.5981230731753232,-0.35205823302963807,2.1257932120834937,-0.8502115391953459,-0.9922774820648256,-0.20445725342498386,-2.003344192356707,-1.3741950167918684,-0.505194249369467,0.02616927720728829,-0.422168698341849,0.018789228227055473,1.094431367095973,0.0483094241479862,-0.7358207800017391,0.3841016527485748,-0.9461521759383714,0.8656498487087589,1.336127971198594,1.5685995140759244,0.389636689483749,1.2088221262895797,-0.7136806330610407,1.3951683630404557,-1.005192567780233,0.020634240472113548,1.2770875793567322,-0.025491065654340884,-1.0568529106418618,-1.2598042575982613,-1.4074052372029155,-0.757960926942437,-0.6122049595828409,0.4948023874520654,-0.8760417106261605,1.7549457508268007,0.10734981598984819,-0.00519593095870104,1.9689671712535486,1.6331749426529605,-0.7745660371479608,-0.8225363555194732,1.0095608038232964,-0.0808414330060862,-0.6878504616302267,-0.8686616616459277,-1.5070358984360572,1.61287980795732,0.38225664050351615,0.3490464200924693,0.01509920373693933,-1.7192123066177476,1.1331766242421946,0.5206325588828795,0.8287496038075954,-0.2690326820020201,0.950520411981435,-1.3317597351555304,0.10181477925467344,1.1922170160840562,0.7494140772700936,0.36934155478810915,-1.2911694657642503,0.14240504864595313,-0.13619180035783152,-0.3594382820098709,-2.368656616878226,0.8896350078945149,0.44867708132561096,1.1479367222026597,-1.8705033107125182,0.15347512211630263,-0.9664473106340112,-0.4848991146738271,0.1221099139503133,0.8232145670724207,0.4505220935706691,0.5870529997049743,0.7364989915546866,0.20144544048781513,-0.5863747881520269,0.9302252772857952,-1.4147852861831482,-0.014420992183991926,-0.5716146901915612,-0.2837927799624857,0.32690627315177084,-1.0070375800252909,-1.1823137433058177,-0.7284407310215063,2.6128764447788533,-1.1269633759540725,0.25679580783956046,-1.3446748208709376,-0.8262263800095899,-0.4295487473220818,0.9523654242264931,0.024324264962230214,1.0132508283134132,0.09258971802938257,-0.9295470657328477,2.830587889695717,-1.2745643555587267,-1.1103582657485491,-0.6122049595828409,0.5870529997049743,-0.37604339221539457,0.1221099139503133,-0.5660796534563866,0.26233084457473466,1.0390809997442276,0.638713342566603,-0.0033509187136424434,0.44129703234537815,-0.3575932697648128,1.334282958953536,-0.021801041164224214,-0.8206913432744152,1.880406583490756,-0.5697696779465031,-2.224745661763688,1.1128814895465549,-0.24320251057120548,-0.6048249106026087,0.03723935067763725,-1.4147852861831482,0.1553201343613607,0.07598460782385887,0.9486753997363769,0.0483094241479862,-1.1103582657485491,-1.1564835718750035,0.41731187315962165,1.6995953834750555,2.7125071060119943,1.1866819793488819,1.1368666487323107,-0.8003962085787754,0.6257982568511959,0.3158361996814219,-0.8317614167447641,-1.7690276372343183,0.04277438741281199,-0.4701390167133615,-1.1158933024837234,-0.2505825595514383,-2.156480208696536,-0.20630226567004195,1.5298542569297022,-1.569766314768035,0.7733992364558501,0.19037536701746616,-0.13250177586771486,0.3490464200924693,-0.590064812642143,2.295534338628846,0.9431403630012022,-0.12512172688748255,0.03723935067763725,1.6073447712221465,-0.16755700852382033,2.1571584202494827,-2.0439344617479867,1.0021807548430641,1.0464610487244599,1.201442077309347,-1.0162626412505817,0.9320702895308532,0.41177683642444746,0.6368683303215449,0.5722929017445086,-1.3631249433215193,-0.7542709024523209,1.0132508283134132,-0.6214300208081318,-1.518105971906406,1.4818839385581903,1.1147265017916128,0.7770892609459662,0.24757074661426956,-0.11589666566219167,-0.4793640779386524,-2.2136755882933388,1.5649094895858082,-0.9516872126735456,-0.5623896289662703,0.3582714813177602,-1.4996558494558243,-0.5826847636619102,-1.3483648453610537,-2.003344192356707,0.6479384037918938,-0.5236443718200487,1.0021807548430641,0.542772705823578,0.22912062416368778,-1.1048232290133746,0.5870529997049743,-1.2026088780014579,-0.4701390167133615,0.6497834160369519,0.9560554487166097,-2.55684786587416,2.415460134557627,0.6848386486930573,0.5612228282741597,1.0150958405584711,-1.4092502494479737,1.8508863875698256,-0.7874811228633678,0.8305946160526535,-0.3483682085395219,-1.069767996357269,0.8970150568747477,-1.6564818902857694,-1.8317580535662963,-0.9922774820648256,-0.35205823302963807,-0.1767820697491112,-0.686005449385168,-0.6140499718278996,0.9652805099419006,0.7604841507404425,-0.9461521759383714,-0.9092519310372079,0.555687791538985,0.6682335384875336,-0.5310244208002816,-0.3317630983339982,1.035390975254111,0.5058724609224143,-0.4037185758912672,-0.07161637178079532,1.5722895385660405,1.8970116936962802,0.2641758568197933,1.609189783467204,-1.1324984126892472,-0.04947622484009687,1.1516267466927763,0.18484033028229144,-1.0402478004363385,-0.37604339221539457,-1.4646006167997192,0.806609456866897,2.511400771300653,0.19037536701746616,-0.4443088452825469,-0.4664489922232454,-0.01257597993893333,-0.5568545922310956,-1.5642312780328604,0.7992294078866646,1.2992277262974306,-1.7026071964122238,0.8361296527878282,1.5077141099890043,0.31399118743636384,-0.2247523881206237,-1.2893244535191923,1.7918459957279642,0.13502499966572085,-0.9701373351241275,-0.1860071309744021,0.7309639548195118,1.1479367222026597,1.874871546755582,1.874871546755582,-0.769031000412786,-0.5716146901915612,0.2678658813099094,-0.8963368453218004,0.10734981598984819,-1.1140482902386655,2.6387066162096673,0.6774585997128245,1.9265318896172103,-0.9885874575747092,0.3711865670331672,0.6128831711357884,0.07598460782385887,-0.2930178411877766,0.02616927720728829,1.6848352855145898,-0.019956028919166143,1.2051321017994636,0.5612228282741597,0.6184182078709631,-0.6398801432587136,-0.8133112942941824,-2.0623845841985684,0.8287496038075954,-0.4793640779386524,-0.09375651872149324,-0.47382904120347763,-0.06977135953573724,-0.435083784057256,-0.4627589677331287,0.557532803784043,0.6018130976654393,-0.5070392616145251,-0.34283317180434714,2.8564180611265324,0.17377025681194247,0.2420357098790948,0.6977537344084649,-0.18785214321946017,0.6866836609381154,1.2346522977203944,-0.4295487473220818,-0.6103599473377829,-0.21552732689533283,1.3545780936491758,0.41177683642444746,-1.569766314768035,0.20144544048781513,1.1756119058785324,-0.056856273820329685,-0.025491065654340884,0.40439678744421464,-0.09191150647643516,0.47635226500148364,-0.6694003391796448,-2.8335997026328865,-0.4664489922232454,2.635016591719551,0.6663885262424756,0.5409276935785199,1.2125121507796959,-1.495965824965708,0.7069787956337558,0.007719154756706515,-0.7210606820412735,0.17561526905700053,-0.435083784057256,0.3638065180529344,-0.4129436371165581,-0.4627589677331287,-0.24135749832614742,0.08520966904914976,-2.6638585760875344,-0.0015059064685843712,0.6866836609381154,-0.5144193105947579,-0.10851661668195886,-1.3446748208709376,-1.4055602249578574,-0.994122494309884,0.365651530297993,0.7881593344163151,-0.4074086003813834,-0.3594382820098709,-1.7708726494793765,-0.8391414657249969,-0.05316624933021354,-0.08637646974126043,0.771554224210792,-0.7081455963258665,-0.24135749832614742,0.6719235629776503,0.03908436292269532,-1.3483648453610537,-0.9461521759383714,-0.014420992183991926,-0.5273343963101649,-0.21183730240521667,0.06122450986339376,0.26233084457473466,0.32690627315177084,-1.9074035556136817,0.05199944863810287,0.18115030579217528,-0.3575932697648128,0.7604841507404425,0.5962780609302651,0.9265352527956785,0.7604841507404425,-1.6952271474319913,1.6018097344869717,-0.7081455963258665,0.3951717262189237,-1.525486020886639,-0.13803681260288958,0.7733992364558501,1.1848369671038232,0.5722929017445086,1.9357569508425012,-0.1804720942392279,0.880409946669224,0.8195245425823044,-0.1860071309744021,-1.1324984126892472,0.4228469098947964,-0.4387738085473727,1.2346522977203944,0.19037536701746616,-0.21552732689533283,-0.6694003391796448,-1.7930127964200746,-0.256117596286613,-0.25427258404155495,-0.06239131055550443,-1.1029782167683162,-1.4682906412898353,1.1128814895465549,-0.2764127309822529,0.7641741752305592,-0.9350821024680219,0.2641758568197933,-0.20076722893486773,-1.1730886820805269,1.71435548143552,0.5630678405192178,0.8029194323767808,-0.733975767756681,-0.7874811228633678,-0.4553789187528959,0.2457257343692115,-1.403715212712799,-0.590064812642143,-0.019956028919166143,-0.5734597024366194,-0.5697696779465031,-1.5125709351712315,0.11288485272502241,-0.7727210249029026,1.7420306651113926,-0.9996575310450584,-0.01257597993893333,0.6534734405270686,-0.30408791465812557,-1.1804687310607598,-0.7819460861281936,-0.8631266249107534,0.06860455884362605,-0.16571199627876226,-0.4701390167133615,-2.3003911638110734,0.0981247547645573,1.9117717916567458,-2.049469498483161,-0.8871117840965095,-0.3225380371087073,-0.5771497269267359,-0.08822148198631902,0.2770909425352003,-0.5439395065156886,0.9671255221869587,1.6516250651035422,0.3545814568276435,2.107343089632912,-0.06792634729067865,-0.18416211872934402,0.8435097017680605,-0.9184769922624988,-1.5420911310921623,-0.16386698403370417,0.2198955629383969,-1.922163653574147,-0.9350821024680219,-0.6970755228555175,1.6460900283683675,1.3988583875305722,1.105501440566322,-0.3963385269110344,0.05199944863810287,-1.6232716698747223,-0.13065676362265677,-0.09191150647643516,-0.40925361262644144,0.23096563640874584,-0.3465231962944638,0.8840999711593407,0.22358558742851303,0.8398196772779444,0.306611138456131,0.9560554487166097,0.5483077425587521,0.771554224210792,-0.7358207800017391,0.0815196445590336,0.4394520201003201,0.10919482823490627,1.1313316119971366,1.7826209345026733,0.004029130266589846,-1.800392845400307,1.275242567111674,-0.4129436371165581,-0.48858913916394325,0.7254289180843375,0.3398213588671784,-0.23951248608108935,0.8471997262581772,0.5686028772543925,0.963435497696842,0.18484033028229144,-2.005189204601765,-0.8797317351162767,1.3121428120128376,1.8785615712456984,-0.925857041242731,1.0796712691355075,0.5833629752148576,-0.1860071309744021,-0.04394118810492266,-0.0900664942313771,-0.5384044697805138,-0.40002855140115057,-1.1343434249343054,-0.6454151799938883,0.07967463231397554,0.22543059967357112,-0.4775190656935943,-0.15279691056335523,1.118416526281729,-1.765337612744202,1.6626951385738917,-0.7985511963337173,1.6553150895936586,0.7401890160448027,1.0464610487244599,1.5021790732538296,1.2973827140523726,1.647935040613426,-0.7265957187764482,0.26233084457473466,0.8342846405427696,0.210670501713106,0.9708155466770748,-1.639876780080246,-0.4904341514090013,1.1387116609773689,0.3841016527485748,-1.518105971906406,0.8269045915625373,1.6165698324474373,0.6645435139974175,1.0999664038311472,-2.150945171961361,0.5796729507247415,2.4671204774192566,-0.8760417106261605,1.2180471875148706,-0.8372964534799389,-0.6454151799938883,-0.5439395065156886,1.6829902732695312,1.4117734732459792,-0.45906894324301256,-0.2598076207767292,-0.20630226567004195,0.2198955629383969,-0.3834234411956274,0.2955410649857821,1.5667545018308657,1.7291155793959856,-0.36866334323516176,-0.6251200452982485,1.2549474324160341,1.1110364773014962,-1.2837894167840176,1.1147265017916128,0.33797634662212034,-1.1823137433058177,0.32690627315177084,0.2512607711043857,1.5427693426451103,0.3232162486616547,0.4062417996892727,-0.112206641172075,-1.4406154576139627,0.9781955956573076,-0.09191150647643516,0.03539433843257917,0.02247925271717162,-0.6029798983575501,0.8914800201395735,-0.35390324527469613,-0.07899642076102813,-1.154638559629945,-0.5033492371244089,-0.21552732689533283,1.539079318154993,-0.6952305106104589,-0.22106236363050757,-0.5955998493773178,-0.6343451065235394,-0.817001318784299,-1.0107276045154074,-0.10113656770172605,1.5815145997913314,-0.6675553269345863,-1.2265940371872142,0.5852079874599156,-0.3981835391560925,0.050154436393044274,-0.7026105595906917,-1.3133096127049486,1.2494123956808594,-0.23213243710085651,-1.9978091556215323,-0.2837927799624857,-0.4627589677331287,0.9542104364715511,0.4320719711200873,-0.04209617585986458,-0.8557465759305206,1.1793019303686492,-0.20630226567004195,-1.2524242086180288,0.49295737520700683,-0.42032368609679094,0.7660191874756173,-0.25427258404155495,-0.4553789187528959,-0.9978125188000001,-1.0088825922703493,-0.00519593095870104,1.2254272364951035,0.4874223384718326,0.13502499966572085,0.23281064865380394,1.129486599752078,1.3951683630404557,0.07598460782385887,-0.44799886977266357,0.44129703234537815,1.8379713018544186,0.19037536701746616,0.3508914323375274,-0.3834234411956274,-0.769031000412786,-0.7413558167369133,-0.03840615136974792,-1.1786237188157016,-2.3612765678979932,-0.8815767473613352,-1.3465198331159958,1.2494123956808594,-0.38157842895056876,1.0999664038311472,-0.06792634729067865,0.25495079559450234,-0.769031000412786,1.5538394161154587,1.3379729834436522,-0.30224290241306745,2.6792968856009467,0.4394520201003201,-0.07530639627091146,1.596274697751797,-1.859433237242169,0.8564247874834681,0.688528673183174,-2.241350771969212,-0.11589666566219167,1.0575311221948094,1.0667561834201003,-0.38526845344068544,2.14977837126925,-0.40925361262644144,-0.6472601922389464,-1.879728371937809,-1.829913041321238,0.19960042824275706,0.5519977670488688,0.5409276935785199,-1.215523963716865,0.4265369343849125,-0.817001318784299,1.7973810324631379,1.9911073181942465,-1.5125709351712315,-0.23951248608108935,-1.4277003718985557,-0.6085149350927248,1.3158328365029544,-0.29670786567789276,-0.3409881595592891,-1.8059278821354818,-0.9387721269581386,0.07967463231397554,0.013254191491880733,-0.5845297759069683,-1.2653392943334358,-2.237660747479095,0.6128831711357884,0.6368683303215449,-1.1878487800409925,-0.42585872283196513,-0.9479971881834295,0.8933250323846316,-2.483047376071833,-0.1546419228084133,0.474507252756425,0.9837306323924824,-0.4793640779386524,0.43391698336514534,-1.72659235559798,-0.6048249106026087,-0.49227916365405944,0.688528673183174,-0.12327671464242397,1.548304379380284,1.7032854079651716,0.3711865670331672,0.4505220935706691,-1.8668132862224016,-1.0015025432901166,0.7678641997206753,-0.7468908534720881,-0.363128306499987,1.103656428321264,-1.2210590004520396,0.2420357098790948,-1.5347110821119299,1.8619564610401742,1.2143571630247545,-0.5162643228398159,0.1940653915075823,-1.193383816776167,-1.2118339392267488,0.8840999711593407,0.8213695548273626,-0.47198402895841957,0.2032904527328732,-0.40925361262644144,1.1221065507718457,0.5981230731753232,-1.213678951471807,-0.08822148198631902,-0.33360811057905626,0.9449853752462603,0.9800406079023657,2.337969620265184,1.0575311221948094,-0.4793640779386524,-0.36866334323516176,-0.47567405344853625,0.9708155466770748,0.4136218486695055,0.1368700119107789,0.3158361996814219,0.9708155466770748,-0.24873754730638023,-0.7099906085709246,0.9560554487166097,-0.4553789187528959,1.1719218813884162,-0.44799886977266357,2.0224725263602363,2.1313282488186682,-0.9406171392031967,1.0796712691355075,1.0870513181157402,-0.7081455963258665,-0.3944935146659763,-1.320689661685181,0.44867708132561096,1.8545764120599417,-0.7819460861281936,-1.7690276372343183,0.26602086906485134,-0.17862708199416927,0.6331783058314288],\"y\":[-0.058618850397207885,-0.09591619935677599,-1.5544388455125142,-2.7185087367242944,-1.0224608682470966,0.3968014105827801,2.9075019010715946,-1.9097451698115568,0.424283667710883,-0.7260450949368458,-1.8744108392182817,0.9268163694819044,2.0967753157925637,1.5805014854574906,0.34968896979174674,0.24368597801192235,-0.802602811222275,0.771737918544753,-0.5984489011277974,-2.5025767164320585,0.879703928690871,1.5059067875383554,-0.18228900747367044,-0.8811235458739971,1.1348963163089678,-1.2501709987370913,0.021864902620807165,-3.3211553751762617,1.021041251063971,-0.10573129118824126,0.3320218044951097,0.45765497993786464,-0.25099465029392726,1.4018668141248234,-0.6593024704828819,0.06897734341184054,1.6060207242193005,-0.6887477459772777,0.4988783656300192,0.24761201474450822,-1.2913943844292453,0.33005878612881623,1.3626064467989625,0.21031466578494012,1.3174570243742219,0.37913424528614253,0.9601876817088866,-0.40018404613219916,-2.455464275641025,-0.45122252365581844,-0.5984489011277974,-0.43551837672547433,-0.24706861356134083,-0.7358601867683111,-0.6063009745929697,0.24368597801192235,0.11805280256916686,0.3241697310299374,-0.6141530480581421,-0.5866707909300392,-0.23921654009616908,-1.0106827580493385,0.5165455309266562,0.4498029064726929,-0.38055386246926864,-2.4201299450477505,-0.8870126009728765,2.024143636239721,0.08664450870847813,-1.2619491089348494,1.1643415918033637,0.958224663342593,-0.8909386377054623,0.15927618826132087,-1.511252441454067,0.9268163694819044,-0.1076943095545342,-0.5375953317727129,-0.4315923399928879,-0.1921040993051357,-2.3435722287623215,0.13571996786580445,0.17694335355795843,1.0171152143313846,-1.5976252495709613,-0.5238542032086617,-0.2588467237590996,-0.7044518929076223,-1.030312941712269,2.2930771524218687,0.4498029064726929,-0.1862150442062563,0.11020072910399453,1.0701167102212974,-0.9439401335953745,0.383060282018729,-0.8418631785481361,0.528323641124415,-1.150057062056145,-0.33147840331194234,-1.336543806853985,-1.77037086580475,0.569547026816569,-0.8418631785481361,-1.055832180474079,-0.13125052995005118,-0.7594164071638281,0.33987387796028146,0.5891772104794996,0.015975847521927784,0.04345810465003063,-0.5317062766738335,0.3359478412276956,0.19068448212200959,-1.4445098170001032,-0.9498291886942539,1.4921656589743033,0.3928753738501942,-0.09591619935677599,-0.09591619935677599,-0.44925950528952546,-0.7908247010245167,0.3123916208321792,-0.7515643336986557,0.4125055575131248,0.944483534778542,-1.067610290671837,1.8003595424823133,0.530286659490708,0.9150382592841462,-0.33344142167823526,-0.5532994787030575,0.8070722491380282,0.8051092307717354,-1.2756902374989005,-1.0165718131482178,0.2633161616748529,-0.7280081133031387,0.84044356136501,-0.13910260341522293,0.4537289432052788,-1.0008676662178733,-0.616116066424435,-0.19603013603772157,-0.12339845648487885,1.8042855792148993,0.277057290238904,-1.2109106314112301,0.732477551218892,1.0583386000235393,0.8757778919582851,1.3370872080371525,-2.671396295933261,-0.7299711316694323,-0.25492068702651316,-0.39036895430073393,-2.153159447231895,-0.10376827282194832,0.05523621484778884,-0.6632285072154683,-0.45907459712099075,-0.35699764207375223,-0.013469427972468008,-0.45907459712099075,0.3948383922164872,2.5090091727141046,-0.32166331148047705,-0.427666303260302,1.1211551877449166,0.18479542702313076,-0.26866181559056485,-0.9517922070605469,0.9091492041852668,0.9268163694819044,0.8659628001268198,-1.7154063515485445,0.544027788054759,-0.427666303260302,-0.27455087068944367,0.4674700717693299,1.3096049509090502,-1.7723338841710432,-0.9380510784964957,-0.5081500562783171,0.8208133777020794,-0.6318202133547796,0.8698888368594058,-0.2117342829680662,0.3948383922164872,-1.3934713394764837,1.7846553955519686,0.3261327493962303,0.3909123554839013,0.7835160287425118,-1.6015512863035475,0.008123774056756019,-0.6239681398896073,-2.2002718880229284,-1.3012094762607105,-0.3530716053411658,-0.46103761548728367,1.3233460794731013,-0.6651915255817613,-1.9274123351081942,-0.9949786111189943,-1.6192184516001848,-0.5572255154356434,0.6382526696368258,1.4254230345203398,-0.551336460336764,0.9719657919066448,0.6853651104278592,0.1749803351916655,-1.1245378232943357,0.21424070251752655,1.170230646902243,-0.1449916585141023,-0.5866707909300392,-0.49048289098167946,0.4812112003333816,-0.40018404613219916,0.6834020920615657,0.6676979451312216,-0.10965732792082715,0.14946109642985558,0.5008413839963122,0.36735613508838433,-0.7947507377571027,1.7277278629294694,-0.37073877063780336,-1.4209535966045865,0.1749803351916655,-1.3345807884876921,-1.3993603945753632,-0.1253614748511718,-1.3149506048247617,-0.40214706449849213,0.9287793878481972,-0.3157742563815977,0.359504061623212,-1.7664448290721637,1.808211615947485,1.0445974714594874,0.9641137184414724,1.3370872080371525,-0.19799315440401452,1.1388223530415538,0.3850233003850219,-0.08806412589160367,-0.6063009745929697,1.568723375259733,0.09842261890623633,2.0771451321296333,1.3743845569967201,1.1074140591808654,0.22601881271528476,-0.22743842989841032,1.1545264999718983,-0.4433704501906461,1.1093770775471579,0.9071861858189738,-0.8929016560717553,0.37520820855355663,0.689291147160445,0.32809576776252325,0.7894050838413906,2.2086673626712674,0.9484095715111278,-0.06450790549608727,1.2507143999202586,-0.9341250417639093,-1.214836668143816,1.3959777590259441,-0.46692667058616305,-0.02328451980393327,-0.46692667058616305,1.0897468938842279,-0.7594164071638281,-0.47674176241762833,-2.296459787971288,-0.4158881930625438,-1.5191045149192393,-0.8870126009728765,-0.7476382969660693,-1.8587066922879374,0.08468149034218463,0.6657349267649286,-0.45514856038840484,0.09253356380735694,-2.3769435409893034,0.528323641124415,0.21031466578494012,1.2624925101180162,2.1949262341072164,0.6264745594390676,0.26135314330855935,0.3163176575647651,1.2507143999202586,1.0406714347269017,0.6245115410727742,1.3233460794731013,0.4399878146412276,-1.6879240944204417,0.5793621186480342,0.2024625923197678,-1.6133293965013058,0.277057290238904,1.6845414588710226,-0.7790465908267585,-0.18425202583996336,-0.88308656424029,-1.0872404743347677,2.4010431625679867,0.917001277650439,0.3928753738501942,1.4450532181832705,1.3704585202641342,0.7481816981492366,0.8522216715627687,-0.4747787440513354,0.0944965821736499,0.10431167400511515,-2.100157951341983,-1.3679521007146744,0.5813251370143272,0.3634300983557984,-1.7585927556069918,-0.7299711316694323,0.8168873409694936,-0.7751205540941721,-1.7801859576362151,-0.30399614618383947,0.9994480490347476,-0.06647092386238021,-1.1618351722539038,-0.01739546470505389,-1.4994743312563086,1.6197618527833517,-0.7927877193908097,-0.10965732792082715,2.4854529523185884,1.256603455019137,-0.4747787440513354,1.6236878895159386,-1.179502337550541,-1.7075542780833721,0.3123916208321792,1.4313120896192193,1.1820087571000018,1.6138727976844733,-0.35896066044004515,-0.49244590934797244,0.06701432504554761,-1.5995882679372542,1.980957232181274,-0.4649636522198701,2.556121613505139,-0.9105688213683929,1.2821226937809467,0.40857952078053833,-0.24706861356134083,-0.08610110752531074,0.6991062389919104,-1.295320421161831,0.014012829155634843,0.901297130720095,1.443090199816977,0.8836299654234574,1.248751381553965,0.38698631875131484,-1.5701429924428585,0.3968014105827801,-0.09984223608936188,0.3889493371176078,-0.6396722868199514,-0.36877575227151044,-0.0036543361410027436,1.0701167102212974,-0.7024888745413294,0.9484095715111278,-1.258023072202263,2.257742821828594,-1.0577951988403718,-0.7653054622627069,-0.7437122602334834,-0.7064149112739153,-0.8300850683503779,1.0485235081920738,-0.5238542032086617,1.0936729306168145,0.610770412508723,-1.3463588986854504,1.8101746343137786,0.18479542702313076,0.5911402288457924,1.1820087571000018,-1.6839980576878557,-0.3942949910333198,-0.427666303260302,1.708097679266539,0.8639997817605269,0.4851372370659675,0.13768298623209738,-1.0774253825033024,-0.8929016560717553,-1.4621769822967405,0.7108843491896686,0.424283667710883,-0.01739546470505389,0.04934715974891001,1.5490931915968025,0.08664450870847813,0.2633161616748529,0.3025765290007139,-0.12928751158375767,2.0967753157925637,0.47728516360079515,-0.9144948581009787,-0.9007537295369276,-0.7653054622627069,0.5656209900839826,-0.9635703172583051,-0.6396722868199514,-0.35110858697487285,-0.8457892152807219,2.683717807314187,0.053273196481495894,0.36735613508838433,1.0328193612617294,-3.1052233548840262,1.5844275221900777,-1.0734993457707165,-0.34129349514340757,0.318280675931058,-0.6357462500873655,1.0406714347269017,0.9523356082437142,0.901297130720095,0.10234865563882221,-0.33933047677711464,1.1309702795763819,-0.08806412589160367,1.1506004632393125,-1.5799580842743237,2.0300326913386004,0.26135314330855935,0.9955220123021612,-1.2501709987370913,2.1517398300487693,1.252677418286551,-2.0039700513936234,1.119192169378623,-0.2235123931658244,-0.23921654009616908,-0.7810096091930515,1.2664185468506022,-0.06843394222867315,-0.45318554202211137,1.464683401846201,0.944483534778542,-0.0016913177747092446,0.5185085492929498,-0.40018404613219916,0.5754360819154478,2.6424944216220325,2.8839456806760784,-0.3373674584108217,-0.88308656424029,-0.1430286401478094,1.8199897261452438,-0.7005258561750365,0.06701432504554761,-2.7773992877130858,1.9534749750531706,-2.100157951341983,1.0544125632909527,-0.7554903704312416,-0.9419771152290816,-1.3679521007146744,-0.6377092684536584,0.01008679242304896,0.8954080756212156,-0.05665583203091494,-0.6789326541458124,1.278196657048361,0.23779692291304297,1.7453950282261077,0.9464465531448348,-0.9066427846358069,0.648067761468291,0.42232064934459,-0.0036543361410027436,-0.8987907111706347,-0.2333274849972897,-0.12732449321746472,-1.110796694730284,0.3968014105827801,0.5165455309266562,-0.29614407271866716,-0.7790465908267585,0.33987387796028146,0.5165455309266562,-0.5788187174648669,0.5813251370143272,1.7571731384238654,-2.1727896308948256,0.4753221452345022,-0.1253614748511718,-1.4307686884360518,-1.0362019968111484,-1.3031724946270034,-0.037025648367984415,0.19853655558718192,1.2703445835831892,0.3712821718209708,-0.44140743182435316,-1.428805670069759,-1.9450795004048318,0.20049957395347484,1.1152661326460374,0.08860752707477107,-1.9038561147126773,-0.09591619935677599,-1.915634224910436,-1.3542109721506226,-0.7044518929076223,0.732477551218892,-1.3797302109124325,-0.6612654888491754,0.544027788054759,-0.9851635192875291,-0.2294014482647038,-0.22547541153211736,-1.1009816028988189,0.9503725898774213,-1.6467007087282877,0.6991062389919104,-0.37662782573668274,2.4854529523185884,-0.9792744641886497,-0.26277276049168546,-0.009543391239881568,-1.3463588986854504,-0.1489176952466882,1.4941286773405966,-1.8626327290205233,-0.28240294415461603,-0.18817806257254927,-1.3993603945753632,-0.8104548846874473,-0.7162300031053805,-0.2156603197006521,-0.1449916585141023,0.6009553206772578,-0.09984223608936188,0.4537289432052788,-0.9400140968627887,0.32024369429735094,1.9122515893610172,-2.396573724652234,0.22209277598269833,-0.10180525445565539,0.36931915345467725,-0.5984489011277974,-0.11554638301970653,-0.7201560398379669,-0.13713958504893,0.730514532852599,-0.45907459712099075,-0.0036543361410027436,-0.5827447541974533,0.04345810465003063,1.808211615947485,-1.318876641557348,-1.336543806853985,-0.6004119194940903,-0.013469427972468008,-0.8909386377054623,-0.48263081751650716,0.7933311205739771,0.1612392066276138,-0.2215493747995315,1.5353520630327513,0.7894050838413906,-0.7240820765705529,0.8051092307717354,0.9798178653718171,-1.5976252495709613,-0.08610110752531074,1.3704585202641342,-0.29221803598608126,-0.27455087068944367,-0.7024888745413294,-1.5406977169484626,0.8188503593357864,0.7737009369110466,0.8424065797313034,-0.3785908441029757,1.382236630461893,0.5263606227581215,1.3154940060079285,0.36735613508838433,0.15338713316244149,0.84044356136501,-1.6172554332338918,0.4439138513738135,0.9778548470055236,-0.18228900747367044,0.12983091276692507,-0.6377092684536584,-0.031136593269105034,-0.7594164071638281,0.2868723820703693,0.33005878612881623,-0.32558934821306296,0.01008679242304896,-0.5886338092963321,1.2428623264550858,-0.11554638301970653,0.16516524336020025,-1.621181469966478,0.44783988810639935,1.0406714347269017,0.3614670799895055,0.771737918544753,1.352791354967497,-1.3934713394764837,1.1584525367044842,-1.2285777967078673,0.4026904656816595,0.03953206791744475,2.324485446282558,1.0445974714594874,0.3712821718209708,0.021864902620807165,-0.8654193989436524,-0.5552624970693505,0.8286654511672518,0.7776269736436324,-1.8371134902587138,-1.9117081881778497,1.4921656589743033,-0.6004119194940903,0.13964600459839033,-0.7201560398379669,0.045421123016323575,-2.433871073611802,-3.071852042657044,-0.9144948581009787,-1.5014373496226017,-1.3326177701213993,0.22209277598269833,0.3437999146928679,-0.5297432583075405,0.5832881553806202,-2.0942688962431038,0.3222067126636445,-1.6643678740249253,0.1612392066276138,0.4929893105311398,-0.7358601867683111,2.0516258933678233,0.4262466860771759,1.3763475753630134,-0.989089556020115,0.6794760553289798,-1.3934713394764837,-0.7397862235008975,-0.1862150442062563,-0.15676976871186052,1.2624925101180162,-2.895180389690669,1.435238126351805,0.6971432206256174,-0.3962580093996133,-0.08610110752531074,-0.6867847276109847,0.4439138513738135,-0.4944089277142659,-0.07628601569384547,-0.9360880601302027,-0.32755236657935644,-0.5709666439996945,1.331198152938273,-0.9046797662695135,0.8031462124054424,1.0053371041336265,-0.19603013603772157,-0.5061870379120241,0.6991062389919104,-1.279616274231487,0.8875560021560434,2.410858254399452,0.07486639851071937,-0.7810096091930515,-0.29025501761978834,0.04345810465003063,1.7650252118890382,1.0897468938842279,-1.1186487681954564,0.84044356136501,-0.22547541153211736,1.2644555284843098,0.7697749001784602,-3.0993342997851467,-0.8222329948852055,0.40857952078053833,-0.6004119194940903,0.18872146375571663,-0.8811235458739971,0.004197737324169579,0.18086939029054433,-1.2207257232426953,1.0053371041336265,0.3614670799895055,-0.07039696059496608,0.19853655558718192,-2.5418370837579194,-1.7821489760025084,-0.6671545439480542,-0.7280081133031387,-0.4433704501906461,2.2773730054915244,-1.5701429924428585,1.755210120057573,1.7198757894642978,-1.1539830987887316,1.5962056323878353,-1.662404855658632,0.3261327493962303,-1.4072124680405353,-0.616116066424435,0.381097263652436,-1.1402419702246798,-2.3474982654949077,-1.8508546188227653,-0.08610110752531074,-0.8909386377054623,-1.0833144376021817,0.5538428798862244,2.1360356831184246,0.1435720413309762,-1.318876641557348,0.4439138513738135,0.6578828532997564,-0.20977126460177328,-0.41392517469625034,0.8051092307717354,-1.179502337550541,0.12786789440063212,-0.19014108093884274,-1.0872404743347677,1.191823848931467,-0.88308656424029,0.4360617779086412,0.8227763960683729,-0.7829726275593445,1.6786524037721433,-0.28240294415461603,-1.662404855658632,-0.2568837053928061,2.35785675850954,-0.6789326541458124,0.04345810465003063,0.9366314613133696,-0.26866181559056485,0.9385944796796626,1.2134170509606899,0.4812112003333816,-0.7338971684020181,-0.36877575227151044,1.386162667194479,-1.3581370088832092,-0.7437122602334834,1.2958638223449979,0.2829463453377834,0.7697749001784602,-0.9930155927527009,0.4753221452345022,2.0791081504959266,0.9641137184414724,-1.0813514192358882,1.235010252989914,-1.6722199474900972,-0.25295766866022024,0.9719657919066448,-0.9773114458223567,-1.1539830987887316,0.6618088900323422,-0.9439401335953745,0.027753957719686546,0.6304005961716536,-0.698562837808743,0.5499168431536384,-0.6435983235525378,-0.6494873786514166,-1.110796694730284,2.298966207520748,-0.09591619935677599,0.06308828831296116,-0.6416353051862449,1.7473580465924001,-0.037025648367984415,-2.325905063465684,0.10038563727252928,-0.9419771152290816,0.8581107266616476,0.5872141921132066,-0.11554638301970653,-0.8929016560717553,-0.09199016262419012,1.2251951611584486,1.7826923771856753,0.9621507000751796,0.3045395473670069,0.6264745594390676,-0.5611515521682293,-1.1677242273527826,0.2652791800411458,0.15338713316244149,-0.6946368010761571,-1.695776167885614,0.21424070251752655,0.4026904656816595,0.027753957719686546,-0.33344142167823526,0.21227768415123305,0.8208133777020794,1.2978268407112914,0.5499168431536384,-0.6808956725121059,-0.42177724816142265,-0.41785121142883674,1.1034880224482797,-0.15676976871186052,-2.7832883428119652,-1.3051355129932964,-0.029173574902812093,-0.2333274849972897,-2.1708266125285327,-1.06957330903813,-0.989089556020115,-1.6035143046698404,0.06701432504554761,0.46550705340303694,-0.4433704501906461,0.6441417247357046,0.3477259514254538,0.17105429845907905,-0.9596442805257192,-0.4944089277142659,0.9248533511156114,0.4105425391468318,-0.4944089277142659,0.5165455309266562,0.07290338014442642,0.4066165024142454,0.9248533511156114,0.12983091276692507,0.44587686974010643,-0.30988520128271885,-0.037025648367984415,0.7638858450795813,-0.5886338092963321,-0.9989046478515803,-0.03506263000169148,0.44587686974010643,-0.09395318099048305,-0.6789326541458124,1.421496997787754,0.8561477082953546,-1.915634224910436,0.10038563727252928,0.9052231674526808,-0.4080361195973715,-2.351424302227494,1.1466744265067266,-0.8791605275077041,1.8141006710463645,1.3076419325427566,0.04345810465003063,-0.23921654009616908,0.7128473675559615,0.8973710939875086,0.585251173746913,-1.5230305516518254,0.4439138513738135,0.4674700717693299,-1.214836668143816,-1.1579091355213174,0.19853655558718192,-0.69659981944245,1.0995619857156926,-0.054692813664622,0.29079841880295515,0.4674700717693299,0.45765497993786464,-0.23529050336358262,-0.6121900296918491,0.25546408820968053,0.7795899920099254,-0.9341250417639093,-0.6907107643435711,-1.4150645415057073,-1.2109106314112301,-0.5415213685052988,0.13375694949951095,0.0944965821736499,0.21424070251752655,0.32809576776252325,-0.46692667058616305,0.12394185766804568,-0.8948646744380482,-0.41785121142883674,-1.134352915125801,0.84044356136501,-1.3856192660113114,1.7473580465924001,-0.6514503970177101,0.1082377107377016,0.25546408820968053,-0.38447989920185455,-0.6416353051862449,1.3900887039270646,-1.9274123351081942,-0.11750940138599947,-0.21762333806694503,0.754070753248116,-0.8516782703796013,-0.09199016262419012,-1.0244238866133901,-0.4315923399928879,-0.6887477459772777,0.8188503593357864,0.3261327493962303,0.5597319349851038,0.7678118818121672,0.4537289432052788,-2.8343268203355847,0.15731316989502792,1.009263140866213,-0.6769696357795195,0.6853651104278592,-1.3816932292787256,0.25939012494226643,0.2652791800411458,0.6382526696368258,1.1290072612100885,0.4007274473153666,0.09253356380735694,1.274270620315775,-0.09984223608936188,0.09842261890623633,-0.3962580093996133,0.799220175672856,0.9680397551740584,-0.6220051215233143,0.6951802022593244,0.5263606227581215,0.24957503311080118,0.4812112003333816,0.03756904955115181,-0.6298571949884861,0.7815530103762184,-0.3373674584108217,0.07486639851071937,1.1211551877449166,0.5832881553806202,0.506730439095191,-0.32362632984677,-0.6200421031570208,1.0740427469538834,0.15927618826132087,-0.5611515521682293,-0.09591619935677599,0.5832881553806202,1.0563755816572458,0.60880739414243,-0.20584522786918683,0.26724219840743874,0.60880739414243,-1.3954343578427766,-0.5984489011277974,-0.31184821964901177,0.012049810789341902,-0.30203312781754654,0.9307424062144908,0.7913681022076836,-1.2933574027955381,-0.7476382969660693,0.25546408820968053,-0.7123039663727947,1.0779687836864698,0.15731316989502792,1.7983965241160198,1.252677418286551,0.33791085959398853,-1.4641400006630338,0.012049810789341902,0.8561477082953546,1.521610934468699,1.356717391700083,1.2212691244258629,0.18086939029054433,-0.9105688213683929,0.2692052167737317,-1.4955482945237226,0.9994480490347476,0.6539568165671699,-0.011506409606174509,-1.2482079803707977,-0.24314257682875495,0.7913681022076836,0.21816673925011243,0.6402156880031188,1.3194200427405154,-0.7594164071638281,0.6775130369626868,0.39876442894907305,2.51882426454557,-0.49637194608055885,-1.2285777967078673,0.5813251370143272,-0.9282359866650305,1.2212691244258629,-0.31381123801530475,-0.28240294415461603,0.09057054544106401,-0.7672684806289998,-0.2568837053928061,1.0445974714594874,-0.47870478078392126,-0.6926737827098641,-2.3847956144544753,0.2829463453377834,1.460757365113615,0.19853655558718192,-0.5002979828131447,-0.054692813664622,0.4046534840479524,-1.2069845946786437,0.5381387329558802,-0.31773727474789115,-0.28436596252090895,0.6029183390435506,-1.0440540702763206,0.8698888368594058,0.5577689166188108,-1.46806603739562,-0.6377092684536584,0.27116823514002464,-0.8399001601818431,0.32024369429735094,0.3928753738501942,1.339050226403446,0.019901884254514224,-2.1629745390633603,-0.8006397928559821,-0.24706861356134083,-0.16658486054332577,0.1867584453894237,-0.7338971684020181,0.5989923023109648,1.2134170509606899,0.017938865888221283,0.318280675931058,0.4380247962749341,0.7874420654750978,0.07486639851071937,0.3968014105827801,-1.5014373496226017,0.6284375778053606,-2.618394800043349,0.730514532852599,0.9876699388369888,0.463544035036744,-0.41392517469625034,-0.10965732792082715,1.2153800693269834,-0.7476382969660693,-0.13125052995005118,0.5008413839963122,-0.23921654009616908,0.8149243226032006,-2.5398740653916265,1.4116819059562886,-1.5171414965529462,1.7434320098598142,1.1721936652685365,-0.7535273520649487,0.3968014105827801,-0.9282359866650305,-1.1009816028988189,-0.8713084540425318,0.5263606227581215,-1.4248796333371727,-0.08021205242643135,0.14160902296468328,1.3370872080371525,-0.7751205540941721,-0.1626588238107399,0.5381387329558802,0.36931915345467725,-0.05665583203091494,0.08468149034218463,-2.0039700513936234,0.4713961085019163,1.3626064467989625,0.6323636145379464,0.22994484944787064,-0.15676976871186052,0.6441417247357046,0.08075545360959875,1.8926214056980866,-0.1921040993051357,-0.3354044400445282,-1.150057062056145,-0.5591885338019363,0.3163176575647651,0.4144685758794177,-0.802602811222275,-0.10180525445565539,-0.5690036256334016,1.7493210649586937,-0.07432299732755253,1.439164163084391,0.8541846899290616,1.2036019591292246,0.6735870002301004,0.3771712269198496,0.6951802022593244,0.838480542998717,0.16712826172649317,-0.2706248339568578,0.17105429845907905,-0.22743842989841032,-1.0636842539392513,-0.5670406072671087,-0.5709666439996945,-0.7476382969660693,1.6649112752080921,0.4066165024142454,-0.26669879722427137,-0.9635703172583051,-1.6368856168968224,0.17694335355795843,2.5855668889995345,0.691254165526738,-1.5583648822451002,0.18479542702313076,-0.19603013603772157,-0.8575673254784807,1.2546404366528445,0.13964600459839033,0.3025765290007139,0.730514532852599,-1.546586772047342,0.3889493371176078,0.3045395473670069,0.12590487603433917,-0.7260450949368458,-1.2383928885393325,1.9848832689138598,1.2408993080887933,-0.36092367880633813,-0.8575673254784807,-2.320016008366805,0.012049810789341902,0.6225485227064812,-0.1332135483163441,-1.3267287150225198,-0.9478661703279609,-0.7319341500357252,-0.34325651350970054,-0.6671545439480542,-1.2069845946786437,0.46550705340303694,-0.47870478078392126,1.3096049509090502,1.8867323505992073,-0.6769696357795195,2.020217599507135,-0.9616072988920121,-0.26473577885797844,1.2094910142281041,-1.0342389784448554,1.916177626093603,0.041495086283737694,1.5137588610035273,-0.7319341500357252,0.38698631875131484,-0.6377092684536584,-0.6337832317210725,1.4568313283810292,-0.48066779915021424,-0.386442917568148,2.0692930586644613,0.4203576309782971,0.14749807806356266,-0.7908247010245167,-1.1186487681954564,1.1800457387337082,-0.005617354507295684,0.5558058982525172,-0.5238542032086617,0.862036763394234,-0.5532994787030575,-0.07039696059496608,0.21227768415123305,-1.322802678289934,0.6873281287941522,-0.6534134153840031,0.30061351063442043,-0.28240294415461603,-0.5788187174648669,0.504767420728898,-0.5434843868715923,-0.2863289808872019,-0.18817806257254927,0.173017316825372,-2.1217511533712066,-1.9411534636722456,-1.279616274231487,-0.6435983235525378,0.21816673925011243,0.11412676583658042,-0.39036895430073393,-0.6769696357795195,1.5274999895675783,-0.5572255154356434,0.38698631875131484,1.439164163084391,0.2809833269714899,-1.2462449620045049,-1.1932434661145925,0.918964296016732,0.7049952940907898,-0.4571115787546978,-1.3973973762090701,-1.7212954066474235,-1.6251075066990641,-0.05665583203091494,0.5165455309266562,-0.6416353051862449,-0.47870478078392126,-0.9007537295369276,-0.7103409480065017,-0.07235997896125959,-0.5984489011277974,0.9680397551740584,-0.9655333356245985,0.09253356380735694,-0.07432299732755253,0.1749803351916655,-1.6447376903619948,2.393191089102815,1.2153800693269834,-1.5721060108091518,1.8710282036688626,-1.1127597130965776,-0.05272979529832906,-0.6514503970177101,-0.9164578764672723,-0.031136593269105034,-0.5356323134064199,1.5706863936260254,-1.2855053293303658,0.08860752707477107,0.5989923023109648,2.9546143418626274,-0.3962580093996133,0.14946109642985558,0.6971432206256174,0.19657353722088897,0.6735870002301004,1.8356938730755874,-0.6377092684536584,1.1054510408145721,0.6362896512705329,1.7061346609002466,0.24957503311080118,-0.533669295040127,-0.7574533887975345,-0.6298571949884861,-0.16462184217703285,-1.1677242273527826,0.9464465531448348,0.012049810789341902,-0.6259311582559002,1.837656891441881,-0.03898866673427736,-0.6357462500873655,-1.6643678740249253,1.4313120896192193,0.023827920987100105,-1.1579091355213174,-0.7731575357278792,0.6971432206256174,2.3912280707365214,0.2888354004366622,-0.40999913796366444,-1.2030585579460578,-0.48263081751650716,0.7874420654750978,-0.5081500562783171,0.2731312535063181,-1.8567436739216443,0.714810385922255,0.29668747390183453,-1.809631233130611,-0.7417492418671905,-1.2128736497775232,0.9287793878481972,0.6146964492413088,-0.8320480867166707,-1.214836668143816,-0.8654193989436524,-0.34718255024228695,-0.7986767744896891,0.4301727228097624,0.7442556614166508,-1.511252441454067,-0.5552624970693505,-0.5022610011794377,1.378310593729307,-0.32166331148047705,1.5235739528349925,-0.6239681398896073,0.6166594676076024,0.4046534840479524,-0.6514503970177101,0.9621507000751796,0.5499168431536384,0.15535015152873496,1.4195339794214605,0.8051092307717354,-1.0852774559684746,-1.150057062056145,-0.885049582606583,-0.27455087068944367,0.36735613508838433,0.20049957395347484,-0.29221803598608126,0.3477259514254538,-0.09199016262419012,0.004197737324169579,0.17694335355795843,-0.6082639929592627,-0.7888616826582239,-1.6761459842226833,0.7854790471088048,0.7913681022076836,-0.18817806257254927,-1.5858471393732032,-0.7829726275593445,1.1427483897741406,0.983743902104403,0.26135314330855935,-1.81552028822949,0.8325914878998382,0.16320222499390674,-0.9773114458223567,-1.0224608682470966,1.4902026406080109,-1.7487776637755263,0.3163176575647651,-0.8104548846874473,0.6951802022593244,-0.5847077725637463,1.0995619857156926,2.0221806178734276,1.174156683634829,1.3802736120955994,1.9279557362913617,0.131793931133218,0.10431167400511515,0.8914820388886298,-1.2992464578944176,0.20835164741864717,1.1329332979426754,-0.6278941766221932,0.16712826172649317,1.148637444873019,-0.6396722868199514,-0.6200421031570208,0.9052231674526808,-1.4916222577911364,0.15535015152873496,1.1643415918033637,-0.5847077725637463,-1.5132154598203602,-0.5061870379120241,0.4812112003333816,1.195749885664053,0.6343266329042394,0.714810385922255,-0.8732714724088247,1.4293490712529258,1.0544125632909527,0.4066165024142454,-2.192419814557756,0.3889493371176078,0.9739288102729378,0.3850233003850219,0.10038563727252928,-0.8497152520133083,-0.6357462500873655,1.6786524037721433,0.8836299654234574,-0.8084918663211543,-0.6102270113255556,-1.1853913926494202,0.6382526696368258,0.4340987595423482,0.8051092307717354,0.5243976043918286,0.22012975761640538,0.12786789440063212,1.1545264999718983,0.44783988810639935,1.2251951611584486,-1.2678381640337282,0.14749807806356266,0.9209273143830256,-0.6435983235525378,-0.013469427972468008,0.544027788054759,1.2094910142281041,-0.7790465908267585,0.5989923023109648,-1.44254679863381,-0.08021205242643135,0.797257157306563,0.45961799830415817,0.7442556614166508,-0.7221190582042599,0.3241697310299374,0.3143546391984721,-1.1461310253235593,-0.17639995237479106,-0.6887477459772777,0.877740910324578,-1.2069845946786437,-0.9400140968627887,-0.47870478078392126,0.07682941687701286,-0.058618850397207885,-0.6534134153840031,1.3174570243742219,0.22994484944787064,1.4744984936776662,0.44783988810639935,1.0288933245291434,2.0182545811408414,-0.30203312781754654,-2.4044257981174058,-1.848891600456472,-0.48066779915021424,0.8659628001268198,0.44783988810639935,-0.49637194608055885,0.19461051885459602,-0.8006397928559821,-0.8065288479548609,-0.2038822095028939,-0.6435983235525378,1.0347823796280222,-0.6534134153840031,-1.1402419702246798,1.9888093056464458,1.6806154221384366,1.2624925101180162,1.378310593729307,1.3999037957585299,-0.7908247010245167,1.0171152143313846,1.4018668141248234,1.199675922396639,-0.26080974212539254,-0.9969416294852873,0.4713961085019163,1.4254230345203398,1.0269303061628499,0.36735613508838433,-1.5014373496226017,1.021041251063971,0.5989923023109648,-0.08217507079272485,-0.6867847276109847,0.6225485227064812,-0.5002979828131447,-1.0067567213167525,0.7069583124570826,0.5145825125603632,0.004197737324169579,0.6186224859738954,-0.4983349644468518,-1.8312244351598348,1.6177988344170593,-1.2855053293303658,-0.30399614618383947,1.062264636756125,-1.2442819436382118,-0.21369730133435916,-2.1943828329240493,1.091709912250521,0.21227768415123305,-1.5858471393732032,0.09645960053994339,-0.9459031519616681,-2.653729130636624,0.7246254777537202,-0.924309949932444,0.5872141921132066,0.33398482286140263,-0.6141530480581421,-1.1952064844808856,-1.7114803148159583,-0.03309961163539853,-1.336543806853985,-0.005617354507295684,-0.19014108093884274,0.047384141382617075,-1.4445098170001032,-0.9321620233976163,-0.05272979529832906,0.07486639851071937,-2.1570854839644813,1.464683401846201,-0.802602811222275,0.17105429845907905,0.27116823514002464,1.1015250040819862,-0.655376433750296,-1.7095172964496654,-0.8909386377054623,-0.23529050336358262,0.5243976043918286,-0.7417492418671905,-1.4602139639304477,0.0022347189578766375,-0.4865568542490936,0.09645960053994339,1.119192169378623,0.047384141382617075,0.22012975761640538,0.836517524632424,1.3429762631360318,-1.3149506048247617,-0.36092367880633813,0.4890632737985539,0.12983091276692507,0.07290338014442642,-1.5779950659080308,1.3233460794731013,-2.967812069243512,0.9660767368077654,0.8149243226032006,-0.01935848307134683,-0.23725352172987557,-0.5984489011277974,0.8993341123538015,-0.31970029311418413,0.24564899637821527,0.771737918544753,-1.0067567213167525,-0.0841380891590178,0.16712826172649317,-0.6259311582559002,-0.427666303260302,-1.134352915125801,1.0838578387853486,0.5891772104794996,0.504767420728898,0.5479538247873456,-1.25606005383597,-0.6514503970177101,-0.2882919992534954,0.20638862905235422,0.3222067126636445,-1.0185348315145109,1.2939008039787054,-0.8399001601818431,1.1329332979426754,1.9515119566868782,-1.3797302109124325,-0.12928751158375767,-0.11358336465341358,-0.7594164071638281,-0.43551837672547433,-0.2706248339568578,-0.7594164071638281,0.09253356380735694,0.08271847197589169,-1.2639121273011424,0.6441417247357046,0.19068448212200959,-0.29614407271866716,-0.2117342829680662,-0.12928751158375767,-0.2038822095028939,-0.5572255154356434,-1.026386904979683,1.174156683634829,-0.5434843868715923,0.9111122225515602,0.5872141921132066,-0.43551837672547433,-0.34325651350970054,-1.9804138309981065,-0.1332135483163441,-0.1253614748511718,-0.9557182437931333,0.15338713316244149,1.564797338527147,0.8954080756212156,1.5294630079338718,1.543204136497923,0.17105429845907905,1.751284083324987,0.5577689166188108,0.18086939029054433,-0.48066779915021424,-0.07235997896125959,1.2369732713562063,-0.1489176952466882,-0.6455613419188307,1.503943769172062,-0.1332135483163441,-0.3962580093996133,-0.6200421031570208,0.17694335355795843,-1.5642539373439794,0.2633161616748529,0.689291147160445,0.2652791800411458,-1.428805670069759,-0.42374026652771557,0.8247394144346658,1.3096049509090502,0.42820970444346884,1.3626064467989625,-1.4268426517034656,0.16712826172649317,0.7265884961200132,1.062264636756125,0.5989923023109648,-0.6239681398896073,0.9896329572032824,-0.4315923399928879,2.238112638165663,-1.6820350393215626,0.7874420654750978,1.8631761302036909,-1.2030585579460578,1.0858208571516414,-1.2678381640337282,-0.4747787440513354,-0.0036543361410027436,1.973105158716101,-2.0805277676790523,-0.2117342829680662,-0.36877575227151044,-0.46692667058616305,-0.9262729682987375,1.2840857121472402,0.23779692291304297,-0.2117342829680662,2.322522427916265,0.6814390736952728,0.6225485227064812,0.7422926430503572,-0.8536412887458943,-1.7095172964496654,-0.2333274849972897,1.4587943467473214,1.050486526558367,-0.6769696357795195,-0.12928751158375767,0.3123916208321792,0.017938865888221283,-0.3000701094512536,0.6382526696368258,-0.7810096091930515,1.443090199816977,0.2319078678141636,0.8090352675043212,-0.4649636522198701,-1.4405837802675172,0.17694335355795843,1.0838578387853486,-0.46888968895245603,-1.4523618904652753,-0.7437122602334834,-0.34129349514340757,0.3104286024658857,1.4882396222417174,-0.8399001601818431,-0.7751205540941721,-0.39233197266702685,0.1082377107377016,-1.843002545357593,0.7737009369110466,1.009263140866213,-0.1449916585141023,-0.4257032848940091,0.4792481819670887,0.4753221452345022,0.4105425391468318,1.7277278629294694,0.11412676583658042,0.6794760553289798,0.12983091276692507,-1.2501709987370913,0.3437999146928679,0.19264750048830254,-1.5348086618495835,-0.5964858827615045,-0.6416353051862449,1.2075279958618106,0.47728516360079515,-0.7260450949368458,2.045736838268945,-1.1166857498291634,-1.201095539579765,-0.40411008286478506,0.9052231674526808,1.1034880224482797,-1.507326404721481,1.256603455019137,-0.35699764207375223,2.7386823215703915,-0.9007537295369276,1.9259927179250682,1.305678914176463,1.0230042694302641,0.8463326164638894,0.9935589939358682,0.07290338014442642,-0.6259311582559002,-0.058618850397207885,0.506730439095191,0.21816673925011243,-0.6867847276109847,-0.42177724816142265,-2.180641704359998,-0.21762333806694503,0.19657353722088897,-1.014608794781925,1.2330472346236205,-0.1430286401478094,-1.5014373496226017,0.11020072910399453,0.8325914878998382,1.651170146644041,1.2919377856124121,-0.5317062766738335,2.328411483015144,-0.45907459712099075,1.013189177598799,0.22012975761640538,0.5891772104794996,-0.31184821964901177,1.8062485975811917,0.42820970444346884,-0.364849715538924,-1.509289423087774,-0.38447989920185455,1.8435459465407602,-1.58388412100691,-1.2246517599752813,0.6991062389919104,-1.5583648822451002,0.3968014105827801,-1.097055566166233,-0.19995617277030803,0.506730439095191,-0.5788187174648669,2.0221806178734276,1.6649112752080921,-0.5866707909300392,-0.2588467237590996,-0.4198142297951297,0.9307424062144908,-1.4248796333371727,0.9523356082437142,0.16909128009278612,-0.8045658295885679,-1.1245378232943357,-1.297283439528124,-0.22743842989841032,0.2319078678141636,0.4537289432052788,0.3143546391984721,0.9876699388369888,0.09057054544106401,-1.7821489760025084,-0.15284373197927464,-0.9360880601302027,-1.5681799740765656,-0.41392517469625034,-0.03506263000169148,-0.013469427972468008,-1.1049076396314053,0.4812112003333816,-0.5768556990985739,-0.09199016262419012,0.21816673925011243,0.1867584453894237,-0.44729648692323254,0.21816673925011243,-0.7044518929076223,-0.7594164071638281,-2.5752083959849017,-0.37270178900409634,-0.6475243602851237,0.650030779834584,-0.09395318099048305,-1.0342389784448554,0.059162251580375275,-0.31970029311418413,0.714810385922255,0.0650513066792541,1.036745397994315,0.4262466860771759,-0.18425202583996336,-0.5258172215749547,0.5538428798862244,1.2114540325943977,-0.8124179030537403,0.17890637192425138,-1.0852774559684746,0.09253356380735694,0.944483534778542,1.0190782326976782,-0.29221803598608126,2.224371509601612,0.1082377107377016,0.23779692291304297,-1.5681799740765656,-0.5984489011277974,-0.29221803598608126,-0.6494873786514166,-0.8889756193391694,-1.44254679863381,1.1682676285359495,0.714810385922255,-0.17836297074108398,-1.6584788189260458,-0.44140743182435316,0.7383666063177714,0.3653931167220914,-0.8006397928559821,0.7010692573582032,1.5000177324394761,0.041495086283737694,-0.9753484274560639,0.6284375778053606,-0.8065288479548609,-0.5218911848423682,2.0300326913386004,0.6559198349334634,0.8208133777020794,-0.08217507079272485,0.8639997817605269,0.9091492041852668,-2.6380249837062792,-0.26277276049168546,0.25546408820968053,1.0328193612617294,0.0944965821736499,1.2840857121472402,0.5950662655783784,0.7187364226548408,-1.6192184516001848,-1.3463588986854504,0.9700027735403518,0.7403296246840644,-0.69659981944245,-1.0499431253751994,0.05523621484778884,2.206704344304975,2.6562355501860835,-0.24314257682875495,1.1839717754662942,-0.20780824623547978,0.8698888368594058,-0.9184208948335651,-0.5964858827615045,1.5883535589226634,-1.2266147783415742,-0.9910525743864079,0.20049957395347484,-1.7173693699148374,1.2291211978910346,0.8561477082953546,0.3771712269198496,0.5008413839963122,1.7532471016912794,-0.06647092386238021,0.33398482286140263,-0.01935848307134683,-2.0569715472835357,0.6146964492413088,-0.8457892152807219,1.4254230345203398,0.7501447165155296,-1.0401280335437342,-0.029173574902812093,-0.7868986642919303,-1.1814653559168344,-0.6200421031570208,0.01008679242304896,-0.8987907111706347,-0.9360880601302027,-0.1253614748511718,0.585251173746913,0.6245115410727742,-0.5454474052378852,-0.7044518929076223,0.6539568165671699,-1.3267287150225198,-1.360100027249502,-0.34129349514340757,0.650030779834584,1.2821226937809467,1.0073001224999194,-0.3157742563815977,-1.7821489760025084,0.7403296246840644,-0.20780824623547978,0.2515380514770941,1.3488653182349113,-2.351424302227494,-0.5002979828131447,-0.10965732792082715,-0.1489176952466882,-0.885049582606583,-1.1265008416606286,1.8298048179767092,0.2319078678141636,-0.03898866673427736,-0.46692667058616305,0.0650513066792541,1.7179127710980042,-0.0016913177747092446,-0.924309949932444,1.6649112752080921,1.486276603875425,-0.6926737827098641,-0.037025648367984415,-1.0420910519100273,-0.7731575357278792,1.1074140591808654,-0.26866181559056485,-0.9282359866650305,-0.40214706449849213,0.7030322757244962,-0.08021205242643135,-0.058618850397207885,0.7246254777537202,0.03756904955115181,0.19264750048830254,0.18086939029054433,0.9287793878481972,-0.1332135483163441,1.1564895183381918,0.1435720413309762,0.8306284695335446,2.2557798034623016,0.5616949533513966,0.9601876817088866,-0.6239681398896073,-0.3059591645501324,-0.9262729682987375,-1.0028306845841661,-0.8713084540425318,-2.14334435540043,0.48317421869967453,0.5911402288457924,0.05523621484778884,0.22209277598269833,0.9111122225515602,0.650030779834584,-0.4649636522198701,-0.9282359866650305,-0.40214706449849213,-1.071536327404423,-0.5866707909300392,-1.177539319184248,0.8738148735919922,-0.7554903704312416,0.4988783656300192,1.3331611713045666,-0.9832005009212356,-0.5631145705345227,1.708097679266539,-0.8614933622110665,1.5490931915968025,1.833730854709295,0.12786789440063212,-0.9301990050313234,1.6943565507024878,1.2389362897224998,-1.3581370088832092,-0.3530716053411658,0.9876699388369888,1.305678914176463,-1.1480940436898521,-0.7554903704312416,-0.8752344907751177,0.019901884254514224,-0.8713084540425318,0.504767420728898,0.8129613042369076,1.1152661326460374,1.386162667194479,-0.4158881930625438,-0.007580372873588626,0.2279818310815777,-0.7299711316694323,-1.2619491089348494,-1.1186487681954564,0.650030779834584,-0.31773727474789115,0.20835164741864717,0.0944965821736499,0.2652791800411458,-0.7770835724604651,0.17890637192425138,-1.0793884008695953,0.5499168431536384,-0.8634563805773595,0.3968014105827801,-1.5328456434832907,-0.42962932162659495,0.6618088900323422,-0.9910525743864079,1.0269303061628499,1.2094910142281041,0.47728516360079515,0.6304005961716536,-0.6396722868199514,0.16320222499390674,-0.36877575227151044,1.036745397994315,1.360643428432669,1.6649112752080921,1.3292351345719806,-0.5984489011277974,0.4556919615715717,1.235010252989914,2.3343005381140234,-0.15873278707815347,3.0193939479502983,0.4026904656816595,0.15338713316244149,-0.7162300031053805,-0.9871265376538221,0.6814390736952728,-0.6926737827098641,-0.19799315440401452,1.2585664733854305,-2.066786639115001,-0.4433704501906461,0.5754360819154478,-0.24903163192763433,0.8424065797313034,-1.1049076396314053,0.5145825125603632,-0.9321620233976163,-0.40018404613219916,0.051310178115202956,-0.41392517469625034,0.612733430875016,0.24761201474450822,-0.616116066424435,-0.07628601569384547,-0.2038822095028939,-1.1677242273527826,0.7933311205739771,0.20835164741864717,0.3555780248906261,0.5145825125603632,-0.11162034628712064,0.2240557943489918,0.00616075569046252,0.059162251580375275,1.5863905405563699,-1.218762704876402,1.5530192283293882,-0.51011307464461,0.918964296016732,-0.655376433750296,-0.43551837672547433,-0.6082639929592627,2.2479277299971283,0.7638858450795813,-0.9478661703279609,-1.138278951858387,0.06701432504554761,-0.09199016262419012,-1.1657612089864897,1.3763475753630134,0.7010692573582032,-0.3962580093996133,0.20049957395347484,-0.2117342829680662,0.012049810789341902,0.11412676583658042,-1.3915083211101908,-0.35699764207375223,-0.5729296623659881,1.8749542404014485,1.625650907882231,1.2114540325943977,-1.2069845946786437,-0.07235997896125959,0.5813251370143272,-0.36092367880633813,-1.6035143046698404,2.2027783075723892,-0.13517656668263706,0.8090352675043212,-1.0322759600785618,-0.36092367880633813,-0.27455087068944367,1.087783875517935,0.7128473675559615,-0.05665583203091494,0.2947244555355416,0.7521077348818226,-0.8300850683503779,1.0740427469538834,-0.07235997896125959,-0.655376433750296,1.144711408140433,-0.3059591645501324,0.3065025657332998,1.1250812244775026,0.3634300983557984,2.1262205912869594,-0.33933047677711464,-0.6632285072154683,0.5754360819154478,-1.1677242273527826,0.4046534840479524,0.2652791800411458,-0.29418105435237424,-0.9694593723571845,-0.26669879722427137,-0.8752344907751177,0.9739288102729378,0.33398482286140263,-1.509289423087774,-0.9733854090897703,0.16909128009278612,-1.2226887416089884,0.6578828532997564,0.004197737324169579,-1.509289423087774,-0.6750066174132265,0.23779692291304297,-0.6632285072154683,1.4627203834799074,-0.7201560398379669,2.289151115689283,-0.6494873786514166,-0.07039696059496608,-0.51011307464461,-0.9930155927527009,0.4321357411760553,2.440303529893848,1.4509422732821498,0.13964600459839033,-0.5317062766738335,-2.0373413636206053,-1.108833676363991,-1.2855053293303658,0.7364035879514784,-0.04487772183315674,-0.5493734419704711,0.6637719083986352,-1.4857332026922572,0.8757778919582851,1.199675922396639,1.0818948204190557,-0.29418105435237424,-0.43944441345806023,-1.2639121273011424,0.24368597801192235,-2.184567741092584,-1.4327317068023449,-0.8654193989436524,-0.7633424438964139,-1.1952064844808856,-1.2246517599752813,-1.132389896759508,1.6629482568417997,0.4615810166704511,-0.009543391239881568,0.33005878612881623,3.2058806927481385,1.1034880224482797,-0.924309949932444,-0.22743842989841032,1.0524495449246598,0.22209277598269833,-0.9596442805257192,0.18872146375571663,0.3163176575647651,0.4851372370659675,-0.09787921772306894,-0.38840593593444095,-0.7456752785997763,0.6166594676076024,0.03953206791744475,1.3743845569967201,-0.5690036256334016,-1.0401280335437342,1.2173430876932758,-0.9164578764672723,1.6276139262485245,-0.4649636522198701,-0.26277276049168546,-0.29418105435237424,1.2683815652168957,2.2184824545027326,2.4422665482601413,-0.9871265376538221,-1.320839659923641,-0.02328451980393327,-0.4433704501906461,0.7128473675559615,0.6775130369626868,0.9641137184414724,1.0406714347269017,0.24368597801192235,0.2279818310815777,-0.6023749378603839,-0.5827447541974533,0.8502586531964752,0.2240557943489918,1.2389362897224998,0.2829463453377834,0.9130752409178532,-1.434694725168638,-1.9058191330789707,1.812137652680071,1.0936729306168145,0.46550705340303694,0.9052231674526808,0.22209277598269833,-1.6584788189260458,0.60880739414243,-0.41392517469625034,-1.362063045615795,-0.07432299732755253,0.9876699388369888,0.16320222499390674,-1.3385068252202785,0.07094036177813348,0.21227768415123305,-0.9439401335953745,1.759136156790159,-0.9321620233976163,-1.8960040412475054,-1.132389896759508,0.25939012494226643,1.066190673488711,-0.11750940138599947,-0.7005258561750365,-1.110796694730284,-0.09984223608936188,-0.26277276049168546,0.2927614371692487,0.0022347189578766375,0.2692052167737317,-1.403286431307949,0.4694330901356234,-1.0597582172066649,0.3241697310299374,-0.5297432583075405,-0.8713084540425318,-1.1206117865617493,0.019901884254514224,0.2750942718726111,-1.2619491089348494,0.2888354004366622,-0.09002714425789661,0.26135314330855935,0.131793931133218,0.17694335355795843,-1.110796694730284,-0.37073877063780336,0.3261327493962303,-0.47674176241762833,-1.4562879271978615,-0.06058186876350083,-0.23136446663099675,1.1839717754662942,-1.2344668518067465,0.9307424062144908,0.8129613042369076,2.063404003565582,-0.7790465908267585,1.4902026406080109,-1.848891600456472,0.5734730635491548,1.0975989673494002,1.166304610169657,0.2947244555355416,-1.5662169557102725,1.0033740857673334,-0.41392517469625034,-0.25295766866022024,-0.5415213685052988,-1.923486298375608,1.5117958426372338,-1.1618351722539038,0.7265884961200132,-0.6455613419188307,-0.7653054622627069,-1.324765696656227,0.7265884961200132,-1.097055566166233,-0.15284373197927464,-1.1461310253235593,-0.8909386377054623,0.942520516412249,-0.9282359866650305,-0.1508807136129817,0.13964600459839033,0.1867584453894237,0.6441417247357046,-0.24706861356134083,1.3488653182349113,-1.1480940436898521,-1.2658751456674353,-0.26473577885797844,0.023827920987100105,-1.9882659044632789,-0.30988520128271885,0.4262466860771759,-0.25295766866022024,0.9778548470055236,0.9523356082437142,1.2840857121472402,-0.7103409480065017,1.0328193612617294,-0.36877575227151044,1.464683401846201,0.7795899920099254,0.5381387329558802,0.08860752707477107,0.6304005961716536,-1.1029446212651122,1.0053371041336265,-3.9336171054596942,2.084997205594806,-1.362063045615795,0.16516524336020025,-0.48066779915021424,0.11805280256916686,-2.1669005757959465,1.1074140591808654,1.1623785734370713,0.8031462124054424,1.1623785734370713,1.6943565507024878,0.2986504922681275,-0.02328451980393327,-0.20977126460177328,0.504767420728898,-0.6063009745929697,-0.013469427972468008,0.18479542702313076,-1.2855053293303658,-0.7299711316694323,-0.49637194608055885,0.277057290238904,-0.7574533887975345,1.382236630461893,0.6146964492413088,-0.24903163192763433,-1.1637981906201968,-1.3483219170517438,0.359504061623212,-1.0126457764156314,0.2829463453377834,0.15731316989502792,1.4764615120439597,-0.6514503970177101,0.4733591268682093,-0.6514503970177101,1.5844275221900777,-0.9635703172583051,-1.6015512863035475,-0.4944089277142659,-1.2325038334404537,-0.5925598460289185,-0.17247391564220516,0.3025765290007139,1.0269303061628499,0.4851372370659675,-1.4307686884360518,-0.25295766866022024,0.48710025543226043,-0.9419771152290816,1.0583386000235393,-1.0499431253751994,1.0485235081920738,1.733616918028349,-0.2117342829680662,-0.29221803598608126,-1.1166857498291634,1.3645694651652547,0.6618088900323422,-1.1814653559168344,-0.8281220499840849,0.30846558409959274,-1.6800720209552695,0.15535015152873496,-0.015432446338760949,-2.363202412425252,-0.16069580544444695,1.6766893854058509,0.6284375778053606,0.14160902296468328,-0.6475243602851237,-1.9450795004048318,0.9700027735403518,-0.5807817358311598,0.41643159424571063,0.18283240865683725,0.8325914878998382,-1.1559461171550245,-0.06450790549608727,-0.015432446338760949,-0.8968276928043417,0.4851372370659675,0.4812112003333816,1.1388223530415538,-0.8497152520133083,0.15142411479614853,-0.24314257682875495,0.7030322757244962,0.047384141382617075,-0.13713958504893,0.6402156880031188,-0.058618850397207885,1.2507143999202586,0.3653931167220914,-0.6514503970177101,-0.2156603197006521,-0.26277276049168546,-0.39036895430073393,-1.6447376903619948,1.331198152938273,-0.5277802399412476,0.44587686974010643,-0.7829726275593445,0.27116823514002464,-1.3954343578427766,-0.24314257682875495,-0.9184208948335651,0.07094036177813348,2.766164578698495,-1.2894313660629522,2.2361496197993707,-1.8115942514969041,-0.5022610011794377,0.7206994410211338,1.0544125632909527,-1.1402419702246798,1.1093770775471579,0.4439138513738135,-0.9341250417639093,1.629576944614817,-0.48066779915021424,-0.5964858827615045,0.5420647696884662,-1.0362019968111484,1.4509422732821498,-0.8163439397863261,0.9542986266100072,-0.6808956725121059,-0.17639995237479106,-0.16658486054332577,0.14749807806356266,-0.19603013603772157,0.22601881271528476,0.5224345860255356,-0.37662782573668274,-0.5317062766738335,-0.0409516851005703,-0.3530716053411658,-0.14695467688039526,0.7913681022076836,-0.8889756193391694,-0.15873278707815347,0.4066165024142454,-0.02328451980393327,0.019901884254514224,-0.1253614748511718,-0.7849356459256374,1.0975989673494002,-1.218762704876402,0.0650513066792541,0.012049810789341902,-0.36092367880633813,-1.1579091355213174,0.5832881553806202,-0.2882919992534954,-1.776259920903629,-0.8693454356762389,0.5891772104794996,2.3657088319747115,-1.6898871127867348,-0.6435983235525378,-0.4944089277142659,0.7697749001784602,0.24957503311080118,-0.36877575227151044,-0.26080974212539254,-0.8281220499840849,0.14160902296468328,1.7768033220867958,1.5117958426372338,0.2692052167737317,1.5274999895675783,-0.8673824173099459,0.07094036177813348,-0.40999913796366444,0.06701432504554761,-0.2882919992534954,0.5832881553806202,1.712023715999126,1.4293490712529258,-0.5356323134064199,0.4910262921648469,-1.25606005383597,1.937770828122827,-1.6192184516001848,1.0171152143313846,-1.0224608682470966,0.8718518552256992,-0.32166331148047705,-1.3993603945753632,0.0650513066792541,-1.0597582172066649,-0.42177724816142265,-1.8999300779800916,-0.14695467688039526,0.5616949533513966,-0.8202699765189125,-0.8968276928043417,-0.8791605275077041,0.11608978420287391,-1.028349923345976,-1.3012094762607105,-0.44729648692323254,0.4537289432052788,-0.427666303260302,-0.48066779915021424,0.530286659490708,-2.2297171635173245,0.04934715974891001,1.6786524037721433,1.8494350016396397,0.4615810166704511,1.4823505671428379,1.4843135855091314,-1.2933574027955381,-1.542660735314756,0.29668747390183453,-0.1076943095545342,-0.7633424438964139,0.46550705340303694,0.5813251370143272,0.25939012494226643,2.5993080175635854,1.0445974714594874,-0.5631145705345227,1.5000177324394761,-0.11358336465341358,-0.1253614748511718,-0.7123039663727947,0.3241697310299374,0.5538428798862244,1.305678914176463,0.6853651104278592,1.5706863936260254,-0.551336460336764,0.7128473675559615,-1.3483219170517438,-1.5367716802158768,0.7049952940907898,-0.8143809214200332,0.318280675931058,0.799220175672856,1.5549822466956817,-0.7711945173615863,0.4890632737985539,1.625650907882231,-0.2588467237590996,-0.9184208948335651,-0.04487772183315674,0.4144685758794177,0.32024369429735094,-0.5591885338019363,1.2173430876932758,-0.0016913177747092446,0.13375694949951095,0.5754360819154478,0.8738148735919922,0.9641137184414724,0.14946109642985558,0.7521077348818226,-0.6475243602851237,0.3359478412276956,-1.067610290671837,-1.4503988720989824,0.4301727228097624,0.7422926430503572,-0.35110858697487285,0.059162251580375275,0.42820970444346884,-1.283542310964073,1.6825784405047302,-1.6820350393215626,0.4556919615715717,0.2927614371692487,0.1612392066276138,-0.5964858827615045,0.09253356380735694,-0.6789326541458124,0.7638858450795813,-1.0047937029504597,0.5479538247873456,0.2044256106860613,-0.03506263000169148,0.754070753248116,0.6598458716660492,-0.6808956725121059,0.4969153472637257,-2.1276402084700856,1.6276139262485245,-1.0990185845325258,-1.1127597130965776,0.6539568165671699,-1.6859610760541488,0.36735613508838433,-0.2333274849972897,1.9652530852509293,0.1867584453894237,-0.07824903406013842,1.278196657048361,0.9601876817088866,-1.6388486352631153,1.6570592017429202,-0.20977126460177328,0.29668747390183453,-0.9223469315661511,1.7355799363946425,1.2860487305135326,2.9683554704266797,0.5518798615199314,2.3048552626196277,-1.2383928885393325,0.2888354004366622,-0.7437122602334834,-0.7417492418671905,0.6068443757761371,-0.19995617277030803,0.9052231674526808,0.8973710939875086,-0.8477522336470155,-0.7064149112739153,0.5008413839963122,-0.1862150442062563,0.2535010698433876,0.10431167400511515,-0.2235123931658244,-0.32951538494564936,0.03560603118485831,-1.360100027249502,-0.6043379562266767,0.2829463453377834,-0.8281220499840849,0.06112526994666822,0.3536150065243332,0.12394185766804568,-0.8399001601818431,1.1054510408145721,-0.25492068702651316,-0.6023749378603839,0.21816673925011243,-0.42177724816142265,0.569547026816569,0.569547026816569,-0.4728157256850419,-2.2866446961398226,-0.8791605275077041,1.4234600161540463,0.6696609634975146,2.214556417770147,0.21424070251752655,-1.5603279006113933,0.03953206791744475,1.5235739528349925,0.5813251370143272,0.3163176575647651,-0.38840593593444095,0.40857952078053833,-0.11358336465341358,-1.2599860905685565,0.6166594676076024,-1.511252441454067,-0.5179651481097823,0.20638862905235422,-0.48459383588280064,1.1878978121988801,0.3732451901872637,-1.5760320475417378,-0.009543391239881568,1.2644555284843098,2.946762268397456,0.2829463453377834,0.173017316825372,1.2978268407112914,0.35754104325691904,-0.22743842989841032,-0.40607310123107854,-1.9077821514452635,0.48317421869967453,-0.40018404613219916,0.08075545360959875,1.1348963163089678,-0.027210556536519152,1.5490931915968025,-0.16069580544444695,-0.27847690742203013,0.8227763960683729,-0.5022610011794377,-1.3777671925461397,-0.29221803598608126,-0.07039696059496608,-0.054692813664622,1.1152661326460374,0.047384141382617075,1.3900887039270646,0.8816669470571645,1.4450532181832705,-0.39036895430073393,0.5499168431536384,-1.8115942514969041,-0.6612654888491754,0.6814390736952728,-0.25492068702651316,0.41643159424571063,1.021041251063971,1.0936729306168145,1.5373150813990437,-1.8606697106542305,-0.19799315440401452,2.540417466574794,-0.8202699765189125,-0.5631145705345227,-1.3149506048247617,-2.628209891874814,-0.18817806257254927,-0.8320480867166707,0.3163176575647651,0.836517524632424,0.9484095715111278,0.008123774056756019,0.00616075569046252,0.7187364226548408,1.3940147406596506,1.4941286773405966,1.1721936652685365,0.3653931167220914,0.14160902296468328,-1.919560261643022,0.48710025543226043,-1.6035143046698404,1.199675922396639,-0.9773114458223567,0.33987387796028146,1.4548683100147357,1.7768033220867958,-1.0499431253751994,-1.0617212355729577,-0.06058186876350083,-0.5277802399412476,0.5401017513221732,-1.4248796333371727,-0.12339845648487885,-0.7574533887975345,2.0535889117341166,-0.9498291886942539,-1.5995882679372542,0.6264745594390676,0.4144685758794177,0.47728516360079515,-1.3934713394764837,-0.20780824623547978,-0.8241960132514985,0.8090352675043212,0.6461047431019982,0.2750942718726111,0.16712826172649317,-0.06058186876350083,-0.2333274849972897,1.339050226403446,-0.4315923399928879,1.4372011447180986,-0.9027167479032205,0.051310178115202956,0.8267024328009588,-0.6102270113255556,-0.2038822095028939,0.27116823514002464,-0.48263081751650716,-0.037025648367984415,-1.2325038334404537,0.38698631875131484,1.1898608305651734,-0.657339452116589,-0.06254488712979432,0.8345545062661311,-1.1461310253235593,-1.1127597130965776,-0.04684074019944968,1.6865044772373161,0.3732451901872637,0.8168873409694936,0.059162251580375275,0.14946109642985558,1.7139867343654185,0.08271847197589169,0.2986504922681275,-0.16462184217703285,-0.07824903406013842,0.2162037208838195,1.1211551877449166,-1.5642539373439794,-1.053869162107786,0.17890637192425138,0.3928753738501942,0.651993798200877,-2.7401019387535177,0.9700027735403518,-0.22743842989841032,-1.7252214433800097,0.1082377107377016,-0.09199016262419012,-1.030312941712269,1.7061346609002466,-0.5984489011277974,0.6598458716660492,-0.2588467237590996,0.4674700717693299,0.4125055575131248,-0.32951538494564936,-0.9871265376538221,1.1466744265067266,0.9974850306684542,-0.1626588238107399,0.06897734341184054,-1.279616274231487,0.30846558409959274,0.5008413839963122,-1.6467007087282877,1.0956359489831067,-0.1449916585141023,-1.0185348315145109,-0.6416353051862449,1.647244109911455,0.610770412508723,0.2888354004366622,0.2986504922681275,-1.0479801070089065,-0.8163439397863261,-1.0577951988403718,-2.017711179957675,0.8875560021560434,0.7874420654750978,-0.6004119194940903,0.1200158209354598,-1.729147480112596,0.424283667710883,0.3104286024658857,0.26135314330855935,-0.8124179030537403,0.9660767368077654,-0.20977126460177328,-0.21958635643323854,-0.26080974212539254,-1.6074403414024265,1.0936729306168145,0.2809833269714899,-0.7417492418671905,-0.6298571949884861,0.84044356136501,-0.11554638301970653,-0.38447989920185455,1.4725354753113726,-1.1009816028988189,0.3732451901872637,-2.1335292635689647,-1.0401280335437342,0.8934450572549227,0.24761201474450822,0.4674700717693299,0.3555780248906261,-1.0872404743347677,0.17890637192425138,0.4066165024142454,0.11020072910399453,-0.5434843868715923,0.3771712269198496,-0.8359741234492567,0.2162037208838195,0.7442556614166508,0.7795899920099254,0.2515380514770941,-1.1814653559168344,-2.989405271272736,0.30061351063442043,-0.7574533887975345,-0.15676976871186052,0.24172295964562884,-0.2706248339568578,0.22209277598269833,1.7650252118890382,-0.02328451980393327,-1.6054773230361337,-0.6220051215233143,-1.5917361944720823,1.1800457387337082,2.662124605284963,-0.4433704501906461,1.2094910142281041,0.1455350596972697,0.9562616449763002,-0.7083779296402082,-1.134352915125801,1.4921656589743033,-0.6789326541458124,-2.7558060856838624,0.983743902104403,-0.8516782703796013,-0.6769696357795195,-0.11750940138599947,-0.8771975091414111,1.0426344530931946,-1.1009816028988189,0.5950662655783784,1.1761197020011225,0.544027788054759,-1.6663308923912181,0.9327054245807838,-2.2041979247555146,1.0936729306168145,-0.08806412589160367,0.2986504922681275,-0.5002979828131447,0.6166594676076024,1.2389362897224998,-1.403286431307949,-1.030312941712269,-0.16069580544444695,-0.8457892152807219,-0.054692813664622,1.916177626093603,0.7108843491896686,-1.81552028822949,0.6343266329042394,0.5224345860255356,0.04345810465003063,-0.40999913796366444,-0.5670406072671087,-0.8320480867166707,-0.21762333806694503,-0.17051089727591223,0.9150382592841462,1.3096049509090502,0.2044256106860613,-0.09002714425789661,0.37913424528614253,-0.7535273520649487,1.5353520630327513,-1.1618351722539038,-0.6377092684536584,-0.042914703466863796,0.06897734341184054,1.3135309876416361,0.2044256106860613,0.08271847197589169,0.17694335355795843,-0.14106562178151644,-0.029173574902812093,-0.5375953317727129,-0.49637194608055885,1.6845414588710226,-0.13910260341522293,0.37913424528614253,0.8011831940391488,2.1262205912869594,1.5785384670911982,-0.27651388905573665,-0.8045658295885679,0.2240557943489918,0.6539568165671699,0.9542986266100072,1.4156079426888746,0.12197883930175274,0.5989923023109648,-0.5297432583075405,-0.44925950528952546,1.2016389407629322,-0.7515643336986557,0.00616075569046252,-0.40214706449849213,0.06897734341184054,0.10234865563882221,1.9750681770823946,-0.11358336465341358,1.1584525367044842,-0.06647092386238021,-1.1893174293820061,0.383060282018729,0.5911402288457924,1.1564895183381918,0.4026904656816595,0.7599598083469948,-1.0519061437414925,-2.4966876613331794,0.10234865563882221,0.8600737450279404,-0.013469427972468008,0.19657353722088897,-0.7986767744896891,-0.6435983235525378,0.79529413894027,0.7913681022076836,1.1682676285359495,-0.42962932162659495,-2.443686165443267,0.014012829155634843,0.3477259514254538,1.0485235081920738,-1.5917361944720823,-0.5493734419704711,-1.1637981906201968,0.8325914878998382,-0.6828586908783989,0.19264750048830254,-0.26080974212539254,-0.09002714425789661,0.4851372370659675,-0.4728157256850419,0.2986504922681275,1.647244109911455,-0.2451055951950479,1.9848832689138598,-0.46888968895245603,1.5333890446664578,0.12786789440063212,-0.30399614618383947,-0.3079221829164259,2.1635179402465283,1.0897468938842279,-0.7633424438964139,0.9366314613133696,1.2153800693269834,-1.509289423087774,-0.1449916585141023,0.3241697310299374,-0.2863289808872019,-0.39233197266702685,0.7815530103762184,-0.5631145705345227,0.4026904656816595,-0.12928751158375767,-1.1637981906201968,-0.2156603197006521,-0.6259311582559002,0.8247394144346658,0.9071861858189738,0.4517659248389858,-0.3373674584108217,-0.16462184217703285,-0.9949786111189943,2.4874159706848817,-0.5847077725637463,1.1034880224482797,-0.512076093010903,-0.05076677693203556,-0.8791605275077041,-0.2882919992534954,-0.39233197266702685,-0.7554903704312416,0.17105429845907905,0.04934715974891001,2.530602374743329,0.3123916208321792,0.6048813574098436,1.812137652680071,-0.10376827282194832,-0.39036895430073393,-2.1708266125285327,0.00616075569046252,-0.25492068702651316,1.2291211978910346,0.0650513066792541,-2.21401301658698,3.168583343788571,-0.03898866673427736,-0.5650775889008157,0.3771712269198496,0.21031466578494012,1.4744984936776662,1.655096183376627,-1.8037421780317318,1.5962056323878353,0.4007274473153666,1.2016389407629322,-1.3051355129932964,-0.6710805806806407,0.8227763960683729,-1.7428886086766473,1.5490931915968025,0.012049810789341902,-1.3973973762090701,0.424283667710883,0.9562616449763002,-0.364849715538924,0.3359478412276956,-0.7044518929076223,-0.5238542032086617,1.672763348673265,-0.6063009745929697,0.03953206791744475,-0.9557182437931333,1.4941286773405966,-1.240355906905626,0.20835164741864717,-0.9989046478515803,-0.6494873786514166,-1.2030585579460578,-0.7554903704312416,0.6539568165671699,-0.9400140968627887,0.98178088373811,1.5844275221900777,-0.4257032848940091,-0.39036895430073393,-0.6121900296918491,2.2008152892060955,0.6598458716660492,0.2338708861804571,-0.27455087068944367,-0.32951538494564936,2.0280696729723067,0.4203576309782971,2.041810801536358,0.11020072910399453,0.33005878612881623,1.3233460794731013,-0.427666303260302,1.3743845569967201,0.1200158209354598,1.4411271814506845,1.3841996488281854,0.2535010698433876,-0.47085270731874895,0.7089213308233756,0.08075545360959875,1.119192169378623,1.7139867343654185,1.199675922396639,-1.322802678289934,0.4419508330075206,0.7795899920099254,1.113303114279745,-0.5238542032086617,0.9700027735403518,1.3547543733337895,0.5931032472120854,0.06701432504554761,-0.09591619935677599,-0.34325651350970054,-0.39036895430073393,-0.5238542032086617,1.299789859077585,-0.3668127339052175,-0.24903163192763433,-0.43355535835918085,0.7835160287425118,-0.6396722868199514,-0.7142669847390876,-0.7319341500357252,0.4969153472637257,0.4929893105311398,0.2240557943489918,0.8463326164638894,1.0445974714594874,1.235010252989914,0.689291147160445,-0.27258785232315075,-0.5925598460289185,1.7925074690171405,0.7069583124570826,0.5597319349851038,-0.2038822095028939,0.27902030860519694,0.49495232889743274,-0.737823205134604,0.13571996786580445,-2.6085797082118836,0.7030322757244962,-0.6534134153840031,-0.9105688213683929,-1.3738411558135533,0.5106564758277774,1.1250812244775026,1.2605294917517238,0.12983091276692507,-0.009543391239881568,1.1034880224482797,1.4411271814506845,-1.1441680069572662,-0.8202699765189125,-0.7338971684020181,0.8168873409694936,0.9130752409178532,0.6853651104278592,1.1780827203674147,1.1898608305651734,0.37520820855355663,0.903260149086388,-0.9400140968627887,0.9601876817088866,0.14946109642985558,1.3292351345719806,0.3104286024658857,-0.33344142167823526,-2.0157481615913815,1.5000177324394761,0.25546408820968053,0.03364301281856537,0.48710025543226043,-0.15676976871186052,0.21424070251752655,-1.3738411558135533,-1.1186487681954564,2.006476470943084,-1.2992464578944176,1.1152661326460374,-0.8948646744380482,-0.33147840331194234,0.8149243226032006,-0.9714223907234774,-0.12732449321746472,-1.0224608682470966,-0.32951538494564936,-0.24706861356134083,-0.13713958504893,-0.9517922070605469,0.7226624593874268,0.2731312535063181,-0.16854787890961873,-0.042914703466863796,0.5989923023109648,0.7128473675559615,-1.324765696656227,0.19068448212200959,0.4517659248389858,-0.04880375856574262,0.11805280256916686,-0.4080361195973715,-0.41196215632995736,-1.5210675332855321,0.9484095715111278,0.9071861858189738,-0.989089556020115,-0.15873278707815347,0.9346684429470766,0.2024625923197678,-1.1716502640853692,0.10038563727252928,-0.05665583203091494,-0.7437122602334834,1.4529052916484422,-0.6926737827098641,-0.7810096091930515,-0.7221190582042599,1.1074140591808654,1.0406714347269017,-0.20977126460177328,-0.27455087068944367,1.0073001224999194,0.03756904955115181,-0.23136446663099675,0.2044256106860613,0.2338708861804571,-0.3491455686085799,-0.38840593593444095,-0.6318202133547796,-2.469205404205077,0.2279818310815777,0.47728516360079515,-0.45514856038840484,-0.16854787890961873,1.3331611713045666,0.6559198349334634,0.4556919615715717,-0.7201560398379669,-0.7044518929076223,0.9052231674526808,0.47728516360079515,-1.6722199474900972,-0.26277276049168546,-2.2100869798543936,0.03560603118485831,-0.8771975091414111,0.06897734341184054,-2.2650514941105993,-0.05272979529832906,-0.8006397928559821],\"z\":[0.8574034446394462,1.048458149949096,-0.759667824012329,-0.0840826289483106,-0.2810462426695987,0.05379190065659106,0.22515024459411148,0.20939315549640877,2.46659616874237,-0.10180935418322665,-1.1831395935130984,-0.17468589126010303,0.036065175421675026,-2.2034111125893707,-1.4096477492925799,-0.6986091037587299,-0.16483771057403862,0.15030407138002236,0.16606116047772507,-0.3814976856674555,0.7057414620740545,0.975581612872219,-0.36377096043254004,-1.951297687026122,-0.3874065940790944,0.9716423405977935,0.8869479866976394,1.8146466073249068,1.5566242733500188,0.24287696982902754,-0.952692165459191,0.5245349374504698,-1.9591762315749734,-0.25347133674861827,-0.2633195174346827,-1.5554008234463328,2.173120384297651,-0.4464956781954808,1.2631484889053002,-0.7498196433262646,0.8081625412091241,-2.5717330702481798,0.701802189799629,0.9420977985396003,0.5383223904109596,0.05379190065659106,1.3596606596287308,-1.1890485019247368,-0.39331550249073327,-0.23377497537648945,-0.6808823785238137,-0.6867912869354521,1.2670877611797255,-0.8305747249519926,0.2546947866523047,-0.854210358598547,-1.415556657704218,-0.9389047124987011,-1.0354168832221324,1.8540393300691644,1.0523974222235215,-0.5646738464282537,-0.9605707100080426,-0.3893762302163072,1.3576910234915187,-0.5548256657421893,0.5402920265481724,0.44968876423638005,1.5231404590174003,-0.5016454900374417,0.42408349445261234,-0.19241261649501906,-0.22786606696485115,-0.36967986884417836,0.018338450186758982,0.15227370751723512,-1.8035749767351559,1.024822516302541,1.235573582984319,-1.4470708358996243,-0.7478500071890518,-0.20226079718108347,-0.6690645617005366,-0.8069390913054383,-0.4169511361372876,0.9342192539907487,-0.2199875224159995,0.31181423463147834,0.7924054521114214,-1.6144899075627193,0.4260531305898257,0.5225653013132564,0.9184621648930459,-1.2382894053550588,-2.829755404223067,-0.6139147498585757,-0.4642224034303969,-0.021054272557498636,-1.1614735960037568,0.38666040784556804,-1.7385769842071306,0.5166563929016181,1.011035063342051,-0.9132994427149334,0.4831725785689988,-0.5154329429979316,1.2513306720820223,-1.068900697554751,1.186332679553997,0.09712389567527423,0.1030328040869131,0.9066443480697682,0.7155896427601189,-0.10968789873207828,1.2237557661610425,-0.8384532695008443,-0.1490806214763359,1.0366403331258187,-1.8016053405979429,-0.013175728008647003,0.9499763430884519,-1.7878178876374526,-1.5770668209556746,1.6885898945432818,-0.5686131187026793,-1.1949574103363756,1.3458732066682408,1.2749663057285767,-0.9310261679498495,1.143000684535314,-0.7163358289936453,-1.254046494452762,1.03073142471418,0.5580187517830885,0.6978629175252029,-0.6690645617005366,0.5422616626853852,1.2533003082192358,1.1843630434167849,-1.8764515138120323,-2.043870585475127,0.8574034446394462,-0.5961880246236597,-0.11756644328092992,0.13454698228231907,0.0006117249518429412,1.5960169960942765,-1.267833947413252,-0.6158843859957884,0.2527251505150919,-1.3151052147063613,0.7884661798369953,-0.05256845075290462,-0.2771069703951732,0.5915025661157073,-1.7523644371676208,0.7254378234461833,0.1384862545567446,-1.007841977301152,-1.6164595436999323,-0.4071029554512232,1.1883023156912105,1.066184875184012,0.877099806011575,0.9598245237745163,0.863312353051085,0.7746787268765054,0.31181423463147834,-0.060446995301756255,-0.21210897786714789,0.4359013112758901,1.1607274097702305,0.49105112311785043,-0.1352931685158454,-1.551461551171907,0.9007354396581299,-2.5205225306806445,0.4733243978829344,-0.5646738464282537,1.2651181250425123,-0.9881456159290231,-0.24559279219976718,0.21727170004525986,0.8613427169138723,-0.5292203959584216,0.6860451007019257,0.400447860806058,-2.4555245381526194,-1.2658643112760393,0.32363205145475554,-0.07029517598782066,-0.39922441090237154,-0.9231476234009978,0.6308952888599648,0.6643791031925842,-0.17665552739731635,-1.2087448632968656,-0.11559680714371659,0.431962039001464,1.4699602833126526,-0.1352931685158454,3.0279424678480407,0.02227772246118508,1.1942112241028493,1.619652629740831,1.53692791197789,-0.18453407194616742,-0.5666434825654665,-0.45043495046990634,0.5993811106645589,-0.15301989375076144,-0.6257325666818528,0.5915025661157073,0.44771912809916725,-0.31453005700221803,1.781162792992288,0.6151381997622621,1.235573582984319,-0.3224086015510691,0.9598245237745163,-0.005297183459795366,0.09909353181248699,0.040004447696100565,0.7490734570927378,0.04197408383331389,1.0445188776746699,0.42408349445261234,-1.124050509396712,0.7707394546020798,1.5802599069965733,-0.13135389624141985,1.7476789786596683,1.0642152390467987,-1.4982813754671593,-1.0728399698291773,1.1489095929469528,0.3078749623570528,-1.1575343237293307,0.7727090907392926,0.11682025704740304,-0.11362717100650382,0.7864965436997826,0.2546947866523047,-0.5528560296049765,0.2487858782406664,-0.34998350747204954,-0.3480138713348368,1.2710270334541511,-0.3480138713348368,0.37287295488507755,0.07545789816593264,1.048458149949096,-1.5219170091137137,-0.8010301828937995,-1.0551132445942613,1.4148104714706917,-0.9113298065777207,1.6984380752293462,0.6151381997622621,0.6643791031925842,0.993308338107135,0.8652819891882978,-0.9625403461452554,-0.8837549006567402,-0.2515017006114055,-2.3924961817618073,-1.3978299324693026,-0.0742344482622462,-1.236319769217846,0.10106316794970031,0.6308952888599648,-0.6316414750934918,-0.6099754775841502,2.0017620403601306,-0.5055847623118672,1.2099683132005525,1.4542031942149494,0.5225653013132564,0.8593730807766595,-0.6946698314843037,-1.3032873978830841,1.1843630434167849,-0.2849855149440248,-1.4490404720368373,0.8258892664440401,0.5658972963319401,0.7116503704856935,-2.063566946847256,0.055761536793803836,0.24681624210345307,-1.551461551171907,-1.7110020782861506,-0.4484653143326936,-0.35786205202090116,0.4122656776293352,-0.17862516353452912,1.0386099692630315,-1.4293441106647085,1.0602759667723731,-1.0728399698291773,-0.7143661928564325,0.4752940340201477,1.339964298256602,-0.6670949255633233,1.4916262808219936,-0.2613498812974699,0.49105112311785043,-0.044689906204052984,0.6289256527227521,0.34332841282688437,0.764830546190441,0.9519459792256647,0.481202942431786,-0.2613498812974699,0.06954898975429377,2.3661447257445136,-1.043295427770984,1.6531364440734508,0.26651260347558187,0.6230167443111138,-0.3046818763161536,-0.6887609230726655,-1.8429676994794135,-0.28892478721845033,-0.18650370808338076,0.5028689399411276,0.7668001823276538,-0.7990605467565867,0.004550997226269039,-0.05059881461569185,0.9105836203441943,-0.0781737205366723,-1.3032873978830841,-0.6730038339749621,0.036065175421675026,-0.25347133674861827,0.3590855019245876,0.733316367995035,0.22121097231968595,0.751043093229951,0.22318060845689872,-0.5784612993887436,-2.441737085192129,-0.07620408439945897,1.2296646745726814,-0.4130118638628621,0.31969277918033,0.2606036950639436,-0.12150571555535546,-0.3972547747651588,1.143000684535314,-0.8975423536172307,0.040004447696100565,-0.728153645816923,0.26454296733836913,0.3610551380618004,-0.23180533923927668,0.8790694421487883,-1.092536331201306,-1.3702550265483222,-0.9192083511265723,2.9156732080269068,-0.43467786137220366,-0.16286807443682585,-1.8370587910677747,0.877099806011575,0.42408349445261234,-0.8010301828937995,-1.6834271723651701,-0.41104222772564875,-0.9349654402242755,-1.271773219687678,1.562533181761658,1.402992654647414,-0.37558877725581724,1.1351221399864628,1.1252739593003984,-0.8069390913054383,0.7786179991509309,-0.49573658162580286,-0.38346732180466886,-0.7458803710518385,1.7338915256991783,0.4713547617457216,0.3768122271595037,1.8422215132458868,1.3852659294124985,-1.750394801030408,1.107547234065482,0.22711988073132425,0.43984058355031563,-1.3485890290389806,0.8495249000905951,0.536352754273747,-0.29286405949287586,0.8475552639533818,0.9736119767350063,-0.42482968068613924,-1.4647975611345403,-0.4071029554512232,-2.4693119911131096,0.999217246518774,0.4043871330804836,1.5664724540360833,1.2296646745726814,1.1961808602400614,0.5245349374504698,0.6643791031925842,-0.6198236582702146,0.07742753430314542,-1.0826881505152417,0.7805876352881442,0.512717120627192,-1.8331195187933491,-1.1082934202990087,-0.36771023270696557,-0.6237629305446402,-1.7267591673838534,-1.384042479508812,0.7569520016415894,-0.2101393417299351,-0.9507225293219782,-0.7498196433262646,-0.18650370808338076,-0.03681136165520135,0.07939717044035818,0.6072596552134105,0.634834561134391,0.12863807387068021,-1.486463558643882,0.3413587766896716,-0.08605226508552337,-1.5790364570928874,0.32166241531754275,-1.7267591673838534,1.2611788527680867,1.3163286646100476,1.0602759667723731,-0.0880219012227367,-0.8345139972264182,-0.17271625512289024,-1.835089154930562,-1.0176901579872164,-0.5055847623118672,0.5068082122155537,0.6978629175252029,1.1114865063399084,2.1081223917696255,-0.4425564059210553,-0.5607345741538281,0.5836240215668562,0.5974114745273461,-1.5396437343486298,-1.0649614252803257,-1.1279897816711375,-0.6355807473679173,-0.2751373342579604,1.8737356914412933,-1.2304108608062077,-0.6710341978377494,-0.3480138713348368,0.32166241531754275,-1.20480559102244,-1.124050509396712,-0.2751373342579604,0.8830087144232138,-0.9920848882034486,-0.6355807473679173,2.1750900204348644,-0.3401353267859851,-0.009236455734221464,0.28817860098492404,-0.43073858909777757,-0.8384532695008443,0.1187898931846158,-0.6277022028190656,1.3498124789426664,0.9637637960489419,-0.15301989375076144,-0.661186017151685,0.8987658035209172,-0.6040665691725113,-1.5672186402696102,-1.1279897816711375,0.8495249000905951,1.2572395804936614,-1.4135870215670052,0.15030407138002236,1.9269158671460407,-0.10771826259486551,-0.23771424765091556,0.6289256527227521,-1.1496557791804791,1.2946626671007055,1.3242072091588988,-0.8699674476962502,0.9460370708140258,-1.1142023287106475,0.07742753430314542,0.9499763430884519,-0.9664796184196816,0.18772715798706663,0.4713547617457216,-0.1490806214763359,-0.4169511361372876,0.3709033187478648,2.0706993051625813,1.0898205088305664,0.7136200066229063,1.1449703206725272,0.18575752184985386,0.14439516296838348,-0.4051333193140104,0.7608912739160154,0.2901482371221368,-0.8423925417752698,-0.8975423536172307,-1.8981175113213742,1.093759781104992,-1.9316013256539932,-0.42286004454892645,0.13651661841953183,-0.41498150000007483,-1.1575343237293307,-0.2869551510812376,-1.305257034020297,1.143000684535314,-2.4240103599572134,0.7766483630137182,1.2119379493377647,-0.9723885268313198,0.11288098477297749,0.07742753430314542,-0.8069390913054383,0.19954497481034436,-0.9645099822824688,-1.6322166327976353,-0.4464956781954808,0.13454698228231907,-1.5396437343486298,0.5836240215668562,0.2940875093965623,-1.4628279249973273,-0.5607345741538281,-0.17862516353452912,0.37484259102229034,2.0864563942602845,-0.2692284258463215,-0.6710341978377494,-1.4372226552135603,0.8357374471301046,0.5658972963319401,-0.1392324407902715,-0.6355807473679173,-0.13332353237863262,1.1745148627307205,-0.06635590371339456,1.1567881374958038,0.22515024459411148,0.6210471081739004,-0.525281123683996,1.3320857537077508,-0.42286004454892645,-0.3381656906487724,1.0898205088305664,0.8180107218951885,-1.8862996944980968,0.10894171249855139,0.301966053945414,0.6013507468017717,1.704346983640985,0.4024174969432708,0.4949903953922765,-0.0742344482622462,0.21136279163362154,-0.5095240345862928,1.4482942858033105,-0.22589643082763838,0.44377985582474117,0.17984861343821557,0.0518222645193783,-0.7675463685611806,-1.4096477492925799,0.9243710733046843,-0.11362717100650382,0.04591335610773943,-1.1575343237293307,0.6249863804483266,0.49892966766670205,-1.5672186402696102,-1.043295427770984,0.7983143605230597,-1.4254048383902824,1.0346706969886055,-1.9690244122610379,-1.0334472470849196,-0.3263478738254952,2.3543269089212355,0.1030328040869131,-1.0905666950640927,-0.328317509962708,0.7136200066229063,-0.8325443610892054,-0.36967986884417836,0.6860451007019257,-0.854210358598547,-1.1082934202990087,0.26454296733836913,0.2546947866523047,-0.37361914111860445,0.536352754273747,0.9893690658327096,0.652561286369307,0.4831725785689988,-0.9329958040870622,-1.322983759255213,1.5566242733500188,-1.1535950514549052,-0.01514536414585977,-0.36771023270696557,-1.3288926676668518,-0.6237629305446402,-0.7045180121703681,0.7687698184648666,-0.6631556532888977,-0.8325443610892054,-0.6749734701121749,-1.309196306294723,0.24287696982902754,-0.4287689529605648,-0.41498150000007483,0.9086139842069816,1.7693449761690103,0.18969679412427998,-1.9591762315749734,-1.2737428558248909,-0.1293842601042071,-1.0531436084570485,-0.005297183459795366,-0.4464956781954808,-0.23180533923927668,-0.20423043331829624,1.6531364440734508,0.20742351935919545,1.241482491395958,0.660439830918158,-0.31649969313943077,-0.22786606696485115,0.6978629175252029,-0.5292203959584216,-1.019659794124429,-0.37361914111860445,-0.33422641837434686,1.3301161175705376,-1.602672090739442,0.7904358159742086,0.7530127293671638,0.4949903953922765,-2.6662756048343974,-0.6395200196423434,0.9105836203441943,0.481202942431786,-0.25347133674861827,0.4752940340201477,-0.7951212744821605,-2.089172216631024,-0.661186017151685,0.28226969257328516,1.8599482384808033,0.1227291654590419,-1.7681215262653238,0.8849783505604266,0.5068082122155537,1.1626970459074428,-0.2731676981207471,1.235573582984319,-0.31846932927664356,1.2119379493377647,0.5402920265481724,0.1640915243405123,0.32757132372918163,-2.3826480010757427,-0.9172387149893595,-1.0767792421036027,0.18575752184985386,-1.141777234631628,1.1193650508887596,1.6452578995245986,0.7943750882486342,2.096304574946349,0.1384862545567446,-1.0354168832221324,-1.1279897816711375,-1.7622126178536852,-2.427949632231639,0.04197408383331389,1.7417700702480303,-1.699184261462873,-3.075959921374677,-0.9310261679498495,-0.20423043331829624,-0.09787008190880112,1.3557213873543053,0.5639276601947274,-0.43270822523499086,0.12469880159625467,-0.07620408439945897,-0.1392324407902715,-0.2751373342579604,0.09909353181248699,-0.11362717100650382,1.2395128552587458,0.39059968011999363,-1.1831395935130984,0.14045589069395795,-0.8522407224613342,0.660439830918158,0.0715186258915071,0.8731605337371494,0.3669640464734393,1.255269944356448,-0.21210897786714789,0.14636479910559624,-0.7517892794634774,2.19281674566978,1.27693594186579,-0.05256845075290462,0.530443845862108,1.8638875107552288,2.789616495245283,-0.2101393417299351,-0.678912742386601,0.016368814049546213,3.213088264746052,-0.09983971804601388,-0.42482968068613924,-1.21859304398293,-0.4031636831767977,0.26257333120115633,1.2631484889053002,-0.9664796184196816,0.1227291654590419,-0.4642224034303969,1.0720937835956503,1.501474461508058,1.3576910234915187,1.9603996814786595,0.0715186258915071,0.15227370751723512,1.395114110098563,-0.1608984382996131,0.6407434695460292,0.06364008134265547,1.0740634197328631,-0.5489167573305505,-0.6099754775841502,-1.0176901579872164,-0.20816970559272233,-0.2101393417299351,-0.1451413492019098,0.2527251505150919,-0.994054524340662,1.3557213873543053,-0.19635188876944515,-1.551461551171907,-1.433283382939134,-0.7202751012680714,-1.401769204743728,0.36302477419901313,-0.9270868956754239,-1.4391922913507729,-0.43467786137220366,1.2513306720820223,-0.2869551510812376,0.4516584003735928,0.44181021968752837,1.3222375730216867,0.24090733369181477,0.39650858853163246,-0.09196117349716225,1.4620817387638003,-0.11756644328092992,-0.4543742227443325,0.45953694492244446,-1.0649614252803257,1.9249462310088274,-2.7155165082647197,1.0780026920072892,0.24090733369181477,-1.112232692573435,-0.3795280495302428,-0.4996758539002284,-2.888844488339453,-1.6519129941697641,1.170575590456295,0.7431645486810994,-1.0039027050267264,-1.3348015760784901,0.4359013112758901,-0.5370989405072732,-0.6434592919167689,-0.14120207692748427,1.1233043231631852,2.0313065824183236,0.24681624210345307,-0.13332353237863262,-0.489827673214164,-0.6020969330352985,0.8101321773463375,-0.23180533923927668,-1.5573704595835458,0.2586340589267308,-0.8187569081287155,1.0583063306351603,0.43984058355031563,0.28226969257328516,-0.6631556532888977,0.0616704452054427,-0.5902791162120213,-0.5942183884864469,-0.5528560296049765,-1.0708703336919638,1.186332679553997,0.7392252764066733,0.09712389567527423,0.7786179991509309,-0.43073858909777757,0.6328649249971782,0.32363205145475554,-0.7458803710518385,0.8278589025812529,-0.37558877725581724,0.26651260347558187,-0.6257325666818528,0.7766483630137182,0.028186630872823387,-1.240259041492272,-2.4574941742898324,-1.8823604222236712,-0.5587649380166149,-0.5134633068607188,0.7864965436997826,1.1272435954376105,-0.6572467448772589,1.3143590284728344,0.634834561134391,-1.8035749767351559,-0.16286807443682585,-0.5548256657421893,-2.97550847837682,0.21727170004525986,-0.8995119897544435,0.17393970502657669,0.3768122271595037,0.3531765935129488,-0.588309480074808,-1.797666068323517,0.8869479866976394,1.3163286646100476,0.796344724385847,-0.7261840096797098,-0.724214373542497,-1.535704462074204,-0.710426920582007,1.062245602909586,-0.7951212744821605,0.9952779742443478,-0.3814976856674555,-0.976327799105746,0.26257333120115633,-0.41498150000007483,0.24681624210345307,0.2448466059662403,-0.9132994427149334,1.129213231574824,0.2290895168685376,1.024822516302541,2.0332762185555358,-3.1015651911584445,0.975581612872219,-0.5686131187026793,0.9027050757953426,-0.43467786137220366,0.8042232689346986,1.6255615381524697,0.5580187517830885,-0.3716495049813911,-1.671609355541893,-0.7163358289936453,-0.22392679469042504,-0.42286004454892645,0.29211787325934957,-1.65585226644419,0.15818261592887342,1.0405796054002443,1.1764844988679326,-0.5528560296049765,-0.5607345741538281,-0.22589643082763838,-0.08605226508552337,-1.0531436084570485,-0.7537589156006902,-0.1352931685158454,-0.7695160046983934,-1.21859304398293,-2.1088685780031526,-1.2835910365109553,-1.3111659424319357,-0.6473985641911945,-2.3550730951547627,0.22515024459411148,0.0518222645193783,-0.678912742386601,1.5901080876826377,-1.9532673231633348,2.383871450979429,-1.3564675735878315,-0.5174025791351444,0.25666442278951745,0.6407434695460292,0.7234681873089706,-1.3525283013134062,-1.3623764819994706,-0.6710341978377494,-0.5351293043700605,-0.28892478721845033,1.3911748378241373,-1.819332065832859,-1.419495929978644,-0.3224086015510691,1.4345068328428205,-0.9448136209103399,0.07545789816593264,0.28817860098492404,0.2684822396127952,-0.11953607941814269,1.0464885138118831,-0.50755439844908,-0.7458803710518385,-0.4642224034303969,1.668893533171153,0.08924535112642258,-0.5272507598212088,-1.317074850843574,1.7851020652667136,-1.3505586651761934,0.11288098477297749,-0.4130118638628621,0.9519459792256647,1.2316343107098935,-0.9605707100080426,-0.36377096043254004,0.08924535112642258,-0.8305747249519926,0.13060771000789353,-0.6080058414469368,0.43984058355031563,0.5402920265481724,0.7628609100532282,-0.06241663143896903,-0.5981576607608724,-0.10377899032043941,-1.5888846377789518,-1.618429179837145,-1.4529797443112629,0.5974114745273461,0.1837878857126411,0.6092292913506233,-0.440586769783842,-0.3322567822371335,-0.9172387149893595,-2.3393160060570595,2.9806712005549323,1.1548185013585917,0.23893769755460198,-1.1338986900827763,1.1942112241028493,-0.25741060902304436,0.6111989274878361,0.7549823655043766,-0.39922441090237154,-0.2908944233556631,0.8613427169138723,-0.6493682003284078,1.6846506222688562,0.3610551380618004,0.8711908975999367,-0.08014335667388507,-1.5928239100533776,-0.7537589156006902,-0.10968789873207828,-0.8561799947357603,0.530443845862108,-1.173291412827034,-0.35195314360926233,1.381326657138073,0.37484259102229034,1.1902719518284237,-0.9999634327523003,1.5743509985849355,-0.5213418514095706,-0.6670949255633233,0.877099806011575,1.1764844988679326,0.16803079661493783,1.7417700702480303,-2.079324035944959,-0.021054272557498636,-0.7340625542285614,-0.12741462396699432,-0.9152690788521467,-1.1654128682781824,1.0563366944979475,-0.6336111112307046,1.8875231444017833,-1.766151890128111,-0.4977062177630156,0.5599883879203013,0.6919540091135646,-0.8010301828937995,0.18575752184985386,0.44968876423638005,-1.2835910365109553,0.5166563929016181,0.22318060845689872,1.0760330558700764,-0.9487528931847655,-0.6020969330352985,1.1725452265935072,-0.33422641837434686,0.28817860098492404,-2.709607599853081,-1.7641822539908982,-0.9448136209103399,0.1030328040869131,3.559744224895519,-1.8035749767351559,0.1187898931846158,-1.0649614252803257,-0.6414896557795562,-0.1687769828484647,0.2527251505150919,0.31969277918033,0.4555976726480189,0.38863004398278084,1.0543670583607343,-0.9211779872637851,-0.5666434825654665,0.49892966766670205,-0.1490806214763359,-0.296803331767302,0.7845269075625698,0.10894171249855139,-1.3190444869807874,-0.41892077227450036,-0.8305747249519926,-0.9408743486359138,-0.6710341978377494,-0.3795280495302428,0.5658972963319401,1.2946626671007055,0.3709033187478648,0.5816543854296429,-0.8305747249519926,0.5107474844899792,0.9736119767350063,-0.741941098777413,-0.14317171306469703,0.5324134819993208,1.4995048253708458,-1.2894999449225941,0.993308338107135,-0.8029998190310121,1.2257254022982547,1.3596606596287308,-0.4071029554512232,0.4713547617457216,-0.6020969330352985,-2.014326043416934,1.247391399807597,0.15227370751723512,-0.18453407194616742,2.6064403344844846,1.6570757163478764,1.1922415879656358,-0.15301989375076144,0.32166241531754275,-0.50755439844908,-1.2954088533342325,0.43984058355031563,0.6801361922902869,-0.7005787398959425,2.0017620403601306,0.0577311729310166,-0.21210897786714789,-1.8449373356166263,0.5028689399411276,0.25666442278951745,-1.1398075984944147,-0.0683255398506079,-0.63755038350513,0.8357374471301046,0.2901482371221368,-0.4996758539002284,1.0917901449677796,0.014399177912333444,-0.7399714626402002,0.6821058284275002,0.9283103455791103,1.1666363181818682,-0.6552771087400461,0.18575752184985386,0.03803481155888779,-0.16286807443682585,-0.9979937966150875,-1.2087448632968656,-0.4071029554512232,0.26257333120115633,0.18772715798706663,1.1902719518284237,-0.952692165459191,1.0189136078909027,-1.0354168832221324,-2.0261438602402113,0.6269560165855393,0.3295409598663944,-0.4425564059210553,-1.5297955536625654,-1.3308623038040646,0.18969679412427998,0.4674154894712961,-0.2416535199253411,-1.6164595436999323,0.863312353051085,-0.0013579111853698278,-1.2166234078457172,1.466021011038227,3.4730802348581524,0.38666040784556804,-0.3361960545115596,-0.6651252894261105,-1.4746457418206047,-0.328317509962708,1.0090654272048383,0.39256931625720637,0.4516584003735928,1.1311828677120372,-0.9901152520662359,1.0543670583607343,0.733316367995035,0.21136279163362154,-0.37558877725581724,-0.3027122401789403,-2.309771463998866,0.4359013112758901,0.5284742097248952,-0.0683255398506079,-0.3381656906487724,0.2980267816709884,-0.13332353237863262,-0.539068576644486,-1.6834271723651701,-0.8364836333636315,-0.7084572844447942,0.10500244022412586,0.9539156153628775,-0.6257325666818528,-0.11559680714371659,2.0529725799276646,0.09121498726363592,-0.21801788627878674,-0.724214373542497,1.6019259045059153,0.7864965436997826,-0.15105025761354868,2.19281674566978,0.8436159916789563,0.09712389567527423,0.4201442221781868,0.20348424708476992,0.5146867567644053,-0.9192083511265723,-0.9329958040870622,0.18772715798706663,-0.19241261649501906,-0.5607345741538281,0.17787897730100224,0.5816543854296429,-0.7616374601495418,0.6998325536624157,1.562533181761658,0.9283103455791103,0.7608912739160154,1.0051261549304122,0.17984861343821557,0.19560570253591827,-0.5942183884864469,-2.668245240971611,0.22711988073132425,2.1790292927092896,0.4733243978829344,0.6427131056832426,-0.13726280465305873,-0.1352931685158454,0.26454296733836913,0.4024174969432708,1.221786130023829,0.22121097231968595,-1.419495929978644,0.24681624210345307,0.39650858853163246,0.036065175421675026,1.3911748378241373,-0.6631556532888977,-0.5843702078003825,1.0011868826559867,1.822525151873758,0.7195289150345445,0.368933682610652,-0.8364836333636315,-0.0742344482622462,-0.9625403461452554,-0.028932817106350275,1.3557213873543053,1.1233043231631852,-1.173291412827034,-1.9119049642818644,-0.3716495049813911,-0.6020969330352985,-0.629671838956279,-1.750394801030408,0.17393970502657669,0.5422616626853852,0.38863004398278084,0.07545789816593264,1.7378307979736038,1.0917901449677796,0.3157535069059039,0.12469880159625467,0.07742753430314542,-0.05453808689011739,0.1640915243405123,1.5448064565267423,1.4423853773916717,0.5698365686063657,1.5802599069965733,-0.19241261649501906,1.03073142471418,0.4024174969432708,-0.30074260404172753,-0.2002911610438707,-0.5705827548398925,-0.2849855149440248,-0.7695160046983934,-1.8035749767351559,-0.6769431062493877,-1.1279897816711375,1.3793570210008597,0.20742351935919545,1.028761788576967,2.125849117004542,-0.12741462396699432,0.5087778483527665,0.31378387076869113,0.747103820955525,-1.4096477492925799,-2.400374726310659,0.4043871330804836,1.1902719518284237,-0.7498196433262646,-0.09787008190880112,-1.001933068889513,2.4508390796446675,0.8180107218951885,1.6590453524850886,2.0766082135742203,-0.011206091871434233,1.3557213873543053,-0.5469471211933377,-0.18059479967174188,1.5605635456244444,1.4108711991962661,1.1449703206725272,0.06954898975429377,-0.7498196433262646,-0.42286004454892645,-1.340710484490129,-0.7734552769728189,-0.6178540221330012,1.7496486147968815,-1.7149413505605764,-1.3505586651761934,-0.2101393417299351,-0.06635590371339456,-1.3978299324693026,0.7293770957206089,1.6649542608967274,0.17590934116378945,0.17393970502657669,0.8002839966602731,-0.6572467448772589,-0.5292203959584216,0.016368814049546213,-0.2416535199253411,2.1652418397488,-0.9842063436545976,0.2684822396127952,1.3635999319031564,-1.900087147458587,-1.2126841355712916,-0.4622527672931841,-0.6966394676215165,0.12863807387068021,1.5782902708593611,-0.46619203956760963,0.8830087144232138,-1.3761639349599604,-1.141777234631628,0.17393970502657669,-0.5370989405072732,-0.6986091037587299,-1.6853968085023832,-1.4096477492925799,-0.22786606696485115,0.17197006888936392,1.2887537586890678,2.0529725799276646,-0.5548256657421893,0.37484259102229034,0.5107474844899792,-0.7813338215216706,-0.6493682003284078,1.422689016019543,1.2986019393751322,-0.16483771057403862,0.48908148698063764,-1.019659794124429,-0.14120207692748427,-0.5154329429979316,-0.5095240345862928,-0.0742344482622462,0.40635676921769687,1.2493610359448102,1.0583063306351603,1.7851020652667136,-0.9329958040870622,0.09712389567527423,1.676772077720005,-0.7754249131100317,-0.16680734671125194,0.2999964178082012,-1.5987328184650162,-1.4214655661158568,1.3084501200611967,0.11288098477297749,-1.66963971940468,-0.39331550249073327,-0.7183054651308586,0.6407434695460292,-1.0590525168686866,0.5954418383901333,1.9052498696366986,-0.42089040841171316,0.7924054521114214,-0.6099754775841502,-0.09983971804601388,1.143000684535314,0.012429541775120675,-0.6927001953470909,0.9066443480697682,1.0720937835956503,0.4181745860409741,0.7549823655043766,0.3098445984942656,-0.8620889031473986,-0.19241261649501906,1.9466122285181695,-1.6203988159743579,0.7234681873089706,-1.3761639349599604,-0.24559279219976718,0.9263407094418971,1.3242072091588988,-0.24362315606255386,1.2158772216121903,0.33151059600360716,1.1981504963772749,0.5462009349598114,-1.1752610489642468,-1.1811699573758856,-1.6420648134836997,-0.7064876483075809,1.0386099692630315,0.1640915243405123,1.1567881374958038,0.7884661798369953,-0.29877296790451474,-0.5942183884864469,0.7530127293671638,-1.4431315636251985,0.5560491156458757,-0.42286004454892645,-1.3367712122157027,1.0189136078909027,-1.7070628060117248,0.4181745860409741,1.5822295431337867,1.093759781104992,0.36302477419901313,0.6939236452507774,-1.1831395935130984,-0.7045180121703681,0.25666442278951745,0.6781665561530741,-0.6217932944074274,-0.10771826259486551,-0.42679931682335204,0.6013507468017717,1.548745728801168,0.04985262838216497,-1.5238866452509268,0.22121097231968595,0.0478829922449522,0.26651260347558187,-2.2388645630592023,1.235573582984319,-2.03205276865185,0.17393970502657669,1.233603946847107,0.31378387076869113,-0.30665151245336636,1.8441911493831,0.5186260290388308,0.7707394546020798,-2.1029596695915136,-0.6198236582702146,-1.7405466203443436,-1.1831395935130984,-0.20620006945550956,1.6807113499944306,0.8416463555417435,-1.8173624296956459,1.5093530060569103,-0.03484172551798858,0.9795208851466451,-1.1673825044153952,-0.7695160046983934,-2.5402188920527737,1.2946626671007055,-1.236319769217846,-0.36771023270696557,1.0839116004189275,-0.875876356107889,-0.5784612993887436,-0.4622527672931841,0.9046747119325554,-0.8620889031473986,0.8337678109928919,0.12469880159625467,1.3360250259821764,-0.7852730937960961,-1.4175262938414315,-0.0742344482622462,0.3078749623570528,-1.1260201455339247,0.764830546190441,0.4024174969432708,1.3911748378241373,-2.165988025982326,-1.2166234078457172,0.9499763430884519,-1.7622126178536852,0.5757454770180045,0.04197408383331389,-0.3381656906487724,-0.4543742227443325,-1.781908979225814,0.0518222645193783,-1.0117812495755774,0.5245349374504698,-0.0742344482622462,1.5172315506057614,0.5186260290388308,0.8357374471301046,2.409476720763197,-0.31059078472779195,-0.3874065940790944,0.6880147368391385,0.6742272838786486,0.06364008134265547,0.008490269500694578,1.0701241474584375,0.6761969200158614,-0.04665954234126576,-0.17271625512289024,-0.7183054651308586,0.3157535069059039,-0.6592163810144722,-2.29204473876395,2.153424022925522,-1.141777234631628,1.4187497437451173,1.0858812365561408,0.44771912809916725,1.7496486147968815,0.1936360663987055,-0.09787008190880112,-0.15695916602518753,-1.401769204743728,0.39059968011999363,-1.118141600985073,0.20545388322198269,2.1278187531417543,1.093759781104992,0.37287295488507755,0.39453895239441916,-0.2711980619835343,-1.3210141231180001,1.9800960428507883,0.8219499941696147,1.29072339482628,0.26257333120115633,-1.2796517642365297,-0.36967986884417836,2.307055641628127,0.9125532564814071,-0.09787008190880112,-1.001933068889513,-1.1831395935130984,1.170575590456295,0.2527251505150919,2.2420576491001016,0.5501402072342368,0.8574034446394462,-0.24756242833697994,-2.012356407279721,1.048458149949096,-0.4543742227443325,0.9677030683233679,1.7338915256991783,1.53692791197789,0.8298285387184663,0.3354498682780327,-1.8488766078910521,-1.0787488782408154,0.5796847492924301,1.0642152390467987,-0.3874065940790944,-0.49376694548859007,0.3354498682780327,0.4024174969432708,-0.8148176358542893,-0.8857245367939535,-1.3958602963320892,-0.013175728008647003,-0.7458803710518385,-0.7675463685611806,1.0031565187931994,-1.1516254153176924,-0.25347133674861827,0.21924133618247318,-0.5725523909771053,1.4128408353334785,0.1384862545567446,-1.0176901579872164,-0.5863398439375953,0.28030005643607236,-0.6572467448772589,-0.7320929180913486,0.030156267010036156,2.2243309238651863,-0.16286807443682585,0.44377985582474117,-0.8286050888147799,-0.41498150000007483,-0.8778459922451018,-1.2323804969434204,0.22318060845689872,0.5658972963319401,-0.4287689529605648,-0.3401353267859851,0.2527251505150919,-2.0281134963774243,0.28226969257328516,-0.3125604208650047,-0.6966394676215165,-0.5804309355259569,-0.8305747249519926,-0.17271625512289024,0.25666442278951745,1.1233043231631852,-0.22195715855321227,0.8672516253255106,-0.0840826289483106,0.1837878857126411,-0.2495320644741927,-2.0911418527682364,-0.4425564059210553,-0.5961880246236597,-0.18059479967174188,-0.7478500071890518,-0.34998350747204954,-1.1023845118873705,-0.4681616757048224,-0.1687769828484647,0.05379190065659106,0.31181423463147834,-0.03681136165520135,-0.5567953018794021,-0.22983570310206392,-0.39922441090237154,1.0819419642817152,2.0155494933206204,-0.39922441090237154,-0.9251172595382111,0.1187898931846158,-0.125444987829781,0.975581612872219,2.5079585276238405,0.23105915300575036,1.1095168702026952,-0.17074661898567747,1.353751751217092,-0.9861759797918104,-0.395285138627946,-0.7537589156006902,0.2290895168685376,-1.9572065954377607,0.9401281624023875,0.38272113557114196,0.845585627816169,0.23105915300575036,0.8514945362278079,0.2586340589267308,-1.9532673231633348,-1.5987328184650162,-1.1634432321409696,0.5422616626853852,1.548745728801168,0.4713547617457216,-1.6460040857581255,0.3787818632967164,1.0228528801653283,0.6151381997622621,-1.0452650639081968,0.36302477419901313,-1.0098116134383648,-2.085232944356598,-0.49573658162580286,-0.7636070962867546,0.8967961673837038,-0.9369350763614883,0.6368041972716038,-0.11165753486929106,-0.040750633929627446,0.13454698228231907,1.5054137337824847,-2.195532568040519,0.7136200066229063,0.6860451007019257,1.702377347503773,0.4260531305898257,-0.8975423536172307,0.2606036950639436,0.2842393287104979,0.5343831181365342,0.26651260347558187,-0.858149630872973,0.4516584003735928,-1.2028359548852272,-1.0235990663988552,-0.4878580370769512,-0.4996758539002284,-1.638125541209274,-0.23377497537648945,-0.3302871460999207,1.2237557661610425,-1.3466193929017671,0.09515425953806145,-0.42482968068613924,0.26651260347558187,-0.8699674476962502,-0.9290565318126367,0.34726768510131045,0.5087778483527665,-0.6277022028190656,-0.8108783635798638,-0.25544097288583156,2.5237156167215438,-0.7892123660705223,0.8199803580324019,0.6151381997622621,-1.0354168832221324,-0.3204389654138563,0.4969600315294893,0.5639276601947274,-1.0767792421036027,-0.17074661898567747,1.542836820389529,1.2158772216121903,0.3039356900826267,0.4043871330804836,1.8185858795993324,-0.6414896557795562,1.028761788576967,-0.3046818763161536,-0.07029517598782066,1.093759781104992,-0.9999634327523003,-0.4051333193140104,-0.7439107349146258,0.7589216377788022,1.6432882633873864,0.8514945362278079,0.9243710733046843,-1.0787488782408154,-0.23771424765091556,-0.6946698314843037,-0.8955727174800179,-0.6769431062493877,0.5225653013132564,-1.0728399698291773,-0.39331550249073327,1.4285979244311817,-1.0728399698291773,-1.092536331201306,1.6570757163478764,-0.6434592919167689,0.5580187517830885,0.6702880116042225,1.548745728801168,-0.5567953018794021,-0.10180935418322665,0.25666442278951745,0.1936360663987055,-1.6322166327976353,-0.4524045866071197,-1.2382894053550588,0.733316367995035,-1.8094838851467945,0.7352860041322478,1.042549241537457,0.1227291654590419,0.1424255268311707,-0.9566314377336171,-0.994054524340662,-0.5174025791351444,0.5560491156458757,1.6019259045059153,-1.2501072221783365,-2.0064474988680825,1.282844850277429,-0.17271625512289024,0.8239196303068275,-0.49573658162580286,0.5324134819993208,0.301966053945414,0.7175592788973317,-0.7675463685611806,-0.23968388378812833,-0.23377497537648945,0.8357374471301046,0.14045589069395795,-1.1595039598665435,-0.18059479967174188,-1.9749333206726765,0.23696806141738866,-0.1589288021624003,0.7608912739160154,-0.5370989405072732,0.6368041972716038,-0.9586010738708299,-0.06241663143896903,0.46347621719687,-0.8522407224613342,1.0642152390467987,-0.22392679469042504,-0.47013131184203516,-0.08014335667388507,-0.9920848882034486,0.5205956651760436,-0.395285138627946,-0.42482968068613924,0.351206957375736,0.481202942431786,-0.007266819597008135,-0.6198236582702146,1.3379946621193899,-0.6966394676215165,0.2842393287104979,1.024822516302541,-0.9546618015964043,0.31969277918033,-0.9251172595382111,0.9499763430884519,-1.6105506352882935,-0.5607345741538281,1.0740634197328631,0.6230167443111138,0.38666040784556804,0.8180107218951885,0.10697207636133862,-0.7970909106193739,0.5008993038039148,0.22121097231968595,-0.09983971804601388,0.6190774720366877,-0.2495320644741927,-0.1392324407902715,-0.8148176358542893,1.773284248443436,-2.110838214140365,0.03803481155888779,1.1114865063399084,-1.3741942988227476,0.7293770957206089,0.39650858853163246,0.17984861343821557,-0.16680734671125194,0.536352754273747,-0.976327799105746,-0.5489167573305505,0.016368814049546213,0.43393167513867675,-1.6282773605232095,0.28226969257328516,-0.759667824012329,2.0155494933206204,1.3202679368844732,-1.2146537717085044,-0.4051333193140104,0.8692212614627239,-0.4996758539002284,1.3478428428054543,1.0740634197328631,0.7116503704856935,-1.468736833408966,1.6807113499944306,0.8810390782860011,-1.6578219025814027,0.11485062091019026,0.5028689399411276,1.3675392041775831,-0.032872089380775814,0.39453895239441916,0.0616704452054427,-0.3716495049813911,0.5028689399411276,0.38272113557114196,-1.7306984396582792,-0.05453808689011739,0.22515024459411148,-1.0334472470849196,-0.16680734671125194,0.43984058355031563,0.6289256527227521,-0.25544097288583156,-1.4470708358996243,1.2454217636703835,-0.4484653143326936,0.09712389567527423,0.28817860098492404,2.02933694628111,2.145545478376671,0.1187898931846158,-1.917813872693503,0.2349984252801759,-1.4391922913507729,-0.20423043331829624,-0.40119404703958433,-0.6867912869354521,1.3498124789426664,0.2586340589267308,0.7628609100532282,0.9322496178535359,-0.2711980619835343,-0.17468589126010303,-0.10968789873207828,0.5974114745273461,-0.20620006945550956,-0.6395200196423434,-0.023023908694711406,-1.0117812495755774,0.666348739329797,-2.0202349518285727,-0.09590044577158778,1.4916262808219936,0.23893769755460198,-0.20816970559272233,-1.8902389667725226,0.10500244022412586,-0.0840826289483106,0.7293770957206089,-2.847482129457983,0.11682025704740304,-0.8187569081287155,0.17393970502657669,1.3360250259821764,1.3379946621193899,-1.7937267960490915,0.7628609100532282,-0.7636070962867546,-0.3874065940790944,-0.3125604208650047,0.28226969257328516,-0.9310261679498495,1.739800434110817,0.04591335610773943,-0.6946698314843037,-0.5961880246236597,0.28030005643607236,-0.028932817106350275,1.3931444739613497,0.2507555143778792,0.46347621719687,0.5146867567644053,0.5186260290388308,-1.0649614252803257,1.562533181761658,-1.1988966826108012,-0.2731676981207471,0.512717120627192,0.5816543854296429,-2.8986926690255177,-0.032872089380775814,0.2290895168685376,0.7805876352881442,-0.49573658162580286,-0.22589643082763838,0.7746787268765054,-0.611945113721363,0.0813668065775715,0.7372556402694606,-0.7380018265029874,0.40832640535490966,1.9111587780483374,-1.0452650639081968,-0.4287689529605648,-1.671609355541893,-0.5331596682328477,-1.8961478751841612,-0.5804309355259569,-1.0137508857127908,-1.4037388408809408,-0.38346732180466886,0.2527251505150919,0.26454296733836913,-0.40907259158843595,-0.4977062177630156,-0.7537589156006902,2.0313065824183236,-0.2101393417299351,1.4719299194498647,-0.5095240345862928,-1.0728399698291773,1.2020897686517003,-0.9211779872637851,-2.5205225306806445,-0.8620889031473986,-0.2692284258463215,1.03073142471418,0.548170571097024,0.2133324277708343,0.6269560165855393,-0.028932817106350275,-0.09196117349716225,-0.37558877725581724,-0.6454289280539817,-0.489827673214164,-0.14317171306469703,-0.759667824012329,2.3641750896073,-0.044689906204052984,-0.49376694548859007,1.6846506222688562,-0.25741060902304436,0.18969679412427998,-1.1614735960037568,-0.05256845075290462,1.0760330558700764,-0.531190032095635,-0.7123965567192198,0.561958024057514,1.8264644241481833,0.400447860806058,0.764830546190441,-0.25544097288583156,-0.5272507598212088,-0.1451413492019098,1.0327010608513927,-0.40119404703958433,-0.0643862675761818,-1.1023845118873705,0.7904358159742086,-0.49179730935137733,0.6565005586437326,0.0715186258915071,1.5526850010755935,-0.16680734671125194,0.975581612872219,-0.7399714626402002,0.9420977985396003,-0.7261840096797098,1.150879229084166,-0.5961880246236597,-0.4051333193140104,1.7358611618363915,0.26454296733836913,-0.009236455734221464,1.6511668079362374,1.0464885138118831,-1.0708703336919638,-0.07226481212503343,-0.8975423536172307,-1.0669310614175382,-0.15695916602518753,0.8810390782860011,1.8047984266388424,0.6643791031925842,-0.5174025791351444,0.5639276601947274,-0.822696180403141,-0.6099754775841502,1.3734481125892208,0.5954418383901333,-0.5233114875467832,-0.7202751012680714,-0.3204389654138563,1.2572395804936614,1.5901080876826377,-0.2810462426695987,-0.0643862675761818,0.26651260347558187,0.6919540091135646,0.863312353051085,0.5501402072342368,2.5217459805843307,0.067579353617081,0.38272113557114196,0.7549823655043766,-0.9586010738708299,-0.12150571555535546,0.11485062091019026,0.018338450186758982,-0.2810462426695987,-0.5134633068607188,-0.5095240345862928,-0.17862516353452912,1.066184875184012,0.7411949125438867,0.7805876352881442,-1.3032873978830841,0.7628609100532282,-0.023023908694711406,-1.0964756034757315,-1.0708703336919638,0.1325773461451063,-0.30074260404172753,0.0616704452054427,1.0878508726933531,-1.2461679499039104,0.0006117249518429412,0.1837878857126411,-0.4464956781954808,1.0740634197328631,-1.043295427770984,0.301966053945414,-1.051173972319835,-0.8483014501869086,0.5698365686063657,-1.5317651897997782,-0.6414896557795562,-0.9723885268313198,0.9854297935582834,0.49302075925506317,-0.09983971804601388,0.4733243978829344,0.5698365686063657,-0.6080058414469368,1.4069319269218405,0.7195289150345445,-0.42089040841171316,0.22121097231968595,-0.1490806214763359,0.6998325536624157,0.7687698184648666,-0.39331550249073327,0.32166241531754275,-0.6907305592098781,0.4536280365108056,0.6427131056832426,2.1573632951999477,-0.8364836333636315,-1.4234352022530696,0.8475552639533818,-1.9532673231633348,-0.35983168815811395,-2.195532568040519,2.819161037303476,-1.1319290539455635,-0.8364836333636315,1.028761788576967,-1.4234352022530696,-1.8488766078910521,-1.317074850843574,-0.4366474975094164,1.8441911493831,0.5087778483527665,-0.7222447374052842,1.0681545113212247,-0.1490806214763359,0.05379190065659106,1.0996686895166308,0.9066443480697682,0.1640915243405123,0.4792333062945732,-1.0826881505152417,-1.4529797443112629,0.6171078358994749,0.8554338085022334,0.6978629175252029,1.2375432191215325,1.9387336839693186,1.9860049512624272,0.18181824957542833,-0.858149630872973,-0.9428439847731266,0.634834561134391,1.8382822409714612,0.32757132372918163,-0.7261840096797098,1.0327010608513927,1.2808752141402155,0.4871118508434249,1.1922415879656358,-0.7833034576588833,-0.6198236582702146,-1.8173624296956459,0.6683183754670097,-1.3446497567645546,-0.35983168815811395,-0.7872427299333095,3.8177665588704066,-0.05256845075290462,0.059700809068229374,2.1219098447301157,-1.092536331201306,-2.225077110098712,0.06954898975429377,-0.4366474975094164,0.5087778483527665,1.0976990533794175,0.2940875093965623,-0.2515017006114055,1.781162792992288,-0.048629178478479085,0.3649944103362259,0.9775512490094324,-0.611945113721363,0.15030407138002236,-2.063566946847256,0.17787897730100224,-0.37558877725581724,-1.5593400957207586,-0.7636070962867546,1.389205201686924,-0.8029998190310121,0.44377985582474117,1.1528488652213784,-0.15105025761354868,-0.6493682003284078,1.1390614122608884,-0.8089087274426511,0.5008993038039148,-1.3032873978830841,1.2513306720820223,-0.6001272968980857,0.036065175421675026,0.5186260290388308,-0.9231476234009978,-1.285560672648168,-1.104354148024583,-0.18650370808338076,-0.8995119897544435,0.018338450186758982,-0.3716495049813911,0.5402920265481724,2.1987256540814184,0.2842393287104979,0.9440674346768131,0.4949903953922765,1.9899442235368527,-0.6769431062493877,-0.8345139972264182,-0.489827673214164,-0.08211299281109784,-1.0334472470849196,-0.39331550249073327,-0.6848216507982393,0.21136279163362154,0.8475552639533818,0.8258892664440401,-1.466767197271753,0.6722576477414358,0.6387738334088165,0.23893769755460198,0.8180107218951885,0.8239196303068275,-1.1457165069060535,-1.222532316257356,0.26651260347558187,0.660439830918158,-1.9453887786144832,-0.5331596682328477,-0.9093601704405079,1.6235919020152576,-0.5863398439375953,-0.2002911610438707,-0.28892478721845033,2.9353695693990356,-1.0216294302616418,-2.97550847837682,1.6590453524850886,1.2257254022982547,0.3768122271595037,-0.16680734671125194,0.7589216377788022,0.2862089648477107,-2.3885569094873813,0.8987658035209172,1.0228528801653283,0.3669640464734393,-0.5567953018794021,-0.17665552739731635,-0.6848216507982393,-0.854210358598547,1.416780107607905,-0.4543742227443325,1.59798663223149,1.2434521275331714,0.7136200066229063,0.21136279163362154,-1.2461679499039104,0.46347621719687,0.00258136108905627,-0.023023908694711406,1.6393489911129597,-0.728153645816923,0.4615065810596572,-0.48391876480252566,0.7904358159742086,-0.5508863934677637,-0.12347535169256822,-0.31059078472779195,-1.3781335710971738,0.9066443480697682,0.3098445984942656,-0.18059479967174188,1.6748024415827918,0.04394371997052666,-0.4622527672931841,0.4536280365108056,1.1449703206725272,-1.317074850843574,-0.47407058411646125,0.2901482371221368,-0.4051333193140104,1.1252739593003984,0.33938914055245883,0.9716423405977935,-1.1437468707688407,-1.7760000708141754,-1.2028359548852272,1.4876870085475682,-1.3328319399412774,-1.1319290539455635,0.028186630872823387,0.27045187575000795,0.999217246518774,0.055761536793803836,-0.6257325666818528,0.8377070832673174,1.0858812365561408,-1.2776821280993165,-1.389951387920451,-0.4681616757048224,-0.42679931682335204,-0.34998350747204954,0.7352860041322478,0.17590934116378945,-1.1752610489642468,-0.37361914111860445,0.5895329299784945,-0.044689906204052984,-0.3046818763161536,-0.37558877725581724,-0.22786606696485115,1.4384461051172461,1.30451084778677,1.5211708228801868,-0.003327547322582597,0.48908148698063764,-0.9507225293219782,0.2862089648477107,-0.8325443610892054,0.03803481155888779,-0.31453005700221803,-0.0683255398506079,2.5906832453867814,2.630075968131039,-1.0472347000454096,-0.28301587880681145,-0.952692165459191,0.148334435242809,1.6610149886223018,-0.08605226508552337,-0.539068576644486,-1.407678113155367,-1.2501072221783365,1.3202679368844732,0.7490734570927378,1.1587577736330172,0.6052900190761977,-1.2698035835504653,-1.0984452396129443,-1.486463558643882,1.1390614122608884,-0.3421049629231979,0.9913387019699224,0.6899843729763513,-1.5238866452509268,-1.1713217766898212,-0.6257325666818528,0.4221138583153996,-0.6986091037587299,1.150879229084166,0.04591335610773943,-0.01514536414585977,-0.3263478738254952,0.9558852515000902,1.5684420901732967,0.20545388322198269,-0.871937083833463,-0.875876356107889,-1.6085809991510807,-0.8483014501869086,-0.8384532695008443,-0.36967986884417836,0.004550997226269039,-0.10771826259486551,-0.07620408439945897,0.21530206390804707,-0.7320929180913486,-0.840422905638057,0.4555976726480189,-0.19832152490665794,-1.5908542739161646,-0.18847334422059353,-0.50755439844908,-1.1220808732594991,0.7372556402694606,0.44968876423638005,0.28030005643607236,-1.4746457418206047,0.07742753430314542,0.9558852515000902,-0.9448136209103399,0.20151461094755713,0.5678669324691529,0.7786179991509309,0.6998325536624157,0.845585627816169,1.0839116004189275,1.3281464814333255,-0.1490806214763359,0.301966053945414,0.18575752184985386,-0.9625403461452554,-0.5607345741538281,-0.3302871460999207,0.6407434695460292,0.31181423463147834,0.35711586578737486,0.41423531376654793,-1.55343118730912,0.21530206390804707,0.6722576477414358,0.6860451007019257,0.45953694492244446,0.9204318010302587,0.1542433436544479,0.004550997226269039,-0.125444987829781,1.422689016019543,-1.986751137495954,-0.840422905638057,0.014399177912333444,-1.0492043361826222,0.4181745860409741,0.0518222645193783,-0.1352931685158454,-0.9487528931847655,-0.9132994427149334,0.4851422147062121,0.7707394546020798,1.7358611618363915,-0.23377497537648945,0.46347621719687,0.6958932813879901,-0.07620408439945897,0.31378387076869113,-1.4273744745274959,-1.7720607985397496,0.10894171249855139,0.9617941599117291,0.18772715798706663,0.5501402072342368,0.20348424708476992,0.5166563929016181,1.704346983640985,-0.871937083833463,0.3787818632967164,-2.2408341991964154,-2.9124801219860075,-1.5829757293673132,0.8849783505604266,0.036065175421675026,1.1823934072795717,0.08924535112642258,0.301966053945414,-0.6670949255633233,0.20151461094755713,-1.9040264197330128,-0.20816970559272233,-0.724214373542497,0.9184621648930459,0.7116503704856935,1.8382822409714612,0.09909353181248699,-0.724214373542497,0.5698365686063657,-0.4524045866071197,-1.8035749767351559,-0.3874065940790944,0.067579353617081,0.3649944103362259,0.08727571498920982,0.6269560165855393,1.048458149949096,-0.9645099822824688,-0.25544097288583156,0.04985262838216497,-0.6533074726028333,0.08924535112642258,2.9747622921432932,1.59798663223149,-0.9822367075173842,-1.1752610489642468,-0.6533074726028333,0.33151059600360716,-1.519947372976501,0.33741950441524604,-0.4563438588815452,-1.2776821280993165,0.6742272838786486,1.1666363181818682,-1.6400951773464867,-0.6986091037587299,-0.6001272968980857,1.5566242733500188,0.0616704452054427,-0.33422641837434686,-1.6322166327976353,-0.4878580370769512,2.2755414634327207,-0.30862114859057915,0.8278589025812529,-0.8049694551682249,1.2001201325144881,0.1187898931846158,-1.4431315636251985,0.764830546190441,0.24287696982902754,0.8180107218951885,-0.22786606696485115,0.2862089648477107,-0.23574461151370277,-1.1260201455339247,-0.7025483760331553,-0.21210897786714789,1.7496486147968815,-0.661186017151685,2.2066041986302696,-0.5351293043700605,0.04591335610773943,3.224906081569329,-0.3421049629231979,-0.6473985641911945,0.8731605337371494,0.6624094670553714,-0.9881456159290231,0.5521098433714496,-0.7478500071890518,1.241482491395958,1.028761788576967,0.6722576477414358,-0.8384532695008443,-1.1535950514549052,-0.6040665691725113,0.3649944103362259,1.3734481125892208,1.0208832440281155,-1.0314776109477062,-0.7813338215216706,-0.6986091037587299,0.8436159916789563,0.7943750882486342,-0.8660281754218248,-1.7070628060117248,0.09318462340084868,-1.2776821280993165,0.4043871330804836,-0.16680734671125194,-1.137837962357202,0.3039356900826267,0.2862089648477107,-0.12150571555535546,0.536352754273747,0.016368814049546213,-0.1608984382996131,1.7122255281898373,-0.2613498812974699,-0.5233114875467832,-0.5784612993887436,0.7136200066229063,1.9466122285181695,-1.1949574103363756,-0.47407058411646125,-0.42482968068613924,0.8061929050719114,0.8495249000905951,-0.07620408439945897,0.9873994296954968,-0.003327547322582597,0.15227370751723512,1.5093530060569103,0.4457494919619545,1.4640513749010138,2.4567479880563052,0.8869479866976394,-1.5396437343486298,0.26454296733836913,-0.8837549006567402,-1.1260201455339247,-1.2166234078457172,1.3419339343938153,-0.5193722152723572,1.501474461508058,0.1424255268311707,-0.6493682003284078,-0.23771424765091556,0.5284742097248952,-1.0393561554965578,0.8101321773463375,1.6984380752293462,-0.4386171336466292,-0.8857245367939535,0.24287696982902754,-0.36771023270696557,1.1607274097702305,-0.40907259158843595,0.26257333120115633,-0.09787008190880112,-0.63755038350513,0.400447860806058,1.2060290409261258,-0.06635590371339456,1.8402518771086744,0.08924535112642258,0.10106316794970031,-0.1608984382996131,0.2487858782406664,-1.0216294302616418,0.9795208851466451,0.24090733369181477,0.19757533867313104,1.2119379493377647,-0.6217932944074274,-1.748425164893195,-0.9507225293219782,-0.0683255398506079,0.2783304202988596,1.79691988208999,-0.18256443580895465,1.2375432191215325,-0.6237629305446402,-0.40119404703958433,0.04591335610773943,-3.028688654081568,0.6269560165855393,0.5245349374504698,-0.4169511361372876,-0.13332353237863262,-0.1352931685158454,0.530443845862108,-1.0826881505152417,0.6131685636250493,1.8028287905016291,-1.720850258972215,-1.389951387920451,-1.3801032072343866,-1.2205626801201432,0.026216994735610618,0.26257333120115633,0.9952779742443478,-0.20226079718108347,-0.7557285517379029,-0.39331550249073327,0.733316367995035,2.383871450979429,-1.488433194781095,0.7924054521114214,0.7352860041322478,-1.0472347000454096,1.3911748378241373,1.4522335580777361,0.6466523779576682,-0.8423925417752698,-0.3263478738254952,0.9145228926186199,-1.900087147458587,-1.007841977301152,-0.2416535199253411,-0.06241663143896903,-1.4273744745274959,-0.9113298065777207,-0.7990605467565867,-1.118141600985073,0.004550997226269039,-0.678912742386601,-0.9389047124987011,0.10500244022412586,-0.531190032095635,-0.7970909106193739,1.2749663057285767,1.066184875184012,0.4654458533340833,-0.25347133674861827,1.2060290409261258,-0.19241261649501906,-1.3643461181366832,-0.45043495046990634,0.3768122271595037,0.19560570253591827,-0.17074661898567747,1.5704117263105088,-1.5967631823278035,-0.4071029554512232,0.5087778483527665,0.8298285387184663,-0.4386171336466292,0.39847822466884525,1.534958275840678,-0.19438225263223183,-0.18256443580895465,0.7924054521114214,0.28817860098492404,0.15030407138002236,-0.7990605467565867,-0.22786606696485115,-0.4425564059210553,-1.415556657704218,-1.309196306294723,-1.141777234631628,1.6078348129175544,-1.4057084770181536,-1.2441983137666976,-0.25544097288583156,-0.46619203956760963,2.399628540077132,-0.10180935418322665,-0.5331596682328477,1.458142466489375,-1.419495929978644,0.8692212614627239,-0.2751373342579604,0.3590855019245876,0.20151461094755713,-1.1398075984944147,1.093759781104992,0.04394371997052666,-0.7793641853844578,1.9269158671460407,0.5146867567644053,-0.44452604205826807,-0.9290565318126367,-0.7183054651308586,1.3340553898449632,-0.36967986884417836,-0.11756644328092992,-2.4397674490549166,-0.38346732180466886,-0.42089040841171316,-0.25544097288583156,0.37484259102229034,0.9637637960489419,-0.7458803710518385,-0.1490806214763359,0.5008993038039148,0.8810390782860011,0.536352754273747,0.7037718259368418,-0.5528560296049765,0.4043871330804836,0.7845269075625698,-1.0767792421036027,-1.0590525168686866,-1.5494919150346942,0.25666442278951745,-0.25544097288583156,-0.1549895298879742,1.0031565187931994,2.1849382011209286,1.9328247755576797,0.2940875093965623,1.704346983640985,0.1187898931846158,1.8875231444017833,-1.3249533953924257,-0.0742344482622462,0.22711988073132425,-0.1392324407902715,0.09515425953806145,1.0208832440281155,2.135697297690607,0.06364008134265547,-1.3131355785691485,-1.4451011997624115,0.2349984252801759,0.0577311729310166,0.6505916502320936,-0.710426920582007,-0.23968388378812833,-0.63755038350513,0.1640915243405123,-0.023023908694711406,0.07939717044035818,0.16015225206608674,-0.05256845075290462,0.14045589069395795,-0.5469471211933377,0.02030808632397175,1.1587577736330172,-0.20620006945550956,0.44181021968752837,1.9407033201065307,0.1424255268311707,0.8613427169138723,-0.7557285517379029,1.0681545113212247,-1.068900697554751,1.5566242733500188,0.04985262838216497,1.2257254022982547,-0.4977062177630156,0.7727090907392926,1.7102558920526238,-1.5317651897997782,-2.628852518227353,1.241482491395958,0.8928568951092782,0.46347621719687,-1.1673825044153952,-0.18847334422059353,-2.4574941742898324,-0.5942183884864469,-1.3288926676668518,-1.6657004471302543,0.8652819891882978,0.9361888901279615,1.548745728801168,-0.611945113721363,-1.5475222788974814,-0.3558924158836884,0.6722576477414358,-0.6198236582702146,0.7668001823276538,-0.7478500071890518,1.339964298256602,-0.2101393417299351,1.9249462310088274,-0.125444987829781,-1.5790364570928874,1.2493610359448102,-0.6336111112307046,0.09909353181248699,-0.6080058414469368,-0.03878099779241468,0.5974114745273461,1.739800434110817,-0.0742344482622462,0.4792333062945732,-1.285560672648168,0.2290895168685376,-1.91584423655629,0.067579353617081,1.2533003082192358,0.09121498726363592,1.0819419642817152,0.02424735859839785,0.06364008134265547,-0.9211779872637851,1.1607274097702305,0.6565005586437326,1.0583063306351603,-0.24362315606255386,-0.629671838956279,0.10697207636133862,-0.01514536414585977,0.18575752184985386,-0.9743581629685332,-0.678912742386601,0.39847822466884525,-0.9113298065777207,0.40635676921769687,-1.340710484490129,-0.8167872719915027,-0.458313495018758,2.2972074609420625,-1.1023845118873705,0.02030808632397175,-0.6355807473679173,1.7279826172875394,0.7530127293671638,-2.1049293057287266,-0.6730038339749621,-0.05256845075290462,-1.0807185143780282,-0.5804309355259569,0.09712389567527423,0.4299924028642512,-0.2948336956300892,-1.236319769217846,-0.09590044577158778,1.0149743356164767,-2.5362796197783473,0.5245349374504698,0.27439114802443354,2.848705579361669,0.9598245237745163,-0.6158843859957884,-0.4287689529605648,-0.4819491286653129,0.4536280365108056,-1.2796517642365297,0.3452980489640971,0.055761536793803836,0.6958932813879901,-0.3421049629231979,0.5718062047435785,0.008490269500694578,-0.09590044577158778,0.4792333062945732,0.39059968011999363,0.14439516296838348,0.08530607885199705,0.3669640464734393,1.221786130023829,1.422689016019543,-0.2002911610438707,-0.9723885268313198,0.2960571455337751,-1.0452650639081968,-0.5745220271143181,0.3709033187478648,-0.6336111112307046,0.42408349445261234,0.3059053262198395,-1.7897875237746657,1.2139075854749781,0.49105112311785043,-0.42286004454892645,-0.7872427299333095,-2.0931114889054494,2.0766082135742203,-1.2520768583155493,0.026216994735610618,-0.5587649380166149,-0.43467786137220366,0.28817860098492404,0.530443845862108,0.8908872589720654,-0.7557285517379029,-0.588309480074808,-0.5134633068607188,0.5658972963319401,0.9263407094418971,-0.36574059656975283,-0.7261840096797098,0.1325773461451063,0.9243710733046843,1.2158772216121903,-0.9901152520662359,-1.007841977301152,0.7628609100532282,0.5521098433714496,0.481202942431786,0.993308338107135,0.8849783505604266,-1.2973784894714453,0.46347621719687,0.20742351935919545,0.6821058284275002,-0.7892123660705223,-0.38346732180466886,-1.2028359548852272,1.27693594186579,1.5881384515454255,-2.3412856421942725,2.9255213887129714,-0.4051333193140104,-1.9040264197330128,1.0760330558700764,-0.17074661898567747,-1.9197835088307158,-0.994054524340662,-0.875876356107889,0.13060771000789353,-2.1718969343939647,-1.671609355541893,-0.9546618015964043,-0.6592163810144722,-0.6828520146610265,-0.1451413492019098,0.4299924028642512,0.17590934116378945,0.7037718259368418,-1.5947935461905904,0.9657334321861546,-3.505340599287085,-0.710426920582007,-1.1220808732594991,-0.16483771057403862,0.09712389567527423,-0.3263478738254952,0.07545789816593264,-1.2835910365109553,0.9420977985396003,0.17590934116378945,-0.14711098533912315,0.9027050757953426,-0.23968388378812833,0.796344724385847,0.8199803580324019,-0.18256443580895465,0.8317981748556791,-1.0039027050267264,-0.08014335667388507,0.4713547617457216,0.016368814049546213,-0.17665552739731635,-0.6848216507982393,-0.19438225263223183,-0.9073905343032951,0.6308952888599648,0.5599883879203013,-1.6322166327976353,0.8298285387184663,0.660439830918158,0.4162049499037613,1.0543670583607343,0.9598245237745163,1.0149743356164767,-0.791182002207735,-1.0590525168686866,0.34726768510131045,-0.12741462396699432,1.0602759667723731,-0.30862114859057915,-0.63755038350513,-0.25347133674861827,0.0478829922449522,-2.561884889562115,0.5146867567644053,0.6761969200158614,0.512717120627192,-1.3032873978830841,1.1567881374958038,-0.9782974352429586,0.04985262838216497,1.726012981150327,-0.9664796184196816,-0.265289153571896,1.066184875184012,-0.6493682003284078,-0.4386171336466292,-0.5981576607608724,-0.8305747249519926,-1.7129717144233632,-0.19241261649501906,-0.9152690788521467,-0.5666434825654665,-0.25938024516025715,-0.970418890694107,-0.11953607941814269,-0.8463318140496959,1.1922415879656358,-0.5843702078003825,-0.8955727174800179,0.18181824957542833,0.6742272838786486,-0.5804309355259569,-0.45043495046990634,0.530443845862108,1.326176845296112,-0.43073858909777757,-0.5508863934677637,-0.4524045866071197,-0.4563438588815452,1.3517821150798797,-1.0905666950640927,0.5462009349598114,0.5402920265481724,0.18772715798706663,0.5698365686063657,-0.1451413492019098,1.6038955406431288,0.3413587766896716,-0.6730038339749621,1.4857173724103558,0.7254378234461833,-0.9113298065777207,-0.5824005716631697,0.548170571097024,0.5324134819993208,-0.6040665691725113,0.3492373212385232,-1.6755486278163187,1.7063166197781983,-1.7110020782861506,0.17787897730100224,0.39453895239441916,-1.285560672648168,0.31969277918033,-0.3854369579418816,1.2119379493377647,-1.4588886527229017,-0.3046818763161536,-1.6794879000907441,0.33741950441524604,0.4615065810596572,0.5934722022529205,0.21924133618247318,0.2349984252801759,-0.1352931685158454,-0.328317509962708,-0.5843702078003825,-2.2723483773918214,0.13454698228231907,1.1036079617910564,1.5743509985849355,0.4024174969432708,0.010459905637907347,0.4871118508434249,0.5836240215668562,2.054942216064878,-1.5928239100533776,0.03212590314724949,-0.9192083511265723,-0.1589288021624003,-0.14317171306469703,0.652561286369307,-0.5331596682328477,0.660439830918158,-1.2698035835504653,1.3852659294124985,0.2606036950639436,0.49892966766670205,-0.7970909106193739,-1.019659794124429,-0.7852730937960961,0.5205956651760436,-1.3348015760784901,-0.8384532695008443,0.351206957375736,-0.0840826289483106,1.1114865063399084,0.08924535112642258,-0.9369350763614883,-0.45043495046990634,0.6033203829389849,1.3931444739613497,1.1173954147515464,1.822525151873758,0.21727170004525986,-0.19241261649501906,0.49892966766670205,-1.2560161305899749,-0.5430078489189121,0.8692212614627239,-0.9861759797918104,1.1902719518284237,-0.822696180403141,0.5796847492924301,-1.4352530190763468,1.3202679368844732,1.1390614122608884,-1.4588886527229017,0.33938914055245883,2.210543470904695,-0.3381656906487724,-0.8187569081287155,0.48908148698063764,2.4587176241935187,0.010459905637907347,-1.6164595436999323,3.28005589341129,0.010459905637907347,0.9066443480697682,-1.0570828807314738,-0.395285138627946,0.055761536793803836,-0.01514536414585977,0.04985262838216497,-0.4819491286653129,0.5324134819993208,0.6072596552134105,-0.3480138713348368,-1.9138746004190772,0.11682025704740304,-0.47013131184203516,-0.32437823768828244,-0.18059479967174188,0.5166563929016181,-1.4588886527229017,-0.9842063436545976,0.38272113557114196,-2.697789783029804,-0.858149630872973,0.03803481155888779,0.3768122271595037,-0.5942183884864469,0.5974114745273461,0.2448466059662403,-0.0013579111853698278,-0.19832152490665794,0.5777151131552173,1.7476789786596683,-0.30074260404172753,-0.9389047124987011,-1.1949574103363756,-0.4543742227443325,-1.236319769217846,-1.1634432321409696,0.148334435242809,0.4654458533340833,0.2999964178082012,-0.0781737205366723,-0.5213418514095706,-0.33422641837434686,-0.8778459922451018,-0.4563438588815452,0.17393970502657669,0.6269560165855393,0.17393970502657669,-0.48391876480252566,-1.8862996944980968,0.8416463555417435,-0.35195314360926233,-0.12741462396699432,-0.31059078472779195,0.7707394546020798,0.0518222645193783,0.5974114745273461,0.4024174969432708,1.6098044490547665,0.4201442221781868,1.3084501200611967,1.8894927805389965,-1.535704462074204,-1.638125541209274,-0.5981576607608724,0.1424255268311707,0.796344724385847,-0.8049694551682249,-0.25544097288583156,-0.8364836333636315,0.1542433436544479,0.9795208851466451,-1.3505586651761934,-0.2771069703951732,0.33151059600360716,-0.6749734701121749,-0.611945113721363,0.24681624210345307,0.32166241531754275,1.101638325653844,0.8298285387184663,-0.47013131184203516,-1.0787488782408154,0.8928568951092782,0.7116503704856935,-1.169352140552608,-0.6257325666818528,-0.0013579111853698278,-0.24756242833697994,-0.29286405949287586,-0.060446995301756255,0.5855936577040689,-1.4313137468019212,0.2606036950639436,1.318298300747261,-0.11559680714371659,0.15818261592887342,-2.063566946847256,-0.26725878970910877,0.41423531376654793,-1.2304108608062077,2.068729669025368,-0.9999634327523003,1.3970837462357764,0.5402920265481724,-0.30074260404172753,0.7687698184648666,1.5566242733500188,0.7057414620740545,0.5639276601947274,0.8987658035209172,-0.21210897786714789,-0.31059078472779195,1.0740634197328631,-0.5981576607608724,0.27045187575000795,-1.0039027050267264,0.26454296733836913,-0.265289153571896,1.318298300747261,0.9007354396581299,1.048458149949096,1.7910109736783524,-2.215228929412648,1.2119379493377647,-2.5106743499945803,-0.04272027006684022,-1.0452650639081968,0.9558852515000902,0.13651661841953183,-1.1890485019247368,1.066184875184012,0.666348739329797,-0.38346732180466886,-1.0098116134383648,-0.2948336956300892,0.1837878857126411,-0.11953607941814269,0.8160410857579757,-1.2816214003737425,0.12075952932182914,-0.2002911610438707,-0.1904429803578063,-0.6454289280539817,-2.1581094814334745,-0.19241261649501906,0.11091134863576473,0.8574034446394462,0.8731605337371494,0.5974114745273461,0.7372556402694606,-0.9723885268313198,-1.2422286776294849,-2.197502204177732,0.3413587766896716,0.17590934116378945,-0.08605226508552337,-1.3525283013134062,0.9322496178535359,-0.18059479967174188,1.0070957910676255,1.395114110098563,-0.5134633068607188,0.9893690658327096,1.641318627250173,1.6157133574664053,-0.6867912869354521,-0.9960241604778748,0.536352754273747,-0.026963180969136944,2.02933694628111,1.3281464814333255,0.27045187575000795,-2.7529395948717643,0.6052900190761977,0.3256016875919683,-1.3879817517832382,-1.4372226552135603,0.6052900190761977,0.1837878857126411,-1.1752610489642468,-0.9034512620288689,-0.9448136209103399,1.235573582984319,-0.9290565318126367,0.7707394546020798,-1.4628279249973273,-0.37361914111860445,1.079972328144502,-0.007266819597008135,-0.7045180121703681,-0.47800985639088683,-1.1437468707688407,0.863312353051085,-0.07620408439945897,0.9204318010302587,-0.5114936707235062,0.26454296733836913,0.12666843773346745,-1.6420648134836997,-0.2908944233556631,0.43984058355031563,0.5560491156458757,0.8219499941696147,1.6019259045059153,-0.05453808689011739,-0.5292203959584216,-0.36967986884417836,0.3413587766896716,-0.6887609230726655,-0.8739067199706758,0.9145228926186199,0.5580187517830885,0.17590934116378945,-0.14711098533912315,-1.2205626801201432],\"type\":\"scatter3d\"}],                        {\"template\":{\"data\":{\"histogram2dcontour\":[{\"type\":\"histogram2dcontour\",\"colorbar\":{\"outlinewidth\":0,\"ticks\":\"\"},\"colorscale\":[[0.0,\"#0d0887\"],[0.1111111111111111,\"#46039f\"],[0.2222222222222222,\"#7201a8\"],[0.3333333333333333,\"#9c179e\"],[0.4444444444444444,\"#bd3786\"],[0.5555555555555556,\"#d8576b\"],[0.6666666666666666,\"#ed7953\"],[0.7777777777777778,\"#fb9f3a\"],[0.8888888888888888,\"#fdca26\"],[1.0,\"#f0f921\"]]}],\"choropleth\":[{\"type\":\"choropleth\",\"colorbar\":{\"outlinewidth\":0,\"ticks\":\"\"}}],\"histogram2d\":[{\"type\":\"histogram2d\",\"colorbar\":{\"outlinewidth\":0,\"ticks\":\"\"},\"colorscale\":[[0.0,\"#0d0887\"],[0.1111111111111111,\"#46039f\"],[0.2222222222222222,\"#7201a8\"],[0.3333333333333333,\"#9c179e\"],[0.4444444444444444,\"#bd3786\"],[0.5555555555555556,\"#d8576b\"],[0.6666666666666666,\"#ed7953\"],[0.7777777777777778,\"#fb9f3a\"],[0.8888888888888888,\"#fdca26\"],[1.0,\"#f0f921\"]]}],\"heatmap\":[{\"type\":\"heatmap\",\"colorbar\":{\"outlinewidth\":0,\"ticks\":\"\"},\"colorscale\":[[0.0,\"#0d0887\"],[0.1111111111111111,\"#46039f\"],[0.2222222222222222,\"#7201a8\"],[0.3333333333333333,\"#9c179e\"],[0.4444444444444444,\"#bd3786\"],[0.5555555555555556,\"#d8576b\"],[0.6666666666666666,\"#ed7953\"],[0.7777777777777778,\"#fb9f3a\"],[0.8888888888888888,\"#fdca26\"],[1.0,\"#f0f921\"]]}],\"heatmapgl\":[{\"type\":\"heatmapgl\",\"colorbar\":{\"outlinewidth\":0,\"ticks\":\"\"},\"colorscale\":[[0.0,\"#0d0887\"],[0.1111111111111111,\"#46039f\"],[0.2222222222222222,\"#7201a8\"],[0.3333333333333333,\"#9c179e\"],[0.4444444444444444,\"#bd3786\"],[0.5555555555555556,\"#d8576b\"],[0.6666666666666666,\"#ed7953\"],[0.7777777777777778,\"#fb9f3a\"],[0.8888888888888888,\"#fdca26\"],[1.0,\"#f0f921\"]]}],\"contourcarpet\":[{\"type\":\"contourcarpet\",\"colorbar\":{\"outlinewidth\":0,\"ticks\":\"\"}}],\"contour\":[{\"type\":\"contour\",\"colorbar\":{\"outlinewidth\":0,\"ticks\":\"\"},\"colorscale\":[[0.0,\"#0d0887\"],[0.1111111111111111,\"#46039f\"],[0.2222222222222222,\"#7201a8\"],[0.3333333333333333,\"#9c179e\"],[0.4444444444444444,\"#bd3786\"],[0.5555555555555556,\"#d8576b\"],[0.6666666666666666,\"#ed7953\"],[0.7777777777777778,\"#fb9f3a\"],[0.8888888888888888,\"#fdca26\"],[1.0,\"#f0f921\"]]}],\"surface\":[{\"type\":\"surface\",\"colorbar\":{\"outlinewidth\":0,\"ticks\":\"\"},\"colorscale\":[[0.0,\"#0d0887\"],[0.1111111111111111,\"#46039f\"],[0.2222222222222222,\"#7201a8\"],[0.3333333333333333,\"#9c179e\"],[0.4444444444444444,\"#bd3786\"],[0.5555555555555556,\"#d8576b\"],[0.6666666666666666,\"#ed7953\"],[0.7777777777777778,\"#fb9f3a\"],[0.8888888888888888,\"#fdca26\"],[1.0,\"#f0f921\"]]}],\"mesh3d\":[{\"type\":\"mesh3d\",\"colorbar\":{\"outlinewidth\":0,\"ticks\":\"\"}}],\"scatter\":[{\"fillpattern\":{\"fillmode\":\"overlay\",\"size\":10,\"solidity\":0.2},\"type\":\"scatter\"}],\"parcoords\":[{\"type\":\"parcoords\",\"line\":{\"colorbar\":{\"outlinewidth\":0,\"ticks\":\"\"}}}],\"scatterpolargl\":[{\"type\":\"scatterpolargl\",\"marker\":{\"colorbar\":{\"outlinewidth\":0,\"ticks\":\"\"}}}],\"bar\":[{\"error_x\":{\"color\":\"#2a3f5f\"},\"error_y\":{\"color\":\"#2a3f5f\"},\"marker\":{\"line\":{\"color\":\"#E5ECF6\",\"width\":0.5},\"pattern\":{\"fillmode\":\"overlay\",\"size\":10,\"solidity\":0.2}},\"type\":\"bar\"}],\"scattergeo\":[{\"type\":\"scattergeo\",\"marker\":{\"colorbar\":{\"outlinewidth\":0,\"ticks\":\"\"}}}],\"scatterpolar\":[{\"type\":\"scatterpolar\",\"marker\":{\"colorbar\":{\"outlinewidth\":0,\"ticks\":\"\"}}}],\"histogram\":[{\"marker\":{\"pattern\":{\"fillmode\":\"overlay\",\"size\":10,\"solidity\":0.2}},\"type\":\"histogram\"}],\"scattergl\":[{\"type\":\"scattergl\",\"marker\":{\"colorbar\":{\"outlinewidth\":0,\"ticks\":\"\"}}}],\"scatter3d\":[{\"type\":\"scatter3d\",\"line\":{\"colorbar\":{\"outlinewidth\":0,\"ticks\":\"\"}},\"marker\":{\"colorbar\":{\"outlinewidth\":0,\"ticks\":\"\"}}}],\"scattermapbox\":[{\"type\":\"scattermapbox\",\"marker\":{\"colorbar\":{\"outlinewidth\":0,\"ticks\":\"\"}}}],\"scatterternary\":[{\"type\":\"scatterternary\",\"marker\":{\"colorbar\":{\"outlinewidth\":0,\"ticks\":\"\"}}}],\"scattercarpet\":[{\"type\":\"scattercarpet\",\"marker\":{\"colorbar\":{\"outlinewidth\":0,\"ticks\":\"\"}}}],\"carpet\":[{\"aaxis\":{\"endlinecolor\":\"#2a3f5f\",\"gridcolor\":\"white\",\"linecolor\":\"white\",\"minorgridcolor\":\"white\",\"startlinecolor\":\"#2a3f5f\"},\"baxis\":{\"endlinecolor\":\"#2a3f5f\",\"gridcolor\":\"white\",\"linecolor\":\"white\",\"minorgridcolor\":\"white\",\"startlinecolor\":\"#2a3f5f\"},\"type\":\"carpet\"}],\"table\":[{\"cells\":{\"fill\":{\"color\":\"#EBF0F8\"},\"line\":{\"color\":\"white\"}},\"header\":{\"fill\":{\"color\":\"#C8D4E3\"},\"line\":{\"color\":\"white\"}},\"type\":\"table\"}],\"barpolar\":[{\"marker\":{\"line\":{\"color\":\"#E5ECF6\",\"width\":0.5},\"pattern\":{\"fillmode\":\"overlay\",\"size\":10,\"solidity\":0.2}},\"type\":\"barpolar\"}],\"pie\":[{\"automargin\":true,\"type\":\"pie\"}]},\"layout\":{\"autotypenumbers\":\"strict\",\"colorway\":[\"#636efa\",\"#EF553B\",\"#00cc96\",\"#ab63fa\",\"#FFA15A\",\"#19d3f3\",\"#FF6692\",\"#B6E880\",\"#FF97FF\",\"#FECB52\"],\"font\":{\"color\":\"#2a3f5f\"},\"hovermode\":\"closest\",\"hoverlabel\":{\"align\":\"left\"},\"paper_bgcolor\":\"white\",\"plot_bgcolor\":\"#E5ECF6\",\"polar\":{\"bgcolor\":\"#E5ECF6\",\"angularaxis\":{\"gridcolor\":\"white\",\"linecolor\":\"white\",\"ticks\":\"\"},\"radialaxis\":{\"gridcolor\":\"white\",\"linecolor\":\"white\",\"ticks\":\"\"}},\"ternary\":{\"bgcolor\":\"#E5ECF6\",\"aaxis\":{\"gridcolor\":\"white\",\"linecolor\":\"white\",\"ticks\":\"\"},\"baxis\":{\"gridcolor\":\"white\",\"linecolor\":\"white\",\"ticks\":\"\"},\"caxis\":{\"gridcolor\":\"white\",\"linecolor\":\"white\",\"ticks\":\"\"}},\"coloraxis\":{\"colorbar\":{\"outlinewidth\":0,\"ticks\":\"\"}},\"colorscale\":{\"sequential\":[[0.0,\"#0d0887\"],[0.1111111111111111,\"#46039f\"],[0.2222222222222222,\"#7201a8\"],[0.3333333333333333,\"#9c179e\"],[0.4444444444444444,\"#bd3786\"],[0.5555555555555556,\"#d8576b\"],[0.6666666666666666,\"#ed7953\"],[0.7777777777777778,\"#fb9f3a\"],[0.8888888888888888,\"#fdca26\"],[1.0,\"#f0f921\"]],\"sequentialminus\":[[0.0,\"#0d0887\"],[0.1111111111111111,\"#46039f\"],[0.2222222222222222,\"#7201a8\"],[0.3333333333333333,\"#9c179e\"],[0.4444444444444444,\"#bd3786\"],[0.5555555555555556,\"#d8576b\"],[0.6666666666666666,\"#ed7953\"],[0.7777777777777778,\"#fb9f3a\"],[0.8888888888888888,\"#fdca26\"],[1.0,\"#f0f921\"]],\"diverging\":[[0,\"#8e0152\"],[0.1,\"#c51b7d\"],[0.2,\"#de77ae\"],[0.3,\"#f1b6da\"],[0.4,\"#fde0ef\"],[0.5,\"#f7f7f7\"],[0.6,\"#e6f5d0\"],[0.7,\"#b8e186\"],[0.8,\"#7fbc41\"],[0.9,\"#4d9221\"],[1,\"#276419\"]]},\"xaxis\":{\"gridcolor\":\"white\",\"linecolor\":\"white\",\"ticks\":\"\",\"title\":{\"standoff\":15},\"zerolinecolor\":\"white\",\"automargin\":true,\"zerolinewidth\":2},\"yaxis\":{\"gridcolor\":\"white\",\"linecolor\":\"white\",\"ticks\":\"\",\"title\":{\"standoff\":15},\"zerolinecolor\":\"white\",\"automargin\":true,\"zerolinewidth\":2},\"scene\":{\"xaxis\":{\"backgroundcolor\":\"#E5ECF6\",\"gridcolor\":\"white\",\"linecolor\":\"white\",\"showbackground\":true,\"ticks\":\"\",\"zerolinecolor\":\"white\",\"gridwidth\":2},\"yaxis\":{\"backgroundcolor\":\"#E5ECF6\",\"gridcolor\":\"white\",\"linecolor\":\"white\",\"showbackground\":true,\"ticks\":\"\",\"zerolinecolor\":\"white\",\"gridwidth\":2},\"zaxis\":{\"backgroundcolor\":\"#E5ECF6\",\"gridcolor\":\"white\",\"linecolor\":\"white\",\"showbackground\":true,\"ticks\":\"\",\"zerolinecolor\":\"white\",\"gridwidth\":2}},\"shapedefaults\":{\"line\":{\"color\":\"#2a3f5f\"}},\"annotationdefaults\":{\"arrowcolor\":\"#2a3f5f\",\"arrowhead\":0,\"arrowwidth\":1},\"geo\":{\"bgcolor\":\"white\",\"landcolor\":\"#E5ECF6\",\"subunitcolor\":\"white\",\"showland\":true,\"showlakes\":true,\"lakecolor\":\"white\"},\"title\":{\"x\":0.05},\"mapbox\":{\"style\":\"light\"}}},\"scene\":{\"domain\":{\"x\":[0.0,1.0],\"y\":[0.0,1.0]},\"xaxis\":{\"title\":{\"text\":\"Total day minutes\"}},\"yaxis\":{\"title\":{\"text\":\"Total eve minutes\"}},\"zaxis\":{\"title\":{\"text\":\"Total night minutes\"}}},\"coloraxis\":{\"colorbar\":{\"title\":{\"text\":\"Cluster\"}},\"colorscale\":[[0.0,\"#0d0887\"],[0.1111111111111111,\"#46039f\"],[0.2222222222222222,\"#7201a8\"],[0.3333333333333333,\"#9c179e\"],[0.4444444444444444,\"#bd3786\"],[0.5555555555555556,\"#d8576b\"],[0.6666666666666666,\"#ed7953\"],[0.7777777777777778,\"#fb9f3a\"],[0.8888888888888888,\"#fdca26\"],[1.0,\"#f0f921\"]]},\"legend\":{\"tracegroupgap\":0},\"margin\":{\"t\":60}},                        {\"responsive\": true}                    ).then(function(){\n",
              "                            \n",
              "var gd = document.getElementById('386fe949-25b7-4e32-abbb-10572818d5be');\n",
              "var x = new MutationObserver(function (mutations, observer) {{\n",
              "        var display = window.getComputedStyle(gd).display;\n",
              "        if (!display || display === 'none') {{\n",
              "            console.log([gd, 'removed!']);\n",
              "            Plotly.purge(gd);\n",
              "            observer.disconnect();\n",
              "        }}\n",
              "}});\n",
              "\n",
              "// Listen for the removal of the full notebook cells\n",
              "var notebookContainer = gd.closest('#notebook-container');\n",
              "if (notebookContainer) {{\n",
              "    x.observe(notebookContainer, {childList: true});\n",
              "}}\n",
              "\n",
              "// Listen for the clearing of the current output cell\n",
              "var outputEl = gd.closest('.output');\n",
              "if (outputEl) {{\n",
              "    x.observe(outputEl, {childList: true});\n",
              "}}\n",
              "\n",
              "                        })                };                            </script>        </div>\n",
              "</body>\n",
              "</html>"
            ]
          },
          "metadata": {}
        }
      ]
    }
  ]
}